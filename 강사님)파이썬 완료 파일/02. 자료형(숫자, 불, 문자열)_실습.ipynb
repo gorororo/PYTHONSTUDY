{
 "cells": [
  {
   "cell_type": "markdown",
   "id": "5e3f9b41",
   "metadata": {},
   "source": [
    "**Data type(자료형) 이란**"
   ]
  },
  {
   "cell_type": "markdown",
   "id": "b592c49d",
   "metadata": {},
   "source": [
    "- 모든 프로그래밍 언어가 데이터를 다루기 위해 필요한 약속.\n",
    "- 프로그래밍 언어마다 조금씩 다르며, 어떤 프로그래밍 언어에 대해 배울 때 제일 먼저 익혀야 하는 필수 관문.\n",
    "- 프로그래밍 언어에서는 변수(Variable)에서 데이터를 저장/관리 하며 변수에 대한 개념을 통해 데이터를 사용할 수 있다.\n",
    "- type() 함수를 통해 데이터의 타입을 알수 있다."
   ]
  },
  {
   "cell_type": "markdown",
   "id": "6b4b43e7",
   "metadata": {},
   "source": [
    "# 숫자 데이터 (Numeric Data Types)"
   ]
  },
  {
   "cell_type": "markdown",
   "id": "e51fdac6",
   "metadata": {},
   "source": [
    "- 숫자형 데이터란, 정수/실수/복소수/2진수/8진수/16진수를 포함하며 가장 많이 사용하는 데이터 타입중에 하나다.\n",
    "- 숫자 데이터는 우리가 알고 있는 대부분의 연산을 그대로 지원한다. 사칙연산, 나머지 구하기, 몫 구하기, 거듭제곱 등"
   ]
  },
  {
   "cell_type": "markdown",
   "id": "921b37b8",
   "metadata": {},
   "source": [
    "## 정수형 (Int) "
   ]
  },
  {
   "cell_type": "code",
   "execution_count": null,
   "id": "89cf53b9",
   "metadata": {},
   "outputs": [],
   "source": [
    "1+1"
   ]
  },
  {
   "cell_type": "code",
   "execution_count": null,
   "id": "3c650e78",
   "metadata": {},
   "outputs": [],
   "source": [
    "a = 10\n",
    "b = 6\n",
    "\n",
    "a+b\n",
    "type(a)"
   ]
  },
  {
   "cell_type": "code",
   "execution_count": null,
   "id": "947b53bb",
   "metadata": {},
   "outputs": [],
   "source": [
    "# 1 은 참, 0은 거짓으로 취급\n",
    "a = 1\n"
   ]
  },
  {
   "cell_type": "markdown",
   "id": "6317bdbd",
   "metadata": {},
   "source": [
    "## 실수형 (float)"
   ]
  },
  {
   "cell_type": "code",
   "execution_count": null,
   "id": "482a84cf",
   "metadata": {},
   "outputs": [],
   "source": [
    "c = 3.14\n",
    "c\n",
    "type(c)"
   ]
  },
  {
   "cell_type": "code",
   "execution_count": null,
   "id": "0b9afe20",
   "metadata": {},
   "outputs": [],
   "source": [
    "c + 3.14"
   ]
  },
  {
   "cell_type": "code",
   "execution_count": null,
   "id": "78d14d3f",
   "metadata": {},
   "outputs": [],
   "source": [
    "d = 4\n",
    "c - d"
   ]
  },
  {
   "cell_type": "code",
   "execution_count": null,
   "id": "cce40bd1",
   "metadata": {
    "scrolled": true
   },
   "outputs": [],
   "source": [
    "pi = 3.14\n",
    "r = 10\n",
    "\n",
    "# 원주율, 반지름, 원의 둘레, 원의 넓이\n"
   ]
  },
  {
   "cell_type": "markdown",
   "id": "122b1e7f",
   "metadata": {},
   "source": [
    "# 불형(bool)\n",
    "- 참(True)이나 거짓(False)만 저장, 논리형이라고 한다."
   ]
  },
  {
   "cell_type": "code",
   "execution_count": null,
   "id": "7f94cc73",
   "metadata": {},
   "outputs": [],
   "source": [
    "a = True\n",
    "type(a)"
   ]
  },
  {
   "cell_type": "code",
   "execution_count": null,
   "id": "3a511726",
   "metadata": {},
   "outputs": [],
   "source": [
    "0 == False"
   ]
  },
  {
   "cell_type": "code",
   "execution_count": null,
   "id": "0fda507e",
   "metadata": {},
   "outputs": [],
   "source": [
    "2>1"
   ]
  },
  {
   "cell_type": "markdown",
   "id": "52391ffe",
   "metadata": {},
   "source": [
    "# 문자열(str)"
   ]
  },
  {
   "cell_type": "markdown",
   "id": "129c8e9c",
   "metadata": {},
   "source": [
    "- 문자열 데이터란, 문자(character)의 나열을 의미한다. e.g. \"Hello world\"\n",
    "- <kbd>'</kbd>와 <kbd>\"</kbd> 두 가지의 기호를 통해 문자열을 나타낸다. 즉 ' 부터 ' 까지 또는 \" 부터 \" 까지 하나의 문자열이다."
   ]
  },
  {
   "cell_type": "markdown",
   "id": "0cdccb41",
   "metadata": {},
   "source": [
    "## 특수 문자 표현 (escape code) \n",
    "- 프로그래밍 할 때 사용할 수 있도록 미리 정의해 둔 '문자조합'\n",
    "- 주로 출력물을 보기 좋게 정렬하는 용도로 사용\n",
    "\n",
    "| 코드 | <center>설명</center>|\n",
    "| --- | :--- |\n",
    "| \\n | 문자열 안에서 줄을 바꿀 때 사용 |\n",
    "| \\t | 문자열 안에서 탭 간격을 줄 때 사용 |\n",
    "| \\\\', \\\\\" | 작은 따옴표('), 큰 따옴표(\")를 그대로 표현할 때 사용 |\n",
    "| \\\\\\ | 문자 \\를 그대로 표현할때 사용 |\n",
    "| \\b | 백스페이스 |"
   ]
  },
  {
   "cell_type": "code",
   "execution_count": null,
   "id": "72eaaf8f",
   "metadata": {},
   "outputs": [],
   "source": []
  },
  {
   "cell_type": "code",
   "execution_count": null,
   "id": "a7ee79ae",
   "metadata": {},
   "outputs": [],
   "source": [
    "print(\"동해물과 백두산이 마르고 닳도록 하느님이 보우하사 우리나라 만세 무궁화 삼천리 화려강산 대한사람 대한으로 길이 보전하세\")"
   ]
  },
  {
   "cell_type": "code",
   "execution_count": null,
   "id": "efb56506",
   "metadata": {},
   "outputs": [],
   "source": []
  },
  {
   "cell_type": "code",
   "execution_count": null,
   "id": "b1b1165f",
   "metadata": {},
   "outputs": [],
   "source": [
    "#'안녕하세요'라고 말했습니다.\n",
    "# \"배가 고픕니다\"라고 생각했습니다.\n"
   ]
  },
  {
   "cell_type": "code",
   "execution_count": null,
   "id": "f7cbed95",
   "metadata": {},
   "outputs": [],
   "source": []
  },
  {
   "cell_type": "code",
   "execution_count": null,
   "id": "b62d52d8",
   "metadata": {},
   "outputs": [],
   "source": [
    "# 아래 s3와 s4를 문자열로 만들어서 출력해봅시다.\n",
    "s3 = I'm a boy.\n",
    "s4 = \"Python is very easy.\" he says.\n",
    "print(s3)\n",
    "print(s4)"
   ]
  },
  {
   "cell_type": "code",
   "execution_count": null,
   "id": "9b95edd3",
   "metadata": {},
   "outputs": [],
   "source": [
    "# 아래 s3와 s4를 문자열로 만들어서 출력해봅시다.\n"
   ]
  },
  {
   "cell_type": "markdown",
   "id": "7ef14523",
   "metadata": {},
   "source": [
    "## 문자열 연산\n",
    "- 문자열 연결 연산자 : +\n",
    "- 문자열 반복 연산자 : *\n"
   ]
  },
  {
   "cell_type": "code",
   "execution_count": null,
   "id": "97d2a107",
   "metadata": {},
   "outputs": [],
   "source": [
    "s1 = \"Hello\"\n",
    "s2 = \"World\"\n",
    "se3 = s1 + s2 # 가운데 빈 칸을 넣고 싶을 땐 어떻게 해야할까?\n",
    "\n"
   ]
  },
  {
   "cell_type": "code",
   "execution_count": null,
   "id": "5172f569",
   "metadata": {
    "scrolled": true
   },
   "outputs": [],
   "source": [
    "s2 = \"=\"\n",
    "\n",
    "print(\"Life is short\")\n",
    "print(\"Life is short\"+\"You need python\")\n"
   ]
  },
  {
   "cell_type": "markdown",
   "id": "65d703b1",
   "metadata": {},
   "source": [
    "## 문자열 인덱싱\n",
    "\n",
    "\n",
    "| H | e | l | l | o |   | W | o | r | l | d |\n",
    "| ---- | ---- | ---- | ---- | ---- | ---- | ---- | ---- |---- | ---- | ---- |\n",
    "|  [0] |  [1] |  [2] |  [3] |  [4] |  [5] |  [6] |  [7] | [8] |  [9] | [10] |\n",
    "|  [-11] |  [-10] |  [-9] |  [-8] |  [-7] |  [-6] |  [-5] |  [-4] | [-3] |  [-2] | [-1] |"
   ]
  },
  {
   "cell_type": "code",
   "execution_count": null,
   "id": "a12689d5",
   "metadata": {
    "scrolled": true
   },
   "outputs": [],
   "source": [
    "s3 = 'Hello World'\n"
   ]
  },
  {
   "cell_type": "code",
   "execution_count": null,
   "id": "509daaf6",
   "metadata": {},
   "outputs": [],
   "source": []
  },
  {
   "cell_type": "markdown",
   "id": "304bb09f",
   "metadata": {},
   "source": [
    "* 범위 밖의 인덱스를 사용하면?"
   ]
  },
  {
   "cell_type": "code",
   "execution_count": null,
   "id": "eb1c23b8",
   "metadata": {
    "scrolled": true
   },
   "outputs": [],
   "source": [
    "a = 'Hello World'\n"
   ]
  },
  {
   "cell_type": "code",
   "execution_count": null,
   "id": "356fb8cb",
   "metadata": {},
   "outputs": [],
   "source": []
  },
  {
   "cell_type": "markdown",
   "id": "f9df4bce",
   "metadata": {},
   "source": [
    "**연습문제1) 문자열을 입력 받아서 거꾸로 출력하는 프로그램**"
   ]
  },
  {
   "cell_type": "code",
   "execution_count": null,
   "id": "c68e61b5",
   "metadata": {},
   "outputs": [],
   "source": [
    "# 문자열을 입력 받아서 거꾸로 출력하는 프로그램\n",
    "# 입력 : 문자열\n",
    "# 처리 : for(문자[-1],-len(문자),-1) \n",
    "# 출력 : 문자열을 거꾸로 출력\n"
   ]
  },
  {
   "cell_type": "markdown",
   "id": "205b6001",
   "metadata": {},
   "source": [
    "## 문자열 슬라이싱\n",
    "- 원하는 문자만 자를 수 있는 기능\n",
    "- 문자열[시작인덱스:끝나는 인덱스:증가값]"
   ]
  },
  {
   "cell_type": "markdown",
   "id": "eebe3471",
   "metadata": {},
   "source": [
    "### 양수 인덱스로 슬라이싱"
   ]
  },
  {
   "cell_type": "code",
   "execution_count": null,
   "id": "d20f58a1",
   "metadata": {},
   "outputs": [],
   "source": [
    "a = 'Hello World'\n"
   ]
  },
  {
   "cell_type": "markdown",
   "id": "7ad9fdac",
   "metadata": {},
   "source": [
    "### 음수 인덱스로 슬라이싱"
   ]
  },
  {
   "cell_type": "code",
   "execution_count": null,
   "id": "f2d9144f",
   "metadata": {},
   "outputs": [],
   "source": [
    "a = 'Hello World'\n",
    "\n"
   ]
  },
  {
   "cell_type": "markdown",
   "id": "6542c7e3",
   "metadata": {},
   "source": [
    "### 다양한 문자열 슬라이싱"
   ]
  },
  {
   "cell_type": "markdown",
   "id": "21902e74",
   "metadata": {},
   "source": [
    "- 첫번째와 마지막 인덱스는 생략 가능"
   ]
  },
  {
   "cell_type": "code",
   "execution_count": null,
   "id": "ae3e48c2",
   "metadata": {},
   "outputs": [],
   "source": [
    "a = 'Hello World'\n",
    "\n",
    "# 'Hello'\n",
    "\n",
    "\n",
    "# 'World'\n",
    "\n",
    "\n",
    "# 'Hello World'\n"
   ]
  },
  {
   "cell_type": "markdown",
   "id": "2d001b44",
   "metadata": {},
   "source": [
    "- 한 문자씩 건너띄어 출력하기"
   ]
  },
  {
   "cell_type": "code",
   "execution_count": null,
   "id": "3397a151",
   "metadata": {
    "scrolled": false
   },
   "outputs": [],
   "source": [
    "a = 'Hello World'\n"
   ]
  },
  {
   "cell_type": "markdown",
   "id": "d850ee19",
   "metadata": {},
   "source": [
    "- 역순으로 출력하기 : 간격을 마이너스(-)로 하면 역순으로 출력된다."
   ]
  },
  {
   "cell_type": "code",
   "execution_count": null,
   "id": "ad8bb624",
   "metadata": {},
   "outputs": [],
   "source": [
    "a = 'Hello World'\n"
   ]
  },
  {
   "cell_type": "markdown",
   "id": "6183c326",
   "metadata": {},
   "source": [
    "**연습문제2) '20220518Rainy' 문자열을 슬라이스 해서 `2022 년 05 월 18 일 Rainy` 의 형태로 출력하시오.**"
   ]
  },
  {
   "cell_type": "code",
   "execution_count": null,
   "id": "4e207822",
   "metadata": {},
   "outputs": [],
   "source": [
    "a = '20220518Rainy'\n"
   ]
  },
  {
   "cell_type": "markdown",
   "id": "0e58ac64",
   "metadata": {},
   "source": [
    "**연습문제3) 주민등록번호 뒤 6 가리기**\n",
    "- 주민등록번호가 하나 주어집니다.\n",
    "- 뒤에 6자리를 *로 만들어서 소중한 정보를 지키세요"
   ]
  },
  {
   "cell_type": "code",
   "execution_count": null,
   "id": "fc5937e1",
   "metadata": {},
   "outputs": [],
   "source": [
    "# test용 주민번호, 4가지 다 넣어서 테스트 해보세요.\n",
    "id1 = \"911210-1234567\"\n",
    "id2 = \"900101-2111111\"\n",
    "id3 = \"200112-3111111\"\n",
    "id4 = \"200112-4123987\"\n",
    "\n"
   ]
  },
  {
   "cell_type": "markdown",
   "id": "c1064856",
   "metadata": {},
   "source": [
    "**연습문제4) 아래 조건에 맞는 코드를 작성하시오**\n",
    "- 숫자 하나를 입력 받는다.(숫자는 무조건 두 자리 이상의 자연수를 입력한다)\n",
    "- 입력받은 숫자의 십의 자리수를 출력한다.\n",
    "- hint : str인덱스를 이용하여 구하는 방법, 숫자 연산을 통해 구하는 방법"
   ]
  },
  {
   "cell_type": "code",
   "execution_count": null,
   "id": "afeb9ca2",
   "metadata": {},
   "outputs": [],
   "source": [
    "number = int(input(\"숫자를 입력해주세요 : \"))\n",
    "# str으로 하는 방법\n",
    "\n",
    "\n",
    "# 숫자 연산을 통한 방법\n"
   ]
  },
  {
   "cell_type": "markdown",
   "id": "4ebbc574",
   "metadata": {},
   "source": [
    "## 문자열 Formatting "
   ]
  },
  {
   "cell_type": "markdown",
   "id": "963ab723",
   "metadata": {},
   "source": [
    "- \"현재 온도는 18도 입니다.\"\n",
    "- \"현재 온도는 20도 입니다.\"\n",
    "- \"현재 온도는 21도 입니다.\"\n",
    "- 위와 같이 문자열의 특정한 값만 바꾸어 주는 기법"
   ]
  },
  {
   "cell_type": "markdown",
   "id": "efb55333",
   "metadata": {},
   "source": [
    "### 문자열 포매팅\n",
    "#### 문자열 포맷코드\n",
    "| 코드 | <center>설명</center> | 코드 | <center>설명</center> |\n",
    "|----|:----|----|:----|\n",
    "| %s | 문자열(String) | %d | 정수(Integer)|\n",
    "| %c | 문자 1개(Character)| %f | 부동소수(Floateing-point)| "
   ]
  },
  {
   "cell_type": "markdown",
   "id": "6f8acc07",
   "metadata": {},
   "source": [
    "**- 숫자 바로 대입**\n",
    "- 문자열 안에서 숫자를 넣고 싶은 자리에 %d를 넣고 삽입할 숫자는 뒤에 있는 % 다음에 넣는다.   \n",
    "- 여깃에서 **%d**를 문자열 포맷코드라 부른다"
   ]
  },
  {
   "cell_type": "code",
   "execution_count": null,
   "id": "d947290f",
   "metadata": {},
   "outputs": [],
   "source": []
  },
  {
   "cell_type": "markdown",
   "id": "d404325e",
   "metadata": {},
   "source": [
    "**- 문자열 바로 대입**"
   ]
  },
  {
   "cell_type": "code",
   "execution_count": null,
   "id": "82891148",
   "metadata": {},
   "outputs": [],
   "source": []
  },
  {
   "cell_type": "markdown",
   "id": "5d82b4ef",
   "metadata": {},
   "source": [
    "**- 변수를 사용하여 대입**"
   ]
  },
  {
   "cell_type": "code",
   "execution_count": null,
   "id": "b426eab5",
   "metadata": {
    "scrolled": true
   },
   "outputs": [],
   "source": []
  },
  {
   "cell_type": "markdown",
   "id": "6155b3a0",
   "metadata": {},
   "source": [
    "**- 2개 이상의 값 넣기**"
   ]
  },
  {
   "cell_type": "code",
   "execution_count": null,
   "id": "f739849c",
   "metadata": {
    "scrolled": true
   },
   "outputs": [],
   "source": [
    "#1 사과는 개 있다.\n"
   ]
  },
  {
   "cell_type": "code",
   "execution_count": null,
   "id": "fa759b86",
   "metadata": {
    "scrolled": true
   },
   "outputs": [],
   "source": [
    "# 원숭이 엉덩이는 빨개\n"
   ]
  },
  {
   "cell_type": "markdown",
   "id": "4a31eab2",
   "metadata": {},
   "source": [
    "**- %s 는 어떤 형태의 값이든 문자열로 변환한다**"
   ]
  },
  {
   "cell_type": "code",
   "execution_count": null,
   "id": "276d9879",
   "metadata": {
    "scrolled": true
   },
   "outputs": [],
   "source": []
  },
  {
   "cell_type": "markdown",
   "id": "9adabd67",
   "metadata": {},
   "source": [
    "#### 포맷코드와 숫자 함께 사용하기"
   ]
  },
  {
   "cell_type": "markdown",
   "id": "eb8f2797",
   "metadata": {},
   "source": [
    "**- 정렬과 공백**"
   ]
  },
  {
   "cell_type": "code",
   "execution_count": null,
   "id": "7318b815",
   "metadata": {},
   "outputs": [],
   "source": []
  },
  {
   "cell_type": "code",
   "execution_count": null,
   "id": "36b860e6",
   "metadata": {},
   "outputs": [],
   "source": [
    "#\"%-10s\" %\"hi\"\n"
   ]
  },
  {
   "cell_type": "markdown",
   "id": "b76e81ad",
   "metadata": {},
   "source": [
    "**- 소수점 표현하기**"
   ]
  },
  {
   "cell_type": "code",
   "execution_count": null,
   "id": "edcdb31b",
   "metadata": {},
   "outputs": [],
   "source": []
  },
  {
   "cell_type": "markdown",
   "id": "96d4a0d9",
   "metadata": {},
   "source": [
    "**- 기호 표현하기**"
   ]
  },
  {
   "cell_type": "code",
   "execution_count": null,
   "id": "0b5fabc5",
   "metadata": {},
   "outputs": [],
   "source": []
  },
  {
   "cell_type": "markdown",
   "id": "a80c69aa",
   "metadata": {},
   "source": [
    "### format()를 사용한 포매팅\n",
    "- 문자열의 format()를 사용하면 좀 더 발전된 스타일로 문자열의 포맷을 지정할 수 있다."
   ]
  },
  {
   "cell_type": "markdown",
   "id": "68b06156",
   "metadata": {},
   "source": [
    "**- 숫자 바로 대입**"
   ]
  },
  {
   "cell_type": "code",
   "execution_count": null,
   "id": "7bcea722",
   "metadata": {},
   "outputs": [],
   "source": []
  },
  {
   "cell_type": "markdown",
   "id": "fe7794e9",
   "metadata": {},
   "source": [
    "**- 문자열 바로 대입**"
   ]
  },
  {
   "cell_type": "code",
   "execution_count": null,
   "id": "ff1de88d",
   "metadata": {},
   "outputs": [],
   "source": []
  },
  {
   "cell_type": "markdown",
   "id": "d73dd056",
   "metadata": {},
   "source": [
    "**- 숫자 값을 다진 변수로 대입하기**"
   ]
  },
  {
   "cell_type": "code",
   "execution_count": null,
   "id": "bfc787fe",
   "metadata": {},
   "outputs": [],
   "source": [
    "apple = 3\n"
   ]
  },
  {
   "cell_type": "markdown",
   "id": "7202217a",
   "metadata": {},
   "source": [
    "**- 2개 이상의 값 넣기**"
   ]
  },
  {
   "cell_type": "code",
   "execution_count": null,
   "id": "d97b7080",
   "metadata": {},
   "outputs": [],
   "source": [
    "#1 사과는 개 있다.\n",
    "fruit = \"사과\"\n",
    "count = 4\n",
    "\n"
   ]
  },
  {
   "cell_type": "markdown",
   "id": "5754a680",
   "metadata": {},
   "source": [
    "**- 이름으로 넣기**"
   ]
  },
  {
   "cell_type": "code",
   "execution_count": null,
   "id": "d24b56bd",
   "metadata": {},
   "outputs": [],
   "source": []
  },
  {
   "cell_type": "markdown",
   "id": "b5d9d6ff",
   "metadata": {},
   "source": [
    "**-인덱스와 이름을 혼용해서 넣기**"
   ]
  },
  {
   "cell_type": "code",
   "execution_count": null,
   "id": "4443fed7",
   "metadata": {},
   "outputs": [],
   "source": []
  },
  {
   "cell_type": "markdown",
   "id": "ae69e372",
   "metadata": {},
   "source": [
    "**- 왼쪽/오른쪽/가운데 정렬**"
   ]
  },
  {
   "cell_type": "code",
   "execution_count": null,
   "id": "1e6f1395",
   "metadata": {},
   "outputs": [],
   "source": []
  },
  {
   "cell_type": "markdown",
   "id": "8e16f163",
   "metadata": {},
   "source": [
    "**- 공백채우기**"
   ]
  },
  {
   "cell_type": "code",
   "execution_count": null,
   "id": "8c8cc157",
   "metadata": {},
   "outputs": [],
   "source": []
  },
  {
   "cell_type": "markdown",
   "id": "9107fa4f",
   "metadata": {},
   "source": [
    "**- 소수점 표현하기**"
   ]
  },
  {
   "cell_type": "code",
   "execution_count": null,
   "id": "799f72fe",
   "metadata": {},
   "outputs": [],
   "source": [
    "y = 3.23423423\n"
   ]
  },
  {
   "cell_type": "code",
   "execution_count": null,
   "id": "aa64bbac",
   "metadata": {
    "scrolled": true
   },
   "outputs": [],
   "source": []
  },
  {
   "cell_type": "markdown",
   "id": "0a82de2a",
   "metadata": {},
   "source": [
    "**연습문제5) 돈(예 : 7777777)을 입력하면 5만원, 1만원, 5천원, 천원 지폐로 교환하는 프로그램을 format()를 사용하여 만들기**"
   ]
  },
  {
   "cell_type": "code",
   "execution_count": null,
   "id": "99d3072a",
   "metadata": {},
   "outputs": [],
   "source": [
    "money = 123345345\n"
   ]
  },
  {
   "cell_type": "markdown",
   "id": "b382c73a",
   "metadata": {},
   "source": [
    "### f string 포매팅"
   ]
  },
  {
   "cell_type": "code",
   "execution_count": null,
   "id": "693c66e3",
   "metadata": {},
   "outputs": [],
   "source": []
  },
  {
   "cell_type": "code",
   "execution_count": null,
   "id": "855a28f4",
   "metadata": {},
   "outputs": [],
   "source": [
    "name='홍길동'\n",
    "age=30\n"
   ]
  },
  {
   "cell_type": "code",
   "execution_count": null,
   "id": "de282b81",
   "metadata": {},
   "outputs": [],
   "source": []
  },
  {
   "cell_type": "code",
   "execution_count": null,
   "id": "3d70d5b0",
   "metadata": {},
   "outputs": [],
   "source": []
  },
  {
   "cell_type": "markdown",
   "id": "a9e4d2d7",
   "metadata": {},
   "source": [
    "**연습문제6) 다음의 문장을 문자열 포맷팅, format(), fstring을 이용하여 출력하시오**\n",
    "- 사과는 4개 있다.\n",
    "- 원숭이 엉덩이는 빨개"
   ]
  },
  {
   "cell_type": "code",
   "execution_count": null,
   "id": "24dd2fbc",
   "metadata": {},
   "outputs": [],
   "source": [
    "fruit= '사과'\n",
    "count=4"
   ]
  },
  {
   "cell_type": "code",
   "execution_count": null,
   "id": "03e14c6d",
   "metadata": {},
   "outputs": [],
   "source": []
  },
  {
   "cell_type": "code",
   "execution_count": null,
   "id": "531e50bc",
   "metadata": {
    "scrolled": true
   },
   "outputs": [],
   "source": []
  },
  {
   "cell_type": "markdown",
   "id": "210134cb",
   "metadata": {},
   "source": [
    "**연습문제7) 다음에 조건을 만족하는 코드를 완성하시오.**\n",
    "- 개인정보를 사용자로부터 입력받아, 주민등록등본을 출력해주는 프로그램을 제작하려고 한다. 입력받은 이름을 name이라는 변수에, 주민번호를 num라는 변수에 입력받는다.\n",
    "- 출력은 이름 : 홍길동, 주민등록번호 : 900101-3****** "
   ]
  },
  {
   "cell_type": "code",
   "execution_count": null,
   "id": "acfcf3d8",
   "metadata": {
    "scrolled": true
   },
   "outputs": [],
   "source": []
  },
  {
   "cell_type": "markdown",
   "id": "3bfc5e68",
   "metadata": {},
   "source": [
    "## 문자열 관련 함수들  \n",
    "- 문자열 자료형은 자체적으로 함수를 가지고 있다. 다른말로 **문자열 내장함수**라 한다.\n",
    "- 변수 이름뒤에 .을 인 다음에 함수이름을 써주면 된다5"
   ]
  },
  {
   "cell_type": "markdown",
   "id": "4889bcc7",
   "metadata": {},
   "source": [
    "### 문자 개수 세기 count()\n"
   ]
  },
  {
   "cell_type": "code",
   "execution_count": null,
   "id": "8e66b7d5",
   "metadata": {},
   "outputs": [],
   "source": [
    "# 문자열 중 b의 개수를 돌려준다.\n",
    "a = 'hobby'\n"
   ]
  },
  {
   "cell_type": "markdown",
   "id": "017c0923",
   "metadata": {},
   "source": [
    "### 위치 알려주기 find()\n",
    "- 처음으로 나온 위치를 반환"
   ]
  },
  {
   "cell_type": "code",
   "execution_count": null,
   "id": "207895bc",
   "metadata": {},
   "outputs": [],
   "source": [
    "a= 'python is the best choice'\n"
   ]
  },
  {
   "cell_type": "markdown",
   "id": "9f5c52d0",
   "metadata": {},
   "source": [
    "### 위치알려주기 index()\n",
    "- 처음으로 나온 위치를 반환.\n",
    "- 존재하지 않은 문자를 찾으면 오류발생"
   ]
  },
  {
   "cell_type": "code",
   "execution_count": null,
   "id": "0f412d4b",
   "metadata": {},
   "outputs": [],
   "source": [
    "a= 'python is the best choice'\n"
   ]
  },
  {
   "cell_type": "markdown",
   "id": "548db7ab",
   "metadata": {},
   "source": [
    "### (영어) 대소문자 바꾸기 upper(), lower()"
   ]
  },
  {
   "cell_type": "code",
   "execution_count": null,
   "id": "b87da148",
   "metadata": {},
   "outputs": [],
   "source": [
    "s = \"hi\"\n"
   ]
  },
  {
   "cell_type": "code",
   "execution_count": null,
   "id": "ce3cf314",
   "metadata": {},
   "outputs": [],
   "source": [
    "s = \"Hi\"\n"
   ]
  },
  {
   "cell_type": "markdown",
   "id": "188dd237",
   "metadata": {},
   "source": [
    "### 문자 공백 지우기 strip() / lstrip()  / rstrip()"
   ]
  },
  {
   "cell_type": "code",
   "execution_count": null,
   "id": "212f6d13",
   "metadata": {},
   "outputs": [],
   "source": [
    "s = \"  hi    \"\n"
   ]
  },
  {
   "cell_type": "markdown",
   "id": "7e8b6a74",
   "metadata": {},
   "source": [
    "### 문자열 삽입 join()"
   ]
  },
  {
   "cell_type": "code",
   "execution_count": null,
   "id": "5dd87abf",
   "metadata": {},
   "outputs": [],
   "source": []
  },
  {
   "cell_type": "markdown",
   "id": "a9d737b7",
   "metadata": {},
   "source": [
    "### 문자열  나누기 split()"
   ]
  },
  {
   "cell_type": "code",
   "execution_count": null,
   "id": "8102c37b",
   "metadata": {},
   "outputs": [],
   "source": [
    "# 기사\n",
    "s = \"Life is too short.\"\n"
   ]
  },
  {
   "cell_type": "code",
   "execution_count": null,
   "id": "c999934c",
   "metadata": {},
   "outputs": [],
   "source": [
    "s1 = '삼성전자/애플/샤오미'\n"
   ]
  },
  {
   "cell_type": "markdown",
   "id": "837a1109",
   "metadata": {},
   "source": [
    "### 문자열 바꾸기 replace() "
   ]
  },
  {
   "cell_type": "code",
   "execution_count": null,
   "id": "b61d1de8",
   "metadata": {},
   "outputs": [],
   "source": [
    "s = \"Life is too short.\"\n"
   ]
  },
  {
   "cell_type": "code",
   "execution_count": null,
   "id": "a11c1448",
   "metadata": {
    "scrolled": true
   },
   "outputs": [],
   "source": [
    "s = \"  hi    \"\n"
   ]
  },
  {
   "cell_type": "markdown",
   "id": "be9aca50",
   "metadata": {},
   "source": [
    "**연습문제8)사용자의 이름을 입력받아 성과 이름 순서를 바꾸어서 출력하는 프로그램을 작성하세요.**   \n",
    "- 성과 이름은 공백으로 구분하여 입력니다."
   ]
  },
  {
   "cell_type": "code",
   "execution_count": null,
   "id": "ab4ddd35",
   "metadata": {},
   "outputs": [],
   "source": [
    "# 사용자의 영문이름 입력받기 (성과 이름은 공백으로 구분)\n",
    "full_name = input('영문이름(성과 이름은 공백으로 구분하세요):')\n"
   ]
  },
  {
   "cell_type": "markdown",
   "id": "a641b777",
   "metadata": {},
   "source": [
    " "
   ]
  },
  {
   "cell_type": "markdown",
   "id": "52ec671e",
   "metadata": {},
   "source": [
    " "
   ]
  },
  {
   "cell_type": "markdown",
   "id": "1078b544",
   "metadata": {},
   "source": [
    " "
   ]
  },
  {
   "cell_type": "markdown",
   "id": "49fcf9de",
   "metadata": {},
   "source": [
    " "
   ]
  }
 ],
 "metadata": {
  "kernelspec": {
   "display_name": "Python 3 (ipykernel)",
   "language": "python",
   "name": "python3"
  },
  "language_info": {
   "codemirror_mode": {
    "name": "ipython",
    "version": 3
   },
   "file_extension": ".py",
   "mimetype": "text/x-python",
   "name": "python",
   "nbconvert_exporter": "python",
   "pygments_lexer": "ipython3",
   "version": "3.9.7"
  },
  "toc": {
   "base_numbering": 1,
   "nav_menu": {},
   "number_sections": true,
   "sideBar": true,
   "skip_h1_title": false,
   "title_cell": "Table of Contents",
   "title_sidebar": "Contents",
   "toc_cell": false,
   "toc_position": {
    "height": "calc(100% - 180px)",
    "left": "10px",
    "top": "150px",
    "width": "384px"
   },
   "toc_section_display": true,
   "toc_window_display": true
  }
 },
 "nbformat": 4,
 "nbformat_minor": 5
}
