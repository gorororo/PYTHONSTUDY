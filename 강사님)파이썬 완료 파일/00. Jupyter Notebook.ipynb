{
 "cells": [
  {
   "cell_type": "code",
   "execution_count": 1,
   "metadata": {},
   "outputs": [],
   "source": [
    "# !pip install jupyter_contrib_nbextensions\n",
    "# !jupyter contrib nbextension install"
   ]
  },
  {
   "cell_type": "markdown",
   "metadata": {},
   "source": [
    "## Jupyter Notebook"
   ]
  },
  {
   "cell_type": "markdown",
   "metadata": {},
   "source": [
    "- jupyter notebook은 web browser(Chrome, firefox 등)에서 작동하는 파이썬을 interactive하게 다룰 수 있는 툴\n",
    "- cell로 구성되어 있으며, cell은 크게 글이나 그림을 기록할 수 있는 **markdown cell**과 파이썬 코드를 적을 수 있는 **code cell**로 나누어져 있다"
   ]
  },
  {
   "cell_type": "markdown",
   "metadata": {},
   "source": [
    "## Markdown 이란?"
   ]
  },
  {
   "cell_type": "markdown",
   "metadata": {},
   "source": [
    "- 웹상에서 글을 쓰기 위한 도구(서식, 포맷, 양식)\n",
    "- 코드와 함께 문서화화 가능\n",
    "- 문법이 쉽고 간결하다.\n",
    "- 관리가 쉽다.\n",
    "- 지원 가능한 플랫폼과 프로그램이 다양하다"
   ]
  },
  {
   "cell_type": "markdown",
   "metadata": {},
   "source": [
    "## Jupyter Notebook 단축키 "
   ]
  },
  {
   "cell_type": "markdown",
   "metadata": {},
   "source": [
    "- <kbd>enter</kbd> : 편집상태로 변환 <녹색>\n",
    "\n",
    "\n",
    "- <kbd>esc</kbd> <파란색> \n",
    "\n",
    "\n",
    "- <kbd>m</kbd>: 현재 cell을 markdown cell로 바꿉니다.\n",
    "\n",
    "\n",
    "- <kbd>y</kbd> : 현재 cell을 code cell로 바꿉니다.\n",
    "\n",
    "\n",
    "- <kbd>Ctrl</kbd> + <kbd>Enter</kbd> : 셀이 실행되고 커서가 그 셀에 유지\n",
    "\n",
    "\n",
    "- <kbd>Shift</kbd> + <kbd>Enter</kbd> : 셀이 실행이 되고 커서가 다음셀로 이동\n",
    "\n",
    "\n",
    "- <kbd>Alt</kbd> + <kbd>Enter</kbd> : 셀이 실행되고 그 다음에 새로운 셀이 생성되면서 커서가 그 셀에 유지\n",
    "\n",
    "\n",
    "- <kbd>a</kbd> : 위에 셀 한 개 추가\n",
    "\n",
    "\n",
    "- <kbd>b</kbd> : 아래 셀 한 개 추가\n",
    "\n",
    "\n",
    "- <kbd>dd</kbd> : 셀 삭제\n",
    "\n",
    "\n",
    "- <kbd>h</kbd> : 다양한 주피터 노트북의 단축키를 확인\n",
    "\n",
    "\n",
    "\n",
    "- <kbd>Shift</kbd>+<kbd>Arrow up/Arrow down</kbd>: 화살표를 통해 현재 cell을 포함한 여러 cell을 선택합니다.\n",
    "\n",
    "\n",
    "- <kbd>Shift</kbd>+<kbd>Tab</kbd>: [press these two buttons at the same time, once] 함수에 대한 설명이 나옵니다.\n",
    "\n",
    "\n",
    "- View -> Toggle Line Numbers : 라인 넘버를 확인"
   ]
  },
  {
   "cell_type": "markdown",
   "metadata": {},
   "source": [
    "## 여러가지 기능"
   ]
  },
  {
   "cell_type": "markdown",
   "metadata": {},
   "source": [
    "###  사이즈 조절: \\#으로 한다.\n",
    "- 설정에 Automatically number headings 체크하면 자동으로 넘버링\n"
   ]
  },
  {
   "cell_type": "markdown",
   "metadata": {},
   "source": [
    "### <kbd>네모 칸</kbd> : \\<kbd>내용\\</kbd>"
   ]
  },
  {
   "cell_type": "markdown",
   "metadata": {},
   "source": [
    "### 예약어를 내용으로 쓰고 싶을 때는 앞에 \\붙히기"
   ]
  },
  {
   "cell_type": "markdown",
   "metadata": {},
   "source": [
    "### `강조`하고 싶은 단어:  \\`  \\`로 감싸기"
   ]
  },
  {
   "cell_type": "markdown",
   "metadata": {},
   "source": [
    "### 인용문 : \\>\n",
    "> 니자신을 알라\n",
    ">> 인용구는 이렇게"
   ]
  },
  {
   "cell_type": "markdown",
   "metadata": {},
   "source": [
    "\n",
    "### 수평선 :   \\<hr>\n",
    "<hr>"
   ]
  },
  {
   "cell_type": "markdown",
   "metadata": {},
   "source": [
    "### 줄바꿈 : space키 두번 또는  \\<br>\n",
    "### Font : \\<span style=\" \">내용\\</span>\n",
    "- <span style=\"color:red\">빨간색</span>"
   ]
  },
  {
   "cell_type": "markdown",
   "metadata": {},
   "source": [
    "### 체크박스\n",
    "- [ ] 체크박스(false)\n",
    "- [x] 체크박스(true)"
   ]
  },
  {
   "cell_type": "markdown",
   "metadata": {},
   "source": [
    "### 이모지 😘\n",
    "- <kbd>윈도우키</kbd> + <kbd>.</kbd>\n",
    "- <kbd>윈도우키</kbd> + <kbd>;</kbd>"
   ]
  },
  {
   "cell_type": "markdown",
   "metadata": {},
   "source": [
    "### 링크\n",
    "1. https://www.google.com\n",
    "2. [구글로 이동](https://www.google.com/)\n",
    "3. 구글 사이트는 [이 주소][1] 로 들어가면 된다. 네이버는 [여기][2] 로 들어가면 된다\n",
    "[1]:https://www.google.com/\n",
    "[2]:https://naver.com/"
   ]
  },
  {
   "cell_type": "markdown",
   "metadata": {},
   "source": [
    "### 이미지\n",
    "<img src=\"https://s3.ap-northeast-2.amazonaws.com/elasticbeanstalk-ap-northeast-2-176213403491/media/magazine_img/magazine_302/104_%E1%84%8A%E1%85%A5%E1%86%B7%E1%84%82%E1%85%A6%E1%84%8B%E1%85%B5%E1%86%AF.jpg\" width=\"200px\">"
   ]
  },
  {
   "cell_type": "markdown",
   "metadata": {},
   "source": [
    "### 표\n",
    "\n",
    "| 기본값 | 왼쪽정렬 | 가운데 정렬|오른쪽정렬 |\n",
    "|----|:----|:----:|----:| \n",
    "| 내용1 | 내용2 | 내용3 | 내용4 |\n",
    "| 내용5 | 내용6 | 내용7 | 내용8 |\n",
    "| 내용9 | 내용10 | 내용11 | 내용12 |\n"
   ]
  },
  {
   "cell_type": "markdown",
   "metadata": {},
   "source": [
    "> 실습:\n",
    "- markdown cell을 하나 만들어, 좋아하는 문구 하나씩 작성해 봅니다."
   ]
  },
  {
   "cell_type": "code",
   "execution_count": null,
   "metadata": {},
   "outputs": [],
   "source": []
  }
 ],
 "metadata": {
  "kernelspec": {
   "display_name": "Python 3 (ipykernel)",
   "language": "python",
   "name": "python3"
  },
  "language_info": {
   "codemirror_mode": {
    "name": "ipython",
    "version": 3
   },
   "file_extension": ".py",
   "mimetype": "text/x-python",
   "name": "python",
   "nbconvert_exporter": "python",
   "pygments_lexer": "ipython3",
   "version": "3.9.7"
  },
  "toc": {
   "base_numbering": 1,
   "nav_menu": {},
   "number_sections": true,
   "sideBar": true,
   "skip_h1_title": false,
   "title_cell": "Table of Contents",
   "title_sidebar": "Contents",
   "toc_cell": false,
   "toc_position": {
    "height": "calc(100% - 180px)",
    "left": "10px",
    "top": "150px",
    "width": "361px"
   },
   "toc_section_display": true,
   "toc_window_display": true
  }
 },
 "nbformat": 4,
 "nbformat_minor": 2
}
