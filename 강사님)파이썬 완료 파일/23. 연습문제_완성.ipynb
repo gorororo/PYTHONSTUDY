{
 "cells": [
  {
   "attachments": {
    "image.png": {
     "image/png": "[encoded data removed]"
    }
   },
   "cell_type": "markdown",
   "id": "c1064856",
   "metadata": {},
   "source": [
    "### 아래 조건에 맞는 코드를 작성하시오\n",
    "- 숫자 하나를 입력 받는다.(숫자는 무조건 세 자리 이상의 자연수를 입력한다)\n",
    "- 입력받은 숫자의 백의 자리수를 출력한다.\n",
    "- hint : str인덱스를 이용하여 구하는 방법, 숫자 연산을 통해 구하는 방법\n",
    "![image.png](attachment:image.png)"
   ]
  },
  {
   "cell_type": "code",
   "execution_count": 5,
   "id": "afeb9ca2",
   "metadata": {},
   "outputs": [
    {
     "name": "stdout",
     "output_type": "stream",
     "text": [
      "숫자를 입력해주세요 : 3452\n",
      "3452의 백의 자리수는 4입니다\n",
      "3452의 백의 자리수는 4입니다\n"
     ]
    }
   ],
   "source": [
    "number = input(\"숫자를 입력해주세요 : \")\n",
    "\n",
    "# str으로 하는 방법\n",
    "answer = number[-3]\n",
    "print(f'{number}의 백의 자리수는 {answer}입니다')\n",
    "\n",
    "# 숫자 연산을 통한 방법\n",
    "answer = int(number) %1000 //100\n",
    "print(f'{number}의 백의 자리수는 {answer}입니다')"
   ]
  },
  {
   "attachments": {
    "image-2.png": {
     "image/png": "[encoded data removed]"
    }
   },
   "cell_type": "markdown",
   "id": "0a82de2a",
   "metadata": {},
   "source": [
    "### 돈(예 : 7777777)을 입력하면 5만원, 1만원, 5천원, 천원 지폐로 교환하는 프로그램 만들기\n",
    "![image-2.png](attachment:image-2.png)"
   ]
  },
  {
   "cell_type": "code",
   "execution_count": 2,
   "id": "99d3072a",
   "metadata": {
    "scrolled": false
   },
   "outputs": [
    {
     "name": "stdout",
     "output_type": "stream",
     "text": [
      "7777777를 지폐로 교환하면\n",
      "5만원 : 155개\n",
      "만원 : 2개\n",
      "오천원 : 1개\n",
      "천원 : 2개\n",
      "동전 : 777개 입니다.\n"
     ]
    }
   ],
   "source": [
    "money =  7777777\n",
    "print(f'{money}를 지폐로 교환하면')\n",
    "print(f'5만원 : {money//50000}개')\n",
    "money %= 50000\n",
    "print(f'만원 : {money//10000}개')\n",
    "money %= 10000\n",
    "print(f'오천원 : {money//5000}개')\n",
    "money %= 5000\n",
    "print(f'천원 : {money//1000}개')\n",
    "money %= 1000\n",
    "print(f'동전 : {money}개 입니다.')\n",
    "\n"
   ]
  },
  {
   "attachments": {
    "image-2.png": {
     "image/png": "[encoded data removed]"
    }
   },
   "cell_type": "markdown",
   "id": "1d2cb47a",
   "metadata": {},
   "source": [
    "### list_a는 1~100의 정수가 들어있다. list_a를 만들고 list_a에서 3의 배수만 출력하시오.(슬라이싱)\n",
    "![image-2.png](attachment:image-2.png)"
   ]
  },
  {
   "cell_type": "code",
   "execution_count": 63,
   "id": "5d011368",
   "metadata": {
    "scrolled": true
   },
   "outputs": [
    {
     "name": "stdout",
     "output_type": "stream",
     "text": [
      "<<list_a>>\n",
      "1, 2, 3, 4, 5, 6, 7, 8, 9, 10, 11, 12, 13, 14, 15, 16, 17, 18, 19, 20, 21, 22, 23, 24, 25, 26, 27, 28, 29, 30, 31, 32, 33, 34, 35, 36, 37, 38, 39, 40, 41, 42, 43, 44, 45, 46, 47, 48, 49, 50, 51, 52, 53, 54, 55, 56, 57, 58, 59, 60, 61, 62, 63, 64, 65, 66, 67, 68, 69, 70, 71, 72, 73, 74, 75, 76, 77, 78, 79, 80, 81, 82, 83, 84, 85, 86, 87, 88, 89, 90, 91, 92, 93, 94, 95, 96, 97, 98, 99, 100\n",
      "<<list_a에서 3의 배수>>\n",
      "3, 6, 9, 12, 15, 18, 21, 24, 27, 30, 33, 36, 39, 42, 45, 48, 51, 54, 57, 60, 63, 66, 69, 72, 75, 78, 81, 84, 87, 90, 93, 96, 99\n"
     ]
    }
   ],
   "source": [
    "list_a = list(range(1,101))\n",
    "print('<<list_a>>')\n",
    "print(str(list_a)[1:-1])\n",
    "print('<<list_a에서 3의 배수>>')\n",
    "print(str(list_a[2::3])[1:-1])"
   ]
  },
  {
   "cell_type": "markdown",
   "id": "1bafc79e",
   "metadata": {},
   "source": [
    "### andy의 중간고사 평균 학점을 구하시오.\n",
    "- andy는 1학기 중간고사의 학점을 알고싶다.\n",
    "- andy가 중간고사 때 수강한 과목과 학점은 다음과 같다.\n",
    "| 기초수학(3) | 프로그래밍(3) | 자료구조(2) | 글쓰기(3) |\n",
    "| :---: | :---: | :---: | :---: |\n",
    "| A | C | B+ | A+ |\n",
    "\n",
    "\n",
    "- 과목이름 옆 괄호에 있는 숫자는 학점 수이고, 4.5만점 기준으로 성적이 계산된다.\n",
    "> A+ : 4.5,   A : 4.0,   B+ : 3.5,   B : 3.0,   C+ : 2.5,   C : 2.0,   F : 0\n",
    "\n",
    "- 계산 공식은 다음과 같다.\n",
    "> 과목별 [학점수 x 학점]의 합계 / 총 학점의 합계"
   ]
  },
  {
   "cell_type": "code",
   "execution_count": 64,
   "id": "c6dc561b",
   "metadata": {},
   "outputs": [
    {
     "name": "stdout",
     "output_type": "stream",
     "text": [
      "andy의 중간고사 평균 학점은 3.5입니다.\n"
     ]
    }
   ],
   "source": [
    "Ap = 4.5\n",
    "A = 4.0\n",
    "Bp = 3.5\n",
    "C = 2.0\n",
    "\n",
    "jumsu = (3 * A + 3 * C + 2 * Bp + 3 * Ap) / (3+3+2+3) \n",
    "print(f'andy의 중간고사 평균 학점은 {jumsu}입니다.')"
   ]
  },
  {
   "attachments": {
    "image.png": {
     "image/png": "[encoded data removed]"
    }
   },
   "cell_type": "markdown",
   "id": "e9f73b2c",
   "metadata": {},
   "source": [
    "### 숫자 두개를 입력받아서 몫과 나머지를 출력하는 프로그램을 작성하시오.\n",
    "- 사용자 입력으로 공백으로 구분된 숫자가 두 개를 받습니다.\n",
    "- 첫번째 숫자는 두번째 숫자보다 크게 입력합니다.(예 : 10 3)\n",
    "- 첫번째 숫자에서 두번째 숫자로 나눈 몫(정수)과 나머지(정수)를 구하시오.\n",
    "![image.png](attachment:image.png)"
   ]
  },
  {
   "cell_type": "code",
   "execution_count": 39,
   "id": "5ead9e9d",
   "metadata": {
    "scrolled": true
   },
   "outputs": [
    {
     "name": "stdout",
     "output_type": "stream",
     "text": [
      "숫자 두개를 공백으로 입력 하세요 : 10 3\n",
      "10을 3(으)로 나눈 몫은 3이고 나머지는 1입니다.\n"
     ]
    }
   ],
   "source": [
    "user = input('숫자 두개를 공백으로 입력 하세요 : ').strip().split()\n",
    "user_int = [int(i) for i in user]\n",
    "print(f'{user[0]}을 {user[1]}(으)로 나눈 몫은 {user_int[0]//user_int[1]}이고 나머지는 {user_int[0]%user_int[1]}입니다.')"
   ]
  },
  {
   "cell_type": "code",
   "execution_count": 42,
   "id": "ca0b379b",
   "metadata": {
    "scrolled": false
   },
   "outputs": [
    {
     "name": "stdout",
     "output_type": "stream",
     "text": [
      "숫자 두개를 공백으로 입력 하세요 : 10 3\n",
      "10을 3(으)로 나눈 몫은 3이고 나머지는 1입니다.\n"
     ]
    }
   ],
   "source": [
    "a, b = map(int, input('숫자 두개를 공백으로 입력 하세요 : ').strip().split())\n",
    "print(f'{a}을 {b}(으)로 나눈 몫은 {a//b}이고 나머지는 {a%b}입니다.')"
   ]
  },
  {
   "cell_type": "markdown",
   "id": "40bc5c90",
   "metadata": {},
   "source": [
    "### 아래 질문에 알맞은 프로그램을 작성하시오.\n",
    "- a = [1,2,3,4], b = ['a','b','c','d'] 를 가지고 c를 완성하시오.\n",
    "- c = [[1, 'a'], [2, 'b'], [3, 'c'], [4, 'd']]\n"
   ]
  },
  {
   "cell_type": "code",
   "execution_count": 43,
   "id": "02372ed1",
   "metadata": {},
   "outputs": [
    {
     "name": "stdout",
     "output_type": "stream",
     "text": [
      "[(1, 'a'), (2, 'b'), (3, 'c'), (4, 'd')]\n"
     ]
    }
   ],
   "source": [
    "a = [1,2,3,4]\n",
    "b = ['a','b','c','d']\n",
    "\n",
    "c = list(zip(a,b))\n",
    "print(c)\n",
    "\n",
    "c = list(map(list, zip(a,b)))\n",
    "print(c)"
   ]
  },
  {
   "attachments": {
    "image.png": {
     "image/png": "[encoded data removed]"
    }
   },
   "cell_type": "markdown",
   "id": "03b2b6a3",
   "metadata": {},
   "source": [
    "### 문자열 속 문자 찾기\n",
    "- 입력으로 첫줄에 문자열이 주어지고 둘째 줄에 찾을 문자가 주어지면 그 문자가 있는 첫번째 위치를 반환하는 프로그램 만들기\n",
    "![image.png](attachment:image.png)"
   ]
  },
  {
   "cell_type": "code",
   "execution_count": 53,
   "id": "1e5b8168",
   "metadata": {
    "scrolled": true
   },
   "outputs": [
    {
     "name": "stdout",
     "output_type": "stream",
     "text": [
      "문장을 입력하세요 : hello world\n",
      "위의 문장에서 찾고 싶은 문자를 하나를 입력하세요. : w\n",
      "hello world에서 처음으로 w가 나오는 위치는 6번째 입니다\n"
     ]
    }
   ],
   "source": [
    "data = input('문장을 입력하세요 : ')\n",
    "word = input('위의 문장에서 찾고 싶은 문자를 하나를 입력하세요. : ')\n",
    "print(f'{data}에서 처음으로 {word}가 나오는 위치는 {data.find(word)}번째 입니다')"
   ]
  },
  {
   "attachments": {
    "image.png": {
     "image/png": "[encoded data removed]"
    }
   },
   "cell_type": "markdown",
   "id": "665c50fe",
   "metadata": {},
   "source": [
    "### 아래 조건을 만족하는 프로그램을 작성하시오.\n",
    "- 0\\~9의 문자로 된 숫자를 입력받았을 때 이 입력 값이 0\\~9의 모든 숫자를 각각 한번씩 만 사용한 것인 확인하는 함수 chkDup()을 만들고 호출하시오\n",
    "- chkDup()\n",
    "    - 문자열 s를 매개변수로 받는다.\n",
    "    - s에서 숫자하나씩 꺼내서 중복된 숫자가 있는지 검사한다.(hint : 빈리스트 만들어 활용하기)\n",
    "    - 0~9사이 모든 숫자가 있는지 검사한다.(hint : len())\n",
    "    ![image.png](attachment:image.png)"
   ]
  },
  {
   "cell_type": "code",
   "execution_count": 54,
   "id": "9d59c144",
   "metadata": {},
   "outputs": [],
   "source": [
    "def chkDup(s):\n",
    "    result = []\n",
    "    for i in s:\n",
    "        if i in result :\n",
    "            return False\n",
    "        else :\n",
    "            result.append(i)\n",
    "    return len(result) == 10\n",
    "                "
   ]
  },
  {
   "cell_type": "code",
   "execution_count": 59,
   "id": "5f1b5a21",
   "metadata": {},
   "outputs": [
    {
     "name": "stdout",
     "output_type": "stream",
     "text": [
      "0123456789\n",
      "True\n",
      "33364466342\n",
      "False\n",
      "1230987654\n",
      "True\n",
      "879437589\n",
      "False\n"
     ]
    }
   ],
   "source": [
    "s = input()\n",
    "print(chkDup(s))\n",
    "s = input()\n",
    "print(chkDup(s))\n",
    "s = input()\n",
    "print(chkDup(s))\n",
    "s = input()\n",
    "print(chkDup(s))"
   ]
  },
  {
   "attachments": {
    "image.png": {
     "image/png": "[encoded data removed]"
    }
   },
   "cell_type": "markdown",
   "id": "754fe718",
   "metadata": {},
   "source": [
    "### 아래 조건에 맞게 아이디를 생성하는 soultion( )를 작성하시오.\n",
    "- 아이디의 길이는 3자 이상 15자 이하여야 합니다.\n",
    "- 아이디는 알파벳 소문자, 숫자, 빼기(-), 밑줄(\\_), 마침표(.) 문자만 사용할 수 있습니다.   \n",
    "  단, 마침표(.)는 처음과 끝에 사용할 수 없으며 또한 연속으로 사용할 수 없습니다.\n",
    "- hint\n",
    "    - 소문자 바꾸기 : 문자열.lower()\n",
    "    - 알파벳유무, 숫자 유무 : 문자열.isalpha(), 문자열.isdigit()\n",
    "    - 문자바꾸기 : 문자열.replace('교체하고 싶은 문자','교체 문자')\n",
    ">- 1단계 new_id의 모든 대문자를 대응되는 소문자로 치환합니다.    \n",
    ">- 2단계 new_id에서 알파벳 소문자, 숫자, 빼기(-), 밑줄(_), 마침표(.)를 제외한 모든 문자를 제거합니다.\n",
    ">- 3단계 new_id에서 마침표(.)가 2번 이상 연속된 부분을 하나의 마침표(.)로 치환합니다.\n",
    ">- 4단계 new_id에서 마침표(.)가 처음이나 끝에 위치한다면 제거합니다.\n",
    ">- 5단계 new_id가 빈 문자열이라면, new_id에 \"a\"를 대입하고 합니다.\n",
    ">- 6단계 new_id의 길이가 16자 이상이면, new_id의 첫 15개의 문자를 제외한 나머지 문자들을 모두 제거합니다.   \n",
    "     만약 제거 후 마침표(.)가 new_id의 끝에 위치한다면 끝에 위치한 마침표(.) 문자를 제거합니다.\n",
    ">- 7단계 new_id의 길이가 2자 이하라면, new_id의 마지막 문자를 new_id의 길이가 3이 될 때까지 반복해서 끝에 붙입니다.\n",
    "- 입출력 예시\n",
    "![image.png](attachment:image.png)"
   ]
  },
  {
   "cell_type": "code",
   "execution_count": 77,
   "id": "44c5fbe4",
   "metadata": {},
   "outputs": [],
   "source": [
    "def solution(new_id):\n",
    "    answer = ''\n",
    "    # 1\n",
    "    new_id = new_id.lower()\n",
    "    # 2\n",
    "    for i in new_id:\n",
    "        if i.isalpha() or i.isdigit() or i =='-' or i =='_' or i =='.':\n",
    "            answer += i\n",
    "    # 3\n",
    "    while '..' in answer:\n",
    "        answer = answer.replace('..', '.')\n",
    "    # 4,5\n",
    "    if len(answer) > 1 :\n",
    "        if answer[0] == '.':\n",
    "            answer = answer[1:] \n",
    "        if answer[-1] == '.':\n",
    "            answer = answer[:-1]\n",
    "    else :\n",
    "        answer = 'a'       \n",
    "    \n",
    "    # 6\n",
    "    if len(answer) >=16 :\n",
    "        answer = answer[:15]\n",
    "        if answer[-1] == '.':\n",
    "            answer = answer[:-1]\n",
    "    # 7\n",
    "    while len(answer) <= 2:\n",
    "        answer += answer[-1]\n",
    "    return answer"
   ]
  },
  {
   "cell_type": "code",
   "execution_count": 79,
   "id": "e0926e0f",
   "metadata": {
    "scrolled": true
   },
   "outputs": [
    {
     "name": "stdout",
     "output_type": "stream",
     "text": [
      "bat.y.abcdefghi\n",
      "z--\n",
      "aaa\n",
      "123_.def\n",
      "abcdefghijklmn\n"
     ]
    }
   ],
   "source": [
    "print(solution('...!@BaT#*..y.abcdefghijklm'))\n",
    "print(solution('z-+.^.'))\n",
    "print(solution('=.='))\n",
    "print(solution('123_.def'))\n",
    "print(solution('abcdefghijklmn.p'))"
   ]
  }
 ],
 "metadata": {
  "kernelspec": {
   "display_name": "Python 3 (ipykernel)",
   "language": "python",
   "name": "python3"
  },
  "language_info": {
   "codemirror_mode": {
    "name": "ipython",
    "version": 3
   },
   "file_extension": ".py",
   "mimetype": "text/x-python",
   "name": "python",
   "nbconvert_exporter": "python",
   "pygments_lexer": "ipython3",
   "version": "3.9.12"
  },
  "toc": {
   "base_numbering": 1,
   "nav_menu": {},
   "number_sections": true,
   "sideBar": true,
   "skip_h1_title": false,
   "title_cell": "Table of Contents",
   "title_sidebar": "Contents",
   "toc_cell": false,
   "toc_position": {},
   "toc_section_display": true,
   "toc_window_display": false
  }
 },
 "nbformat": 4,
 "nbformat_minor": 5
}
