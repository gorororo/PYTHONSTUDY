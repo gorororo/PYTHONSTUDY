{
 "cells": [
  {
   "cell_type": "markdown",
   "id": "2a4cd669",
   "metadata": {},
   "source": [
    "# 파이썬 실행방법\n",
    "## 파이썬 대화형 인터프리터\n",
    "- Ctrl + z -> Enter / exit() / sys.exit()"
   ]
  },
  {
   "cell_type": "code",
   "execution_count": null,
   "id": "9c7d3a76",
   "metadata": {},
   "outputs": [],
   "source": [
    "10 + 10\n",
    "10 - 10\n",
    "10 * 10\n",
    "10 / 10"
   ]
  },
  {
   "cell_type": "code",
   "execution_count": null,
   "id": "2c4ef990",
   "metadata": {},
   "outputs": [],
   "source": [
    "print('Hello World')"
   ]
  },
  {
   "cell_type": "markdown",
   "id": "0d2a6053",
   "metadata": {},
   "source": [
    "## 파이썬 IDLE\n",
    "- IDLE(Integrated Development and Learning Environment) : 파이썬 프로그램 작성을 도와주는 통합 개발 환경\n",
    "- 새파일 열기\n",
    "- 줄번호 옵션 : [Options]-> [Show Line Numbers] \n",
    "- 저장 : [File] -> [Save] or Ctrl + S\n",
    "- 실행 : [Run]->[Run Module] or F5\n",
    "- 옵션 창에서 사이즈 조절"
   ]
  },
  {
   "cell_type": "code",
   "execution_count": null,
   "id": "6dc83380",
   "metadata": {},
   "outputs": [],
   "source": [
    "# 인터렉티브 셀\n",
    "10 + 10"
   ]
  },
  {
   "cell_type": "code",
   "execution_count": null,
   "id": "b439e3ac",
   "metadata": {},
   "outputs": [],
   "source": [
    "print('IDLE에서 파이썬 코드를')\n",
    "print('작성해서 출력해보는')\n",
    "print('예제')"
   ]
  },
  {
   "cell_type": "markdown",
   "id": "a278e818",
   "metadata": {},
   "source": [
    "# 출력하기\n",
    "- **print()** : 각종 자료를 출력해주는 함수\n",
    "- print() 구문 사이에 값을 넣으면, 바로 값이 출력 예) print(3)\n",
    "- print() 구문 사이에 변수이름을 넣으면, 변수 값이 출력"
   ]
  },
  {
   "cell_type": "markdown",
   "id": "befd3e4c",
   "metadata": {},
   "source": [
    "## 기본 출력\n",
    "* print(value1, value2, ..., )"
   ]
  },
  {
   "cell_type": "code",
   "execution_count": null,
   "id": "28b939a6",
   "metadata": {
    "scrolled": false
   },
   "outputs": [],
   "source": [
    "# hello 출력하기\n",
    "print('hello')\n",
    "print(\"hello\")"
   ]
  },
  {
   "cell_type": "code",
   "execution_count": null,
   "id": "1ab54b4c",
   "metadata": {
    "scrolled": true
   },
   "outputs": [],
   "source": [
    "# hello, python 출력하기\n",
    "print('hello','python')"
   ]
  },
  {
   "cell_type": "code",
   "execution_count": null,
   "id": "4d7c345d",
   "metadata": {
    "scrolled": false
   },
   "outputs": [],
   "source": [
    "# 계산식 출력하기 (1+1=2)\n",
    "print('1+1=',1+1)"
   ]
  },
  {
   "cell_type": "markdown",
   "id": "9b3f18a5",
   "metadata": {},
   "source": [
    "## 구분자 지정\n",
    "* print(value1, value2, ..., sep='구분자')"
   ]
  },
  {
   "cell_type": "code",
   "execution_count": 1,
   "id": "f2ea27d7",
   "metadata": {
    "scrolled": true
   },
   "outputs": [
    {
     "name": "stdout",
     "output_type": "stream",
     "text": [
      "hello.python\n"
     ]
    }
   ],
   "source": [
    "# ,로 구분 (hello,python)\n",
    "print('hello','python', sep='.')"
   ]
  },
  {
   "cell_type": "code",
   "execution_count": null,
   "id": "559d303f",
   "metadata": {},
   "outputs": [],
   "source": [
    "# 공백없이 붙여서 출력 (1+1=2)\n"
   ]
  },
  {
   "cell_type": "markdown",
   "id": "d10cb4b0",
   "metadata": {},
   "source": [
    "## 끝문자 지정\n",
    "* print(value1, value2, ..., end='끝문자')"
   ]
  },
  {
   "cell_type": "code",
   "execution_count": null,
   "id": "73802f50",
   "metadata": {},
   "outputs": [],
   "source": [
    "# 공백으로 끝내기 (안녕하세요 반갑습니다)\n",
    "print('안녕하세요', end=' ')\n",
    "print('반갑습니다')\n"
   ]
  },
  {
   "cell_type": "code",
   "execution_count": null,
   "id": "27b5e0d3",
   "metadata": {
    "scrolled": true
   },
   "outputs": [],
   "source": [
    "# !!로 끝내기(안녕하세요!!반갑습니다!!)\n",
    "print('안녕하세요', end='!!')\n",
    "print('반갑습니다', end='!!')"
   ]
  },
  {
   "cell_type": "markdown",
   "id": "3e78b839",
   "metadata": {},
   "source": [
    "\n",
    "## 미니계산기만들기"
   ]
  },
  {
   "cell_type": "code",
   "execution_count": 3,
   "id": "9b567a68",
   "metadata": {},
   "outputs": [
    {
     "name": "stdout",
     "output_type": "stream",
     "text": [
      "100 + 50 = 150\n",
      "100 - 50 = 50\n",
      "100 * 50 = 5000\n",
      "100 / 50 = 2.0\n"
     ]
    }
   ],
   "source": [
    "# 미니계산기 0516_cal.py\n",
    "\n",
    "a = 100\n",
    "b = 50\n",
    "\n",
    "print(a, '+', b, '=', a+b)\n",
    "print(a, '-', b, '=', a-b)\n",
    "print(a, '*', b, '=', a*b)\n",
    "print(a, '/', b, '=', a/b)"
   ]
  },
  {
   "cell_type": "markdown",
   "id": "5f474d34",
   "metadata": {},
   "source": [
    "## 여러 줄 한번에 출력하기\n",
    "\n",
    "* 홑따옴표 세개(''') 혹은 쌍따옴표 세개(\"\"\")로 묶는다.\n"
   ]
  },
  {
   "cell_type": "code",
   "execution_count": null,
   "id": "9c14c538",
   "metadata": {
    "scrolled": true
   },
   "outputs": [],
   "source": [
    "print('자세히 보아야 예쁘다.')\n",
    "print('오래 보아야 사랑스럽다.')\n",
    "print('너도 그렇다.')"
   ]
  },
  {
   "cell_type": "code",
   "execution_count": null,
   "id": "9ae244f2",
   "metadata": {},
   "outputs": [],
   "source": []
  },
  {
   "cell_type": "code",
   "execution_count": null,
   "id": "7ad41ad9",
   "metadata": {},
   "outputs": [],
   "source": []
  },
  {
   "cell_type": "markdown",
   "id": "ea7e2118",
   "metadata": {},
   "source": [
    "# 입력처리\n",
    "## input()\n",
    "- 사용자 입력값을 받을 수 있다. 입력 받는 값은 문자열(str)이다.\n",
    "- input으로 입력받은 값은 무조건 str. 정수로 사용하고 싶다면 int()사용\n",
    "- int(intput())"
   ]
  },
  {
   "cell_type": "code",
   "execution_count": null,
   "id": "799e7275",
   "metadata": {},
   "outputs": [],
   "source": [
    "a = input()\n",
    "print(a, type(a))"
   ]
  },
  {
   "cell_type": "code",
   "execution_count": 4,
   "id": "ffe1f494",
   "metadata": {},
   "outputs": [
    {
     "name": "stdout",
     "output_type": "stream",
     "text": [
      "이름 : 121\n",
      "나이 : 123\n",
      "이름은 121 이고 나이는 123 세 입니다.\n"
     ]
    }
   ],
   "source": [
    "# 이름과 나이를 출력하는 프로그램 input() 0516_input.py\n",
    "\n",
    "name = input('이름 : ')\n",
    "age = input('나이 : ') # 숫자로 받고 싶으면 int()\n",
    "print('이름은',name,'이고 나이는', age, '세 입니다.')\n"
   ]
  },
  {
   "cell_type": "code",
   "execution_count": null,
   "id": "2092bbbf",
   "metadata": {},
   "outputs": [],
   "source": [
    "# 시험성적 구하기\n",
    "kor = int(input('국어점수 : '))\n",
    "eng = int(input('영어점수 : '))\n",
    "math = int(input('수학점수 : '))\n",
    "\n",
    "total = kor + eng + math\n",
    "mean = total/3\n",
    "\n",
    "print('총점 : ', total)\n",
    "print('총점은 ', mean)"
   ]
  },
  {
   "cell_type": "markdown",
   "id": "b6ac1109",
   "metadata": {},
   "source": [
    "## 미니 계산기2"
   ]
  },
  {
   "cell_type": "code",
   "execution_count": null,
   "id": "e80d3a0e",
   "metadata": {
    "scrolled": false
   },
   "outputs": [],
   "source": [
    "a = int(input('첫 번째 숫자 : '))\n",
    "b = int(input('두번째 숫자 : '))\n",
    "\n",
    "print('*******사칙연산 결과 입니다.*******')\n",
    "print(a, '+', b, '=', a+b)\n",
    "print(a, '-', b, '=', a-b)\n",
    "print(a, '*', b, '=', a*b)\n",
    "print(a, '/', b, '=', '몫 : ', a//b, '나머지 : ', a%b) "
   ]
  },
  {
   "cell_type": "markdown",
   "id": "aae556a5",
   "metadata": {},
   "source": [
    "# Comment(주석)\n",
    "- 코드에서 #으로 시작하는 뒷 부분은 실행되지 않음  \n",
    "- python이 소스코드를 실행하면서 #를 만나면 무시\n",
    "- 개발자(사람)가 보기 위한 용도로 사용"
   ]
  },
  {
   "cell_type": "code",
   "execution_count": null,
   "id": "7e1ae2bb",
   "metadata": {
    "scrolled": true
   },
   "outputs": [],
   "source": [
    "## 주석에 대한 코드입니다##\n",
    "print(1) # 주석\n",
    "#print(2)  \n",
    "print(3)"
   ]
  },
  {
   "cell_type": "code",
   "execution_count": null,
   "id": "f0ca03c0",
   "metadata": {},
   "outputs": [],
   "source": [
    "#간단한 계산기 프로그램\n",
    "a = 10\n",
    "b = 20\n",
    "print(a, '+', b, '=', a+b)\n",
    "print(a, '-', b, '=', a-b)\n",
    "print(a, '*', b, '=', a*b)\n",
    "print(a, '/', b, '=', a/b)"
   ]
  },
  {
   "cell_type": "markdown",
   "id": "a23859bb",
   "metadata": {},
   "source": [
    "# indent(들여쓰기)\n",
    "- 파이썬에서는 들여쓰기 자체가 문법\n",
    "- 파이썬 들여쓰기 방법은 공백2칸, 공백4칸 등 여러가지 방법이 있지만 보통 공백 4칸을 사용\n",
    "- indent(들여쓰기)는 파이썬에서 굉장히 중요!! 단순히, 코드를 깔끔히 정리하기 위해서 들여쓰기를 하는 것은 아니다.\n",
    "- 본인이 맞게 코드를 짰다고 한다면, indent는 자동으로 적용.\n",
    "- [tab]키를 한 번 누르면 indent가 1번 한 효과."
   ]
  },
  {
   "cell_type": "code",
   "execution_count": null,
   "id": "b0ee5746",
   "metadata": {
    "scrolled": true
   },
   "outputs": [],
   "source": [
    "print('hello1')\n",
    " print('hello2')"
   ]
  },
  {
   "cell_type": "code",
   "execution_count": null,
   "id": "0716d931",
   "metadata": {},
   "outputs": [],
   "source": [
    "a = 3\n",
    "    b =2"
   ]
  },
  {
   "cell_type": "markdown",
   "id": "21e8ad64",
   "metadata": {},
   "source": [
    "## 홀짝 프로그램"
   ]
  },
  {
   "cell_type": "code",
   "execution_count": null,
   "id": "a7c0b063",
   "metadata": {},
   "outputs": [],
   "source": [
    "num = 5\n",
    "\n",
    "if num % 2 == 1 :\n",
    "    print(num, '은 홀수 입니다.')\n",
    "else : \n",
    "    print(num, '은 짝수 입니다.') \n",
    "    \n",
    "print('파이썬은 들여쓰기가 중요합니다.')\n"
   ]
  },
  {
   "cell_type": "markdown",
   "id": "a865ff27",
   "metadata": {},
   "source": [
    "# 오류 해석하기"
   ]
  },
  {
   "cell_type": "markdown",
   "id": "93954768",
   "metadata": {},
   "source": [
    "## 파이썬에서는 대소문자를 구분한다."
   ]
  },
  {
   "cell_type": "code",
   "execution_count": null,
   "id": "f85d5dce",
   "metadata": {
    "scrolled": false
   },
   "outputs": [],
   "source": [
    "Print('hello')"
   ]
  },
  {
   "cell_type": "markdown",
   "id": "042086d2",
   "metadata": {},
   "source": [
    "## 따옴표의 짝이 맞아야 한다."
   ]
  },
  {
   "cell_type": "code",
   "execution_count": null,
   "id": "ebd3fcf4",
   "metadata": {},
   "outputs": [],
   "source": [
    "print('hello'')"
   ]
  },
  {
   "cell_type": "markdown",
   "id": "40331128",
   "metadata": {},
   "source": [
    "## 괄호의 짝이 맞아야 한다."
   ]
  },
  {
   "cell_type": "code",
   "execution_count": null,
   "id": "2dbe3b9d",
   "metadata": {
    "scrolled": true
   },
   "outputs": [],
   "source": [
    "print('hello'}"
   ]
  },
  {
   "cell_type": "markdown",
   "id": "1872b969",
   "metadata": {},
   "source": [
    "# 변수\n",
    "\n",
    "- 값이 변하는 수를 저장하는 그릇. 모든 프로그래밍 언어가 데이터를 다루기 위해 필요한 약속.\n",
    "\n",
    "- 프로그래밍 언어마다 조금씩 다르며, 어떤 프로그래밍 언어에 대해 배울 때 제일 먼저 익혀야 하는 필수 관문.\n",
    "\n",
    "- 변수라는 그릇에 정수를 담을 수도 있고, 긴 글을 담을 수도 있고, file을 담을 수도 있다. 우리가 재사용 하기 쉽게 **별명**을 지어준 것.\n",
    "\n",
    "- 변수에 데이터를 저장할 때는 <kbd>=</kbd>를 사용한다."
   ]
  },
  {
   "cell_type": "markdown",
   "id": "cebe1af8",
   "metadata": {},
   "source": [
    "## 변수에 값 할당하기\n",
    "* 변수명 = 변수값\n",
    "* 변수에 값이 할당될 때 변수값의 자료형에 따라 변수의 자료형이 결정된다."
   ]
  },
  {
   "cell_type": "code",
   "execution_count": 5,
   "id": "19694345",
   "metadata": {},
   "outputs": [],
   "source": [
    "name = 'james'\n",
    "age = 20\n",
    "height = 175.0\n",
    "ischild = age<20"
   ]
  },
  {
   "cell_type": "markdown",
   "id": "9876e77e",
   "metadata": {},
   "source": [
    "## 변수 만들기\n",
    "- 변수의 이름 : 알파벳(대소문자), 한글도 가능"
   ]
  },
  {
   "cell_type": "code",
   "execution_count": null,
   "id": "bbfe47d3",
   "metadata": {},
   "outputs": [],
   "source": []
  },
  {
   "cell_type": "code",
   "execution_count": null,
   "id": "fbf75d49",
   "metadata": {},
   "outputs": [],
   "source": []
  },
  {
   "cell_type": "code",
   "execution_count": null,
   "id": "32eb29f6",
   "metadata": {},
   "outputs": [],
   "source": []
  },
  {
   "cell_type": "markdown",
   "id": "08535104",
   "metadata": {},
   "source": [
    "- 알파벳 + 숫자 (가능)"
   ]
  },
  {
   "cell_type": "code",
   "execution_count": null,
   "id": "6067d95d",
   "metadata": {},
   "outputs": [],
   "source": []
  },
  {
   "cell_type": "markdown",
   "id": "942aed1e",
   "metadata": {},
   "source": [
    "- 알파벳 + 언더바_(가능)"
   ]
  },
  {
   "cell_type": "code",
   "execution_count": null,
   "id": "884d6e41",
   "metadata": {},
   "outputs": [],
   "source": []
  },
  {
   "cell_type": "markdown",
   "id": "b9706685",
   "metadata": {},
   "source": [
    "- 언더바_ + 알파벳 (가능)  "
   ]
  },
  {
   "cell_type": "code",
   "execution_count": null,
   "id": "2f966c6a",
   "metadata": {},
   "outputs": [],
   "source": []
  },
  {
   "cell_type": "markdown",
   "id": "eabfde93",
   "metadata": {},
   "source": [
    "- 숫자 + 알파벳 (불가능)"
   ]
  },
  {
   "cell_type": "code",
   "execution_count": null,
   "id": "54ecafaf",
   "metadata": {},
   "outputs": [],
   "source": []
  },
  {
   "cell_type": "markdown",
   "id": "0af5598c",
   "metadata": {},
   "source": [
    "- 언더바를 제외한 특수문자(불가능)"
   ]
  },
  {
   "cell_type": "code",
   "execution_count": null,
   "id": "217fa6ba",
   "metadata": {},
   "outputs": [],
   "source": []
  },
  {
   "cell_type": "markdown",
   "id": "37f6c3c2",
   "metadata": {},
   "source": [
    "-  변수 이름 사이에 공백 (불가능)"
   ]
  },
  {
   "cell_type": "code",
   "execution_count": null,
   "id": "b956b74b",
   "metadata": {},
   "outputs": [],
   "source": []
  },
  {
   "cell_type": "markdown",
   "id": "24621377",
   "metadata": {},
   "source": [
    "- 주로 변수는 **소문자 알파벳으로 생성**하고, 필요시에 숫자를 붙히는 방식이 일반적"
   ]
  },
  {
   "cell_type": "code",
   "execution_count": null,
   "id": "3711efdb",
   "metadata": {},
   "outputs": [],
   "source": [
    "test = 10\n",
    "test01 = 20\n",
    "print(test+test01)\n",
    "\n",
    "test = 'Hello'\n",
    "print(test)\n"
   ]
  },
  {
   "cell_type": "markdown",
   "id": "2ef34159",
   "metadata": {},
   "source": [
    "## 변수 값, 자료형 출력하기\n",
    "- 변수값 출력 : print(변수명)\n",
    "- 변수자료형 출력 : print(type(변수명))"
   ]
  },
  {
   "cell_type": "code",
   "execution_count": null,
   "id": "460ae4e9",
   "metadata": {},
   "outputs": [],
   "source": [
    "print(name)\n",
    "print(type(name))"
   ]
  },
  {
   "cell_type": "code",
   "execution_count": null,
   "id": "967a54a3",
   "metadata": {},
   "outputs": [],
   "source": []
  },
  {
   "cell_type": "markdown",
   "id": "b5b7b454",
   "metadata": {},
   "source": [
    "# 조건문(if~else)\n",
    "- 들여쓰기!!"
   ]
  },
  {
   "cell_type": "code",
   "execution_count": null,
   "id": "6728670b",
   "metadata": {},
   "outputs": [],
   "source": [
    "a = 99\n",
    "\n",
    "if a < 100 :\n",
    "    print(a, '는 100 보다 작습니다.')\n",
    "else :\n",
    "    print(a, '는 100보다 같거다 큽니다.')"
   ]
  },
  {
   "cell_type": "code",
   "execution_count": null,
   "id": "ef14e121",
   "metadata": {},
   "outputs": [],
   "source": [
    "#  홀짝 프로그램\n",
    "num = int(input('숫자를 입력하세요 : '))\n",
    "\n",
    "if num % 2 == 1 :\n",
    "    print(num, '은 홀수 입니다.')\n",
    "else : \n",
    "    print(num, '은 짝수 입니다.')"
   ]
  },
  {
   "cell_type": "code",
   "execution_count": null,
   "id": "8b050385",
   "metadata": {},
   "outputs": [],
   "source": [
    "# 점수에 따라 학점 출력하기\n",
    "# 90 >= : A, 80 >= : B, 70>= : C, 60 >= : D, 60 < :F\n",
    "\n",
    "jumsu = 95 \n",
    "grade = ''\n",
    "\n"
   ]
  },
  {
   "cell_type": "markdown",
   "id": "cd5eac2f",
   "metadata": {},
   "source": [
    "# 반복문 for\n",
    "- for 변수 in range(시작값, 끝값+1, 증가값)\n"
   ]
  },
  {
   "cell_type": "code",
   "execution_count": null,
   "id": "8003b4e2",
   "metadata": {},
   "outputs": [],
   "source": [
    "# 1부터 10 합 구하기\n",
    "sum = 0\n",
    "\n",
    "for i in range (1, 10+1, 1) : \n",
    "        sum = sum + i\n",
    "\n",
    "print(sum)"
   ]
  },
  {
   "cell_type": "code",
   "execution_count": null,
   "id": "96bdb8e5",
   "metadata": {},
   "outputs": [],
   "source": [
    "# 1부터 100까지 홀수의 합\n"
   ]
  },
  {
   "cell_type": "code",
   "execution_count": null,
   "id": "0b4d2162",
   "metadata": {},
   "outputs": [],
   "source": [
    "# 구구단\n"
   ]
  },
  {
   "cell_type": "code",
   "execution_count": null,
   "id": "23ae71a2",
   "metadata": {
    "scrolled": true
   },
   "outputs": [],
   "source": [
    "# 구구단2 : 구구단을 거꾸로 출력하기\n"
   ]
  }
 ],
 "metadata": {
  "kernelspec": {
   "display_name": "Python 3 (ipykernel)",
   "language": "python",
   "name": "python3"
  },
  "language_info": {
   "codemirror_mode": {
    "name": "ipython",
    "version": 3
   },
   "file_extension": ".py",
   "mimetype": "text/x-python",
   "name": "python",
   "nbconvert_exporter": "python",
   "pygments_lexer": "ipython3",
   "version": "3.9.7"
  },
  "toc": {
   "base_numbering": 1,
   "nav_menu": {},
   "number_sections": true,
   "sideBar": true,
   "skip_h1_title": false,
   "title_cell": "Table of Contents",
   "title_sidebar": "Contents",
   "toc_cell": false,
   "toc_position": {
    "height": "calc(100% - 180px)",
    "left": "10px",
    "top": "150px",
    "width": "283px"
   },
   "toc_section_display": true,
   "toc_window_display": true
  }
 },
 "nbformat": 4,
 "nbformat_minor": 5
}
