{
 "cells": [
  {
   "cell_type": "markdown",
   "metadata": {},
   "source": [
    "# 오류의 종류\n",
    "- 프로그램 실행전에 발생하는 오류 : 구문오류(SyntaxError)\n",
    "- 프로그램 실행 중에 발생하는 오류 : 예외(exception) or 런타임 오류(runtime error)\n",
    "- 프로그램이 잘못동작하는 것을 막기 위한 파이썬의 배려"
   ]
  },
  {
   "cell_type": "markdown",
   "metadata": {},
   "source": [
    "## 구문오류\n",
    "- 해결하지 않으면 프로그램 자체가 실행되지 않는다."
   ]
  },
  {
   "cell_type": "code",
   "execution_count": 2,
   "metadata": {},
   "outputs": [
    {
     "ename": "SyntaxError",
     "evalue": "EOL while scanning string literal (3887062843.py, line 2)",
     "output_type": "error",
     "traceback": [
      "\u001b[1;36m  Input \u001b[1;32mIn [2]\u001b[1;36m\u001b[0m\n\u001b[1;33m    print('예외를 발생시켜볼께요)\u001b[0m\n\u001b[1;37m                       ^\u001b[0m\n\u001b[1;31mSyntaxError\u001b[0m\u001b[1;31m:\u001b[0m EOL while scanning string literal\n"
     ]
    }
   ],
   "source": [
    "print('프로그램이 시작되었습니다')\n",
    "print('예외를 발생시켜볼께요)"
   ]
  },
  {
   "cell_type": "code",
   "execution_count": 3,
   "metadata": {},
   "outputs": [
    {
     "ename": "SyntaxError",
     "evalue": "invalid syntax (1499703695.py, line 2)",
     "output_type": "error",
     "traceback": [
      "\u001b[1;36m  Input \u001b[1;32mIn [3]\u001b[1;36m\u001b[0m\n\u001b[1;33m    if a %2\u001b[0m\n\u001b[1;37m           ^\u001b[0m\n\u001b[1;31mSyntaxError\u001b[0m\u001b[1;31m:\u001b[0m invalid syntax\n"
     ]
    }
   ],
   "source": [
    "a = 1\n",
    "if a %2\n",
    "    print('홀수')\n"
   ]
  },
  {
   "cell_type": "markdown",
   "metadata": {},
   "source": [
    "## 예외\n",
    "- 프로그램이 실행된 다음, 실행중에 발생"
   ]
  },
  {
   "cell_type": "code",
   "execution_count": 3,
   "metadata": {},
   "outputs": [
    {
     "name": "stdout",
     "output_type": "stream",
     "text": [
      "프로그램이 시작되었습니다\n"
     ]
    },
    {
     "ename": "NameError",
     "evalue": "name 'lista' is not defined",
     "output_type": "error",
     "traceback": [
      "\u001b[1;31m---------------------------------------------------------------------------\u001b[0m",
      "\u001b[1;31mNameError\u001b[0m                                 Traceback (most recent call last)",
      "\u001b[1;32m<ipython-input-3-f76e2451e66c>\u001b[0m in \u001b[0;36m<module>\u001b[1;34m\u001b[0m\n\u001b[0;32m      1\u001b[0m \u001b[0mprint\u001b[0m\u001b[1;33m(\u001b[0m\u001b[1;34m'프로그램이 시작되었습니다'\u001b[0m\u001b[1;33m)\u001b[0m\u001b[1;33m\u001b[0m\u001b[1;33m\u001b[0m\u001b[0m\n\u001b[1;32m----> 2\u001b[1;33m \u001b[0mlista\u001b[0m\u001b[1;33m[\u001b[0m\u001b[1;36m0\u001b[0m\u001b[1;33m]\u001b[0m\u001b[1;33m\u001b[0m\u001b[1;33m\u001b[0m\u001b[0m\n\u001b[0m",
      "\u001b[1;31mNameError\u001b[0m: name 'lista' is not defined"
     ]
    }
   ],
   "source": [
    "print('프로그램이 시작되었습니다')\n",
    "lista[0]"
   ]
  },
  {
   "cell_type": "markdown",
   "metadata": {},
   "source": [
    "# 예외(excepinn)처리 방법\n",
    "- 조건문을 사용하는 방법\n",
    "- try 구문을 사용하는 방법"
   ]
  },
  {
   "cell_type": "code",
   "execution_count": 9,
   "metadata": {},
   "outputs": [
    {
     "name": "stdout",
     "output_type": "stream",
     "text": [
      "원의 반지름 : 5\n",
      "원의 둘레 : 31.4\n",
      "원의 넓이 : 78.5\n"
     ]
    }
   ],
   "source": [
    "user = int(input('정수 입력 :'))\n",
    "\n",
    "print('원의 반지름 :', user)\n",
    "print('원의 둘레 :', round(2*3.14*user,2))\n",
    "print('원의 넓이 :', 3.14*user**2)"
   ]
  },
  {
   "cell_type": "markdown",
   "metadata": {},
   "source": [
    "## 조건문으로 예외처리하기"
   ]
  },
  {
   "cell_type": "markdown",
   "metadata": {},
   "source": [
    "- srt.isdigit() : 0을 포함한 양수형 정수의 True/False 반환(부호, 소수점은 문자로 인식)"
   ]
  },
  {
   "cell_type": "code",
   "execution_count": 14,
   "metadata": {},
   "outputs": [
    {
     "name": "stdout",
     "output_type": "stream",
     "text": [
      "정수 입력 :6\n",
      "원의 반지름 : 6\n",
      "원의 둘레 : 37.68\n",
      "원의 넓이 : 113.04\n"
     ]
    }
   ],
   "source": [
    "user = input('정수 입력 :')\n",
    "\n",
    "if user.isdigit():\n",
    "    num = int(user)\n",
    "    print('원의 반지름 :', num)\n",
    "    print('원의 둘레 :', 2*3.14*num)\n",
    "    print('원의 넓이 :', 3.14*num**2)\n",
    "else : \n",
    "    print('정수를 입력하지 않았습니다.')"
   ]
  },
  {
   "cell_type": "markdown",
   "metadata": {},
   "source": [
    "## try except\n",
    "\n",
    "try:\n",
    "> 문장\n",
    "\n",
    "except :\n",
    ">예외가 발생했을 때 실행할 코드\n"
   ]
  },
  {
   "cell_type": "code",
   "execution_count": 83,
   "metadata": {},
   "outputs": [
    {
     "name": "stdout",
     "output_type": "stream",
     "text": [
      "정수 입력 :hello\n",
      "무언가 잘못했습니다.\n"
     ]
    }
   ],
   "source": [
    "try :\n",
    "    user = int(input('정수 입력 :'))\n",
    "    print('원의 반지름 :', user)\n",
    "    print('원의 둘레 :', 2*3.14*user)\n",
    "    print('원의 넓이 :', 3.14*user**2)\n",
    "\n",
    "except : \n",
    "    print('무언가 잘못했습니다.')"
   ]
  },
  {
   "cell_type": "markdown",
   "metadata": {},
   "source": [
    "## 여러개의 오류 처리하기\n",
    "- 발생오류별로 처리를 달리하고 싶을 때 : except 발생오류\n",
    "- 오류 메시지 내용까지 알고 싶을 때 :  except 발생오류 as 오류 메시지 변수\n",
    "\n",
    "try:\n",
    ">예외가 발생할 가능성이 있는 코드\n",
    "\n",
    "except 발생오류 :\n",
    ">예외가 발생했을 때 실행할 코드\n",
    "\n",
    "except 발생오류 as 오류 메시지 변수 :\n",
    ">예외가 발생했을 때 실행할 코드\n",
    "...\n",
    "- ValueError, ZeroDivisionError, IndexError.."
   ]
  },
  {
   "cell_type": "code",
   "execution_count": 24,
   "metadata": {},
   "outputs": [
    {
     "name": "stdout",
     "output_type": "stream",
     "text": [
      "정수 입력 :abc\n"
     ]
    },
    {
     "ename": "ValueError",
     "evalue": "invalid literal for int() with base 10: 'abc'",
     "output_type": "error",
     "traceback": [
      "\u001b[1;31m---------------------------------------------------------------------------\u001b[0m",
      "\u001b[1;31mValueError\u001b[0m                                Traceback (most recent call last)",
      "Input \u001b[1;32mIn [24]\u001b[0m, in \u001b[0;36m<cell line: 3>\u001b[1;34m()\u001b[0m\n\u001b[0;32m      1\u001b[0m \u001b[38;5;66;03m# 1, abc(3번 줄에서 err), 10\u001b[39;00m\n\u001b[0;32m      2\u001b[0m number \u001b[38;5;241m=\u001b[39m [\u001b[38;5;124m'\u001b[39m\u001b[38;5;124m243\u001b[39m\u001b[38;5;124m'\u001b[39m, \u001b[38;5;124m'\u001b[39m\u001b[38;5;124m231\u001b[39m\u001b[38;5;124m'\u001b[39m, \u001b[38;5;124m'\u001b[39m\u001b[38;5;124m스파이\u001b[39m\u001b[38;5;124m'\u001b[39m, \u001b[38;5;124m'\u001b[39m\u001b[38;5;124m545\u001b[39m\u001b[38;5;124m'\u001b[39m, \u001b[38;5;124m'\u001b[39m\u001b[38;5;124m52\u001b[39m\u001b[38;5;124m'\u001b[39m]\n\u001b[1;32m----> 3\u001b[0m user \u001b[38;5;241m=\u001b[39m \u001b[38;5;28;43mint\u001b[39;49m\u001b[43m(\u001b[49m\u001b[38;5;28;43minput\u001b[39;49m\u001b[43m(\u001b[49m\u001b[38;5;124;43m'\u001b[39;49m\u001b[38;5;124;43m정수 입력 :\u001b[39;49m\u001b[38;5;124;43m'\u001b[39;49m\u001b[43m)\u001b[49m\u001b[43m)\u001b[49m\n\u001b[0;32m      4\u001b[0m \u001b[38;5;28mprint\u001b[39m(\u001b[38;5;124mf\u001b[39m\u001b[38;5;124m'\u001b[39m\u001b[38;5;132;01m{\u001b[39;00muser\u001b[38;5;132;01m}\u001b[39;00m\u001b[38;5;124m번째 요소 \u001b[39m\u001b[38;5;132;01m{\u001b[39;00mnumber[user]\u001b[38;5;132;01m}\u001b[39;00m\u001b[38;5;124m'\u001b[39m)\n",
      "\u001b[1;31mValueError\u001b[0m: invalid literal for int() with base 10: 'abc'"
     ]
    }
   ],
   "source": [
    "\n",
    "number = ['243', '231', '스파이', '545', '52']\n",
    "user = int(input('정수 입력 :'))\n",
    "print(f'{user}번째 요소 {number[user]}')"
   ]
  },
  {
   "cell_type": "code",
   "execution_count": 44,
   "metadata": {},
   "outputs": [
    {
     "name": "stdout",
     "output_type": "stream",
     "text": [
      "정수 입력 :40\n",
      "인덱스를 벗어났어요 list index out of range\n"
     ]
    }
   ],
   "source": [
    "number = ['243', '231', '스파이', '545', '52']\n",
    "\n",
    "try :\n",
    "    user = int(input('정수 입력 :'))\n",
    "    print(f'{user}번째 요소 {number[user]}')\n",
    "except ValueError :\n",
    "    print('Value Error!!!!!!')\n",
    "\n",
    "except IndexError as err:\n",
    "    print('인덱스를 벗어났어요', err)\n",
    "    \n",
    "except Exception :\n",
    "    print('미리 파악하지 못한 예외가 발생했습니다')"
   ]
  },
  {
   "cell_type": "markdown",
   "metadata": {},
   "source": [
    "## try except 와 pass 키워드 조합하기\n",
    "\n",
    "try:\n",
    ">예외가 발생할 가능성이 있는 코드\n",
    "\n",
    "except :\n",
    ">pass\n",
    "\n",
    "\n",
    "- try except 구문은 if 구문에 비해 약간 느리다."
   ]
  },
  {
   "cell_type": "code",
   "execution_count": 26,
   "metadata": {},
   "outputs": [
    {
     "name": "stdout",
     "output_type": "stream",
     "text": [
      "['243', '231', '스파이', '545', '52']내부에 있는 숫자는 \n",
      "['243', '231', '545', '52']입니다 \n"
     ]
    }
   ],
   "source": [
    "data = ['243', '231', '스파이', '545', '52']\n",
    "data_int= []\n",
    "\n",
    "for i in data :\n",
    "    try:\n",
    "        int(i)\n",
    "        data_int.append(i)\n",
    "    except :\n",
    "        pass\n",
    "        \n",
    "print(f'{number}내부에 있는 숫자는 ')\n",
    "print(f'{data_int}입니다 ')"
   ]
  },
  {
   "cell_type": "markdown",
   "metadata": {},
   "source": [
    "## try except else\n",
    "\n",
    "try:\n",
    ">예외가 발생할 가능성이 있는 코드\n",
    "\n",
    "except :\n",
    ">예외가 발생했을 때 실행할 코드\n",
    "\n",
    "else :\n",
    ">예외가 발생하지 않았을 때 실행할 코드\n"
   ]
  },
  {
   "cell_type": "code",
   "execution_count": 29,
   "metadata": {},
   "outputs": [
    {
     "name": "stdout",
     "output_type": "stream",
     "text": [
      "정수 입력 :hello\n",
      "무언가 잘못했습니다.\n"
     ]
    }
   ],
   "source": [
    "# try except else 구문으로 예외를 처리합니다.\n",
    "try :\n",
    "    user = int(input('정수 입력 :'))\n",
    "\n",
    "except : \n",
    "    print('무언가 잘못했습니다.')\n",
    "\n",
    "else :\n",
    "    print('원의 반지름 :', user)\n",
    "    print('원의 둘레 :', round(2*3.14*user,2))\n",
    "    print('원의 넓이 :', 3.14*user**2)"
   ]
  },
  {
   "cell_type": "markdown",
   "metadata": {},
   "source": [
    "## finally\n",
    "\n",
    "try:\n",
    ">예외가 발생할 가능성이 있는 코드\n",
    "\n",
    "except :\n",
    ">예외가 발생했을 때 실행할 코드\n",
    "\n",
    "else :\n",
    ">예외가 발생하지 않았을 때 실행할 코드\n",
    "\n",
    "finally :\n",
    ">무조건 실행할 코드\n"
   ]
  },
  {
   "cell_type": "code",
   "execution_count": 31,
   "metadata": {},
   "outputs": [
    {
     "name": "stdout",
     "output_type": "stream",
     "text": [
      "정수 입력 :abc\n",
      "무언가 잘못했습니다.\n",
      "일단 프로그램이 어떻게든 끝이 났습니다\n"
     ]
    }
   ],
   "source": [
    "try :\n",
    "    user = int(input('정수 입력 :'))\n",
    "    print('원의 반지름 :', user)\n",
    "    print('원의 둘레 :', rounnd(2*3.14*user,2))\n",
    "    print('원의 넓이 :', 3.14*user**2)\n",
    "\n",
    "except : \n",
    "    print('무언가 잘못했습니다.')\n",
    "\n",
    "else :\n",
    "    print('예외가 발생하지 안았습니다.')\n",
    "\n",
    "finally :\n",
    "    print('일단 프로그램이 어떻게든 끝이 났습니다')"
   ]
  },
  {
   "cell_type": "markdown",
   "metadata": {},
   "source": [
    "## try, except, finally 의 조합\n",
    "- try는 단독으로 사용할 수 없으며, 반드시 except or finally와 함께 사용해야 한다.\n",
    "- else 구문은 except 구문뒤에 사용해야 한다.\n",
    "- try + except\n",
    "- try + except + else \n",
    "- try + except + finally\n",
    "- try + except+ else + finally\n",
    "- try + finally"
   ]
  },
  {
   "cell_type": "markdown",
   "metadata": {},
   "source": [
    "## raise\n",
    "- 사용자가 강제로 예외를 발생시길때 사용"
   ]
  },
  {
   "cell_type": "code",
   "execution_count": 33,
   "metadata": {},
   "outputs": [
    {
     "name": "stdout",
     "output_type": "stream",
     "text": [
      "정수 입력 :-4\n",
      "입력값에 문제가 있습니다.\n"
     ]
    }
   ],
   "source": [
    "try :\n",
    "    user = int(input('정수 입력 :'))\n",
    "    \n",
    "    if user <= 0 :\n",
    "        raise ValueError\n",
    "    \n",
    "    print('원의 반지름 :', user)\n",
    "    print('원의 둘레 :', round(2*3.14*user),2)\n",
    "    print('원의 넓이 :', 3.14*user*2)\n",
    "\n",
    "except ValueError: \n",
    "    print('입력값에 문제가 있습니다.')"
   ]
  },
  {
   "cell_type": "markdown",
   "metadata": {},
   "source": [
    "## 예외 클래스 만들어 사용하기\n",
    "- 파이썬 내장 클래스인 Exception클래스를 상속받아서 직접 예외 class를 만들어 사용할 수 있다.\n",
    "- **class 클래스명(Exception):**"
   ]
  },
  {
   "cell_type": "code",
   "execution_count": 84,
   "metadata": {},
   "outputs": [],
   "source": [
    "class MyError(Exception):\n",
    "    pass"
   ]
  },
  {
   "cell_type": "code",
   "execution_count": 85,
   "metadata": {},
   "outputs": [
    {
     "ename": "MyError",
     "evalue": "",
     "output_type": "error",
     "traceback": [
      "\u001b[1;31m---------------------------------------------------------------------------\u001b[0m",
      "\u001b[1;31mMyError\u001b[0m                                   Traceback (most recent call last)",
      "Input \u001b[1;32mIn [85]\u001b[0m, in \u001b[0;36m<cell line: 2>\u001b[1;34m()\u001b[0m\n\u001b[0;32m      1\u001b[0m nick \u001b[38;5;241m=\u001b[39m \u001b[38;5;124m'\u001b[39m\u001b[38;5;124m바보\u001b[39m\u001b[38;5;124m'\u001b[39m\u001b[38;5;66;03m#'천사'\u001b[39;00m\n\u001b[0;32m      2\u001b[0m \u001b[38;5;28;01mif\u001b[39;00m nick \u001b[38;5;241m==\u001b[39m \u001b[38;5;124m'\u001b[39m\u001b[38;5;124m바보\u001b[39m\u001b[38;5;124m'\u001b[39m:\n\u001b[1;32m----> 3\u001b[0m     \u001b[38;5;28;01mraise\u001b[39;00m MyError()\n\u001b[0;32m      4\u001b[0m \u001b[38;5;28mprint\u001b[39m(nick)\n",
      "\u001b[1;31mMyError\u001b[0m: "
     ]
    }
   ],
   "source": [
    "nick = '바보'#'천사'\n",
    "if nick == '바보':\n",
    "    raise MyError()\n",
    "print(nick)"
   ]
  },
  {
   "cell_type": "code",
   "execution_count": 68,
   "metadata": {},
   "outputs": [
    {
     "name": "stdout",
     "output_type": "stream",
     "text": [
      "허용되지 않은 별명입니다.\n"
     ]
    }
   ],
   "source": [
    "try : \n",
    "    nick = '바보'\n",
    "    if nick == '바보':\n",
    "        raise MyError()\n",
    "    print(nick) \n",
    "except MyError:\n",
    "    print('허용되지 않은 별명입니다.')"
   ]
  },
  {
   "cell_type": "code",
   "execution_count": 71,
   "metadata": {},
   "outputs": [],
   "source": [
    "class MyError(Exception):\n",
    "    def __str__(self):\n",
    "        return '허용되지 않은 별명입니다.'"
   ]
  },
  {
   "cell_type": "code",
   "execution_count": 72,
   "metadata": {},
   "outputs": [
    {
     "name": "stdout",
     "output_type": "stream",
     "text": [
      "허용되지 않은 별명입니다.\n"
     ]
    }
   ],
   "source": [
    "try : \n",
    "    nick = '바보'\n",
    "    if nick == '바보':\n",
    "        raise MyError()\n",
    "    print(nick) \n",
    "except MyError as err:\n",
    "    print(err)"
   ]
  },
  {
   "cell_type": "markdown",
   "metadata": {},
   "source": [
    "**연습문제1) 다음 코드는 숫자가 아닌 값이 들어오면 에러가 발생합니다. 예외처리를 통해 에러가 발생시에 적절한 메시지를 출력하시오**\n",
    "- 문자가 입력되는 경우\n",
    "- ZeroDivisionError : 0으로 나누면 err 예) 10/0 ==> err!!"
   ]
  },
  {
   "cell_type": "code",
   "execution_count": 52,
   "metadata": {},
   "outputs": [
    {
     "name": "stdout",
     "output_type": "stream",
     "text": [
      "첫 번째 숫자 : 5\n",
      "두 번째 숫자 : 3\n",
      "5/3=1.6666666666666667\n"
     ]
    }
   ],
   "source": [
    "num1 = int(input('첫 번째 숫자 : '))\n",
    "num2 = int(input('두 번째 숫자 : '))\n",
    "print(f'{num1}/{num2}={num1/num2}')"
   ]
  },
  {
   "cell_type": "code",
   "execution_count": 53,
   "metadata": {},
   "outputs": [
    {
     "name": "stdout",
     "output_type": "stream",
     "text": [
      "나누기 전용계산기\n",
      "첫 번째 숫자 : 4\n",
      "두 번째 숫자 : 0\n",
      "division by zero\n"
     ]
    }
   ],
   "source": [
    "try:\n",
    "    print('나누기 전용계산기')\n",
    "    num1 = int(input('첫 번째 숫자 : '))\n",
    "    num2 = int(input('두 번째 숫자 : '))\n",
    "    print('{}/{}={}'.format(num1, num2, int(num1/num2)))\n",
    "    \n",
    "except ValueError :\n",
    "    print('숫자만 입력하세요')\n",
    "except ZeroDivisionError as err:\n",
    "    print(err)\n",
    "except :\n",
    "    print('알수없는 오류가 발생했습니다.')"
   ]
  },
  {
   "cell_type": "markdown",
   "metadata": {},
   "source": [
    "**연습문제2)**\n",
    "- 오늘은 뮤지컬 아이다의 티켓을 예매하는 날입니다. 한꺼번에 사이트에 많은 사람이 몰릴것을 대비하여 제작사에서는 접속 순서대로 티켓예매를 가능하게 하려고 합니다.  시스템 코드를 확인하고 적절한 예외처리 구문을 넣으시오.\n",
    "\n",
    "- 조건 1 : 티켓 수량이 1보다 작거나 숫자가 아닌 입력값이 들어올때는 ValueError로 처리\n",
    "- 조건 2 : 관객을 예매할 수 있는 총 티켓 수량은 20매로 한정, 티켓 소진시 사용자 정의 에러[SoldOutError]를 발생시키고 **프로그램 종료**.\n",
    "- ValueError 메시지 : '잘못된 값을 입력하였습니다.'\n",
    "\n"
   ]
  },
  {
   "cell_type": "code",
   "execution_count": 12,
   "metadata": {},
   "outputs": [],
   "source": [
    "class SoldOutError(Exception):\n",
    "     def __str__(self):\n",
    "        return '뮤지컬 아이다의 티켓이 SoldOut 되었습니다.'"
   ]
  },
  {
   "cell_type": "code",
   "execution_count": 13,
   "metadata": {},
   "outputs": [
    {
     "name": "stdout",
     "output_type": "stream",
     "text": [
      "[남은 티켓:20]\n",
      "예매수량을 입력하세요(숫자) : -1\n",
      "잘못된 값이 입력되었습니다\n",
      "[남은 티켓:20]\n",
      "예매수량을 입력하세요(숫자) : adlsj;f\n",
      "잘못된 값이 입력되었습니다\n",
      "[남은 티켓:20]\n",
      "예매수량을 입력하세요(숫자) : 3\n",
      "[대기번호1] 뮤지컬 아이다의 티켓 3매가 예약 완료 되었습니다.\n",
      "[남은 티켓:17]\n",
      "예매수량을 입력하세요(숫자) : 4\n",
      "[대기번호2] 뮤지컬 아이다의 티켓 4매가 예약 완료 되었습니다.\n",
      "[남은 티켓:13]\n",
      "예매수량을 입력하세요(숫자) : 15\n",
      "남아있는 티켓이 신청하신 티켓보다 부족합니다.\n",
      "[남은 티켓:13]\n",
      "예매수량을 입력하세요(숫자) : 13\n",
      "[대기번호3] 뮤지컬 아이다의 티켓 13매가 예약 완료 되었습니다.\n",
      "뮤지컬 아이다의 티켓이 SoldOut 되었습니다.\n"
     ]
    }
   ],
   "source": [
    "import sys\n",
    "ticket = 20\n",
    "waiting = 1\n",
    "\n",
    "while True :\n",
    "    try :\n",
    "        print(f'[남은 티켓:{ticket}]')\n",
    "        order = int(input('예매수량을 입력하세요(숫자) : '))\n",
    "        \n",
    "        if order > ticket : print('남아있는 티켓이 신청하신 티켓보다 부족합니다.')\n",
    "\n",
    "        elif order <= 0 :\n",
    "            raise ValueError\n",
    "        else :\n",
    "            print(f'[대기번호{waiting}] 뮤지컬 아이다의 티켓 {order}매가 예약 완료 되었습니다.')\n",
    "            waiting +=1\n",
    "            ticket -= order\n",
    "            \n",
    "        if ticket == 0 : raise SoldOutError\n",
    "            \n",
    "    except ValueError :\n",
    "        print('잘못된 값이 입력되었습니다')\n",
    "    \n",
    "    except SoldOutError as err:\n",
    "        print(err)\n",
    "        break\n",
    "    "
   ]
  },
  {
   "cell_type": "code",
   "execution_count": null,
   "metadata": {},
   "outputs": [],
   "source": []
  }
 ],
 "metadata": {
  "kernelspec": {
   "display_name": "Python 3 (ipykernel)",
   "language": "python",
   "name": "python3"
  },
  "language_info": {
   "codemirror_mode": {
    "name": "ipython",
    "version": 3
   },
   "file_extension": ".py",
   "mimetype": "text/x-python",
   "name": "python",
   "nbconvert_exporter": "python",
   "pygments_lexer": "ipython3",
   "version": "3.9.12"
  },
  "toc": {
   "base_numbering": 1,
   "nav_menu": {},
   "number_sections": true,
   "sideBar": true,
   "skip_h1_title": false,
   "title_cell": "Table of Contents",
   "title_sidebar": "Contents",
   "toc_cell": false,
   "toc_position": {},
   "toc_section_display": true,
   "toc_window_display": true
  }
 },
 "nbformat": 4,
 "nbformat_minor": 4
}
