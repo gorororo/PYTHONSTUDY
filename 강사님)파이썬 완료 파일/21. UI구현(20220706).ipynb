{
 "cells": [
  {
   "attachments": {
    "image.png": {
     "image/png": "[encoded data removed]"
    }
   },
   "cell_type": "markdown",
   "metadata": {},
   "source": [
    "###  문장을 입력받으면 문장의 단어 갯수를 출력하는 프로그램을 작성하시오.\n",
    "![image.png](attachment:image.png)"
   ]
  },
  {
   "cell_type": "code",
   "execution_count": 14,
   "metadata": {
    "scrolled": true
   },
   "outputs": [
    {
     "name": "stdout",
     "output_type": "stream",
     "text": [
      "Hello world python\n",
      "3\n"
     ]
    }
   ],
   "source": [
    "data = input().strip().split()\n",
    "\n",
    "print(len(data))"
   ]
  },
  {
   "attachments": {
    "image.png": {
     "image/png": "[encoded data removed]"
    }
   },
   "cell_type": "markdown",
   "metadata": {},
   "source": [
    "###  '20220706Sunny' 문자열을 슬라이스 해서 아래와 같은 모양으로 화면에 출력하시오.\n",
    "![image.png](attachment:image.png)"
   ]
  },
  {
   "cell_type": "code",
   "execution_count": 1,
   "metadata": {
    "scrolled": true
   },
   "outputs": [
    {
     "name": "stdout",
     "output_type": "stream",
     "text": [
      "2022년 07월 06일 Sunny\n"
     ]
    }
   ],
   "source": [
    "a = '20220706Sunny'\n",
    "\n",
    "year = a[:4]\n",
    "month = a[4:6]\n",
    "day = a[6:8]\n",
    "weather = a[8:]\n",
    "\n",
    "print(f'{year}년 {month}월 {day}일 {weather}')"
   ]
  },
  {
   "attachments": {
    "image.png": {
     "image/png": "[encoded data removed]"
    }
   },
   "cell_type": "markdown",
   "metadata": {},
   "source": [
    "### 양의 정수 n을 입력 받아서 아래 그림과 같은 직각삼각형을  출력하는 프로그램을 작성하시오.\n",
    "[ 조건 ]\n",
    " 1. 양의 정수 n : 키보드 입력으로 값을 받을 것.\n",
    " 2. ★(\\u2605)을 이용해서 찍을 것.\n",
    " ![image.png](attachment:image.png)"
   ]
  },
  {
   "cell_type": "code",
   "execution_count": 1,
   "metadata": {
    "scrolled": false
   },
   "outputs": [
    {
     "name": "stdout",
     "output_type": "stream",
     "text": [
      "양의 정수 입력 : 5\n",
      "★\n",
      "★★\n",
      "★★★\n",
      "★★★★\n",
      "★★★★★\n"
     ]
    }
   ],
   "source": [
    "n = int(input('양의 정수 입력 : '))\n",
    "i=1\n",
    "\n",
    "while i< n+1 :\n",
    "    print('\\u2605'*i)\n",
    "    i += 1"
   ]
  },
  {
   "cell_type": "markdown",
   "metadata": {},
   "source": [
    "### 1~9사이의 정수 n을 입력 받아서 아래와 같은 곱하기 결과를 출력하시오.\n",
    "- [ 조건 ]\n",
    "1. 간격은 조건이 없으나 한줄에 나와야 함.간격은 조건이 없으나 한줄에 나와야 함."
   ]
  },
  {
   "cell_type": "code",
   "execution_count": 10,
   "metadata": {
    "scrolled": true
   },
   "outputs": [
    {
     "name": "stdout",
     "output_type": "stream",
     "text": [
      "1~9사이의 정수 :6\n",
      "6X9=54\t6X8=48\t6X7=42\t6X6=36\t6X5=30\t6X4=24\t6X3=18\t6X2=12\t6X1=6\t"
     ]
    }
   ],
   "source": [
    "n = int(input('1~9사이의 정수 :'))\n",
    "\n",
    "for i in range(9,0,-1):\n",
    "    print(f'{n}X{i}={n*i}', end='\\t')"
   ]
  },
  {
   "cell_type": "markdown",
   "metadata": {},
   "source": [
    "### 아래 조건을 만족하는 프로그램을 작성하고 화면에  출력하시오.\n",
    "\n",
    "- 2022 한국프로야구 리그에서는 경기조작을 맞고자 당일아침 추첨에 의해 주심을 정한다.\n",
    "- referee = ['이승엽','박찬호','김태균','윤석민', '이종범', '이상훈', '홍성흔' ]\n",
    "- 경기는 총 5경기가 열린다."
   ]
  },
  {
   "cell_type": "code",
   "execution_count": 2,
   "metadata": {},
   "outputs": [
    {
     "name": "stdout",
     "output_type": "stream",
     "text": [
      "1경기 : 홍성흔\n",
      "2경기 : 이승엽\n",
      "3경기 : 이종범\n",
      "4경기 : 김태균\n",
      "5경기 : 윤석민\n"
     ]
    }
   ],
   "source": [
    "import random\n",
    "referee = ['이승엽','박찬호','김태균','윤석민', '이종범', '이상훈', '홍성흔' ]\n",
    "referee2 = random.sample(referee, k = 5)\n",
    "\n",
    "for i in range(len(referee2)):\n",
    "    print(f'{i+1}경기 : {referee2[i]}')"
   ]
  },
  {
   "cell_type": "code",
   "execution_count": 3,
   "metadata": {},
   "outputs": [
    {
     "name": "stdout",
     "output_type": "stream",
     "text": [
      "1경기 : 홍성흔\n",
      "2경기 : 이승엽\n",
      "3경기 : 이종범\n",
      "4경기 : 김태균\n",
      "5경기 : 윤석민\n"
     ]
    }
   ],
   "source": [
    "for idx, val in enumerate(referee2):\n",
    "    print(f'{idx+1}경기 : {val}')"
   ]
  },
  {
   "attachments": {
    "image-2.png": {
     "image/png": "[encoded data removed]"
    }
   },
   "cell_type": "markdown",
   "metadata": {},
   "source": [
    "### 아래 조건을 만족하는 코드를 완성하시오.\n",
    "- 정수가 들어오면 제곱한 값을 돌려주는 get_sqrt()을 생성하시오.\n",
    "- 0~100사이의 정수가 들어있는 num_list를 생성하시오.(증가값 :1)\n",
    "- num_list에서 5의 배수는 get_sqrt()를 호출하여 제곱한 값이 들어가도록 num_list를 수정하시오. \n",
    "\n",
    "<출력화면>\n",
    "![image-2.png](attachment:image-2.png)"
   ]
  },
  {
   "cell_type": "code",
   "execution_count": 12,
   "metadata": {},
   "outputs": [],
   "source": [
    "def get_sqrt(n):\n",
    "    return n**2 # or n*n"
   ]
  },
  {
   "cell_type": "code",
   "execution_count": 13,
   "metadata": {
    "scrolled": false
   },
   "outputs": [
    {
     "name": "stdout",
     "output_type": "stream",
     "text": [
      "[0, 1, 2, 3, 4, 25, 6, 7, 8, 9, 100, 11, 12, 13, 14, 225, 16, 17, 18, 19, 400, 21, 22, 23, 24, 625, 26, 27, 28, 29, 900, 31, 32, 33, 34, 1225, 36, 37, 38, 39, 1600, 41, 42, 43, 44, 2025, 46, 47, 48, 49, 2500, 51, 52, 53, 54, 3025, 56, 57, 58, 59, 3600, 61, 62, 63, 64, 4225, 66, 67, 68, 69, 4900, 71, 72, 73, 74, 5625, 76, 77, 78, 79, 6400, 81, 82, 83, 84, 7225, 86, 87, 88, 89, 8100, 91, 92, 93, 94, 9025, 96, 97, 98, 99, 10000]\n"
     ]
    }
   ],
   "source": [
    "num_list = list(range(101))\n",
    "\n",
    "for i in num_list:\n",
    "    if i % 5 == 0 : num_list[i]= get_sqrt(i)\n",
    "        \n",
    "print(num_list)"
   ]
  },
  {
   "cell_type": "markdown",
   "metadata": {},
   "source": [
    "### 파일 입출력\n",
    "- korean_national1.txt ~ korean_national4.txt 파일에는 애국가 1절~ 4절의 가사가 각각 있습니다. 이 파일들을 읽어 out.txt 파일에 다음과 같이 저장하는 프로그램을 작성하시요.\n",
    "\n",
    "[ 조건 ]\n",
    "1. 파일의 위치는 상관없으나 상대경로로 지정 할 것.\n",
    "2. 모듈 import 없이 python 내장함수, 명령어를 이용하여 구현 할 것."
   ]
  },
  {
   "cell_type": "code",
   "execution_count": 5,
   "metadata": {},
   "outputs": [],
   "source": [
    "song = ''\n",
    "with open('test/out.txt','w', encoding='utf8') as outfile:\n",
    "    outfile.write('')\n",
    "\n",
    "for i in range(1,5) :\n",
    "    file_path = f'test/korean_national{i}.txt'\n",
    "    \n",
    "    with open(file_path,'r', encoding='utf8') as infile:\n",
    "        song = infile.read()\n",
    "        \n",
    "    with open('test/out.txt','a', encoding='utf8') as outfile:\n",
    "        outfile.write(file_path+'\\n')\n",
    "        outfile.write('-'*40+'\\n')\n",
    "        outfile.write(song+'\\n')\n",
    "#print(song)    "
   ]
  },
  {
   "cell_type": "code",
   "execution_count": null,
   "metadata": {},
   "outputs": [],
   "source": []
  }
 ],
 "metadata": {
  "kernelspec": {
   "display_name": "Python 3 (ipykernel)",
   "language": "python",
   "name": "python3"
  },
  "language_info": {
   "codemirror_mode": {
    "name": "ipython",
    "version": 3
   },
   "file_extension": ".py",
   "mimetype": "text/x-python",
   "name": "python",
   "nbconvert_exporter": "python",
   "pygments_lexer": "ipython3",
   "version": "3.9.12"
  },
  "toc": {
   "base_numbering": 1,
   "nav_menu": {},
   "number_sections": true,
   "sideBar": true,
   "skip_h1_title": false,
   "title_cell": "Table of Contents",
   "title_sidebar": "Contents",
   "toc_cell": false,
   "toc_position": {
    "height": "calc(100% - 180px)",
    "left": "10px",
    "top": "150px",
    "width": "232.727px"
   },
   "toc_section_display": true,
   "toc_window_display": false
  }
 },
 "nbformat": 4,
 "nbformat_minor": 4
}
