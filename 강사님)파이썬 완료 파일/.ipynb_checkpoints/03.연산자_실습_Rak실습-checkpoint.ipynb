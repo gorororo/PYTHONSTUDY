{
 "cells": [
  {
   "cell_type": "markdown",
   "id": "46a2685c",
   "metadata": {},
   "source": [
    "# 산술연산자\n",
    "\n",
    "- 가장 기본적인 연산자. 사칙연산(+, - , *, \\/)이 기본\n",
    "- 조금 생소할 수 있는 연산자\n",
    "    - % : 몫을 나눈 나머지를 구함\n",
    "    - // : 나눔셈에 대한 몫을 정수형으로 구함\n",
    "    - ** : 제곱연산"
   ]
  },
  {
   "cell_type": "code",
   "execution_count": 1,
   "id": "2ac86974",
   "metadata": {},
   "outputs": [
    {
     "name": "stdout",
     "output_type": "stream",
     "text": [
      "a+b= 13\n",
      "a-b= 7\n",
      "a*b= 30\n",
      "a/b= 3.3333333333333335\n",
      "a//b= 3\n",
      "a%b= 1\n",
      "a**b= 1000\n"
     ]
    }
   ],
   "source": [
    "a = 10\n",
    "b = 3\n",
    "\n",
    "print('a+b=',a+b)\n",
    "print('a-b=',a-b)\n",
    "print('a*b=',a*b)\n",
    "print('a/b=',a/b)\n",
    "print('a//b=',a//b)\n",
    "print('a%b=',a%b)\n",
    "print('a**b=',a**b)"
   ]
  },
  {
   "cell_type": "markdown",
   "id": "85230bb5",
   "metadata": {},
   "source": [
    "# 대입연산자\n",
    "\n",
    "| 연산자 | 사용 예 | 설명 | 연산자 | 사용 예 | 설명 | \n",
    "| --- | --- | --- | --- | --- | --- | \n",
    "| += | a += 3 | a = a+3 | -= | a -= 3 | a = a-3 \n",
    "| *= | a *= 3 | a = a*3 | /= | a /= 3 | a = a/3 |\n",
    "| //= | a //= 3 | a = a//3 |  %= | a %= 3 | a = a%3 |\n",
    "| **= | a **= 3 | a = a**3 |\n"
   ]
  },
  {
   "cell_type": "markdown",
   "id": "fda30de4",
   "metadata": {},
   "source": [
    "**연습문제1) 동전교환 프로그램**\n",
    "- 금액을 입력 받아서 동전으로 바꿔주는 프로그램"
   ]
  },
  {
   "cell_type": "code",
   "execution_count": 30,
   "id": "9542295b",
   "metadata": {},
   "outputs": [
    {
     "name": "stdout",
     "output_type": "stream",
     "text": [
      "동전으로 바꿀 금액을 입력하세요 : 564646\n",
      "1129 <-500원 교환개수 146 남은돈\n",
      "1 <-100원 교환개수 46 남은돈\n",
      "0 <-50원 교환개수 46 남은돈\n",
      "4 <-10원 교환개수 6 남은돈\n",
      "바꾸지 못한 잔돈 6 원\n"
     ]
    }
   ],
   "source": [
    "# 입력 : 금액(정수형)\n",
    "# 처리 : 전체 금액 / \n",
    "# 출력 : 바뀐동전\n",
    "money = int(input(\"동전으로 바꿀 금액을 입력하세요 : \"))\n",
    "\n",
    "coin500 = money // 500\n",
    "money %= 500\n",
    "print(coin500,\"<-500원 교환개수\", money,\"남은돈\")\n",
    "\n",
    "coin100 = money // 100\n",
    "money %= 100\n",
    "print(coin100,\"<-100원 교환개수\", money,\"남은돈\")\n",
    "\n",
    "coin50 = money // 50\n",
    "money %= 50\n",
    "print(coin50,\"<-50원 교환개수\", money,\"남은돈\")\n",
    "\n",
    "coin10 = money // 10\n",
    "money %= 10\n",
    "print(coin10,\"<-10원 교환개수\", money,\"남은돈\")\n",
    "\n",
    "print('바꾸지 못한 잔돈',money,'원')\n",
    "# print('500 원 : ',coin500)\n",
    "# print('100 원 : ',coin100)\n",
    "# print('50 원 : ',coin50)\n",
    "# print('10 원 : ',coin10)\n",
    "# print('바꾸지 못한 잔돈 : ',money,'원')\n",
    "\n"
   ]
  },
  {
   "cell_type": "markdown",
   "id": "095a4791",
   "metadata": {},
   "source": [
    "# 비교(관계)연산자\n",
    "- == : 같다.\n",
    "- != : 같지 않다."
   ]
  },
  {
   "cell_type": "code",
   "execution_count": 32,
   "id": "94dcac61",
   "metadata": {},
   "outputs": [
    {
     "name": "stdout",
     "output_type": "stream",
     "text": [
      "False\n",
      "False True False True False True\n"
     ]
    }
   ],
   "source": [
    "a, b = 100, 200\n",
    "\n",
    "print(a == b)\n",
    "\n",
    "    \n",
    "print(a == b, a != b, a > b, a < b, a >= b, a <= b)"
   ]
  },
  {
   "cell_type": "markdown",
   "id": "d44da9b7",
   "metadata": {},
   "source": [
    "# 논리연산자\n",
    "\n",
    "| 연산자 | <center>의미</center> | <center>설명</center>| <center>사용 예</center>   |\n",
    "| --- | :--- | :--- | :--- |\n",
    "| and(논리곱) | 그리고 | 둘 다 참이어야 함 | (a>100) and (a<200)\n",
    "| or(논리합) | 또는 | 둘 중 하나만 참이어도 참 | (a==100) or (a==200)\n",
    "| not(논리부정) | ~아니다. 부정 | 참이면 거짓, 거짓이면 참 | not(a>100)"
   ]
  },
  {
   "cell_type": "code",
   "execution_count": 38,
   "id": "71054573",
   "metadata": {},
   "outputs": [
    {
     "name": "stdout",
     "output_type": "stream",
     "text": [
      "False\n",
      "True\n",
      "True\n"
     ]
    }
   ],
   "source": [
    "a = 99\n",
    "\n",
    "# a가 100보다 크고 200보다 작다\n",
    "print((a>100) and (a<200))\n",
    "# a가 100보다 크거나 200보다 작다\n",
    "print((a>100) or (a<200))\n",
    "# a는 100과 같다가 아니다\n",
    "print(not(a==100))"
   ]
  },
  {
   "cell_type": "markdown",
   "id": "fc344986",
   "metadata": {},
   "source": [
    "# 연산자 우선순위\n",
    "\n",
    "| 순위 | <center>연산자</center> | <center>의미</center>  |\n",
    "|---:|:--- |:---| \n",
    "| 1 | ( )  [ ]  { }| 괄호, 리스트, 딕셔너리, 세트 등 |\n",
    "| 2 | ** | 지수 |\n",
    "| 3 | + -  | 단항연산자(숫자나, 변수앞에 붙는 +, - 부호)  |\n",
    "| 4 | * / % // | 산술연산자  |\n",
    "| 5 | + - | 산술연산자 |\n",
    "| 6 | < > >= <= | 관계연산자 |\n",
    "| 7 | == != | 관계연산자 |\n",
    "| 8 | = %= /= //= -= += \\*= \\*\\*= | 대입연산자 |\n",
    "| 9 | not | 논리연산자 |\n",
    "| 10 | and | 논리연산자 |\n",
    "| 11 | or | 논리연산자 |\n",
    "| 12 | if ~ else | 비교식 |\n"
   ]
  },
  {
   "cell_type": "markdown",
   "id": "1bafc79e",
   "metadata": {},
   "source": [
    "**연습문제2) andy의 중간고사 평균 학점을 구하시오.**\n",
    "- andy는 1학기 중간고사의 학점을 알고싶다.\n",
    "- and가 중간고사 때 수강한 과목과 학점은 다음과 같다.\n",
    "| 기초수학(3) | 프로그래밍(3) | 자료구조(2) | 글쓰기(3) |\n",
    "| :---: | :---: | :---: | :---: |\n",
    "| A | C | B+ | A+ |\n",
    "\n",
    "\n",
    "- 과목이름 옆 괄호에 있는 숫자는 학점 수이고, 4.5만점 기준으로 성적이 계산된다.\n",
    "> e.g. <b>A+ : 4.5,   A : 4.0,   B+ : 3.5,   B : 3.0,   C+ : 2.5,   C : 2.0,   F : 0</b>\n",
    "\n",
    "- 계산 공식은 다음과 같다.\n",
    "> (3 x A + 3 x C + 2 x B+ + 3 x A+) / (3+3+2+3) = (3 x 4.5 + 3 x 2.0 + 2 x 3.5 + 3 x 4.0) / 학점의 합계"
   ]
  },
  {
   "cell_type": "code",
   "execution_count": null,
   "id": "c6dc561b",
   "metadata": {},
   "outputs": [],
   "source": [
    "\"a+\"=4.5\n",
    "\"a\"=4.0\n",
    "\"b+\"=3.5\n",
    "\"b\"=3.0\n",
    "\"c+\"=2.5\n",
    "\"c\"=2.0\n",
    "\"f\"=0\n",
    "\n",
    "math=\"a\"\n",
    "pro=\"c\"\n",
    "data=\"b+\"\n",
    "writing=\"a+\"\n",
    "\n",
    "\n",
    "\n",
    "\n",
    "(3*'a')+(3*'c')+(2*'b+')+(3*'a+')/('a'+'b'+'b+'+'a+')=()"
   ]
  },
  {
   "cell_type": "markdown",
   "id": "80363deb",
   "metadata": {},
   "source": [
    "**연습문제 3) 윤년 계산 프로그램**\n",
    "- 논리 연산자를 이용하여 윤년 계산기 만들기\n",
    "- 4로 나누어 떨어지는 해는 윤년으로 한다. (1988년, 1992년, 1996년, 2004년, 2008년, 2012년, 2016년, 2020년, 2024년, 2028년, 2032년, 2036년, 2040년, 2044년 ...)\n",
    "- 4, 100 으로 나누어 떨어지는 해는 평년으로 한다. (1900년, 2100년, 2200년, 2300년, 2500년...)\n",
    "- 4, 100, 400 으로 나누어 떨어지는 해는 윤년으로 둔다. (2000년, 2400년...)\n",
    "출처: 위키백과\n",
    "\n",
    "==> 종합하면 **4의 배수이면서 100의 배수가 아니거나**, **400의 배수**면 윤년이다."
   ]
  },
  {
   "cell_type": "code",
   "execution_count": 3,
   "id": "7dfad892",
   "metadata": {
    "scrolled": true
   },
   "outputs": [
    {
     "name": "stdout",
     "output_type": "stream",
     "text": [
      "년도를 입력하세요 : 1995\n",
      "1995년은 윤년이 아닙니다\n"
     ]
    }
   ],
   "source": []
  },
  {
   "cell_type": "code",
   "execution_count": null,
   "id": "c822b98a",
   "metadata": {},
   "outputs": [],
   "source": []
  }
 ],
 "metadata": {
  "kernelspec": {
   "display_name": "Python 3 (ipykernel)",
   "language": "python",
   "name": "python3"
  },
  "language_info": {
   "codemirror_mode": {
    "name": "ipython",
    "version": 3
   },
   "file_extension": ".py",
   "mimetype": "text/x-python",
   "name": "python",
   "nbconvert_exporter": "python",
   "pygments_lexer": "ipython3",
   "version": "3.9.12"
  },
  "toc": {
   "base_numbering": 1,
   "nav_menu": {},
   "number_sections": true,
   "sideBar": true,
   "skip_h1_title": false,
   "title_cell": "Table of Contents",
   "title_sidebar": "Contents",
   "toc_cell": false,
   "toc_position": {},
   "toc_section_display": true,
   "toc_window_display": true
  }
 },
 "nbformat": 4,
 "nbformat_minor": 5
}
