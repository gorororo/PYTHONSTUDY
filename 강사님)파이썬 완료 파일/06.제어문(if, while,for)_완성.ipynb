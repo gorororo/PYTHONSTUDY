{
 "cells": [
  {
   "cell_type": "markdown",
   "metadata": {},
   "source": [
    "**Control statement란?**\n",
    "- 프로그램의 흐름을 제어하는 명령어를 말한다.\n",
    "> 프로그램의 흐름 = 컴퓨터가 어떤 일을 해야하는지에 대한 과정.\n",
    "\n",
    "- 조건과 반복에 따라서 프로그램의 진행 과정이 바뀌게 된다.\n",
    "> 프로그램은 조건과 반복의 나열이다.\n",
    "\n",
    "- 조건문(Conditional Statement)에는 if문이 있다.\n",
    "> if, elif, else\n",
    "\n",
    "- 반복문(Iterative Statement)에는 while, for문이 있다.\n",
    "> while, for\n",
    "\n",
    "- 사실상 프로그래밍이란 데이터를 사용자가 원하는대로 제어하여 원하는 결과를 내는 과정을 얘기한다."
   ]
  },
  {
   "cell_type": "markdown",
   "metadata": {},
   "source": [
    "# If statement (조건문)"
   ]
  },
  {
   "cell_type": "markdown",
   "metadata": {},
   "source": [
    "- 프로그램에서 가장 중요한 조건 판단이다.\n",
    "- 모든 프로그램은 조건을 판단하여 다음 진행 과정을 결정한다.\n",
    "- 파이썬은 if, elif, else 구문을 이용하여 조건을 사용할 수 있다."
   ]
  },
  {
   "cell_type": "markdown",
   "metadata": {},
   "source": [
    "## 파이썬에서 if문을 사용하는 방법"
   ]
  },
  {
   "cell_type": "code",
   "execution_count": 1,
   "metadata": {},
   "outputs": [
    {
     "name": "stdout",
     "output_type": "stream",
     "text": [
      "True\n",
      "False\n"
     ]
    }
   ],
   "source": [
    "a = 5\n",
    "# a가 5인데, a가 5와 같으면, True를 출력하고 싶다.\n",
    "if a == 5:\n",
    "    print(\"True\")\n",
    "print(\"False\")"
   ]
  },
  {
   "cell_type": "code",
   "execution_count": 2,
   "metadata": {},
   "outputs": [
    {
     "name": "stdout",
     "output_type": "stream",
     "text": [
      "True\n"
     ]
    }
   ],
   "source": [
    "a = 5\n",
    "# a가 5인데, a가 5와 같으면, True를 출력하고 싶다.\n",
    "if a == 5:\n",
    "    print(\"True\")\n",
    "else :\n",
    "    print(\"False\")"
   ]
  },
  {
   "cell_type": "code",
   "execution_count": 3,
   "metadata": {},
   "outputs": [
    {
     "name": "stdout",
     "output_type": "stream",
     "text": [
      "거짓\n"
     ]
    }
   ],
   "source": [
    "if 0:\n",
    "    print('참')\n",
    "else:\n",
    "    print('거짓')"
   ]
  },
  {
   "cell_type": "code",
   "execution_count": 6,
   "metadata": {},
   "outputs": [
    {
     "name": "stdout",
     "output_type": "stream",
     "text": [
      "참\n"
     ]
    }
   ],
   "source": [
    "if -5:\n",
    "    print('참')\n",
    "else:\n",
    "    print('거짓')"
   ]
  },
  {
   "cell_type": "markdown",
   "metadata": {},
   "source": [
    "## 조건문을 사용하기 위해선, 비교연산과 논리연산을 알아야 한다."
   ]
  },
  {
   "cell_type": "markdown",
   "metadata": {},
   "source": [
    "- 비교연산 : 같다, 다르다, 크다, 작다, 크거나 같다, 작거나 같다. \n",
    "- a == b, a != b, a > b, a < b, a >= b, a <= b \n",
    "\n",
    "- 논리연산 : \n",
    "    - a and b : a와 b가 둘다 만족\n",
    "    - a or b : a와 b 중에 하나 이상 만족\n",
    "    - not a : a가 아닌 것.\n",
    "    \n",
    "**- 비교연산과 논리연산의 공통점은 결과가 참(True) 또는 거짓(False)라는 것이다.**"
   ]
  },
  {
   "cell_type": "markdown",
   "metadata": {},
   "source": [
    "## in / not in"
   ]
  },
  {
   "cell_type": "markdown",
   "metadata": {},
   "source": [
    "**in / not in**\n",
    "\n",
    "| in | not in |\n",
    "|:----:|:----:|\n",
    "| x in 리스트 | x not in 리스트 | \n",
    "| x in 튜플 | x not in 튜플 | \n",
    "| x in 문자열 | x not in 문자열 |\n",
    "| x in 딕셔너리 | x not in 딕셔너리 |\n"
   ]
  },
  {
   "cell_type": "code",
   "execution_count": 8,
   "metadata": {},
   "outputs": [
    {
     "data": {
      "text/plain": [
       "True"
      ]
     },
     "execution_count": 8,
     "metadata": {},
     "output_type": "execute_result"
    }
   ],
   "source": [
    "1 in [1,2,3]"
   ]
  },
  {
   "cell_type": "code",
   "execution_count": 9,
   "metadata": {},
   "outputs": [
    {
     "data": {
      "text/plain": [
       "False"
      ]
     },
     "execution_count": 9,
     "metadata": {},
     "output_type": "execute_result"
    }
   ],
   "source": [
    "1 not in [1,2,3]"
   ]
  },
  {
   "cell_type": "code",
   "execution_count": 11,
   "metadata": {},
   "outputs": [
    {
     "name": "stdout",
     "output_type": "stream",
     "text": [
      "['사과', '배', '포도', '딸기']\n",
      "True\n",
      "딸기가 있었네요\n"
     ]
    }
   ],
   "source": [
    "fruit = ['사과', '배', '포도', '딸기']\n",
    "print(fruit)\n",
    "print('딸기' in fruit)\n",
    "\n",
    "if '딸기' in fruit:\n",
    "    print('딸기가 있었네요')"
   ]
  },
  {
   "cell_type": "code",
   "execution_count": 12,
   "metadata": {},
   "outputs": [
    {
     "name": "stdout",
     "output_type": "stream",
     "text": [
      "('사과', '배', '포도', '딸기')\n",
      "False\n"
     ]
    }
   ],
   "source": [
    "fruit = ('사과', '배', '포도', '딸기')\n",
    "print(fruit)\n",
    "print('딸기' not in fruit)"
   ]
  },
  {
   "cell_type": "code",
   "execution_count": 13,
   "metadata": {
    "scrolled": true
   },
   "outputs": [
    {
     "data": {
      "text/plain": [
       "True"
      ]
     },
     "execution_count": 13,
     "metadata": {},
     "output_type": "execute_result"
    }
   ],
   "source": [
    "'j' not in 'python'"
   ]
  },
  {
   "cell_type": "markdown",
   "metadata": {},
   "source": [
    "## 다양한 조건을 판단하는 elif"
   ]
  },
  {
   "cell_type": "markdown",
   "metadata": {},
   "source": [
    "> \"주머니에 돈(money)이 있으면 택시를 타고, 주머니에 돈은 없지만 카드가 있으면 택시를 타고, 돈도 없고 카드도 없으면 걸어 가라.\""
   ]
  },
  {
   "cell_type": "code",
   "execution_count": 14,
   "metadata": {},
   "outputs": [
    {
     "name": "stdout",
     "output_type": "stream",
     "text": [
      "택시를 타고 가라\n"
     ]
    }
   ],
   "source": [
    "#중첩 if\n",
    "pocket = ['paper', 'handphone']\n",
    "card = True\n",
    "\n",
    "if 'money' in pocket:\n",
    "    print(\"택시를 타고 가라\")\n",
    "else :\n",
    "    if card :\n",
    "        print(\"택시를 타고 가라\")\n",
    "    else :\n",
    "        print('걸어가라')\n",
    "\n"
   ]
  },
  {
   "cell_type": "code",
   "execution_count": 15,
   "metadata": {},
   "outputs": [
    {
     "name": "stdout",
     "output_type": "stream",
     "text": [
      "택시를 타고가라\n"
     ]
    }
   ],
   "source": [
    "#elif\n",
    "pocket = ['paper', 'cellphone']\n",
    "card = True\n",
    "\n",
    "if 'money' in pocket:\n",
    "    print(\"택시를 타고가라\")\n",
    "elif card==True : \n",
    "    print(\"택시를 타고가라\")\n",
    "else:\n",
    "    print(\"걸어가라\")"
   ]
  },
  {
   "cell_type": "markdown",
   "metadata": {},
   "source": [
    "**연습문제1)커피 자판기 프로그램**\n",
    "- 300원보다 적은 경우엔 돈을 그냥 돌려주고,\n",
    "- 자판기에 입력된 돈이 300원이면 커피를 주고, \n",
    "- 300원보다 많은 경우에는 커피와 함께 거스름돈을 주어야 한다. 이를 어떻게 구현할 수 있을까?"
   ]
  },
  {
   "cell_type": "code",
   "execution_count": 16,
   "metadata": {},
   "outputs": [
    {
     "name": "stdout",
     "output_type": "stream",
     "text": [
      "잔액이 부족합니다. 200원을 돌려줍니다.\n"
     ]
    }
   ],
   "source": [
    "#1. 입력된 돈 < Coffee 값\n",
    "money = 200\n",
    "\n",
    "if money < 300 :\n",
    "    print(f'잔액이 부족합니다. {money}원을 돌려줍니다.')\n"
   ]
  },
  {
   "cell_type": "code",
   "execution_count": 17,
   "metadata": {},
   "outputs": [
    {
     "name": "stdout",
     "output_type": "stream",
     "text": [
      "Coffee\n"
     ]
    }
   ],
   "source": [
    "#2. 입력된 돈 = Coffee 값\n",
    "money = 300\n",
    "\n",
    "if money == 300 :\n",
    "    print('Coffee')"
   ]
  },
  {
   "cell_type": "code",
   "execution_count": 18,
   "metadata": {},
   "outputs": [
    {
     "name": "stdout",
     "output_type": "stream",
     "text": [
      "Coffee\n",
      "거스름 돈 700원을 돌려 드립니다.\n"
     ]
    }
   ],
   "source": [
    "#3. 입력된 돈 > Coffee 값\n",
    "money = 1000\n",
    "\n",
    "if money > 300 :\n",
    "    print('Coffee')\n",
    "    print(f'거스름 돈 {money-300}원을 돌려 드립니다.')"
   ]
  },
  {
   "cell_type": "code",
   "execution_count": 20,
   "metadata": {},
   "outputs": [
    {
     "name": "stdout",
     "output_type": "stream",
     "text": [
      "Coffee\n",
      "거스름 돈 700원을 돌려 드립니다.\n"
     ]
    }
   ],
   "source": [
    "# if-else 구조 \n",
    "money = 1000\n",
    "\n",
    "if money < 300 :\n",
    "    print(f'잔액이 부족합니다. {money}원을 돌려줍니다.')\n",
    "else :\n",
    "    if money == 300 :\n",
    "        print('Coffee')\n",
    "    else : \n",
    "        print('Coffee')\n",
    "        print(f'거스름 돈 {money-300}원을 돌려 드립니다.')"
   ]
  },
  {
   "cell_type": "code",
   "execution_count": 22,
   "metadata": {},
   "outputs": [
    {
     "name": "stdout",
     "output_type": "stream",
     "text": [
      "Coffee\n",
      "거스름 돈 400원을 돌려줍니다.\n"
     ]
    }
   ],
   "source": [
    "# elif 구조\n",
    "money = 700\n",
    "\n",
    "if money < 300:\n",
    "    print(f'잔액이 부족합니다. {money}원을 돌려줍니다.')\n",
    "elif money == 300:    \n",
    "    print('Coffee')\n",
    "else:\n",
    "    print('Coffee')\n",
    "    print(f'거스름 돈 {money-300}원을 돌려줍니다.')"
   ]
  },
  {
   "cell_type": "markdown",
   "metadata": {},
   "source": [
    "## 삼항연산자를 사용한 if\n",
    "- <참인 경우> **if 조건 else** <거짓인 경우>\n"
   ]
  },
  {
   "cell_type": "code",
   "execution_count": 23,
   "metadata": {},
   "outputs": [
    {
     "name": "stdout",
     "output_type": "stream",
     "text": [
      "불합격\n"
     ]
    }
   ],
   "source": [
    "# 60 점 이상이면 합겹, 아니면 불합격\n",
    "score = 50\n",
    "result = ''\n",
    "\n",
    "if score >= 60 : result='합격'\n",
    "else : result='불합격'\n",
    "\n",
    "print(result)"
   ]
  },
  {
   "cell_type": "code",
   "execution_count": 26,
   "metadata": {},
   "outputs": [
    {
     "name": "stdout",
     "output_type": "stream",
     "text": [
      "합격\n"
     ]
    }
   ],
   "source": [
    "score = 70\n",
    "result = ''\n",
    "\n",
    "result='합격' if score >= 60 else '불합격'\n",
    "print(result)"
   ]
  },
  {
   "cell_type": "markdown",
   "metadata": {},
   "source": [
    "**연습문제2) 점수를 입력받아서 점수에 따라 학점을 출력하는 프로그램**\n",
    "(score >= 90:A , >=80:B,  >=70:C, >=60:D, < 60:F)\n",
    "1. 중첩 (if-else) 구조로 프로그래밍\n",
    "2. if-elif-else 구조로 프로그래밍"
   ]
  },
  {
   "cell_type": "code",
   "execution_count": 27,
   "metadata": {},
   "outputs": [
    {
     "name": "stdout",
     "output_type": "stream",
     "text": [
      "당신의 학점은 B학점 입니다.\n"
     ]
    }
   ],
   "source": [
    "# 중첩if\n",
    "score = 80 #int(input('점수 : '))\n",
    "grade = ''\n",
    "\n",
    "if score >= 90 :\n",
    "    grade = 'A'\n",
    "else :\n",
    "    if score >= 80  :\n",
    "        grade = 'B'\n",
    "    else :\n",
    "        if score >= 70 :\n",
    "            grade = 'C'\n",
    "        else :\n",
    "            if score >= 60 :\n",
    "                grade = 'D'\n",
    "            else :\n",
    "                grade = 'F'\n",
    "\n",
    "print(f'당신의 학점은 {grade}학점 입니다.')\n",
    "    "
   ]
  },
  {
   "cell_type": "code",
   "execution_count": 28,
   "metadata": {},
   "outputs": [
    {
     "name": "stdout",
     "output_type": "stream",
     "text": [
      "당신의 학점은 A학점 입니다.\n"
     ]
    }
   ],
   "source": [
    "# elif\n",
    "score = 95 #int(input('점수 : '))\n",
    "grade = ''\n",
    "\n",
    "if score >= 90 :\n",
    "    grade = 'A'\n",
    "elif score >= 80 :\n",
    "    grade = 'B'\n",
    "elif score >= 70 :\n",
    "    grade = 'C'\n",
    "elif score >= 60 :\n",
    "    grade = 'D'\n",
    "else :\n",
    "    grade = 'F'\n",
    "\n",
    "print('당신의 학점은 %s학점 입니다.'%(grade))\n",
    "    "
   ]
  },
  {
   "cell_type": "markdown",
   "metadata": {},
   "source": [
    "# 반복문\n",
    "- 컴퓨터는 단순 작업의 반복에 최적화 된 기계 -> 반복문이 중요한 이유!!\n",
    "- while, for 2가지 형태를 제공"
   ]
  },
  {
   "cell_type": "markdown",
   "metadata": {},
   "source": [
    "## while문\n",
    "### 기본구조\n",
    "- 조건을 만족하는 동안 반복 \n",
    "\n",
    "\n",
    "- **while 조건 :**\n",
    "        문장1\n",
    "        문장2...\n",
    "        \n",
    "- 조건이 만족하는 동안 문장1, 문장2를 반복한다."
   ]
  },
  {
   "cell_type": "code",
   "execution_count": 30,
   "metadata": {},
   "outputs": [
    {
     "name": "stdout",
     "output_type": "stream",
     "text": [
      "55\n",
      "1+....+10 = 55\n"
     ]
    }
   ],
   "source": [
    "# 1~10까지의 합계 구하기\n",
    "\n",
    "start = 1  # 시작값\n",
    "end = 10   # 반복종료 값\n",
    "hab = 0    # 합계\n",
    "i = start  # 반복 카운트\n",
    "\n",
    "while i< end+1 : # 조건\n",
    "    hab += i\n",
    "    i += 1 # 증가값\n",
    "    \n",
    "print(hab)\n",
    "print(f'{start}+....+{end} = {hab}')"
   ]
  },
  {
   "cell_type": "code",
   "execution_count": 29,
   "metadata": {},
   "outputs": [
    {
     "name": "stdout",
     "output_type": "stream",
     "text": [
      "1+....+10 = 55\n"
     ]
    }
   ],
   "source": [
    "start = 1 \n",
    "end = 10 \n",
    "hab = 0\n",
    "\n",
    "for i in range(start, end+1,1):\n",
    "    hab += i\n",
    "\n",
    "print('{}+....+{} = {}'.format(start, end, hab))"
   ]
  },
  {
   "cell_type": "code",
   "execution_count": 31,
   "metadata": {},
   "outputs": [
    {
     "name": "stdout",
     "output_type": "stream",
     "text": [
      "3+....+10 = 52\n"
     ]
    }
   ],
   "source": [
    "# 두 수를 입력해서 첫번째 수부터 두번째 수까지의 합계를 출력하는 프로그램\n",
    "# 단 첫번째 수는 두번째 수보다 무조건 적다.\n",
    "\n",
    "\n",
    "num1 = 3 #int(input('1st digit : '))\n",
    "num2 = 10 #int(input('2st digit : '))\n",
    "answer, i = 0, num1\n",
    "\n",
    "while i < num2+1 :\n",
    "    answer += i\n",
    "    i +=1\n",
    "    \n",
    "\n",
    "print(f'{num1}+....+{num2} = {answer}')    "
   ]
  },
  {
   "cell_type": "markdown",
   "metadata": {},
   "source": [
    "**연습문제3) 커피 자판기 프로그램을 while문으로 작성하기** \n",
    "- 돈을 입력 받아서 커피를 주는 프로그램\n",
    "- 종료조건(작동이 안되는 경우) : 재료가 다 떨어졌을때"
   ]
  },
  {
   "cell_type": "code",
   "execution_count": 33,
   "metadata": {},
   "outputs": [
    {
     "name": "stdout",
     "output_type": "stream",
     "text": [
      "금액을 입력해주세요 : 400\n",
      "Coffee\n",
      "거스름 돈 100원을 돌려줍니다.\n",
      "금액을 입력해주세요 : 100\n",
      "잔액이 부족합니다. 100원을 돌려줍니다.\n",
      "금액을 입력해주세요 : 500\n",
      "Coffee\n",
      "거스름 돈 200원을 돌려줍니다.\n",
      "금액을 입력해주세요 : 1000\n",
      "Coffee\n",
      "거스름 돈 700원을 돌려줍니다.\n",
      "금액을 입력해주세요 : 2000\n",
      "Coffee\n",
      "거스름 돈 1700원을 돌려줍니다.\n",
      "금액을 입력해주세요 : 300\n",
      "Coffee\n"
     ]
    }
   ],
   "source": [
    "# 자판기의 커피 수량\n",
    "coffee = 5\n",
    "\n",
    "# 커피가 남아있는 동안 작동!\n",
    "while coffee > 0:\n",
    "    # 실제로는 자판기를 통해서 넣은 금액.\n",
    "    money = int(input('금액을 입력해주세요 : '))\n",
    "    \n",
    "    if money < 300:\n",
    "        print(f'잔액이 부족합니다. {money}원을 돌려줍니다.')\n",
    "    elif money == 300:    \n",
    "        print('Coffee')\n",
    "        coffee = coffee-1\n",
    "    else:\n",
    "        print('Coffee')\n",
    "        print(f'거스름 돈 {money-300}원을 돌려줍니다.')\n",
    "        coffee = coffee-1\n",
    "    \n",
    "print('커피가 모두 소진되었으니 관리자에게 문의하세요.')"
   ]
  },
  {
   "cell_type": "code",
   "execution_count": 36,
   "metadata": {},
   "outputs": [
    {
     "name": "stdout",
     "output_type": "stream",
     "text": [
      "금액을 입력해주세요(남은수량 : 5) : 500\n",
      "☕\n",
      "거스름 돈 200원을 돌려줍니다.\n",
      "금액을 입력해주세요(남은수량 : 4) : 400\n",
      "☕\n",
      "거스름 돈 100원을 돌려줍니다.\n",
      "금액을 입력해주세요(남은수량 : 3) : 300\n",
      "☕\n",
      "금액을 입력해주세요(남은수량 : 2) : 500\n",
      "☕\n",
      "거스름 돈 200원을 돌려줍니다.\n",
      "금액을 입력해주세요(남은수량 : 1) : 600\n",
      "☕\n",
      "거스름 돈 300원을 돌려줍니다.\n",
      "커피가 모두 소진되었으니 관리자에게 문의하세요.\n"
     ]
    }
   ],
   "source": [
    "# 자판기의 커피 수량\n",
    "coffee = 5\n",
    "\n",
    "# 커피가 남아있는 동안 작동!\n",
    "while coffee > 0:\n",
    "    # 실제로는 자판기를 통해서 넣은 금액.\n",
    "    money = int(input(f'금액을 입력해주세요(남은수량 : {coffee}) : '))\n",
    "    \n",
    "    if money < 300:\n",
    "        print(f'잔액이 부족합니다. {money}원을 돌려줍니다.')\n",
    "    elif money == 300: \n",
    "        #print('☕')\n",
    "        print('\\u2615')\n",
    "        coffee = coffee-1\n",
    "    else:\n",
    "        #print('☕')\n",
    "        print('\\u2615')\n",
    "        print(f'거스름 돈 {money-300}원을 돌려줍니다.')\n",
    "        coffee = coffee-1\n",
    "    \n",
    "print('커피가 모두 소진되었으니 관리자에게 문의하세요.')"
   ]
  },
  {
   "cell_type": "code",
   "execution_count": null,
   "metadata": {},
   "outputs": [],
   "source": []
  },
  {
   "cell_type": "markdown",
   "metadata": {},
   "source": [
    "### 무한반복(무한루프)\n",
    "- 프로그램 상에서 무한루프가 도는건 좋지않다.\n",
    "- break를 이용해서 무한 루프를 빠져나올 수 있는 코드를 짜야 한다"
   ]
  },
  {
   "cell_type": "code",
   "execution_count": 2,
   "metadata": {},
   "outputs": [],
   "source": [
    "# while True :\n",
    "#     print('hello world')"
   ]
  },
  {
   "cell_type": "code",
   "execution_count": 4,
   "metadata": {},
   "outputs": [],
   "source": [
    "# a = -5\n",
    "# while a :\n",
    "#     print('hello world')"
   ]
  },
  {
   "attachments": {
    "image.png": {
     "image/png": "[encoded data removed]"
    }
   },
   "cell_type": "markdown",
   "metadata": {},
   "source": [
    "**연습문제4) while 문을 이용하여 삼각형 만들기**\n",
    "- 직각 삼각형 만들기\n",
    "- 1~n행까지 각 행마다 행번호만큼 ★(\\u2605) 찍기 ![image.png](attachment:image.png)  \n",
    "  "
   ]
  },
  {
   "cell_type": "code",
   "execution_count": 1,
   "metadata": {
    "scrolled": true
   },
   "outputs": [
    {
     "name": "stdout",
     "output_type": "stream",
     "text": [
      "★\n",
      "★★\n",
      "★★★\n",
      "★★★★\n",
      "★★★★★\n"
     ]
    }
   ],
   "source": [
    "i = 1\n",
    "n = 5\n",
    "\n",
    "while i< n+1 :\n",
    "    print('\\u2605'*i)\n",
    "    i += 1"
   ]
  },
  {
   "cell_type": "code",
   "execution_count": 2,
   "metadata": {},
   "outputs": [
    {
     "name": "stdout",
     "output_type": "stream",
     "text": [
      "양의 정수 입력 : 6\n",
      "          ★\n",
      "        ★★\n",
      "      ★★★\n",
      "    ★★★★\n",
      "  ★★★★★\n",
      "★★★★★★\n"
     ]
    }
   ],
   "source": [
    "n = int(input('양의 정수 입력 : '))\n",
    "\n",
    "i=1\n",
    "while i < n+1 :\n",
    "    print('  '*(n-i)+'\\u2605'*i)\n",
    "    i += 1"
   ]
  },
  {
   "attachments": {
    "image.png": {
     "image/png": "[encoded data removed]"
    }
   },
   "cell_type": "markdown",
   "metadata": {},
   "source": [
    "- **이등변 삼각형 만들기**   ![image.png](attachment:image.png)\n",
    "    "
   ]
  },
  {
   "cell_type": "code",
   "execution_count": 15,
   "metadata": {},
   "outputs": [
    {
     "name": "stdout",
     "output_type": "stream",
     "text": [
      "        ★\n",
      "      ★★★\n",
      "    ★★★★★\n",
      "  ★★★★★★★\n",
      "★★★★★★★★★\n"
     ]
    }
   ],
   "source": [
    "i = 0\n",
    "n = 5\n",
    "\n",
    "while i < n :\n",
    "    print('  '*((n-1)-i), end='') #(5-1)-1\n",
    "    print('\\u2605'*((i*2)+1))\n",
    "    i +=1"
   ]
  },
  {
   "cell_type": "markdown",
   "metadata": {},
   "source": [
    "- 마름모"
   ]
  },
  {
   "cell_type": "code",
   "execution_count": 23,
   "metadata": {},
   "outputs": [
    {
     "name": "stdout",
     "output_type": "stream",
     "text": [
      "마름모 별 최대 개수 : 5\n",
      "    ★\n",
      "  ★★★\n",
      "★★★★★\n",
      "  ★★★\n",
      "    ★\n"
     ]
    }
   ],
   "source": [
    "star = int(input('마름모 별 최대 개수 : '))\n",
    "i = 1 if star % 2 == 1 else 2\n",
    "\n",
    "while i < star:\n",
    "    print('{0}{1}'.format('  '*((star-i)//2), '\\u2605'*i))\n",
    "    i += 2\n",
    "while i > 0:\n",
    "    print('{0}{1}'.format('  '*((star-i)//2), '\\u2605'*i))\n",
    "    i -= 2"
   ]
  },
  {
   "cell_type": "code",
   "execution_count": null,
   "metadata": {},
   "outputs": [],
   "source": []
  },
  {
   "cell_type": "markdown",
   "metadata": {},
   "source": [
    "## for 문"
   ]
  },
  {
   "cell_type": "markdown",
   "metadata": {},
   "source": [
    "- 지정된 횟수동안 반복 수행\n",
    "- for 변수 in range(시작값, 끝값+1, 증가값) :"
   ]
  },
  {
   "cell_type": "markdown",
   "metadata": {},
   "source": [
    "### range()\n",
    "- 지정된 범위의 값을 반환\n",
    "- range(시작값, 끝값+1, 증가값)\n",
    "- 끝값 +1 : +1의 의미는 끝나고자 하는 값에서 반복을 한번 더 해야 한다는 의미"
   ]
  },
  {
   "cell_type": "code",
   "execution_count": 18,
   "metadata": {},
   "outputs": [
    {
     "name": "stdout",
     "output_type": "stream",
     "text": [
      "<class 'range'> range(0, 10)\n",
      "[0, 1, 2, 3, 4, 5, 6, 7, 8, 9]\n",
      "0\t3\t6\t9\t12\t15\t18\t21\t24\t27\t30\t33\t36\t39\t42\t45\t48\t51\t54\t57\t60\t63\t66\t69\t72\t75\t78\t81\t84\t87\t90\t93\t96\t99\t"
     ]
    }
   ],
   "source": [
    "a = range(0,10,1)\n",
    "print(type(a), a) # 0,1,2,3,4,5,6,7,8,9\n",
    "print(list(a))\n",
    "\n",
    "b = range(0,100,3)# 3의 배수\n",
    "\n",
    "# for i in b:\n",
    "for i in range(0,100,3):\n",
    "    print(i, end='\\t')"
   ]
  },
  {
   "cell_type": "code",
   "execution_count": 24,
   "metadata": {},
   "outputs": [
    {
     "name": "stdout",
     "output_type": "stream",
     "text": [
      "0 1 2 3 4 \n",
      "0 1 2 3 4 \n",
      "0 1 2 3 4 "
     ]
    }
   ],
   "source": [
    "for i in range(0, 5, 1) :\n",
    "    print(i, end=' ')\n",
    "print()\n",
    "\n",
    "for i in range(0, 5) :\n",
    "    print(i, end=' ')\n",
    "    \n",
    "print()\n",
    "\n",
    "for i in range(5) :\n",
    "    print(i, end=' ')\n",
    "    "
   ]
  },
  {
   "cell_type": "code",
   "execution_count": 29,
   "metadata": {},
   "outputs": [
    {
     "name": "stdout",
     "output_type": "stream",
     "text": [
      "[0, 2, 4, 6, 8]\n"
     ]
    },
    {
     "data": {
      "text/plain": [
       "[0, 1, 2, 3, 4]"
      ]
     },
     "execution_count": 29,
     "metadata": {},
     "output_type": "execute_result"
    }
   ],
   "source": [
    "print(list(range(0,10,2)))\n",
    "\n",
    "n= 10\n",
    "a = range(n//2)\n",
    "list(a)\n"
   ]
  },
  {
   "cell_type": "markdown",
   "metadata": {},
   "source": [
    "**연습문제5) for문을 사용하여 0과 100 사이(100포함)에 있는 7의 배수 합계 구하기**"
   ]
  },
  {
   "cell_type": "code",
   "execution_count": 32,
   "metadata": {},
   "outputs": [
    {
     "name": "stdout",
     "output_type": "stream",
     "text": [
      "735\n"
     ]
    }
   ],
   "source": [
    "hap = 0\n",
    "\n",
    "for i in range(0,101,7):\n",
    "    hap = hap + i\n",
    "    #hap += i\n",
    "\n",
    "print(hap)"
   ]
  },
  {
   "cell_type": "markdown",
   "metadata": {},
   "source": [
    "**연습문제6) for문을 사용하여 3개의 숫자를 입력받아서 내림차순으로 정렬하기**"
   ]
  },
  {
   "cell_type": "code",
   "execution_count": 34,
   "metadata": {
    "scrolled": true
   },
   "outputs": [
    {
     "name": "stdout",
     "output_type": "stream",
     "text": [
      "1번째 수 : 5\n",
      "2번째 수 : 7\n",
      "3번째 수 : 1\n",
      "입력 받은 데이터 : [5, 7, 1]\n",
      "정렬결과 :  [7, 5, 1]\n"
     ]
    }
   ],
   "source": [
    "a = []\n",
    "\n",
    "for i in range(0,3,1):\n",
    "    a.append(int(input(f'{i+1}번째 수 : ')))\n",
    "\n",
    "print('입력 받은 데이터 :',a)\n",
    "a.sort(reverse=True)\n",
    "print('정렬결과 : ',a)"
   ]
  },
  {
   "cell_type": "markdown",
   "metadata": {},
   "source": [
    "### 중첩 for 문"
   ]
  },
  {
   "attachments": {
    "image.png": {
     "image/png": "[encoded data removed]"
    }
   },
   "cell_type": "markdown",
   "metadata": {},
   "source": [
    "- 구구단을 중첩 for 문으로 출력하기\n",
    "![image.png](attachment:image.png)"
   ]
  },
  {
   "cell_type": "code",
   "execution_count": 43,
   "metadata": {},
   "outputs": [
    {
     "name": "stdout",
     "output_type": "stream",
     "text": [
      "2*1=2\t2*2=4\t2*3=6\t2*4=8\t2*5=10\t2*6=12\t2*7=14\t2*8=16\t2*9=18\t\n",
      "3*1=3\t3*2=6\t3*3=9\t3*4=12\t3*5=15\t3*6=18\t3*7=21\t3*8=24\t3*9=27\t\n",
      "4*1=4\t4*2=8\t4*3=12\t4*4=16\t4*5=20\t4*6=24\t4*7=28\t4*8=32\t4*9=36\t\n",
      "5*1=5\t5*2=10\t5*3=15\t5*4=20\t5*5=25\t5*6=30\t5*7=35\t5*8=40\t5*9=45\t\n",
      "6*1=6\t6*2=12\t6*3=18\t6*4=24\t6*5=30\t6*6=36\t6*7=42\t6*8=48\t6*9=54\t\n",
      "7*1=7\t7*2=14\t7*3=21\t7*4=28\t7*5=35\t7*6=42\t7*7=49\t7*8=56\t7*9=63\t\n",
      "8*1=8\t8*2=16\t8*3=24\t8*4=32\t8*5=40\t8*6=48\t8*7=56\t8*8=64\t8*9=72\t\n",
      "9*1=9\t9*2=18\t9*3=27\t9*4=36\t9*5=45\t9*6=54\t9*7=63\t9*8=72\t9*9=81\t\n"
     ]
    }
   ],
   "source": [
    "for i in range(2,10):\n",
    "    for j in range (1,10):\n",
    "        print(f'{i}*{j}={i*j}', end='\\t')\n",
    "    print()"
   ]
  },
  {
   "cell_type": "code",
   "execution_count": 49,
   "metadata": {
    "scrolled": false
   },
   "outputs": [
    {
     "name": "stdout",
     "output_type": "stream",
     "text": [
      "  2단\t  3단\t  4단\t  5단\t  6단\t  7단\t  8단\t  9단\t\n",
      "2*1= 2\t3*1= 3\t4*1= 4\t5*1= 5\t6*1= 6\t7*1= 7\t8*1= 8\t9*1= 9\t\n",
      "2*2= 4\t3*2= 6\t4*2= 8\t5*2=10\t6*2=12\t7*2=14\t8*2=16\t9*2=18\t\n",
      "2*3= 6\t3*3= 9\t4*3=12\t5*3=15\t6*3=18\t7*3=21\t8*3=24\t9*3=27\t\n",
      "2*4= 8\t3*4=12\t4*4=16\t5*4=20\t6*4=24\t7*4=28\t8*4=32\t9*4=36\t\n",
      "2*5=10\t3*5=15\t4*5=20\t5*5=25\t6*5=30\t7*5=35\t8*5=40\t9*5=45\t\n",
      "2*6=12\t3*6=18\t4*6=24\t5*6=30\t6*6=36\t7*6=42\t8*6=48\t9*6=54\t\n",
      "2*7=14\t3*7=21\t4*7=28\t5*7=35\t6*7=42\t7*7=49\t8*7=56\t9*7=63\t\n",
      "2*8=16\t3*8=24\t4*8=32\t5*8=40\t6*8=48\t7*8=56\t8*8=64\t9*8=72\t\n",
      "2*9=18\t3*9=27\t4*9=36\t5*9=45\t6*9=54\t7*9=63\t8*9=72\t9*9=81\t\n"
     ]
    }
   ],
   "source": [
    "for i in range(2,10):\n",
    "    print(f'{i:>3}단', end='\\t')\n",
    "print()\n",
    "\n",
    "for i in range(1,10):\n",
    "    for j in range (2,10):\n",
    "        print(f'{j}*{i}={i*j:>2}', end='\\t')\n",
    "    print()"
   ]
  },
  {
   "cell_type": "markdown",
   "metadata": {},
   "source": [
    "### 연속형 데이터타입(리스트, 문자열, 튜플, 딕셔너리, set)과 in, range() enumerate()"
   ]
  },
  {
   "cell_type": "markdown",
   "metadata": {},
   "source": [
    "- in"
   ]
  },
  {
   "cell_type": "code",
   "execution_count": 50,
   "metadata": {},
   "outputs": [
    {
     "name": "stdout",
     "output_type": "stream",
     "text": [
      "273\n",
      "32\n",
      "43\n",
      "4\n",
      "54\n",
      "h\n",
      "e\n",
      "l\n",
      "l\n",
      "o\n"
     ]
    }
   ],
   "source": [
    "list_a = [273, 32, 43, 4, 54]\n",
    "\n",
    "for i in list_a:\n",
    "    print(i)\n",
    "    \n",
    "for i in 'hello' :\n",
    "    print(i)"
   ]
  },
  {
   "cell_type": "markdown",
   "metadata": {},
   "source": [
    "- range()"
   ]
  },
  {
   "cell_type": "code",
   "execution_count": 54,
   "metadata": {},
   "outputs": [
    {
     "name": "stdout",
     "output_type": "stream",
     "text": [
      "273\n",
      "32\n",
      "43\n",
      "4\n",
      "54\n"
     ]
    }
   ],
   "source": [
    "list_a = [273, 32, 43, 4, 54]\n",
    "# print(len(list_a))\n",
    "\n",
    "for i in range(len(list_a)):\n",
    "    print(list_a[i])\n",
    "    "
   ]
  },
  {
   "cell_type": "markdown",
   "metadata": {},
   "source": [
    "- enumerate() : 인덱스 번호와 원소를 같이 가져올 수 있다."
   ]
  },
  {
   "cell_type": "code",
   "execution_count": 57,
   "metadata": {
    "scrolled": true
   },
   "outputs": [
    {
     "name": "stdout",
     "output_type": "stream",
     "text": [
      "273\n",
      "32\n",
      "43\n",
      "4\n",
      "54\n",
      "0 273\n",
      "1 32\n",
      "2 43\n",
      "3 4\n",
      "4 54\n"
     ]
    }
   ],
   "source": [
    "for i in list_a :\n",
    "    print(i)\n",
    "     \n",
    "for index, value  in enumerate(list_a):\n",
    "    print(index, value)"
   ]
  },
  {
   "cell_type": "code",
   "execution_count": 62,
   "metadata": {},
   "outputs": [
    {
     "name": "stdout",
     "output_type": "stream",
     "text": [
      "0 0 0\n",
      "0 0 1\n",
      "0 0 2\n",
      "0 1 0\n",
      "0 1 1\n",
      "0 1 2\n",
      "0 2 0\n",
      "0 2 1\n",
      "0 2 2\n",
      "1 0 0\n",
      "1 0 1\n",
      "1 0 2\n",
      "1 1 0\n",
      "1 1 1\n",
      "1 1 2\n",
      "1 2 0\n",
      "1 2 1\n",
      "1 2 2\n",
      "2 0 0\n",
      "2 0 1\n",
      "2 0 2\n",
      "2 1 0\n",
      "2 1 1\n",
      "2 1 2\n",
      "2 2 0\n",
      "2 2 1\n",
      "2 2 2\n"
     ]
    }
   ],
   "source": [
    "for i in range(3):\n",
    "    for j in range(3):\n",
    "        for k in range(3):\n",
    "            print(i, j, k)"
   ]
  },
  {
   "cell_type": "markdown",
   "metadata": {},
   "source": [
    "###  dict items() 함수와 for문"
   ]
  },
  {
   "cell_type": "code",
   "execution_count": 66,
   "metadata": {},
   "outputs": [
    {
     "name": "stdout",
     "output_type": "stream",
     "text": [
      "items(): dict_items([('name', 'BTS'), ('member', 7), ('데뷔곡', '데인저'), ('대표곡', ['IDOL', '봄날', '불타오르네', 'Dynamite'])])\n",
      "****************************************\n",
      "name:BTS\n",
      "member:7\n",
      "데뷔곡:데인저\n",
      "대표곡:['IDOL', '봄날', '불타오르네', 'Dynamite']\n"
     ]
    }
   ],
   "source": [
    "singer = {\n",
    "    'name' : 'BTS',\n",
    "    'member' : 7,\n",
    "    '데뷔곡' : '데인저',\n",
    "    '대표곡' : ['IDOL','봄날','불타오르네','Dynamite']\n",
    "    \n",
    "}\n",
    "print('items():',singer.items())\n",
    "print('*'*40)\n",
    "\n",
    "for key, value in  singer.items():\n",
    "    print(f'{key}:{value}')"
   ]
  },
  {
   "cell_type": "code",
   "execution_count": null,
   "metadata": {},
   "outputs": [],
   "source": []
  },
  {
   "cell_type": "markdown",
   "metadata": {},
   "source": [
    "### 리스트 내포(list comprehension)\n",
    "- list 안에 for문을 포함하는 list 내포(list comprehension)를 사용하면 좀 더 편리하고 직관적인 프로그램을 만들 수 있다.\n",
    "- 리스트 변수 = [표현식 for 반복자 in 반복가능 객체]"
   ]
  },
  {
   "cell_type": "code",
   "execution_count": 68,
   "metadata": {},
   "outputs": [
    {
     "name": "stdout",
     "output_type": "stream",
     "text": [
      "[3, 6, 9, 12]\n",
      "[3, 6, 9, 12]\n"
     ]
    }
   ],
   "source": [
    "list_a = [1, 2, 3, 4]\n",
    "result = []\n",
    "\n",
    "# list_a의 각 원소에 *3을 하여 result 만들기\n",
    "\n",
    "for i in list_a :\n",
    "    result.append(i*3)\n",
    "print(result)\n",
    "\n",
    "result = [i*3 for i in list_a]\n",
    "print(result)"
   ]
  },
  {
   "cell_type": "code",
   "execution_count": 70,
   "metadata": {},
   "outputs": [
    {
     "name": "stdout",
     "output_type": "stream",
     "text": [
      "[1, 4, 9, 16, 25, 36, 49, 64, 81, 100]\n",
      "[1, 4, 9, 16, 25, 36, 49, 64, 81, 100]\n"
     ]
    }
   ],
   "source": [
    "# 1~10까지 제곱으로 이루어진 list\n",
    "a = []\n",
    "for i in range(1,11):\n",
    "    a.append(i*i)\n",
    "print(a)\n",
    "\n",
    "a = [ i*i for i in range(1,11)]\n",
    "print(a)"
   ]
  },
  {
   "cell_type": "markdown",
   "metadata": {},
   "source": [
    "- 리스트 변수 = [표현식 for 반복자 in 반복가능 객체 if 조건]"
   ]
  },
  {
   "cell_type": "code",
   "execution_count": 74,
   "metadata": {},
   "outputs": [
    {
     "name": "stdout",
     "output_type": "stream",
     "text": [
      "['apple', 'banana', 'cherry']\n",
      "['apple', 'banana', 'cherry']\n"
     ]
    }
   ],
   "source": [
    "# candy가 아닌 fruit로 리스트 재조합\n",
    "foods = ['apple', 'banana', 'cherry', 'candy']\n",
    "output = []\n",
    "\n",
    "for food in foods :\n",
    "    if food != 'candy':\n",
    "        output.append(food)        \n",
    "print(output)\n",
    "\n",
    "output = [food for food in foods if food != 'candy']\n",
    "print(output)"
   ]
  },
  {
   "cell_type": "markdown",
   "metadata": {},
   "source": [
    "# pass, break, countinue 키워드 \n",
    "## pass\n",
    "- 프로그래밍 전체골격을 잡아 놓고 내부에서 처리할 내용은 차근차근 만들겠다는 의도.\n",
    "- 조건문, 반복문, 함수, 클래스 등...."
   ]
  },
  {
   "cell_type": "code",
   "execution_count": 75,
   "metadata": {},
   "outputs": [
    {
     "ename": "IndentationError",
     "evalue": "expected an indented block (1063302139.py, line 5)",
     "output_type": "error",
     "traceback": [
      "\u001b[1;36m  Input \u001b[1;32mIn [75]\u001b[1;36m\u001b[0m\n\u001b[1;33m    else :\u001b[0m\n\u001b[1;37m    ^\u001b[0m\n\u001b[1;31mIndentationError\u001b[0m\u001b[1;31m:\u001b[0m expected an indented block\n"
     ]
    }
   ],
   "source": [
    "number =0\n",
    "\n",
    "if number > 0 :\n",
    "\n",
    "else :\n",
    "\n",
    "print(number)"
   ]
  },
  {
   "cell_type": "code",
   "execution_count": 76,
   "metadata": {},
   "outputs": [],
   "source": [
    "number =0\n",
    "\n",
    "if number > 0 :\n",
    "    pass\n",
    "else :\n",
    "    pass"
   ]
  },
  {
   "cell_type": "markdown",
   "metadata": {},
   "source": [
    "## break\n",
    "- 반복문을 탈출시키는 키워드. \n",
    "- 반복문을 수행하다가 더 이상 반복이 필요없는 경우"
   ]
  },
  {
   "cell_type": "code",
   "execution_count": 77,
   "metadata": {},
   "outputs": [
    {
     "name": "stdout",
     "output_type": "stream",
     "text": [
      "1st : 6\n",
      "2st : 3\n",
      "6+3=9\n",
      "1st : 7\n",
      "2st : 9\n",
      "7+9=16\n",
      "1st : 6\n",
      "2st : 0\n",
      "0을 입력해서 반복문을 탈출했습니다.\n"
     ]
    }
   ],
   "source": [
    "# 숫자 2개를 입력 받아서 더하기를 하는 무한 반복 프로그램\n",
    "# 두 숫자 중에 0을 입력하면 프로그램이 끝난다.\n",
    "\n",
    "hap =0\n",
    "num1, num2 = 0, 0\n",
    "\n",
    "while True :\n",
    "    num1 = int(input('1st : '))\n",
    "    if num1 == 0 :\n",
    "        break\n",
    "    num2 = int(input('2st : '))\n",
    "    if num2 == 0 :\n",
    "        break\n",
    "        \n",
    "    hap = num1 +num2\n",
    "    \n",
    "    print('{0}+{1}={2}'.format(num1,num2,hap))\n",
    "\n",
    "print('0을 입력해서 반복문을 탈출했습니다.')"
   ]
  },
  {
   "cell_type": "code",
   "execution_count": 79,
   "metadata": {},
   "outputs": [
    {
     "name": "stdout",
     "output_type": "stream",
     "text": [
      "1~100의 합계를 최초로 1000이 넘게 하는 숫자 : 45\n",
      "1035\n"
     ]
    }
   ],
   "source": [
    "# 1부터 100까지의 누적 합계를 구하다가 누적 합계(hap)가 \n",
    "# 1000이상이 되는 시작 지점 알기\n",
    "\n",
    "hab = 0\n",
    "\n",
    "for i in range(1,101):\n",
    "    hab = hab+i\n",
    "    if hab >= 1000 :\n",
    "        break\n",
    "\n",
    "print('1~100의 합계를 최초로 1000이 넘게 하는 숫자 :', i)\n",
    "print(hab)"
   ]
  },
  {
   "cell_type": "markdown",
   "metadata": {},
   "source": [
    "**연습문제7) 무한루프(while True)를 활용한 자판기**"
   ]
  },
  {
   "cell_type": "code",
   "execution_count": 80,
   "metadata": {},
   "outputs": [
    {
     "name": "stdout",
     "output_type": "stream",
     "text": [
      "금액을 입력해주세요(남은수량 : 3) : 500\n",
      "☕\n",
      "거스름 돈 200원을 돌려줍니다.\n",
      "금액을 입력해주세요(남은수량 : 2) : 300\n",
      "☕\n",
      "금액을 입력해주세요(남은수량 : 1) : 200\n",
      "잔액이 부족합니다. 200원을 돌려줍니다.\n",
      "금액을 입력해주세요(남은수량 : 1) : 1000\n",
      "☕\n",
      "거스름 돈 700원을 돌려줍니다.\n",
      "운영을 종료합니다.\n",
      "커피가 모두 소진되었으니 관리자에게 문의하세요.\n"
     ]
    }
   ],
   "source": [
    "# 무한루프 자판기\n",
    "coffee = 3\n",
    "\n",
    "# 커피가 남아있는 동안 작동!\n",
    "while True:\n",
    "    # 실제로는 자판기를 통해서 넣은 금액.\n",
    "    money = int(input(f'금액을 입력해주세요(남은수량 : {coffee}) : '))\n",
    "    \n",
    "    if money < 300:\n",
    "        print(f'잔액이 부족합니다. {money}원을 돌려줍니다.')\n",
    "    elif money == 300: \n",
    "        #print('☕')\n",
    "        print('\\u2615')\n",
    "        coffee = coffee-1\n",
    "    else:\n",
    "        #print('☕')\n",
    "        print('\\u2615')\n",
    "        print(f'거스름 돈 {money-300}원을 돌려줍니다.')\n",
    "        coffee = coffee-1\n",
    "    \n",
    "    if coffee ==0 :\n",
    "        print('운영을 종료합니다.')\n",
    "        break\n",
    "    \n",
    "print('커피가 모두 소진되었으니 관리자에게 문의하세요.')"
   ]
  },
  {
   "cell_type": "markdown",
   "metadata": {},
   "source": [
    "## countinue\n",
    "- 해당 블록의 남은 부분을 무조건 건너띈 채 반복문의 처음으로 되돌아 가는 키워드\n",
    "- 반복문을 수행하다가 특정 조건에만 건너뛰고 싶은 경우"
   ]
  },
  {
   "cell_type": "code",
   "execution_count": 85,
   "metadata": {},
   "outputs": [
    {
     "name": "stdout",
     "output_type": "stream",
     "text": [
      "1\n",
      "2\n",
      "4\n",
      "5\n",
      "7\n",
      "8\n",
      "10\n",
      "11\n",
      "13\n",
      "14\n",
      "16\n",
      "17\n",
      "19\n",
      "20\n"
     ]
    }
   ],
   "source": [
    "hab= 0\n",
    "\n",
    "for i in range(1, 21):\n",
    "    if i % 3 == 0 :\n",
    "        continue\n",
    "    print(i)"
   ]
  },
  {
   "cell_type": "code",
   "execution_count": 88,
   "metadata": {},
   "outputs": [
    {
     "name": "stdout",
     "output_type": "stream",
     "text": [
      "1~100의 합계(3의 배수 제외) :  3367\n"
     ]
    }
   ],
   "source": [
    "#1~100의 합계를 구하되 3의 배수는 제외하고 더하기 -> 정답 : 3367\n",
    "\n",
    "hab= 0\n",
    "\n",
    "for i in range(1, 101):\n",
    "\n",
    "    if i % 3 == 0 :\n",
    "        continue\n",
    "    hab += i\n",
    "\n",
    "print('1~100의 합계(3의 배수 제외) : ', hab)"
   ]
  },
  {
   "attachments": {
    "image.png": {
     "image/png": "[encoded data removed]"
    }
   },
   "cell_type": "markdown",
   "metadata": {},
   "source": [
    "**연습문제8) 음식궁합을 출력하는 프로그램을 만드시오.**\n",
    "- 아래 궁합 정보를 담고 있는 dict_foods라는 변수를 만든다\n",
    "\n",
    "| 음식 | 궁합음식 |\n",
    "| ---- | ---- | \n",
    "| 떡볶이 |  튀김 |  \n",
    "| 짜장면| 단무지 | \n",
    "| 라면 | 김치 | \n",
    "| 피자 |  콜라 |\n",
    "| 치킨 |  맥주 |\n",
    "| 삼겹살 | 소주 |\n",
    "\n",
    "- 자신이 좋아하는 하는 음식을 입력하면 궁합음식을 출력한다.(key 값과 비교)\n",
    "- key에 없는 음식을 입력하면 '그런음식 없습니다. 확인해보세요'를 출력한다. \n",
    "- while을 이용한 무한반복문으로 만들고 'end'를 입력하면 프로그램이 종료되도록 한다.\n",
    "> ![image.png](attachment:image.png)\n"
   ]
  },
  {
   "cell_type": "code",
   "execution_count": 94,
   "metadata": {},
   "outputs": [
    {
     "name": "stdout",
     "output_type": "stream",
     "text": [
      "['떡볶이', '짜장면', '라면', '피자', '치킨', '삼겹살']중 좋아하는 음식은? 삼겹살\n",
      "삼겹살의 궁합음식은 소주입니다.\n",
      "['떡볶이', '짜장면', '라면', '피자', '치킨', '삼겹살']중 좋아하는 음식은? end\n",
      "프로그램을 종료합니다.\n"
     ]
    }
   ],
   "source": [
    "# 변수 선언부분\n",
    "dict_foods = {'떡볶이' : '튀김',\n",
    "         '짜장면' : '단무지',\n",
    "         '라면' : '김치',\n",
    "         '피자' : '콜라',\n",
    "         '치킨' : '맥주',\n",
    "         '삼겹살' : '소주'    \n",
    "}\n",
    "\n",
    "foods = list(dict_foods.keys())\n",
    "foods\n",
    "\n",
    "while True :\n",
    "    myFood =input(str(foods) +'중 좋아하는 음식은? ')\n",
    "    \n",
    "    if myFood in foods :\n",
    "        print(f'{myFood}의 궁합음식은 {dict_foods[myFood]}입니다.')\n",
    "    elif myFood =='end':\n",
    "        break\n",
    "    else :\n",
    "        print('그런음식 없습니다. 확인해보세요.')\n",
    "    \n",
    "print('프로그램을 종료합니다.')    "
   ]
  },
  {
   "cell_type": "markdown",
   "metadata": {},
   "source": [
    " "
   ]
  },
  {
   "cell_type": "markdown",
   "metadata": {},
   "source": [
    " "
   ]
  }
 ],
 "metadata": {
  "kernelspec": {
   "display_name": "Python 3 (ipykernel)",
   "language": "python",
   "name": "python3"
  },
  "language_info": {
   "codemirror_mode": {
    "name": "ipython",
    "version": 3
   },
   "file_extension": ".py",
   "mimetype": "text/x-python",
   "name": "python",
   "nbconvert_exporter": "python",
   "pygments_lexer": "ipython3",
   "version": "3.9.12"
  },
  "toc": {
   "base_numbering": 1,
   "nav_menu": {},
   "number_sections": true,
   "sideBar": true,
   "skip_h1_title": false,
   "title_cell": "Table of Contents",
   "title_sidebar": "Contents",
   "toc_cell": false,
   "toc_position": {
    "height": "calc(100% - 180px)",
    "left": "10px",
    "top": "150px",
    "width": "304.418px"
   },
   "toc_section_display": true,
   "toc_window_display": true
  }
 },
 "nbformat": 4,
 "nbformat_minor": 2
}
