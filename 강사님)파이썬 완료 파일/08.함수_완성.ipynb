{
 "cells": [
  {
   "cell_type": "markdown",
   "metadata": {},
   "source": [
    "# 함수(function)\n",
    "- 반복적으로 사용되는 부분을 묶어서, **재사용 가능하도록 만들어 주는 것**\n",
    "- 정해진 logic(규칙)에 따라, input -> output으로 효율적으로 바꿔주는 역할   \n",
    "\n",
    "**< 함수를 사용하는 이유>**\n",
    "- 재사용성이 좋아지고\n",
    "- 유지보수가 편리해지고\n",
    "- 가독성이 좋아진다.\n",
    "\n",
    "![function](https://drive.google.com/uc?id=1P1I19_Yft4ckZ52OULy6J0Sn0s18kAdZ)\n",
    "\n",
    "- range()는 정수를 전달하면 [0,1,2,...., 정수-1] 로 이루어진 리스트를 생성하는 역할\n",
    "- sum()는 리스트, 튜플등을 입력으로 전달하면 전체 아이템의 합을 출력으로 전달\n",
    "- len()는 리스트, 튜플등을 입력으로 전달하면 아이템의 개수를 출력으로 전달\n",
    "- 위의 함수들은 모두 python 내부에 이미 정의(구현)이 되어 있다 ==> **내장함수(built-in function)**"
   ]
  },
  {
   "cell_type": "code",
   "execution_count": 1,
   "metadata": {},
   "outputs": [
    {
     "name": "stdout",
     "output_type": "stream",
     "text": [
      "안녕하세요. 재석님\n",
      "현재 프리미엄 서비스 사용기간이 20일 남았습니다.\n",
      "안녕하세요. 민아님\n",
      "현재 프리미엄 서비스 사용기간이 17일 남았습니다.\n",
      "안녕하세요. 유정님\n",
      "현재 프리미엄 서비스 사용기간이 4일 남았습니다.\n"
     ]
    }
   ],
   "source": [
    "# 함수를 사용하지 않은 경우\n",
    "print('안녕하세요. 재석님')\n",
    "print('현재 프리미엄 서비스 사용기간이 20일 남았습니다.')\n",
    "\n",
    "print('안녕하세요. 민아님')\n",
    "print('현재 프리미엄 서비스 사용기간이 17일 남았습니다.')\n",
    "\n",
    "print('안녕하세요. 유정님')\n",
    "print('현재 프리미엄 서비스 사용기간이 4일 남았습니다.')"
   ]
  },
  {
   "cell_type": "code",
   "execution_count": 2,
   "metadata": {},
   "outputs": [
    {
     "name": "stdout",
     "output_type": "stream",
     "text": [
      "안녕하세요. 재석님\n",
      "현재 프리미엄 서비스 사용기간이 20일 남았습니다.\n",
      "안녕하세요. 민아님\n",
      "현재 프리미엄 서비스 사용기간이 17일 남았습니다.\n",
      "안녕하세요. 유정님\n",
      "현재 프리미엄 서비스 사용기간이 4일 남았습니다.\n"
     ]
    }
   ],
   "source": [
    "# 함수를 사용하는 경우\n",
    "def printMessage(name, date):\n",
    "    print(f\"안녕하세요. {name}님\")\n",
    "    print(f\"현재 프리미엄 서비스 사용기간이 {date}일 남았습니다.\")\n",
    "\n",
    "\n",
    "printMessage(\"재석\",20)\n",
    "printMessage(\"민아\",17)\n",
    "printMessage(\"유정\",4)"
   ]
  },
  {
   "cell_type": "code",
   "execution_count": null,
   "metadata": {},
   "outputs": [],
   "source": []
  },
  {
   "cell_type": "markdown",
   "metadata": {},
   "source": [
    "## 함수 정의하고 호출(사용)하기\n",
    "- 함수정의   \n",
    "> **def 함수명(매개변수:parameter) :**   \n",
    "    &nbsp;&nbsp;&nbsp;&nbsp;'''   \n",
    "    &nbsp;&nbsp;&nbsp;&nbsp;함수설명   \n",
    "    &nbsp;&nbsp;&nbsp;&nbsp;'''   \n",
    "    &nbsp;&nbsp;&nbsp;&nbsp;문장1   \n",
    "    &nbsp;&nbsp;&nbsp;&nbsp;문장2      \n",
    "    &nbsp;&nbsp;&nbsp;&nbsp;**return 리턴값**   \n",
    "\n",
    "- 함수호출\n",
    "> **함수명(인수:arguments)**\n",
    "\n",
    "- 함수가 먼저 정의되고 호출되어야 한다."
   ]
  },
  {
   "cell_type": "code",
   "execution_count": 5,
   "metadata": {},
   "outputs": [
    {
     "data": {
      "text/plain": [
       "25"
      ]
     },
     "execution_count": 5,
     "metadata": {},
     "output_type": "execute_result"
    }
   ],
   "source": [
    "# 함수정의 : a,b를 입력 받아서 더한 값을 돌려주는 함수\n",
    "def add(a,b) : # a,b : 매개변수(prameter)\n",
    "    '''\n",
    "    a,b를 입력 받아서 더한 값을 돌려주는 함수\n",
    "    '''\n",
    "    result = a+b\n",
    "    return result\n",
    "\n",
    "# 함수호출\n",
    "add(10,15)\n"
   ]
  },
  {
   "cell_type": "markdown",
   "metadata": {},
   "source": [
    "**연습문제1) 두 수를 입력 받아서 사칙연산을 하는 함수를 각각(add, sub, mul, div) 만들고 호출하시오.**"
   ]
  },
  {
   "cell_type": "code",
   "execution_count": 6,
   "metadata": {},
   "outputs": [],
   "source": [
    "def add(a, b):\n",
    "    c = a + b\n",
    "    return c\n",
    "\n",
    "def sub(a, b):\n",
    "    c = a - b\n",
    "    return c\n",
    "\n",
    "def mul(a, b):\n",
    "    c = a * b\n",
    "    return c\n",
    "\n",
    "def div(a, b):\n",
    "    c = a // b\n",
    "    return c"
   ]
  },
  {
   "cell_type": "code",
   "execution_count": 7,
   "metadata": {},
   "outputs": [
    {
     "name": "stdout",
     "output_type": "stream",
     "text": [
      "Add :  15\n",
      "Sub :  5\n",
      "Mul :  50\n",
      "Div :  2\n"
     ]
    }
   ],
   "source": [
    "c = 10\n",
    "d = 5\n",
    "print(\"Add : \", add(c, d))\n",
    "print(\"Sub : \", sub(c, d))\n",
    "print(\"Mul : \", mul(c, d))\n",
    "print(\"Div : \", div(c, d))"
   ]
  },
  {
   "cell_type": "markdown",
   "metadata": {},
   "source": [
    "**참고1) 읽기 어려운 코드 예**"
   ]
  },
  {
   "cell_type": "code",
   "execution_count": 8,
   "metadata": {},
   "outputs": [
    {
     "name": "stdout",
     "output_type": "stream",
     "text": [
      "A\n",
      "C\n",
      "B\n",
      "E\n",
      "D\n"
     ]
    }
   ],
   "source": [
    "print(\"A\")\n",
    "def message1() :\n",
    "    print(\"B\")\n",
    "print(\"C\")\n",
    "def message2() :\n",
    "    print(\"D\")\n",
    "message1()\n",
    "print(\"E\")\n",
    "message2()"
   ]
  },
  {
   "cell_type": "code",
   "execution_count": 9,
   "metadata": {},
   "outputs": [
    {
     "name": "stdout",
     "output_type": "stream",
     "text": [
      "A\n",
      "C\n",
      "B\n",
      "E\n",
      "D\n"
     ]
    }
   ],
   "source": [
    "# 함수 선언부\n",
    "def message1() :\n",
    "    print(\"B\")\n",
    "    \n",
    "def message2() :\n",
    "    print(\"D\")    \n",
    "\n",
    "\n",
    "# 메인 프로그램\n",
    "print(\"A\")\n",
    "print(\"C\")\n",
    "message1()\n",
    "print(\"E\")\n",
    "message2()"
   ]
  },
  {
   "cell_type": "markdown",
   "metadata": {},
   "source": [
    "##  parameter는 여러 개 만들 수 있지만, 함수에 넘겨 줄 때 순서가 중요!!"
   ]
  },
  {
   "cell_type": "code",
   "execution_count": 21,
   "metadata": {},
   "outputs": [
    {
     "name": "stdout",
     "output_type": "stream",
     "text": [
      "16\n",
      "21\n"
     ]
    }
   ],
   "source": [
    "def my_func(a, b, c):\n",
    "    return (a + b) * c\n",
    "\n",
    "d,e,f = 3, 5, 2\n",
    "\n",
    "\n",
    "print(my_func(d,e,f))\n",
    "print(my_func(f,e,d))"
   ]
  },
  {
   "cell_type": "code",
   "execution_count": 20,
   "metadata": {},
   "outputs": [
    {
     "name": "stdout",
     "output_type": "stream",
     "text": [
      "3 2\n",
      "3 2\n",
      "3 2\n",
      "3 2\n",
      "3 2\n",
      "5 2\n",
      "5 2\n",
      "5 2\n"
     ]
    }
   ],
   "source": [
    "# 추가예제\n",
    "def my_func(a, b, c): \n",
    "    for i in range(b):\n",
    "        print(a,c)\n",
    "        \n",
    "    #return \n",
    "\n",
    "#print((a+b)*c)\n",
    "\n",
    "my_func(3, 5, 2)\n",
    "my_func(5, 3, 2)"
   ]
  },
  {
   "cell_type": "markdown",
   "metadata": {},
   "source": [
    "# 함수 정의 다양한 형태\n"
   ]
  },
  {
   "cell_type": "markdown",
   "metadata": {},
   "source": [
    "## 함수 parameter와 return이 모두 존재하는 경우"
   ]
  },
  {
   "cell_type": "code",
   "execution_count": 13,
   "metadata": {},
   "outputs": [
    {
     "data": {
      "text/plain": [
       "15"
      ]
     },
     "execution_count": 13,
     "metadata": {},
     "output_type": "execute_result"
    }
   ],
   "source": [
    "def add(a, b):\n",
    "    c = a + b\n",
    "    return c\n",
    "\n",
    "add(10, 5)"
   ]
  },
  {
   "attachments": {
    "image.png": {
     "image/png": "[encoded data removed]"
    }
   },
   "cell_type": "markdown",
   "metadata": {},
   "source": [
    "**연습문제2) 문자열을 받아서 거꾸로 반환해주는 함수 reverse() 만들기**\n",
    "![image.png](attachment:image.png)"
   ]
  },
  {
   "cell_type": "code",
   "execution_count": 14,
   "metadata": {},
   "outputs": [
    {
     "data": {
      "text/plain": [
       "'nohtyP olleH'"
      ]
     },
     "execution_count": 14,
     "metadata": {},
     "output_type": "execute_result"
    }
   ],
   "source": [
    "#함수정의\n",
    "def reverse(str):\n",
    "    return str[::-1]\n",
    "\n",
    "#함수호출\n",
    "reverse(\"Hello Python\")"
   ]
  },
  {
   "cell_type": "markdown",
   "metadata": {},
   "source": [
    "## 함수 parameter는 없고 return이 존재하는 경우"
   ]
  },
  {
   "cell_type": "code",
   "execution_count": 15,
   "metadata": {},
   "outputs": [
    {
     "name": "stdout",
     "output_type": "stream",
     "text": [
      "Hello World\n"
     ]
    }
   ],
   "source": [
    "def say():        \n",
    "    return 'Hello'\n",
    "\n",
    "str1 = say()+' World'\n",
    "print(str1)"
   ]
  },
  {
   "cell_type": "markdown",
   "metadata": {},
   "source": [
    "## 함수 parameter는 있고 return이 없는 경우"
   ]
  },
  {
   "cell_type": "code",
   "execution_count": 16,
   "metadata": {},
   "outputs": [
    {
     "name": "stdout",
     "output_type": "stream",
     "text": [
      "안녕하세요. 재석님\n",
      "현재 프리미엄 서비스 사용기간이 20일 남았습니다.\n",
      "안녕하세요. 민아님\n",
      "현재 프리미엄 서비스 사용기간이 17일 남았습니다.\n",
      "안녕하세요. 유정님\n",
      "현재 프리미엄 서비스 사용기간이 4일 남았습니다.\n"
     ]
    }
   ],
   "source": [
    "def printMessage(name, date):\n",
    "    print(f\"안녕하세요. {name}님\")\n",
    "    print(f\"현재 프리미엄 서비스 사용기간이 {date}일 남았습니다.\")\n",
    "\n",
    "\n",
    "printMessage(\"재석\",20)\n",
    "printMessage(\"민아\",17)\n",
    "printMessage(\"유정\",4)"
   ]
  },
  {
   "attachments": {
    "image.png": {
     "image/png": "[encoded data removed]"
    }
   },
   "cell_type": "markdown",
   "metadata": {},
   "source": [
    "**연습문제3) 매개변수 a,b를 받아서 a를 b번 출력하는 함수 print_n() 만들기**\n",
    "![image.png](attachment:image.png)"
   ]
  },
  {
   "cell_type": "code",
   "execution_count": 17,
   "metadata": {},
   "outputs": [
    {
     "name": "stdout",
     "output_type": "stream",
     "text": [
      "hello\n",
      "hello\n",
      "hello\n",
      "hello\n",
      "hello\n"
     ]
    }
   ],
   "source": [
    "#함수정의\n",
    "def print_n(a,b):\n",
    "    for i in range(b): print(a)\n",
    "\n",
    "#메인프로그램\n",
    "print_n('hello',5)"
   ]
  },
  {
   "cell_type": "markdown",
   "metadata": {},
   "source": [
    "## 함수 parameter, return 둘 다 없는 경우"
   ]
  },
  {
   "cell_type": "code",
   "execution_count": null,
   "metadata": {},
   "outputs": [],
   "source": [
    "# 함수정의\n",
    "def printHello():\n",
    "    print(\"Hello\")\n",
    "    print(\"Hello\")\n",
    "    print(\"Hello\")\n",
    "\n",
    "# 함수호출    \n",
    "printHello()"
   ]
  },
  {
   "cell_type": "code",
   "execution_count": null,
   "metadata": {},
   "outputs": [],
   "source": []
  },
  {
   "cell_type": "markdown",
   "metadata": {},
   "source": [
    "## retrun\n",
    "- 함수의 결과값은 언제나 하나이다.\n",
    "- retrun의 또 다른 쓰임새 : 주어진 함수의 실행을 멈추고 싶을때"
   ]
  },
  {
   "cell_type": "code",
   "execution_count": 22,
   "metadata": {},
   "outputs": [
    {
     "data": {
      "text/plain": [
       "(15, 5, 50, 2)"
      ]
     },
     "execution_count": 22,
     "metadata": {},
     "output_type": "execute_result"
    }
   ],
   "source": [
    "def cal(a, b):    \n",
    "    return a+b, a-b, a*b, a//b\n",
    "\n",
    "cal(10, 5)"
   ]
  },
  {
   "cell_type": "code",
   "execution_count": 24,
   "metadata": {},
   "outputs": [
    {
     "name": "stdout",
     "output_type": "stream",
     "text": [
      "None\n",
      "None\n",
      "4\n"
     ]
    }
   ],
   "source": [
    "def add(a, b):   \n",
    "    if(a == 0):\n",
    "        return\n",
    "    elif(b == 0):\n",
    "        return\n",
    "    else:\n",
    "        sum = a + b\n",
    "        return sum\n",
    "\n",
    "print(add(0,2))\n",
    "print(add(2,0))\n",
    "print(add(2,2))"
   ]
  },
  {
   "cell_type": "markdown",
   "metadata": {},
   "source": [
    "# 지역변수, 전역변수\n",
    "- 변수 : 지역(Local) 변수 / 전역(Global) 변수"
   ]
  },
  {
   "cell_type": "code",
   "execution_count": 31,
   "metadata": {},
   "outputs": [
    {
     "name": "stdout",
     "output_type": "stream",
     "text": [
      "func1에서 num : 100\n",
      "func2에서 num : 10\n",
      "func3에서 num : 100\n",
      "func4에서 num : 50\n",
      "func5에서 num : 50\n"
     ]
    }
   ],
   "source": [
    "#함수선언\n",
    "def func1():\n",
    "    print('func1에서 num :', num)\n",
    "    \n",
    "def func2():\n",
    "    num = 10\n",
    "    print('func2에서 num :', num)\n",
    "    \n",
    "def func3():\n",
    "    print('func3에서 num :', num)\n",
    "    \n",
    "def func4():\n",
    "    global num\n",
    "    num = 50\n",
    "    print('func4에서 num :', num)\n",
    "    \n",
    "def func5():\n",
    "    print('func5에서 num :', num)\n",
    "    \n",
    "# 메인 프로그램\n",
    "num = 100\n",
    "func1()\n",
    "func2()\n",
    "func3()\n",
    "func4()\n",
    "func5()"
   ]
  },
  {
   "cell_type": "markdown",
   "metadata": {},
   "source": [
    "# 매개변수(parameter)\n"
   ]
  },
  {
   "cell_type": "markdown",
   "metadata": {},
   "source": [
    "## 함수관련 Error"
   ]
  },
  {
   "cell_type": "code",
   "execution_count": 32,
   "metadata": {},
   "outputs": [
    {
     "ename": "TypeError",
     "evalue": "print_n() missing 1 required positional argument: 'n'",
     "output_type": "error",
     "traceback": [
      "\u001b[1;31m---------------------------------------------------------------------------\u001b[0m",
      "\u001b[1;31mTypeError\u001b[0m                                 Traceback (most recent call last)",
      "Input \u001b[1;32mIn [32]\u001b[0m, in \u001b[0;36m<cell line: 5>\u001b[1;34m()\u001b[0m\n\u001b[0;32m      2\u001b[0m     \u001b[38;5;28;01mfor\u001b[39;00m i \u001b[38;5;129;01min\u001b[39;00m \u001b[38;5;28mrange\u001b[39m(n) :\n\u001b[0;32m      3\u001b[0m         \u001b[38;5;28mprint\u001b[39m(value)\n\u001b[1;32m----> 5\u001b[0m \u001b[43mprint_n\u001b[49m\u001b[43m(\u001b[49m\u001b[38;5;124;43m'\u001b[39;49m\u001b[38;5;124;43mhello\u001b[39;49m\u001b[38;5;124;43m'\u001b[39;49m\u001b[43m)\u001b[49m\n",
      "\u001b[1;31mTypeError\u001b[0m: print_n() missing 1 required positional argument: 'n'"
     ]
    }
   ],
   "source": [
    "def print_n(value, n) :\n",
    "    for i in range(n) :\n",
    "        print(value)\n",
    "\n",
    "print_n('hello')"
   ]
  },
  {
   "cell_type": "code",
   "execution_count": 33,
   "metadata": {},
   "outputs": [
    {
     "ename": "TypeError",
     "evalue": "print_n() takes 2 positional arguments but 3 were given",
     "output_type": "error",
     "traceback": [
      "\u001b[1;31m---------------------------------------------------------------------------\u001b[0m",
      "\u001b[1;31mTypeError\u001b[0m                                 Traceback (most recent call last)",
      "Input \u001b[1;32mIn [33]\u001b[0m, in \u001b[0;36m<cell line: 5>\u001b[1;34m()\u001b[0m\n\u001b[0;32m      2\u001b[0m     \u001b[38;5;28;01mfor\u001b[39;00m i \u001b[38;5;129;01min\u001b[39;00m \u001b[38;5;28mrange\u001b[39m(n) :\n\u001b[0;32m      3\u001b[0m         \u001b[38;5;28mprint\u001b[39m(value)\n\u001b[1;32m----> 5\u001b[0m \u001b[43mprint_n\u001b[49m\u001b[43m(\u001b[49m\u001b[38;5;124;43m'\u001b[39;49m\u001b[38;5;124;43mhello\u001b[39;49m\u001b[38;5;124;43m'\u001b[39;49m\u001b[43m,\u001b[49m\u001b[38;5;241;43m2\u001b[39;49m\u001b[43m,\u001b[49m\u001b[38;5;241;43m3\u001b[39;49m\u001b[43m)\u001b[49m\n",
      "\u001b[1;31mTypeError\u001b[0m: print_n() takes 2 positional arguments but 3 were given"
     ]
    }
   ],
   "source": [
    "def print_n(value, n) :\n",
    "    for i in range(n) :\n",
    "        print(value)\n",
    "\n",
    "print_n('hello',2,3)"
   ]
  },
  {
   "cell_type": "markdown",
   "metadata": {},
   "source": [
    "## 위치 매개변수(positonal parameter)\n",
    "- 가장 일반(기본)적인 매개변수\n",
    "- 함수를 호출할 때 **순서대로** 데이터(인자)를 넘겨줘야 한다.\n",
    "- 다른 매개변수와 함께 쓸 때는 **항상 맨 앞에** 써야 한다"
   ]
  },
  {
   "cell_type": "code",
   "execution_count": 34,
   "metadata": {},
   "outputs": [
    {
     "name": "stdout",
     "output_type": "stream",
     "text": [
      "Hello Python\n",
      "Python Hello\n"
     ]
    }
   ],
   "source": [
    "# 함수 정의\n",
    "def my_func(a,b):\n",
    "    print(a,b)\n",
    "\n",
    "# 함수호출\n",
    "my_func('Hello','Python')\n",
    "my_func('Python', 'Hello')"
   ]
  },
  {
   "cell_type": "markdown",
   "metadata": {},
   "source": [
    "## 기본 매개변수(default parameter)\n",
    "- 함수를 정의할 때 매개변수의 기본 값을 지정할 수 있다.\n",
    "- print('Hello', sep = ' ', end = '\\n') 에서 sep, end에 값을 입력하지 않아도 매개변수에 들어가는 기본값이 정해져있다.\n",
    "- 기본매개변수 뒤에는 일반 매개변수가 올수없다.\n"
   ]
  },
  {
   "cell_type": "code",
   "execution_count": 35,
   "metadata": {
    "scrolled": true
   },
   "outputs": [
    {
     "name": "stdout",
     "output_type": "stream",
     "text": [
      "안녕하세요\n",
      "안녕하세요\n"
     ]
    }
   ],
   "source": [
    "def print_n_times(a, n=2) :\n",
    "    for i in range(n): print(a)\n",
    "        \n",
    "print_n_times('안녕하세요')\n"
   ]
  },
  {
   "cell_type": "markdown",
   "metadata": {},
   "source": [
    "## 키워드 매개변수(keyword parameter)\n",
    "- 함수 호출시에 키워드를 붙혀서 호출한다.\n",
    "- 매개변수의 **순서를 지키지 않아도 된다.**"
   ]
  },
  {
   "cell_type": "code",
   "execution_count": 36,
   "metadata": {},
   "outputs": [
    {
     "name": "stdout",
     "output_type": "stream",
     "text": [
      "안녕하세요\n",
      "안녕하세요\n",
      "안녕하세요\n"
     ]
    }
   ],
   "source": [
    "def print_n_times(a, n=2) :\n",
    "    for i in range(n): print(a)\n",
    "        \n",
    "print_n_times('안녕하세요', n=3)"
   ]
  },
  {
   "cell_type": "code",
   "execution_count": 39,
   "metadata": {},
   "outputs": [
    {
     "name": "stdout",
     "output_type": "stream",
     "text": [
      "16\n",
      "16\n",
      "16\n"
     ]
    }
   ],
   "source": [
    "def test(a, b, c):\n",
    "    print((a+b)*c)\n",
    "\n",
    "test(a=1, b=3, c=4)\n",
    "test(b=3, c=4, a=1 )\n",
    "test(c=4, b=3, a=1 )"
   ]
  },
  {
   "cell_type": "code",
   "execution_count": 40,
   "metadata": {},
   "outputs": [
    {
     "name": "stdout",
     "output_type": "stream",
     "text": [
      "안녕하세요\n",
      "안녕하세요\n",
      "****************************************\n",
      "안녕하세요\n",
      "안녕하세요\n",
      "안녕하세요\n",
      "안녕하세요\n",
      "안녕하세요\n"
     ]
    }
   ],
   "source": [
    "def print_n_times(value, n=2) :\n",
    "    for i in range(n): print(value)\n",
    "        \n",
    "print_n_times('안녕하세요')\n",
    "print('*'*40)\n",
    "print_n_times('안녕하세요', n=5)"
   ]
  },
  {
   "cell_type": "code",
   "execution_count": null,
   "metadata": {
    "scrolled": true
   },
   "outputs": [],
   "source": [
    "\n"
   ]
  },
  {
   "cell_type": "markdown",
   "metadata": {},
   "source": [
    "## 가변매개변수(vailable lenth parameter)\n",
    "- 가변 매개변수 : 개수가 정해지지 않은 매개변수(parameter의 개수를 모르는 경우)\n",
    "- 매개변수 앞에 \\*가 붙는다.\n",
    "- **\\*args** : arguments의 약자이며 관례적으로 \\*args를 쓴다. 여러개의 parameter를 받아서 **tuple**로 변환하여 준다.\n",
    "- **\\*\\*kwargs** : keyword arguments의 약자이며 관례적으로 \\*\\*kwargs를 쓴다. 여러개의 **키워드 파라미터**를 받아서 **dict**로 변환하여 준다.\n",
    "- 가변매개변수는 하나만 사용할 수 있다."
   ]
  },
  {
   "cell_type": "code",
   "execution_count": 43,
   "metadata": {},
   "outputs": [
    {
     "name": "stdout",
     "output_type": "stream",
     "text": [
      "(1, 2, 3) <class 'tuple'>\n",
      "3\n",
      "(1, 2, 3, 4, 5) <class 'tuple'>\n",
      "5\n"
     ]
    }
   ],
   "source": [
    "# 함수정의\n",
    "def add_many(*args):\n",
    "    '''\n",
    "    매개변수로 전달되는 값의 누적합을 구하는 함수\n",
    "    '''\n",
    "    print(args, type(args))\n",
    "    total = 0\n",
    "    for i in args: total+=1\n",
    "    return total\n",
    "\n",
    "#메인프로그램\n",
    "print(add_many(1,2,3))\n",
    "print(add_many(1,2,3,4,5))"
   ]
  },
  {
   "cell_type": "code",
   "execution_count": 45,
   "metadata": {},
   "outputs": [
    {
     "name": "stdout",
     "output_type": "stream",
     "text": [
      "('apple', 'orange')\n",
      "apple\n",
      "orange\n",
      "\n",
      "('apple', 'orange', 'banana')\n",
      "apple\n",
      "orange\n",
      "banana\n",
      "\n",
      "('apple', 'orange', 'banana', 'mango')\n",
      "apple\n",
      "orange\n",
      "banana\n",
      "mango\n",
      "\n"
     ]
    }
   ],
   "source": [
    "def print_fruit(*args):\n",
    "    '''\n",
    "    과일 이름을 받아서 출력해주는 함수\n",
    "    '''\n",
    "    print(args)\n",
    "    for i in args: print(i)\n",
    "    print()\n",
    "    \n",
    "print_fruit('apple','orange')\n",
    "print_fruit('apple','orange','banana')\n",
    "print_fruit('apple','orange','banana','mango')"
   ]
  },
  {
   "cell_type": "code",
   "execution_count": 47,
   "metadata": {},
   "outputs": [
    {
     "name": "stdout",
     "output_type": "stream",
     "text": [
      "{'a': 1} <class 'dict'>\n",
      "a:1\n",
      "\n",
      "{'떡볶이': '순대', '치킨': '맥주', '짜장면': '단무지'} <class 'dict'>\n",
      "떡볶이:순대\n",
      "치킨:맥주\n",
      "짜장면:단무지\n",
      "\n"
     ]
    }
   ],
   "source": [
    "def print_kwargs(**kwargs):\n",
    "    print(kwargs, type(kwargs))\n",
    "    for key, val in kwargs.items():\n",
    "        print(f'{key}:{val}')\n",
    "    print()\n",
    "    \n",
    "print_kwargs(a=1)\n",
    "print_kwargs(떡볶이='순대', 치킨 ='맥주', 짜장면='단무지')"
   ]
  },
  {
   "cell_type": "markdown",
   "metadata": {},
   "source": [
    "## 매개변수 순서\n",
    ": 위치(일반), 기본(default), 가변"
   ]
  },
  {
   "cell_type": "markdown",
   "metadata": {},
   "source": [
    "- 기본 매개변수, 가변매개변수"
   ]
  },
  {
   "cell_type": "code",
   "execution_count": 3,
   "metadata": {},
   "outputs": [
    {
     "name": "stdout",
     "output_type": "stream",
     "text": [
      "n : Hi\n",
      "H ('즐거운', '파이썬')\n",
      "i ('즐거운', '파이썬')\n"
     ]
    }
   ],
   "source": [
    "def print_n_times(n='Welcome', *args) :\n",
    "    print(f'n : {n}')\n",
    "    for i in n : print(i, args)\n",
    "        \n",
    "print_n_times('Hi','즐거운','파이썬')             "
   ]
  },
  {
   "cell_type": "code",
   "execution_count": 5,
   "metadata": {},
   "outputs": [
    {
     "name": "stdout",
     "output_type": "stream",
     "text": [
      "n : 3\n",
      "0 ('즐거운', '파이썬')\n",
      "1 ('즐거운', '파이썬')\n",
      "2 ('즐거운', '파이썬')\n"
     ]
    }
   ],
   "source": [
    "def print_n_times(n=2, *args) :\n",
    "    print(f'n : {n}')\n",
    "    for i in range(n) : print(i,args)\n",
    "        \n",
    "print_n_times(3,'즐거운','파이썬')"
   ]
  },
  {
   "cell_type": "code",
   "execution_count": null,
   "metadata": {},
   "outputs": [],
   "source": []
  },
  {
   "cell_type": "markdown",
   "metadata": {},
   "source": [
    "- 가변 매개변수,기본 매개변수 "
   ]
  },
  {
   "cell_type": "code",
   "execution_count": 6,
   "metadata": {},
   "outputs": [
    {
     "name": "stdout",
     "output_type": "stream",
     "text": [
      "n : 2\n",
      "0 ('즐거운', '파이썬', 3)\n",
      "1 ('즐거운', '파이썬', 3)\n"
     ]
    }
   ],
   "source": [
    "def print_n_times( *args,n=2) :\n",
    "    print(f'n : {n}')\n",
    "    for i in range(n) : print(i,args)\n",
    "        \n",
    "print_n_times('즐거운','파이썬',3)"
   ]
  },
  {
   "cell_type": "markdown",
   "metadata": {},
   "source": [
    "- 위치 매개변수, 가변매개변수, 기본(키워드)매개변수"
   ]
  },
  {
   "cell_type": "code",
   "execution_count": 12,
   "metadata": {},
   "outputs": [
    {
     "name": "stdout",
     "output_type": "stream",
     "text": [
      "n : 2\n",
      "i:0, args :('안녕하세요', '즐거운', '파이썬'), para:1\n",
      "i:1, args :('안녕하세요', '즐거운', '파이썬'), para:1\n",
      "----------------------------------------\n",
      "n : 2\n",
      "i:0, args :('안녕하세요', '즐거운', '파이썬', 3), para:2\n",
      "i:1, args :('안녕하세요', '즐거운', '파이썬', 3), para:2\n",
      "----------------------------------------\n",
      "n : 4\n",
      "i:0, args :('안녕하세요', '즐거운', '파이썬'), para:3\n",
      "i:1, args :('안녕하세요', '즐거운', '파이썬'), para:3\n",
      "i:2, args :('안녕하세요', '즐거운', '파이썬'), para:3\n",
      "i:3, args :('안녕하세요', '즐거운', '파이썬'), para:3\n",
      "----------------------------------------\n",
      "n : test\n"
     ]
    },
    {
     "ename": "TypeError",
     "evalue": "'str' object cannot be interpreted as an integer",
     "output_type": "error",
     "traceback": [
      "\u001b[1;31m---------------------------------------------------------------------------\u001b[0m",
      "\u001b[1;31mTypeError\u001b[0m                                 Traceback (most recent call last)",
      "Input \u001b[1;32mIn [12]\u001b[0m, in \u001b[0;36m<cell line: 15>\u001b[1;34m()\u001b[0m\n\u001b[0;32m     12\u001b[0m print_n_times(\u001b[38;5;241m3\u001b[39m,\u001b[38;5;124m'\u001b[39m\u001b[38;5;124m안녕하세요\u001b[39m\u001b[38;5;124m'\u001b[39m,\u001b[38;5;124m'\u001b[39m\u001b[38;5;124m즐거운\u001b[39m\u001b[38;5;124m'\u001b[39m,\u001b[38;5;124m'\u001b[39m\u001b[38;5;124m파이썬\u001b[39m\u001b[38;5;124m'\u001b[39m,n\u001b[38;5;241m=\u001b[39m\u001b[38;5;241m4\u001b[39m)\n\u001b[0;32m     13\u001b[0m \u001b[38;5;28mprint\u001b[39m(\u001b[38;5;124m'\u001b[39m\u001b[38;5;124m-\u001b[39m\u001b[38;5;124m'\u001b[39m\u001b[38;5;241m*\u001b[39m\u001b[38;5;241m40\u001b[39m)\n\u001b[1;32m---> 15\u001b[0m \u001b[43mprint_n_times\u001b[49m\u001b[43m(\u001b[49m\u001b[38;5;124;43m'\u001b[39;49m\u001b[38;5;124;43m어렵다 어려워...\u001b[39;49m\u001b[38;5;124;43m'\u001b[39;49m\u001b[43m,\u001b[49m\u001b[38;5;124;43m'\u001b[39;49m\u001b[38;5;124;43m안녕하세요\u001b[39;49m\u001b[38;5;124;43m'\u001b[39;49m\u001b[43m,\u001b[49m\u001b[38;5;124;43m'\u001b[39;49m\u001b[38;5;124;43m즐거운\u001b[39;49m\u001b[38;5;124;43m'\u001b[39;49m\u001b[43m,\u001b[49m\u001b[38;5;124;43m'\u001b[39;49m\u001b[38;5;124;43m파이썬\u001b[39;49m\u001b[38;5;124;43m'\u001b[39;49m\u001b[43m,\u001b[49m\u001b[43mn\u001b[49m\u001b[38;5;241;43m=\u001b[39;49m\u001b[38;5;124;43m'\u001b[39;49m\u001b[38;5;124;43mtest\u001b[39;49m\u001b[38;5;124;43m'\u001b[39;49m\u001b[43m)\u001b[49m\n\u001b[0;32m     16\u001b[0m \u001b[38;5;28mprint\u001b[39m(\u001b[38;5;124m'\u001b[39m\u001b[38;5;124m-\u001b[39m\u001b[38;5;124m'\u001b[39m\u001b[38;5;241m*\u001b[39m\u001b[38;5;241m40\u001b[39m)\n",
      "Input \u001b[1;32mIn [12]\u001b[0m, in \u001b[0;36mprint_n_times\u001b[1;34m(para1, n, *args)\u001b[0m\n\u001b[0;32m      1\u001b[0m \u001b[38;5;28;01mdef\u001b[39;00m \u001b[38;5;21mprint_n_times\u001b[39m(para1, \u001b[38;5;241m*\u001b[39margs, n\u001b[38;5;241m=\u001b[39m \u001b[38;5;241m2\u001b[39m) :\n\u001b[0;32m      2\u001b[0m     \u001b[38;5;28mprint\u001b[39m(\u001b[38;5;124m'\u001b[39m\u001b[38;5;124mn :\u001b[39m\u001b[38;5;124m'\u001b[39m, n)\n\u001b[1;32m----> 3\u001b[0m     \u001b[38;5;28;01mfor\u001b[39;00m i \u001b[38;5;129;01min\u001b[39;00m \u001b[38;5;28;43mrange\u001b[39;49m\u001b[43m(\u001b[49m\u001b[43mn\u001b[49m\u001b[43m)\u001b[49m :\n\u001b[0;32m      4\u001b[0m         \u001b[38;5;28mprint\u001b[39m(\u001b[38;5;124mf\u001b[39m\u001b[38;5;124m'\u001b[39m\u001b[38;5;124mi:\u001b[39m\u001b[38;5;132;01m{\u001b[39;00mi\u001b[38;5;132;01m}\u001b[39;00m\u001b[38;5;124m, args :\u001b[39m\u001b[38;5;132;01m{\u001b[39;00margs\u001b[38;5;132;01m}\u001b[39;00m\u001b[38;5;124m, para:\u001b[39m\u001b[38;5;132;01m{\u001b[39;00mpara1\u001b[38;5;132;01m}\u001b[39;00m\u001b[38;5;124m'\u001b[39m)\n",
      "\u001b[1;31mTypeError\u001b[0m: 'str' object cannot be interpreted as an integer"
     ]
    }
   ],
   "source": [
    "def print_n_times(para1, *args, n= 2) :\n",
    "    print('n :', n)\n",
    "    for i in range(n) :\n",
    "        print(f'i:{i}, args :{args}, para:{para1}')\n",
    "        \n",
    "print_n_times(1,'안녕하세요','즐거운','파이썬')\n",
    "print('-'*40)\n",
    "\n",
    "print_n_times(2,'안녕하세요','즐거운','파이썬',3)\n",
    "print('-'*40)\n",
    "\n",
    "print_n_times(3,'안녕하세요','즐거운','파이썬',n=4)\n",
    "print('-'*40)\n",
    "\n",
    "print_n_times('어렵다 어려워...','안녕하세요','즐거운','파이썬' ,n=5)\n",
    "print('-'*40)"
   ]
  },
  {
   "cell_type": "code",
   "execution_count": null,
   "metadata": {},
   "outputs": [],
   "source": []
  },
  {
   "cell_type": "markdown",
   "metadata": {},
   "source": [
    "# lambda\n",
    "- lambda : 함수를 생성할 때 사용하는 예약어로 def와 동일한 역할\n",
    "- 간단한 함수를 쉽게 선언하는 방법\n",
    "- **lambda 매개변수 : 리턴값**"
   ]
  },
  {
   "cell_type": "code",
   "execution_count": 13,
   "metadata": {},
   "outputs": [
    {
     "name": "stdout",
     "output_type": "stream",
     "text": [
      "7\n"
     ]
    }
   ],
   "source": [
    "# a,b를 받아서 합계를 return하는 함수\n",
    "\n",
    "def add(a,b):\n",
    "    return a+b\n",
    "\n",
    "result = add(3,4)\n",
    "print(result)"
   ]
  },
  {
   "cell_type": "code",
   "execution_count": 15,
   "metadata": {},
   "outputs": [
    {
     "name": "stdout",
     "output_type": "stream",
     "text": [
      "7\n"
     ]
    }
   ],
   "source": [
    "add =lambda a,b : a+b\n",
    "result = add(3,4)\n",
    "print(result)"
   ]
  },
  {
   "cell_type": "code",
   "execution_count": 16,
   "metadata": {},
   "outputs": [
    {
     "name": "stdout",
     "output_type": "stream",
     "text": [
      "7\n"
     ]
    }
   ],
   "source": [
    "result = (lambda a,b : a+b)(3,4)\n",
    "print(result)"
   ]
  },
  {
   "cell_type": "markdown",
   "metadata": {},
   "source": [
    "- **lambda는 단독으로도 사용되지만 map()와 더 많이 사용된다.**\n",
    "- map()는 리스트의 요소를 지정된 함수로 처리해주는 함수\n",
    "- **map(함수, 순회가능한 데이터)** "
   ]
  },
  {
   "cell_type": "code",
   "execution_count": 17,
   "metadata": {},
   "outputs": [
    {
     "name": "stdout",
     "output_type": "stream",
     "text": [
      "[1, 2, 3, 4, 5]\n",
      "[11, 12, 13, 14, 15]\n"
     ]
    }
   ],
   "source": [
    "myList = [1,2,3,4,5]\n",
    "print(myList)\n",
    "\n",
    "def add10(num):\n",
    "    return num+10\n",
    "\n",
    "for i, val in enumerate(myList) :\n",
    "    myList[i]=add10(val)\n",
    "    \n",
    "print(myList)"
   ]
  },
  {
   "cell_type": "code",
   "execution_count": 19,
   "metadata": {},
   "outputs": [
    {
     "name": "stdout",
     "output_type": "stream",
     "text": [
      "[11, 12, 13, 14, 15]\n"
     ]
    }
   ],
   "source": [
    "myList = [1,2,3,4,5]\n",
    "add10 = lambda num : num+10\n",
    "temp = list(map(add10, myList))\n",
    "print(temp)"
   ]
  },
  {
   "cell_type": "code",
   "execution_count": null,
   "metadata": {},
   "outputs": [],
   "source": [
    "myList = [1,2,3,4,5]\n",
    "myList = list(map(lambda num : num+10, myList))\n",
    "print(temp)"
   ]
  },
  {
   "cell_type": "code",
   "execution_count": null,
   "metadata": {},
   "outputs": [],
   "source": []
  },
  {
   "cell_type": "code",
   "execution_count": null,
   "metadata": {},
   "outputs": [],
   "source": []
  },
  {
   "cell_type": "markdown",
   "metadata": {},
   "source": [
    "# 파이썬 내장 함수\n",
    "- 파이썬에서는 기본적으로 제공하는 다양한 내장함수가 있다.\n",
    "- 따로 설치할 필요없이, Python Interpreter를 설치하는 과정에서 함께 설치\n",
    "- abs,max, min,range, round, sum, type, len...등등 많은 내장 함수가 있다. \n",
    "- 파이썬 라이브러리 참조!!(https://docs.python.org/ko/3/library/functions.html)"
   ]
  },
  {
   "cell_type": "markdown",
   "metadata": {},
   "source": [
    "##  zip()\n",
    "- 동일한 갯수로 이루어진 자료형을 묶어주는 역할을 하는 함수\n",
    "- **zip(*iterable)**\n",
    "- *iterable :반복가능(iterable)한 자료형 여러개를 입력할 수 있다는 의미"
   ]
  },
  {
   "cell_type": "code",
   "execution_count": 22,
   "metadata": {},
   "outputs": [
    {
     "name": "stdout",
     "output_type": "stream",
     "text": [
      "[(1, 4), (2, 5), (3, 6)]\n",
      "[(1, 4, 7), (2, 5, 8), (3, 6, 9)]\n"
     ]
    }
   ],
   "source": [
    "a =list(zip([1,2,3],[4,5,6]))\n",
    "print(a)\n",
    "\n",
    "b =list(zip([1,2,3],[4,5,6],[7,8,9]))\n",
    "print(b)"
   ]
  },
  {
   "cell_type": "markdown",
   "metadata": {},
   "source": [
    "- 여러 개의 iterable 동시에 순회할 때 사용"
   ]
  },
  {
   "cell_type": "code",
   "execution_count": 23,
   "metadata": {},
   "outputs": [
    {
     "name": "stdout",
     "output_type": "stream",
     "text": [
      "3524\n",
      "236\n",
      "306\n",
      "2746\n"
     ]
    }
   ],
   "source": [
    "list1 = [1, 2, 3, 4]\n",
    "list2 = [100, 200, 300, 400]\n",
    "list3 = [3423, 34, 3, 2342]\n",
    "\n",
    "for i, j, k in zip(list1, list2, list3):\n",
    "    print(i+j+k)\n"
   ]
  },
  {
   "cell_type": "markdown",
   "metadata": {},
   "source": [
    "- Key 리스트와 Value 리스트로 딕셔너리 생성하기"
   ]
  },
  {
   "cell_type": "code",
   "execution_count": 28,
   "metadata": {},
   "outputs": [
    {
     "name": "stdout",
     "output_type": "stream",
     "text": [
      "{'아메리카노': 4100, '카페라떼': 4600, '카페모카': 4600, '바닐라라떼': 5100, '핸드드립': 6000, '콜드브루': 5000}\n",
      "{'아메리카노': 4100, '카페라떼': 4600, '카페모카': 4600, '바닐라라떼': 5100, '핸드드립': 6000, '콜드브루': 5000}\n"
     ]
    }
   ],
   "source": [
    "coffees = ['아메리카노', '카페라떼', '카페모카', '바닐라라떼', '핸드드립', '콜드브루']\n",
    "prices = [4100, 4600, 4600, 5100, 6000, 5000]\n",
    "menus = {}\n",
    "\n",
    "for i in range(len(coffees)):\n",
    "    menus[coffees[i]]=prices[i]\n",
    "print(menus)\n",
    "\n",
    "# zip\n",
    "menus = {}\n",
    "menus= dict(zip(coffees,prices))\n",
    "print(menus)"
   ]
  },
  {
   "attachments": {
    "image-2.png": {
     "image/png": "[encoded data removed]"
    }
   },
   "cell_type": "markdown",
   "metadata": {},
   "source": [
    "**연습문제2) 동물과 울음소리가 있는 리스트를 zip()를 이용하여 key(동물):value(울음) 구조의 dict_animals를 생성하시오.**\n",
    "![image-2.png](attachment:image-2.png)"
   ]
  },
  {
   "cell_type": "code",
   "execution_count": 29,
   "metadata": {
    "scrolled": true
   },
   "outputs": [
    {
     "name": "stdout",
     "output_type": "stream",
     "text": [
      "{'cat': 'meow', 'dog': 'woof', 'lion': 'roar'}\n"
     ]
    }
   ],
   "source": [
    "animals = ['cat', 'dog', 'lion']\n",
    "sounds = ['meow', 'woof', 'roar']\n",
    "dict_animals = {}\n",
    "\n",
    "dict_animals = dict(zip(animals, sounds))\n",
    "print(dict_animals)"
   ]
  },
  {
   "cell_type": "markdown",
   "metadata": {},
   "source": [
    "## sorted()\n",
    "- **sorted(연속적인 자료형)**"
   ]
  },
  {
   "cell_type": "code",
   "execution_count": 30,
   "metadata": {},
   "outputs": [
    {
     "name": "stdout",
     "output_type": "stream",
     "text": [
      "[10, 30, 50, 20, 40]\n",
      "[10, 20, 30, 40, 50]\n"
     ]
    }
   ],
   "source": [
    "# list의 sort()\n",
    "list_a = [10, 30, 50, 20, 40]\n",
    "print(list_a)\n",
    "list_a.sort()\n",
    "print(list_a)"
   ]
  },
  {
   "cell_type": "code",
   "execution_count": 34,
   "metadata": {
    "scrolled": true
   },
   "outputs": [
    {
     "name": "stdout",
     "output_type": "stream",
     "text": [
      "[10, 30, 50, 20, 40]\n",
      "[10, 30, 50, 20, 40]\n",
      "[10, 20, 30, 40, 50]\n",
      "[50, 40, 30, 20, 10]\n"
     ]
    }
   ],
   "source": [
    "list_a = [10, 30, 50, 20, 40]\n",
    "print(list_a)\n",
    "\n",
    "list_b= sorted(list_a)\n",
    "print(list_a)\n",
    "print(list_b)\n",
    "\n",
    "list_c= sorted(list_a,reverse=True)\n",
    "print(list_c)"
   ]
  },
  {
   "cell_type": "markdown",
   "metadata": {},
   "source": [
    "## filter()\n",
    "- filter란 무엇인가를 걸러낸다는 뜻으로 filter()도 동일한 의미\n",
    "- **filter(함수이름, iterable)**\n",
    "- 반환값(return)이 참인것만 걸러내서 돌려준다."
   ]
  },
  {
   "cell_type": "code",
   "execution_count": 35,
   "metadata": {},
   "outputs": [
    {
     "data": {
      "text/plain": [
       "[1, 2, 6, 7]"
      ]
     },
     "execution_count": 35,
     "metadata": {},
     "output_type": "execute_result"
    }
   ],
   "source": [
    "# 양수만 돌려주는 함수\n",
    "def positive(list_x):\n",
    "    result=[]\n",
    "    for i in list_x:\n",
    "        if i >0 : result.append(i)\n",
    "    return result\n",
    "\n",
    "\n",
    "# 메인프로그램\n",
    "list_a = [1,-3, 2, 0,-5, 6, -10, 7]\n",
    "positive(list_a)"
   ]
  },
  {
   "cell_type": "code",
   "execution_count": 39,
   "metadata": {},
   "outputs": [
    {
     "data": {
      "text/plain": [
       "[1, 2, 6, 7]"
      ]
     },
     "execution_count": 39,
     "metadata": {},
     "output_type": "execute_result"
    }
   ],
   "source": [
    "def positive(a):\n",
    "    return a>0 \n",
    "\n",
    "list_a = [1,-3, 2, 0,-5, 6, -10, 7]\n",
    "list(filter(positive, list_a))"
   ]
  },
  {
   "cell_type": "markdown",
   "metadata": {},
   "source": [
    "## 문자열 관련 함수들\n",
    "### ljust, center, rjust\n",
    "- 문자열 좌측/가운데/우측 정렬\n",
    "- **변수.함수(글자수)**"
   ]
  },
  {
   "cell_type": "code",
   "execution_count": 40,
   "metadata": {},
   "outputs": [
    {
     "name": "stdout",
     "output_type": "stream",
     "text": [
      "가나다라   \n",
      "  가나다라 \n",
      "   가나다라\n",
      "가나다라***\n",
      "**가나다라*\n",
      "***가나다라\n"
     ]
    }
   ],
   "source": [
    "s = '가나다라'\n",
    "n = 7\n",
    "\n",
    "print(s.ljust(n))\n",
    "print(s.center(n))\n",
    "print(s.rjust(n))\n",
    "\n",
    "print(s.ljust(n, '*'))\n",
    "print(s.center(n, '*'))\n",
    "print(s.rjust(n, '*'))"
   ]
  },
  {
   "cell_type": "markdown",
   "metadata": {},
   "source": [
    "### zfill()\n",
    "- 오른쪽 정렬을 하면서 0을 채워줌.\n",
    "- rjust()와 차이점은 +, - 기호를 포함해서 인식하는지 여부\n",
    "- 0을 채우는 zfill()는 기호가 맨 앞으로 오게 됩니다.\n",
    "- 금액 표시같은 경우에는 zfill()를 사용\n",
    "- 우편번호나 전화번호등 문자열 그대로 사용하고 싶은 경우에는 rjust()를 사용"
   ]
  },
  {
   "cell_type": "code",
   "execution_count": 41,
   "metadata": {
    "scrolled": true
   },
   "outputs": [
    {
     "name": "stdout",
     "output_type": "stream",
     "text": [
      "000123\n",
      "000123\n",
      "00-123\n",
      "-00123\n"
     ]
    }
   ],
   "source": [
    "str = '123'\n",
    "\n",
    "print(str.rjust(6, '0'))\n",
    "print(str.zfill(6))\n",
    "\n",
    "\n",
    "str = '-123'\n",
    "\n",
    "print(str.rjust(6, '0'))\n",
    "print(str.zfill(6))"
   ]
  },
  {
   "cell_type": "markdown",
   "metadata": {},
   "source": [
    "### strip(), split()"
   ]
  },
  {
   "cell_type": "code",
   "execution_count": 7,
   "metadata": {},
   "outputs": [
    {
     "name": "stdout",
     "output_type": "stream",
     "text": [
      "Hello      Python\n",
      "['Hello', 'Python']\n"
     ]
    }
   ],
   "source": [
    "#좌우 공백 없애면서 중간공백을 기준으로 자르기\n",
    "\n",
    "a = '      Hello      Python     '\n",
    "print(a.strip())\n",
    "print(a.strip().split())"
   ]
  },
  {
   "cell_type": "code",
   "execution_count": 11,
   "metadata": {},
   "outputs": [
    {
     "data": {
      "text/plain": [
       "'HelloPython'"
      ]
     },
     "execution_count": 11,
     "metadata": {},
     "output_type": "execute_result"
    }
   ],
   "source": [
    "# 중간공백 없애기\n",
    "a = '      Hello      Python     '\n",
    "#join()\n",
    "'*'.join('hello')\n",
    "''.join(a.strip().split())\n",
    "\n",
    "#replace()\n",
    "a.replace(' ','')"
   ]
  },
  {
   "cell_type": "markdown",
   "metadata": {},
   "source": [
    "**연습문제2) 0~1000까지 1의 개수를 count하여 출력하시오.**\n",
    "- 예 : 0~ 20 -> 1, 10, 11, 12, 13, 14, 15, 16, 17, 18, 19 -> 총 12개"
   ]
  },
  {
   "cell_type": "code",
   "execution_count": 14,
   "metadata": {},
   "outputs": [
    {
     "name": "stdout",
     "output_type": "stream",
     "text": [
      "[1, 2, 3, 4, 5]\n"
     ]
    },
    {
     "data": {
      "text/plain": [
       "'['"
      ]
     },
     "execution_count": 14,
     "metadata": {},
     "output_type": "execute_result"
    }
   ],
   "source": [
    "list_b = [1,2,3,4,5]\n",
    "str(list_b)\n",
    "\n",
    "data2 = str(list_b)\n",
    "print(list_b)\n",
    "# data2\n",
    "data2[0]"
   ]
  },
  {
   "cell_type": "code",
   "execution_count": 19,
   "metadata": {
    "scrolled": true
   },
   "outputs": [
    {
     "name": "stdout",
     "output_type": "stream",
     "text": [
      "0~1000사이의 1의 개수는 301개 입니다.\n"
     ]
    }
   ],
   "source": [
    "countN= str(list(range(1001))).count('1')\n",
    "print(f'0~1000사이의 1의 개수는 {countN}개 입니다.')"
   ]
  },
  {
   "cell_type": "markdown",
   "metadata": {},
   "source": [
    "**연습문제3) count()사용하여 20220620을 출력하시오**\n",
    "- 시간, 날짜 함수 사용금지\n",
    "- input() 사용금지\n",
    "- 코드 내에 숫자가 있으면 안됨\n"
   ]
  },
  {
   "cell_type": "code",
   "execution_count": 25,
   "metadata": {},
   "outputs": [
    {
     "name": "stdout",
     "output_type": "stream",
     "text": [
      "2 0 6\n",
      "2022620\n"
     ]
    }
   ],
   "source": [
    "data = 'aacccccc'\n",
    "a = data.count('a') #2\n",
    "b = data.count('b')  #0\n",
    "c = data.count('c') #6\n",
    "print(a,b,c)\n",
    "print(str(a)+str(b)+str(a)+str(a)+str(c)+str(a)+str(b))"
   ]
  },
  {
   "attachments": {
    "image.png": {
     "image/png": "[encoded data removed]"
    }
   },
   "cell_type": "markdown",
   "metadata": {},
   "source": [
    "**연습문제4) 다음 질문에 맞는 프로그램을 완성하시오.**\n",
    "- 문자열 s와 자연수 n이 입력으로 주어집니다. 문자열 s를 좌측 / 가운데 / 우측 정렬한 길이 n인 문자열을 한 줄씩 프린트해보세요.\n",
    "- s의 길이는 n보다 작습니다.\n",
    "- (n - s의 길이)는 짝수입니다.\n",
    "- s는 알파벳과 숫자로만 이루어져 있으며, 공백 문자가 포함되어있지 않습니다.\n",
    "![image.png](attachment:image.png)"
   ]
  },
  {
   "cell_type": "code",
   "execution_count": 27,
   "metadata": {
    "scrolled": true
   },
   "outputs": [
    {
     "name": "stdout",
     "output_type": "stream",
     "text": [
      "hello 10\n",
      "hello 10\n",
      "hello     \n",
      "  hello   \n",
      "     hello\n"
     ]
    }
   ],
   "source": [
    "s, n = input().strip().split()\n",
    "print(s,n)\n",
    "n = int(n)\n",
    "print(s.ljust(n))\n",
    "print(s.center(n))\n",
    "print(s.rjust(n))"
   ]
  },
  {
   "attachments": {
    "image.png": {
     "image/png": "[encoded data removed]"
    }
   },
   "cell_type": "markdown",
   "metadata": {},
   "source": [
    "**연습문제5) 정수를 넣으면 홀수/짝수 여부를 리턴하는 함수 만들기.**\n",
    "![image.png](attachment:image.png)"
   ]
  },
  {
   "cell_type": "code",
   "execution_count": 30,
   "metadata": {},
   "outputs": [
    {
     "name": "stdout",
     "output_type": "stream",
     "text": [
      "홀수\n",
      "짝수\n"
     ]
    }
   ],
   "source": [
    "# 정수를 입력받아 0, 짝수, 홀수 여부를 리턴하는 함수 만들기\n",
    "def is_odd_even(n):\n",
    "    if n%2 ==1 : result = '홀수'\n",
    "    else : result='짝수'\n",
    "    return result\n",
    "\n",
    "    \n",
    "# 함수호출\n",
    "print(is_odd_even(21))\n",
    "print(is_odd_even(2))"
   ]
  },
  {
   "cell_type": "markdown",
   "metadata": {},
   "source": [
    "**연습문제6) 아래코드가 에러가 나는 원인은?**\n"
   ]
  },
  {
   "cell_type": "code",
   "execution_count": 31,
   "metadata": {},
   "outputs": [
    {
     "ename": "TypeError",
     "evalue": "hamsu() missing 1 required positional argument: 'data'",
     "output_type": "error",
     "traceback": [
      "\u001b[1;31m---------------------------------------------------------------------------\u001b[0m",
      "\u001b[1;31mTypeError\u001b[0m                                 Traceback (most recent call last)",
      "Input \u001b[1;32mIn [31]\u001b[0m, in \u001b[0;36m<cell line: 4>\u001b[1;34m()\u001b[0m\n\u001b[0;32m      1\u001b[0m \u001b[38;5;28;01mdef\u001b[39;00m \u001b[38;5;21mhamsu\u001b[39m(data) :\n\u001b[0;32m      2\u001b[0m     \u001b[38;5;28mprint\u001b[39m(data)\n\u001b[1;32m----> 4\u001b[0m \u001b[43mhamsu\u001b[49m\u001b[43m(\u001b[49m\u001b[43m)\u001b[49m\n",
      "\u001b[1;31mTypeError\u001b[0m: hamsu() missing 1 required positional argument: 'data'"
     ]
    }
   ],
   "source": [
    "def hamsu(data) :\n",
    "    print(data)\n",
    "\n",
    "hamsu()"
   ]
  },
  {
   "attachments": {
    "image.png": {
     "image/png": "[encoded data removed]"
    }
   },
   "cell_type": "markdown",
   "metadata": {},
   "source": [
    "**연습문제7) 문자열을 입력하면 문자열 끝에 ★(\\u2605)을 출력하는 함수를 만들고 호출하시오**\n",
    "- 예시) 파라미터 : 'Hello' -> 'Hello'★ 출력\n",
    "![image.png](attachment:image.png)"
   ]
  },
  {
   "cell_type": "code",
   "execution_count": 32,
   "metadata": {},
   "outputs": [
    {
     "name": "stdout",
     "output_type": "stream",
     "text": [
      "hello★\n"
     ]
    }
   ],
   "source": [
    "def printWithStar (string) :\n",
    "    print(string+'\\u2605')\n",
    "\n",
    "printWithStar('hello')    "
   ]
  },
  {
   "attachments": {
    "image.png": {
     "image/png": "[encoded data removed]"
    }
   },
   "cell_type": "markdown",
   "metadata": {},
   "source": [
    "**연습문제8) 주어진 자연수가 홀수인지 짝수 인지 판별해 주는 함수 is_odd를 작성해 보자**\n",
    "- 홀수이면 true / 짝수이면 false를 반환해준다.\n",
    "![image.png](attachment:image.png)"
   ]
  },
  {
   "cell_type": "code",
   "execution_count": 33,
   "metadata": {
    "scrolled": true
   },
   "outputs": [
    {
     "data": {
      "text/plain": [
       "True"
      ]
     },
     "execution_count": 33,
     "metadata": {},
     "output_type": "execute_result"
    }
   ],
   "source": [
    "def is_odd(number):\n",
    "    if number % 2 == 1:  \n",
    "        return True\n",
    "    else:\n",
    "        return False\n",
    "\n",
    "is_odd(3)"
   ]
  },
  {
   "attachments": {
    "image.png": {
     "image/png": "[encoded data removed]"
    }
   },
   "cell_type": "markdown",
   "metadata": {},
   "source": [
    "**연습문제9) 세 개의 숫자를 입력받아 가장 큰수를 return하는 func_max()를 정의하라. 단 if 문을 사용해서 수를 비교하라.**\n",
    "![image.png](attachment:image.png)"
   ]
  },
  {
   "cell_type": "code",
   "execution_count": 34,
   "metadata": {},
   "outputs": [
    {
     "data": {
      "text/plain": [
       "6"
      ]
     },
     "execution_count": 34,
     "metadata": {},
     "output_type": "execute_result"
    }
   ],
   "source": [
    "def func_max(a,b,c):\n",
    "    maxValue = 0\n",
    "    if a>b : maxValue= a\n",
    "    else : maxValue = b    \n",
    "    if c>maxValue : maxValue= c\n",
    "    return maxValue\n",
    "        \n",
    "func_max(3,4,6)"
   ]
  },
  {
   "cell_type": "code",
   "execution_count": 39,
   "metadata": {},
   "outputs": [
    {
     "data": {
      "text/plain": [
       "6"
      ]
     },
     "execution_count": 39,
     "metadata": {},
     "output_type": "execute_result"
    }
   ],
   "source": [
    "def func_max(a,b,c):\n",
    "    maxValue = 0\n",
    "    maxValue = a if a>b else  b\n",
    "    maxValue = c if c>maxValue else maxValue\n",
    "    return maxValue\n",
    "        \n",
    "func_max(3,4,6)"
   ]
  },
  {
   "attachments": {
    "image.png": {
     "image/png": "[encoded data removed]"
    }
   },
   "cell_type": "markdown",
   "metadata": {},
   "source": [
    "**연습문제10) 입력으로 들어오는 모든 수의 평균값을 계산해 주는 함수를 작성해 보자.** (단 입력으로 들어오는 수의 개수는 정해져 있지 않다.)\n",
    "![image.png](attachment:image.png)"
   ]
  },
  {
   "cell_type": "code",
   "execution_count": 42,
   "metadata": {},
   "outputs": [
    {
     "name": "stdout",
     "output_type": "stream",
     "text": [
      "2\n",
      "3\n"
     ]
    }
   ],
   "source": [
    "def avg_numbers(*args):\n",
    "    result = 0\n",
    "    for i in args : result += i\n",
    "    return result//len(args)\n",
    "\n",
    "print(avg_numbers(1,2,3))\n",
    "print(avg_numbers(1,2,3,4,5))"
   ]
  },
  {
   "attachments": {
    "image.png": {
     "image/png": "[encoded data removed]"
    }
   },
   "cell_type": "markdown",
   "metadata": {},
   "source": [
    "**연습문제11) 해당 숫자가 소수인지 아닌지 판별하는 함수**\n",
    "![image.png](attachment:image.png)"
   ]
  },
  {
   "cell_type": "code",
   "execution_count": 44,
   "metadata": {},
   "outputs": [
    {
     "name": "stdout",
     "output_type": "stream",
     "text": [
      "True\n",
      "False\n"
     ]
    }
   ],
   "source": [
    "# 소수판별\n",
    "# 소수 : 1과 자기자신으로만 나누어 지는 수\n",
    "# 입력 : 양의 정수 1개\n",
    "# 출력 : boolean(소수 : True, 1 & 합성수 : False)\n",
    "\n",
    "def isPrime(num) :\n",
    "    if num ==1 :\n",
    "        return False\n",
    "    \n",
    "    #합성수 구하기\n",
    "    for i in range(2,num):\n",
    "        if num % i == 0 : return False\n",
    "    \n",
    "    return True\n",
    "print(isPrime(5))\n",
    "print(isPrime(6))"
   ]
  },
  {
   "cell_type": "code",
   "execution_count": null,
   "metadata": {},
   "outputs": [],
   "source": []
  }
 ],
 "metadata": {
  "kernelspec": {
   "display_name": "Python 3 (ipykernel)",
   "language": "python",
   "name": "python3"
  },
  "language_info": {
   "codemirror_mode": {
    "name": "ipython",
    "version": 3
   },
   "file_extension": ".py",
   "mimetype": "text/x-python",
   "name": "python",
   "nbconvert_exporter": "python",
   "pygments_lexer": "ipython3",
   "version": "3.9.12"
  },
  "toc": {
   "base_numbering": 1,
   "nav_menu": {},
   "number_sections": true,
   "sideBar": true,
   "skip_h1_title": false,
   "title_cell": "Table of Contents",
   "title_sidebar": "Contents",
   "toc_cell": false,
   "toc_position": {
    "height": "calc(100% - 180px)",
    "left": "10px",
    "top": "150px",
    "width": "187px"
   },
   "toc_section_display": true,
   "toc_window_display": false
  }
 },
 "nbformat": 4,
 "nbformat_minor": 4
}
