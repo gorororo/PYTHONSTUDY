{
 "cells": [
  {
   "cell_type": "code",
   "execution_count": 1,
   "id": "b687e7a7",
   "metadata": {},
   "outputs": [
    {
     "data": {
      "text/plain": [
       "20"
      ]
     },
     "execution_count": 1,
     "metadata": {},
     "output_type": "execute_result"
    }
   ],
   "source": [
    "10+10"
   ]
  },
  {
   "cell_type": "code",
   "execution_count": 2,
   "id": "24fd1f47",
   "metadata": {},
   "outputs": [
    {
     "data": {
      "text/plain": [
       "21"
      ]
     },
     "execution_count": 2,
     "metadata": {},
     "output_type": "execute_result"
    }
   ],
   "source": [
    "1+20"
   ]
  },
  {
   "cell_type": "code",
   "execution_count": 3,
   "id": "b78573bb",
   "metadata": {},
   "outputs": [
    {
     "name": "stdout",
     "output_type": "stream",
     "text": [
      "hello world\n"
     ]
    }
   ],
   "source": [
    "print('hello world')"
   ]
  },
  {
   "cell_type": "markdown",
   "id": "6cb12453",
   "metadata": {},
   "source": [
    "안녕하세요"
   ]
  },
  {
   "cell_type": "markdown",
   "id": "155a0c94",
   "metadata": {},
   "source": [
    "마크다운 연습"
   ]
  },
  {
   "cell_type": "markdown",
   "id": "9780cdf1",
   "metadata": {},
   "source": [
    "# 글자 사이즈는 \n",
    "## 쉬프트 숫자로 조절 할수 있다\n",
    "### 계속 추가될수록 줄어든다.\n",
    "#### 한계가 있나\n",
    "##### 요?\n",
    "\n",
    "- 마크다운 으로\n",
    "* 문서 작성을 해봅시다.\n",
    "\n",
    "<kbd>연습</kbd>\n",
    "\n",
    "> 니자신을 알라 인용구는 이렇게\n",
    "\n",
    "<hr>\n",
    "\n",
    "이게  줄바꿈"
   ]
  },
  {
   "cell_type": "code",
   "execution_count": 6,
   "id": "2390ca07",
   "metadata": {},
   "outputs": [
    {
     "name": "stdout",
     "output_type": "stream",
     "text": [
      "hello.python\n"
     ]
    }
   ],
   "source": [
    "# , 로 구분 (hello.python)\n",
    "print('hello','python',sep='.')"
   ]
  },
  {
   "cell_type": "code",
   "execution_count": 8,
   "id": "dc6643c5",
   "metadata": {},
   "outputs": [
    {
     "name": "stdout",
     "output_type": "stream",
     "text": [
      "안녕하세요 반갑습니다\n"
     ]
    }
   ],
   "source": [
    "print('안녕하세요',end=' ')\n",
    "print('반갑습니다')"
   ]
  },
  {
   "cell_type": "code",
   "execution_count": 10,
   "id": "1c5cde0f",
   "metadata": {},
   "outputs": [
    {
     "name": "stdout",
     "output_type": "stream",
     "text": [
      "안녕하세요!!반갑습니다!!"
     ]
    }
   ],
   "source": [
    "print('안녕하세요',end='!!')\n",
    "print('반갑습니다',end='!!')\n"
   ]
  },
  {
   "cell_type": "code",
   "execution_count": 12,
   "id": "d6a12d9b",
   "metadata": {},
   "outputs": [
    {
     "name": "stdout",
     "output_type": "stream",
     "text": [
      "100 + 50 = 150\n",
      "100 - 50 = 50\n",
      "100 * 50 = 5000\n",
      "100 / 50 = 2.0\n"
     ]
    }
   ],
   "source": [
    "a = 100\n",
    "b = 50\n",
    "\n",
    "print(a,'+',b,'=',a+b)\n",
    "print(a,'-',b,'=',a-b)\n",
    "print(a,'*',b,'=',a*b)\n",
    "print(a,'/',b,'=',a/b)"
   ]
  },
  {
   "cell_type": "code",
   "execution_count": 18,
   "id": "a48bfcf3",
   "metadata": {},
   "outputs": [
    {
     "name": "stdout",
     "output_type": "stream",
     "text": [
      "자세히 보아야 예쁘다.\n",
      "오래 보아야 사랑스럽다.\n",
      "너도 그렇다.\n"
     ]
    }
   ],
   "source": [
    "print('자세히 보아야 예쁘다.')\n",
    "print('오래 보아야 사랑스럽다.')\n",
    "print('너도 그렇다.')"
   ]
  },
  {
   "cell_type": "markdown",
   "id": "b4481d9d",
   "metadata": {},
   "source": [
    "# input()\n",
    "\n",
    "- 사용자 입력값을 받을 수 있다. 입력 받는 값은 문자열(str)이다\n",
    "- input으로 입력받은 값은 무조건 str. 정수로 사용하고 싶다면 int()사용\n",
    "- int(input())\n"
   ]
  },
  {
   "cell_type": "code",
   "execution_count": null,
   "id": "02233364",
   "metadata": {},
   "outputs": [],
   "source": [
    "a = input()\n",
    "print(a, type(a))"
   ]
  }
 ],
 "metadata": {
  "kernelspec": {
   "display_name": "Python 3 (ipykernel)",
   "language": "python",
   "name": "python3"
  },
  "language_info": {
   "codemirror_mode": {
    "name": "ipython",
    "version": 3
   },
   "file_extension": ".py",
   "mimetype": "text/x-python",
   "name": "python",
   "nbconvert_exporter": "python",
   "pygments_lexer": "ipython3",
   "version": "3.9.12"
  }
 },
 "nbformat": 4,
 "nbformat_minor": 5
}
