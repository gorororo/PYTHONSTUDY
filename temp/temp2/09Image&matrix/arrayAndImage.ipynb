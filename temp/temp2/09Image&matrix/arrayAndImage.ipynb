{
 "cells": [
  {
   "cell_type": "code",
   "execution_count": 29,
   "metadata": {},
   "outputs": [
    {
     "name": "stderr",
     "output_type": "stream",
     "text": [
      "Clipping input data to the valid range for imshow with RGB data ([0..1] for floats or [0..255] for integers).\n",
      "Clipping input data to the valid range for imshow with RGB data ([0..1] for floats or [0..255] for integers).\n",
      "Clipping input data to the valid range for imshow with RGB data ([0..1] for floats or [0..255] for integers).\n",
      "Clipping input data to the valid range for imshow with RGB data ([0..1] for floats or [0..255] for integers).\n",
      "Clipping input data to the valid range for imshow with RGB data ([0..1] for floats or [0..255] for integers).\n",
      "Clipping input data to the valid range for imshow with RGB data ([0..1] for floats or [0..255] for integers).\n",
      "Clipping input data to the valid range for imshow with RGB data ([0..1] for floats or [0..255] for integers).\n",
      "Clipping input data to the valid range for imshow with RGB data ([0..1] for floats or [0..255] for integers).\n",
      "Clipping input data to the valid range for imshow with RGB data ([0..1] for floats or [0..255] for integers).\n",
      "Clipping input data to the valid range for imshow with RGB data ([0..1] for floats or [0..255] for integers).\n",
      "Clipping input data to the valid range for imshow with RGB data ([0..1] for floats or [0..255] for integers).\n",
      "Clipping input data to the valid range for imshow with RGB data ([0..1] for floats or [0..255] for integers).\n",
      "Clipping input data to the valid range for imshow with RGB data ([0..1] for floats or [0..255] for integers).\n"
     ]
    },
    {
     "data": {
      "text/plain": [
       "<matplotlib.image.AxesImage at 0x2561e54ef10>"
      ]
     },
     "execution_count": 29,
     "metadata": {},
     "output_type": "execute_result"
    },
    {
     "data": {
      "image/png": "[encoded data removed]",
      "text/plain": [
       "<Figure size 432x288 with 1 Axes>"
      ]
     },
     "metadata": {
      "needs_background": "light"
     },
     "output_type": "display_data"
    }
   ],
   "source": [
    "import matplotlib.pyplot as plt\n",
    "import matplotlib.cm as cm\n",
    "import numpy as np\n",
    "\n",
    "M = np.zeros((2,3))\n",
    "M = np.ones((2,3))\n",
    "\n",
    "Height = 4\n",
    "Width = 5\n",
    "Depth = 3\n",
    "\n",
    "# black\n",
    "M = np.zeros((Height,Width,Depth))\n",
    "plt.imshow(M)\n",
    "plt.grid()\n",
    "\n",
    "# red\n",
    "M[:,:,0]=255\n",
    "plt.imshow(M)\n",
    "plt.grid()\n",
    "\n",
    "# green\n",
    "M = np.zeros((Height,Width,Depth))\n",
    "M[:,:,1]=255\n",
    "plt.imshow(M)\n",
    "plt.grid()\n",
    "# blue\n",
    "M = np.zeros((Height,Width,Depth))\n",
    "M[:,:,2]=255\n",
    "plt.imshow(M)\n",
    "plt.grid()\n",
    "# white\n",
    "M = np.ones((Height,Width,Depth))*255\n",
    "plt.imshow(M)\n",
    "plt.grid()\n",
    "\n",
    "#black\n",
    "M = np.ones((Height,Width,Depth))*0\n",
    "plt.imshow(M)\n",
    "plt.grid()\n",
    "\n",
    "#change the top -left pixel to white\n",
    "M[0,0,:]=255\n",
    "plt.imshow(M)\n",
    "plt.grid(False)\n",
    "\n",
    "#change the top -left pixel to green\n",
    "M[0,0,0]=0\n",
    "M[0,0,1]=255\n",
    "M[0,0,2]=0\n",
    "plt.imshow(M)\n",
    "plt.grid(False)\n",
    "#change the top -left pixel to blue\n",
    "M[0,0,0]=0\n",
    "M[0,0,1]=0\n",
    "M[0,0,2]=255\n",
    "plt.imshow(M)\n",
    "plt.grid(False)\n",
    "#change the top -left pixel to red\n",
    "M[0,0,0]=255\n",
    "M[0,0,1]=0\n",
    "M[0,0,2]=0\n",
    "plt.imshow(M)\n",
    "plt.grid(False)\n",
    "\n",
    "# back to black\n",
    "M[:,:,:]=0\n",
    "plt.imshow(M)\n",
    "\n",
    "# change the first column to green\n",
    "M[:,0,1]=255\n",
    "plt.imshow(M)\n",
    "# change the cecond column from the last to blue\n",
    "M[:,-2,2]=255\n",
    "plt.imshow(M)\n",
    "# change the third row to yellow\n",
    "M[2,:,0]=255\n",
    "M[2,:,1]=255\n",
    "M[2,:,2]=0\n",
    "plt.imshow(M)\n",
    "\n",
    "#extend in vertical direction\n",
    "M_vt = np.vstack([M,M])\n",
    "plt.imshow(M_vt)\n",
    "#extend in horizontal direction\n",
    "M_hz = np.hstack([M,M])\n",
    "plt.imshow(M_hz)\n",
    "\n",
    "# make it a little darker\n",
    "M_hz = (M_hz/255)*0.5\n",
    "plt.imshow(M_hz)\n",
    "\n"
   ]
  },
  {
   "cell_type": "code",
   "execution_count": 56,
   "metadata": {},
   "outputs": [
    {
     "data": {
      "text/plain": [
       "<matplotlib.image.AxesImage at 0x25622d1b1c0>"
      ]
     },
     "execution_count": 56,
     "metadata": {},
     "output_type": "execute_result"
    },
    {
     "data": {
      "image/png": "[encoded data removed]",
      "text/plain": [
       "<Figure size 432x288 with 1 Axes>"
      ]
     },
     "metadata": {
      "needs_background": "light"
     },
     "output_type": "display_data"
    }
   ],
   "source": [
    "# checkerboard image\n",
    "\n",
    "M = np.zeros((5,5,3))\n",
    "plt.imshow(M)\n",
    "\n",
    "# turn into white\n",
    "M[:]=0\n",
    "plt.imshow(M)\n",
    "\n",
    "#checkerboard\n",
    "M[0::2,0::2,:]=1\n",
    "plt.imshow(M)\n",
    "\n",
    "M[1::2,1::2,:]=1\n",
    "plt.imshow(M)\n",
    "\n",
    "#copy\n",
    "N = M.copy()\n",
    "\n",
    "idx=np.where(N==1)\n",
    "N[idx]=0.5\n",
    "plt.imshow(N)\n",
    "\n",
    "#change black to white\n",
    "\n",
    "idx=np.where(N<0.1)\n",
    "N[idx]=1\n",
    "plt.imshow(N)\n",
    "\n",
    "#copy again\n",
    "N= M.copy()\n",
    "plt.imshow(N)\n",
    "\n",
    "#color inverse\n",
    "idx_w=np.where(N==1)\n",
    "idx_b=np.where(N==0)\n",
    "N[idx_w]=0\n",
    "N[idx_b]=1\n",
    "plt.imshow(N)\n",
    "\n",
    "#change white to green\n",
    "idx1 = np.where(N==1)\n",
    "N[idx1[0],idx1[1],0]=0\n",
    "N[idx1[0],idx1[1],2]=0\n",
    "plt.imshow(N)\n",
    "#change black to red\n",
    "flag_r = (N[:,:,0]==0) \n",
    "flag_g = (N[:,:,1]==0) \n",
    "flag_b = (N[:,:,2]==0) \n",
    "\n",
    "flag_blk = flag_r & flag_g & flag_b\n",
    "index_blk=np.where(flag_blk==True)\n",
    "\n",
    "N[index_blk[0],index_blk[1] ,0] =1\n",
    "plt.imshow(N)\n",
    "\n",
    "#change black to red (another way)\n",
    "N = M.copy()\n",
    "plt.imshow(N)\n",
    "\n",
    "N_sum = np.sum(N,axis=2)\n",
    "idx_blk = np.where(N_sum==0)\n",
    "N[idx_blk[0],idx_blk[1],0]=1\n",
    "plt.imshow(N)\n",
    "\n",
    "#change diagonal to green\n",
    "np.fill_diagonal(N[:,:,0],0)\n",
    "np.fill_diagonal(N[:,:,1],1)\n",
    "np.fill_diagonal(N[:,:,2],0)\n",
    "plt.imshow(N)\n",
    "\n",
    "#jet scale\n",
    "M = np.linspace(0,1,10)\n",
    "M = M[:,np.newaxis]\n",
    "M = np.repeat(M,10,axis=1)\n",
    "plt.imshow(M,cmap='jet')\n",
    "\n"
   ]
  },
  {
   "cell_type": "code",
   "execution_count": 58,
   "metadata": {},
   "outputs": [
    {
     "data": {
      "text/plain": [
       "<matplotlib.image.AxesImage at 0x25622daac40>"
      ]
     },
     "execution_count": 58,
     "metadata": {},
     "output_type": "execute_result"
    },
    {
     "data": {
      "image/png": "[encoded data removed]",
      "text/plain": [
       "<Figure size 432x288 with 1 Axes>"
      ]
     },
     "metadata": {
      "needs_background": "light"
     },
     "output_type": "display_data"
    }
   ],
   "source": [
    "#transpose\n",
    "M_tr = np.transpose(M)\n",
    "plt.imshow(M_tr,cmap='jet')"
   ]
  }
 ],
 "metadata": {
  "kernelspec": {
   "display_name": "Python 3.9.12 ('base')",
   "language": "python",
   "name": "python3"
  },
  "language_info": {
   "codemirror_mode": {
    "name": "ipython",
    "version": 3
   },
   "file_extension": ".py",
   "mimetype": "text/x-python",
   "name": "python",
   "nbconvert_exporter": "python",
   "pygments_lexer": "ipython3",
   "version": "3.9.12"
  },
  "orig_nbformat": 4,
  "vscode": {
   "interpreter": {
    "hash": "9e030b06df8535e05113b5fce651d4155290bdf1b2777b3d701a1501abf85227"
   }
  }
 },
 "nbformat": 4,
 "nbformat_minor": 2
}
