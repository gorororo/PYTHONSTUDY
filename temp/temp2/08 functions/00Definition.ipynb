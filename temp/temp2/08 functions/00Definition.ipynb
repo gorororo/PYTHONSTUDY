{
 "cells": [
  {
   "cell_type": "code",
   "execution_count": 5,
   "metadata": {},
   "outputs": [],
   "source": [
    "def my_funtion():\n",
    "    print('hello')"
   ]
  },
  {
   "cell_type": "code",
   "execution_count": 6,
   "metadata": {},
   "outputs": [
    {
     "name": "stdout",
     "output_type": "stream",
     "text": [
      "hello\n"
     ]
    }
   ],
   "source": [
    "my_funtion()"
   ]
  },
  {
   "cell_type": "code",
   "execution_count": 7,
   "metadata": {},
   "outputs": [],
   "source": [
    "def my_funtion_2(x):\n",
    "    print('Hello'+str(x))"
   ]
  },
  {
   "cell_type": "code",
   "execution_count": 8,
   "metadata": {},
   "outputs": [
    {
     "name": "stdout",
     "output_type": "stream",
     "text": [
      "Hello100\n"
     ]
    }
   ],
   "source": [
    "my_funtion_2(100)"
   ]
  },
  {
   "cell_type": "code",
   "execution_count": 20,
   "metadata": {},
   "outputs": [
    {
     "name": "stdout",
     "output_type": "stream",
     "text": [
      "Outside fn,y =5\n"
     ]
    }
   ],
   "source": [
    "y = 5\n",
    "print('Outside fn,y ='+str(y))"
   ]
  },
  {
   "cell_type": "code",
   "execution_count": 21,
   "metadata": {},
   "outputs": [],
   "source": [
    "def my_fn_add_10(x):\n",
    "    global y\n",
    "    y = x + 10\n",
    "    print('Inside fn, y = '+str(y))\n",
    "    return y"
   ]
  },
  {
   "cell_type": "code",
   "execution_count": 12,
   "metadata": {},
   "outputs": [],
   "source": [
    "out=my_fn_add_10(100)"
   ]
  },
  {
   "cell_type": "code",
   "execution_count": 25,
   "metadata": {},
   "outputs": [],
   "source": [
    "def my_fn_add_10_v2(x=5): #인자값을 미리 정해놓을수 있다\n",
    "    return x+10"
   ]
  },
  {
   "cell_type": "code",
   "execution_count": 26,
   "metadata": {},
   "outputs": [
    {
     "data": {
      "text/plain": [
       "15"
      ]
     },
     "execution_count": 26,
     "metadata": {},
     "output_type": "execute_result"
    }
   ],
   "source": [
    "my_fn_add_10_v2() #정해놓지 않으면 오류가 나지만 미리 정해놨다면 빈인자값으로 함수를 실행할수있다."
   ]
  },
  {
   "cell_type": "code",
   "execution_count": 27,
   "metadata": {},
   "outputs": [
    {
     "data": {
      "text/plain": [
       "8"
      ]
     },
     "execution_count": 27,
     "metadata": {},
     "output_type": "execute_result"
    }
   ],
   "source": [
    "def my_fn_add_two_numbers(x1,x2): #aguments\n",
    "    return x1+x2\n",
    "\n",
    "my_fn_add_two_numbers(3,5)"
   ]
  },
  {
   "cell_type": "code",
   "execution_count": 31,
   "metadata": {},
   "outputs": [
    {
     "name": "stdout",
     "output_type": "stream",
     "text": [
      "Dongsoo0NONE\n",
      "Dongsoo24NONE\n",
      "Dongsoo24Python\n",
      "Dongsoo24Python\n"
     ]
    }
   ],
   "source": [
    "def my_print(name,age=0,lan='NONE'):\n",
    "    print( name+''+str(age)+''+lan)\n",
    "\n",
    "my_print('Dongsoo')\n",
    "my_print('Dongsoo',24)\n",
    "my_print('Dongsoo',24,'Python')\n",
    "my_print('Dongsoo',lan='Python',age=24)"
   ]
  },
  {
   "cell_type": "code",
   "execution_count": 32,
   "metadata": {},
   "outputs": [
    {
     "name": "stdout",
     "output_type": "stream",
     "text": [
      "Dongsoo24Python\n"
     ]
    }
   ],
   "source": [
    "def my_print(name='Nobody',age=0,lan='NONE'):\n",
    "    print( name+''+str(age)+''+lan)\n",
    "\n",
    "my_print(lan='Python',age=24,name='Dongsoo')\n"
   ]
  },
  {
   "cell_type": "code",
   "execution_count": 33,
   "metadata": {},
   "outputs": [
    {
     "name": "stdout",
     "output_type": "stream",
     "text": [
      "abc\n",
      "def\n",
      "gfj\n"
     ]
    }
   ],
   "source": [
    "# arbitary arguments\n",
    "def my_print(*args):\n",
    "    for arg in args:\n",
    "        print(arg)\n",
    "\n",
    "my_print('abc','def','gfj')\n"
   ]
  },
  {
   "cell_type": "code",
   "execution_count": null,
   "metadata": {},
   "outputs": [],
   "source": []
  }
 ],
 "metadata": {
  "kernelspec": {
   "display_name": "Python 3.9.12 ('base')",
   "language": "python",
   "name": "python3"
  },
  "language_info": {
   "codemirror_mode": {
    "name": "ipython",
    "version": 3
   },
   "file_extension": ".py",
   "mimetype": "text/x-python",
   "name": "python",
   "nbconvert_exporter": "python",
   "pygments_lexer": "ipython3",
   "version": "3.9.12"
  },
  "orig_nbformat": 4,
  "vscode": {
   "interpreter": {
    "hash": "9e030b06df8535e05113b5fce651d4155290bdf1b2777b3d701a1501abf85227"
   }
  }
 },
 "nbformat": 4,
 "nbformat_minor": 2
}
