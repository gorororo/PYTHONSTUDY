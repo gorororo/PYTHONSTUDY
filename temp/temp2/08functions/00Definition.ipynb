{
 "cells": [
  {
   "cell_type": "code",
   "execution_count": 5,
   "metadata": {},
   "outputs": [],
   "source": [
    "def my_funtion():\n",
    "    print('hello')"
   ]
  },
  {
   "cell_type": "code",
   "execution_count": 6,
   "metadata": {},
   "outputs": [
    {
     "name": "stdout",
     "output_type": "stream",
     "text": [
      "hello\n"
     ]
    }
   ],
   "source": [
    "my_funtion()"
   ]
  },
  {
   "cell_type": "code",
   "execution_count": 7,
   "metadata": {},
   "outputs": [],
   "source": [
    "def my_funtion_2(x):\n",
    "    print('Hello'+str(x))"
   ]
  },
  {
   "cell_type": "code",
   "execution_count": 8,
   "metadata": {},
   "outputs": [
    {
     "name": "stdout",
     "output_type": "stream",
     "text": [
      "Hello100\n"
     ]
    }
   ],
   "source": [
    "my_funtion_2(100)"
   ]
  },
  {
   "cell_type": "code",
   "execution_count": 20,
   "metadata": {},
   "outputs": [
    {
     "name": "stdout",
     "output_type": "stream",
     "text": [
      "Outside fn,y =5\n"
     ]
    }
   ],
   "source": [
    "y = 5\n",
    "print('Outside fn,y ='+str(y))"
   ]
  },
  {
   "cell_type": "code",
   "execution_count": 21,
   "metadata": {},
   "outputs": [],
   "source": [
    "def my_fn_add_10(x):\n",
    "    global y\n",
    "    y = x + 10\n",
    "    print('Inside fn, y = '+str(y))\n",
    "    return y"
   ]
  },
  {
   "cell_type": "code",
   "execution_count": 12,
   "metadata": {},
   "outputs": [],
   "source": [
    "out=my_fn_add_10(100)"
   ]
  },
  {
   "cell_type": "code",
   "execution_count": 25,
   "metadata": {},
   "outputs": [],
   "source": [
    "def my_fn_add_10_v2(x=5): #인자값을 미리 정해놓을수 있다\n",
    "    return x+10"
   ]
  },
  {
   "cell_type": "code",
   "execution_count": 26,
   "metadata": {},
   "outputs": [
    {
     "data": {
      "text/plain": [
       "15"
      ]
     },
     "execution_count": 26,
     "metadata": {},
     "output_type": "execute_result"
    }
   ],
   "source": [
    "my_fn_add_10_v2() #정해놓지 않으면 오류가 나지만 미리 정해놨다면 빈인자값으로 함수를 실행할수있다."
   ]
  },
  {
   "cell_type": "code",
   "execution_count": 27,
   "metadata": {},
   "outputs": [
    {
     "data": {
      "text/plain": [
       "8"
      ]
     },
     "execution_count": 27,
     "metadata": {},
     "output_type": "execute_result"
    }
   ],
   "source": [
    "def my_fn_add_two_numbers(x1,x2): #aguments\n",
    "    return x1+x2\n",
    "\n",
    "my_fn_add_two_numbers(3,5)"
   ]
  },
  {
   "cell_type": "code",
   "execution_count": 31,
   "metadata": {},
   "outputs": [
    {
     "name": "stdout",
     "output_type": "stream",
     "text": [
      "Dongsoo0NONE\n",
      "Dongsoo24NONE\n",
      "Dongsoo24Python\n",
      "Dongsoo24Python\n"
     ]
    }
   ],
   "source": [
    "def my_print(name,age=0,lan='NONE'):\n",
    "    print( name+''+str(age)+''+lan)\n",
    "\n",
    "my_print('Dongsoo')\n",
    "my_print('Dongsoo',24)\n",
    "my_print('Dongsoo',24,'Python')\n",
    "my_print('Dongsoo',lan='Python',age=24)"
   ]
  },
  {
   "cell_type": "code",
   "execution_count": 32,
   "metadata": {},
   "outputs": [
    {
     "name": "stdout",
     "output_type": "stream",
     "text": [
      "Dongsoo24Python\n"
     ]
    }
   ],
   "source": [
    "def my_print(name='Nobody',age=0,lan='NONE'):\n",
    "    print( name+''+str(age)+''+lan)\n",
    "\n",
    "my_print(lan='Python',age=24,name='Dongsoo')\n"
   ]
  },
  {
   "cell_type": "code",
   "execution_count": 33,
   "metadata": {},
   "outputs": [
    {
     "name": "stdout",
     "output_type": "stream",
     "text": [
      "abc\n",
      "def\n",
      "gfj\n"
     ]
    }
   ],
   "source": [
    "# arbitary arguments\n",
    "def my_print(*args):\n",
    "    for arg in args:\n",
    "        print(arg)\n",
    "\n",
    "my_print('abc','def','gfj')\n"
   ]
  },
  {
   "cell_type": "code",
   "execution_count": 4,
   "metadata": {},
   "outputs": [],
   "source": [
    "def my_add(*args):\n",
    "    total = 0\n",
    "    for a in args:\n",
    "        total += a\n",
    "    return total"
   ]
  },
  {
   "cell_type": "code",
   "execution_count": 7,
   "metadata": {},
   "outputs": [
    {
     "data": {
      "text/plain": [
       "100"
      ]
     },
     "execution_count": 7,
     "metadata": {},
     "output_type": "execute_result"
    }
   ],
   "source": [
    "my_add(10,20,30,40)"
   ]
  },
  {
   "cell_type": "code",
   "execution_count": 12,
   "metadata": {},
   "outputs": [],
   "source": [
    "def my_concat(*args):\n",
    "    combined=str()\n",
    "    for a in args:\n",
    "        combined += a\n",
    "    return combined"
   ]
  },
  {
   "cell_type": "code",
   "execution_count": 15,
   "metadata": {},
   "outputs": [
    {
     "data": {
      "text/plain": [
       "'python'"
      ]
     },
     "execution_count": 15,
     "metadata": {},
     "output_type": "execute_result"
    }
   ],
   "source": [
    "my_concat('Py','thon')\n",
    "my_concat('p','y','t','hon')"
   ]
  },
  {
   "cell_type": "code",
   "execution_count": 21,
   "metadata": {},
   "outputs": [
    {
     "data": {
      "text/plain": [
       "[10, 11, 12, 13, 14, 15]"
      ]
     },
     "execution_count": 21,
     "metadata": {},
     "output_type": "execute_result"
    }
   ],
   "source": [
    "# unpacking arguments\n",
    "list(range(0,5,1))\n",
    "\n",
    "\n",
    "a =[10,15]\n",
    "list(range(a[0],a[1]+1))\n",
    "a[1]+=1\n",
    "list(range(*a))\n"
   ]
  },
  {
   "cell_type": "code",
   "execution_count": 29,
   "metadata": {},
   "outputs": [],
   "source": [
    "def my_list():\n",
    "    num_s=int(input('Start num: '))\n",
    "    num_e=int(input('End num: '))\n",
    "    num_inc=int(input('Increment: '))\n",
    "\n",
    "    out_list=list(range(num_s,num_e,num_inc))\n",
    "\n",
    "\n",
    "    return out_list\n"
   ]
  },
  {
   "cell_type": "code",
   "execution_count": null,
   "metadata": {},
   "outputs": [],
   "source": [
    "my_list()"
   ]
  },
  {
   "cell_type": "code",
   "execution_count": 39,
   "metadata": {},
   "outputs": [],
   "source": [
    "def my_list_v2():\n",
    "    print('Input three numbers: ')\n",
    "    print('Start #, End #,Increment #')\n",
    "    print('For example: 0,5,1')\n",
    "\n",
    "    ui=input('Waitin for input:')\n",
    "    ui_list=[int(i) for i in ui.split(',')]\n",
    "    ui_list[1]+=1\n",
    "\n",
    "    out_list=list(range(*ui_list))\n",
    "\n",
    "\n",
    "    return out_list"
   ]
  },
  {
   "cell_type": "code",
   "execution_count": null,
   "metadata": {},
   "outputs": [],
   "source": [
    "my_list_v2()"
   ]
  },
  {
   "cell_type": "code",
   "execution_count": 41,
   "metadata": {},
   "outputs": [],
   "source": [
    "# documentation\n",
    "def my_fn_add_10(num):\n",
    "    \"\"\"\n",
    "    Function description:\n",
    "    \n",
    "    \"\"\"\n",
    "    out = num+10\n",
    "    return out"
   ]
  },
  {
   "cell_type": "code",
   "execution_count": 47,
   "metadata": {},
   "outputs": [
    {
     "name": "stdout",
     "output_type": "stream",
     "text": [
      "Help on function my_fn_add_10 in module __main__:\n",
      "\n",
      "my_fn_add_10(num)\n",
      "    Function description:\n",
      "\n",
      "\n",
      "    Function description:\n",
      "    \n",
      "    \n"
     ]
    }
   ],
   "source": [
    "help(my_fn_add_10)\n",
    "my_fn_add_10.__doc__\n",
    "print(my_fn_add_10.__doc__)\n"
   ]
  },
  {
   "cell_type": "code",
   "execution_count": 50,
   "metadata": {},
   "outputs": [
    {
     "name": "stdout",
     "output_type": "stream",
     "text": [
      "{}\n"
     ]
    }
   ],
   "source": [
    "#annotation\n",
    "def my_fn(num):\n",
    "    out = num+10\n",
    "    return out\n",
    "\n",
    "\n",
    "print(my_fn.__annotations__)"
   ]
  },
  {
   "cell_type": "code",
   "execution_count": 53,
   "metadata": {},
   "outputs": [
    {
     "name": "stdout",
     "output_type": "stream",
     "text": [
      "{'num': <class 'int'>, 'return': <class 'int'>}\n"
     ]
    }
   ],
   "source": [
    "def my_fn(num:int)->int:\n",
    "    out = num+10\n",
    "    return out\n",
    "print(my_fn.__annotations__)"
   ]
  },
  {
   "cell_type": "code",
   "execution_count": 59,
   "metadata": {},
   "outputs": [
    {
     "data": {
      "text/plain": [
       "11"
      ]
     },
     "execution_count": 59,
     "metadata": {},
     "output_type": "execute_result"
    }
   ],
   "source": [
    "# lambda\n",
    "\n",
    "add_one = lambda x: x+1\n",
    "\n",
    "add_one(1)\n",
    "\n",
    "y=(lambda x: x+1)(10)\n",
    "y\n"
   ]
  },
  {
   "cell_type": "code",
   "execution_count": 102,
   "metadata": {},
   "outputs": [
    {
     "name": "stdout",
     "output_type": "stream",
     "text": [
      "(2, <function <lambda> at 0x000001F8E5253790>)\n",
      "(2, <function <lambda> at 0x000001F8E52539D0>)\n",
      "(2, <function <lambda> at 0x000001F8E4C3BE50>)\n"
     ]
    }
   ],
   "source": [
    "def my_fn_add_10(x):\n",
    "    return x+10\n",
    "\n",
    "high_ord_fn = lambda x: x+my_fn_add_10(x)\n",
    "high_ord_fn(2)\n",
    "\n",
    "high_ord_fn =lambda x, func: x+ func(x)\n",
    "a=high_ord_fn = (2, lambda x: x+1)\n",
    "b=high_ord_fn = (2, lambda x: x-1)\n",
    "c=high_ord_fn = (2, lambda x: x*1)\n",
    "print(a)\n",
    "print(b)\n",
    "print(c)"
   ]
  },
  {
   "cell_type": "code",
   "execution_count": 81,
   "metadata": {},
   "outputs": [
    {
     "data": {
      "text/plain": [
       "array([ 2,  4,  6,  8, 10])"
      ]
     },
     "execution_count": 81,
     "metadata": {},
     "output_type": "execute_result"
    }
   ],
   "source": [
    "#map()\n",
    "import numpy as np\n",
    "a = np.array([1,2,3,4,5])\n",
    "\n",
    "a*2"
   ]
  },
  {
   "cell_type": "code",
   "execution_count": 90,
   "metadata": {},
   "outputs": [
    {
     "name": "stdout",
     "output_type": "stream",
     "text": [
      "<class 'list'>\n",
      "[11, 12, 13, 14, 15]\n",
      "[2, 4, 6, 8, 10]\n"
     ]
    }
   ],
   "source": [
    "a=[1,2,3,4,5]\n",
    "\n",
    "b= list(map(my_fn_add_10,a))\n",
    "print(type(b))\n",
    "print(b)\n",
    "b=list(map(lambda x: x*2,a))\n",
    "print(b)"
   ]
  },
  {
   "cell_type": "code",
   "execution_count": 103,
   "metadata": {},
   "outputs": [
    {
     "data": {
      "text/plain": [
       "[6, 6, 5]"
      ]
     },
     "execution_count": 103,
     "metadata": {},
     "output_type": "execute_result"
    }
   ],
   "source": [
    "# map example 2\n",
    "vip = 'euler'\n",
    "vip.upper()\n",
    "\n",
    "vip_list = ['kepler','newton','euelr']\n",
    "vip_list = list(map(lambda x: x.upper(),vip_list))\n",
    "\n",
    "len(vip_list[0])\n",
    "len(vip_list[2])\n",
    "\n",
    "cha_size=list(map(lambda x: len(x),vip_list))\n",
    "cha_size"
   ]
  },
  {
   "cell_type": "code",
   "execution_count": 110,
   "metadata": {},
   "outputs": [
    {
     "name": "stdout",
     "output_type": "stream",
     "text": [
      "[2, 4]\n",
      "[1, 3, 5]\n"
     ]
    }
   ],
   "source": [
    "#filter\n",
    "\n",
    "list(filter(lambda x: 'P' in x,vip_list))\n",
    "\n",
    "num_list=[1,2,3,4,5]\n",
    "a=list(filter(lambda x: x%2==0,num_list))\n",
    "print(a)\n",
    "num_list=[1,2,3,4,5]\n",
    "b=list(filter(lambda x: x%2!=0,num_list))\n",
    "print(b)\n",
    "\n"
   ]
  },
  {
   "cell_type": "code",
   "execution_count": 112,
   "metadata": {},
   "outputs": [
    {
     "data": {
      "text/plain": [
       "60"
      ]
     },
     "execution_count": 112,
     "metadata": {},
     "output_type": "execute_result"
    }
   ],
   "source": [
    "#reduce\n",
    "\n",
    "from functools import reduce\n",
    "\n",
    "num_list = [10,20,30]\n",
    "\n",
    "def my_fn_add(x,y):\n",
    "    return x+y\n",
    "\n",
    "reduce(my_fn_add,num_list)"
   ]
  },
  {
   "cell_type": "code",
   "execution_count": 114,
   "metadata": {},
   "outputs": [
    {
     "data": {
      "text/plain": [
       "60"
      ]
     },
     "execution_count": 114,
     "metadata": {},
     "output_type": "execute_result"
    }
   ],
   "source": [
    "reduce(lambda a,b:a+b,num_list)"
   ]
  },
  {
   "cell_type": "code",
   "execution_count": 116,
   "metadata": {},
   "outputs": [
    {
     "data": {
      "text/plain": [
       "'python'"
      ]
     },
     "execution_count": 116,
     "metadata": {},
     "output_type": "execute_result"
    }
   ],
   "source": [
    "str_list = ['p','y','t','h','o','n']\n",
    "reduce(lambda x,y: x+y, str_list)"
   ]
  },
  {
   "cell_type": "code",
   "execution_count": 121,
   "metadata": {},
   "outputs": [
    {
     "name": "stdout",
     "output_type": "stream",
     "text": [
      "['P', 'y', 't', 'h', 'o', 'n']\n",
      "['P', 'y', 't', 'h', 'o', 'n']\n",
      "['P', 'y', 't', 'h', 'o', 'n']\n"
     ]
    }
   ],
   "source": [
    "#list comprehension vs lambda function\n",
    "\n",
    "letter_list = []\n",
    "for letter in 'Python':\n",
    "    letter_list.append(letter)\n",
    "print(letter_list)\n",
    "\n",
    "letter_list_2 = [\n",
    "    letter for letter in 'Python'\n",
    "]\n",
    "print(letter_list_2)\n",
    "\n",
    "letter_list_3=list(map(lambda x: x, 'Python'))\n",
    "print(letter_list_3)"
   ]
  },
  {
   "cell_type": "code",
   "execution_count": 135,
   "metadata": {},
   "outputs": [],
   "source": [
    "# fibonacci sequence\n",
    "\n",
    "def my_fib_seq(n):\n",
    "    a,b=0,1\n",
    "    seq = [a,b]\n",
    "    for i in range(n-2):\n",
    "        a,b = b,a+b\n",
    "        seq.append(b)\n",
    "    return seq\n",
    "\n",
    "def my_powers(number):\n",
    "    return number,number**2,number**3\n",
    "\n",
    "def my_sum(num_list):\n",
    "    total = 0\n",
    "    for num in num_list:\n",
    "        total += num\n",
    "    return total\n",
    "\n",
    "def my_mean(num_list):\n",
    "    s= my_sum(num_list)\n",
    "    N=len(num_list)\n",
    "    return s/N"
   ]
  },
  {
   "cell_type": "code",
   "execution_count": 138,
   "metadata": {},
   "outputs": [
    {
     "name": "stdout",
     "output_type": "stream",
     "text": [
      "2\n",
      "4\n",
      "8\n",
      "6\n",
      "30\n",
      "9.0\n",
      "150.0\n"
     ]
    }
   ],
   "source": [
    "# my_fib_seq(1)\n",
    "# my_fib_seq(2)\n",
    "# my_fib_seq(3)\n",
    "# my_fib_seq(4)\n",
    "# my_fib_seq(5)\n",
    "# my_fib_seq(100)\n",
    "\n",
    "number,square,cube=my_powers(2)\n",
    "print(number)\n",
    "print(square)\n",
    "print(cube)\n",
    "*_, cube= my_powers(2) #언더스코어는 보통 쓰지않는 변수를 만들때 쓴다\n",
    "\n",
    "print(my_sum([1,2,3]))\n",
    "print(my_sum([10,20]))\n",
    "\n",
    "\n",
    "print(my_mean([8,10]))\n",
    "print(my_mean([100,200]))\n"
   ]
  },
  {
   "cell_type": "code",
   "execution_count": 144,
   "metadata": {},
   "outputs": [
    {
     "name": "stdout",
     "output_type": "stream",
     "text": [
      "[2, 4, 8]\n"
     ]
    },
    {
     "data": {
      "text/plain": [
       "[0, 1, 1, 2, 3]"
      ]
     },
     "execution_count": 144,
     "metadata": {},
     "output_type": "execute_result"
    }
   ],
   "source": [
    "# from MyMathLib import myoper as mo\n",
    "import MyMathLib.myoper as mo\n",
    "\n",
    "\n",
    "mo.my_sum([10,20,30])\n",
    "print(list(mo.my_powers(2)))\n",
    "\n",
    "# from MyMathLib import fibonacci as ms\n",
    "import MyMathLib.fibonacci as ms\n",
    "\n",
    "ms.my_fib_seq(5)"
   ]
  }
 ],
 "metadata": {
  "kernelspec": {
   "display_name": "Python 3.9.12 ('base')",
   "language": "python",
   "name": "python3"
  },
  "language_info": {
   "codemirror_mode": {
    "name": "ipython",
    "version": 3
   },
   "file_extension": ".py",
   "mimetype": "text/x-python",
   "name": "python",
   "nbconvert_exporter": "python",
   "pygments_lexer": "ipython3",
   "version": "3.9.12"
  },
  "orig_nbformat": 4,
  "vscode": {
   "interpreter": {
    "hash": "9e030b06df8535e05113b5fce651d4155290bdf1b2777b3d701a1501abf85227"
   }
  }
 },
 "nbformat": 4,
 "nbformat_minor": 2
}
