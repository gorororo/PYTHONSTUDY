{
 "cells": [
  {
   "cell_type": "code",
   "execution_count": 1,
   "metadata": {},
   "outputs": [],
   "source": [
    "import tkinter as tk"
   ]
  },
  {
   "cell_type": "code",
   "execution_count": 10,
   "metadata": {},
   "outputs": [],
   "source": [
    "# run main gui\n",
    "gui = tk.Tk()\n",
    "\n",
    "# create labels\n",
    "my_label_1 = tk.Label(gui,text='Hello, World!')\n",
    "my_label_2 = tk.Label(gui,text='Hello, Korea!')\n",
    "\n",
    "# place in gui\n",
    "# my_label_1.pack()\n",
    "# my_label_2.pack()\n",
    "my_label_1.grid(row=0,column=0)\n",
    "my_label_2.grid(row=1,column=0)\n",
    "\n",
    "# run mainloop\n",
    "gui.mainloop()"
   ]
  },
  {
   "cell_type": "code",
   "execution_count": 3,
   "metadata": {},
   "outputs": [
    {
     "data": {
      "text/plain": [
       "tkinter.Tk"
      ]
     },
     "execution_count": 3,
     "metadata": {},
     "output_type": "execute_result"
    }
   ],
   "source": [
    "type(gui)"
   ]
  },
  {
   "cell_type": "code",
   "execution_count": 4,
   "metadata": {},
   "outputs": [],
   "source": [
    "# run main gui\n",
    "gui = tk.Tk()\n",
    "\n",
    "# create labels\n",
    "my_label_1 = tk.Label(gui,text='Hello, World!')\n",
    "my_label_2 = tk.Label(gui,text='Hello, Korea!')\n",
    "\n",
    "# place in gui\n",
    "# my_label_1.pack()\n",
    "# my_label_2.pack()\n",
    "my_label_1.grid(row=0,column=0)\n",
    "my_label_2.grid(row=1,column=0)\n",
    "\n",
    "# run mainloop\n",
    "gui.mainloop()"
   ]
  },
  {
   "cell_type": "code",
   "execution_count": null,
   "metadata": {},
   "outputs": [],
   "source": []
  }
 ],
 "metadata": {
  "kernelspec": {
   "display_name": "Python 3.9.12 ('base')",
   "language": "python",
   "name": "python3"
  },
  "language_info": {
   "codemirror_mode": {
    "name": "ipython",
    "version": 3
   },
   "file_extension": ".py",
   "mimetype": "text/x-python",
   "name": "python",
   "nbconvert_exporter": "python",
   "pygments_lexer": "ipython3",
   "version": "3.9.12"
  },
  "orig_nbformat": 4,
  "vscode": {
   "interpreter": {
    "hash": "0f31028d912fd1602e717027e98273f61b108d2de5e1129b3e4168340cb85f7d"
   }
  }
 },
 "nbformat": 4,
 "nbformat_minor": 2
}
