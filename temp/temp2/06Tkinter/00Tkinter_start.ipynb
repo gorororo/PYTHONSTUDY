{
 "cells": [
  {
   "cell_type": "code",
   "execution_count": 5,
   "metadata": {},
   "outputs": [],
   "source": [
    "import tkinter as tk"
   ]
  },
  {
   "cell_type": "code",
   "execution_count": 4,
   "metadata": {},
   "outputs": [],
   "source": [
    "# run main gui\n",
    "gui = tk.Tk()\n",
    "\n",
    "# create labels\n",
    "my_label_1 = tk.Label(gui,text='Hello, World!')\n",
    "my_label_2 = tk.Label(gui,text='Hello, Korea!')\n",
    "\n",
    "# place in gui\n",
    "# my_label_1.pack()\n",
    "# my_label_2.pack()\n",
    "my_label_1.grid(row=0,column=0)\n",
    "my_label_2.grid(row=1,column=0)\n",
    "\n",
    "# run mainloop\n",
    "gui.mainloop()"
   ]
  },
  {
   "cell_type": "code",
   "execution_count": 3,
   "metadata": {},
   "outputs": [
    {
     "data": {
      "text/plain": [
       "tkinter.Tk"
      ]
     },
     "execution_count": 3,
     "metadata": {},
     "output_type": "execute_result"
    }
   ],
   "source": [
    "type(gui)"
   ]
  },
  {
   "cell_type": "code",
   "execution_count": 3,
   "metadata": {},
   "outputs": [],
   "source": [
    "# run main gui\n",
    "gui = tk.Tk()\n",
    "\n",
    "# create labels\n",
    "my_label_1 = tk.Label(gui,text='Hello, World!')\n",
    "my_label_2 = tk.Label(gui,text='Hello, Korea!')\n",
    "\n",
    "# place in gui\n",
    "# my_label_1.pack()\n",
    "# my_label_2.pack()\n",
    "my_label_1.grid(row=0,column=0)\n",
    "my_label_2.grid(row=1,column=0)\n",
    "\n",
    "# run mainloop\n",
    "gui.mainloop()"
   ]
  },
  {
   "cell_type": "code",
   "execution_count": 18,
   "metadata": {},
   "outputs": [],
   "source": [
    "# run main gui\n",
    "gui = tk.Tk()\n",
    "\n",
    "\n",
    "# define funtion \n",
    "\n",
    "def my_click():\n",
    "    my_label=tk.Label(\n",
    "        gui,\n",
    "        text='Button Clicked!')\n",
    "    my_label.pack()\n",
    "\n",
    "\n",
    "# create button\n",
    "my_button=tk.Button(\n",
    "    gui,\n",
    "    text='Click!',\n",
    "    # state=tk.DISABLED,\n",
    "    padx=50,\n",
    "    pady=10,\n",
    "    command=my_click\n",
    ")\n",
    "\n",
    "# place in gui\n",
    "my_button.pack()\n",
    "\n",
    "\n",
    "# run mainloop\n",
    "gui.mainloop()"
   ]
  },
  {
   "cell_type": "code",
   "execution_count": 25,
   "metadata": {},
   "outputs": [],
   "source": [
    "# run main gui\n",
    "gui = tk.Tk()\n",
    "\n",
    "\n",
    "# define funtion \n",
    "\n",
    "def my_click():\n",
    "    user_msg = 'You typed: '+my_entry.get()\n",
    "    my_label=tk.Label(\n",
    "        gui,\n",
    "        text=user_msg\n",
    "        )\n",
    "    my_label.pack()\n",
    "\n",
    "\n",
    "# create entry\n",
    "my_entry=tk.Entry(gui,width=50)\n",
    "my_entry.pack()\n",
    "my_entry.insert(0,'Enter values')\n",
    "\n",
    "# create button\n",
    "my_button=tk.Button(\n",
    "    gui,\n",
    "    text='Click!',\n",
    "    # state=tk.DISABLED,\n",
    "    padx=50,\n",
    "    pady=10,\n",
    "    command=my_click\n",
    ")\n",
    "\n",
    "# place in gui\n",
    "my_button.pack()\n",
    "\n",
    "# run mainloop\n",
    "gui.mainloop()"
   ]
  }
 ],
 "metadata": {
  "kernelspec": {
   "display_name": "Python 3.9.12 ('base')",
   "language": "python",
   "name": "python3"
  },
  "language_info": {
   "codemirror_mode": {
    "name": "ipython",
    "version": 3
   },
   "file_extension": ".py",
   "mimetype": "text/x-python",
   "name": "python",
   "nbconvert_exporter": "python",
   "pygments_lexer": "ipython3",
   "version": "3.9.12"
  },
  "orig_nbformat": 4,
  "vscode": {
   "interpreter": {
    "hash": "9e030b06df8535e05113b5fce651d4155290bdf1b2777b3d701a1501abf85227"
   }
  }
 },
 "nbformat": 4,
 "nbformat_minor": 2
}
