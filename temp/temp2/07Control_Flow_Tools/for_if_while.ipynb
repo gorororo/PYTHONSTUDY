{
 "cells": [
  {
   "cell_type": "code",
   "execution_count": 2,
   "metadata": {},
   "outputs": [],
   "source": [
    "# for X in ITERABLE: STATEMENT\n",
    "import numpy as np"
   ]
  },
  {
   "cell_type": "code",
   "execution_count": 3,
   "metadata": {},
   "outputs": [
    {
     "name": "stdout",
     "output_type": "stream",
     "text": [
      "1\n",
      "2\n",
      "3\n"
     ]
    }
   ],
   "source": [
    "x_list = [1,2,3]\n",
    "x_tuple = (1,2,3)\n",
    "x_set = {1,2,3}\n",
    "x_dict = {'a':1,'b':2,'c':3}\n",
    "x_array = np.array([1,2,3])\n",
    "x_range = range(1,4,1)\n",
    "\n",
    "for num in x_list:\n",
    "    print(num)"
   ]
  },
  {
   "cell_type": "code",
   "execution_count": 4,
   "metadata": {},
   "outputs": [
    {
     "name": "stdout",
     "output_type": "stream",
     "text": [
      "1\n",
      "2\n",
      "3\n"
     ]
    }
   ],
   "source": [
    "for num in x_tuple:\n",
    "    print(num)"
   ]
  },
  {
   "cell_type": "code",
   "execution_count": 5,
   "metadata": {},
   "outputs": [
    {
     "name": "stdout",
     "output_type": "stream",
     "text": [
      "1\n",
      "2\n",
      "3\n"
     ]
    }
   ],
   "source": [
    "for num in x_set:\n",
    "    print(num)"
   ]
  },
  {
   "cell_type": "code",
   "execution_count": 6,
   "metadata": {},
   "outputs": [
    {
     "name": "stdout",
     "output_type": "stream",
     "text": [
      "a\n",
      "b\n",
      "c\n"
     ]
    }
   ],
   "source": [
    "for num in x_dict:\n",
    "    print(num)"
   ]
  },
  {
   "cell_type": "code",
   "execution_count": 7,
   "metadata": {},
   "outputs": [
    {
     "name": "stdout",
     "output_type": "stream",
     "text": [
      "1\n",
      "2\n",
      "3\n"
     ]
    }
   ],
   "source": [
    "for num in x_array:\n",
    "    print(num)"
   ]
  },
  {
   "cell_type": "code",
   "execution_count": 8,
   "metadata": {},
   "outputs": [
    {
     "name": "stdout",
     "output_type": "stream",
     "text": [
      "1\n",
      "2\n",
      "3\n"
     ]
    }
   ],
   "source": [
    "for num in x_range:\n",
    "    print(num)"
   ]
  },
  {
   "cell_type": "code",
   "execution_count": 9,
   "metadata": {},
   "outputs": [],
   "source": [
    "# 컨테이너를 만들고 값을 하나하나 받아오는걸iterable"
   ]
  },
  {
   "cell_type": "code",
   "execution_count": 10,
   "metadata": {},
   "outputs": [
    {
     "name": "stdout",
     "output_type": "stream",
     "text": [
      "1\n",
      "2\n",
      "3\n"
     ]
    }
   ],
   "source": [
    "i = 1\n",
    "print(i)\n",
    "i = 2\n",
    "print(i)\n",
    "i = 3 \n",
    "print(i)"
   ]
  },
  {
   "cell_type": "code",
   "execution_count": 15,
   "metadata": {},
   "outputs": [
    {
     "name": "stdout",
     "output_type": "stream",
     "text": [
      "i=1\n",
      "i=2\n",
      "i=3\n",
      "i=4\n",
      "i=5\n"
     ]
    }
   ],
   "source": [
    "import time\n",
    "for  i  in [1,2,3,4,5]:\n",
    "    print('i='+str(i))\n",
    "    time.sleep(1)"
   ]
  },
  {
   "cell_type": "code",
   "execution_count": 14,
   "metadata": {},
   "outputs": [
    {
     "data": {
      "text/plain": [
       "5"
      ]
     },
     "execution_count": 14,
     "metadata": {},
     "output_type": "execute_result"
    }
   ],
   "source": [
    "i"
   ]
  },
  {
   "cell_type": "code",
   "execution_count": null,
   "metadata": {},
   "outputs": [],
   "source": [
    "for  i  in range(1,101,1):\n",
    "    print('i='+str(i))\n",
    "    time.sleep(0.1)"
   ]
  },
  {
   "cell_type": "code",
   "execution_count": 18,
   "metadata": {},
   "outputs": [
    {
     "name": "stdout",
     "output_type": "stream",
     "text": [
      "i=1.0\ti=2.0\ti=3.0\ti=4.0\ti=5.0\ti=6.0\ti=7.0\ti=8.0\ti=9.0\ti=10.0\ti=11.0\ti=12.0\ti=13.0\ti=14.0\ti=15.0\ti=16.0\ti=17.0\ti=18.0\ti=19.0\ti=20.0\ti=21.0\ti=22.0\ti=23.0\ti=24.0\ti=25.0\ti=26.0\ti=27.0\ti=28.0\ti=29.0\ti=30.0\ti=31.0\ti=32.0\ti=33.0\ti=34.0\ti=35.0\ti=36.0\ti=37.0\ti=38.0\ti=39.0\ti=40.0\ti=41.0\ti=42.0\ti=43.0\ti=44.0\ti=45.0\ti=46.0\ti=47.0\ti=48.0\ti=49.0\ti=50.0\ti=51.0\ti=52.0\ti=53.0\ti=54.0\ti=55.0\ti=56.0\ti=57.0\ti=58.0\ti=59.0\ti=60.0\ti=61.0\ti=62.0\ti=63.0\ti=64.0\ti=65.0\ti=66.0\ti=67.0\ti=68.0\ti=69.0\ti=70.0\ti=71.0\ti=72.0\ti=73.0\ti=74.0\ti=75.0\ti=76.0\ti=77.0\ti=78.0\ti=79.0\ti=80.0\ti=81.0\ti=82.0\ti=83.0\ti=84.0\ti=85.0\ti=86.0\ti=87.0\ti=88.0\ti=89.0\ti=90.0\ti=91.0\ti=92.0\ti=93.0\ti=94.0\ti=95.0\ti=96.0\ti=97.0\ti=98.0\ti=99.0\ti=100.0\t"
     ]
    }
   ],
   "source": [
    "for  i  in np.linspace(1,100,100):\n",
    "    print('i='+str(i),end='\\t')\n",
    "    time.sleep(0.01)"
   ]
  },
  {
   "cell_type": "code",
   "execution_count": 20,
   "metadata": {},
   "outputs": [
    {
     "name": "stdout",
     "output_type": "stream",
     "text": [
      "i=1\ti=2\ti=3\ti=4\ti=5\t"
     ]
    }
   ],
   "source": [
    "for  i  in (1,2,3,4,5):\n",
    "    print('i='+str(i),end='\\t')\n",
    "    time.sleep(1)"
   ]
  },
  {
   "cell_type": "code",
   "execution_count": 21,
   "metadata": {},
   "outputs": [
    {
     "name": "stdout",
     "output_type": "stream",
     "text": [
      "i=1\n",
      "i=2\n",
      "i=3\n",
      "i=4\n",
      "i=5\n"
     ]
    }
   ],
   "source": [
    "# string\n",
    "for i in '12345':\n",
    "    print('i='+i)\n",
    "    time.sleep(1)"
   ]
  },
  {
   "cell_type": "code",
   "execution_count": 22,
   "metadata": {},
   "outputs": [
    {
     "name": "stdout",
     "output_type": "stream",
     "text": [
      "i=a\n",
      "i=b\n",
      "i=c\n",
      "i=d\n",
      "i=e\n"
     ]
    }
   ],
   "source": [
    "for i in 'abcde':\n",
    "    print('i='+i)\n",
    "    time.sleep(1)"
   ]
  },
  {
   "cell_type": "code",
   "execution_count": 23,
   "metadata": {},
   "outputs": [
    {
     "name": "stdout",
     "output_type": "stream",
     "text": [
      "i=P\n",
      "i=y\n",
      "i=t\n",
      "i=h\n",
      "i=o\n",
      "i=n\n"
     ]
    }
   ],
   "source": [
    "for i in 'Python':\n",
    "    print('i='+i)\n",
    "    time.sleep(1)"
   ]
  },
  {
   "cell_type": "code",
   "execution_count": 25,
   "metadata": {},
   "outputs": [
    {
     "name": "stdout",
     "output_type": "stream",
     "text": [
      "i=1\ti=2\ti=3\ti=4\ti=5\t"
     ]
    }
   ],
   "source": [
    "for i in {1,2,3,4,5}:\n",
    "    print('i='+str(i),end='\\t')\n",
    "    time.sleep(1)"
   ]
  },
  {
   "cell_type": "code",
   "execution_count": 33,
   "metadata": {},
   "outputs": [
    {
     "name": "stdout",
     "output_type": "stream",
     "text": [
      "i=20\ti=22\ti=25\t"
     ]
    }
   ],
   "source": [
    "# dictionary\n",
    "D = {'P1':20,'P2':22,'P3':25}\n",
    "for i  in D.values(): #.keys .value . items\n",
    "    print('i='+str(i),end=\"\\t\")\n",
    "    time.sleep(1)"
   ]
  },
  {
   "cell_type": "code",
   "execution_count": 27,
   "metadata": {},
   "outputs": [
    {
     "data": {
      "text/plain": [
       "dict_items([('P1', 20), ('P2', 22), ('P3', 25)])"
      ]
     },
     "execution_count": 27,
     "metadata": {},
     "output_type": "execute_result"
    }
   ],
   "source": [
    "D.items()"
   ]
  },
  {
   "cell_type": "code",
   "execution_count": 28,
   "metadata": {},
   "outputs": [
    {
     "data": {
      "text/plain": [
       "dict_keys(['P1', 'P2', 'P3'])"
      ]
     },
     "execution_count": 28,
     "metadata": {},
     "output_type": "execute_result"
    }
   ],
   "source": [
    "D.keys()"
   ]
  },
  {
   "cell_type": "code",
   "execution_count": 29,
   "metadata": {},
   "outputs": [
    {
     "data": {
      "text/plain": [
       "dict_values([20, 22, 25])"
      ]
     },
     "execution_count": 29,
     "metadata": {},
     "output_type": "execute_result"
    }
   ],
   "source": [
    "D.values()"
   ]
  },
  {
   "cell_type": "code",
   "execution_count": 34,
   "metadata": {},
   "outputs": [
    {
     "name": "stdout",
     "output_type": "stream",
     "text": [
      "i=1\ti=2\ti=3\t"
     ]
    }
   ],
   "source": [
    "# array\n",
    "for i in  np.array([1,2,3]):\n",
    "    print('i='+str(i),end=\"\\t\")\n",
    "    time.sleep(1)"
   ]
  },
  {
   "cell_type": "code",
   "execution_count": 36,
   "metadata": {},
   "outputs": [
    {
     "name": "stdout",
     "output_type": "stream",
     "text": [
      "i= 1\tj= 1\t\n",
      "i= 1\tj= 2\t\n",
      "i= 1\tj= 3\t\n",
      "i= 2\tj= 1\t\n",
      "i= 2\tj= 2\t\n",
      "i= 2\tj= 3\t\n",
      "i= 3\tj= 1\t\n",
      "i= 3\tj= 2\t\n",
      "i= 3\tj= 3\t\n"
     ]
    }
   ],
   "source": [
    "# multiple loop\n",
    "for i in [1,2,3]:\n",
    "    for j in [1,2,3]:\n",
    "        print('i=',str(i),end='\\t')\n",
    "        print('j=',str(j),end='\\t')\n",
    "        print('')\n",
    "        time.sleep(1)"
   ]
  },
  {
   "cell_type": "code",
   "execution_count": 44,
   "metadata": {},
   "outputs": [
    {
     "name": "stdout",
     "output_type": "stream",
     "text": [
      "2단 = 2*1=2 2단 = 2*2=4 2단 = 2*3=6 2단 = 2*4=8 2단 = 2*5=10 2단 = 2*6=12 2단 = 2*7=14 2단 = 2*8=16 2단 = 2*9=18 3단 = 3*1=3 3단 = 3*2=6 3단 = 3*3=9 3단 = 3*4=12 3단 = 3*5=15 3단 = 3*6=18 3단 = 3*7=21 3단 = 3*8=24 3단 = 3*9=27 4단 = 4*1=4 4단 = 4*2=8 4단 = 4*3=12 4단 = 4*4=16 4단 = 4*5=20 4단 = 4*6=24 4단 = 4*7=28 4단 = 4*8=32 4단 = 4*9=36 5단 = 5*1=5 5단 = 5*2=10 5단 = 5*3=15 5단 = 5*4=20 5단 = 5*5=25 5단 = 5*6=30 5단 = 5*7=35 5단 = 5*8=40 5단 = 5*9=45 6단 = 6*1=6 6단 = 6*2=12 6단 = 6*3=18 6단 = 6*4=24 6단 = 6*5=30 6단 = 6*6=36 6단 = 6*7=42 6단 = 6*8=48 6단 = 6*9=54 7단 = 7*1=7 7단 = 7*2=14 7단 = 7*3=21 7단 = 7*4=28 7단 = 7*5=35 7단 = 7*6=42 7단 = 7*7=49 7단 = 7*8=56 7단 = 7*9=63 8단 = 8*1=8 8단 = 8*2=16 8단 = 8*3=24 8단 = 8*4=32 8단 = 8*5=40 8단 = 8*6=48 8단 = 8*7=56 8단 = 8*8=64 8단 = 8*9=72 9단 = 9*1=9 9단 = 9*2=18 9단 = 9*3=27 9단 = 9*4=36 9단 = 9*5=45 9단 = 9*6=54 9단 = 9*7=63 9단 = 9*8=72 9단 = 9*9=81 "
     ]
    }
   ],
   "source": [
    "for i in range(2,10,1):\n",
    "    for j in range(1,10,1):\n",
    "        print('{}단 = {}*{}={}'.format(i,i,j,i*j),end=' ')\n",
    "\n",
    "        time.sleep(0.1)"
   ]
  },
  {
   "cell_type": "code",
   "execution_count": 48,
   "metadata": {},
   "outputs": [
    {
     "data": {
      "text/plain": [
       "1"
      ]
     },
     "execution_count": 48,
     "metadata": {},
     "output_type": "execute_result"
    }
   ],
   "source": [
    "# iterate()\n",
    "x_list = [1,2,3]\n",
    "\n",
    "x_iter = iter(x_list)\n",
    "# next(x_iter)"
   ]
  },
  {
   "cell_type": "code",
   "execution_count": null,
   "metadata": {},
   "outputs": [],
   "source": []
  }
 ],
 "metadata": {
  "kernelspec": {
   "display_name": "Python 3.9.12 ('base')",
   "language": "python",
   "name": "python3"
  },
  "language_info": {
   "codemirror_mode": {
    "name": "ipython",
    "version": 3
   },
   "file_extension": ".py",
   "mimetype": "text/x-python",
   "name": "python",
   "nbconvert_exporter": "python",
   "pygments_lexer": "ipython3",
   "version": "3.9.12"
  },
  "orig_nbformat": 4,
  "vscode": {
   "interpreter": {
    "hash": "9e030b06df8535e05113b5fce651d4155290bdf1b2777b3d701a1501abf85227"
   }
  }
 },
 "nbformat": 4,
 "nbformat_minor": 2
}
