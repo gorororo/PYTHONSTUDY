{
 "cells": [
  {
   "cell_type": "code",
   "execution_count": 2,
   "metadata": {},
   "outputs": [
    {
     "name": "stdout",
     "output_type": "stream",
     "text": [
      "hello world\n"
     ]
    }
   ],
   "source": [
    "if True:\n",
    "    print('hello world')"
   ]
  },
  {
   "cell_type": "code",
   "execution_count": 4,
   "metadata": {},
   "outputs": [],
   "source": [
    "if False:\n",
    "    print('hello world')"
   ]
  },
  {
   "cell_type": "code",
   "execution_count": 9,
   "metadata": {},
   "outputs": [
    {
     "name": "stdout",
     "output_type": "stream",
     "text": [
      "Result is 6\n"
     ]
    }
   ],
   "source": [
    "# read x\n",
    "x= input('Type any number: ')\n",
    "y = int(x)+1\n",
    "\n",
    "print('Result is {}'.format(y))"
   ]
  },
  {
   "cell_type": "code",
   "execution_count": 16,
   "metadata": {},
   "outputs": [
    {
     "name": "stdout",
     "output_type": "stream",
     "text": [
      "Result is 3\n"
     ]
    }
   ],
   "source": [
    "x= input('Type any number: ')\n",
    "while x.isdigit() != True :\n",
    "    x = input('Try again: ')\n",
    "\n",
    "    # add x and 1\n",
    "y = int(x)+1\n",
    "\n",
    "print('Result is {}'.format(y))"
   ]
  },
  {
   "cell_type": "code",
   "execution_count": 21,
   "metadata": {},
   "outputs": [
    {
     "name": "stdout",
     "output_type": "stream",
     "text": [
      "BeLow age15,no permit/license allowed\n"
     ]
    }
   ],
   "source": [
    "# if-elif-else\n",
    "x= int(input('what is your age?: '))\n",
    "if x >= 18:\n",
    "    print('Yout can take a license test')\n",
    "elif x >= 15 and x <18:\n",
    "    print('You can get a permit')\n",
    "else:\n",
    "    print('BeLow age15,' +\n",
    "        'no permit/license allowed')"
   ]
  },
  {
   "cell_type": "code",
   "execution_count": 51,
   "metadata": {},
   "outputs": [
    {
     "name": "stdout",
     "output_type": "stream",
     "text": [
      "Welcome, mr.Kepler\n",
      "Please, come in\n"
     ]
    }
   ],
   "source": [
    "# if-else\n",
    "vip_list = ['Kepler','Newton','Euelr']\n",
    "name_check = input('Provide name: ')\n",
    "if name_check.title() in vip_list: #title()함수를 사용해 입력값이 소문자면 첫글자를 대문자로 인식하게하고\n",
    "    print('Welcome, mr.'+name_check.title()) #출력할때도 마찬가지로 바꿔준다\n",
    "    print('Please, come in')\n",
    "else :\n",
    "    print('Not on the list')\n",
    "    print('Wait here')"
   ]
  },
  {
   "cell_type": "code",
   "execution_count": 52,
   "metadata": {},
   "outputs": [
    {
     "name": "stdout",
     "output_type": "stream",
     "text": [
      "Kepler\n",
      "Remeaining guest #: 2\n",
      "Newton\n",
      "Remeaining guest #: 1\n",
      "Euelr\n",
      "Remeaining guest #: 0\n",
      "[]\n"
     ]
    }
   ],
   "source": [
    "# while CONDITION\n",
    "import time\n",
    "while vip_list:\n",
    "    print(vip_list.pop(0))\n",
    "    print('Remeaining guest #: {}'.format(len(vip_list)))"
   ]
  },
  {
   "cell_type": "code",
   "execution_count": null,
   "metadata": {},
   "outputs": [],
   "source": [
    "# balance example\n",
    "balance = 10000\n",
    "interset = 0.05\n",
    "yr = 0\n",
    "\n",
    "while balance < 20000:\n",
    "    balance = balance + balance*interset\n",
    "    yr += 1\n",
    "    print('# of Year = {}'.format(yr))\n",
    "    print('Current balance = {}'.format(balance))\n",
    "    print('')\n",
    "    time.sleep(0.5)"
   ]
  },
  {
   "cell_type": "code",
   "execution_count": 55,
   "metadata": {},
   "outputs": [
    {
     "name": "stdout",
     "output_type": "stream",
     "text": [
      "0\n",
      "1\n",
      "2\n",
      "3\n"
     ]
    }
   ],
   "source": [
    "# break\n",
    "\n",
    "for i in range(5):\n",
    "    print(i)\n",
    "    if i==3:\n",
    "        break"
   ]
  },
  {
   "cell_type": "code",
   "execution_count": null,
   "metadata": {},
   "outputs": [],
   "source": [
    "balance = 10000\n",
    "interset = 0.05\n",
    "yr = 0\n",
    "\n",
    "for i in range(100000):\n",
    "    balance = balance + balance*interset\n",
    "    yr += 1\n",
    "\n",
    "    print('# of Year = {}'.format(yr))\n",
    "    print('Current balance = {}'.format(balance))\n",
    "    print('')\n",
    "    if balance > 20000:\n",
    "        break\n",
    "    time.sleep(0.5)"
   ]
  },
  {
   "cell_type": "code",
   "execution_count": 57,
   "metadata": {},
   "outputs": [
    {
     "name": "stdout",
     "output_type": "stream",
     "text": [
      "0\n",
      "1\n",
      "3\n",
      "4\n"
     ]
    }
   ],
   "source": [
    "# continue\n",
    "for i in range(5):\n",
    "    if i==2:\n",
    "        continue\n",
    "    print(i)"
   ]
  },
  {
   "cell_type": "code",
   "execution_count": 59,
   "metadata": {},
   "outputs": [
    {
     "name": "stdout",
     "output_type": "stream",
     "text": [
      "T =18\n",
      "T =19\n",
      "T =20\n",
      "T =20\n",
      "T =19\n"
     ]
    }
   ],
   "source": [
    "# continue example\n",
    "temp = [18,19,20,-10,20,19]\n",
    "for t in temp:\n",
    "    if t < 0:\n",
    "        continue\n",
    "    print('T ={}'.format(t))\n",
    "    time.sleep"
   ]
  },
  {
   "cell_type": "code",
   "execution_count": 65,
   "metadata": {},
   "outputs": [],
   "source": [
    "# pass\n",
    "\n",
    "for x in range(5):\n",
    "    pass\n",
    "\n",
    "x = 1\n",
    "\n",
    "if True:\n",
    "    pass\n",
    "\n",
    "x = 1\n",
    "\n",
    "def my_fun():\n",
    "    pass"
   ]
  },
  {
   "cell_type": "code",
   "execution_count": 70,
   "metadata": {},
   "outputs": [
    {
     "name": "stdout",
     "output_type": "stream",
     "text": [
      "Age = 20\n",
      "Numbers only!!!\n",
      "Numbers only!!!\n",
      "Numbers only!!!\n",
      "Numbers only!!!\n",
      "Numbers only!!!\n"
     ]
    }
   ],
   "source": [
    "# try and catch\n",
    "\n",
    "age = int(input('Please, enter age: '))\n",
    "print('Age = {}'.format(age))"
   ]
  },
  {
   "cell_type": "code",
   "execution_count": 81,
   "metadata": {},
   "outputs": [
    {
     "name": "stdout",
     "output_type": "stream",
     "text": [
      "Numbers only!!!\n",
      "Numbers only!!!\n",
      "Numbers only!!!\n",
      "Numbers only!!!\n",
      "Numbers only!!!\n",
      "Age = 3123\n"
     ]
    }
   ],
   "source": [
    "while True:\n",
    "    try:\n",
    "        age = int(input('Please, enter age: '))\n",
    "        print('Age = {}'.format(age))\n",
    "        break\n",
    "    except ValueError:\n",
    "        print('Numbers only!!!')\n",
    "\n",
    "    except:\n",
    "        print('Exception error occured')"
   ]
  },
  {
   "cell_type": "code",
   "execution_count": 82,
   "metadata": {},
   "outputs": [],
   "source": [
    "# find max\n",
    "\n",
    "import numpy as np\n"
   ]
  },
  {
   "cell_type": "code",
   "execution_count": 84,
   "metadata": {},
   "outputs": [
    {
     "data": {
      "text/plain": [
       "15"
      ]
     },
     "execution_count": 84,
     "metadata": {},
     "output_type": "execute_result"
    }
   ],
   "source": [
    "x= np.array([10,15,13,12,11])\n",
    "\n",
    "num_max = np.NINF\n",
    "for i in x :\n",
    "    num_curr = i\n",
    "    if num_max < num_curr:\n",
    "        num_max = num_curr\n",
    "num_max"
   ]
  },
  {
   "cell_type": "code",
   "execution_count": 85,
   "metadata": {},
   "outputs": [
    {
     "name": "stdout",
     "output_type": "stream",
     "text": [
      "1.0 is odd number\n",
      "2.0 is even number\n",
      "3.0 is odd number\n",
      "4.0 is even number\n",
      "5.0 is odd number\n",
      "6.0 is even number\n",
      "7.0 is odd number\n",
      "8.0 is even number\n",
      "9.0 is odd number\n"
     ]
    }
   ],
   "source": [
    "# even and odd numbers\n",
    "x= np.array([1.,2.,3.,4.,5.,6.,7.,8.,9.])\n",
    "\n",
    "for i in x :\n",
    "    if i%2==0:\n",
    "        print('{} is even number'.format(i))\n",
    "    else:\n",
    "        print('{} is odd number'.format(i))\n",
    "\n",
    "    time.sleep(0.5)"
   ]
  },
  {
   "cell_type": "code",
   "execution_count": 88,
   "metadata": {},
   "outputs": [
    {
     "name": "stdout",
     "output_type": "stream",
     "text": [
      "\n",
      "Try again!\n",
      "2 attemps left\n",
      "\n",
      "Try again!\n",
      "1 attemps left\n",
      "\n",
      "Try again!\n",
      "0 attemps left\n"
     ]
    }
   ],
   "source": [
    "# UI example\n",
    "\n",
    "DATABASE = {'u1':'aaa',\\\n",
    "            'u2':'bbb',\\\n",
    "            'u3':'ccc'}\n",
    "\n",
    "password_attempts = 3\n",
    "while password_attempts > 0:\n",
    "\n",
    "    user_id = input('ID : ')\n",
    "    user_ps = input('Password : ')\n",
    "    if user_id in DATABASE.keys() and\\\n",
    "        user_ps in DATABASE.values():\n",
    "        print('\\nLog in successful!')\n",
    "        break\n",
    "    else:\n",
    "        password_attempts -= 1\n",
    "        print('\\nTry again!')\n",
    "        print('{} attemps left'.format(password_attempts))"
   ]
  }
 ],
 "metadata": {
  "kernelspec": {
   "display_name": "Python 3.9.12 ('base')",
   "language": "python",
   "name": "python3"
  },
  "language_info": {
   "codemirror_mode": {
    "name": "ipython",
    "version": 3
   },
   "file_extension": ".py",
   "mimetype": "text/x-python",
   "name": "python",
   "nbconvert_exporter": "python",
   "pygments_lexer": "ipython3",
   "version": "3.9.12"
  },
  "orig_nbformat": 4,
  "vscode": {
   "interpreter": {
    "hash": "9e030b06df8535e05113b5fce651d4155290bdf1b2777b3d701a1501abf85227"
   }
  }
 },
 "nbformat": 4,
 "nbformat_minor": 2
}
