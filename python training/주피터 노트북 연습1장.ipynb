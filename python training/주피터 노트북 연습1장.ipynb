{
 "cells": [
  {
   "cell_type": "code",
   "execution_count": null,
   "id": "b687e7a7",
   "metadata": {},
   "outputs": [
    {
     "data": {
      "text/plain": [
       "20"
      ]
     },
     "execution_count": 1,
     "metadata": {},
     "output_type": "execute_result"
    }
   ],
   "source": [
    "10+10"
   ]
  },
  {
   "cell_type": "code",
   "execution_count": null,
   "id": "24fd1f47",
   "metadata": {},
   "outputs": [
    {
     "data": {
      "text/plain": [
       "21"
      ]
     },
     "execution_count": 2,
     "metadata": {},
     "output_type": "execute_result"
    }
   ],
   "source": [
    "1+20"
   ]
  },
  {
   "cell_type": "code",
   "execution_count": null,
   "id": "b78573bb",
   "metadata": {},
   "outputs": [
    {
     "name": "stdout",
     "output_type": "stream",
     "text": [
      "hello world\n"
     ]
    }
   ],
   "source": [
    "print('hello world')"
   ]
  },
  {
   "cell_type": "markdown",
   "id": "6cb12453",
   "metadata": {},
   "source": [
    "안녕하세요"
   ]
  },
  {
   "cell_type": "markdown",
   "id": "155a0c94",
   "metadata": {},
   "source": [
    "마크다운 연습"
   ]
  },
  {
   "cell_type": "markdown",
   "id": "9780cdf1",
   "metadata": {},
   "source": [
    "# 글자 사이즈는 \n",
    "## 쉬프트 숫자로 조절 할수 있다\n",
    "### 계속 추가될수록 줄어든다.\n",
    "#### 한계가 있나\n",
    "##### 요?\n",
    "\n",
    "- 마크다운 으로\n",
    "* 문서 작성을 해봅시다.\n",
    "\n",
    "<kbd>연습</kbd>\n",
    "\n",
    "> 니자신을 알라 인용구는 이렇게\n",
    "\n",
    "<hr>\n",
    "\n",
    "\"hr\"이게  줄"
   ]
  },
  {
   "cell_type": "code",
   "execution_count": null,
   "id": "2390ca07",
   "metadata": {},
   "outputs": [
    {
     "name": "stdout",
     "output_type": "stream",
     "text": [
      "hello.python\n"
     ]
    }
   ],
   "source": [
    "# , 로 구분 (hello.python)\n",
    "print('hello','python',sep='.')"
   ]
  },
  {
   "cell_type": "code",
   "execution_count": null,
   "id": "dc6643c5",
   "metadata": {},
   "outputs": [
    {
     "name": "stdout",
     "output_type": "stream",
     "text": [
      "안녕하세요 반갑습니다\n"
     ]
    }
   ],
   "source": [
    "print('안녕하세요',end=' ')\n",
    "print('반갑습니다')"
   ]
  },
  {
   "cell_type": "code",
   "execution_count": null,
   "id": "1c5cde0f",
   "metadata": {},
   "outputs": [
    {
     "name": "stdout",
     "output_type": "stream",
     "text": [
      "안녕하세요!!반갑습니다!!"
     ]
    }
   ],
   "source": [
    "print('안녕하세요',end='!!')\n",
    "print('반갑습니다',end='!!')\n"
   ]
  },
  {
   "cell_type": "code",
   "execution_count": null,
   "id": "d6a12d9b",
   "metadata": {},
   "outputs": [
    {
     "name": "stdout",
     "output_type": "stream",
     "text": [
      "100 + 50 = 150\n",
      "100 - 50 = 50\n",
      "100 * 50 = 5000\n",
      "100 / 50 = 2.0\n"
     ]
    }
   ],
   "source": [
    "a = 100\n",
    "b = 50\n",
    "\n",
    "print(a,'+',b,'=',a+b)\n",
    "print(a,'-',b,'=',a-b)\n",
    "print(a,'*',b,'=',a*b)\n",
    "print(a,'/',b,'=',a/b)"
   ]
  },
  {
   "cell_type": "code",
   "execution_count": null,
   "id": "a48bfcf3",
   "metadata": {},
   "outputs": [
    {
     "name": "stdout",
     "output_type": "stream",
     "text": [
      "자세히 보아야 예쁘다.\n",
      "오래 보아야 사랑스럽다.\n",
      "너도 그렇다.\n"
     ]
    }
   ],
   "source": [
    "print('자세히 보아야 예쁘다.')\n",
    "print('오래 보아야 사랑스럽다.')\n",
    "print('너도 그렇다.')"
   ]
  },
  {
   "cell_type": "markdown",
   "id": "b4481d9d",
   "metadata": {},
   "source": [
    "# input()\n",
    "\n",
    "- 사용자 입력값을 받을 수 있다. 입력 받는 값은 문자열(str)이다\n",
    "- input으로 입력받은 값은 무조건 str. 정수로 사용하고 싶다면 int()사용\n",
    "- int(input())\n"
   ]
  },
  {
   "cell_type": "code",
   "execution_count": 18,
   "id": "02233364",
   "metadata": {},
   "outputs": [],
   "source": [
    "# a = input()\n",
    "# print(a, type(a))"
   ]
  },
  {
   "cell_type": "markdown",
   "id": "3efe8416",
   "metadata": {},
   "source": [
    "## 5월 24일 파이썬 연습"
   ]
  },
  {
   "cell_type": "code",
   "execution_count": 8,
   "id": "ba556887",
   "metadata": {},
   "outputs": [
    {
     "name": "stdout",
     "output_type": "stream",
     "text": [
      "<class 'int'>\n",
      "<class 'float'>\n",
      "<class 'float'>\n"
     ]
    }
   ],
   "source": [
    "a=1 #정수\n",
    "\n",
    "print(type(a))\n",
    "\n",
    "b=1.123 #실수\n",
    "\n",
    "print(type(b))\n",
    "\n",
    "c=4.24e-10 #진수 잘안쓴다\n",
    "\n",
    "print(type(c))"
   ]
  },
  {
   "cell_type": "code",
   "execution_count": 17,
   "id": "0c99722d",
   "metadata": {},
   "outputs": [
    {
     "name": "stdout",
     "output_type": "stream",
     "text": [
      "7\n",
      "-1\n",
      "12\n",
      "0.75\n",
      "0\n",
      "81\n",
      "3\n"
     ]
    }
   ],
   "source": [
    "a = 3\n",
    "b = 4\n",
    "print(a+b)\n",
    "print(a-b)\n",
    "print(a*b)\n",
    "print(a/b)\n",
    "print(a//b) #나눈몫\n",
    "print(a**b) #제곱\n",
    "print(a%b) #나머지몫\n"
   ]
  },
  {
   "cell_type": "markdown",
   "id": "0a5ec67c",
   "metadata": {},
   "source": [
    "# 문자형 연습\n"
   ]
  },
  {
   "cell_type": "code",
   "execution_count": 21,
   "id": "09a62a23",
   "metadata": {},
   "outputs": [
    {
     "name": "stdout",
     "output_type": "stream",
     "text": [
      "Python's favorite food is peral\n",
      "Python's favorite \n",
      "food is peral\n"
     ]
    }
   ],
   "source": [
    "a = 'Python\\'s favorite food is peral' #\\'는 문자형 그대로 표현하고싶을때\n",
    "print(a)\n",
    "b = 'Python\\'s favorite \\nfood is peral' #\\n은 문자열 줄바꿈할떄\n",
    "print(b)\n",
    "c = 'Python\\'s favorite \\\\food is peral' #\\\\을 표현하고 싶을떄"
   ]
  },
  {
   "cell_type": "code",
   "execution_count": 27,
   "id": "86aba04d",
   "metadata": {},
   "outputs": [
    {
     "name": "stdout",
     "output_type": "stream",
     "text": [
      "n\n",
      "L\n",
      "Life i\n",
      "Lf st hr,yune yhn\n"
     ]
    }
   ],
   "source": [
    "a = 'Life is to short, you need python'\n",
    "print(a[-1]) #음수 인덱싱 끝에서부터 올라가며 주소가 매겨진다\n",
    "b = 'Life is to short, you need python'\n",
    "print(b[0]) # 양수 인덱싱 처음0부터 시작 숫자가 올라가며 주소가 매겨진다\n",
    "c = 'Life is to short, you need python'\n",
    "print(c[0:6:]) #슬라이싱 양수인덱스 처음부터 6번까지 만 표시하고 뒤는 짜른다 슬라이싱은 문자를 잘라서 보여주는걸 말함\n",
    "d = 'Life is to short, you need python'\n",
    "print(d[::2]) #3부분중 첫번쨰는 시작 위치를 지정 두번째 공간에 끊는 주소를 입력 마지막을 몇칸씩 이동할꺼냐 지정 기본은 1씩 간다.[이상:미만:간격]"
   ]
  },
  {
   "cell_type": "markdown",
   "id": "bd1bd857",
   "metadata": {},
   "source": [
    "# 포매팅"
   ]
  },
  {
   "cell_type": "code",
   "execution_count": 39,
   "id": "aad5b15a",
   "metadata": {},
   "outputs": [
    {
     "name": "stdout",
     "output_type": "stream",
     "text": [
      "I ate 10 apples. so I was sick for three days.\n",
      "포맷팅을 이해하기 하기위해 하는 파이썬타이핑\n",
      "나의 이름은 최광락 입니다\n"
     ]
    }
   ],
   "source": [
    "number =  10\n",
    "day = \"three\"\n",
    "a = \"I ate %d apples. so I was sick for %s days.\" % (number, day) # %d는 정수 %f 는 실수 %s 는 문자열\n",
    "print(a)\n",
    "\n",
    "b = \"포맷팅을 이해{mor} 하기위해 하는 {ph}타이핑\".format(mor=\"하기\",ph=\"파이썬\") #소가로{} 를 넣고 뒤포멧에 함수를 쓸수도있다\n",
    "print(b)\n",
    "\n",
    "name = \"최광락\" # 파이썬 최신버젼 부터 f 뒤에 바로 문자열을 쓸수있다 사용자 함수를 만들고 소가로안에 여러군데 넣을수 도 있다.\n",
    "d = f\"나의 이름은 {name} 입니다\"\n",
    "print(d)"
   ]
  },
  {
   "cell_type": "markdown",
   "id": "c6da57ae",
   "metadata": {},
   "source": [
    "# 정렬과 공백"
   ]
  },
  {
   "cell_type": "code",
   "execution_count": 45,
   "id": "ecf468b9",
   "metadata": {},
   "outputs": [
    {
     "name": "stdout",
     "output_type": "stream",
     "text": [
      "3.413\n",
      "        hi\n",
      "hi        \n"
     ]
    }
   ],
   "source": [
    "a = \"%0.3f\" % 3.413423123 #실수형 소수점 몇자리 까지 표현할지 써줄수 있다. 이건 자주쓴다. \n",
    "print(a)\n",
    "b = \"%10s\" % 'hi' # %다음 숫자를 넣은 만큼 앞에서공백을 준다. (%d는 정수 %f 는 실수 %s 는 문자열)\n",
    "print(b)\n",
    "c = \"%-10s\" % 'hi' # %다음 -숫자를 넣은 만큼 정렬 준다.\n",
    "print(c)"
   ]
  },
  {
   "cell_type": "markdown",
   "id": "1c66d947",
   "metadata": {},
   "source": [
    "# 문자열 자료형"
   ]
  },
  {
   "cell_type": "code",
   "execution_count": 14,
   "id": "5f1dc5c2",
   "metadata": {},
   "outputs": [
    {
     "name": "stdout",
     "output_type": "stream",
     "text": [
      "1\n",
      "0\n",
      "-1\n",
      "4\n",
      "a,b,c\n",
      "HI\n",
      "hi\n",
      "['A', 'B', 'C', 'D']\n",
      "HI\n",
      "your leg is to short\n",
      "['life', 'is', 'to', 'short']\n"
     ]
    }
   ],
   "source": [
    "a = '문자숫자세기'\n",
    "print(a.count('숫')) #문자열에 그 글자가 몇개나 있는지 찾는 함수\n",
    "print(a.find('문'))\n",
    "print(a.find('응')) #없으면 -1로 표현\n",
    "print(a.index('세'))\n",
    "\n",
    "b = \",\".join([\"a\",\"b\",\"c\"]) #문자열 삽입\n",
    "print(b)\n",
    "\n",
    "c = \"hi\" \n",
    "print(c.upper()) #문자열을 대문자로 바꿈\n",
    "\n",
    "d = \"hi\" \n",
    "print(d.lower()) #문자열을 소문자로 바꿈\n",
    "\n",
    "e = \"A:B:C:D\" \n",
    "print(e.split(\":\")) #(:)문자 기준으로 짤라준다\n",
    "\n",
    "f = \"         HI        \"\n",
    "print(f.strip()) #strip 은 공백을 없에준다\n",
    "\n",
    "g = \"life is to short\"\n",
    "print(g.replace(\"life\", \"your leg\")) #replace 는 앞에 글자를 뒤에 글자로 바꾼다\n",
    "\n",
    "h = \"life is to short\"\n",
    "print(h.split()) #()안에 기준으로 짤라준다\n",
    "\n"
   ]
  },
  {
   "cell_type": "markdown",
   "id": "37e0c7c1",
   "metadata": {},
   "source": [
    "# 리스트"
   ]
  },
  {
   "cell_type": "code",
   "execution_count": 51,
   "id": "9815856a",
   "metadata": {},
   "outputs": [
    {
     "name": "stdout",
     "output_type": "stream",
     "text": [
      "호랑이\n"
     ]
    }
   ],
   "source": [
    "a = [1,2,\"int\",\"최광락\",[\"호랑이\",\"만주\",\"금나라\"]]\n",
    "print(a[4][0])"
   ]
  },
  {
   "cell_type": "code",
   "execution_count": 53,
   "id": "66797d1d",
   "metadata": {},
   "outputs": [
    {
     "name": "stdout",
     "output_type": "stream",
     "text": [
      "[1, 2]\n",
      "[1, 2]\n",
      "[3, 4, 5, 6, 7, 8, 9, 10, 11, 12]\n",
      "[2]\n",
      "[1, 3, 5, 7, 9, 11]\n"
     ]
    }
   ],
   "source": [
    "a = [1,2,3,4,5,6,7,8,9,10,11,12]\n",
    "print (a[0:2])\n",
    "print (a[:2])\n",
    "print (a[2:])\n",
    "print (a[1:2])\n",
    "print (a[0::2])"
   ]
  },
  {
   "cell_type": "markdown",
   "id": "960e76c3",
   "metadata": {},
   "source": [
    "### 리스트 자료형"
   ]
  },
  {
   "cell_type": "code",
   "execution_count": 66,
   "id": "7fda6ff7",
   "metadata": {},
   "outputs": [
    {
     "name": "stdout",
     "output_type": "stream",
     "text": [
      "[1, 2, 3, 3, 4, 5]\n",
      "[1, 2, 3, 1, 2, 3, 1, 2, 3, 3, 4, 5, 3, 4, 5]\n",
      "['박아라', '안유정', '고유라']\n",
      "['이유리', '유지아', '안선영', '고유라']\n",
      "['고유라']\n"
     ]
    }
   ],
   "source": [
    "a = [1,2,3]\n",
    "b = [3,4,5] #리스트 끼리 합치기 가능\n",
    "print(a+b)\n",
    "\n",
    "c = [1,2,3]\n",
    "d = [3,4,5] #리스트 곱하여 여려번 출력 가능\n",
    "print(c*3+d*2)\n",
    "\n",
    "e = [\"이유리\",\"안유정\",\"고유라\"]\n",
    "e[0] = \"박아라\" #리스트 안에든 걸 바꿀때 사용한다\n",
    "print(e)\n",
    "\n",
    "f = [\"이유리\",\"안유정\",\"고유라\"]\n",
    "f[1:2] = \"유지아\",\"안선영\"  #인덱스로 여러개 동시에 나열해 바꿀수있다\n",
    "print(f)\n",
    "\n",
    "f = [\"이유리\",\"안유정\",\"고유라\"]\n",
    "f[0:2] = []  #리스트가 있을때 빈리스트를 교체하면 인덱스 값에 따라 뺄수있다\n",
    "print(f)"
   ]
  },
  {
   "cell_type": "code",
   "execution_count": 96,
   "id": "c8387144",
   "metadata": {},
   "outputs": [
    {
     "name": "stdout",
     "output_type": "stream",
     "text": [
      "['이유리', '안유정', '고유라', '유지아']\n",
      "['고유라', '안유정', '이유리']\n",
      "['고유라', '안유정', '이유리']\n",
      "['송지아', '이유리', '안유정', '고유라']\n",
      "['이유리', '안유정', '고유라', '고유라', '안선영', '송지아', '송지아']\n",
      "고유라\n",
      "['이유리', '안유정']\n",
      "1\n",
      "['이유리', '안유정', '고유라', '유리', '안산']\n"
     ]
    }
   ],
   "source": [
    "a = [\"이유리\",\"안유정\",\"고유라\"]\n",
    "a.append (\"유지아\")  #리스트의 마지막에 추가한다\n",
    "print(a)\n",
    "\n",
    "b =[\"이유리\",\"안유정\",\"고유라\"]\n",
    "b.sort ()  #숫자 문자를 가나다 123 abc 순으로 정렬한다\n",
    "print(b)\n",
    "\n",
    "c =[\"이유리\",\"안유정\",\"고유라\"]\n",
    "c.reverse ()  #리스트 순서를 뒤집는다\n",
    "print(c)\n",
    "\n",
    "d =[\"이유리\",\"안유정\",\"고유라\"]\n",
    "d.insert (0,\"송지아\")  #인덱스 뒤에 내용을쓰면 인덱스위치에 추가한다\n",
    "print(d)\n",
    "\n",
    "e =[\"이유리\",\"안유정\",\"고유라\",\"송지아\",\"고유라\",\"안선영\",\"송지아\",\"송지아\"]\n",
    "e.remove (\"송지아\")  #지우는 함수 첫번쨰 걸린것만 삭제 \n",
    "# for (if(e.remove \"송지아\" )) *나중에 질문할것\n",
    "print(e)\n",
    "\n",
    "f =[\"이유리\",\"안유정\",\"고유라\"]\n",
    "print (f.pop ())  #리스트 맨마지막껄 뺀다 리스트엔 0,1, 인덱스만 남아있다\n",
    "print(f)\n",
    "\n",
    "g =[\"이유리\",\"안유정\",\"고유라\"]\n",
    "print (g.count(\"안유정\"))  #리스트안에 있는걸 새어준다\n",
    "\n",
    "h =[\"이유리\",\"안유정\",\"고유라\"]\n",
    "h.extend([\"유리\",\"안산\"])  #리스트안에 extend 로 추가시킨다\n",
    "print(h)\n",
    "\n"
   ]
  },
  {
   "cell_type": "markdown",
   "id": "c92e9a05",
   "metadata": {},
   "source": [
    "## >112~114 쪽 jump to python 7번까지 연습문제 풀어보기"
   ]
  }
 ],
 "metadata": {
  "interpreter": {
   "hash": "041d1bf15cd7204c11d27e64d7e3f888abac55cd4faa8256afeeb4489e7f0daf"
  },
  "kernelspec": {
   "display_name": "Python 3.10.4 64-bit",
   "language": "python",
   "name": "python3"
  },
  "language_info": {
   "codemirror_mode": {
    "name": "ipython",
    "version": 3
   },
   "file_extension": ".py",
   "mimetype": "text/x-python",
   "name": "python",
   "nbconvert_exporter": "python",
   "pygments_lexer": "ipython3",
   "version": "3.10.4"
  }
 },
 "nbformat": 4,
 "nbformat_minor": 5
}
