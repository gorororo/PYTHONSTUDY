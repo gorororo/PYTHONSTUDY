{
 "cells": [
  {
   "cell_type": "code",
   "execution_count": 1,
   "id": "1acb53f1",
   "metadata": {},
   "outputs": [
    {
     "data": {
      "text/plain": [
       "20"
      ]
     },
     "execution_count": 1,
     "metadata": {},
     "output_type": "execute_result"
    }
   ],
   "source": [
    "10+10"
   ]
  },
  {
   "cell_type": "code",
   "execution_count": 2,
   "id": "27d119e1",
   "metadata": {},
   "outputs": [
    {
     "data": {
      "text/plain": [
       "21"
      ]
     },
     "execution_count": 2,
     "metadata": {},
     "output_type": "execute_result"
    }
   ],
   "source": [
    "1+20"
   ]
  },
  {
   "cell_type": "code",
   "execution_count": 3,
   "id": "1922482b",
   "metadata": {},
   "outputs": [
    {
     "name": "stdout",
     "output_type": "stream",
     "text": [
      "hello world\n"
     ]
    }
   ],
   "source": [
    "print('hello world')"
   ]
  },
  {
   "cell_type": "markdown",
   "id": "023f2b3c",
   "metadata": {},
   "source": [
    "안녕하세요"
   ]
  },
  {
   "cell_type": "markdown",
   "id": "a252a9be",
   "metadata": {},
   "source": [
    "마크다운 연습"
   ]
  },
  {
   "cell_type": "markdown",
   "id": "4af7b56a",
   "metadata": {},
   "source": [
    "# 글자 사이즈는 \n",
    "## 쉬프트 숫자로 조절 할수 있다\n",
    "### 계속 추가될수록 줄어든다.\n",
    "#### 한계가 있나\n",
    "##### 요?\n",
    "\n",
    "- 마크다운 으로\n",
    "* 문서 작성을 해봅시다.\n",
    "\n",
    "<kbd>연습</kbd>\n",
    "\n",
    "> 니자신을 알라 인용구는 이렇게\n",
    "\n",
    "<hr>"
   ]
  },
  {
   "cell_type": "code",
   "execution_count": null,
   "id": "b77b2953",
   "metadata": {},
   "outputs": [],
   "source": []
  }
 ],
 "metadata": {
  "kernelspec": {
   "display_name": "Python 3 (ipykernel)",
   "language": "python",
   "name": "python3"
  },
  "language_info": {
   "codemirror_mode": {
    "name": "ipython",
    "version": 3
   },
   "file_extension": ".py",
   "mimetype": "text/x-python",
   "name": "python",
   "nbconvert_exporter": "python",
   "pygments_lexer": "ipython3",
   "version": "3.9.12"
  }
 },
 "nbformat": 4,
 "nbformat_minor": 5
}
