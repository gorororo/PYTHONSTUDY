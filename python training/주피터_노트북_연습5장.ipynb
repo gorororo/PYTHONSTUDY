{
 "cells": [
  {
   "cell_type": "markdown",
   "metadata": {},
   "source": [
    "### 클래스 메서드\n",
    "- 매번 함수를 만드는게 아니라 똑같은구조를 여러게 해야할때 만든다\n",
    "- 한번만 설계도를 만들어서 함수를 여러개 찍어낼수 있다\n",
    "- 과자틀 = Class 과자 = 함수"
   ]
  },
  {
   "cell_type": "code",
   "execution_count": 3,
   "metadata": {},
   "outputs": [
    {
     "name": "stdout",
     "output_type": "stream",
     "text": [
      "3\n",
      "7\n",
      "3\n",
      "10\n"
     ]
    }
   ],
   "source": [
    "result1 = 0 #이렇게 해야하는걸 밑에 처럼 할수있다.\n",
    "result2 = 0\n",
    "\n",
    "def add1(num):\n",
    "    global result1\n",
    "    result1 += num\n",
    "    return result1\n",
    "\n",
    "def add2(num):\n",
    "    global result2\n",
    "    result2 += num\n",
    "    return result2\n",
    "\n",
    "print(add1(3))\n",
    "print(add1(4))\n",
    "print(add2(3))\n",
    "print(add2(7))"
   ]
  },
  {
   "cell_type": "code",
   "execution_count": 7,
   "metadata": {},
   "outputs": [
    {
     "name": "stdout",
     "output_type": "stream",
     "text": [
      "3\n",
      "7\n",
      "3\n",
      "10\n"
     ]
    }
   ],
   "source": [
    "class Calculater: #설계도를 작성해서 여러개를 만들때 사용\n",
    "    def __init__(self):\n",
    "        self.result = 0\n",
    "    \n",
    "    def add(self, num):\n",
    "        self.result += num\n",
    "        return self.result\n",
    "\n",
    "cal1 = Calculater()\n",
    "cal2 = Calculater()\n",
    "\n",
    "print(cal1.add(3))\n",
    "print(cal1.add(4))\n",
    "print(cal2.add(3))\n",
    "print(cal2.add(7))"
   ]
  },
  {
   "cell_type": "code",
   "execution_count": 2,
   "metadata": {},
   "outputs": [
    {
     "name": "stdout",
     "output_type": "stream",
     "text": [
      "<class '__main__.FourCal'>\n"
     ]
    }
   ],
   "source": [
    "class FourCal:\n",
    "  pass\n",
    "\n",
    "a =FourCal()\n",
    "print(type(a))"
   ]
  },
  {
   "cell_type": "code",
   "execution_count": 4,
   "metadata": {},
   "outputs": [
    {
     "name": "stdout",
     "output_type": "stream",
     "text": [
      "1\n",
      "2\n"
     ]
    }
   ],
   "source": [
    "class FourCal:\n",
    "  def setdata(self, first, second): #self 에는 a 가 들어가고 \n",
    "    self.first = first #a.first 첫번째 값이 들어가고\n",
    "    self.second = second #a.second 에 두번째 값이 들어간다\n",
    "\n",
    "a = FourCal()\n",
    "a.setdata(1,2)\n",
    "print(a.first)\n",
    "print(a.second)\n",
    "\n"
   ]
  },
  {
   "cell_type": "markdown",
   "metadata": {},
   "source": [
    "#### 반독되는 변수 & 메서드(함수)를 미리 정해 놓은 틀(설계도)"
   ]
  },
  {
   "cell_type": "code",
   "execution_count": 5,
   "metadata": {},
   "outputs": [
    {
     "name": "stdout",
     "output_type": "stream",
     "text": [
      "6\n"
     ]
    }
   ],
   "source": [
    "class FourCal:\n",
    "  def setdata(self, first, second): \n",
    "    self.first = first \n",
    "    self.second = second \n",
    "  def add(self):\n",
    "    result = self.first + self.second\n",
    "    return result\n",
    "\n",
    "a = FourCal()\n",
    "a.setdata(4,2)\n",
    "print(a.add())"
   ]
  }
 ],
 "metadata": {
  "interpreter": {
   "hash": "cf2895c1b3a18e0def21936cd98875861a3ee719675c3d36eca611e8cdcb3203"
  },
  "kernelspec": {
   "display_name": "Python 3.10.4 64-bit",
   "language": "python",
   "name": "python3"
  },
  "language_info": {
   "codemirror_mode": {
    "name": "ipython",
    "version": 3
   },
   "file_extension": ".py",
   "mimetype": "text/x-python",
   "name": "python",
   "nbconvert_exporter": "python",
   "pygments_lexer": "ipython3",
   "version": "3.10.4"
  },
  "orig_nbformat": 4
 },
 "nbformat": 4,
 "nbformat_minor": 2
}
