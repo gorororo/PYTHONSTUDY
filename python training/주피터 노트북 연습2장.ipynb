{
 "cells": [
  {
   "cell_type": "markdown",
   "metadata": {},
   "source": [
    "# 2장 공부 "
   ]
  },
  {
   "cell_type": "markdown",
   "metadata": {},
   "source": [
    "###  튜플\n",
    "\n",
    "* 튜플은 리스트랑 다르게 길이랑 값이 고정된다\n"
   ]
  },
  {
   "cell_type": "code",
   "execution_count": 111,
   "metadata": {},
   "outputs": [
    {
     "ename": "SyntaxError",
     "evalue": "invalid syntax (2144749054.py, line 2)",
     "output_type": "error",
     "traceback": [
      "\u001b[1;36m  Input \u001b[1;32mIn [111]\u001b[1;36m\u001b[0m\n\u001b[1;33m    del=[0] #튜플은 지우거나 바꾸거나 할수없다 신텍스 에러 슬라이싱 이나 가저다쓸수는 있다\u001b[0m\n\u001b[1;37m       ^\u001b[0m\n\u001b[1;31mSyntaxError\u001b[0m\u001b[1;31m:\u001b[0m invalid syntax\n"
     ]
    }
   ],
   "source": [
    "t1 = (1,2,'a','b') \n",
    "del=[0] #튜플은 지우거나 바꾸거나 할수없다 신텍스 에러 슬라이싱 이나 가저다쓸수는 있다"
   ]
  },
  {
   "cell_type": "code",
   "execution_count": 4,
   "metadata": {},
   "outputs": [
    {
     "name": "stdout",
     "output_type": "stream",
     "text": [
      "(1, 2, 'a', 'b', 3, 4)\n"
     ]
    }
   ],
   "source": [
    "t1 = (1,2,'a','b') \n",
    "t2 = (3,4)\n",
    "print(t1+t2)"
   ]
  },
  {
   "cell_type": "code",
   "execution_count": 7,
   "metadata": {},
   "outputs": [
    {
     "name": "stdout",
     "output_type": "stream",
     "text": [
      "(1, 2, 'a', 'b', 1, 2, 'a', 'b', 1, 2, 'a', 'b', 1, 2, 'a', 'b', 1, 2, 'a', 'b', 1, 2, 'a', 'b', 1, 2, 'a', 'b', 1, 2, 'a', 'b')\n"
     ]
    }
   ],
   "source": [
    "t1 = (1,2,'a','b') \n",
    "t2 = (3,4)\n",
    "print(t1*8)"
   ]
  },
  {
   "cell_type": "markdown",
   "metadata": {},
   "source": [
    "* ## 딕셔너리 dictionary\n",
    "> 상당히 중요하고 많이 쓰이는 자료형\n",
    "* 리스트랑 다르게 하나씩 찾아보는게 아니라\n",
    "* 키를 이용해서 검색해서 값을 찾는다"
   ]
  },
  {
   "cell_type": "code",
   "execution_count": 9,
   "metadata": {},
   "outputs": [
    {
     "name": "stdout",
     "output_type": "stream",
     "text": [
      "Eric\n"
     ]
    }
   ],
   "source": [
    "dic = {'name': 'Eric','age': 15}\n",
    "print(dic['name'])"
   ]
  },
  {
   "cell_type": "code",
   "execution_count": 11,
   "metadata": {},
   "outputs": [
    {
     "name": "stdout",
     "output_type": "stream",
     "text": [
      "{1: 'a', 'name': '익명'}\n"
     ]
    }
   ],
   "source": [
    "a = {1: 'a'}\n",
    "a['name'] = '익명' #추가\n",
    "print (a)"
   ]
  },
  {
   "cell_type": "code",
   "execution_count": 13,
   "metadata": {},
   "outputs": [
    {
     "name": "stdout",
     "output_type": "stream",
     "text": [
      "{'name': '익명'}\n"
     ]
    }
   ],
   "source": [
    "a = {1: 'a'}\n",
    "a['name'] = '익명' #추가\n",
    "del a[1]\n",
    "print (a)"
   ]
  },
  {
   "cell_type": "code",
   "execution_count": 19,
   "metadata": {},
   "outputs": [
    {
     "name": "stdout",
     "output_type": "stream",
     "text": [
      "b\n"
     ]
    }
   ],
   "source": [
    "a = {1: 'a',1: 'b'} # !!중요!!키는 중복 되면 안된다 밸류값은 같아도 되지만 키는 검색해야되니까 겹치면 안됨 만약 겹친다면 마지막 겹친 키값을 출력\n",
    "                    # {키:벨류,키:벨류}\n",
    "print (a[1]) "
   ]
  },
  {
   "cell_type": "code",
   "execution_count": 22,
   "metadata": {},
   "outputs": [
    {
     "name": "stdout",
     "output_type": "stream",
     "text": [
      "dict_keys([1, 2, 3, 4])\n"
     ]
    }
   ],
   "source": [
    "a= {1:'c',2:'m',3:'y',4:'k'}\n",
    "print(a.keys()) #키만 따로 리스트형태로 뽑을수있다"
   ]
  },
  {
   "cell_type": "code",
   "execution_count": 24,
   "metadata": {},
   "outputs": [
    {
     "name": "stdout",
     "output_type": "stream",
     "text": [
      "dict_values(['c', 'm', 'y', 'k'])\n"
     ]
    }
   ],
   "source": [
    "a= {1:'c',2:'m',3:'y',4:'k'}\n",
    "print(a.values()) #벨류만 따로 리스트형태로 뽑을수있다"
   ]
  },
  {
   "cell_type": "code",
   "execution_count": 27,
   "metadata": {},
   "outputs": [
    {
     "name": "stdout",
     "output_type": "stream",
     "text": [
      "dict_items([(1, 'c'), (2, 'm'), (3, 'y'), (4, 'k')])\n"
     ]
    }
   ],
   "source": [
    "a= {1:'c',2:'m',3:'y',4:'k'}\n",
    "print(a.items()) #키,벨류값을 쌍으로 리스트형태로 뽑을수있다"
   ]
  },
  {
   "cell_type": "code",
   "execution_count": 37,
   "metadata": {},
   "outputs": [
    {
     "name": "stdout",
     "output_type": "stream",
     "text": [
      "1\n",
      "2\n",
      "3\n",
      "4\n",
      "c\n",
      "m\n",
      "y\n",
      "k\n",
      "키는: 1\n",
      "밸류는: c\n",
      "키는: 2\n",
      "밸류는: m\n",
      "키는: 3\n",
      "밸류는: y\n",
      "키는: 4\n",
      "밸류는: k\n"
     ]
    }
   ],
   "source": [
    "a= {1:'c',2:'m',3:'y',4:'k'}\n",
    "for k in a.keys():\n",
    "  print (k)\n",
    "for v in a.values():\n",
    "  print (v)\n",
    "for k,v in a.items():\n",
    "  print (\"키는: \" + str(k))\n",
    "  print (\"밸류는: \"+v)"
   ]
  },
  {
   "cell_type": "code",
   "execution_count": 39,
   "metadata": {},
   "outputs": [
    {
     "name": "stdout",
     "output_type": "stream",
     "text": [
      "{}\n"
     ]
    }
   ],
   "source": [
    "a= {1:'c',2:'m',3:'y',4:'k'}\n",
    "a.clear() #딕셔너리 안을 지운다\n",
    "print (a)"
   ]
  },
  {
   "cell_type": "code",
   "execution_count": 45,
   "metadata": {},
   "outputs": [
    {
     "name": "stdout",
     "output_type": "stream",
     "text": [
      "없음\n"
     ]
    }
   ],
   "source": [
    "#밸류 얻기\n",
    "a= {1:'c',2:'m',3:'y',4:'k'} \n",
    "print(a.get(5,'없음')) #겟은 찾는거지만 없는 값을 찾을떄 오류가 나지않고 없다고 표시해줌"
   ]
  },
  {
   "cell_type": "code",
   "execution_count": 107,
   "metadata": {},
   "outputs": [
    {
     "name": "stdout",
     "output_type": "stream",
     "text": [
      "True\n"
     ]
    }
   ],
   "source": [
    "a= {1:'c',2:'m',3:'y',4:'k'}\n",
    "print(4 in a) #4가 a 에 있나 트루 펄스로 나타내준다"
   ]
  },
  {
   "cell_type": "code",
   "execution_count": 110,
   "metadata": {},
   "outputs": [
    {
     "name": "stdout",
     "output_type": "stream",
     "text": [
      "pey\n",
      "0119993323\n"
     ]
    }
   ],
   "source": [
    "a= {'name': 'pey','phone' :'0119993323','birth':'1118'}\n",
    "print (a.get('name'))\n",
    "print (a.get('phone'))"
   ]
  },
  {
   "cell_type": "markdown",
   "metadata": {},
   "source": [
    "### 집합 자료형\n",
    "* 집합에 관련된 것들을 쉽게 처리하기 위해 만들어진 자료형\n",
    "* 중복을 허용하지 않는다.\n",
    "* 순서가 없다(unordered)."
   ]
  },
  {
   "cell_type": "code",
   "execution_count": 53,
   "metadata": {},
   "outputs": [
    {
     "name": "stdout",
     "output_type": "stream",
     "text": [
      "{1, 2, 3}\n",
      "[1, 2, 3]\n"
     ]
    }
   ],
   "source": [
    "# s1 = set([1,2,3])\n",
    "s1 = {1,2,3} #집합을 표시하는 방법은 둘다된다 (중가로 or set)\n",
    "print(s1)\n",
    "\n",
    "l= [1,2,2,3,3]\n",
    "newList = list(set(l))\n",
    "print(newList)"
   ]
  },
  {
   "cell_type": "code",
   "execution_count": 56,
   "metadata": {},
   "outputs": [
    {
     "name": "stdout",
     "output_type": "stream",
     "text": [
      "{'e', 'l', 'o', 'h'}\n"
     ]
    }
   ],
   "source": [
    "s1 = set('hello')\n",
    "print(s1) #집합은 순서가없고 중복은 허용되지 않는다"
   ]
  },
  {
   "cell_type": "code",
   "execution_count": 59,
   "metadata": {},
   "outputs": [
    {
     "name": "stdout",
     "output_type": "stream",
     "text": [
      "{4, 5, 6}\n"
     ]
    }
   ],
   "source": [
    "#교집합\n",
    "s1 = set([1,2,3,4,5,6])\n",
    "s2 = set([4,5,6,7,8,9])\n",
    "# print(s1 & s2) # &(엔드)기호or(s1.intersection(s2)) 하나로 교집합을구한다\n",
    "print(s1.intersection(s2))"
   ]
  },
  {
   "cell_type": "code",
   "execution_count": 61,
   "metadata": {},
   "outputs": [
    {
     "name": "stdout",
     "output_type": "stream",
     "text": [
      "{1, 2, 3, 4, 5, 6, 7, 8, 9}\n"
     ]
    }
   ],
   "source": [
    "#합집합\n",
    "s1 = set([1,2,3,4,5,6])\n",
    "s2 = set([4,5,6,7,8,9])\n",
    "print(s1.union(s2)) #union or | 로 합집합을 구할수있다"
   ]
  },
  {
   "cell_type": "code",
   "execution_count": 65,
   "metadata": {},
   "outputs": [
    {
     "name": "stdout",
     "output_type": "stream",
     "text": [
      "{8, 9, 7}\n"
     ]
    }
   ],
   "source": [
    "#차집합\n",
    "s1 = set([1,2,3,4,5,6])\n",
    "s2 = set([4,5,6,7,8,9])\n",
    "print(s2 - s1 ) # difference or - 로 차집합을 구할수있다."
   ]
  },
  {
   "cell_type": "code",
   "execution_count": 67,
   "metadata": {},
   "outputs": [
    {
     "name": "stdout",
     "output_type": "stream",
     "text": [
      "{1, 2, 3, 4, 5, 6, 7}\n"
     ]
    }
   ],
   "source": [
    "#집합 자료형 값1개 추가하기\n",
    "s1 = set([1,2,3,4,5,6])\n",
    "s1.add(7)\n",
    "print(s1)"
   ]
  },
  {
   "cell_type": "code",
   "execution_count": 71,
   "metadata": {},
   "outputs": [
    {
     "name": "stdout",
     "output_type": "stream",
     "text": [
      "{1, 2, 3, 4, 5, 6, 7, 8, 9}\n"
     ]
    }
   ],
   "source": [
    "#여러개 추가할때\n",
    "s1 = set([1,2,3,4,5,6])\n",
    "s1.update([7,8,9,1]) #중본된건 합쳐서 없에고 나머지걸 추가한다\n",
    "print(s1)"
   ]
  },
  {
   "cell_type": "code",
   "execution_count": 73,
   "metadata": {},
   "outputs": [
    {
     "name": "stdout",
     "output_type": "stream",
     "text": [
      "{2, 3, 4, 5, 6}\n"
     ]
    }
   ],
   "source": [
    "s1 = set([1,2,3,4,5,6])\n",
    "s2 = set([4,5,6,7,8,9])\n",
    "s1.remove(1) #지우기\n",
    "print(s1)"
   ]
  },
  {
   "cell_type": "markdown",
   "metadata": {},
   "source": [
    "## 불 알아보기 \n",
    "* 참,거짓 ture False "
   ]
  },
  {
   "cell_type": "code",
   "execution_count": 75,
   "metadata": {},
   "outputs": [
    {
     "name": "stdout",
     "output_type": "stream",
     "text": [
      "<class 'bool'>\n",
      "<class 'bool'>\n"
     ]
    }
   ],
   "source": [
    "a = True #t는 대문자로 써야 재대로 불형 데이터\n",
    "print(type(a))\n",
    "b = False\n",
    "print(type(b))"
   ]
  },
  {
   "cell_type": "markdown",
   "metadata": {},
   "source": [
    "#### 값 \n",
    "- \"문자형\" = 참\n",
    "- \"\"       = 거짓\n",
    "- [1,2,3]  = 참\n",
    "- []       = 거짓 (리스트)\n",
    "- ()       = 거짓 (튜플)\n",
    "- {}       = 거짓 (딕셔너리)\n",
    "- 1        = 참\n",
    "- 0        = 거짓\n",
    "- None     = 거짓"
   ]
  },
  {
   "cell_type": "code",
   "execution_count": 79,
   "metadata": {},
   "outputs": [
    {
     "name": "stdout",
     "output_type": "stream",
     "text": [
      "1\n"
     ]
    }
   ],
   "source": [
    "a =\"1\"\n",
    "if a:\n",
    "  print(a)"
   ]
  },
  {
   "cell_type": "code",
   "execution_count": 82,
   "metadata": {},
   "outputs": [
    {
     "name": "stdout",
     "output_type": "stream",
     "text": [
      "[1, 2, 3]\n",
      "[1, 2]\n",
      "[1]\n",
      "[]\n"
     ]
    }
   ],
   "source": [
    "a = [1,2,3,4]\n",
    "while a: #Ture 로하면 무한 루프 이지만 a는 수가있어 Ture였지만 \n",
    "          #pop으로 뒤에서부터 다빼지면 빈 리스트이기때문에  False가 된다\n",
    "  a.pop()\n",
    "  print(a)\n",
    "  "
   ]
  },
  {
   "cell_type": "markdown",
   "metadata": {},
   "source": [
    "## 변수 \n",
    "\n",
    "- 변수란 상자 \n",
    "- 실제는 메모리 주소가 있고 값이 있고 그걸 변수로 정의 하면 주소는 같고 값은 다르게 해서        만들수있다는 의미\n",
    "\n",
    "[파이썬 자료구조 사이트(pythontutor.com)](https://pythontutor.com/visualize.html#mode=edit) "
   ]
  },
  {
   "cell_type": "code",
   "execution_count": 87,
   "metadata": {},
   "outputs": [
    {
     "name": "stdout",
     "output_type": "stream",
     "text": [
      "1798587999808\n",
      "1798587999808\n",
      "True\n"
     ]
    }
   ],
   "source": [
    "a = [1,2,3]\n",
    "b = a\n",
    "a[2] = 4 #a의 주소가 b 에 그냥 들어간것\n",
    "print (id(a)) #주소값 확인\n",
    "print (id(b))\n",
    "print (a is b) #같냐고 질문  is"
   ]
  },
  {
   "cell_type": "code",
   "execution_count": 90,
   "metadata": {},
   "outputs": [
    {
     "name": "stdout",
     "output_type": "stream",
     "text": [
      "1798588081408\n",
      "1798583666816\n",
      "False\n"
     ]
    }
   ],
   "source": [
    "a = [1,2,3]\n",
    "b = a[:] #위에 와 다르게 슬라이싱해서 넣으면 안에 자료가 복사되어서 주소가 달라진다.\n",
    "\n",
    "print (id(a))\n",
    "print (id(b))\n",
    "print (a is b)"
   ]
  },
  {
   "cell_type": "code",
   "execution_count": 92,
   "metadata": {},
   "outputs": [
    {
     "name": "stdout",
     "output_type": "stream",
     "text": [
      "[1, 4, 3]\n",
      "[1, 2, 3]\n"
     ]
    }
   ],
   "source": [
    "from copy import copy #명령어 역시 주소가 다르다 a의 자료를 바까도 주소가 다르기에 b는 바뀌지 않는다\n",
    "a = [1,2,3]\n",
    "b = copy(a)\n",
    "a[1] = 4\n",
    "print(a)\n",
    "print(b)"
   ]
  },
  {
   "cell_type": "code",
   "execution_count": 94,
   "metadata": {},
   "outputs": [
    {
     "name": "stdout",
     "output_type": "stream",
     "text": [
      "python\n",
      "life\n"
     ]
    }
   ],
   "source": [
    "#변수를 할당하는 방법\n",
    "a , b  = ('Python','Life')\n",
    "\n",
    "print (a)\n",
    "print (b)"
   ]
  },
  {
   "cell_type": "code",
   "execution_count": 98,
   "metadata": {},
   "outputs": [
    {
     "name": "stdout",
     "output_type": "stream",
     "text": [
      "Python\n",
      "Life\n"
     ]
    }
   ],
   "source": [
    "(a , b)  = ('Python','Life')\n",
    "\n",
    "print (a)\n",
    "print (b)"
   ]
  },
  {
   "cell_type": "code",
   "execution_count": 100,
   "metadata": {},
   "outputs": [
    {
     "name": "stdout",
     "output_type": "stream",
     "text": [
      "Python\n",
      "Life\n"
     ]
    }
   ],
   "source": [
    "[a , b]  = ['Python','Life']\n",
    "\n",
    "print (a)\n",
    "print (b)"
   ]
  },
  {
   "cell_type": "code",
   "execution_count": 102,
   "metadata": {},
   "outputs": [
    {
     "name": "stdout",
     "output_type": "stream",
     "text": [
      "hello\n",
      "hello\n"
     ]
    }
   ],
   "source": [
    "a = b = 'hello' #둘다 같은값을 할당\n",
    "\n",
    "print (a)\n",
    "print (b)"
   ]
  },
  {
   "cell_type": "code",
   "execution_count": 104,
   "metadata": {},
   "outputs": [
    {
     "name": "stdout",
     "output_type": "stream",
     "text": [
      "5\n",
      "3\n"
     ]
    }
   ],
   "source": [
    "#기존 방식 두값을 바꾸는방법\n",
    "a = 3\n",
    "b = 5\n",
    "tmp = b\n",
    "b = a\n",
    "a = tmp\n",
    "print(a)\n",
    "print(b)"
   ]
  },
  {
   "cell_type": "code",
   "execution_count": 106,
   "metadata": {},
   "outputs": [
    {
     "name": "stdout",
     "output_type": "stream",
     "text": [
      "5\n",
      "3\n"
     ]
    }
   ],
   "source": [
    "# 파이썬 방식\n",
    "a = 3\n",
    "b = 5\n",
    "a,b = b,a\n",
    "print (a)\n",
    "print (b)"
   ]
  },
  {
   "cell_type": "markdown",
   "metadata": {},
   "source": [
    "#### 정리\n",
    "- 리스트[list] : 쓰는이유 자료를 모아놓는 것\n",
    "- 튜플(tuple) :  리스트와 같지만 안에 자료가 변하진 않는다 읽거나 가저다 쓸수는 있다\n",
    "- 딕셔너리{(Dictionary} : 사전이라는 의미 이지만 사물함이라 볼수있다 키와 벨류로 나누는데 키는 변하지 않고 벨류는 아무것이나 바꾸거나 넣을수 있다.\n",
    "- 합 집합 교집합 차집합 add update remove\n",
    "- 복사하는 방법 중요 이해하자"
   ]
  }
 ],
 "metadata": {
  "interpreter": {
   "hash": "9e030b06df8535e05113b5fce651d4155290bdf1b2777b3d701a1501abf85227"
  },
  "kernelspec": {
   "display_name": "Python 3.9.12 ('base')",
   "language": "python",
   "name": "python3"
  },
  "language_info": {
   "codemirror_mode": {
    "name": "ipython",
    "version": 3
   },
   "file_extension": ".py",
   "mimetype": "text/x-python",
   "name": "python",
   "nbconvert_exporter": "python",
   "pygments_lexer": "ipython3",
   "version": "3.9.12"
  },
  "orig_nbformat": 4
 },
 "nbformat": 4,
 "nbformat_minor": 2
}
