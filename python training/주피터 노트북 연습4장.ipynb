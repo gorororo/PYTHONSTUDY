{
 "cells": [
  {
   "cell_type": "markdown",
   "metadata": {},
   "source": [
    "# 함수\n",
    "\n",
    "<kbd>def 는 함수를 만들떄 사용하는 예약어<br></kbd>\n",
    "def 함수명 (매개변수) : <br>\n",
    "<수행할 문장1> <br>\n",
    "<수행할 문장2> <br>\n",
    "...\n"
   ]
  },
  {
   "cell_type": "code",
   "execution_count": 3,
   "metadata": {},
   "outputs": [],
   "source": [
    "def add(a, b):\n",
    "    return a+b\n",
    "# 이함수의 이름은 add이고 입력으로 2개 값을\n",
    "# 받아서 결과값은 2개 입력값을 더한 값이다.\n",
    "# return 은 함수 결과값을 돌려주는 명령어이다\n"
   ]
  },
  {
   "cell_type": "code",
   "execution_count": 5,
   "metadata": {},
   "outputs": [
    {
     "name": "stdout",
     "output_type": "stream",
     "text": [
      "7\n"
     ]
    }
   ],
   "source": [
    "a = 3\n",
    "b = 4\n",
    "c = add(a, b)\n",
    "print(c)\n"
   ]
  },
  {
   "cell_type": "markdown",
   "metadata": {},
   "source": [
    "### 매개 변수와 인수\n",
    "\n",
    "매개변수(parameter)와 인수(arguments)는 혼용해서 사용되는 헷갈리는 용어이므로 잘 기억해 두자. 매개변수는 함수에 입력으로 전달된 값을 받는 변수를 의미하고 인수는 함수를 호출할 때 전달하는 입력값을 의미한다.\n"
   ]
  },
  {
   "cell_type": "code",
   "execution_count": 1,
   "metadata": {},
   "outputs": [
    {
     "name": "stdout",
     "output_type": "stream",
     "text": [
      "7\n"
     ]
    }
   ],
   "source": [
    "def add(a, b):\n",
    "    return a+b\n",
    "\n",
    "\n",
    "print(add(3, 4))\n"
   ]
  },
  {
   "cell_type": "code",
   "execution_count": 2,
   "metadata": {},
   "outputs": [],
   "source": [
    "# f(x) = 2x + 3 프로그래밍에선 함수는 좀다르다 입력 출력이 없을 수도 있다.\n"
   ]
  },
  {
   "cell_type": "code",
   "execution_count": 6,
   "metadata": {},
   "outputs": [
    {
     "name": "stdout",
     "output_type": "stream",
     "text": [
      "3\n"
     ]
    }
   ],
   "source": [
    "def sum(a, b):\n",
    "    result = a + b\n",
    "    return result\n",
    "\n",
    "\n",
    "print(sum(1, 2))\n"
   ]
  },
  {
   "cell_type": "code",
   "execution_count": 20,
   "metadata": {},
   "outputs": [
    {
     "name": "stdout",
     "output_type": "stream",
     "text": [
      "1, 2의 합은 3입니다.\n",
      "None\n"
     ]
    }
   ],
   "source": [
    "def sum(a, b):\n",
    "    print(\"%d, %d의 합은 %d입니다.\" % (a, b, a+b))  # 리턴값이 없는 함수\n",
    "\n",
    "\n",
    "print(sum(1, 2))\n"
   ]
  },
  {
   "cell_type": "code",
   "execution_count": 24,
   "metadata": {},
   "outputs": [
    {
     "name": "stdout",
     "output_type": "stream",
     "text": [
      "None\n",
      "4\n"
     ]
    }
   ],
   "source": [
    "myList = [1, 2, 3]\n",
    "print(myList.append(4))  # 어펜드는 리턴값이 없으니 4를 넣고 공백이 된다.\n",
    "print(myList.pop(3))  # 리턴값이 있으니 위에 어펜드가 넣은 4 를 출력\n"
   ]
  },
  {
   "cell_type": "code",
   "execution_count": 28,
   "metadata": {},
   "outputs": [
    {
     "name": "stdout",
     "output_type": "stream",
     "text": [
      "hi\n",
      "None\n"
     ]
    }
   ],
   "source": [
    "def say():\n",
    "  print('hi') #입력도 출력도 없는 함수\n",
    "print(say())\n"
   ]
  },
  {
   "cell_type": "code",
   "execution_count": 32,
   "metadata": {},
   "outputs": [
    {
     "name": "stdout",
     "output_type": "stream",
     "text": [
      "105\n"
     ]
    }
   ],
   "source": [
    "def sum_many(*args): #*agrs 를 하면 몇개를 넣어야 할지 모를때 몇개든 다 넣으라는 명령어\n",
    "  sum = 0 \n",
    "  for i in args:\n",
    "    sum = sum + i\n",
    "  return sum\n",
    "print(sum_many(1,2,3,4,5,6,7,8,9,10,11,12,13,14))"
   ]
  },
  {
   "cell_type": "code",
   "execution_count": 46,
   "metadata": {},
   "outputs": [],
   "source": [
    "# def print_kwargs(**kwargs): #**kwagrs 는 키 추가\n",
    "#     for k in kwargs.key():\n",
    "#       if(k == \"name\"):\n",
    "#         print(\"당신의 이름은 :\"+ kwargs[k])\n",
    "# print(print_kwargs(name=\"int 조수\" ,b=\"2\"))"
   ]
  },
  {
   "cell_type": "code",
   "execution_count": 51,
   "metadata": {},
   "outputs": [
    {
     "name": "stdout",
     "output_type": "stream",
     "text": [
      "-1\n"
     ]
    }
   ],
   "source": [
    "def sum_and_mul(a,b):\n",
    "  return a+b,a*b,a-b\n",
    "\n",
    "print(sum_and_mul(1,2)[2])"
   ]
  },
  {
   "cell_type": "code",
   "execution_count": 37,
   "metadata": {},
   "outputs": [
    {
     "name": "stdout",
     "output_type": "stream",
     "text": [
      "나의 이름은 파이썬 입니다.\n",
      "나이는 35살입니다.\n",
      "남자입니다.\n"
     ]
    }
   ],
   "source": [
    "# a = input('이름 : ')\n",
    "# b =int(input('나이 : '))\n",
    "# c = input('성별 : ')\n",
    "def say_myself(name, old, man=True): #순서를 해놓으면\n",
    "  print(\"나의 이름은 %s 입니다.\" % name)\n",
    "  print(\"나이는 %d살입니다.\" % old)\n",
    "  if man:\n",
    "    print(\"남자입니다.\")\n",
    "  else:\n",
    "    print(\"여자입니다.\")\n",
    "say_myself('파이썬',35,True) #순서를 지켜라 위에서 미리 값을 정해놨기때문에 생략해도된다."
   ]
  }
 ],
 "metadata": {
  "interpreter": {
   "hash": "9e030b06df8535e05113b5fce651d4155290bdf1b2777b3d701a1501abf85227"
  },
  "kernelspec": {
   "display_name": "Python 3.9.12 ('base')",
   "language": "python",
   "name": "python3"
  },
  "language_info": {
   "codemirror_mode": {
    "name": "ipython",
    "version": 3
   },
   "file_extension": ".py",
   "mimetype": "text/x-python",
   "name": "python",
   "nbconvert_exporter": "python",
   "pygments_lexer": "ipython3",
   "version": "3.9.12"
  },
  "orig_nbformat": 4
 },
 "nbformat": 4,
 "nbformat_minor": 2
}
