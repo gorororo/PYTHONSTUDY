{
 "cells": [
  {
   "cell_type": "markdown",
   "metadata": {},
   "source": [
    "# 함수\n",
    "\n",
    "<kbd>def 는 함수를 만들떄 사용하는 예약어<br></kbd>\n",
    "def 함수명 (매개변수) : <br>\n",
    "<수행할 문장1> <br>\n",
    "<수행할 문장2> <br>\n",
    "...\n"
   ]
  },
  {
   "cell_type": "code",
   "execution_count": 3,
   "metadata": {},
   "outputs": [],
   "source": [
    "def add(a, b):\n",
    "    return a+b\n",
    "# 이함수의 이름은 add이고 입력으로 2개 값을\n",
    "# 받아서 결과값은 2개 입력값을 더한 값이다.\n",
    "# return 은 함수 결과값을 돌려주는 명령어이다\n"
   ]
  },
  {
   "cell_type": "code",
   "execution_count": 5,
   "metadata": {},
   "outputs": [
    {
     "name": "stdout",
     "output_type": "stream",
     "text": [
      "7\n"
     ]
    }
   ],
   "source": [
    "a = 3\n",
    "b = 4\n",
    "c = add(a, b)\n",
    "print(c)\n"
   ]
  },
  {
   "cell_type": "markdown",
   "metadata": {},
   "source": [
    "### 매개 변수와 인수\n",
    "\n",
    "매개변수(parameter)와 인수(arguments)는 혼용해서 사용되는 헷갈리는 용어이므로 잘 기억해 두자. 매개변수는 함수에 입력으로 전달된 값을 받는 변수를 의미하고 인수는 함수를 호출할 때 전달하는 입력값을 의미한다.\n"
   ]
  },
  {
   "cell_type": "code",
   "execution_count": 1,
   "metadata": {},
   "outputs": [
    {
     "name": "stdout",
     "output_type": "stream",
     "text": [
      "7\n"
     ]
    }
   ],
   "source": [
    "def add(a, b):\n",
    "    return a+b\n",
    "\n",
    "\n",
    "print(add(3, 4))\n"
   ]
  },
  {
   "cell_type": "code",
   "execution_count": 2,
   "metadata": {},
   "outputs": [],
   "source": [
    "# f(x) = 2x + 3 프로그래밍에선 함수는 좀다르다 입력 출력이 없을 수도 있다.\n"
   ]
  },
  {
   "cell_type": "code",
   "execution_count": 6,
   "metadata": {},
   "outputs": [
    {
     "name": "stdout",
     "output_type": "stream",
     "text": [
      "3\n"
     ]
    }
   ],
   "source": [
    "def sum(a, b):\n",
    "    result = a + b\n",
    "    return result\n",
    "\n",
    "\n",
    "print(sum(1, 2))\n"
   ]
  },
  {
   "cell_type": "code",
   "execution_count": 20,
   "metadata": {},
   "outputs": [
    {
     "name": "stdout",
     "output_type": "stream",
     "text": [
      "1, 2의 합은 3입니다.\n",
      "None\n"
     ]
    }
   ],
   "source": [
    "def sum(a, b):\n",
    "    print(\"%d, %d의 합은 %d입니다.\" % (a, b, a+b))  # 리턴값이 없는 함수\n",
    "\n",
    "\n",
    "print(sum(1, 2))\n"
   ]
  },
  {
   "cell_type": "code",
   "execution_count": 24,
   "metadata": {},
   "outputs": [
    {
     "name": "stdout",
     "output_type": "stream",
     "text": [
      "None\n",
      "4\n"
     ]
    }
   ],
   "source": [
    "myList = [1, 2, 3]\n",
    "print(myList.append(4))  # 어펜드는 리턴값이 없으니 4를 넣고 공백이 된다.\n",
    "print(myList.pop(3))  # 리턴값이 있으니 위에 어펜드가 넣은 4 를 출력\n"
   ]
  },
  {
   "cell_type": "code",
   "execution_count": 28,
   "metadata": {},
   "outputs": [
    {
     "name": "stdout",
     "output_type": "stream",
     "text": [
      "hi\n",
      "None\n"
     ]
    }
   ],
   "source": [
    "def say():\n",
    "  print('hi') #입력도 출력도 없는 함수\n",
    "print(say())\n"
   ]
  },
  {
   "cell_type": "code",
   "execution_count": 32,
   "metadata": {},
   "outputs": [
    {
     "name": "stdout",
     "output_type": "stream",
     "text": [
      "105\n"
     ]
    }
   ],
   "source": [
    "def sum_many(*args): #*agrs 를 하면 몇개를 넣어야 할지 모를때 몇개든 다 넣으라는 명령어\n",
    "  sum = 0 \n",
    "  for i in args:\n",
    "    sum = sum + i\n",
    "  return sum\n",
    "print(sum_many(1,2,3,4,5,6,7,8,9,10,11,12,13,14))"
   ]
  },
  {
   "cell_type": "code",
   "execution_count": 46,
   "metadata": {},
   "outputs": [],
   "source": [
    "# def print_kwargs(**kwargs): #**kwagrs 는 키 추가\n",
    "#     for k in kwargs.key():\n",
    "#       if(k == \"name\"):\n",
    "#         print(\"당신의 이름은 :\"+ kwargs[k])\n",
    "# print(print_kwargs(name=\"int 조수\" ,b=\"2\"))"
   ]
  },
  {
   "cell_type": "code",
   "execution_count": 51,
   "metadata": {},
   "outputs": [
    {
     "name": "stdout",
     "output_type": "stream",
     "text": [
      "-1\n"
     ]
    }
   ],
   "source": [
    "def sum_and_mul(a,b):\n",
    "  return a+b,a*b,a-b\n",
    "\n",
    "print(sum_and_mul(1,2)[2])"
   ]
  },
  {
   "cell_type": "code",
   "execution_count": 1,
   "metadata": {},
   "outputs": [
    {
     "name": "stdout",
     "output_type": "stream",
     "text": [
      "나의 이름은 파이썬 입니다.\n",
      "나이는 35살입니다.\n",
      "남자입니다.\n"
     ]
    }
   ],
   "source": [
    "# a = input('이름 : ')\n",
    "# b =int(input('나이 : '))\n",
    "# c = input('성별 : ')\n",
    "def say_myself(name, old, man=True): #순서를 해놓으면\n",
    "  print(\"나의 이름은 %s 입니다.\" % name)\n",
    "  print(\"나이는 %d살입니다.\" % old)\n",
    "  if man:\n",
    "    print(\"남자입니다.\")\n",
    "  else:\n",
    "    print(\"여자입니다.\")\n",
    "say_myself('파이썬',35,True) #순서를 지켜라 위에서 미리 값을 정해놨기때문에 생략해도된다."
   ]
  },
  {
   "cell_type": "code",
   "execution_count": 6,
   "metadata": {},
   "outputs": [
    {
     "name": "stdout",
     "output_type": "stream",
     "text": [
      "나의 이름은 파이썬 입니다.\n",
      "나이는 35살입니다.\n",
      "여자입니다.\n"
     ]
    }
   ],
   "source": [
    "def say_myself(name, old, man=True): \n",
    "  print(\"나의 이름은 %s 입니다.\" % name)\n",
    "  print(\"나이는 %d살입니다.\" % old)\n",
    "  if man:\n",
    "    print(\"남자입니다.\")\n",
    "  else:\n",
    "    print(\"여자입니다.\")\n",
    "say_myself('파이썬',35,False)"
   ]
  },
  {
   "cell_type": "code",
   "execution_count": 9,
   "metadata": {},
   "outputs": [
    {
     "name": "stdout",
     "output_type": "stream",
     "text": [
      "나의 이름은 파이썬 입니다.\n",
      "나이는 35살입니다.\n",
      "여자입니다.\n"
     ]
    }
   ],
   "source": [
    "def say_myself(name, old, man=True): \n",
    "  print(\"나의 이름은 %s 입니다.\" % name)\n",
    "  print(\"나이는 %d살입니다.\" % old)\n",
    "  if man:\n",
    "    print(\"남자입니다.\")\n",
    "  else:\n",
    "    print(\"여자입니다.\")\n",
    "say_myself(old=35,name='파이썬',man=False) #순서를 안맞추려면 맵핑을해서 뭐가뭔지 알려줘야한다."
   ]
  },
  {
   "cell_type": "code",
   "execution_count": 14,
   "metadata": {},
   "outputs": [
    {
     "name": "stdout",
     "output_type": "stream",
     "text": [
      "1\n"
     ]
    }
   ],
   "source": [
    "a=1\n",
    "def vartest(a): #지역변수 a라는 값이 밖에 전역변수에 영향을 줄수 없다 변수의 범위\n",
    "  a =a+1\n",
    "\n",
    "vartest(a)\n",
    "print(a)"
   ]
  },
  {
   "cell_type": "code",
   "execution_count": 42,
   "metadata": {},
   "outputs": [
    {
     "name": "stdout",
     "output_type": "stream",
     "text": [
      "2\n"
     ]
    }
   ],
   "source": [
    "a=1\n",
    "def vartest(a):\n",
    "  a =a+1\n",
    "  return a #리턴한걸 다시 전역변수에 넣어주기 떄문에 값이 변한다.\n",
    "\n",
    "a = vartest(a)\n",
    "print(a)"
   ]
  },
  {
   "cell_type": "code",
   "execution_count": 15,
   "metadata": {},
   "outputs": [
    {
     "name": "stdout",
     "output_type": "stream",
     "text": [
      "2\n"
     ]
    }
   ],
   "source": [
    "a=1\n",
    "def vartest():\n",
    "    global a #global을 주면 맨윗줄 전역변수를 뜻한다\n",
    "    a =a+1\n",
    "\n",
    "vartest()\n",
    "print(a)"
   ]
  },
  {
   "cell_type": "code",
   "execution_count": 18,
   "metadata": {},
   "outputs": [
    {
     "name": "stdout",
     "output_type": "stream",
     "text": [
      "3\n"
     ]
    }
   ],
   "source": [
    "# def add(a,b):\n",
    "#     return a+b\n",
    "\n",
    "add = lambda a, b: a+b\n",
    "print(add(1,2))"
   ]
  },
  {
   "cell_type": "code",
   "execution_count": 21,
   "metadata": {},
   "outputs": [
    {
     "name": "stdout",
     "output_type": "stream",
     "text": [
      "2\n"
     ]
    }
   ],
   "source": [
    "add = lambda a, b: a+b\n",
    "myList = [lambda a, b: a+b,lambda a, b: a*b] #def가 안되는 경우에도 쓸수 있다 간단한식을 할때 \n",
    "print(myList[1](1,2))"
   ]
  },
  {
   "cell_type": "markdown",
   "metadata": {},
   "source": [
    "### input 함수"
   ]
  },
  {
   "cell_type": "code",
   "execution_count": 25,
   "metadata": {},
   "outputs": [
    {
     "name": "stdout",
     "output_type": "stream",
     "text": [
      "\n"
     ]
    }
   ],
   "source": [
    "a = input() #내장함수\n",
    "print(a)"
   ]
  },
  {
   "cell_type": "code",
   "execution_count": 27,
   "metadata": {},
   "outputs": [
    {
     "name": "stdout",
     "output_type": "stream",
     "text": [
      "11111\n"
     ]
    }
   ],
   "source": [
    "number = input(\"숫자를 입력하세요 : \")\n",
    "print(number)"
   ]
  },
  {
   "cell_type": "code",
   "execution_count": 29,
   "metadata": {},
   "outputs": [
    {
     "name": "stdout",
     "output_type": "stream",
     "text": [
      "lifeistoo short\n"
     ]
    }
   ],
   "source": [
    "print(\"life\" \"is\" \"too short\") #+가 자동으로 들어가있다 생략되있는것"
   ]
  },
  {
   "cell_type": "code",
   "execution_count": 35,
   "metadata": {},
   "outputs": [
    {
     "name": "stdout",
     "output_type": "stream",
     "text": [
      "life is too short\n"
     ]
    }
   ],
   "source": [
    "print(\"life\", \"is\", \"too short\") #,가 찍히면 자동으로 한칸씩 띄워준다"
   ]
  },
  {
   "cell_type": "code",
   "execution_count": 37,
   "metadata": {},
   "outputs": [
    {
     "name": "stdout",
     "output_type": "stream",
     "text": [
      "0 1 2 3 4 5 6 7 8 9 "
     ]
    }
   ],
   "source": [
    "for i in range(10):\n",
    "  print(i, end=' ') #end는 띄워쓰기를 i뒤에 붙여서 계속 줄력하겠다 라는 의미"
   ]
  },
  {
   "cell_type": "code",
   "execution_count": 38,
   "metadata": {},
   "outputs": [],
   "source": [
    "f = open(\"새파일.txt\",'w')\n",
    "f.close()"
   ]
  },
  {
   "cell_type": "code",
   "execution_count": 45,
   "metadata": {},
   "outputs": [],
   "source": [
    "f = open(\"F:\\gorororo\\PYTHONSTUDY\\python training\\새파일.txt\",'w', encoding=\"UTF-8\") #절대경로 encoding은 문자셋을 바꾸는것\n",
    "for i in range(1,11): #1부터 10까지 for문을 돌면서 \n",
    "    data = \"%d번쨰 줄입니다.\\n\" %i #데이타 함수를 새파일.txt 에 작성해서\n",
    "    f.write(data)\n",
    "f.close() #다 작성하면 닫는다."
   ]
  },
  {
   "cell_type": "code",
   "execution_count": 51,
   "metadata": {},
   "outputs": [
    {
     "name": "stdout",
     "output_type": "stream",
     "text": [
      "1번쨰 줄입니다.\n",
      "\n"
     ]
    }
   ],
   "source": [
    "f = open(\"새파일.txt\", 'r', encoding=\"UTF-8\")\n",
    "line = f.readline() #한줄을 읽는다\n",
    "print(line)\n",
    "f.close()"
   ]
  },
  {
   "cell_type": "code",
   "execution_count": 53,
   "metadata": {},
   "outputs": [
    {
     "name": "stdout",
     "output_type": "stream",
     "text": [
      "1번쨰 줄입니다.\n",
      "\n",
      "2번쨰 줄입니다.\n",
      "\n",
      "3번쨰 줄입니다.\n",
      "\n",
      "4번쨰 줄입니다.\n",
      "\n",
      "5번쨰 줄입니다.\n",
      "\n",
      "6번쨰 줄입니다.\n",
      "\n",
      "7번쨰 줄입니다.\n",
      "\n",
      "8번쨰 줄입니다.\n",
      "\n",
      "9번쨰 줄입니다.\n",
      "\n",
      "10번쨰 줄입니다.\n",
      "\n"
     ]
    }
   ],
   "source": [
    "f = open(\"새파일.txt\", 'r', encoding=\"UTF-8\")\n",
    "while True: #무한 반복\n",
    "    line = f.readline() #오픈한 파일을 읽어라\n",
    "    if not line: break  #만약 라인 이 없으면 break 해라\n",
    "    print(line)\n",
    "f.close()"
   ]
  },
  {
   "cell_type": "code",
   "execution_count": 60,
   "metadata": {},
   "outputs": [
    {
     "name": "stdout",
     "output_type": "stream",
     "text": [
      "1번쨰 줄입니다.\n",
      "2번쨰 줄입니다.\n",
      "3번쨰 줄입니다.\n",
      "4번쨰 줄입니다.\n",
      "5번쨰 줄입니다.\n",
      "6번쨰 줄입니다.\n",
      "7번쨰 줄입니다.\n",
      "8번쨰 줄입니다.\n",
      "9번쨰 줄입니다.\n",
      "10번쨰 줄입니다.\n"
     ]
    }
   ],
   "source": [
    "f = open(\"새파일.txt\", 'r', encoding=\"UTF-8\")\n",
    "lines = f.readlines() \n",
    "for line in lines:\n",
    "    print(line, end=\"\") #end=\"\"한줄씩 띄는걸 맊는다\n",
    "f.close()"
   ]
  },
  {
   "cell_type": "code",
   "execution_count": 62,
   "metadata": {},
   "outputs": [
    {
     "name": "stdout",
     "output_type": "stream",
     "text": [
      "1번쨰 줄입니다.\n",
      "2번쨰 줄입니다.\n",
      "3번쨰 줄입니다.\n",
      "4번쨰 줄입니다.\n",
      "5번쨰 줄입니다.\n",
      "6번쨰 줄입니다.\n",
      "7번쨰 줄입니다.\n",
      "8번쨰 줄입니다.\n",
      "9번쨰 줄입니다.\n",
      "10번쨰 줄입니다.\n"
     ]
    }
   ],
   "source": [
    "f = open(\"새파일.txt\", 'r', encoding=\"UTF-8\")\n",
    "lines = f.readlines() \n",
    "for line in lines:\n",
    "    print(line.strip(\"\\n\")) #스트립으로 띄우는걸 다지운다\n",
    "f.close()"
   ]
  },
  {
   "cell_type": "code",
   "execution_count": 64,
   "metadata": {},
   "outputs": [
    {
     "name": "stdout",
     "output_type": "stream",
     "text": [
      "1번쨰 줄입니다. 2번쨰 줄입니다. 3번쨰 줄입니다. 4번쨰 줄입니다. 5번쨰 줄입니다. 6번쨰 줄입니다. 7번쨰 줄입니다. 8번쨰 줄입니다. 9번쨰 줄입니다. 10번쨰 줄입니다. "
     ]
    }
   ],
   "source": [
    "f = open(\"새파일.txt\", 'r', encoding=\"UTF-8\")\n",
    "lines = f.readlines() \n",
    "for line in lines:\n",
    "    print(line.strip(\"\\n\"),end=\" \") #지우고 끝엔터를 다없에면 옆으로 나온다\n",
    "f.close()"
   ]
  },
  {
   "cell_type": "code",
   "execution_count": 69,
   "metadata": {},
   "outputs": [
    {
     "name": "stdout",
     "output_type": "stream",
     "text": [
      "1번쨰 줄입니다.\n",
      "2번쨰 줄입니다.\n",
      "3번쨰 줄입니다.\n",
      "4번쨰 줄입니다.\n",
      "5번쨰 줄입니다.\n",
      "6번쨰 줄입니다.\n",
      "7번쨰 줄입니다.\n",
      "8번쨰 줄입니다.\n",
      "9번쨰 줄입니다.\n",
      "10번쨰 줄입니다.\n",
      "\n"
     ]
    }
   ],
   "source": [
    "f = open(\"새파일.txt\", 'r', encoding=\"UTF-8\")\n",
    "data = f.read() #통체로 전부다 읽는다\n",
    "print(data) #.strip(\"\\n\"),end=\" \" 통쩨로 읽었기떄문에 바꿀수없다\n",
    "f.close()"
   ]
  },
  {
   "cell_type": "code",
   "execution_count": 73,
   "metadata": {},
   "outputs": [],
   "source": [
    "f = open(\"새파일.txt\", 'a', encoding=\"UTF-8\") #a 모드는 값을 냅두고 추가하는 모드\n",
    "for i in range(11, 21):\n",
    "    data = \"%d번째 줄입니다.\\n\" % i\n",
    "    f.write(data)\n",
    "f.close()"
   ]
  },
  {
   "cell_type": "code",
   "execution_count": 74,
   "metadata": {},
   "outputs": [],
   "source": [
    "with open(\"foo.txt\",\"w\") as f: #클로즈를 굳이 안해도 된다 f를 넘어서면 자동으로 클로즈 된다. 위드를 쓰게되면 as  를 열어서 f:라는 변수에 저장을 한다\n",
    "  f.write(\"Life is too short, you need python\")"
   ]
  }
 ],
 "metadata": {
  "interpreter": {
   "hash": "041d1bf15cd7204c11d27e64d7e3f888abac55cd4faa8256afeeb4489e7f0daf"
  },
  "kernelspec": {
   "display_name": "Python 3.10.4 64-bit",
   "language": "python",
   "name": "python3"
  },
  "language_info": {
   "codemirror_mode": {
    "name": "ipython",
    "version": 3
   },
   "file_extension": ".py",
   "mimetype": "text/x-python",
   "name": "python",
   "nbconvert_exporter": "python",
   "pygments_lexer": "ipython3",
   "version": "3.10.4"
  },
  "orig_nbformat": 4
 },
 "nbformat": 4,
 "nbformat_minor": 2
}
