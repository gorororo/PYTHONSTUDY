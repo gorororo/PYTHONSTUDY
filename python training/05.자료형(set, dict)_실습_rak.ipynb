{
 "cells": [
  {
   "cell_type": "markdown",
   "id": "15bf8a63",
   "metadata": {},
   "source": [
    "# 집합(set)\n",
    "\n",
    "- 집합(set)은 파이썬 2.3부터 지원하기 시작한 자료형으로, 집합에 관련된 것을 쉽게 처리하기 위해 만든 자료형이다.\n",
    "- 공집합을 생성할 때는 **반드시 set()** 으로 생성해야 한다. **{}로 생성하면 빈 dictionary가 생성**된다.\n",
    "    - {1, 2, 3} -> set\n",
    "    - {'a':1, 'b':2} -> dictionary\n",
    "- 집합의 연산자인 교집합, 합집합, 차집합을 모두 지원한다.\n",
    "- set의 특징이 2가지 있는데, 이 특징이 리스트와의 차이점이라 사용한다. 첫번째 특징이 set 자료형을 사용하는 주된 이유이다.    \n",
    "1) set은 **중복을 허용하지 않는다.** 즉, **원소의 종류**를 나타내기 좋다.   \n",
    "2) set은 **순서가 존재하지 않는다.** 즉, index가 없다."
   ]
  },
  {
   "cell_type": "code",
   "execution_count": null,
   "id": "99220f58",
   "metadata": {},
   "outputs": [],
   "source": [
    "# 공집합 만들기\n",
    "\n",
    "\n",
    "# 1, 2, 3을 원소로 가지는 집합\n"
   ]
  },
  {
   "cell_type": "code",
   "execution_count": null,
   "id": "2b515e11",
   "metadata": {},
   "outputs": [],
   "source": [
    "# set은 중복을 허용하지 않는다\n"
   ]
  },
  {
   "cell_type": "code",
   "execution_count": null,
   "id": "5c37503f",
   "metadata": {},
   "outputs": [],
   "source": [
    "# set은 순서가 존재하지 않는다.\n"
   ]
  },
  {
   "cell_type": "markdown",
   "id": "0205d500",
   "metadata": {},
   "source": [
    "## set의 연산\n",
    "- 교집합, 합집합, 차집합 등 지원"
   ]
  },
  {
   "cell_type": "code",
   "execution_count": null,
   "id": "0050bf18",
   "metadata": {},
   "outputs": [],
   "source": [
    "s1 = {1, 2, 3, 4, 5}\n",
    "s2 = {3, 4, 5, 6, 7}\n",
    "\n",
    "print(s1.union(s2)) # 합집합\n",
    "print(s1.intersection(s2))# 교집합\n",
    "print(s1.difference(s2)) # 차집합\n",
    "\n"
   ]
  },
  {
   "cell_type": "markdown",
   "id": "1f004df7",
   "metadata": {},
   "source": [
    "## 집합 관련 함수"
   ]
  },
  {
   "cell_type": "markdown",
   "id": "0bf8859c",
   "metadata": {},
   "source": [
    "### 집합에 원소 하나 추가하기 add()"
   ]
  },
  {
   "cell_type": "code",
   "execution_count": null,
   "id": "341db49e",
   "metadata": {},
   "outputs": [],
   "source": []
  },
  {
   "cell_type": "markdown",
   "id": "65cc44d9",
   "metadata": {},
   "source": [
    "### 집합에 여러 원소 추가하기 update()"
   ]
  },
  {
   "cell_type": "code",
   "execution_count": null,
   "id": "bedefc35",
   "metadata": {},
   "outputs": [],
   "source": [
    "s = {1, 2, 3}\n"
   ]
  },
  {
   "cell_type": "markdown",
   "id": "dc263d65",
   "metadata": {},
   "source": [
    "### 집합에서 원소 제거하기 remove()"
   ]
  },
  {
   "cell_type": "code",
   "execution_count": null,
   "id": "21be3157",
   "metadata": {},
   "outputs": [],
   "source": []
  },
  {
   "cell_type": "markdown",
   "id": "e7a9fd89",
   "metadata": {},
   "source": [
    "# Dictionary\n",
    "\n",
    "\n",
    "**파이썬에서 리스트와 함께 굉장히 많이 사용되는 구조.**\n",
    "- key - value 방법을 통해 저장한다.\n",
    "\n",
    "| 자료형 | <center>의미</center> | 가리키는 위치 | 선언형식 |\n",
    "|:---:|:---|:---:|:---:|\n",
    "| list | 인덱스를 기반으로 값을 저장 | 인덱스 | a = [ ] |\n",
    "| dictionary | 키를 기반으로 값을 저장 | 키 | a = { } |\n",
    "\n",
    "\n",
    "- dictionary를 표현할 때는 **{key : value, key2 : value2, ... }** 형태로 표현한다.\n",
    "- dict_a = {'Korea' : 'Seoul', 'Japan' : 'Tokyo', 'Chana' : 'Beijing'}\n",
    "- 순서를 따지지 않음. 즉, 인덱스가 없음\n",
    "- **key : immutable / value : mutable**\n",
    "- 파이썬에서 가장 자주쓰는 데이터 형 중 하나"
   ]
  },
  {
   "cell_type": "markdown",
   "id": "3d6b1103",
   "metadata": {},
   "source": [
    "## dictionary 기본사용법"
   ]
  },
  {
   "cell_type": "markdown",
   "id": "742255f2",
   "metadata": {},
   "source": [
    "### dictionary 생성"
   ]
  },
  {
   "cell_type": "code",
   "execution_count": null,
   "id": "381fb418",
   "metadata": {},
   "outputs": [],
   "source": [
    "dict_a = {'Korea' : 'Seoul', \n",
    "          'Japan' : 'Tokyo', \n",
    "          'Chana' : 'Beijing'}\n",
    "type(dict_a)"
   ]
  },
  {
   "cell_type": "markdown",
   "id": "c2df51bd",
   "metadata": {},
   "source": [
    "### dictionary 쌍 추가"
   ]
  },
  {
   "cell_type": "code",
   "execution_count": null,
   "id": "345fc667",
   "metadata": {},
   "outputs": [],
   "source": []
  },
  {
   "cell_type": "markdown",
   "id": "143e122c",
   "metadata": {},
   "source": [
    "### dictionary 쌍 삭제 : del"
   ]
  },
  {
   "cell_type": "code",
   "execution_count": null,
   "id": "5a4b1bcd",
   "metadata": {},
   "outputs": [],
   "source": []
  },
  {
   "cell_type": "markdown",
   "id": "03d90f1c",
   "metadata": {},
   "source": [
    "### dictionary 접근"
   ]
  },
  {
   "cell_type": "code",
   "execution_count": null,
   "id": "a99899e7",
   "metadata": {},
   "outputs": [],
   "source": []
  },
  {
   "cell_type": "code",
   "execution_count": null,
   "id": "9e5c4d17",
   "metadata": {},
   "outputs": [],
   "source": [
    "dict_c = { 0 : 1, 1: 6, 7 : 9, 8 : 9}\n"
   ]
  },
  {
   "cell_type": "code",
   "execution_count": null,
   "id": "c5f06d4c",
   "metadata": {},
   "outputs": [],
   "source": [
    "dict_b = {'a' : 1 , 'a' : 2, 'b': 3} \n"
   ]
  },
  {
   "cell_type": "markdown",
   "id": "b562c562",
   "metadata": {},
   "source": [
    "### dictionary 수정\n",
    "- dict.update(수정할 dict)"
   ]
  },
  {
   "cell_type": "code",
   "execution_count": null,
   "id": "183ba49b",
   "metadata": {},
   "outputs": [],
   "source": []
  },
  {
   "cell_type": "code",
   "execution_count": null,
   "id": "5296b9f3",
   "metadata": {},
   "outputs": [],
   "source": [
    "dict_b = { 'a' : 1, 'b': 6, 'c' : 9, 'd' : 9}\n",
    "\n"
   ]
  },
  {
   "cell_type": "code",
   "execution_count": null,
   "id": "b7469449",
   "metadata": {},
   "outputs": [],
   "source": [
    "singer = {\n",
    "    'name' : '방탄소년단',\n",
    "    'member' : 7,\n",
    "    '데뷔곡' : '데인저',\n",
    "    '대표곡' : ['IDOL','봄날','불타오르네','Dynamite','Butter']\n",
    "    \n",
    "}\n"
   ]
  },
  {
   "cell_type": "markdown",
   "id": "a0470126",
   "metadata": {},
   "source": [
    "> **TIP** dictionary를 만들 때 key는 중복이 있으면 절대 안된다."
   ]
  },
  {
   "cell_type": "markdown",
   "id": "db32840d",
   "metadata": {},
   "source": [
    "## dictionary 관련 함수"
   ]
  },
  {
   "cell_type": "markdown",
   "id": "7fec90b0",
   "metadata": {},
   "source": [
    "### dictionary의 모든 key값들 보기 keys()"
   ]
  },
  {
   "cell_type": "code",
   "execution_count": null,
   "id": "94aa94cc",
   "metadata": {},
   "outputs": [],
   "source": []
  },
  {
   "cell_type": "markdown",
   "id": "351f0575",
   "metadata": {},
   "source": [
    "### dictionary의 모든 value들 보기 values()"
   ]
  },
  {
   "cell_type": "code",
   "execution_count": null,
   "id": "ffa8bcfc",
   "metadata": {},
   "outputs": [],
   "source": []
  },
  {
   "cell_type": "markdown",
   "id": "401610f5",
   "metadata": {},
   "source": [
    "### dictionary의 모든 key, value 쌍 보기 items()"
   ]
  },
  {
   "cell_type": "code",
   "execution_count": null,
   "id": "80874e7a",
   "metadata": {},
   "outputs": [],
   "source": []
  },
  {
   "cell_type": "markdown",
   "id": "9a802cbc",
   "metadata": {},
   "source": [
    "### key:value 모두 지우기 : clear()"
   ]
  },
  {
   "cell_type": "code",
   "execution_count": null,
   "id": "6e03bc01",
   "metadata": {},
   "outputs": [],
   "source": []
  },
  {
   "cell_type": "markdown",
   "id": "aa33c684",
   "metadata": {},
   "source": [
    "### dictionary의 원소 가져오기 get() : key로 value 구하기"
   ]
  },
  {
   "cell_type": "code",
   "execution_count": null,
   "id": "567f3adf",
   "metadata": {},
   "outputs": [],
   "source": [
    "singer = {\n",
    "    'name' : 'BTS',\n",
    "    'member' : 7,\n",
    "    '데뷔곡' : '데인저',\n",
    "    '대표곡' : ['IDOL','봄날','불타오르네','Dynamite','Butter']\n",
    "}\n"
   ]
  },
  {
   "cell_type": "markdown",
   "id": "bce03f10",
   "metadata": {},
   "source": [
    "- dict.get(key, **default**)"
   ]
  },
  {
   "cell_type": "code",
   "execution_count": null,
   "id": "edf1d6a7",
   "metadata": {},
   "outputs": [],
   "source": []
  },
  {
   "cell_type": "markdown",
   "id": "75d75645",
   "metadata": {},
   "source": [
    "### dictionary에 해당 key값이 존재하는지 확인하기 in\n",
    "- in이라는 operator는 dictionary뿐만 아니라 모든 연속형 데이터 타입(리스트, 튜플, 문자열, 딕셔너리)에 사용할 수 있다.\n",
    "- dictionary의 경우에는 key를 대상으로 하고, 리스트, 튜플, 집합, 문자열에 대해서는 해당 원소가 존재하는지 찾아서 True / False 를 알려준다."
   ]
  },
  {
   "cell_type": "code",
   "execution_count": null,
   "id": "9c8faa05",
   "metadata": {},
   "outputs": [],
   "source": []
  },
  {
   "cell_type": "code",
   "execution_count": null,
   "id": "3574598a",
   "metadata": {
    "scrolled": true
   },
   "outputs": [],
   "source": []
  },
  {
   "cell_type": "code",
   "execution_count": null,
   "id": "be707030",
   "metadata": {},
   "outputs": [],
   "source": []
  },
  {
   "cell_type": "markdown",
   "id": "ed7390ab",
   "metadata": {},
   "source": [
    "# 연습문제\n",
    "- 문제를 해결하면서 dictionary의 개념을 정리해 봅니다.\n",
    "- 결과물은 print()를 이용해서 출력해 합니다."
   ]
  },
  {
   "cell_type": "markdown",
   "id": "6dc5943e",
   "metadata": {},
   "source": [
    "## 아래 문제를 읽고 적절한 코드를 작성합니다.\n"
   ]
  },
  {
   "cell_type": "markdown",
   "id": "7c48fdcd",
   "metadata": {},
   "source": [
    "### 아래 표에서 음식이름을 key로, 가격을 value으로 하는 dictionary를 만드시오.(변수 명 : foods)\n",
    "\n",
    "| 이름 | 가격 |\n",
    "|:---:|:---|\n",
    "| 떡볶이 | 5000 | \n",
    "| 라면 | 3000 |\n",
    "| 순대 | 3500 |\n",
    "\n",
    "> 출력결과 : {'떡볶이': 5000, '라면': 3000, '순대': 3500}"
   ]
  },
  {
   "cell_type": "code",
   "execution_count": null,
   "id": "a84e8a00",
   "metadata": {},
   "outputs": [],
   "source": []
  },
  {
   "cell_type": "markdown",
   "id": "a94c9d74",
   "metadata": {},
   "source": [
    "### 다음 음식정보를 추가하시오\n",
    "\n",
    "| 이름 | 가격 |\n",
    "|:---:|:---|\n",
    "| 튀김 | 3000 | \n",
    "| 김밥 | 4000 |\n",
    "\n",
    "> 출력결과 : {'떡볶이': 5000, '라면': 3000, '순대': 3500, '튀김': 3000, '김밥': 4000}"
   ]
  },
  {
   "cell_type": "code",
   "execution_count": null,
   "id": "e5c47446",
   "metadata": {},
   "outputs": [],
   "source": []
  },
  {
   "cell_type": "markdown",
   "id": "30056762",
   "metadata": {},
   "source": [
    "### 라면의 가격을 3500으로 수정하시오\n",
    "> 출력결과 : {'떡볶이': 5000, '라면': 3500, '순대': 3500, '튀김': 3000, '김밥': 4000}"
   ]
  },
  {
   "cell_type": "code",
   "execution_count": null,
   "id": "6cedff58",
   "metadata": {},
   "outputs": [],
   "source": []
  },
  {
   "cell_type": "markdown",
   "id": "cf2b72d2",
   "metadata": {},
   "source": [
    "### 튀김을 삭제하시오.\n",
    "> 출력결과 : {'떡볶이': 5000, '라면': 3500, '순대': 3500, '김밥': 4000}"
   ]
  },
  {
   "cell_type": "code",
   "execution_count": null,
   "id": "23603ab2",
   "metadata": {},
   "outputs": [],
   "source": []
  },
  {
   "cell_type": "markdown",
   "id": "9f5a5835",
   "metadata": {},
   "source": [
    "### 다음 코드는 에러가 발생한다. 그 원인은?\n",
    "- 원인 : "
   ]
  },
  {
   "cell_type": "code",
   "execution_count": null,
   "id": "da5a2f45",
   "metadata": {},
   "outputs": [],
   "source": [
    "icecream = {'폴라포': 1200, '빵빠레': 1800, '월드콘': 1500, '메로나': 1000}\n",
    "icecream['누가바']\n"
   ]
  },
  {
   "cell_type": "markdown",
   "id": "f427902a",
   "metadata": {},
   "source": [
    "## 아래 문제를 읽고 적절한 코드를 작성합니다."
   ]
  },
  {
   "cell_type": "markdown",
   "id": "0345f40d",
   "metadata": {},
   "source": [
    "### 아래 표에서 차량명을 키값으로, [가격, 판매량] 리스트를 dictionary의 value로 가지는 dictionary를 구성하시오.   (변수명 : cars)\n",
    "\n",
    "\n",
    "| 차량명| 가격 | 판매량 |\n",
    "|:---:|---:|---:| \n",
    "| niro | 3000 | 500 |\n",
    "| kona | 2500 | 400 |\n",
    "| k3 | 2000 | 300 |\n",
    "> 출력결과 : {'niro': [3000, 500], 'kona': [2500, 400], 'k3': [2000, 300]}"
   ]
  },
  {
   "cell_type": "code",
   "execution_count": null,
   "id": "83e10e27",
   "metadata": {},
   "outputs": [],
   "source": []
  },
  {
   "cell_type": "markdown",
   "id": "e872e928",
   "metadata": {},
   "source": [
    "### cars에서 k3의 가격을 화면에 출력하시오. \n",
    "> 출력결과 : 2000만원"
   ]
  },
  {
   "cell_type": "code",
   "execution_count": null,
   "id": "c5a08299",
   "metadata": {},
   "outputs": [],
   "source": []
  },
  {
   "cell_type": "markdown",
   "id": "c9c4b01f",
   "metadata": {},
   "source": [
    "2.3 niro의 판매량을 출력하시오. \n",
    "> 출력결과 : 500대"
   ]
  },
  {
   "cell_type": "code",
   "execution_count": null,
   "id": "d37c7403",
   "metadata": {},
   "outputs": [],
   "source": []
  },
  {
   "cell_type": "markdown",
   "id": "abdba34b",
   "metadata": {},
   "source": [
    "### cars에 아래 데이터를 추가하시오\n",
    "\n",
    "| 차량명| 가격 | 판매량 |\n",
    "|:---:|---:|---:| \n",
    "| ionic | 5000 | 670 |\n",
    "> 출력결과 : {'niro': [3000, 500], 'kona': [2500, 400], 'k3': [2000, 300], 'ionic': [5000, 670]}"
   ]
  },
  {
   "cell_type": "code",
   "execution_count": null,
   "id": "4f4a5095",
   "metadata": {},
   "outputs": [],
   "source": []
  },
  {
   "cell_type": "markdown",
   "id": "87bf2e8c",
   "metadata": {},
   "source": [
    "### cars 에서 key값으로만 구성된 리스트를 생성하시오\n",
    "> 출력결과 : ['niro', 'kona', 'k3', 'ionic']"
   ]
  },
  {
   "cell_type": "code",
   "execution_count": null,
   "id": "c9c7ee44",
   "metadata": {},
   "outputs": [],
   "source": []
  },
  {
   "cell_type": "markdown",
   "id": "e6edc0fe",
   "metadata": {},
   "source": [
    "### 아래의 new_car 딕셔너리를 cars 딕셔너리에 추가하시오.(update 사용)\n",
    "> 출력결과 : {'niro': [3000, 500], 'kona': [2500, 400], 'k3': [1900, 250], 'ionic': [5000, 670], 'morning': [800, 100]}"
   ]
  },
  {
   "cell_type": "code",
   "execution_count": null,
   "id": "a1f15297",
   "metadata": {},
   "outputs": [],
   "source": []
  }
 ],
 "metadata": {
  "kernelspec": {
   "display_name": "Python 3 (ipykernel)",
   "language": "python",
   "name": "python3"
  },
  "language_info": {
   "codemirror_mode": {
    "name": "ipython",
    "version": 3
   },
   "file_extension": ".py",
   "mimetype": "text/x-python",
   "name": "python",
   "nbconvert_exporter": "python",
   "pygments_lexer": "ipython3",
   "version": "3.9.12"
  },
  "toc": {
   "base_numbering": 1,
   "nav_menu": {},
   "number_sections": true,
   "sideBar": true,
   "skip_h1_title": false,
   "title_cell": "Table of Contents",
   "title_sidebar": "Contents",
   "toc_cell": false,
   "toc_position": {},
   "toc_section_display": true,
   "toc_window_display": true
  }
 },
 "nbformat": 4,
 "nbformat_minor": 5
}
