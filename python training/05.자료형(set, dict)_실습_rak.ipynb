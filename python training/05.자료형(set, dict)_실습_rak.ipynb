{
 "cells": [
  {
   "cell_type": "markdown",
   "id": "15bf8a63",
   "metadata": {},
   "source": [
    "# 집합(set)\n",
    "\n",
    "- 집합(set)은 파이썬 2.3부터 지원하기 시작한 자료형으로, 집합에 관련된 것을 쉽게 처리하기 위해 만든 자료형이다.\n",
    "- 공집합을 생성할 때는 **반드시 set()** 으로 생성해야 한다. **{}로 생성하면 빈 dictionary가 생성**된다.\n",
    "    - {1, 2, 3} -> set\n",
    "    - {'a':1, 'b':2} -> dictionary\n",
    "- 집합의 연산자인 교집합, 합집합, 차집합을 모두 지원한다.\n",
    "- set의 특징이 2가지 있는데, 이 특징이 리스트와의 차이점이라 사용한다. 첫번째 특징이 set 자료형을 사용하는 주된 이유이다.    \n",
    "1) set은 **중복을 허용하지 않는다.** 즉, **원소의 종류**를 나타내기 좋다.   \n",
    "2) set은 **순서가 존재하지 않는다.** 즉, index가 없다."
   ]
  },
  {
   "cell_type": "code",
   "execution_count": 11,
   "id": "99220f58",
   "metadata": {},
   "outputs": [
    {
     "name": "stdout",
     "output_type": "stream",
     "text": [
      "{1, 2, 3} <class 'set'>\n"
     ]
    }
   ],
   "source": [
    "\n",
    "# 1, 2, 3을 원소로 가지는 집합\n",
    "my_set={1,2,3}\n",
    "print(my_set, type(my_set))"
   ]
  },
  {
   "cell_type": "code",
   "execution_count": 1,
   "metadata": {},
   "outputs": [],
   "source": [
    "# 공집합 만들기\n",
    "myset1=set ()\n",
    "myset2=set () \n"
   ]
  },
  {
   "cell_type": "code",
   "execution_count": 7,
   "id": "2b515e11",
   "metadata": {},
   "outputs": [
    {
     "name": "stdout",
     "output_type": "stream",
     "text": [
      "{1, 2, 3, 4, 5, 6, 7, 8, 9, 10}\n"
     ]
    }
   ],
   "source": [
    "# set은 중복을 허용하지 않는다\n",
    "my_set={1,2,2,2,2,2,2,2,3,4,5,6,7,8,9,10}\n",
    "print(my_set)"
   ]
  },
  {
   "cell_type": "code",
   "execution_count": 4,
   "id": "5c37503f",
   "metadata": {},
   "outputs": [
    {
     "ename": "NameError",
     "evalue": "name 'my_set' is not defined",
     "output_type": "error",
     "traceback": [
      "\u001b[1;31m---------------------------------------------------------------------------\u001b[0m",
      "\u001b[1;31mNameError\u001b[0m                                 Traceback (most recent call last)",
      "\u001b[1;32mf:\\gorororo\\PYTHONSTUDY\\python training\\05.자료형(set, dict)_실습_rak.ipynb Cell 5'\u001b[0m in \u001b[0;36m<cell line: 3>\u001b[1;34m()\u001b[0m\n\u001b[0;32m      <a href='vscode-notebook-cell:/f%3A/gorororo/PYTHONSTUDY/python%20training/05.%EC%9E%90%EB%A3%8C%ED%98%95%28set%2C%20dict%29_%EC%8B%A4%EC%8A%B5_rak.ipynb#ch0000004?line=0'>1</a>\u001b[0m \u001b[39m# set은 순서가 존재하지 않는다.\u001b[39;00m\n\u001b[0;32m      <a href='vscode-notebook-cell:/f%3A/gorororo/PYTHONSTUDY/python%20training/05.%EC%9E%90%EB%A3%8C%ED%98%95%28set%2C%20dict%29_%EC%8B%A4%EC%8A%B5_rak.ipynb#ch0000004?line=1'>2</a>\u001b[0m \u001b[39m# 인덱스가 없다\u001b[39;00m\n\u001b[1;32m----> <a href='vscode-notebook-cell:/f%3A/gorororo/PYTHONSTUDY/python%20training/05.%EC%9E%90%EB%A3%8C%ED%98%95%28set%2C%20dict%29_%EC%8B%A4%EC%8A%B5_rak.ipynb#ch0000004?line=2'>3</a>\u001b[0m my_set[\u001b[39m0\u001b[39m]\n\u001b[0;32m      <a href='vscode-notebook-cell:/f%3A/gorororo/PYTHONSTUDY/python%20training/05.%EC%9E%90%EB%A3%8C%ED%98%95%28set%2C%20dict%29_%EC%8B%A4%EC%8A%B5_rak.ipynb#ch0000004?line=3'>4</a>\u001b[0m \u001b[39mprint\u001b[39m(my_set)\n",
      "\u001b[1;31mNameError\u001b[0m: name 'my_set' is not defined"
     ]
    }
   ],
   "source": [
    "# set은 순서가 존재하지 않는다.\n",
    "# 인덱스가 없다\n",
    "my_set[0]\n",
    "print(my_set)"
   ]
  },
  {
   "cell_type": "markdown",
   "id": "0205d500",
   "metadata": {},
   "source": [
    "## set의 연산\n",
    "- 교집합, 합집합, 차집합 등 지원"
   ]
  },
  {
   "cell_type": "code",
   "execution_count": 13,
   "id": "0050bf18",
   "metadata": {},
   "outputs": [
    {
     "name": "stdout",
     "output_type": "stream",
     "text": [
      "{1, 2, 3, 4, 5, 6, 7}\n",
      "{3, 4, 5}\n",
      "{1, 2}\n"
     ]
    }
   ],
   "source": [
    "s1 = {1, 2, 3, 4, 5}\n",
    "s2 = {3, 4, 5, 6, 7}\n",
    "\n",
    "print(s1.union(s2)) # 합집합\n",
    "print(s1.intersection(s2))# 교집합\n",
    "print(s1.difference(s2)) # 차집합\n",
    "\n"
   ]
  },
  {
   "cell_type": "markdown",
   "id": "1f004df7",
   "metadata": {},
   "source": [
    "## 집합 관련 함수"
   ]
  },
  {
   "cell_type": "markdown",
   "id": "0bf8859c",
   "metadata": {},
   "source": [
    "### 집합에 원소 하나 추가하기 add()"
   ]
  },
  {
   "cell_type": "code",
   "execution_count": 15,
   "id": "341db49e",
   "metadata": {},
   "outputs": [
    {
     "name": "stdout",
     "output_type": "stream",
     "text": [
      "{1, 2, 3, 4, 5, 9}\n"
     ]
    }
   ],
   "source": [
    "s1.add(9)\n",
    "print(s1)"
   ]
  },
  {
   "cell_type": "markdown",
   "id": "65cc44d9",
   "metadata": {},
   "source": [
    "### 집합에 여러 원소 추가하기 update({})"
   ]
  },
  {
   "cell_type": "code",
   "execution_count": 17,
   "id": "bedefc35",
   "metadata": {},
   "outputs": [
    {
     "name": "stdout",
     "output_type": "stream",
     "text": [
      "{1, 2, 3, 6, 9}\n"
     ]
    }
   ],
   "source": [
    "s = {1, 2, 3}\n",
    "s.update ({3,6,9})\n",
    "print(s)"
   ]
  },
  {
   "cell_type": "markdown",
   "id": "dc263d65",
   "metadata": {},
   "source": [
    "### 집합에서 원소 제거하기 remove()"
   ]
  },
  {
   "cell_type": "code",
   "execution_count": 22,
   "id": "21be3157",
   "metadata": {},
   "outputs": [
    {
     "name": "stdout",
     "output_type": "stream",
     "text": [
      "{1, 2}\n"
     ]
    }
   ],
   "source": [
    "s = {1, 2, 3}\n",
    "s.remove (3)\n",
    "print(s)"
   ]
  },
  {
   "cell_type": "markdown",
   "id": "e7a9fd89",
   "metadata": {},
   "source": [
    "# Dictionary\n",
    "\n",
    "\n",
    "**파이썬에서 리스트와 함께 굉장히 많이 사용되는 구조.**\n",
    "- key - value 방법을 통해 저장한다.\n",
    "\n",
    "| 자료형 | <center>의미</center> | 가리키는 위치 | 선언형식 |\n",
    "|:---:|:---|:---:|:---:|\n",
    "| list | 인덱스를 기반으로 값을 저장 | 인덱스 | a = [ ] |\n",
    "| dictionary | 키를 기반으로 값을 저장 | 키 | a = { } |\n",
    "\n",
    "\n",
    "- dictionary를 표현할 때는 **{key : value, key2 : value2, ... }** 형태로 표현한다.\n",
    "- dict_a = {'Korea' : 'Seoul', 'Japan' : 'Tokyo', 'Chana' : 'Beijing'}\n",
    "- 순서를 따지지 않음. 즉, 인덱스가 없음\n",
    "- **key : immutable / value : mutable**\n",
    "- 파이썬에서 가장 자주쓰는 데이터 형 중 하나"
   ]
  },
  {
   "cell_type": "markdown",
   "id": "3d6b1103",
   "metadata": {},
   "source": [
    "## dictionary 기본사용법"
   ]
  },
  {
   "cell_type": "markdown",
   "id": "742255f2",
   "metadata": {},
   "source": [
    "### dictionary 생성"
   ]
  },
  {
   "cell_type": "code",
   "execution_count": 25,
   "id": "381fb418",
   "metadata": {},
   "outputs": [
    {
     "data": {
      "text/plain": [
       "dict"
      ]
     },
     "execution_count": 25,
     "metadata": {},
     "output_type": "execute_result"
    }
   ],
   "source": [
    "dict_a = {'Korea' : 'Seoul', \n",
    "          'Japan' : 'Tokyo', \n",
    "          'China' : 'Beijing'}\n",
    "type(dict_a)"
   ]
  },
  {
   "cell_type": "markdown",
   "id": "c2df51bd",
   "metadata": {},
   "source": [
    "### dictionary 쌍 추가"
   ]
  },
  {
   "cell_type": "code",
   "execution_count": 31,
   "id": "345fc667",
   "metadata": {},
   "outputs": [
    {
     "name": "stdout",
     "output_type": "stream",
     "text": [
      "{'Korea': 'Seoul', 'Japan': 'Tokyo', 'China': 'Beijing', 'india': 'newDelhi'}\n"
     ]
    }
   ],
   "source": [
    "dict_a = {'Korea' : 'Seoul', \n",
    "          'Japan' : 'Tokyo', \n",
    "          'China' : 'Beijing'}\n",
    "dict_a['india'] = 'newDelhi'\n",
    "print(dict_a)"
   ]
  },
  {
   "cell_type": "markdown",
   "id": "143e122c",
   "metadata": {},
   "source": [
    "### dictionary 쌍 삭제 : del"
   ]
  },
  {
   "cell_type": "code",
   "execution_count": 32,
   "id": "5a4b1bcd",
   "metadata": {},
   "outputs": [
    {
     "name": "stdout",
     "output_type": "stream",
     "text": [
      "{'Korea': 'Seoul', 'China': 'Beijing', 'india': 'newDelhi'}\n"
     ]
    }
   ],
   "source": [
    "dict_a = {'Korea' : 'Seoul', \n",
    "          'Japan' : 'Tokyo', \n",
    "          'China' : 'Beijing'}\n",
    "dict_a['india'] = 'newDelhi'\n",
    "del dict_a['Japan']\n",
    "print(dict_a)"
   ]
  },
  {
   "cell_type": "markdown",
   "id": "03d90f1c",
   "metadata": {},
   "source": [
    "### dictionary 접근"
   ]
  },
  {
   "cell_type": "code",
   "execution_count": 34,
   "id": "a99899e7",
   "metadata": {},
   "outputs": [
    {
     "name": "stdout",
     "output_type": "stream",
     "text": [
      "Beijing\n"
     ]
    }
   ],
   "source": [
    "print (dict_a['China'])"
   ]
  },
  {
   "cell_type": "code",
   "execution_count": 36,
   "id": "9e5c4d17",
   "metadata": {},
   "outputs": [
    {
     "data": {
      "text/plain": [
       "6"
      ]
     },
     "execution_count": 36,
     "metadata": {},
     "output_type": "execute_result"
    }
   ],
   "source": [
    "dict_c = { 0 : 1, 1: 6, 7 : 9, 8 : 9}\n",
    "dict_c[0]\n",
    "# dict_c[6] 키값으로 접근하기 때문에 벨류값으로 접근하려면 오류가 난다."
   ]
  },
  {
   "cell_type": "code",
   "execution_count": 37,
   "id": "c5f06d4c",
   "metadata": {},
   "outputs": [
    {
     "data": {
      "text/plain": [
       "{'a': 2, 'b': 3}"
      ]
     },
     "execution_count": 37,
     "metadata": {},
     "output_type": "execute_result"
    }
   ],
   "source": [
    "dict_b = {'a' : 1 , 'a' : 2, 'b': 3} #키가 같으면 후에 실행된게 덮어씌워진다.\n",
    "dict_b"
   ]
  },
  {
   "cell_type": "markdown",
   "id": "b562c562",
   "metadata": {},
   "source": [
    "### dictionary 수정\n",
    "- dict.update(수정할 dict)"
   ]
  },
  {
   "cell_type": "code",
   "execution_count": 70,
   "id": "183ba49b",
   "metadata": {},
   "outputs": [
    {
     "name": "stdout",
     "output_type": "stream",
     "text": [
      "{'Korea': 'Busan', 'China': 'Beijing', 'india': 'newDelhi'}\n"
     ]
    }
   ],
   "source": [
    "dict_a ['Korea']='Busan' #벨류값은 이렇게 바꾼다\n",
    "print(dict_a)"
   ]
  },
  {
   "cell_type": "code",
   "execution_count": 66,
   "id": "5296b9f3",
   "metadata": {},
   "outputs": [
    {
     "name": "stdout",
     "output_type": "stream",
     "text": [
      "{'a': 0, 'b': 6, 'c': 9, 'd': 9}\n",
      "{'a': 2, 'b': 3, 'c': 4, 'd': 5}\n"
     ]
    }
   ],
   "source": [
    "dict_b = { 'a' : 1, 'b': 6, 'c' : 9, 'd' : 9}\n",
    "dict_b['a'] = 0\n",
    "print(dict_b)\n",
    "\n",
    "dict_b.update({'a':2,'b':3,'c':4,'d':5})\n",
    "print(dict_b)"
   ]
  },
  {
   "cell_type": "code",
   "execution_count": 67,
   "id": "1ec31e87",
   "metadata": {},
   "outputs": [
    {
     "name": "stdout",
     "output_type": "stream",
     "text": [
      "{'a': 2, 'b': 3, 'c': 4, 'd': 5, 'e': 5}\n"
     ]
    }
   ],
   "source": [
    "dict_b.update({'a':2,'b':3,'c':4,'e':5}) #key 값이 똑같으면 덮어씌우고 다르면 추가 한다\n",
    "\n",
    "print(dict_b)"
   ]
  },
  {
   "cell_type": "code",
   "execution_count": 86,
   "id": "b7469449",
   "metadata": {},
   "outputs": [
    {
     "name": "stdout",
     "output_type": "stream",
     "text": [
      "{'name': '방탄소년단', 'member': 7, '데뷔곡': '데인저', '대표곡': ['IDOL', '봄날', '불타오르네', 'Dynamite', 'Butter']}\n",
      "**************************************** \n",
      "\n",
      "test\n",
      "name: BTS\n",
      "**************************************** \n",
      "\n",
      "{'name': 'BTS', 'member': 3, '데뷔곡': '데인저', '대표곡': ['IDOL', '봄날', '불타오르네', 'Dynamite', 'Butter'], 'reader': 'RM'}\n",
      "**************************************** \n",
      "\n",
      "['IDOL', '봄날', '불타오르네', 'Dynamite', 'Butter']\n",
      "IDOL\n"
     ]
    }
   ],
   "source": [
    "singer = {\n",
    "    'name' : '방탄소년단',\n",
    "    'member' : 7,\n",
    "    '데뷔곡' : '데인저',\n",
    "    '대표곡' : ['IDOL','봄날','불타오르네','Dynamite','Butter'] #딕셔너리는 벨류값에 리스트나 튜플도 넣을수도 있다.\n",
    "    \n",
    "}\n",
    "print(singer)\n",
    "print('*'*40,'\\n')\n",
    "print('test')\n",
    "\n",
    "singer['name']='BTS'\n",
    "print(f'name: {singer[\"name\"]}')\n",
    "print('*'*40,'\\n')\n",
    "\n",
    "singer.update({'member':3,'reader':'RM'})\n",
    "print(singer)\n",
    "print('*'*40,'\\n')\n",
    "\n",
    "print(singer['대표곡'])\n",
    "print(singer['대표곡'][0])"
   ]
  },
  {
   "cell_type": "markdown",
   "id": "a0470126",
   "metadata": {},
   "source": [
    "> **TIP** dictionary를 만들 때 key는 중복이 있으면 절대 안된다."
   ]
  },
  {
   "cell_type": "markdown",
   "id": "db32840d",
   "metadata": {},
   "source": [
    "## dictionary 관련 함수"
   ]
  },
  {
   "cell_type": "markdown",
   "id": "7fec90b0",
   "metadata": {},
   "source": [
    "### dictionary의 모든 key값들 보기 keys()"
   ]
  },
  {
   "cell_type": "code",
   "execution_count": 97,
   "id": "94aa94cc",
   "metadata": {},
   "outputs": [
    {
     "name": "stdout",
     "output_type": "stream",
     "text": [
      "dict_keys(['name', 'member', '데뷔곡', '대표곡']) <class 'dict_keys'>\n",
      "['name', 'member', '데뷔곡', '대표곡'] <class 'list'>\n"
     ]
    }
   ],
   "source": [
    "singer = {\n",
    "    'name' : '방탄소년단',\n",
    "    'member' : 7,\n",
    "    '데뷔곡' : '데인저',\n",
    "    '대표곡' : ['IDOL','봄날','불타오르네','Dynamite','Butter']\n",
    "    }\n",
    "a = singer.keys()\n",
    "print(a,type(a))\n",
    "\n",
    "a = list(a)\n",
    "print(a, type(a))"
   ]
  },
  {
   "cell_type": "markdown",
   "id": "351f0575",
   "metadata": {},
   "source": [
    "### dictionary의 모든 value들 보기 values()"
   ]
  },
  {
   "cell_type": "code",
   "execution_count": 98,
   "id": "ffa8bcfc",
   "metadata": {},
   "outputs": [
    {
     "name": "stdout",
     "output_type": "stream",
     "text": [
      "dict_values(['방탄소년단', 7, '데인저', ['IDOL', '봄날', '불타오르네', 'Dynamite', 'Butter']]) <class 'dict_values'>\n",
      "['방탄소년단', 7, '데인저', ['IDOL', '봄날', '불타오르네', 'Dynamite', 'Butter']] <class 'list'>\n"
     ]
    }
   ],
   "source": [
    "b = singer.values()\n",
    "print(a,type(b))\n",
    "\n",
    "b = list(b)\n",
    "print(a, type(b))"
   ]
  },
  {
   "cell_type": "markdown",
   "id": "401610f5",
   "metadata": {},
   "source": [
    "### dictionary의 모든 key, value 쌍 보기 items()"
   ]
  },
  {
   "cell_type": "code",
   "execution_count": 107,
   "id": "80874e7a",
   "metadata": {},
   "outputs": [
    {
     "name": "stdout",
     "output_type": "stream",
     "text": [
      "dict_items([('name', '방탄소년단'), ('member', 7), ('데뷔곡', '데인저'), ('대표곡', ['IDOL', '봄날', '불타오르네', 'Dynamite', 'Butter'])]) <class 'dict_items'>\n",
      "\n",
      "**************************************** \n",
      "\n",
      "[('name', '방탄소년단'), ('member', 7), ('데뷔곡', '데인저'), ('대표곡', ['IDOL', '봄날', '불타오르네', 'Dynamite', 'Butter'])] <class 'list'>\n"
     ]
    }
   ],
   "source": [
    "singer = {\n",
    "    'name' : '방탄소년단',\n",
    "    'member' : 7,\n",
    "    '데뷔곡' : '데인저',\n",
    "    '대표곡' : ['IDOL','봄날','불타오르네','Dynamite','Butter']\n",
    "    }\n",
    "c= singer.items()\n",
    "print(c,type(c))\n",
    "print()\n",
    "print('*'*40,'\\n')\n",
    "c=list(c)\n",
    "print(c,type(c))"
   ]
  },
  {
   "cell_type": "markdown",
   "id": "9a802cbc",
   "metadata": {},
   "source": [
    "### key:value 모두 지우기 : clear()"
   ]
  },
  {
   "cell_type": "code",
   "execution_count": 101,
   "id": "6e03bc01",
   "metadata": {},
   "outputs": [
    {
     "name": "stdout",
     "output_type": "stream",
     "text": [
      "None\n"
     ]
    }
   ],
   "source": [
    "a = singer.clear()\n",
    "print(a)"
   ]
  },
  {
   "cell_type": "markdown",
   "id": "aa33c684",
   "metadata": {},
   "source": [
    "### dictionary의 원소 가져오기 get() : key로 value 구하기"
   ]
  },
  {
   "cell_type": "code",
   "execution_count": 111,
   "id": "567f3adf",
   "metadata": {},
   "outputs": [
    {
     "name": "stdout",
     "output_type": "stream",
     "text": [
      "None\n"
     ]
    }
   ],
   "source": [
    "singer = {\n",
    "    'name' : 'BTS',\n",
    "    'member' : 7,\n",
    "    '데뷔곡' : '데인저',\n",
    "    '대표곡' : ['IDOL','봄날','불타오르네','Dynamite','Butter']\n",
    "}\n",
    "# print(singer.get('name'))\n",
    "# print(singer['name'])\n",
    "\n",
    "print(singer.get('reader')) #겟으로 접근하면 없는 키값은 없다고 표시해준다.\n",
    "# print(singer['reader']) 하지만 없는키값 을 이용해서 키값으로 찾을려고 하면 에러가 난다."
   ]
  },
  {
   "cell_type": "markdown",
   "id": "bce03f10",
   "metadata": {},
   "source": [
    "- dict.get(key, **default**)"
   ]
  },
  {
   "cell_type": "code",
   "execution_count": 144,
   "id": "edf1d6a7",
   "metadata": {},
   "outputs": [
    {
     "name": "stdout",
     "output_type": "stream",
     "text": [
      "빅히트\n",
      "RM\n"
     ]
    }
   ],
   "source": [
    "singer['Company']='빅히트'\n",
    "# print(singer)\n",
    "\n",
    "a = singer.get('Company','SM') #빅히트 가 벨류값에 있으니까 SM은 출력되지 않는다.\n",
    "print(a)\n",
    "\n",
    "b = singer.get('Reader','RM')\n",
    "print(b)"
   ]
  },
  {
   "cell_type": "markdown",
   "id": "75d75645",
   "metadata": {},
   "source": [
    "### dictionary에 해당 key값이 존재하는지 확인하기 in\n",
    "- in이라는 operator는 dictionary뿐만 아니라 모든 연속형 데이터 타입(리스트, 튜플, 문자열, 딕셔너리)에 사용할 수 있다.\n",
    "- dictionary의 경우에는 key를 대상으로 하고, 리스트, 튜플, 집합, 문자열에 대해서는 해당 원소가 존재하는지 찾아서 True / False 를 알려준다."
   ]
  },
  {
   "cell_type": "code",
   "execution_count": 153,
   "id": "9c8faa05",
   "metadata": {},
   "outputs": [
    {
     "data": {
      "text/plain": [
       "True"
      ]
     },
     "execution_count": 153,
     "metadata": {},
     "output_type": "execute_result"
    }
   ],
   "source": [
    "'name' in singer"
   ]
  },
  {
   "cell_type": "code",
   "execution_count": 154,
   "id": "3574598a",
   "metadata": {
    "scrolled": true
   },
   "outputs": [
    {
     "data": {
      "text/plain": [
       "False"
      ]
     },
     "execution_count": 154,
     "metadata": {},
     "output_type": "execute_result"
    }
   ],
   "source": [
    "'ranking' in singer"
   ]
  },
  {
   "cell_type": "code",
   "execution_count": 155,
   "id": "be707030",
   "metadata": {},
   "outputs": [
    {
     "data": {
      "text/plain": [
       "True"
      ]
     },
     "execution_count": 155,
     "metadata": {},
     "output_type": "execute_result"
    }
   ],
   "source": [
    "'ranking' not in singer"
   ]
  },
  {
   "cell_type": "markdown",
   "id": "ed7390ab",
   "metadata": {},
   "source": [
    "# 연습문제\n",
    "- 문제를 해결하면서 dictionary의 개념을 정리해 봅니다.\n",
    "- 결과물은 print()를 이용해서 출력해 합니다."
   ]
  },
  {
   "cell_type": "markdown",
   "id": "6dc5943e",
   "metadata": {},
   "source": [
    "## 아래 문제를 읽고 적절한 코드를 작성합니다.\n"
   ]
  },
  {
   "cell_type": "markdown",
   "id": "7c48fdcd",
   "metadata": {},
   "source": [
    "### 아래 표에서 음식이름을 key로, 가격을 value으로 하는 dictionary를 만드시오.(변수 명 : foods)\n",
    "\n",
    "| 이름 | 가격 |\n",
    "|:---:|:---|\n",
    "| 떡볶이 | 5000 | \n",
    "| 라면 | 3000 |\n",
    "| 순대 | 3500 |\n",
    "\n",
    "> 출력결과 : {'떡볶이': 5000, '라면': 3000, '순대': 3500}"
   ]
  },
  {
   "cell_type": "code",
   "execution_count": 112,
   "id": "a84e8a00",
   "metadata": {},
   "outputs": [
    {
     "name": "stdout",
     "output_type": "stream",
     "text": [
      "{'떡볶이': 5000, '라면': 3000, '순대': 3500}\n"
     ]
    }
   ],
   "source": [
    "foods = {'떡볶이' : 5000 ,\n",
    "        '라면' : 3000,\n",
    "        '순대' : 3500\n",
    "        }\n",
    "print(foods)"
   ]
  },
  {
   "cell_type": "markdown",
   "id": "a94c9d74",
   "metadata": {},
   "source": [
    "### 다음 음식정보를 추가하시오\n",
    "\n",
    "| 이름 | 가격 |\n",
    "|:---:|:---|\n",
    "| 튀김 | 3000 | \n",
    "| 김밥 | 4000 |\n",
    "\n",
    "> 출력결과 : {'떡볶이': 5000, '라면': 3000, '순대': 3500, '튀김': 3000, '김밥': 4000}"
   ]
  },
  {
   "cell_type": "code",
   "execution_count": 116,
   "id": "e5c47446",
   "metadata": {},
   "outputs": [
    {
     "name": "stdout",
     "output_type": "stream",
     "text": [
      "{'떡볶이': 5000, '라면': 3000, '순대': 3500, '튀김': 3000, '김밥': 4000}\n"
     ]
    }
   ],
   "source": [
    "foods['튀김'] = 3000 \n",
    "foods['김밥'] = 4000\n",
    "print(foods)"
   ]
  },
  {
   "cell_type": "markdown",
   "id": "30056762",
   "metadata": {},
   "source": [
    "### 라면의 가격을 3500으로 수정하시오\n",
    "> 출력결과 : {'떡볶이': 5000, '라면': 3500, '순대': 3500, '튀김': 3000, '김밥': 4000}"
   ]
  },
  {
   "cell_type": "code",
   "execution_count": 118,
   "id": "6cedff58",
   "metadata": {},
   "outputs": [
    {
     "name": "stdout",
     "output_type": "stream",
     "text": [
      "{'떡볶이': 5000, '라면': 3500, '순대': 3500, '튀김': 3000, '김밥': 4000}\n"
     ]
    }
   ],
   "source": [
    "foods['라면'] = 3500\n",
    "print(foods)"
   ]
  },
  {
   "cell_type": "markdown",
   "id": "cf2b72d2",
   "metadata": {},
   "source": [
    "### 튀김을 삭제하시오.\n",
    "> 출력결과 : {'떡볶이': 5000, '라면': 3500, '순대': 3500, '김밥': 4000}"
   ]
  },
  {
   "cell_type": "code",
   "execution_count": 119,
   "id": "23603ab2",
   "metadata": {},
   "outputs": [
    {
     "name": "stdout",
     "output_type": "stream",
     "text": [
      "{'떡볶이': 5000, '라면': 3500, '순대': 3500, '김밥': 4000}\n"
     ]
    }
   ],
   "source": [
    "del foods['튀김']\n",
    "print(foods)"
   ]
  },
  {
   "cell_type": "markdown",
   "id": "9f5a5835",
   "metadata": {},
   "source": [
    "### 다음 코드는 에러가 발생한다. 그 원인은?\n",
    "- 원인 : "
   ]
  },
  {
   "cell_type": "code",
   "execution_count": null,
   "id": "da5a2f45",
   "metadata": {},
   "outputs": [],
   "source": [
    "icecream = {'폴라포': 1200, '빵빠레': 1800, '월드콘': 1500, '메로나': 1000}\n",
    "icecream['누가바']\n",
    "#원인 : 키값으로 찾을려고 했지만 누가바 라는 키가 없다"
   ]
  },
  {
   "cell_type": "markdown",
   "id": "f427902a",
   "metadata": {},
   "source": [
    "## 아래 문제를 읽고 적절한 코드를 작성합니다."
   ]
  },
  {
   "cell_type": "markdown",
   "id": "0345f40d",
   "metadata": {},
   "source": [
    "### 아래 표에서 차량명을 키값으로, [가격, 판매량] 리스트를 dictionary의 value로 가지는 dictionary를 구성하시오.   (변수명 : cars)\n",
    "\n",
    "\n",
    "| 차량명| 가격 | 판매량 |\n",
    "|:---:|---:|---:| \n",
    "| niro | 3000 | 500 |\n",
    "| kona | 2500 | 400 |\n",
    "| k3 | 2000 | 300 |\n",
    "> 출력결과 : {'niro': [3000, 500], 'kona': [2500, 400], 'k3': [2000, 300]}"
   ]
  },
  {
   "cell_type": "code",
   "execution_count": 120,
   "id": "83e10e27",
   "metadata": {},
   "outputs": [
    {
     "name": "stdout",
     "output_type": "stream",
     "text": [
      "{'niro': [3000, 500], 'kona': [2500, 400], 'k3': [2000, 300]}\n"
     ]
    }
   ],
   "source": [
    "cars = {'niro' : [3000,500],'kona' :[2500,400],'k3' : [2000,300]}\n",
    "print(cars)"
   ]
  },
  {
   "cell_type": "markdown",
   "id": "e872e928",
   "metadata": {},
   "source": [
    "### cars에서 k3의 가격을 화면에 출력하시오. \n",
    "> 출력결과 : 2000만원"
   ]
  },
  {
   "cell_type": "code",
   "execution_count": 225,
   "id": "c5a08299",
   "metadata": {},
   "outputs": [
    {
     "name": "stdout",
     "output_type": "stream",
     "text": [
      "2000만원\n"
     ]
    }
   ],
   "source": [
    "cars = {'niro' : [3000,500],'kona' :[2500,400],'k3' : [2000,300]}\n",
    "# k3 = cars['k3'][0]\n",
    "# money = '만원'\n",
    "# print ((k3),f'{money}')\n",
    "# print(cars['k3'][0],\"만원\",sep='')\n",
    "print(f'{cars[\"k3\"][0]}만원')\n"
   ]
  },
  {
   "cell_type": "markdown",
   "id": "c9c4b01f",
   "metadata": {},
   "source": [
    "2.3 niro의 판매량을 출력하시오. \n",
    "> 출력결과 : 500대"
   ]
  },
  {
   "cell_type": "code",
   "execution_count": 229,
   "id": "d37c7403",
   "metadata": {},
   "outputs": [
    {
     "name": "stdout",
     "output_type": "stream",
     "text": [
      "500대\n"
     ]
    }
   ],
   "source": [
    "niro =cars['niro'][1]\n",
    "cha = '대'\n",
    "# print ((niro),f'{cha}',sep='')\n",
    "# print(f'{cars[\"niro\"][1]}대')\n",
    "print(cars[\"niro\"][1],'대',sep='')"
   ]
  },
  {
   "cell_type": "markdown",
   "id": "abdba34b",
   "metadata": {},
   "source": [
    "### cars에 아래 데이터를 추가하시오\n",
    "\n",
    "| 차량명| 가격 | 판매량 |\n",
    "|:---:|---:|---:| \n",
    "| ionic | 5000 | 670 |\n",
    "> 출력결과 : {'niro': [3000, 500], 'kona': [2500, 400], 'k3': [2000, 300], 'ionic': [5000, 670]}"
   ]
  },
  {
   "cell_type": "code",
   "execution_count": 165,
   "id": "4f4a5095",
   "metadata": {},
   "outputs": [
    {
     "name": "stdout",
     "output_type": "stream",
     "text": [
      "{'niro': [3000, 500], 'kona': [2500, 400], 'k3': [2000, 300], 'ionic': [5000, 670]}\n"
     ]
    }
   ],
   "source": [
    "cars['ionic'] = [5000,670]\n",
    "print(cars)"
   ]
  },
  {
   "cell_type": "markdown",
   "id": "87bf2e8c",
   "metadata": {},
   "source": [
    "### cars 에서 key값으로만 구성된 리스트를 생성하시오\n",
    "> 출력결과 : ['niro', 'kona', 'k3', 'ionic']"
   ]
  },
  {
   "cell_type": "code",
   "execution_count": 233,
   "id": "c9c7ee44",
   "metadata": {},
   "outputs": [
    {
     "name": "stdout",
     "output_type": "stream",
     "text": [
      "<class 'type'> ['niro', 'kona', 'k3']\n",
      "['niro', 'kona', 'k3']\n"
     ]
    }
   ],
   "source": [
    "a= list(cars.keys())\n",
    "print(type,a)\n",
    "print(a)"
   ]
  },
  {
   "cell_type": "markdown",
   "id": "e6edc0fe",
   "metadata": {},
   "source": [
    "### 아래의 new_car 딕셔너리를 cars 딕셔너리에 추가하시오.(update 사용)\n",
    "cars = {'niro' : [3000,500],'kona' :[2500,400],'k3' : [2000,300]}\n",
    "cars.update={'k3':[1900,250],'mornig' : [800,100]}"
   ]
  },
  {
   "cell_type": "code",
   "execution_count": 234,
   "id": "a1f15297",
   "metadata": {},
   "outputs": [
    {
     "name": "stdout",
     "output_type": "stream",
     "text": [
      "{'niro': [3000, 500], 'kona': [2500, 400], 'k3': [1900, 250], 'mornig': [800, 100]}\n"
     ]
    }
   ],
   "source": [
    "cars = {'niro' : [3000,500],'kona' :[2500,400],'k3' : [2000,300]}\n",
    "cars.update({'k3':[1900,250],'mornig' : [800,100]})\n",
    "\n",
    "print(cars)"
   ]
  },
  {
   "cell_type": "code",
   "execution_count": 236,
   "id": "1b7bf50d",
   "metadata": {},
   "outputs": [
    {
     "name": "stdout",
     "output_type": "stream",
     "text": [
      "{'niro': [3000, 500], 'kona': [2500, 400], 'k3': [1900, 250], 'morning': [800, 100]}\n"
     ]
    }
   ],
   "source": [
    "cars = {'niro' : [3000,500],'kona' :[2500,400],'k3' : [2000,300]}\n",
    "new_car={'k3':[1900,250],'morning' :[800, 100]}\n",
    "cars.update(new_car)\n",
    "print(cars)"
   ]
  }
 ],
 "metadata": {
  "interpreter": {
   "hash": "041d1bf15cd7204c11d27e64d7e3f888abac55cd4faa8256afeeb4489e7f0daf"
  },
  "kernelspec": {
   "display_name": "Python 3.10.4 64-bit",
   "language": "python",
   "name": "python3"
  },
  "language_info": {
   "codemirror_mode": {
    "name": "ipython",
    "version": 3
   },
   "file_extension": ".py",
   "mimetype": "text/x-python",
   "name": "python",
   "nbconvert_exporter": "python",
   "pygments_lexer": "ipython3",
   "version": "3.10.4"
  },
  "toc": {
   "base_numbering": 1,
   "nav_menu": {},
   "number_sections": true,
   "sideBar": true,
   "skip_h1_title": false,
   "title_cell": "Table of Contents",
   "title_sidebar": "Contents",
   "toc_cell": false,
   "toc_position": {},
   "toc_section_display": true,
   "toc_window_display": true
  }
 },
 "nbformat": 4,
 "nbformat_minor": 5
}
