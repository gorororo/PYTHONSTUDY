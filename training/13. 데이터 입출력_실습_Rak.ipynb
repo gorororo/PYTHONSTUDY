{
 "cells": [
  {
   "cell_type": "markdown",
   "metadata": {
    "id": "7KaEFFwmaz9f"
   },
   "source": [
    "**I/O (Input / Output)** "
   ]
  },
  {
   "cell_type": "markdown",
   "metadata": {
    "id": "WyMfCdGSaz9n"
   },
   "source": [
    "- 프로그램 입장에서 들어오는 모든 데이터를 input, 나가는 모든 데이터를 output이라고 한다.\n",
    "> 메인 메모리 입장에서 생각하는 들어오고 나가는 모든 데이터에 대해서 I/O 처리라고 부릅니다. (단, CPU와의 소통은 제외)\n",
    "\n",
    "- 사용자로 부터 키보드로 입력받는 것을 stdin이라고 하며, 사용자에게 다시 모니터로 출력되는 것을 stdout이라고 한다. -> Unix 환경(터미널 환경)에서 부르던 용어\n"
   ]
  },
  {
   "cell_type": "markdown",
   "metadata": {
    "id": "Ob-m8XQbaz9o"
   },
   "source": [
    "# STDIN / STDOUT (Standard IN, Standard OUT)"
   ]
  },
  {
   "cell_type": "markdown",
   "metadata": {
    "id": "I9B1Br_0az9o"
   },
   "source": [
    "- 파이썬은 input()을 통해서 stdin을 사용자로부터 입력받을 수 있다.\n",
    "- 파이썬에서는 stdin은 무조건 문자열 타입으로 들어온다. 이를 type casting을 통해서 다른 데이터 타입으로 바꾸어 사용해야 한다.\n",
    "\n",
    "- 파이썬은 print()를 통해서 stdout을 사용자에게 출력할 수 있다."
   ]
  },
  {
   "cell_type": "markdown",
   "metadata": {},
   "source": [
    "**Q. 만약에 stdin으로 여러 개의 숫자가 들어오는 경우, 입력의 format을 알고 있다고 가정했을 때, 이를 효과적으로 처리할 수 있을까?**"
   ]
  },
  {
   "cell_type": "code",
   "execution_count": 1,
   "metadata": {},
   "outputs": [
    {
     "name": "stdout",
     "output_type": "stream",
     "text": [
      "콤마를 기준으로 숫자를 여러개 입력해주세요 : 1,2,3,4,5,6,7,8,9,10\n",
      "[1, 2, 3, 4, 5, 6, 7, 8, 9, 10]\n"
     ]
    }
   ],
   "source": [
    "list_a = input(\"콤마를 기준으로 숫자를 여러개 입력해주세요 : \").split(',')\n",
    "list_b = []\n",
    "for i in list_a:\n",
    "    list_b.append(int(i))\n",
    "print(list_b)\n"
   ]
  },
  {
   "cell_type": "code",
   "execution_count": 9,
   "metadata": {},
   "outputs": [
    {
     "name": "stdout",
     "output_type": "stream",
     "text": [
      "콤마를 기준으로 숫자를 여러개 입력해주세요 : 1,2\n",
      "[1, 2]\n"
     ]
    }
   ],
   "source": [
    "list_b = []\n",
    "for i in input(\"콤마를 기준으로 숫자를 여러개 입력해주세요 : \").split(','):\n",
    "    list_b.append(int(i))\n",
    "print(list_b)"
   ]
  },
  {
   "cell_type": "code",
   "execution_count": 2,
   "metadata": {},
   "outputs": [
    {
     "name": "stdout",
     "output_type": "stream",
     "text": [
      "콤마를 기준으로 숫자를 여러개 입력해주세요 : 1,2,3,4,5\n",
      "[1, 2, 3, 4, 5]\n"
     ]
    }
   ],
   "source": [
    "list_b=[int(i) for i in input(\"콤마를 기준으로 숫자를 여러개 입력해주세요 : \").split(',')]\n",
    "print(list_b)"
   ]
  },
  {
   "cell_type": "markdown",
   "metadata": {
    "id": "DPYlwZhEaz9t"
   },
   "source": [
    "# File I/O"
   ]
  },
  {
   "cell_type": "markdown",
   "metadata": {
    "id": "eVNcSf2iaz9t"
   },
   "source": [
    "- 파일 입출력을 사용하는 이유\n",
    "    - 파일로부터 데이터를 읽어와서 프로그램에 사용하기 위해\n",
    "    - 프로그램에서 만든 데이터를 파일 형태로 저장하기 위해\n",
    "- 파이썬에서는 open()을 이용해서 파일을 손쉽게 열고 닫을 수 있다.\n",
    "- open()을 통해 파일을 열고 난뒤엔, close()를 통해서 닫아줘야 한다. ( close를 하지 않으면 jupyter가 계속해서 파일을 점유하고 있게 되어, 시스템 낭비가 일어난다. )\n",
    "- open() 함수는 다양한 옵션을 제공하지만 기본적으로는 txt파일을 여는 것을 기본으로 가정한다.\n",
    "- 다른 타입의 파일을 열기 위해선 다른 라이브러리들이 필요하다. (csv, excel : pandas, png, jpg : PIL, opencv...)"
   ]
  },
  {
   "cell_type": "markdown",
   "metadata": {
    "id": "BGNX1KElaz9t"
   },
   "source": [
    "> 텍스트 파일을 여는 방법에는 read(), readline(), readlines(), for문을 이용한 방법이 있다. 코드를 통해 각 방법의 차이를 알아보자."
   ]
  },
  {
   "attachments": {
    "image.png": {
     "image/png": "[encoded data removed]"
    }
   },
   "cell_type": "markdown",
   "metadata": {},
   "source": [
    "## open() / close()\n",
    "- **open('파일경로', '모드')** \n",
    "- 모드-> w(wirte), a(append), r(read)\n",
    "| 모드 | <center>설명</center>| 모드 | <center>설명</center>|\n",
    "| --- | :--- | --- | :--- |\n",
    "| w | 쓰기 | r | 읽기 |\n",
    "| a | 쓰기(append) | x | 파일이 없으면 생성하고 있으면 err 발생|\n",
    "| t | 텍스트모드(기본값) | b | 바이너리 모드 예시) wb / rb |\n",
    "\n",
    "\n",
    "- **파일객체.close()**\n",
    "![image.png](attachment:image.png)"
   ]
  },
  {
   "cell_type": "markdown",
   "metadata": {},
   "source": [
    "## 파일쓰기\n",
    "- 파일객체 = open('파일경로','모드')   \n",
    "- 파일객체.write(데이터)\n",
    "- 파일객체.close()"
   ]
  },
  {
   "cell_type": "code",
   "execution_count": 27,
   "metadata": {},
   "outputs": [],
   "source": [
    "#파일 생성\n",
    "file = open('Data/newfile1.txt','w')\n",
    "file.write('Hello Python\\n')\n",
    "file.close()"
   ]
  },
  {
   "cell_type": "code",
   "execution_count": 18,
   "metadata": {
    "scrolled": true
   },
   "outputs": [
    {
     "name": "stdout",
     "output_type": "stream",
     "text": [
      "Life is Short\n"
     ]
    }
   ],
   "source": [
    "# 파일 읽기\n",
    "file = open('data/newfile1.txt', 'r')\n",
    "line = file.read()\n",
    "print(line)\n",
    "file.close()"
   ]
  },
  {
   "cell_type": "code",
   "execution_count": 26,
   "metadata": {},
   "outputs": [],
   "source": [
    "#파일 생성 \n",
    "file = open('Data/newfile1.txt','w')\n",
    "file.write('Life is Short')\n",
    "file.close()"
   ]
  },
  {
   "cell_type": "code",
   "execution_count": 29,
   "metadata": {},
   "outputs": [],
   "source": [
    "# 파일 내용 추가(append)\n",
    "file = open('data/newfile1.txt', 'a')\n",
    "file.write('Life is Short\\n')\n",
    "\n",
    "file.close()"
   ]
  },
  {
   "cell_type": "code",
   "execution_count": 31,
   "metadata": {},
   "outputs": [],
   "source": [
    "#x는 파일이 없으면 생성하고 있으면 에러가 난다\n",
    "file = open('data/newfile2.txt', 'x')\n",
    "file.write('You Need Python\\n')\n",
    "\n",
    "file.close()"
   ]
  },
  {
   "cell_type": "markdown",
   "metadata": {},
   "source": [
    "## with open('파일경로', '모드') as 별명 :\n",
    "- 파일을 자동으로 열고 닫을 수 있도록 처리\n",
    "- with open() as 별명 -> 자동으로 close() 호출한다."
   ]
  },
  {
   "cell_type": "code",
   "execution_count": 34,
   "metadata": {},
   "outputs": [],
   "source": [
    "#파일 생성\n",
    "with open('Data/newfile1.txt','w') as file :\n",
    "    file.write('Hello Python\\n')\n"
   ]
  },
  {
   "cell_type": "markdown",
   "metadata": {},
   "source": [
    "## 파일을 쓰기 모드로 열어 출력값 기록하기\n",
    "- open('파일경로',**'w'**) as file :\n",
    "- file.write(**내용**)"
   ]
  },
  {
   "cell_type": "code",
   "execution_count": 37,
   "metadata": {
    "scrolled": true
   },
   "outputs": [
    {
     "name": "stdout",
     "output_type": "stream",
     "text": [
      "1's line.\n",
      "2's line.\n",
      "3's line.\n",
      "4's line.\n",
      "5's line.\n",
      "6's line.\n",
      "7's line.\n",
      "8's line.\n",
      "9's line.\n",
      "10's line.\n"
     ]
    }
   ],
   "source": [
    "for i in range(1,11):\n",
    "    data = f\"{i}'s line.\\n\"\n",
    "    print(data,end='')\n"
   ]
  },
  {
   "cell_type": "code",
   "execution_count": 42,
   "metadata": {},
   "outputs": [
    {
     "name": "stdout",
     "output_type": "stream",
     "text": [
      "1's line.\n",
      "2's line.\n",
      "3's line.\n",
      "4's line.\n",
      "5's line.\n",
      "6's line.\n",
      "7's line.\n",
      "8's line.\n",
      "9's line.\n",
      "10's line.\n"
     ]
    }
   ],
   "source": [
    "    with open('Data/newfile2.txt','w') as file :\n",
    "        for i in range(1,11):\n",
    "            data = f\"{i}'s line.\\n\"\n",
    "            print(data,end='')\n",
    "            file.write(data)"
   ]
  },
  {
   "cell_type": "markdown",
   "metadata": {},
   "source": [
    "- **한글처리**"
   ]
  },
  {
   "cell_type": "code",
   "execution_count": 46,
   "metadata": {},
   "outputs": [],
   "source": [
    "#파일 생성\n",
    "with open('Data/newfile3.txt','w' ,encoding='utf-8') as file:\n",
    "    file.write('안녕하세요 파이썬\\n')\n",
    "    "
   ]
  },
  {
   "cell_type": "markdown",
   "metadata": {},
   "source": [
    "## 외부파일을 읽는 여러가지 방법\n",
    "텍스트 읽기 **read(), readline(), readlines(), 반복문...**\n",
    "- read(): 파일에 있는 모든 글자를 가져와서 하나의 String으로 저장한다.\n",
    "- readline(): 파일에 있는 첫번째 줄만 가져온다.\n",
    "- readlines 는 txt 파일에 있는 모든 텍스트를 한줄 단위로 끊어서 리스트에 저장"
   ]
  },
  {
   "cell_type": "code",
   "execution_count": 51,
   "metadata": {},
   "outputs": [
    {
     "name": "stdout",
     "output_type": "stream",
     "text": [
      "1's line.\n",
      "2's line.\n",
      "3's line.\n",
      "4's line.\n",
      "5's line.\n",
      "6's line.\n",
      "7's line.\n",
      "8's line.\n",
      "9's line.\n",
      "10's line.\n",
      " <class 'str'>\n"
     ]
    }
   ],
   "source": [
    "with open('Data/newfile2.txt','r',encoding='utf-8')as file:\n",
    "    contents = file.read()\n",
    "    \n",
    "print(contents,type(contents))"
   ]
  },
  {
   "cell_type": "code",
   "execution_count": null,
   "metadata": {},
   "outputs": [],
   "source": [
    "with open('Data/newfile2.txt','r',encoding='utf-8')as file:\n",
    "    contents = file.read()\n",
    "    \n",
    "print(contents,type(contents))"
   ]
  },
  {
   "cell_type": "code",
   "execution_count": 57,
   "metadata": {},
   "outputs": [
    {
     "name": "stdout",
     "output_type": "stream",
     "text": [
      "1's line.\n",
      "2's line.\n",
      "3's line.\n",
      "4's line.\n",
      "5's line.\n",
      "6's line.\n",
      "7's line.\n",
      "8's line.\n",
      "9's line.\n",
      "10's line.\n",
      " <class 'str'>\n"
     ]
    }
   ],
   "source": [
    "with open('D:/gorororo/PYTHONSTUDY/training/Data/newfile2.txt','r')as file:\n",
    "    contents = file.read()\n",
    "    \n",
    "print(contents,type(contents))"
   ]
  },
  {
   "cell_type": "code",
   "execution_count": 66,
   "metadata": {},
   "outputs": [
    {
     "name": "stdout",
     "output_type": "stream",
     "text": [
      "1's line.\n",
      " <class 'str'>\n"
     ]
    }
   ],
   "source": [
    "with open('Data/newfile2.txt','r',encoding='utf-8')as file:\n",
    "    contents = file.readline()\n",
    "    \n",
    "print(contents,type(contents))"
   ]
  },
  {
   "cell_type": "code",
   "execution_count": 64,
   "metadata": {},
   "outputs": [
    {
     "name": "stdout",
     "output_type": "stream",
     "text": [
      "[\"1's line.\\n\", \"2's line.\\n\", \"3's line.\\n\", \"4's line.\\n\", \"5's line.\\n\", \"6's line.\\n\", \"7's line.\\n\", \"8's line.\\n\", \"9's line.\\n\", \"10's line.\\n\"] <class 'list'>\n"
     ]
    }
   ],
   "source": [
    "with open('Data/newfile2.txt','r',encoding='utf-8')as file:\n",
    "    contents = file.readlines()\n",
    "    \n",
    "print(contents,type(contents))"
   ]
  },
  {
   "cell_type": "code",
   "execution_count": null,
   "metadata": {},
   "outputs": [],
   "source": []
  },
  {
   "cell_type": "markdown",
   "metadata": {},
   "source": [
    "## 이진파일 처리\n",
    "**pickle 모듈**\n",
    "- 객체의 형태를 그대로 유지하면서 파일에 저장하고 불러올 수 있게 하는 파이썬 내장모듈\n",
    "- pickle.dump(객체, 파일)로 저장하고(쓰고)\n",
    "- pickle.load(파일) 로 로딩(읽고)"
   ]
  },
  {
   "cell_type": "code",
   "execution_count": 72,
   "metadata": {},
   "outputs": [],
   "source": [
    "import pickle\n",
    "\n",
    "planets = {'수성' : 'Mercury',\n",
    "           '금성' : 'Venus',\n",
    "           '지구' : 'Earth',\n",
    "           '화성' : 'Mars',\n",
    "           '목성' : 'Jupiter',\n",
    "           '토성' : 'Saturn',\n",
    "           '천왕성' : 'Uranus',\n",
    "           '해왕성' : 'Neptune'\n",
    "          }"
   ]
  },
  {
   "cell_type": "code",
   "execution_count": 73,
   "metadata": {},
   "outputs": [],
   "source": [
    "file = open('data/data.pickle',\"wb\")\n",
    "pickle.dump(planets, file)\n",
    "file.close()"
   ]
  },
  {
   "cell_type": "code",
   "execution_count": 75,
   "metadata": {
    "scrolled": false
   },
   "outputs": [
    {
     "name": "stdout",
     "output_type": "stream",
     "text": [
      "{'수성': 'Mercury', '금성': 'Venus', '지구': 'Earth', '화성': 'Mars', '목성': 'Jupiter', '토성': 'Saturn', '천왕성': 'Uranus', '해왕성': 'Neptune'}\n"
     ]
    }
   ],
   "source": [
    "import pickle\n",
    "file = open('data/data.pickle',\"rb\")\n",
    "planets = pickle.load(file)\n",
    "print(planets)\n",
    "file.close()"
   ]
  },
  {
   "cell_type": "code",
   "execution_count": 76,
   "metadata": {},
   "outputs": [
    {
     "name": "stdout",
     "output_type": "stream",
     "text": [
      "{'수성': 'Mercury', '금성': 'Venus', '지구': 'Earth', '화성': 'Mars', '목성': 'Jupiter', '토성': 'Saturn', '천왕성': 'Uranus', '해왕성': 'Neptune'}\n"
     ]
    }
   ],
   "source": [
    "import pickle\n",
    "with open('data/data.pickle',\"rb\") as file :\n",
    "    planets = pickle.load(file)\n",
    "    print(planets)\n"
   ]
  },
  {
   "cell_type": "markdown",
   "metadata": {},
   "source": [
    "**연습문제1) 사용자 입력(input())을 파일에 저장(파일명: ex1.txt)하는 프로그램을 구성하시오.**\n",
    "- 단, 프로그램을 다시 실행하더라도 기존에 작성한 내용을 유지하고 새로 입력된 내용이 추가되어야 함."
   ]
  },
  {
   "cell_type": "code",
   "execution_count": 79,
   "metadata": {},
   "outputs": [
    {
     "name": "stdout",
     "output_type": "stream",
     "text": [
      "input data\n"
     ]
    }
   ],
   "source": [
    "#파일 생성\n",
    "open('Data/ex1.txt','a' ,encoding=\"utf-8\") as file :\n",
    "data = input()\n",
    "file.write(data)\n"
   ]
  },
  {
   "cell_type": "markdown",
   "metadata": {},
   "source": [
    "**연습문제2) 위에서 만든 파일을 읽어와서 출력(print()) 하시오.**"
   ]
  },
  {
   "cell_type": "code",
   "execution_count": 102,
   "metadata": {},
   "outputs": [
    {
     "name": "stdout",
     "output_type": "stream",
     "text": [
      "input data\n"
     ]
    }
   ],
   "source": [
    "# 파일 읽기\n",
    "file = open('data/ex1.txt', 'r',encoding=\"utf-8\")\n",
    "line = file.read()\n",
    "print(line)\n",
    "file.close()"
   ]
  },
  {
   "cell_type": "code",
   "execution_count": 103,
   "metadata": {},
   "outputs": [
    {
     "name": "stdout",
     "output_type": "stream",
     "text": [
      "input data\n"
     ]
    }
   ],
   "source": [
    "with open('data/ex1.txt','r', encoding='utf-8') as file :\n",
    "    print(file.read())"
   ]
  },
  {
   "attachments": {
    "image-3.png": {
     "image/png": "[encoded data removed]"
    }
   },
   "cell_type": "markdown",
   "metadata": {},
   "source": [
    "**연습문제3) 100명의 신체정보를 담고 있는 bodyinfo.txt를 생성하기 파일(info.txt)를 열어서 BMI를 계산하여 bodyinfo2.txt 생성하기**\n",
    "- 신체정보 : name, weight, height\n",
    "- name :  '가나다라마바사아자차카타파하' 중 무작위로 3글자\n",
    "- weight : 40~100 사이 무작위 정수\n",
    "- height : 140~200 사이 무작위 정수\n",
    "\n",
    "< bodyinfo.txt(000~999) >\n",
    "> ![image-3.png](attachment:image-3.png)"
   ]
  },
  {
   "cell_type": "code",
   "execution_count": 134,
   "metadata": {},
   "outputs": [],
   "source": [
    "import random\n",
    "\n",
    "hanguls = '가나다라마바사아자차카타파하'\n",
    "\n",
    "with open('Data/bodyinfo.txt','w',encoding=\"utf-8\") as file:\n",
    "    for i in range(100):\n",
    "        name = ''.join(random.choices(hanguls, k=3))\n",
    "        #         print(name)\n",
    "        weight = random.randint(40,100)\n",
    "        height = random.randint(140,200)\n",
    "        file.write(f'{str(i).zfill(3)},{name},{weight},{height}\\n')"
   ]
  },
  {
   "cell_type": "markdown",
   "metadata": {},
   "source": [
    "**연습문제4) 위에서 생성한 bodyinfo.txt에 100명의 데이터를 추가하시오.(총 200명)**"
   ]
  },
  {
   "cell_type": "code",
   "execution_count": 135,
   "metadata": {},
   "outputs": [],
   "source": [
    "# 데이터 추가\n",
    "import random\n",
    "\n",
    "a = '가나다라마바사아자차카타파하'\n",
    "\n",
    "with open('Data/bodyinfo.txt','a',encoding=\"utf-8\") as file :\n",
    "    for i in range(100,200):\n",
    "        name = ''.join(random.choices(a, k=3))\n",
    "        weight = random.randint(40,100)\n",
    "        height = random.randint(140,200)\n",
    "        file.write(f'{str(i).zfill(3)},{name},{weight},{height}\\n')\n",
    "        "
   ]
  },
  {
   "cell_type": "markdown",
   "metadata": {},
   "source": [
    "**연습문제5)bodyinfo.txt를 열어서 BMI지수를 계산하고 그 결과를 표시하고 bodyinfo2.txt에 저장하시오.**\n",
    "- BMI지수= 몸무게(kg) ÷ (신장(m) × 신장(m))\n",
    "- 25 <= BMI : 과체중\n",
    "- 18.5 <= BMI < 25 : 정상체중\n",
    "- BMI < 18.8 : 저체중"
   ]
  },
  {
   "cell_type": "code",
   "execution_count": 167,
   "metadata": {},
   "outputs": [],
   "source": [
    "with open('Data/bodyinfo.txt','r',encoding=\"utf-8\") as file : # 위드 오픈으로 상대경로 r모드 인코딩 유티에프 8로 불러오고 별명은 file\n",
    "    lines=file.readlines() # 변수 선언 하고 파일.리드라인함수를 대입\n",
    "    new_datas = [] #마지막 파일쓰기 를 위해 빈리스트 생성\n",
    "    \n",
    "    \n",
    "    for line in lines: #라인 변수 선언 하고 라인즈 안에 넣는다\n",
    "        #new_line = line.split(',')\n",
    "        new_line = line.replace(' ','').split(',') #리스트에서 하나씩 뺴서 ' '<만약 두칸 뛰어졌으면 공백을 없에고 ,''남은공백도 없엔다 그리고 스플릿으로 나눈다.\n",
    "        new_line[3] = new_line[3][:3] #빼낸 리스트의 3번 리스트 인덱스에 접근 다시 3번인덱스이 처음부터 3번째 인댁스까지 빼내서 넣는다\n",
    "        \n",
    "        #bmi계산\n",
    "        bmi = int(new_line[2])/((int(new_line[3])/100)**2)# 정수로 만든다 2번 인덱스가 체중 3번인덱스가 신장 cm기 떄문에 /100 을하고 제곱을 해서 bmi 지수를 계산하고 \n",
    "        bmi = round(bmi,2) # 계산한걸\n",
    "        new_line.append(str(bmi)) #뉴라인에 비엠아이 지수를 추가시킨다 문자형으로 변환\n",
    "        \n",
    "        \n",
    "        if 25 <= float(new_line[4]) : new_line.append('과체중') #만약 25가 뉴라인 인덱스[4]번(bmi지수) 보다 크다면 과체중 이란 단어를 뉴라인에 어펜드(추가)시킨다 아니라면 밑으로\n",
    "        elif 18.5 <= float(new_line[4]) : new_line.append('정상체중') #만약 18.5가 뉴라인 인덱스[4]번(bmi지수) 보다 크다면 정상체중 이란 단어를 뉴라인에 어펜드(추가)시킨다\n",
    "        else: new_line.append('저체중') #만약 위에 둘다 아니라면 저체중을 인덱스 4번에 추가시킨다\n",
    "        new_datas.append(new_line) #위에 if문을 새로만든 빈리스트 뉴데이터에 추가시킨다.\n",
    "        \n",
    "# print(new_datas)        \n",
    "with open('Data/bodyinfo2.txt','w',encoding='utf-8') as file2 : #위는 읽기 모드기 떄문에  새로 쓰기모드를 만든다\n",
    "    for data in new_datas : #포문 데이터 변수를 추가 하고 뉴데이터 리스트에 넣는다\n",
    "        file2.write(', '.join(data)+'\\n') #파일에 쓰기 한다 ', '를 추가시켜 데이터를 조인시킨다 마지막에 줄바꿈을 넣어준다 완료\n",
    "        "
   ]
  },
  {
   "cell_type": "markdown",
   "metadata": {},
   "source": [
    "**연습문제6) 당신의 회사에서는 매주 1회 작성해야 하는 보고서가 있습니다.**\n",
    "**보고서는 항상 아래와 같은 형식으로 출력되어야 합니다.**\n",
    "\n",
    "-X 주차 주간보고-   \n",
    "부서 :   \n",
    "이름 :   \n",
    "업무요약   \n",
    "\n",
    "**1주차부터 10주차까지의** 보고서 파일(양식)을 만든는 프로그램을 작성하시오.   \n",
    "\n",
    "- 조건 : 파일명은 '1주차.txt', '2주차.txt', ....와 같이 만듭니다"
   ]
  },
  {
   "cell_type": "code",
   "execution_count": 172,
   "metadata": {},
   "outputs": [],
   "source": [
    "for i in range(1,11): #포문 i 룰 1번부터 11번 반복하라\n",
    "    with open('Data/{}주차.txt'.format(i),'w', encoding='utf-8') as re: # 파일을 만든다 파일네임에{}중가로 를 넣고 뒤에 포멧팅을 붙여준다\n",
    "        re.write(f'-{i}주차 주간보고-')\n",
    "        re.write('\\n부서 :')\n",
    "        re.write('\\n이름 :')\n",
    "        re.write('\\n업무요약 :')\n",
    "        "
   ]
  }
 ],
 "metadata": {
  "kernelspec": {
   "display_name": "Python 3 (ipykernel)",
   "language": "python",
   "name": "python3"
  },
  "language_info": {
   "codemirror_mode": {
    "name": "ipython",
    "version": 3
   },
   "file_extension": ".py",
   "mimetype": "text/x-python",
   "name": "python",
   "nbconvert_exporter": "python",
   "pygments_lexer": "ipython3",
   "version": "3.9.12"
  },
  "toc": {
   "base_numbering": 1,
   "nav_menu": {},
   "number_sections": true,
   "sideBar": true,
   "skip_h1_title": false,
   "title_cell": "Table of Contents",
   "title_sidebar": "Contents",
   "toc_cell": false,
   "toc_position": {},
   "toc_section_display": true,
   "toc_window_display": true
  }
 },
 "nbformat": 4,
 "nbformat_minor": 4
}
