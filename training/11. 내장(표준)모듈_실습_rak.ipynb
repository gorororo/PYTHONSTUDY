{
 "cells": [
  {
   "cell_type": "markdown",
   "id": "6ddfb642",
   "metadata": {},
   "source": [
    "**표준(내장모듈)**\n",
    "- 파이썬에 기본적으로 내장되어 있는 모듈\n"
   ]
  },
  {
   "cell_type": "markdown",
   "id": "37161731",
   "metadata": {},
   "source": [
    "# random 모듈"
   ]
  },
  {
   "cell_type": "code",
   "execution_count": 1,
   "id": "f8326424",
   "metadata": {},
   "outputs": [
    {
     "name": "stdout",
     "output_type": "stream",
     "text": [
      "random : 0.754630876383144\n",
      "randint : 66\n",
      "uniform :  3.133374504053638\n",
      "randrange1 : 5\n",
      "randrange2 : 72\n",
      "choice : 3\n",
      "shuffle : [2, 1, 4, 3, 5]\n",
      "sample :  [5, 1]\n",
      "sample :  [3, 5]\n"
     ]
    }
   ],
   "source": [
    "import random\n",
    "\n",
    "print('random :', random.random())                             # Random float:  0.0 <= x < 1.0\n",
    "print('randint :',random.randint(1,100))                        # Random int:  1 <= x <= 100\n",
    "print('uniform : ',random.uniform(2.5, 10.0))                   # Random float:  2.5 <= x <= 10.0\n",
    "print('randrange1 :',random.randrange(10))                      # Integer from 0 to 9 inclusive\n",
    "print('randrange2 :',random.randrange(0, 101, 2))               # Even integer from 0 to 100 inclusive\n",
    "a= [1,2,3,4,5]\n",
    "print('choice :',random.choice(a))              # Single random element from a sequence\n",
    "random.shuffle(a)             # Shuffle a list\n",
    "print('shuffle :',a)\n",
    "print('sample : ',random.sample(a, k=2))        # Two samples without replacementprint(random.random()) \n",
    "print('sample : ',random.choices(a, k=2))        # 중복가능"
   ]
  },
  {
   "cell_type": "markdown",
   "id": "5a7583a5",
   "metadata": {},
   "source": [
    "**연습문제1)두 사람이 주사위를 던져 큰 수가 나오면 이기는 게임**"
   ]
  },
  {
   "cell_type": "code",
   "execution_count": 25,
   "id": "1203cae2",
   "metadata": {},
   "outputs": [
    {
     "name": "stdout",
     "output_type": "stream",
     "text": [
      "주사위를 던지려면 엔터를 누르세요: \n",
      "A의 주사위는 3입니다. \n",
      "B의 주사위는 3입니다. \n",
      "A==B\n"
     ]
    }
   ],
   "source": [
    "import random\n",
    "\n",
    "start = input('주사위를 던지려면 엔터를 누르세요: ')\n",
    "a= random.randrange(1,6)\n",
    "b= random.randrange(1,6)\n",
    "\n",
    "print(f'A의 주사위는 {a}입니다. ')\n",
    "print(f'B의 주사위는 {b}입니다. ')\n",
    "\n",
    "if a > b :\n",
    "    print('A가 이겼습니다.')\n",
    "elif a < b :\n",
    "    print('B가 이겼습니다.')\n",
    "else : print ('A==B')\n",
    "\n"
   ]
  },
  {
   "cell_type": "markdown",
   "id": "ccb93943",
   "metadata": {},
   "source": [
    "**연습문제2)로또 생성기**\n",
    "- 1~45 사이 숫자 6개 생성\n",
    "- 중복된 숫자가 있으면 안된다"
   ]
  },
  {
   "cell_type": "code",
   "execution_count": 44,
   "id": "375ee7ee",
   "metadata": {},
   "outputs": [
    {
     "name": "stdout",
     "output_type": "stream",
     "text": [
      "[8, 18, 26, 15, 14, 36]\n",
      "[23, 9, 25, 18, 43, 1]\n"
     ]
    }
   ],
   "source": [
    "import random\n",
    "\n",
    "lotto = random.sample(range(1,46),k=6)\n",
    "lotto2 = random.choices(range(1,46),k=6)\n",
    "print(lotto)\n",
    "print(lotto2)"
   ]
  },
  {
   "cell_type": "code",
   "execution_count": 34,
   "id": "97648558",
   "metadata": {},
   "outputs": [
    {
     "name": "stdout",
     "output_type": "stream",
     "text": [
      "몇게임 하시겠습니까? 게임 : 5\n",
      "[3, 12, 25, 42, 43, 44]\n",
      "[18, 19, 22, 38, 39, 45]\n",
      "[9, 11, 15, 21, 28, 45]\n",
      "[14, 29, 31, 38, 40, 42]\n",
      "[2, 7, 23, 26, 35, 43]\n"
     ]
    }
   ],
   "source": [
    "import random\n",
    "\n",
    "num = input(f'몇게임 하시겠습니까? 게임 : ')\n",
    "\n",
    "for i in range(0, int(num)):\n",
    "    lotto = random.sample(range(1,46),6)\n",
    "    lotto.sort()\n",
    "    print(lotto)\n",
    "    \n",
    "    \n"
   ]
  },
  {
   "cell_type": "markdown",
   "id": "2005a0b7",
   "metadata": {},
   "source": [
    "**연습문제3)Up and Down 숫자 맞추기 게임**\n",
    "- 1~100 사이의 임의의 난수 발생\n",
    "- 사용자가 숫자를 입력할 때마다 up & down, 알려주기"
   ]
  },
  {
   "cell_type": "code",
   "execution_count": 48,
   "id": "d79aa368",
   "metadata": {},
   "outputs": [
    {
     "name": "stdout",
     "output_type": "stream",
     "text": [
      "업엔다운 게임\n",
      "숫자 입력 : 50\n",
      "업\n",
      "숫자 입력 : 80\n",
      "다운\n",
      "숫자 입력 : 70\n",
      "업\n",
      "숫자 입력 : 75\n",
      "다운\n",
      "숫자 입력 : 74\n",
      "다운\n",
      "숫자 입력 : 72\n",
      "다운\n",
      "숫자 입력 : 71\n",
      "승리 8 번째 트라이 하셨습니다.\n"
     ]
    }
   ],
   "source": [
    "import random\n",
    "print('업엔다운 게임')\n",
    "ai_num = random.randint(1,100)\n",
    "cnt = 1 \n",
    "while True:\n",
    "    user_num = int(input(\"숫자 입력 : \"))\n",
    "    cnt += 1\n",
    "    if(user_num < ai_num):\n",
    "        print('업')\n",
    "    elif (user_num> ai_num):\n",
    "        print('다운')\n",
    "    elif (user_num == ai_num):\n",
    "        print (\"승리 \"+ str(cnt) + \" 번째 트라이에 승리 하셨습니다.\")\n",
    "        break"
   ]
  },
  {
   "cell_type": "code",
   "execution_count": 53,
   "id": "25cc8706",
   "metadata": {},
   "outputs": [],
   "source": [
    "# import random\n",
    "# print('업엔다운 게임')\n",
    "# ai_num = random.randint(1,100)\n",
    "# cnt = 1 \n",
    "# while True:\n",
    "#     user_num = int(input(\"숫자 입력 : \"))\n",
    "    \n",
    "#     if(user_num > ai_num): print('다운')\n",
    "#     elif (user_num < ai_num): print('업')\n",
    "#     else : break \n",
    "#     cnt += 1\n",
    "        \n",
    "        \n",
    "# print (f'정답입니다. {cnt}회 만에 맞췄어요!!')\n",
    "   "
   ]
  },
  {
   "cell_type": "markdown",
   "id": "71a3fd50",
   "metadata": {},
   "source": [
    "# datetime 모듈\n",
    "- date(날짜), time(시간)과 관련된 모듈\n",
    "- 날짜형식을 만들 때 자주 사용"
   ]
  },
  {
   "cell_type": "code",
   "execution_count": 58,
   "id": "6a96d9e8",
   "metadata": {},
   "outputs": [
    {
     "name": "stdout",
     "output_type": "stream",
     "text": [
      "2022-06-24 15:07:08.427206\n",
      "2022년6월24일\n"
     ]
    }
   ],
   "source": [
    "import datetime as dt\n",
    "\n",
    "# 현재 시간\n",
    "now = dt.datetime.now()\n",
    "print(now)\n",
    "print(f'{now.year}년{now.month}월{now.day}일')\n"
   ]
  },
  {
   "cell_type": "markdown",
   "id": "52da43dd",
   "metadata": {},
   "source": [
    "**원하는 형식대로 출력 : strftime()**\n",
    "- Format Code\n",
    "\n",
    "| 포맷코드 | 설명 | 예 |\n",
    "| :----: | :---- |:----:| \n",
    "|  %a |  요일을 짧게 표시 | Sun |\n",
    "|  %A |  요일을 길게 표시 | Sunday |\n",
    "|  %w |  요일을 숫자로 일요일(0)~토요일(6) | 0 |\n",
    "|  %Y |  년도를 길게표시 | 2021 |\n",
    "|  %y |  년도를 짧게표시 | 21 |\n",
    "|  %m |  월을 숫자로 표시 | 05 |\n",
    "|  %d |  일을 숫자로 표시 | 23 |\n",
    "|  %H |  시간을 24시간 표현방식으로 표시 | 18 |\n",
    "|  %I |  시간을 12시간 표현방식으로 표시 | 6 |\n",
    "|  %p |  오전(AM), 오후(PM) 표시 | PM |\n",
    "|  %M |  분을 표시 | 25 |\n",
    "|  %S |  초를 표시 | 25 |\n",
    "\n"
   ]
  },
  {
   "cell_type": "code",
   "execution_count": 63,
   "id": "67778b59",
   "metadata": {},
   "outputs": [
    {
     "name": "stdout",
     "output_type": "stream",
     "text": [
      "2022 년06 월24 일 03 시:07 분:08 초\n"
     ]
    }
   ],
   "source": [
    "a = now.strftime('%Y 년%m 월%d 일 %I 시:%M 분:%S 초')\n",
    "print(a)"
   ]
  },
  {
   "cell_type": "markdown",
   "id": "b60b425f",
   "metadata": {},
   "source": [
    "- **시간 처리하기 : timedelta(), replace()**"
   ]
  },
  {
   "cell_type": "code",
   "execution_count": 67,
   "id": "f9cdf247",
   "metadata": {},
   "outputs": [
    {
     "name": "stdout",
     "output_type": "stream",
     "text": [
      "2022-06-24 15:18:42.132789\n",
      "2022-06-25 17:18:42.132789\n",
      "2025-06-24 15:18:42.132789\n"
     ]
    }
   ],
   "source": [
    "import datetime as dt\n",
    "\n",
    "now = dt.datetime.now()\n",
    "print(now)\n",
    "\n",
    "#특정시간 이후의 시간 구하기\n",
    "after1 = now +dt.timedelta(days=1,hours=2)\n",
    "print(after1)\n",
    "\n",
    "#특정시간 교체하기\n",
    "after2 = now.replace(year=2025)\n",
    "print(after2)"
   ]
  },
  {
   "cell_type": "markdown",
   "id": "d96701ef",
   "metadata": {},
   "source": [
    "**연습문제4) datetime의 timedelta를 사용해서 오늘로 부터  5일, 4일, 3일, 2일, 1일 전의 날짜를 화면에 출력하기** "
   ]
  },
  {
   "cell_type": "code",
   "execution_count": 76,
   "id": "7dce6972",
   "metadata": {},
   "outputs": [
    {
     "name": "stdout",
     "output_type": "stream",
     "text": [
      "2022-06-19 15:18:42.132789\n",
      "2022-06-20 15:18:42.132789\n",
      "2022-06-21 15:18:42.132789\n",
      "2022-06-22 15:18:42.132789\n",
      "2022-06-23 15:18:42.132789\n"
     ]
    }
   ],
   "source": [
    "past0 = now - dt.timedelta(days=5)\n",
    "past1 = now - dt.timedelta(days=4)\n",
    "past2 = now - dt.timedelta(days=3)\n",
    "past3 = now - dt.timedelta(days=2)\n",
    "past4 = now - dt.timedelta(days=1)\n",
    "print(past0)\n",
    "print(past1)\n",
    "print(past2)\n",
    "print(past3)\n",
    "print(past4)\n"
   ]
  },
  {
   "cell_type": "code",
   "execution_count": 79,
   "id": "e796c4ee",
   "metadata": {},
   "outputs": [
    {
     "name": "stdout",
     "output_type": "stream",
     "text": [
      "2022-06-19 15:18:42.132789\n",
      "2022-06-20 15:18:42.132789\n",
      "2022-06-21 15:18:42.132789\n",
      "2022-06-22 15:18:42.132789\n",
      "2022-06-23 15:18:42.132789\n"
     ]
    }
   ],
   "source": [
    "past = dt.datetime.now()\n",
    "\n",
    "for i in range(5,0,-1):\n",
    "    date = now - dt.timedelta(days=i)\n",
    "    print(date)\n",
    "    \n"
   ]
  },
  {
   "cell_type": "markdown",
   "id": "b2a68937",
   "metadata": {},
   "source": [
    "**연습문제5) 현재 시간을 구해서 시:분:초의 포맷으로 출력하기**"
   ]
  },
  {
   "cell_type": "code",
   "execution_count": 81,
   "id": "62ab4426",
   "metadata": {},
   "outputs": [
    {
     "name": "stdout",
     "output_type": "stream",
     "text": [
      "03시:18분:42초\n"
     ]
    }
   ],
   "source": [
    "a = now.strftime('%I시:%M분:%S초')\n",
    "print(a)"
   ]
  },
  {
   "cell_type": "markdown",
   "id": "bea8cde0",
   "metadata": {},
   "source": [
    "# time 모듈\n",
    "- 시간과 관련된 기능을 다룰 때는 time 모듈 사용.\n",
    "- time 모듈로도 날짜와 관련된 처리를 할수 있지만 datetime모듈을 사용하는 경우가 더 많음"
   ]
  },
  {
   "cell_type": "markdown",
   "id": "71d5a4bf",
   "metadata": {},
   "source": [
    "- time.sleep() : 특정시간 동안 코드 진행을 정지할 때 사용"
   ]
  },
  {
   "cell_type": "code",
   "execution_count": 82,
   "id": "72369705",
   "metadata": {},
   "outputs": [
    {
     "name": "stdout",
     "output_type": "stream",
     "text": [
      "지금부터 5초 정지합니다.\n",
      "프로그램을 종료합니다.\n"
     ]
    }
   ],
   "source": [
    "import time as t\n",
    "print ('지금부터 5초 정지합니다.')\n",
    "t.sleep(5)\n",
    "print('프로그램을 종료합니다.')"
   ]
  },
  {
   "cell_type": "markdown",
   "id": "8c46c26d",
   "metadata": {},
   "source": [
    "- time.time()   \n",
    ": UTC(Universal Time Coordinated)를 사용하여 현재 시간을 실수 형태로 돌려주는 함수. 1970년 1월 1일 0시 0분 0초를 기준으로 지난 시간을 초 단위로 돌려준다."
   ]
  },
  {
   "cell_type": "code",
   "execution_count": 85,
   "id": "a35017ce",
   "metadata": {
    "scrolled": true
   },
   "outputs": [
    {
     "data": {
      "text/plain": [
       "1656052730.3401947"
      ]
     },
     "execution_count": 85,
     "metadata": {},
     "output_type": "execute_result"
    }
   ],
   "source": [
    "t.time()"
   ]
  },
  {
   "cell_type": "code",
   "execution_count": 88,
   "id": "caa6c570",
   "metadata": {},
   "outputs": [
    {
     "name": "stdout",
     "output_type": "stream",
     "text": [
      "5.000926733016968\n"
     ]
    }
   ],
   "source": [
    "a = t.time()\n",
    "t.sleep(5)\n",
    "b = t.time()\n",
    "\n",
    "print(b-a)"
   ]
  },
  {
   "cell_type": "markdown",
   "id": "14d100b9",
   "metadata": {},
   "source": [
    "- time.localtime()   \n",
    ": time.time()이 돌려준 실수 값을 사용해서 현재 지역의 시간대로 년, 월,일, 시 ,분, 초....의 형태로 바꾸어 주는 함수"
   ]
  },
  {
   "cell_type": "code",
   "execution_count": 95,
   "id": "32b0ee77",
   "metadata": {},
   "outputs": [
    {
     "name": "stdout",
     "output_type": "stream",
     "text": [
      "2022-06-24-03-44-52-Friday\n"
     ]
    }
   ],
   "source": [
    "t.localtime(t.time())\n",
    "print(t.strftime('%Y-%m-%d-%I-%M-%S-%A', t.localtime(t.time())))"
   ]
  },
  {
   "cell_type": "markdown",
   "id": "55062cbd",
   "metadata": {},
   "source": [
    "- time.asctime() :time.localtime()의 결과값을 알아보기 쉬운 형태로 변환"
   ]
  },
  {
   "cell_type": "code",
   "execution_count": 96,
   "id": "14ba3d04",
   "metadata": {},
   "outputs": [
    {
     "data": {
      "text/plain": [
       "'Fri Jun 24 15:46:14 2022'"
      ]
     },
     "execution_count": 96,
     "metadata": {},
     "output_type": "execute_result"
    }
   ],
   "source": [
    "t.localtime(t.time())\n",
    "t.asctime(t.localtime(t.time()))"
   ]
  },
  {
   "cell_type": "markdown",
   "id": "9c2208b6",
   "metadata": {},
   "source": [
    "# calendar 모듈\n",
    "\n"
   ]
  },
  {
   "cell_type": "code",
   "execution_count": 101,
   "id": "8a6bd9b9",
   "metadata": {},
   "outputs": [
    {
     "name": "stdout",
     "output_type": "stream",
     "text": [
      "                                  2022\n",
      "\n",
      "      January                   February                   March\n",
      "Mo Tu We Th Fr Sa Su      Mo Tu We Th Fr Sa Su      Mo Tu We Th Fr Sa Su\n",
      "                1  2          1  2  3  4  5  6          1  2  3  4  5  6\n",
      " 3  4  5  6  7  8  9       7  8  9 10 11 12 13       7  8  9 10 11 12 13\n",
      "10 11 12 13 14 15 16      14 15 16 17 18 19 20      14 15 16 17 18 19 20\n",
      "17 18 19 20 21 22 23      21 22 23 24 25 26 27      21 22 23 24 25 26 27\n",
      "24 25 26 27 28 29 30      28                        28 29 30 31\n",
      "31\n",
      "\n",
      "       April                      May                       June\n",
      "Mo Tu We Th Fr Sa Su      Mo Tu We Th Fr Sa Su      Mo Tu We Th Fr Sa Su\n",
      "             1  2  3                         1             1  2  3  4  5\n",
      " 4  5  6  7  8  9 10       2  3  4  5  6  7  8       6  7  8  9 10 11 12\n",
      "11 12 13 14 15 16 17       9 10 11 12 13 14 15      13 14 15 16 17 18 19\n",
      "18 19 20 21 22 23 24      16 17 18 19 20 21 22      20 21 22 23 24 25 26\n",
      "25 26 27 28 29 30         23 24 25 26 27 28 29      27 28 29 30\n",
      "                          30 31\n",
      "\n",
      "        July                     August                  September\n",
      "Mo Tu We Th Fr Sa Su      Mo Tu We Th Fr Sa Su      Mo Tu We Th Fr Sa Su\n",
      "             1  2  3       1  2  3  4  5  6  7                1  2  3  4\n",
      " 4  5  6  7  8  9 10       8  9 10 11 12 13 14       5  6  7  8  9 10 11\n",
      "11 12 13 14 15 16 17      15 16 17 18 19 20 21      12 13 14 15 16 17 18\n",
      "18 19 20 21 22 23 24      22 23 24 25 26 27 28      19 20 21 22 23 24 25\n",
      "25 26 27 28 29 30 31      29 30 31                  26 27 28 29 30\n",
      "\n",
      "      October                   November                  December\n",
      "Mo Tu We Th Fr Sa Su      Mo Tu We Th Fr Sa Su      Mo Tu We Th Fr Sa Su\n",
      "                1  2          1  2  3  4  5  6                1  2  3  4\n",
      " 3  4  5  6  7  8  9       7  8  9 10 11 12 13       5  6  7  8  9 10 11\n",
      "10 11 12 13 14 15 16      14 15 16 17 18 19 20      12 13 14 15 16 17 18\n",
      "17 18 19 20 21 22 23      21 22 23 24 25 26 27      19 20 21 22 23 24 25\n",
      "24 25 26 27 28 29 30      28 29 30                  26 27 28 29 30 31\n",
      "31\n",
      "\n",
      "4\n",
      "(1, 30)\n"
     ]
    }
   ],
   "source": [
    "import calendar\n",
    "print(calendar.calendar(2022))\n",
    "print(calendar.weekday(2022,6,24))\n",
    "print(calendar.monthrange(2022,11))"
   ]
  },
  {
   "cell_type": "markdown",
   "id": "fd5768e0",
   "metadata": {},
   "source": [
    "**연습문제6) 주사위 여러개 동시에 던지기**\n",
    "- 같은 숫자가 나올때 까지 주사위 6개를 동시에 무한반복해서 던진다.\n",
    "- 같은 숫자가 나올 때 까지 몇번 던졌는지 출력"
   ]
  },
  {
   "cell_type": "code",
   "execution_count": 112,
   "id": "6252b391",
   "metadata": {},
   "outputs": [
    {
     "name": "stdout",
     "output_type": "stream",
     "text": [
      "3\n"
     ]
    }
   ],
   "source": [
    "import random as random\n",
    "\n",
    "i = 0\n",
    "\n",
    "\n",
    "while i != 3:\n",
    "    i = random.randint(1,6)\n",
    "    print(i)\n"
   ]
  },
  {
   "cell_type": "code",
   "execution_count": null,
   "id": "80a1c35e",
   "metadata": {},
   "outputs": [],
   "source": [
    "# import random\n",
    "# dice = []\n",
    "# count = 1\n",
    "\n",
    "# while True:\n",
    "#     for i in range(6) :\n",
    "#         dice.append(random.randint(1,6))\n",
    "#         print('6개의 숫자가 동일하게 나옴', dice[0])\n",
    "#         print('동일한 숫자가 나올 떄 까지 던진 횟수 :',count)\n",
    "#         break\n",
    "#         count +=1\n",
    "          "
   ]
  },
  {
   "cell_type": "code",
   "execution_count": 131,
   "id": "3e7607d0",
   "metadata": {},
   "outputs": [
    {
     "name": "stdout",
     "output_type": "stream",
     "text": [
      "6개의 숫자가 동일하게 나옴 1\n",
      "동일한 숫자가 나올 떄 까지 던진 횟수 : 13534\n",
      "[2, 2, 2, 2, 2, 2]\n"
     ]
    }
   ],
   "source": [
    "import random\n",
    "\n",
    "#변수 선언\n",
    "ran = [0,0,0,0,0,0]\n",
    "count = 1\n",
    "\n",
    "\n",
    "while True:\n",
    "    for i in range(6):\n",
    "        ran[i] = random.randrange(1,7)\n",
    "        \n",
    "    if ran[0]==ran[1]==ran[2]==ran[3]==ran[4]==ran[5]:\n",
    "        print('6개의 숫자가 동일하게 나옴', dice[0])\n",
    "        print('동일한 숫자가 나올 떄 까지 던진 횟수 :',count)\n",
    "        break\n",
    "    count +=1\n",
    "    \n",
    "print(ran)\n",
    "    \n"
   ]
  },
  {
   "cell_type": "markdown",
   "id": "4397ad99",
   "metadata": {},
   "source": [
    "**연습문제7) 속으로 20초를 세어 맞히는 프로그램**\n",
    "- input('엔터를 누르고 20초를 셉니다'), input('20초 후에 다시 엔터를 누릅니다.') 두 문장을 이용하여 속으로 20초를 세어서 실제 시간과의 차이를 구하는 프로그램을 작성하시오."
   ]
  },
  {
   "cell_type": "code",
   "execution_count": 121,
   "id": "3214237b",
   "metadata": {},
   "outputs": [
    {
     "name": "stdout",
     "output_type": "stream",
     "text": [
      "시작\n",
      "20초 후에 다시 엔터를 누릅니다.\n",
      "실제시간: 5.792371511459351 초\n",
      "차이 14.20762848854065 초\n"
     ]
    }
   ],
   "source": [
    "import time\n",
    "\n",
    "input('시작')\n",
    "start = time.time()\n",
    "input('20초 후에 다시 엔터를 누릅니다.')\n",
    "end = time.time()\n",
    "\n",
    "et=end-start\n",
    "print('실제시간:',et,'초')\n",
    "print('차이',abs(et-20),'초')"
   ]
  },
  {
   "cell_type": "code",
   "execution_count": null,
   "id": "9f75becb",
   "metadata": {},
   "outputs": [],
   "source": []
  },
  {
   "cell_type": "markdown",
   "id": "5a236a78",
   "metadata": {},
   "source": [
    "**연습문제8) 아래 요구사항에 맞게 프로그래밍 하시오.**   \n",
    "당신은 최근에 코딩 스터디 모임을 새로 만들었습니다.\n",
    "월 4회 스터디를 하는데 3번은 온라인으로 하고 1번은 오프라인으로 하기로 했습니다.\n",
    "아래 조건에 맞는 오프라인 모임 날짜를 정해주는 프로그램을 작성하시오.\n",
    "\n",
    "- 조건1 : 랜덤으로 날짜를 뽑아야 함.\n",
    "- 조건 2 : 월별 날짜는 다름을 감안하여 최소 일수인 28이내로 정함.\n",
    "- 조건 3 : 매월 1~3일은 스터디 준비를 해야하므로 제외\n",
    "\n",
    "<출력결과>\n",
    "\n",
    "**오프라인 스터디 모임 날짜는 매월 x 일로 선정되었습니다.**"
   ]
  },
  {
   "cell_type": "code",
   "execution_count": 119,
   "id": "74e3e7a8",
   "metadata": {
    "scrolled": true
   },
   "outputs": [
    {
     "name": "stdout",
     "output_type": "stream",
     "text": [
      "06/12/2008 05:57 PM\n"
     ]
    }
   ],
   "source": [
    "def str_time_prop(start, end, format, prop):\n",
    "    \"\"\"\n",
    "    두 형식의 시간 범위의 비율로 시간을 얻습니다.\n",
    "\n",
    "    시작 및 끝은 다음에서 형식화된 시간을 지정하는 문자열이어야 합니다.\n",
    "    지정된 형식(스트레프트 시간 형식), 간격 [시작, 종료]를 지정합니다.\n",
    "    prop는 다음에 취할 간격의 비율을 지정합니다.\n",
    "    출발하다 반환된 시간은 지정된 형식입니다.\n",
    "    \"\"\"\n",
    "\n",
    "    stime = time.mktime(time.strptime(start, format))\n",
    "    etime = time.mktime(time.strptime(end, format))\n",
    "\n",
    "    ptime = stime + prop * (etime - stime)\n",
    "\n",
    "    return time.strftime(format, time.localtime(ptime))\n",
    "\n",
    "\n",
    "def random_date(start, end, prop):\n",
    "    return str_time_prop(start, end, '%m/%d/%Y %I:%M %p', prop)\n",
    "\n",
    "print(random_date(\"1/1/2008 1:30 PM\", \"1/1/2009 4:50 AM\", random.random()))"
   ]
  },
  {
   "cell_type": "code",
   "execution_count": 125,
   "id": "58458ef5",
   "metadata": {},
   "outputs": [
    {
     "name": "stdout",
     "output_type": "stream",
     "text": [
      "오프라인 날짜는 매월 10 입니다.\n"
     ]
    }
   ],
   "source": [
    "import random\n",
    "date = random.randint(4,28)\n",
    "print(f'오프라인 날짜는 매월 {str(date)} 입니다.')"
   ]
  }
 ],
 "metadata": {
  "kernelspec": {
   "display_name": "Python 3 (ipykernel)",
   "language": "python",
   "name": "python3"
  },
  "language_info": {
   "codemirror_mode": {
    "name": "ipython",
    "version": 3
   },
   "file_extension": ".py",
   "mimetype": "text/x-python",
   "name": "python",
   "nbconvert_exporter": "python",
   "pygments_lexer": "ipython3",
   "version": "3.9.12"
  },
  "toc": {
   "base_numbering": 1,
   "nav_menu": {},
   "number_sections": true,
   "sideBar": true,
   "skip_h1_title": false,
   "title_cell": "Table of Contents",
   "title_sidebar": "Contents",
   "toc_cell": false,
   "toc_position": {
    "height": "calc(100% - 180px)",
    "left": "10px",
    "top": "150px",
    "width": "384px"
   },
   "toc_section_display": true,
   "toc_window_display": true
  }
 },
 "nbformat": 4,
 "nbformat_minor": 5
}
