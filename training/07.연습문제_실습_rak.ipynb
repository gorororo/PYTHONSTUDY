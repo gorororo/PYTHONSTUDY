{
 "cells": [
  {
   "cell_type": "markdown",
   "id": "69967a08",
   "metadata": {},
   "source": [
    "### 사용자로부터 입력받은 문자열을 두번출력하시오. \n",
    "   \n",
    "<예시>\n",
    ">입력 -> hello   \n",
    "출력-> hellohello"
   ]
  },
  {
   "cell_type": "code",
   "execution_count": 21,
   "id": "54675ace",
   "metadata": {
    "scrolled": true
   },
   "outputs": [
    {
     "name": "stdout",
     "output_type": "stream",
     "text": [
      "hellohello\n"
     ]
    }
   ],
   "source": [
    "a = input()\n",
    "print(a*2)"
   ]
  },
  {
   "cell_type": "code",
   "execution_count": 22,
   "id": "201098ec",
   "metadata": {},
   "outputs": [
    {
     "name": "stdout",
     "output_type": "stream",
     "text": [
      "hellohello\n"
     ]
    }
   ],
   "source": [
    "print(input()*2)"
   ]
  },
  {
   "cell_type": "markdown",
   "id": "e64be438",
   "metadata": {},
   "source": [
    "### 사용자로 값을 입력받은 후 해당값에 30을 더한 값을 출력하시오. \n",
    "- 단 사용자가 입력한 값과 30을 더한 값이 255를 초과하는 하는경우 255를 출력하시오.    \n",
    "<예시>\n",
    "> 입력-> 10 / 출력-> 40   \n",
    "입력-> 240 / 출력-> 255"
   ]
  },
  {
   "cell_type": "code",
   "execution_count": 17,
   "id": "4e4fb8fb",
   "metadata": {},
   "outputs": [
    {
     "name": "stdout",
     "output_type": "stream",
     "text": [
      "숫자를 입력하세요 :240\n",
      "255\n"
     ]
    }
   ],
   "source": [
    "user = input('숫자를 입력하세요 :')\n",
    "num = 30+int(user)\n",
    "\n",
    "if num > 255 : print(255)\n",
    "else : print(num)"
   ]
  },
  {
   "cell_type": "markdown",
   "id": "62e049d2",
   "metadata": {},
   "source": [
    "### tomas 의 과목별 점수는 각각 다음과 같다. 평균 점수를 구해 보자.\n",
    "- 국어 : 80 / 영어 : 65 / 수학 : 94\n",
    "- print()를 이용하여 출력하고 소숫점 둘째자리 까지 출력하시오"
   ]
  },
  {
   "cell_type": "code",
   "execution_count": 23,
   "id": "dcb9cbf3",
   "metadata": {},
   "outputs": [
    {
     "name": "stdout",
     "output_type": "stream",
     "text": [
      "79.66666666666667\n",
      "79.67\n",
      "79.67\n",
      "79.67\n"
     ]
    }
   ],
   "source": [
    "kor = 80\n",
    "eng = 65\n",
    "math = 94\n",
    "result= (kor+eng+math)/3\n",
    "print(result)\n",
    "print('{:0.2f}'.format(result))\n",
    "print(f'{result:0.2f}')\n",
    "print(round(result,2))"
   ]
  },
  {
   "cell_type": "code",
   "execution_count": 24,
   "id": "b65415a0",
   "metadata": {},
   "outputs": [
    {
     "name": "stdout",
     "output_type": "stream",
     "text": [
      "79.67\n",
      "79\n"
     ]
    }
   ],
   "source": [
    "kor, eng ,math = 80,65,94\n",
    "result =(kor+eng+math)/3\n",
    "print('%0.2f'%result)\n",
    "print(int(result))\n"
   ]
  },
  {
   "cell_type": "markdown",
   "id": "f3d73509",
   "metadata": {},
   "source": [
    "### 자연수 25가 홀수인지 짝수인지 판별할 수 있는 프로그램을 작성하시오.\n",
    ">출력 -> 25는 홀수 입니다."
   ]
  },
  {
   "cell_type": "code",
   "execution_count": 81,
   "id": "8c220f16",
   "metadata": {},
   "outputs": [
    {
     "name": "stdout",
     "output_type": "stream",
     "text": [
      "홀수 입니다\n"
     ]
    }
   ],
   "source": [
    "def check(num):\n",
    "    if num % 2 == 1:\n",
    "        print('홀수 입니다')\n",
    "    else:\n",
    "        print('짝수 입니다.')\n",
    "\n",
    "check(25)     "
   ]
  },
  {
   "cell_type": "code",
   "execution_count": 84,
   "id": "d389af5d",
   "metadata": {},
   "outputs": [
    {
     "name": "stdout",
     "output_type": "stream",
     "text": [
      "25 는 홀수 입니다\n"
     ]
    }
   ],
   "source": [
    "num = 25\n",
    "if num % 2 == 0:\n",
    "    print(f'{num} 는 짝수 입니다')\n",
    "else : \n",
    "    print(f'{num} 는 홀수 입니다')\n"
   ]
  },
  {
   "cell_type": "markdown",
   "id": "ece44353",
   "metadata": {},
   "source": [
    "### tomas의 주민등록번호는 901120-1088231이다. tomas의 주민등록번호를 연월일(YYMMDD) 부분과 그 뒤의 숫자 부분으로 나누어 출력하시오\n",
    "> 출력-> 901120   \n",
    "&nbsp;&nbsp;&nbsp;&nbsp;&nbsp;&nbsp;&nbsp;&nbsp;&nbsp;&nbsp;&nbsp;1088231"
   ]
  },
  {
   "cell_type": "code",
   "execution_count": 86,
   "id": "6d779390",
   "metadata": {},
   "outputs": [
    {
     "name": "stdout",
     "output_type": "stream",
     "text": [
      "901120-*******\n"
     ]
    }
   ],
   "source": [
    "id1 = '901120-1088231'\n",
    "\n",
    "secured_id = id1[:7]+'*'*7\n",
    "print(secured_id)"
   ]
  },
  {
   "cell_type": "code",
   "execution_count": 96,
   "id": "0d5c5742",
   "metadata": {},
   "outputs": [
    {
     "name": "stdout",
     "output_type": "stream",
     "text": [
      "901120\n",
      "1088231\n",
      "901120\n",
      "1088231\n"
     ]
    }
   ],
   "source": [
    "pin = '901120-1088231'\n",
    "yymmdd = pin[:6]\n",
    "spin = pin[7:]\n",
    "print(yymmdd)\n",
    "print(spin)\n",
    "\n",
    "result = pin.split('-')\n",
    "print(result[0])\n",
    "print(result[1])"
   ]
  },
  {
   "cell_type": "markdown",
   "id": "c5ee404f",
   "metadata": {},
   "source": [
    "### 주민등록번호 뒷자리의 맨 첫 번째 숫자는 성별을 나타낸다. tomas 주민등록번호에서 성별을 찾아서 출력하시오\n",
    "> 출력-> 남"
   ]
  },
  {
   "cell_type": "code",
   "execution_count": 97,
   "id": "c947aada",
   "metadata": {},
   "outputs": [
    {
     "name": "stdout",
     "output_type": "stream",
     "text": [
      "1\n",
      "남\n"
     ]
    }
   ],
   "source": [
    "id1 = '901120-1088231'\n",
    "print(id1[7])\n",
    "if '1' == id1[7] or '3' == id1[7] : \n",
    "    print('남')\n",
    "else : \n",
    "    '2' == id1[7] or '4' == id1[7]\n",
    "    print('여')\n",
    "    "
   ]
  },
  {
   "cell_type": "code",
   "execution_count": 106,
   "id": "1c018af1",
   "metadata": {},
   "outputs": [
    {
     "name": "stdout",
     "output_type": "stream",
     "text": [
      "여자\n"
     ]
    }
   ],
   "source": [
    "pin = '901120-2088231' #if else문으로\n",
    "gender = pin[7]\n",
    "if gender =='1' : \n",
    "    print(\"남자\")\n",
    "else : \n",
    "    print('여자')\n",
    "    "
   ]
  },
  {
   "cell_type": "code",
   "execution_count": 126,
   "id": "8864ef51",
   "metadata": {},
   "outputs": [
    {
     "name": "stdout",
     "output_type": "stream",
     "text": [
      "남자\n"
     ]
    }
   ],
   "source": [
    "pin1 = '901120-1088231' #삼항연산자로\n",
    "gender = pin1[7]\n",
    "\n",
    "print('남자') if gender=='1'or'3' else print('여자')"
   ]
  },
  {
   "cell_type": "markdown",
   "id": "e376b52a",
   "metadata": {},
   "source": [
    "### tomas의 주민등록번호는 101120-4088231이다. tomas의 주민등록번호를 연월일(YYYYMMDD) 부분과 그 뒤의 숫자 부분으로 나누어 출력하시오.\n",
    "> 출력-> 20101120   \n",
    "&nbsp;&nbsp;&nbsp;&nbsp;&nbsp;&nbsp;&nbsp;&nbsp;&nbsp;&nbsp;&nbsp;4088231"
   ]
  },
  {
   "cell_type": "code",
   "execution_count": 130,
   "id": "2ccffa5e",
   "metadata": {},
   "outputs": [
    {
     "name": "stdout",
     "output_type": "stream",
     "text": [
      "20101120\n",
      "4088231\n"
     ]
    }
   ],
   "source": [
    "pin = '101120-4088231'\n",
    "front = pin[:6]\n",
    "back = pin[7:]\n",
    "print('20'+front)\n",
    "print(back)"
   ]
  },
  {
   "cell_type": "code",
   "execution_count": 20,
   "id": "1c666e34",
   "metadata": {},
   "outputs": [
    {
     "name": "stdout",
     "output_type": "stream",
     "text": [
      "['101120', '4088231']\n",
      "4\n",
      "20101120\n",
      "4088231\n"
     ]
    }
   ],
   "source": [
    "pin = '101120-4088231' #스플릿 하면 리스트로 변환되서 인덱스로 찾을수 있다.\n",
    "result=pin.split('-')\n",
    "print(result)\n",
    "print(result[1][0])\n",
    "\n",
    "# if (result[1][0] == '3') or (result[1][0] == '4'):\n",
    "if (result[1][0] == '3' or '4'):\n",
    "    result[0]='20'+result[0]\n",
    "else :\n",
    "    result[0]='19'+result[0]\n",
    "\n",
    "print(result[0])\n",
    "print(result[1])"
   ]
  },
  {
   "cell_type": "markdown",
   "id": "ec68958d",
   "metadata": {},
   "source": [
    "### 문자열 a:b:c:d가 있다. 문자열의 replace 함수를 사용하여 a#b#c#d로 바꿔서 출력하시오."
   ]
  },
  {
   "cell_type": "code",
   "execution_count": 146,
   "id": "6d3ba36d",
   "metadata": {},
   "outputs": [
    {
     "name": "stdout",
     "output_type": "stream",
     "text": [
      "a#b#c#d\n"
     ]
    }
   ],
   "source": [
    "a = 'a:b:c:d'\n",
    "b = a.replace(':','#')\n",
    "print(b)"
   ]
  },
  {
   "cell_type": "markdown",
   "id": "3182a287",
   "metadata": {},
   "source": [
    "###  다음과 같이 리스트가 있다.  각각의 질문에 답하시오.\n",
    "- classA = [ ['1-1', '1-2', '1-3'], ['2-1', '2-2', '2-3'], ['3-1', '3-2', '3-3'] ]"
   ]
  },
  {
   "attachments": {
    "image.png": {
     "image/png": "[encoded data removed]"
    }
   },
   "cell_type": "markdown",
   "id": "5ebc8b77",
   "metadata": {},
   "source": [
    "#### 아래와 같은 출력물이 나오게 하시오.\n",
    "![image.png](attachment:image.png)"
   ]
  },
  {
   "cell_type": "code",
   "execution_count": 187,
   "id": "c4a2cf63",
   "metadata": {},
   "outputs": [
    {
     "name": "stdout",
     "output_type": "stream",
     "text": [
      "1-1 반\n",
      "1-2 반\n",
      "1-3 반\n",
      "2-1 반\n",
      "2-2 반\n",
      "2-3 반\n",
      "3-1 반\n",
      "3-2 반\n",
      "3-3 반\n"
     ]
    }
   ],
   "source": [
    "classA = [ ['1-1', '1-2', '1-3'], ['2-1', '2-2', '2-3'], ['3-1', '3-2', '3-3'] ]\n",
    "result1_1 = classA[0][0]\n",
    "result1_2 = classA[0][1]\n",
    "result1_3 = classA[0][2]\n",
    "result2_1 = classA[1][0]\n",
    "result2_2 = classA[1][1]\n",
    "result2_3 = classA[1][2]\n",
    "result3_1 = classA[2][0]\n",
    "result3_2 = classA[2][1]\n",
    "result3_3 = classA[2][2]\n",
    "\n",
    "\n",
    "\n",
    "\n",
    "print(result1_1,'반')\n",
    "print(result1_2,'반')\n",
    "print(result1_3,'반')\n",
    "print(result2_1,'반')\n",
    "print(result2_2,'반')\n",
    "print(result2_3,'반')\n",
    "print(result3_1,'반')\n",
    "print(result3_2,'반')\n",
    "print(result3_3,'반')\n"
   ]
  },
  {
   "cell_type": "code",
   "execution_count": 186,
   "id": "71560f8d",
   "metadata": {},
   "outputs": [
    {
     "name": "stdout",
     "output_type": "stream",
     "text": [
      "1-1 반\n",
      "1-2 반\n",
      "1-3 반\n",
      "2-1 반\n",
      "2-2 반\n",
      "2-3 반\n",
      "3-1 반\n",
      "3-2 반\n",
      "3-3 반\n"
     ]
    }
   ],
   "source": [
    "for row in classA :\n",
    "    for col in row :\n",
    "        print(col,'반')"
   ]
  },
  {
   "attachments": {
    "image.png": {
     "image/png": "[encoded data removed]"
    }
   },
   "cell_type": "markdown",
   "id": "40620860",
   "metadata": {},
   "source": [
    "#### 리스트에 저장된 데이터를 아래와 같이 출력하시오.\n",
    "![image.png](attachment:image.png)"
   ]
  },
  {
   "cell_type": "code",
   "execution_count": 191,
   "id": "d59158fc",
   "metadata": {},
   "outputs": [
    {
     "name": "stdout",
     "output_type": "stream",
     "text": [
      "3-3 반\n",
      "3-2 반\n",
      "3-1 반\n",
      "2-3 반\n",
      "2-2 반\n",
      "2-1 반\n",
      "1-3 반\n",
      "1-2 반\n",
      "1-1 반\n"
     ]
    }
   ],
   "source": [
    "classA = [ ['1-1', '1-2', '1-3'], ['2-1', '2-2', '2-3'], ['3-1', '3-2', '3-3'] ]\n",
    "result3_3 = classA[2][2]\n",
    "result3_2 = classA[2][1]\n",
    "result3_1 = classA[2][0]\n",
    "result2_3 = classA[1][2]\n",
    "result2_2 = classA[1][1]\n",
    "result2_1 = classA[1][0]\n",
    "result1_3 = classA[0][2]\n",
    "result1_2 = classA[0][1]\n",
    "result1_1 = classA[0][0]\n",
    "\n",
    "print(result3_3,'반')\n",
    "print(result3_2,'반')\n",
    "print(result3_1,'반')\n",
    "print(result2_3,'반')\n",
    "print(result2_2,'반')\n",
    "print(result2_1,'반')\n",
    "print(result1_3,'반')\n",
    "print(result1_2,'반')\n",
    "print(result1_1,'반')"
   ]
  },
  {
   "cell_type": "code",
   "execution_count": 190,
   "id": "cbd2df9e",
   "metadata": {},
   "outputs": [
    {
     "name": "stdout",
     "output_type": "stream",
     "text": [
      "3-3 반\n",
      "3-2 반\n",
      "3-1 반\n",
      "2-3 반\n",
      "2-2 반\n",
      "2-1 반\n",
      "1-3 반\n",
      "1-2 반\n",
      "1-1 반\n"
     ]
    }
   ],
   "source": [
    "classA = [ ['1-1', '1-2', '1-3'], ['2-1', '2-2', '2-3'], ['3-1', '3-2', '3-3'] ]\n",
    "for row in classA[::-1] :\n",
    "    for col in row[::-1] :\n",
    "        print(col,'반')"
   ]
  },
  {
   "attachments": {
    "image.png": {
     "image/png": "[encoded data removed]"
    }
   },
   "cell_type": "markdown",
   "id": "556b453c",
   "metadata": {},
   "source": [
    "#### 리스트에 저장된 데이터를 아래와 같이 출력하시오.\n",
    "![image.png](attachment:image.png)"
   ]
  },
  {
   "cell_type": "code",
   "execution_count": 162,
   "id": "1e43afc9",
   "metadata": {
    "scrolled": true
   },
   "outputs": [
    {
     "name": "stdout",
     "output_type": "stream",
     "text": [
      "['1-1', '1-2', '1-3']\n",
      "---------------------\n",
      "['2-1', '2-2', '2-3']\n",
      "---------------------\n",
      "['3-1', '3-2', '3-3']\n"
     ]
    }
   ],
   "source": [
    "print(classA[0])\n",
    "print('---------------------')\n",
    "print(classA[1])\n",
    "print('---------------------')\n",
    "print(classA[2])\n"
   ]
  },
  {
   "cell_type": "code",
   "execution_count": 194,
   "id": "6056b339",
   "metadata": {},
   "outputs": [
    {
     "name": "stdout",
     "output_type": "stream",
     "text": [
      "1-1 반 1-2 반 1-3 반 \n",
      "--------------------\n",
      "2-1 반 2-2 반 2-3 반 \n",
      "--------------------\n",
      "3-1 반 3-2 반 3-3 반 \n",
      "--------------------\n"
     ]
    }
   ],
   "source": [
    "classA = [ ['1-1', '1-2', '1-3'], ['2-1', '2-2', '2-3'], ['3-1', '3-2', '3-3'] ]\n",
    "\n",
    "for row in classA :\n",
    "    for col in row :\n",
    "        print(col,'반',end = ' ')\n",
    "    print()\n",
    "    print('-'*20)"
   ]
  },
  {
   "cell_type": "markdown",
   "id": "ead687e8",
   "metadata": {},
   "source": [
    "### [1, 3, 5, 4, 2]라는 리스트를 [5, 4, 3, 2, 1]로 만들어보자."
   ]
  },
  {
   "cell_type": "code",
   "execution_count": 196,
   "id": "cab3daab",
   "metadata": {},
   "outputs": [
    {
     "name": "stdout",
     "output_type": "stream",
     "text": [
      "[5, 4, 3, 2, 1]\n"
     ]
    }
   ],
   "source": [
    "a= [1,3,5,4,2]\n",
    "a.sort(reverse=True)\n",
    "print(a)"
   ]
  },
  {
   "cell_type": "code",
   "execution_count": 216,
   "id": "63d4a627",
   "metadata": {},
   "outputs": [
    {
     "name": "stdout",
     "output_type": "stream",
     "text": [
      "[5, 4, 3, 2, 1]\n"
     ]
    }
   ],
   "source": [
    "a.sort()\n",
    "a.reverse()\n",
    "print(a)"
   ]
  },
  {
   "cell_type": "code",
   "execution_count": 218,
   "id": "347e2931",
   "metadata": {},
   "outputs": [
    {
     "name": "stdout",
     "output_type": "stream",
     "text": [
      "[5, 4, 3, 2, 1]\n"
     ]
    }
   ],
   "source": [
    "a.sort()\n",
    "print(a[::-1])"
   ]
  },
  {
   "cell_type": "markdown",
   "id": "17d86d34",
   "metadata": {},
   "source": [
    "### ['Life', 'is', 'too', 'short'] 라는 리스트를 Life is too short라는 문자열로 만들어 출력해 보자."
   ]
  },
  {
   "cell_type": "code",
   "execution_count": 219,
   "id": "1ce2de93",
   "metadata": {},
   "outputs": [
    {
     "name": "stdout",
     "output_type": "stream",
     "text": [
      "Life is too short\n"
     ]
    }
   ],
   "source": [
    "a = ['Life', 'is', 'too', 'short']\n",
    "result =\" \".join(a)\n",
    "print(result)"
   ]
  },
  {
   "cell_type": "code",
   "execution_count": 221,
   "id": "87dd3134",
   "metadata": {},
   "outputs": [
    {
     "name": "stdout",
     "output_type": "stream",
     "text": [
      "Life is too short\n",
      "Life**is**too**short\n"
     ]
    }
   ],
   "source": [
    "print(' '.join(a))\n",
    "print('**'.join(a))"
   ]
  },
  {
   "cell_type": "markdown",
   "id": "157a3b13",
   "metadata": {},
   "source": [
    "###  아래 리스트에서 네 글자 이상의 문자를 화면에 출력하시오.\n",
    "- a = ['Life', 'is', 'short', 'You', 'need', 'Python']"
   ]
  },
  {
   "cell_type": "code",
   "execution_count": 202,
   "id": "8f268dee",
   "metadata": {
    "scrolled": true
   },
   "outputs": [
    {
     "name": "stdout",
     "output_type": "stream",
     "text": [
      "Life\n",
      "short\n",
      "need\n",
      "Python\n"
     ]
    }
   ],
   "source": [
    "a = ['Life', 'is', 'short', 'You', 'need', 'Python']\n",
    "for b in a :\n",
    "    if len (b) >= 4:\n",
    "        print (b)"
   ]
  },
  {
   "cell_type": "code",
   "execution_count": null,
   "id": "5f9c1e10",
   "metadata": {},
   "outputs": [],
   "source": []
  },
  {
   "cell_type": "markdown",
   "id": "90eae608",
   "metadata": {},
   "source": [
    "### 다음 조건에 맞는 프로그램을 작성하시오.\n",
    "- 투자경고 종목 리스트가 있을 때 사용자로 부터 종목명을 입력 받은 후 해당 종목이 투자 경고 종목이라면 '투자 경고 종목입니다'를 아니면 \"투자 경고 종목이 아닙니다.\"를 출력하는 프로그램\n",
    "- warn_investment_list = ['삼성', '애플', 'Naver', '카카오', 'LG']   \n",
    "   \n",
    "<예시>\n",
    "> 입력 -> 종목명 : 삼성   \n",
    "출력 -> 투자경고 종목입니다."
   ]
  },
  {
   "cell_type": "code",
   "execution_count": 236,
   "id": "dd795c44",
   "metadata": {},
   "outputs": [
    {
     "name": "stdout",
     "output_type": "stream",
     "text": [
      "종목명 : 네이버\n",
      "투자경고 종목이 아닙니다\n"
     ]
    }
   ],
   "source": [
    "warn_investment_list = ['삼성', '애플', 'Naver', '카카오', 'LG']\n",
    "\n",
    "# 변수 선언부분\n",
    "\n",
    "item = input ('종목명 : ')\n",
    "\n",
    "if item in warn_investment_list :\n",
    "    print('투자 경고 종목입니다')\n",
    "else :\n",
    "    print('투자경고 종목이 아닙니다')"
   ]
  },
  {
   "attachments": {
    "image-2.png": {
     "image/png": "[encoded data removed]"
    }
   },
   "cell_type": "markdown",
   "id": "8502822a",
   "metadata": {},
   "source": [
    "### 1부터 100사이 3의 배수만 출력하는 프로그램을 작성하시오.\n",
    "<출력예시>\n",
    ">![image-2.png](attachment:image-2.png)\n",
    "- 한줄에 출력되는 3의 배수의 개수는 상관없음.(화면배율에 따라 다르게 출력됨.)"
   ]
  },
  {
   "cell_type": "code",
   "execution_count": 273,
   "id": "754e19d6",
   "metadata": {},
   "outputs": [
    {
     "name": "stdout",
     "output_type": "stream",
     "text": [
      " 3\t 6\t 9\t12\t15\t18\t21\t24\t27\t30\t33\t36\t39\t42\t45\t48\t51\t54\t57\t60\t63\t66\t69\t72\t75\t78\t81\t84\t87\t90\t93\t96\t99\t"
     ]
    }
   ],
   "source": [
    "for i in range(1,101):\n",
    "    if i %3 == 0 :\n",
    "        print(f'{i:>2}',end='\\t')\n",
    "\n"
   ]
  },
  {
   "attachments": {
    "image.png": {
     "image/png": "[encoded data removed]"
    }
   },
   "cell_type": "markdown",
   "id": "5ee9fe0a",
   "metadata": {},
   "source": [
    "### 1부터 100사이 3의 배수와 배수의 개수를 출력하시오.\n",
    "<출력예시>\n",
    "> ![image.png](attachment:image.png)"
   ]
  },
  {
   "cell_type": "code",
   "execution_count": 275,
   "id": "6918caa4",
   "metadata": {},
   "outputs": [
    {
     "name": "stdout",
     "output_type": "stream",
     "text": [
      " 3\t 6\t 9\t12\t15\t18\t21\t24\t27\t30\t33\t36\t39\t42\t45\t48\t51\t54\t57\t60\t63\t66\t69\t72\t75\t78\t81\t84\t87\t90\t93\t96\t99\t\n",
      "1부터 100사이 3의 배수와 배수의 개수는 : 33\n"
     ]
    }
   ],
   "source": [
    "hap = 0 \n",
    "for i in range(1,101):\n",
    "    if i %3 == 0 :\n",
    "        print(f'{i:>2}',end='\\t')\n",
    "        hap +=1\n",
    "        \n",
    "print()\n",
    "print(f'1부터 100사이 3의 배수와 배수의 개수는 : {hap}')"
   ]
  },
  {
   "cell_type": "markdown",
   "id": "9546dd3b",
   "metadata": {},
   "source": [
    "### 아래 리스트에서  30 보다 작은 6의 배수를 출력하시오.\n",
    "- list_a = [13, 21, 12, 14, 30, 18, 24]"
   ]
  },
  {
   "cell_type": "code",
   "execution_count": 282,
   "id": "47ab4ee4",
   "metadata": {},
   "outputs": [
    {
     "name": "stdout",
     "output_type": "stream",
     "text": [
      "삼성\n",
      "애플\n",
      "Naver\n",
      "카카오\n",
      "LG\n"
     ]
    }
   ],
   "source": [
    "a = [1,2,3,4,5]\n",
    "b = ['삼성', '애플', 'Naver', '카카오', 'LG']\n",
    "\n",
    "for i in b :\n",
    "    print(i)"
   ]
  },
  {
   "cell_type": "code",
   "execution_count": 286,
   "id": "5b6ae3ed",
   "metadata": {
    "scrolled": true
   },
   "outputs": [
    {
     "name": "stdout",
     "output_type": "stream",
     "text": [
      "12\n",
      "18\n",
      "24\n"
     ]
    }
   ],
   "source": [
    "list_a = [13, 21, 12, 14, 30, 18, 24]\n",
    "\n",
    "for i in list_a :\n",
    "    if (i<30) and (i %6 ==0):\n",
    "        print(i)\n",
    "\n",
    "    "
   ]
  },
  {
   "cell_type": "markdown",
   "id": "cfdad323",
   "metadata": {},
   "source": [
    "### 딕셔너리 a에서 'B'에 해당되는 값을 추출해 보자.\n",
    "- a = {'A':90, 'B':80, 'C':70}"
   ]
  },
  {
   "cell_type": "code",
   "execution_count": 291,
   "id": "6cb18a32",
   "metadata": {},
   "outputs": [
    {
     "name": "stdout",
     "output_type": "stream",
     "text": [
      "80\n",
      "{'A': 90, 'B': 80, 'C': 70}\n"
     ]
    }
   ],
   "source": [
    "a = {'A':90, 'B':80, 'C':70}\n",
    "\n",
    "print (a.get('B'))\n",
    "print (a)"
   ]
  },
  {
   "cell_type": "code",
   "execution_count": 292,
   "id": "56705318",
   "metadata": {},
   "outputs": [
    {
     "name": "stdout",
     "output_type": "stream",
     "text": [
      "80\n"
     ]
    }
   ],
   "source": [
    "a = {'A':90, 'B':80, 'C':70}\n",
    "\n",
    "print (a['B'])"
   ]
  },
  {
   "cell_type": "code",
   "execution_count": 295,
   "id": "b84ece38",
   "metadata": {},
   "outputs": [
    {
     "name": "stdout",
     "output_type": "stream",
     "text": [
      "80\n",
      "{'A': 90, 'C': 70}\n"
     ]
    }
   ],
   "source": [
    "a = {'A':90, 'B':80, 'C':70} #pop을 사용하면 자료를 빼버린다\n",
    "\n",
    "print (a.pop('B'))\n",
    "print (a)"
   ]
  },
  {
   "cell_type": "markdown",
   "id": "4b1156ad",
   "metadata": {},
   "source": [
    "### a 리스트에서 중복된 숫자들을 제거해 보자.(hint : set 자료형 활용)\n",
    "- a = [1, 1, 1, 2, 2, 3, 3, 3, 4, 4, 5]"
   ]
  },
  {
   "cell_type": "code",
   "execution_count": 298,
   "id": "1c34cccc",
   "metadata": {},
   "outputs": [
    {
     "name": "stdout",
     "output_type": "stream",
     "text": [
      "[1, 2, 3, 4, 5]\n"
     ]
    }
   ],
   "source": [
    "a = [1, 1, 1, 2, 2, 3, 3, 3, 4, 4, 5]\n",
    "result = set(a)\n",
    "\n",
    "print(list(result))"
   ]
  },
  {
   "cell_type": "markdown",
   "id": "c9094eb5",
   "metadata": {},
   "source": [
    "### while문을 사용해 1부터 1000까지의 자연수 중 5의 배수의 합을 구해 보자"
   ]
  },
  {
   "cell_type": "code",
   "execution_count": 307,
   "id": "94ff4bb2",
   "metadata": {},
   "outputs": [
    {
     "name": "stdout",
     "output_type": "stream",
     "text": [
      "100500\n"
     ]
    }
   ],
   "source": [
    "i = 1\n",
    "result = 0\n",
    "\n",
    "while i <= 1000 :\n",
    "    if i % 5 == 0 :\n",
    "        result += i\n",
    "    i+=1\n",
    "print(result)\n",
    "\n"
   ]
  },
  {
   "cell_type": "markdown",
   "id": "40ef112e",
   "metadata": {},
   "source": [
    "### 위의 코드를 for문을 이용해 구현하시오"
   ]
  },
  {
   "cell_type": "code",
   "execution_count": 309,
   "id": "99f6e847",
   "metadata": {},
   "outputs": [
    {
     "name": "stdout",
     "output_type": "stream",
     "text": [
      "100500\n"
     ]
    }
   ],
   "source": [
    "result = 0\n",
    "\n",
    "for i in range(1,1001) :\n",
    "    if i % 5 == 0 :\n",
    "        result += i\n",
    "        \n",
    "print(result)\n",
    "        "
   ]
  },
  {
   "cell_type": "code",
   "execution_count": 311,
   "id": "4391d076",
   "metadata": {},
   "outputs": [
    {
     "name": "stdout",
     "output_type": "stream",
     "text": [
      "100500\n"
     ]
    }
   ],
   "source": [
    "result = 0\n",
    "\n",
    "for i in range(0,1001,5) :\n",
    "    result += i\n",
    "    \n",
    "print(result)"
   ]
  },
  {
   "cell_type": "markdown",
   "id": "6b27fef9",
   "metadata": {},
   "source": [
    "### for문을 사용하여 평균 점수를 구해 보자."
   ]
  },
  {
   "cell_type": "code",
   "execution_count": 312,
   "id": "0fb765f8",
   "metadata": {},
   "outputs": [
    {
     "name": "stdout",
     "output_type": "stream",
     "text": [
      "77.3\n"
     ]
    }
   ],
   "source": [
    "scores = [97, 60, 55, 66, 95, 90, 45, 80, 85, 100]\n",
    "result = 0 \n",
    "cnt = 0 \n",
    "for score in scores:\n",
    "    result += score\n",
    "    cnt += 1\n",
    "\n",
    "avg = result/cnt\n",
    "\n",
    "print(avg)"
   ]
  },
  {
   "cell_type": "code",
   "execution_count": 315,
   "id": "79143c59",
   "metadata": {},
   "outputs": [
    {
     "name": "stdout",
     "output_type": "stream",
     "text": [
      "77.3\n"
     ]
    }
   ],
   "source": [
    "scores = [97, 60, 55, 66, 95, 90, 45, 80, 85, 100]\n",
    "total = 0 \n",
    "\n",
    "for score in scores :\n",
    "    total += score\n",
    "    \n",
    "avg = total/len(scores)\n",
    "print(avg)"
   ]
  },
  {
   "attachments": {
    "image.png": {
     "image/png": "[encoded data removed]"
    }
   },
   "cell_type": "markdown",
   "id": "3d3e85d7",
   "metadata": {},
   "source": [
    "### 아래 numbers 리스트에서 홀수만 \\*2를 하여 새로운 리스트 result에 삽입하는 코드를  만드시오.\n",
    "- numbers : [1,2,3,4,5,6,7,8,9,10]\n",
    "- 출력결과(print(result))\n",
    "> ![image.png](attachment:image.png)"
   ]
  },
  {
   "cell_type": "code",
   "execution_count": 338,
   "id": "90356304",
   "metadata": {},
   "outputs": [
    {
     "name": "stdout",
     "output_type": "stream",
     "text": [
      "[2, 4, 6, 8, 10, 12, 14, 16, 18, 20]\n",
      "[2, 4, 6, 8, 10, 12, 14, 16, 18, 20]\n"
     ]
    }
   ],
   "source": [
    "numbers = [1,2,3,4,5,6,7,8,9,10]\n",
    "result = []\n",
    "\n",
    "for number in numbers :\n",
    "    if number %2 --1 :\n",
    "        result.append(number*2)\n",
    "print(result)\n",
    "\n",
    "numbers = [1,2,3,4,5,6,7,8,9,10]\n",
    "result = []\n",
    "\n",
    "\n",
    "for number in range(1,11) :\n",
    "    if number %2 --1 :\n",
    "        result.append(number*2)\n",
    "print(result)"
   ]
  },
  {
   "cell_type": "markdown",
   "id": "8f9633a1",
   "metadata": {},
   "source": [
    "### 위의 코드를 리스트 내포를 사용하여 표현하시오."
   ]
  },
  {
   "cell_type": "code",
   "execution_count": 340,
   "id": "e1482dd9",
   "metadata": {},
   "outputs": [
    {
     "name": "stdout",
     "output_type": "stream",
     "text": [
      "[2, 4, 6, 8, 10, 12, 14, 16, 18, 20]\n"
     ]
    }
   ],
   "source": [
    "numbers = [1,2,3,4,5,6,7,8,9,10]\n",
    "\n",
    "result = [number*2 for number in numbers if number %2 --1]\n",
    "print(result)"
   ]
  },
  {
   "attachments": {
    "image-2.png": {
     "image/png": "[encoded data removed]"
    }
   },
   "cell_type": "markdown",
   "id": "44a65a1f",
   "metadata": {},
   "source": [
    "### 사용자가 입력한 수만큼 하트를 출력하시오.\n",
    "- 사용자가 여러개의 숫자를 입력하면 입력한 숫자 만큼 ♥('\\u2665')출력하기   \n",
    "<예시>\n",
    "![image-2.png](attachment:image-2.png)"
   ]
  },
  {
   "cell_type": "code",
   "execution_count": 323,
   "id": "9e81f478",
   "metadata": {
    "scrolled": true
   },
   "outputs": [
    {
     "name": "stdout",
     "output_type": "stream",
     "text": [
      "    ♥\n",
      "   ♥♥♥\n",
      "  ♥♥♥♥♥\n",
      " ♥♥♥♥♥♥♥\n",
      "♥♥♥♥♥♥♥♥♥\n"
     ]
    }
   ],
   "source": [
    "i = 0\n",
    "n = 5\n",
    "\n",
    "while i < n :\n",
    "    print(' '*((n-1)-i),end='')\n",
    "    print('\\u2665'*((i*2)+1))\n",
    "    i += 1"
   ]
  },
  {
   "cell_type": "code",
   "execution_count": 354,
   "id": "25834799",
   "metadata": {},
   "outputs": [
    {
     "name": "stdout",
     "output_type": "stream",
     "text": [
      "숫자를 여러개 입력하세요5432\n",
      "♥♥♥♥♥\n",
      "♥♥♥♥\n",
      "♥♥♥\n",
      "♥♥\n"
     ]
    }
   ],
   "source": [
    "nums = input('숫자를 여러개 입력하세요')\n",
    "\n",
    "for num in nums : \n",
    "    heart = '\\u2665'*int(num)\n",
    "    print(heart)"
   ]
  },
  {
   "cell_type": "code",
   "execution_count": 350,
   "id": "98218317",
   "metadata": {},
   "outputs": [
    {
     "name": "stdout",
     "output_type": "stream",
     "text": [
      "숫자를 여러개 입력하세요5432\n",
      "♥♥♥♥♥\n",
      "♥♥♥♥\n",
      "♥♥♥\n",
      "♥♥\n"
     ]
    }
   ],
   "source": [
    "nums = input('숫자를 여러개 입력하세요')\n",
    "\n",
    "for num in nums : \n",
    "    heart = ''\n",
    "    for i in range(int(num)):\n",
    "        heart += '\\u2665'\n",
    "        \n",
    "    print(heart)"
   ]
  },
  {
   "attachments": {
    "image.png": {
     "image/png": "[encoded data removed]"
    }
   },
   "cell_type": "markdown",
   "id": "bd3408b8",
   "metadata": {},
   "source": [
    "### 구구단을 역순으로 출력하시오\n",
    "![image.png](attachment:image.png)"
   ]
  },
  {
   "cell_type": "code",
   "execution_count": 368,
   "id": "1ea9d762",
   "metadata": {},
   "outputs": [
    {
     "name": "stdout",
     "output_type": "stream",
     "text": [
      "9*9=81:\t8*9=72:\t7*9=63:\t6*9=54:\t5*9=45:\t4*9=36:\t3*9=27:\t2*9=18:\t\n",
      "9*8=72:\t8*8=64:\t7*8=56:\t6*8=48:\t5*8=40:\t4*8=32:\t3*8=24:\t2*8=16:\t\n",
      "9*7=63:\t8*7=56:\t7*7=49:\t6*7=42:\t5*7=35:\t4*7=28:\t3*7=21:\t2*7=14:\t\n",
      "9*6=54:\t8*6=48:\t7*6=42:\t6*6=36:\t5*6=30:\t4*6=24:\t3*6=18:\t2*6=12:\t\n",
      "9*5=45:\t8*5=40:\t7*5=35:\t6*5=30:\t5*5=25:\t4*5=20:\t3*5=15:\t2*5=10:\t\n",
      "9*4=36:\t8*4=32:\t7*4=28:\t6*4=24:\t5*4=20:\t4*4=16:\t3*4=12:\t2*4=8:\t\n",
      "9*3=27:\t8*3=24:\t7*3=21:\t6*3=18:\t5*3=15:\t4*3=12:\t3*3=9:\t2*3=6:\t\n",
      "9*2=18:\t8*2=16:\t7*2=14:\t6*2=12:\t5*2=10:\t4*2=8:\t3*2=6:\t2*2=4:\t\n",
      "9*1=9:\t8*1=8:\t7*1=7:\t6*1=6:\t5*1=5:\t4*1=4:\t3*1=3:\t2*1=2:\t\n"
     ]
    }
   ],
   "source": [
    "for i  in range(9,0,-1):\n",
    "  for j in range(9,1,-1):\n",
    "      print(f'{j}*{i}={i*j}:',end=\"\\t\")\n",
    "  print()"
   ]
  },
  {
   "cell_type": "code",
   "execution_count": 8,
   "id": "fc16eeb6",
   "metadata": {},
   "outputs": [
    {
     "name": "stdout",
     "output_type": "stream",
     "text": [
      "  9단\t  8단\t  7단\t  6단\t  5단\t  4단\t  3단\t\n",
      "9*9=81\t8*9=72\t7*9=63\t6*9=54\t5*9=45\t4*9=36\t3*9=27\t\n",
      "9*8=72\t8*8=64\t7*8=56\t6*8=48\t5*8=40\t4*8=32\t3*8=24\t\n",
      "9*7=63\t8*7=56\t7*7=49\t6*7=42\t5*7=35\t4*7=28\t3*7=21\t\n",
      "9*6=54\t8*6=48\t7*6=42\t6*6=36\t5*6=30\t4*6=24\t3*6=18\t\n",
      "9*5=45\t8*5=40\t7*5=35\t6*5=30\t5*5=25\t4*5=20\t3*5=15\t\n",
      "9*4=36\t8*4=32\t7*4=28\t6*4=24\t5*4=20\t4*4=16\t3*4=12\t\n",
      "9*3=27\t8*3=24\t7*3=21\t6*3=18\t5*3=15\t4*3=12\t3*3= 9\t\n",
      "9*2=18\t8*2=16\t7*2=14\t6*2=12\t5*2=10\t4*2= 8\t3*2= 6\t\n"
     ]
    }
   ],
   "source": [
    "for i in range(9,2,-1):\n",
    "    print(f'{i:>3}단',end='\\t')\n",
    "print()\n",
    "\n",
    "for i  in range(9,1,-1):\n",
    "    for j in range(9,2,-1):\n",
    "        print(f'{j}*{i}={i*j:>2}',end=\"\\t\")\n",
    "    print()"
   ]
  },
  {
   "cell_type": "markdown",
   "id": "e904975f",
   "metadata": {},
   "source": [
    "### 6개의 커피 음료와 음료의 가격이 담긴 리스트가 아래와 같이 있다. 가지고 있는 돈이 5,000원일 때 먹을 수 있는 모든 음료를 찾아보자!"
   ]
  },
  {
   "cell_type": "code",
   "execution_count": 371,
   "id": "cc3e1a34",
   "metadata": {},
   "outputs": [
    {
     "name": "stdout",
     "output_type": "stream",
     "text": [
      "아메리카노\n",
      "카페라떼\n",
      "카페모카\n",
      "콜드브루\n"
     ]
    }
   ],
   "source": [
    "coffees = ['아메리카노', '카페라떼', '카페모카', '바닐라라떼', '핸드드립', '콜드브루']\n",
    "prices = [4100, 4600, 4600, 5100, 6000, 5000]\n",
    "\n",
    "for i in range(len(coffees)):\n",
    "#     print(coffees[i],prices[i])\n",
    "    if prices[i] <= 5000 :\n",
    "        print(coffees[i])\n"
   ]
  },
  {
   "cell_type": "code",
   "execution_count": 9,
   "id": "a029b16d",
   "metadata": {},
   "outputs": [
    {
     "name": "stdout",
     "output_type": "stream",
     "text": [
      "['아메리카노', 4100]\n",
      "['카페라떼', 4600]\n",
      "['카페모카', 4600]\n",
      "['바닐라라떼', 5100]\n",
      "['핸드드립', 6000]\n",
      "['콜드브루', 5000]\n",
      "아메리카노\n",
      "카페라떼\n",
      "카페모카\n",
      "콜드브루\n"
     ]
    }
   ],
   "source": [
    "coffees = ['아메리카노', '카페라떼', '카페모카', '바닐라라떼', '핸드드립', '콜드브루']\n",
    "prices = [4100, 4600, 4600, 5100, 6000, 5000]\n",
    "menus = []\n",
    "\n",
    "for i in range(len(coffees)):\n",
    "    menu = []\n",
    "    menu.append(coffees[i])\n",
    "    menu.append(prices[i])\n",
    "    menus.append(menu)\n",
    "    print(menu)\n",
    "    \n",
    "for i in range(len(menus)):\n",
    "    if menus[i][1] <= 5000:\n",
    "        print(menus[i][0])\n"
   ]
  },
  {
   "cell_type": "code",
   "execution_count": 5,
   "id": "ae827cc2",
   "metadata": {},
   "outputs": [
    {
     "name": "stdout",
     "output_type": "stream",
     "text": [
      "아메리카노\n",
      "카페라떼\n",
      "카페모카\n",
      "콜드브루\n",
      "\n",
      "아메리카노\n",
      "카페라떼\n",
      "카페모카\n",
      "콜드브루\n"
     ]
    }
   ],
   "source": [
    "coffees = ['아메리카노', '카페라떼', '카페모카', '바닐라라떼', '핸드드립', '콜드브루']\n",
    "prices = [4100, 4600, 4600, 5100, 6000, 5000]\n",
    "menus = {}\n",
    "\n",
    "for i in range(len(coffees)):\n",
    "    menus[coffees[i]]=prices[i]\n",
    "#items()\n",
    "for key, value in menus.items():\n",
    "    if value <= 5000 : print(key)\n",
    "\n",
    "print() \n",
    "#keys()\n",
    "for key in menus.keys():\n",
    "    if menus[key] <=5000 : print(key)"
   ]
  },
  {
   "attachments": {
    "image-2.png": {
     "image/png": "[encoded data removed]"
    }
   },
   "cell_type": "markdown",
   "id": "e6570544",
   "metadata": {},
   "source": [
    "### 사용자로부터 달러, 엔, 유로, 또는 위안 금액을 입력받은 후 이를 원으로 변환하는 프로그램을 작성하라. \n",
    "- 각 통화별 환율은 다음과 같다. \n",
    "- 사용자는 100 달러, 1000 엔, 13 유로, 100 위안과 같이 **금액과 통화명 사이에 공백을 넣어 입력**한다고 가정한다.\n",
    "\n",
    "| 통화명 | 환율 |\n",
    "| ---- | ---- | \n",
    "|  달러 |  1,129 |  \n",
    "|  엔 |  1,032 | \n",
    "|  유로 | 1,368 | \n",
    "|  위안 |  175 |\n",
    "\n",
    "<예시>\n",
    "> ![image-2.png](attachment:image-2.png)"
   ]
  },
  {
   "cell_type": "code",
   "execution_count": 17,
   "id": "c9d7c4b6",
   "metadata": {},
   "outputs": [
    {
     "name": "stdout",
     "output_type": "stream",
     "text": [
      "입력(금액 입력후 화폐종류를 한칸뛰고 입력): 10000000000 유로\n",
      "13680000000000 원\n"
     ]
    }
   ],
   "source": [
    "exchangeRate = {\"달러\": 1129, \n",
    "        \"엔\": 1.032, \n",
    "        \"유로\": 1368, \n",
    "        \"위안\": 175}\n",
    "user = input(\"입력(금액 입력후 화폐종류를 한칸뛰고 입력): \")\n",
    "num, currency = user.split()\n",
    "print(int(num) * exchangeRate[currency], \"원\")"
   ]
  },
  {
   "cell_type": "code",
   "execution_count": 12,
   "id": "7085d617",
   "metadata": {},
   "outputs": [
    {
     "name": "stdout",
     "output_type": "stream",
     "text": [
      "원화로 환전된 금액은 11290000원 입니다.\n"
     ]
    }
   ],
   "source": [
    "exchangeRate = {'달러': 1129, \n",
    "                '엔': 1.032, \n",
    "                '유로': 1368, \n",
    "                '위안': 175}\n",
    "\n",
    "user = input(\"환전금액을 입력하세요(달러/엔/유로/위안: \")\n",
    "\n",
    "num, currency = user.split()\n",
    "print(f'원화로 환전된 금액은 {int(num) * exchangeRate[currency]}원 입니다.')"
   ]
  },
  {
   "cell_type": "markdown",
   "id": "9a6d271b",
   "metadata": {},
   "source": [
    "### 동물의 어미와 새끼의 이름을 딕셔너리로 묶는 프로그램을 만드시오.\n",
    "- 입력) [닭, 개, 곰, 고등어, 명태, 말, 호랑이] 중 새끼이름을 알고 싶은 동물은? 곰\n",
    "- 출력) <곰>의 새끼는 <능소니>입니다.\n",
    "- 동물어미와 새끼의 이름은 인터넷에서 검색한다.\n",
    "- 'end'를 입력하면 종료한다.\n",
    "\n"
   ]
  },
  {
   "cell_type": "code",
   "execution_count": 18,
   "id": "9831a7c1",
   "metadata": {
    "scrolled": true
   },
   "outputs": [
    {
     "name": "stdout",
     "output_type": "stream",
     "text": [
      "['닭', '개', '곰', '고등어', '명태', '말', '호랑이']중 새끼 이름을 알고 싶은 동물은? 명태\n",
      "<명태>의 새끼는 <노가리>입니다\n",
      "['닭', '개', '곰', '고등어', '명태', '말', '호랑이']중 새끼 이름을 알고 싶은 동물은? 고등어\n",
      "<고등어>의 새끼는 <고도리>입니다\n",
      "['닭', '개', '곰', '고등어', '명태', '말', '호랑이']중 새끼 이름을 알고 싶은 동물은? end\n"
     ]
    }
   ],
   "source": [
    "dict_animals = {'닭' : '병아리',\n",
    "           '개' : '강아지',\n",
    "           '곰' : '능소니',\n",
    "           '고등어' : '고도리',\n",
    "           '명태' : '노가리',\n",
    "           '말' : '망아지',\n",
    "           '호랑이' : '개호주'\n",
    "}\n",
    "\n",
    "list_animals = list(dict_animals.keys())\n",
    "\n",
    "while True :\n",
    "  myanimal = input(str(list_animals)+'중 새끼 이름을 알고 싶은 동물은? ')\n",
    "  if myanimal in  dict_animals :\n",
    "    print(f'<{myanimal}>의 새끼는 <{dict_animals[myanimal]}>입니다')\n",
    "\n",
    "  elif myanimal == 'end' :\n",
    "    break\n",
    "  else : \n",
    "    print('그런 동물은 없습니다. 확인해 보세요.')\n"
   ]
  },
  {
   "attachments": {
    "image-2.png": {
     "image/png": "[encoded data removed]"
    }
   },
   "cell_type": "markdown",
   "id": "373c2270",
   "metadata": {},
   "source": [
    "### numbers 내부에 들어 있는 각각의 숫자가 몇번 등장하는지를 출력하는 코드를 작성합니다.\n",
    "< 예시 >\n",
    "> print(counter) -> ![image-2.png](attachment:image-2.png)"
   ]
  },
  {
   "cell_type": "code",
   "execution_count": 16,
   "id": "f407e246",
   "metadata": {},
   "outputs": [
    {
     "name": "stdout",
     "output_type": "stream",
     "text": [
      "{1: 2, 2: 3, 3: 3, 4: 2, 5: 3, 8: 2, 9: 3, 7: 1}\n"
     ]
    }
   ],
   "source": [
    "numbers = [1,2,3,4,5,5,3,2,2,1,5,8,8,9,9,4,3,7,9]\n",
    "counter = {}\n",
    "\n",
    "for number in numbers:\n",
    "  if number in counter :\n",
    "    counter[number] +=1\n",
    "  else : \n",
    "    counter[number] =1\n",
    "\n",
    "print (counter)"
   ]
  },
  {
   "attachments": {
    "image.png": {
     "image/png": "[encoded data removed]"
    }
   },
   "cell_type": "markdown",
   "id": "e2580f39",
   "metadata": {},
   "source": [
    "### 단어 갯수 구하기\n",
    "\n",
    "- 다음과 같은 영어기사 4개가 있다.\n",
    "- 철수는 다음 뉴스기사들의 어떤 단어가 얼마나 나왔는지 궁금해졌다.\n",
    "-  뉴스기사에서 등장하는 모든 단어마다 개수를 세어보자!\n",
    "![image.png](attachment:image.png)"
   ]
  },
  {
   "cell_type": "code",
   "execution_count": 20,
   "id": "d3797e80",
   "metadata": {},
   "outputs": [
    {
     "name": "stdout",
     "output_type": "stream",
     "text": [
      "{}\n"
     ]
    }
   ],
   "source": [
    "#아래 4개의 변수들은 각각 하나의 문서를 의미합니다.\n",
    "\n",
    "news1 = \"champion products ch approves stock split champion products inc said its board of directors approved a two for one stock split of its common shares for shareholders of record as of april the company also said its board voted to recommend to shareholders at the annual meeting april an increase in the authorized capital stock from five mln to mln shares reuter\"\n",
    "news2 = \"computer terminal systems cpml completes sale computer terminal systems inc said it has completed the sale of shares of its common stock and warrants to acquire an additional one mln shares to sedio n v of lugano switzerland for dlrs the company said the warrants are exercisable for five years at a purchase price of dlrs per share computer terminal said sedio also has the right to buy additional shares and increase its total holdings up to pct of the computer terminal s outstanding common stock under certain circumstances involving change of control at the company the company said if the conditions occur the warrants would be exercisable at a price equal to pct of its common stock s market price at the time not to exceed dlrs per share computer terminal also said it sold the technolgy rights to its dot matrix impact technology including any future improvements to woodco inc of houston tex for dlrs but it said it would continue to be the exclusive worldwide licensee of the technology for woodco the company said the moves were part of its reorganization plan and would help pay current operation costs and ensure product delivery computer terminal makes computer generated labels forms tags and ticket printers and terminals reuter\"\n",
    "news3 = \"cobanco inc cbco year net shr cts vs dlrs net vs assets mln vs mln deposits mln vs mln loans mln vs mln note th qtr not available year includes extraordinary gain from tax carry forward of dlrs or five cts per shr reuter\"\n",
    "news4 = \"brown forman inc bfd th qtr net shr one dlr vs cts net mln vs mln revs mln vs mln nine mths shr dlrs vs dlrs net mln vs mln revs billion vs mln reuter\"\n",
    "\n",
    "news_list = news1.split()+news2.split()+news3.split()+news4.split()\n",
    "wordDict = dict()\n",
    "for word in news_list:\n",
    "  if word in wordDict :\n",
    "    wordDict[word] +=1\n",
    "  else : \n",
    "    wordDict[word] = 1\n",
    "\n",
    "print(wordDict)"
   ]
  },
  {
   "cell_type": "code",
   "execution_count": 18,
   "id": "da80ea4f",
   "metadata": {},
   "outputs": [
    {
     "name": "stdout",
     "output_type": "stream",
     "text": [
      "{'champion': 2, 'products': 2, 'ch': 1, 'approves': 1, 'stock': 6, 'split': 2, 'inc': 5, 'said': 9, 'its': 8, 'board': 2, 'of': 15, 'directors': 1, 'approved': 1, 'a': 3, 'two': 1, 'for': 6, 'one': 3, 'common': 4, 'shares': 5, 'shareholders': 2, 'record': 1, 'as': 1, 'april': 2, 'the': 18, 'company': 5, 'also': 3, 'voted': 1, 'to': 12, 'recommend': 1, 'at': 5, 'annual': 1, 'meeting': 1, 'an': 2, 'increase': 2, 'in': 1, 'authorized': 1, 'capital': 1, 'from': 2, 'five': 3, 'mln': 16, 'reuter': 4, 'computer': 7, 'terminal': 6, 'systems': 2, 'cpml': 1, 'completes': 1, 'sale': 2, 'it': 4, 'has': 2, 'completed': 1, 'and': 6, 'warrants': 3, 'acquire': 1, 'additional': 2, 'sedio': 2, 'n': 1, 'v': 1, 'lugano': 1, 'switzerland': 1, 'dlrs': 8, 'are': 1, 'exercisable': 2, 'years': 1, 'purchase': 1, 'price': 3, 'per': 3, 'share': 2, 'right': 1, 'buy': 1, 'total': 1, 'holdings': 1, 'up': 1, 'pct': 2, 's': 2, 'outstanding': 1, 'under': 1, 'certain': 1, 'circumstances': 1, 'involving': 1, 'change': 1, 'control': 1, 'if': 1, 'conditions': 1, 'occur': 1, 'would': 3, 'be': 2, 'equal': 1, 'market': 1, 'time': 1, 'not': 2, 'exceed': 1, 'sold': 1, 'technolgy': 1, 'rights': 1, 'dot': 1, 'matrix': 1, 'impact': 1, 'technology': 2, 'including': 1, 'any': 1, 'future': 1, 'improvements': 1, 'woodco': 2, 'houston': 1, 'tex': 1, 'but': 1, 'continue': 1, 'exclusive': 1, 'worldwide': 1, 'licensee': 1, 'moves': 1, 'were': 1, 'part': 1, 'reorganization': 1, 'plan': 1, 'help': 1, 'pay': 1, 'current': 1, 'operation': 1, 'costs': 1, 'ensure': 1, 'product': 1, 'delivery': 1, 'makes': 1, 'generated': 1, 'labels': 1, 'forms': 1, 'tags': 1, 'ticket': 1, 'printers': 1, 'terminals': 1, 'cobanco': 1, 'cbco': 1, 'year': 2, 'net': 5, 'shr': 4, 'cts': 3, 'vs': 11, 'assets': 1, 'deposits': 1, 'loans': 1, 'note': 1, 'th': 2, 'qtr': 2, 'available': 1, 'includes': 1, 'extraordinary': 1, 'gain': 1, 'tax': 1, 'carry': 1, 'forward': 1, 'or': 1, 'brown': 1, 'forman': 1, 'bfd': 1, 'dlr': 1, 'revs': 2, 'nine': 1, 'mths': 1, 'billion': 1}\n"
     ]
    }
   ],
   "source": [
    "#아래 4개의 변수들은 각각 하나의 문서를 의미합니다.\n",
    "\n",
    "news1 = \"champion products ch approves stock split champion products inc said its board of directors approved a two for one stock split of its common shares for shareholders of record as of april the company also said its board voted to recommend to shareholders at the annual meeting april an increase in the authorized capital stock from five mln to mln shares reuter\"\n",
    "news2 = \"computer terminal systems cpml completes sale computer terminal systems inc said it has completed the sale of shares of its common stock and warrants to acquire an additional one mln shares to sedio n v of lugano switzerland for dlrs the company said the warrants are exercisable for five years at a purchase price of dlrs per share computer terminal said sedio also has the right to buy additional shares and increase its total holdings up to pct of the computer terminal s outstanding common stock under certain circumstances involving change of control at the company the company said if the conditions occur the warrants would be exercisable at a price equal to pct of its common stock s market price at the time not to exceed dlrs per share computer terminal also said it sold the technolgy rights to its dot matrix impact technology including any future improvements to woodco inc of houston tex for dlrs but it said it would continue to be the exclusive worldwide licensee of the technology for woodco the company said the moves were part of its reorganization plan and would help pay current operation costs and ensure product delivery computer terminal makes computer generated labels forms tags and ticket printers and terminals reuter\"\n",
    "news3 = \"cobanco inc cbco year net shr cts vs dlrs net vs assets mln vs mln deposits mln vs mln loans mln vs mln note th qtr not available year includes extraordinary gain from tax carry forward of dlrs or five cts per shr reuter\"\n",
    "news4 = \"brown forman inc bfd th qtr net shr one dlr vs cts net mln vs mln revs mln vs mln nine mths shr dlrs vs dlrs net mln vs mln revs billion vs mln reuter\"\n",
    "\n",
    "news_list = news1.split()+news2.split()+news3.split()+news4.split()\n",
    "# news_list=['hello', 'hello',' python','hello', 'Welcome','Welcome']\n",
    "wordDict = dict()\n",
    "\n",
    "for word in news_list:\n",
    "    wordDict[word] = wordDict.get(word, 0)+1\n",
    "\n",
    "print(wordDict)"
   ]
  },
  {
   "cell_type": "code",
   "execution_count": null,
   "id": "c9c6c134",
   "metadata": {},
   "outputs": [],
   "source": []
  }
 ],
 "metadata": {
  "kernelspec": {
   "display_name": "Python 3 (ipykernel)",
   "language": "python",
   "name": "python3"
  },
  "language_info": {
   "codemirror_mode": {
    "name": "ipython",
    "version": 3
   },
   "file_extension": ".py",
   "mimetype": "text/x-python",
   "name": "python",
   "nbconvert_exporter": "python",
   "pygments_lexer": "ipython3",
   "version": "3.9.12"
  },
  "toc": {
   "base_numbering": 1,
   "nav_menu": {},
   "number_sections": true,
   "sideBar": true,
   "skip_h1_title": false,
   "title_cell": "Table of Contents",
   "title_sidebar": "Contents",
   "toc_cell": false,
   "toc_position": {
    "height": "calc(100% - 180px)",
    "left": "10px",
    "top": "150px",
    "width": "345.994px"
   },
   "toc_section_display": true,
   "toc_window_display": false
  },
  "vscode": {
   "interpreter": {
    "hash": "cf2895c1b3a18e0def21936cd98875861a3ee719675c3d36eca611e8cdcb3203"
   }
  }
 },
 "nbformat": 4,
 "nbformat_minor": 5
}
