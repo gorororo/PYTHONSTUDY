{
 "cells": [
  {
   "cell_type": "markdown",
   "metadata": {},
   "source": [
    "### 클래스 메서드\n",
    "- 매번 함수를 만드는게 아니라 똑같은구조를 여러게 해야할때 만든다\n",
    "- 한번만 설계도를 만들어서 함수를 여러개 찍어낼수 있다\n",
    "- 과자틀 = Class 과자 = 함수"
   ]
  },
  {
   "cell_type": "code",
   "execution_count": 3,
   "metadata": {},
   "outputs": [
    {
     "name": "stdout",
     "output_type": "stream",
     "text": [
      "3\n",
      "7\n",
      "3\n",
      "10\n"
     ]
    }
   ],
   "source": [
    "result1 = 0 #이렇게 해야하는걸 밑에 처럼 할수있다.\n",
    "result2 = 0\n",
    "\n",
    "def add1(num):\n",
    "    global result1\n",
    "    result1 += num\n",
    "    return result1\n",
    "\n",
    "def add2(num):\n",
    "    global result2\n",
    "    result2 += num\n",
    "    return result2\n",
    "\n",
    "print(add1(3))\n",
    "print(add1(4))\n",
    "print(add2(3))\n",
    "print(add2(7))"
   ]
  },
  {
   "cell_type": "code",
   "execution_count": 7,
   "metadata": {},
   "outputs": [
    {
     "name": "stdout",
     "output_type": "stream",
     "text": [
      "3\n",
      "7\n",
      "3\n",
      "10\n"
     ]
    }
   ],
   "source": [
    "class Calculater: #설계도를 작성해서 여러개를 만들때 사용\n",
    "    def __init__(self):\n",
    "        self.result = 0\n",
    "    \n",
    "    def add(self, num):\n",
    "        self.result += num\n",
    "        return self.result\n",
    "\n",
    "cal1 = Calculater()\n",
    "cal2 = Calculater()\n",
    "\n",
    "print(cal1.add(3))\n",
    "print(cal1.add(4))\n",
    "print(cal2.add(3))\n",
    "print(cal2.add(7))"
   ]
  },
  {
   "cell_type": "code",
   "execution_count": 2,
   "metadata": {},
   "outputs": [
    {
     "name": "stdout",
     "output_type": "stream",
     "text": [
      "<class '__main__.FourCal'>\n"
     ]
    }
   ],
   "source": [
    "class FourCal:\n",
    "  pass\n",
    "\n",
    "a =FourCal()\n",
    "print(type(a))"
   ]
  },
  {
   "cell_type": "code",
   "execution_count": 4,
   "metadata": {},
   "outputs": [
    {
     "name": "stdout",
     "output_type": "stream",
     "text": [
      "1\n",
      "2\n"
     ]
    }
   ],
   "source": [
    "class FourCal:\n",
    "  def setdata(self, first, second): #self 에는 a 가 들어가고 \n",
    "    self.first = first #a.first 첫번째 값이 들어가고\n",
    "    self.second = second #a.second 에 두번째 값이 들어간다\n",
    "\n",
    "a = FourCal()\n",
    "a.setdata(1,2)\n",
    "print(a.first)\n",
    "print(a.second)\n",
    "\n"
   ]
  },
  {
   "cell_type": "markdown",
   "metadata": {},
   "source": [
    "#### 반독되는 변수 & 메서드(함수)를 미리 정해 놓은 틀(설계도)"
   ]
  },
  {
   "cell_type": "code",
   "execution_count": 6,
   "metadata": {},
   "outputs": [
    {
     "name": "stdout",
     "output_type": "stream",
     "text": [
      "6\n"
     ]
    }
   ],
   "source": [
    "class FourCal:\n",
    "  def setdata(self, first, second): \n",
    "    self.first = first \n",
    "    self.second = second \n",
    "  def add(self):\n",
    "    result = self.first + self.second\n",
    "    return result\n",
    "\n",
    "a = FourCal()\n",
    "a.setdata(4,2)\n",
    "print(a.add())"
   ]
  },
  {
   "cell_type": "code",
   "execution_count": 10,
   "metadata": {},
   "outputs": [],
   "source": [
    "class FourCal:\n",
    "  def __init__(self, first, second): #설계도에 __init__을 쓰면 제일 맨처음 실행된다 *생성자*\n",
    "    self.first = first\n",
    "    self.second = second\n",
    "  def setdata(self, first, second):\n",
    "    self.first = first\n",
    "    self.second = second  \n",
    "  def add(self):\n",
    "    result = self.first + self.second\n",
    "    return result\n",
    "\n",
    "a = FourCal(1,2)"
   ]
  },
  {
   "cell_type": "markdown",
   "metadata": {},
   "source": [
    "#### 클래스의 상속\n",
    "- 설계도를 미리 짜논걸 이용해서 덫붙여서 다른걸 만들때 \n",
    "- 상속 부모 의 클래스를 가지고 자식 클래스를 만든다"
   ]
  },
  {
   "cell_type": "code",
   "execution_count": 12,
   "metadata": {},
   "outputs": [
    {
     "name": "stdout",
     "output_type": "stream",
     "text": [
      "6\n"
     ]
    }
   ],
   "source": [
    "class FourCal:\n",
    "  def __init__(self, first, second): \n",
    "    self.first = first\n",
    "    self.second = second\n",
    "  def setdata(self, first, second):\n",
    "    self.first = first\n",
    "    self.second = second  \n",
    "  def add(self):\n",
    "    result = self.first + self.second\n",
    "    return result\n",
    "class MoreFourCal(FourCal): #자식 클래스(부모 클래스) 를 넣으면 된다\n",
    "  pass\n",
    "\n",
    "a=MoreFourCal(4,2)\n",
    "print(a.add())"
   ]
  },
  {
   "cell_type": "markdown",
   "metadata": {},
   "source": [
    "#### 메서드 오버라이딩\n",
    "- 부모의 함수를 덮어 쓴다"
   ]
  },
  {
   "cell_type": "code",
   "execution_count": 15,
   "metadata": {},
   "outputs": [
    {
     "name": "stdout",
     "output_type": "stream",
     "text": [
      "4\n"
     ]
    }
   ],
   "source": [
    "class FourCal:\n",
    "  def __init__(self, first, second):\n",
    "      self.first = first\n",
    "      self.second = second\n",
    "  def setdata(self, first, second):\n",
    "      self.first = first\n",
    "      self.second = second\n",
    "  def add(self):\n",
    "      result = self.first + self.second\n",
    "      return result\n",
    "  def mul(self):\n",
    "      result = self.first * self.second\n",
    "      return result\n",
    "  def sub(self):\n",
    "      result = self.first - self.second\n",
    "      return result\n",
    "  def div(self):\n",
    "      result = self.first / self.second\n",
    "      return result\n",
    "class SafeFourCal(FourCal):\n",
    "  def div(self): #자식이 우선시가 된다 바꾼걸 사용하기 위해서 하는 것\n",
    "    if self.second == 0:\n",
    "      return 0\n",
    "    else:\n",
    "      return self.first / self.second\n",
    "\n",
    "a= SafeFourCal(4,0)\n",
    "print(a.add())"
   ]
  },
  {
   "cell_type": "markdown",
   "metadata": {},
   "source": [
    "#### 클래스 변수, 객체변수 차이"
   ]
  },
  {
   "cell_type": "code",
   "execution_count": 18,
   "metadata": {},
   "outputs": [
    {
     "name": "stdout",
     "output_type": "stream",
     "text": [
      "2\n",
      "2\n"
     ]
    }
   ],
   "source": [
    "class FourCal:\n",
    "  first = 2 #클래스 변수\n",
    "  second = 3\n",
    "  \n",
    "  # def __init__(self, first, second): #객체변수\n",
    "  #   self.first = first\n",
    "  #   self.second = second\n",
    "  def setdata(self, first, second):\n",
    "    self.first = first\n",
    "    self.second = second  \n",
    "  def add(self):\n",
    "    result = self.first + self.second\n",
    "    return result\n",
    "\n",
    "a=FourCal()\n",
    "print(a.first)\n",
    "b=FourCal()\n",
    "print(b.first)"
   ]
  },
  {
   "cell_type": "code",
   "execution_count": 21,
   "metadata": {},
   "outputs": [
    {
     "name": "stdout",
     "output_type": "stream",
     "text": [
      "박\n",
      "박\n",
      "박\n"
     ]
    }
   ],
   "source": [
    "class Family:\n",
    "  lastname = \"김\" #클래스 변수를\n",
    "\n",
    "Family.lastname = \"박\" #클래스 자체이서 불러서 바꿀수있다.\n",
    "print(Family.lastname)\n",
    "\n",
    "a = Family()\n",
    "b = Family()\n",
    "print(a.lastname)\n",
    "print(b.lastname)"
   ]
  },
  {
   "cell_type": "markdown",
   "metadata": {},
   "source": [
    "## 모듈이란 ?\n",
    "- 미리 만들어논 py 파일을 말한다"
   ]
  },
  {
   "cell_type": "code",
   "execution_count": 23,
   "metadata": {},
   "outputs": [
    {
     "name": "stdout",
     "output_type": "stream",
     "text": [
      "3\n"
     ]
    }
   ],
   "source": [
    "import mod1 #다른파일을 가져와서 실행(css라이브러리 불러오기 랑 같은 방식이다)\n",
    "print (mod1.add(1,2))"
   ]
  },
  {
   "cell_type": "code",
   "execution_count": 25,
   "metadata": {},
   "outputs": [
    {
     "name": "stdout",
     "output_type": "stream",
     "text": [
      "3\n"
     ]
    }
   ],
   "source": [
    "from mod1 import add #파일에서 특정 함수 만 가져오고싶을떄 맨 마지막에 적는다\n",
    "print (add(1,2)) #장점은 전체를 불러오는것보다 빠르고 바로 표시도 가능"
   ]
  },
  {
   "cell_type": "code",
   "execution_count": 2,
   "metadata": {},
   "outputs": [
    {
     "name": "stdout",
     "output_type": "stream",
     "text": [
      "7\n"
     ]
    }
   ],
   "source": [
    "import sys\n",
    "sys.path.append(\"D:\\gorororo\\PYTHONSTUDY\\python training\\subFolder\")\n",
    "#다른 폴더에 있을때는 sys.path.append 이걸붙여줘야한다\n",
    "import mod1\n",
    "print(mod1.add(3,4))"
   ]
  },
  {
   "cell_type": "code",
   "execution_count": 5,
   "metadata": {},
   "outputs": [
    {
     "name": "stdout",
     "output_type": "stream",
     "text": [
      "echo\n"
     ]
    }
   ],
   "source": [
    "import game.sound.echo #cmd 로 폴더에서 파이썬 실행해야 읽을수있다 아니면 경로지정하기 힘듬\n",
    "game.sound.echo.echo_test()"
   ]
  },
  {
   "cell_type": "code",
   "execution_count": 5,
   "metadata": {},
   "outputs": [
    {
     "data": {
      "text/plain": [
       "<function game.sound.echo.echo_test()>"
      ]
     },
     "execution_count": 5,
     "metadata": {},
     "output_type": "execute_result"
    }
   ],
   "source": [
    "from game.sound import echo\n",
    "echo.echo_test"
   ]
  },
  {
   "cell_type": "code",
   "execution_count": 6,
   "metadata": {},
   "outputs": [
    {
     "name": "stdout",
     "output_type": "stream",
     "text": [
      "echo\n"
     ]
    }
   ],
   "source": [
    "from game.sound.echo import echo_test\n",
    "echo_test()"
   ]
  }
 ],
 "metadata": {
  "interpreter": {
   "hash": "cf2895c1b3a18e0def21936cd98875861a3ee719675c3d36eca611e8cdcb3203"
  },
  "kernelspec": {
   "display_name": "Python 3.10.4 64-bit",
   "language": "python",
   "name": "python3"
  },
  "language_info": {
   "codemirror_mode": {
    "name": "ipython",
    "version": 3
   },
   "file_extension": ".py",
   "mimetype": "text/x-python",
   "name": "python",
   "nbconvert_exporter": "python",
   "pygments_lexer": "ipython3",
   "version": "3.10.4"
  },
  "orig_nbformat": 4
 },
 "nbformat": 4,
 "nbformat_minor": 2
}
