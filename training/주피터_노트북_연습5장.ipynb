{
 "cells": [
  {
   "cell_type": "markdown",
   "metadata": {},
   "source": [
    "### 클래스 메서드\n",
    "- 매번 함수를 만드는게 아니라 똑같은구조를 여러게 해야할때 만든다\n",
    "- 한번만 설계도를 만들어서 함수를 여러개 찍어낼수 있다\n",
    "- 과자틀 = Class 과자 = 함수"
   ]
  },
  {
   "cell_type": "code",
   "execution_count": 3,
   "metadata": {},
   "outputs": [
    {
     "name": "stdout",
     "output_type": "stream",
     "text": [
      "3\n",
      "7\n",
      "3\n",
      "10\n"
     ]
    }
   ],
   "source": [
    "result1 = 0 #이렇게 해야하는걸 밑에 처럼 할수있다.\n",
    "result2 = 0\n",
    "\n",
    "def add1(num):\n",
    "    global result1\n",
    "    result1 += num\n",
    "    return result1\n",
    "\n",
    "def add2(num):\n",
    "    global result2\n",
    "    result2 += num\n",
    "    return result2\n",
    "\n",
    "print(add1(3))\n",
    "print(add1(4))\n",
    "print(add2(3))\n",
    "print(add2(7))"
   ]
  },
  {
   "cell_type": "code",
   "execution_count": 7,
   "metadata": {},
   "outputs": [
    {
     "name": "stdout",
     "output_type": "stream",
     "text": [
      "3\n",
      "7\n",
      "3\n",
      "10\n"
     ]
    }
   ],
   "source": [
    "class Calculater: #설계도를 작성해서 여러개를 만들때 사용\n",
    "    def __init__(self):\n",
    "        self.result = 0\n",
    "    \n",
    "    def add(self, num):\n",
    "        self.result += num\n",
    "        return self.result\n",
    "\n",
    "cal1 = Calculater()\n",
    "cal2 = Calculater()\n",
    "\n",
    "print(cal1.add(3))\n",
    "print(cal1.add(4))\n",
    "print(cal2.add(3))\n",
    "print(cal2.add(7))"
   ]
  },
  {
   "cell_type": "code",
   "execution_count": 2,
   "metadata": {},
   "outputs": [
    {
     "name": "stdout",
     "output_type": "stream",
     "text": [
      "<class '__main__.FourCal'>\n"
     ]
    }
   ],
   "source": [
    "class FourCal:\n",
    "  pass\n",
    "\n",
    "a =FourCal()\n",
    "print(type(a))"
   ]
  },
  {
   "cell_type": "code",
   "execution_count": 4,
   "metadata": {},
   "outputs": [
    {
     "name": "stdout",
     "output_type": "stream",
     "text": [
      "1\n",
      "2\n"
     ]
    }
   ],
   "source": [
    "class FourCal:\n",
    "  def setdata(self, first, second): #self 에는 a 가 들어가고 \n",
    "    self.first = first #a.first 첫번째 값이 들어가고\n",
    "    self.second = second #a.second 에 두번째 값이 들어간다\n",
    "\n",
    "a = FourCal()\n",
    "a.setdata(1,2)\n",
    "print(a.first)\n",
    "print(a.second)\n",
    "\n"
   ]
  },
  {
   "cell_type": "markdown",
   "metadata": {},
   "source": [
    "#### 반독되는 변수 & 메서드(함수)를 미리 정해 놓은 틀(설계도)"
   ]
  },
  {
   "cell_type": "code",
   "execution_count": 6,
   "metadata": {},
   "outputs": [
    {
     "name": "stdout",
     "output_type": "stream",
     "text": [
      "6\n"
     ]
    }
   ],
   "source": [
    "class FourCal:\n",
    "  def setdata(self, first, second): \n",
    "    self.first = first \n",
    "    self.second = second \n",
    "  def add(self):\n",
    "    result = self.first + self.second\n",
    "    return result\n",
    "\n",
    "a = FourCal()\n",
    "a.setdata(4,2)\n",
    "print(a.add())"
   ]
  },
  {
   "cell_type": "code",
   "execution_count": 10,
   "metadata": {},
   "outputs": [],
   "source": [
    "class FourCal:\n",
    "  def __init__(self, first, second): #설계도에 __init__을 쓰면 제일 맨처음 실행된다 *생성자*\n",
    "    self.first = first\n",
    "    self.second = second\n",
    "  def setdata(self, first, second):\n",
    "    self.first = first\n",
    "    self.second = second  \n",
    "  def add(self):\n",
    "    result = self.first + self.second\n",
    "    return result\n",
    "\n",
    "a = FourCal(1,2)"
   ]
  },
  {
   "cell_type": "markdown",
   "metadata": {},
   "source": [
    "#### 클래스의 상속\n",
    "- 설계도를 미리 짜논걸 이용해서 덫붙여서 다른걸 만들때 \n",
    "- 상속 부모 의 클래스를 가지고 자식 클래스를 만든다"
   ]
  },
  {
   "cell_type": "code",
   "execution_count": 12,
   "metadata": {},
   "outputs": [
    {
     "name": "stdout",
     "output_type": "stream",
     "text": [
      "6\n"
     ]
    }
   ],
   "source": [
    "class FourCal:\n",
    "  def __init__(self, first, second): \n",
    "    self.first = first\n",
    "    self.second = second\n",
    "  def setdata(self, first, second):\n",
    "    self.first = first\n",
    "    self.second = second  \n",
    "  def add(self):\n",
    "    result = self.first + self.second\n",
    "    return result\n",
    "class MoreFourCal(FourCal): #자식 클래스(부모 클래스) 를 넣으면 된다\n",
    "  pass\n",
    "\n",
    "a=MoreFourCal(4,2)\n",
    "print(a.add())"
   ]
  },
  {
   "cell_type": "markdown",
   "metadata": {},
   "source": [
    "#### 메서드 오버라이딩\n",
    "- 부모의 함수를 덮어 쓴다"
   ]
  },
  {
   "cell_type": "code",
   "execution_count": 84,
   "metadata": {},
   "outputs": [
    {
     "name": "stdout",
     "output_type": "stream",
     "text": [
      "285677021898\n"
     ]
    }
   ],
   "source": [
    "class FourCal:\n",
    "  def __init__(self, first, second):\n",
    "      self.first = first\n",
    "      self.second = second\n",
    "  def setdata(self, first, second):\n",
    "      self.first = first\n",
    "      self.second = second\n",
    "  def add(self):\n",
    "      result = self.first + self.second\n",
    "      return result\n",
    "  def mul(self):\n",
    "      result = self.first * self.second\n",
    "      return result\n",
    "  def sub(self):\n",
    "      result = self.first - self.second\n",
    "      return result\n",
    "  def div(self):\n",
    "      result = self.first / self.second\n",
    "      return result\n",
    "class SafeFourCal(FourCal):\n",
    "  def div(self): #자식이 우선시가 된다 바꾼걸 사용하기 위해서 하는 것\n",
    "    if self.second == 0:\n",
    "      return 0\n",
    "    else:\n",
    "      return self.first / self.second\n",
    "\n",
    "a= SafeFourCal(123546,2312313)\n",
    "print(a.mul())"
   ]
  },
  {
   "cell_type": "markdown",
   "metadata": {},
   "source": [
    "#### 클래스 변수, 객체변수 차이"
   ]
  },
  {
   "cell_type": "code",
   "execution_count": 18,
   "metadata": {},
   "outputs": [
    {
     "name": "stdout",
     "output_type": "stream",
     "text": [
      "2\n",
      "2\n"
     ]
    }
   ],
   "source": [
    "class FourCal:\n",
    "  first = 2 #클래스 변수\n",
    "  second = 3\n",
    "  \n",
    "  # def __init__(self, first, second): #객체변수\n",
    "  #   self.first = first\n",
    "  #   self.second = second\n",
    "  def setdata(self, first, second):\n",
    "    self.first = first\n",
    "    self.second = second  \n",
    "  def add(self):\n",
    "    result = self.first + self.second\n",
    "    return result\n",
    "\n",
    "a=FourCal()\n",
    "print(a.first)\n",
    "b=FourCal()\n",
    "print(b.first)"
   ]
  },
  {
   "cell_type": "code",
   "execution_count": 21,
   "metadata": {},
   "outputs": [
    {
     "name": "stdout",
     "output_type": "stream",
     "text": [
      "박\n",
      "박\n",
      "박\n"
     ]
    }
   ],
   "source": [
    "class Family:\n",
    "  lastname = \"김\" #클래스 변수를\n",
    "\n",
    "Family.lastname = \"박\" #클래스 자체이서 불러서 바꿀수있다.\n",
    "print(Family.lastname)\n",
    "\n",
    "a = Family()\n",
    "b = Family()\n",
    "print(a.lastname)\n",
    "print(b.lastname)"
   ]
  },
  {
   "cell_type": "markdown",
   "metadata": {},
   "source": [
    "## 모듈이란 ?\n",
    "- 미리 만들어논 py 파일을 말한다"
   ]
  },
  {
   "cell_type": "code",
   "execution_count": 23,
   "metadata": {},
   "outputs": [
    {
     "name": "stdout",
     "output_type": "stream",
     "text": [
      "3\n"
     ]
    }
   ],
   "source": [
    "import mod1 #다른파일을 가져와서 실행(css라이브러리 불러오기 랑 같은 방식이다)\n",
    "print (mod1.add(1,2))"
   ]
  },
  {
   "cell_type": "code",
   "execution_count": 25,
   "metadata": {},
   "outputs": [
    {
     "name": "stdout",
     "output_type": "stream",
     "text": [
      "3\n"
     ]
    }
   ],
   "source": [
    "from mod1 import add #파일에서 특정 함수 만 가져오고싶을떄 맨 마지막에 적는다\n",
    "print (add(1,2)) #장점은 전체를 불러오는것보다 빠르고 바로 표시도 가능"
   ]
  },
  {
   "cell_type": "code",
   "execution_count": 1,
   "metadata": {},
   "outputs": [
    {
     "name": "stdout",
     "output_type": "stream",
     "text": [
      "7\n"
     ]
    }
   ],
   "source": [
    "import sys\n",
    "sys.path.append(\"D:\\gorororo\\PYTHONSTUDY\\python training\\subFolder\")\n",
    "#다른 폴더에 있을때는 sys.path.append 이걸붙여줘야한다\n",
    "import mod1\n",
    "print(mod1.add(3,4))"
   ]
  },
  {
   "cell_type": "markdown",
   "metadata": {},
   "source": [
    "## 패키지란 모듈을 여러개 모아둔것"
   ]
  },
  {
   "cell_type": "markdown",
   "metadata": {},
   "source": [
    "__init__.pu 는 3.0 이전에는 첫번째 실행파일로써 써줘야했지만 패치이후에는 안써줘도된다"
   ]
  },
  {
   "cell_type": "code",
   "execution_count": 5,
   "metadata": {},
   "outputs": [
    {
     "name": "stdout",
     "output_type": "stream",
     "text": [
      "echo\n"
     ]
    }
   ],
   "source": [
    "import game.sound.echo #cmd 로 폴더에서 파이썬 실행해야 읽을수있다 아니면 경로지정하기 힘듬\n",
    "game.sound.echo.echo_test()"
   ]
  },
  {
   "cell_type": "code",
   "execution_count": 4,
   "metadata": {},
   "outputs": [
    {
     "name": "stdout",
     "output_type": "stream",
     "text": [
      "echo\n"
     ]
    }
   ],
   "source": [
    "from game.sound import echo #파일을 불러오겠다\n",
    "echo.echo_test()"
   ]
  },
  {
   "cell_type": "code",
   "execution_count": 6,
   "metadata": {},
   "outputs": [
    {
     "name": "stdout",
     "output_type": "stream",
     "text": [
      "echo\n"
     ]
    }
   ],
   "source": [
    "from game.sound.echo import echo_test #함수만 불러오겠다\n",
    "echo_test()\n"
   ]
  },
  {
   "cell_type": "code",
   "execution_count": 8,
   "metadata": {},
   "outputs": [
    {
     "name": "stdout",
     "output_type": "stream",
     "text": [
      "echo\n"
     ]
    }
   ],
   "source": [
    "from game.sound.echo import echo_test as e #불러온 함수를 as e 약어로 정하여 불러오겠다\n",
    "e()\n"
   ]
  },
  {
   "cell_type": "code",
   "execution_count": 11,
   "metadata": {},
   "outputs": [
    {
     "name": "stdout",
     "output_type": "stream",
     "text": [
      "echo\n"
     ]
    }
   ],
   "source": [
    "from game.sound.echo import * #패키지에서 모든걸 불러올떄 * 를 쓴다\n",
    "echo.echo_test()"
   ]
  },
  {
   "cell_type": "markdown",
   "metadata": {},
   "source": [
    "1. try:\n",
    "오류가 발생할 수 있는 구문\n",
    "2. except Exception as e:\n",
    "오류 발생\n",
    "3. else:\n",
    "오류 발생하지 않음\n",
    "4. finally:\n",
    "무조건 마지막에 실행"
   ]
  },
  {
   "cell_type": "code",
   "execution_count": 13,
   "metadata": {},
   "outputs": [
    {
     "ename": "NameError",
     "evalue": "name 'opne' is not defined",
     "output_type": "error",
     "traceback": [
      "\u001b[1;31m---------------------------------------------------------------------------\u001b[0m",
      "\u001b[1;31mNameError\u001b[0m                                 Traceback (most recent call last)",
      "\u001b[1;32md:\\gorororo\\PYTHONSTUDY\\python training\\주피터_노트북_연습5장.ipynb Cell 28'\u001b[0m in \u001b[0;36m<cell line: 1>\u001b[1;34m()\u001b[0m\n\u001b[1;32m----> <a href='vscode-notebook-cell:/d%3A/gorororo/PYTHONSTUDY/python%20training/%EC%A3%BC%ED%94%BC%ED%84%B0_%EB%85%B8%ED%8A%B8%EB%B6%81_%EC%97%B0%EC%8A%B55%EC%9E%A5.ipynb#ch0000030?line=0'>1</a>\u001b[0m f \u001b[39m=\u001b[39m opne(\u001b[39m\"\u001b[39m\u001b[39m없는 파일\u001b[39m\u001b[39m\"\u001b[39m,\u001b[39m'\u001b[39m\u001b[39mr\u001b[39m\u001b[39m'\u001b[39m)\n\u001b[0;32m      <a href='vscode-notebook-cell:/d%3A/gorororo/PYTHONSTUDY/python%20training/%EC%A3%BC%ED%94%BC%ED%84%B0_%EB%85%B8%ED%8A%B8%EB%B6%81_%EC%97%B0%EC%8A%B55%EC%9E%A5.ipynb#ch0000030?line=1'>2</a>\u001b[0m \u001b[39mprint\u001b[39m(a)\n",
      "\u001b[1;31mNameError\u001b[0m: name 'opne' is not defined"
     ]
    }
   ],
   "source": [
    "f = opne(\"없는 파일\",'r') #오류를 띄워주는 명령어를 배워보자\n",
    "print(a)"
   ]
  },
  {
   "cell_type": "code",
   "execution_count": 15,
   "metadata": {},
   "outputs": [
    {
     "name": "stdout",
     "output_type": "stream",
     "text": [
      "division by zero\n"
     ]
    }
   ],
   "source": [
    "try: #이렇게 안되는 코드를 해도 프로그램이 꺼지지 않고 오류 메세지를 출력\n",
    "  4/ 0\n",
    "except ZeroDivisionError as e:\n",
    "  print(e)"
   ]
  },
  {
   "cell_type": "code",
   "execution_count": 19,
   "metadata": {},
   "outputs": [
    {
     "name": "stdout",
     "output_type": "stream",
     "text": [
      "[Errno 2] No such file or directory: 'none'\n"
     ]
    }
   ],
   "source": [
    "try:\n",
    "  f = open('none','r')\n",
    "except FileNotFoundError as e:\n",
    "  print(str(e))\n",
    "else:\n",
    "  data = f.read()\n",
    "  print(data)\n",
    "  f.close()"
   ]
  },
  {
   "cell_type": "code",
   "execution_count": 16,
   "metadata": {},
   "outputs": [
    {
     "name": "stdout",
     "output_type": "stream",
     "text": [
      "not readable\n"
     ]
    }
   ],
   "source": [
    "f = open('foo.txt','w')\n",
    "try:\n",
    "    #무언가를 수행한다.\n",
    "    data = f.read()\n",
    "    print(data)\n",
    "except Exception as e: #모든 오류의 최상위 부모 클래스 Exception\n",
    "    print(e)\n",
    "finally:\n",
    "    f.close()"
   ]
  },
  {
   "cell_type": "code",
   "execution_count": 25,
   "metadata": {},
   "outputs": [
    {
     "name": "stdout",
     "output_type": "stream",
     "text": [
      "인덱싱할 수 없습니다.\n"
     ]
    }
   ],
   "source": [
    "try:\n",
    "  a = [1,2]\n",
    "  print(a[3])\n",
    "  3/0\n",
    "except ZeroDivisionError:\n",
    "  print(\"0으로 나눌 수 없습니다.\")\n",
    "except IndexError:\n",
    "  print(\"인덱싱할 수 없습니다.\")"
   ]
  },
  {
   "cell_type": "code",
   "execution_count": 17,
   "metadata": {},
   "outputs": [],
   "source": [
    "try: \n",
    "  f = open(\"나없는 파일\",'r')\n",
    "except FileNotFoundError:\n",
    "  pass #그냥 패스해라 오류나도 라는 명령어"
   ]
  },
  {
   "cell_type": "code",
   "execution_count": 2,
   "metadata": {},
   "outputs": [
    {
     "name": "stdout",
     "output_type": "stream",
     "text": [
      "very fast\n"
     ]
    }
   ],
   "source": [
    "class Bird: #부모 클래스\n",
    "  def fly(self):\n",
    "      raise NotImplementedError #모두가 플라이란 함수를 있게하고 싶지만 적용을 원하는곳에 하고싶을떄 일부로 에러가나게해서 무조건 변형해서 써라라고 강제를 할때 쓴다\n",
    "\n",
    "class Eagle(Bird): #자식이 이긴다\n",
    "  def fly(self):\n",
    "    print(\"very fast\")\n",
    "\n",
    "eagle = Eagle()\n",
    "eagle.fly()"
   ]
  },
  {
   "cell_type": "markdown",
   "metadata": {},
   "source": [
    "### 내장함수\n",
    "파이썬에 기본적으로 포함하고 있는 함수"
   ]
  },
  {
   "cell_type": "code",
   "execution_count": 9,
   "metadata": {},
   "outputs": [
    {
     "name": "stdout",
     "output_type": "stream",
     "text": [
      "['__add__', '__class__', '__class_getitem__', '__contains__', '__delattr__', '__delitem__', '__dir__', '__doc__', '__eq__', '__format__', '__ge__', '__getattribute__', '__getitem__', '__gt__', '__hash__', '__iadd__', '__imul__', '__init__', '__init_subclass__', '__iter__', '__le__', '__len__', '__lt__', '__mul__', '__ne__', '__new__', '__reduce__', '__reduce_ex__', '__repr__', '__reversed__', '__rmul__', '__setattr__', '__setitem__', '__sizeof__', '__str__', '__subclasshook__', 'append', 'clear', 'copy', 'count', 'extend', 'index', 'insert', 'pop', 'remove', 'reverse', 'sort']\n"
     ]
    },
    {
     "data": {
      "text/plain": [
       "['__class__',\n",
       " '__class_getitem__',\n",
       " '__contains__',\n",
       " '__delattr__',\n",
       " '__delitem__',\n",
       " '__dir__',\n",
       " '__doc__',\n",
       " '__eq__',\n",
       " '__format__',\n",
       " '__ge__',\n",
       " '__getattribute__',\n",
       " '__getitem__',\n",
       " '__gt__',\n",
       " '__hash__',\n",
       " '__init__',\n",
       " '__init_subclass__',\n",
       " '__ior__',\n",
       " '__iter__',\n",
       " '__le__',\n",
       " '__len__',\n",
       " '__lt__',\n",
       " '__ne__',\n",
       " '__new__',\n",
       " '__or__',\n",
       " '__reduce__',\n",
       " '__reduce_ex__',\n",
       " '__repr__',\n",
       " '__reversed__',\n",
       " '__ror__',\n",
       " '__setattr__',\n",
       " '__setitem__',\n",
       " '__sizeof__',\n",
       " '__str__',\n",
       " '__subclasshook__',\n",
       " 'clear',\n",
       " 'copy',\n",
       " 'fromkeys',\n",
       " 'get',\n",
       " 'items',\n",
       " 'keys',\n",
       " 'pop',\n",
       " 'popitem',\n",
       " 'setdefault',\n",
       " 'update',\n",
       " 'values']"
      ]
     },
     "execution_count": 9,
     "metadata": {},
     "output_type": "execute_result"
    }
   ],
   "source": [
    "abs(3) #절대값\n",
    "all([1,2,3]) #all 모두 참인지 검사\n",
    "all([0,1,2,3])\n",
    "any([1,2,3,0]) #any 하나 라도 참이 있는가\n",
    "any([0,\"\"])\n",
    "chr(97) #ascll 코드에 대응되는 문자를 보여준다 아스키코드란? 0~127 사이의 숫자를 각 문자에 대응\n",
    "chr(48)\n",
    "print(dir([1,2,3]))#dir 자체적으로 가지고있는 변수나 함수를 보여줌\n",
    "dir({'1':'a'})"
   ]
  },
  {
   "cell_type": "code",
   "execution_count": 25,
   "metadata": {},
   "outputs": [
    {
     "data": {
      "text/plain": [
       "(6.0, 0.09999999999999998)"
      ]
     },
     "execution_count": 25,
     "metadata": {},
     "output_type": "execute_result"
    }
   ],
   "source": [
    "divmod(7,3) #divmod(a, b)는 2개의 숫자를 입력으로 받는다. 그리고 a를 b로 나눈 몫과 나머지를 튜플 형태로 돌려주는 함수이다.\n",
    "divmod(1.3,0.2)"
   ]
  },
  {
   "cell_type": "code",
   "execution_count": 27,
   "metadata": {},
   "outputs": [
    {
     "name": "stdout",
     "output_type": "stream",
     "text": [
      "0 body\n",
      "1 foo\n",
      "2 bar\n"
     ]
    }
   ],
   "source": [
    "for i, name in enumerate(['body','foo','bar']): \n",
    "  #enumerate는 \"열거하다\"라는 뜻이다. 이 함수는 순서가 있는 자료형(리스트, 튜플, 문자열)을 입력으로 받아 인덱스 값을 포함하는 enumerate 객체를 돌려준다.\n",
    "  print(i,name)"
   ]
  },
  {
   "cell_type": "code",
   "execution_count": 29,
   "metadata": {},
   "outputs": [
    {
     "name": "stdout",
     "output_type": "stream",
     "text": [
      "[1, 2, 6]\n"
     ]
    }
   ],
   "source": [
    "def positive(x):\n",
    "  return x > 0\n",
    "\n",
    "a = list(filter(positive, [1,-3,2,0,-5,6]))\n",
    "print(a)"
   ]
  },
  {
   "cell_type": "code",
   "execution_count": 33,
   "metadata": {},
   "outputs": [
    {
     "data": {
      "text/plain": [
       "1710709342512"
      ]
     },
     "execution_count": 33,
     "metadata": {},
     "output_type": "execute_result"
    }
   ],
   "source": [
    "a = 3\n",
    "id(3)\n",
    "id(a)\n",
    "b = a\n",
    "id(b)"
   ]
  },
  {
   "cell_type": "code",
   "execution_count": 35,
   "metadata": {},
   "outputs": [
    {
     "name": "stdout",
     "output_type": "stream",
     "text": [
      "[2, 4, 6, 8]\n"
     ]
    }
   ],
   "source": [
    "def two_times(x): return x*2\n",
    "a = list(map(two_times ,[1,2,3,4]))\n",
    "print(a)"
   ]
  },
  {
   "cell_type": "code",
   "execution_count": 36,
   "metadata": {},
   "outputs": [
    {
     "name": "stdout",
     "output_type": "stream",
     "text": [
      "[2, 4, 6, 8]\n"
     ]
    }
   ],
   "source": [
    "a = list(map(lambda a: a*2,[1,2,3,4]))\n",
    "print(a)"
   ]
  },
  {
   "cell_type": "markdown",
   "metadata": {},
   "source": [
    "### 라이브러리 함수\n",
    "import 해서 쓴다"
   ]
  },
  {
   "cell_type": "code",
   "execution_count": 38,
   "metadata": {},
   "outputs": [
    {
     "name": "stdout",
     "output_type": "stream",
     "text": [
      "['c:\\\\Users\\\\ICT1101_04\\\\AppData\\\\Local\\\\Programs\\\\Python\\\\Python310\\\\lib\\\\site-packages\\\\ipykernel_launcher.py', '--ip=127.0.0.1', '--stdin=9003', '--control=9001', '--hb=9000', '--Session.signature_scheme=\"hmac-sha256\"', '--Session.key=b\"38366893-ae6b-4d98-b6ea-48ce3ed03407\"', '--shell=9002', '--transport=\"tcp\"', '--iopub=9004', '--f=c:\\\\Users\\\\ICT1101_04\\\\AppData\\\\Roaming\\\\jupyter\\\\runtime\\\\kernel-7224eQLY3pnFNCV5.json']\n"
     ]
    }
   ],
   "source": [
    "import sys\n",
    "print(sys.argv)"
   ]
  },
  {
   "cell_type": "code",
   "execution_count": 42,
   "metadata": {},
   "outputs": [],
   "source": [
    "import pickle #파일형태로 딕셔너리 데이터 같은걸 파일로 저장\n",
    "f = open(\"test.txt\", 'wb')\n",
    "data = {1: 'python', 2:'you need'}\n",
    "pickle.dump(data,f) #dump로 저장하는것\n",
    "f.close()"
   ]
  },
  {
   "cell_type": "code",
   "execution_count": 44,
   "metadata": {},
   "outputs": [
    {
     "name": "stdout",
     "output_type": "stream",
     "text": [
      "{1: 'python', 2: 'you need'}\n"
     ]
    },
    {
     "data": {
      "text/plain": [
       "{2: 'you need', 1: 'python'}"
      ]
     },
     "execution_count": 44,
     "metadata": {},
     "output_type": "execute_result"
    }
   ],
   "source": [
    "import pickle\n",
    "f = open(\"test.txt\", 'rb')\n",
    "data = pickle.load(f)\n",
    "print(data)\n",
    "{2:'you need',1:'python'}"
   ]
  },
  {
   "cell_type": "code",
   "execution_count": 47,
   "metadata": {},
   "outputs": [
    {
     "name": "stdout",
     "output_type": "stream",
     "text": [
      "1654849164.9602692\n"
     ]
    }
   ],
   "source": [
    "import time\n",
    "print(time.time())\n",
    "#1970년 1월 1일 0시 0분 0초 를 기준으로 지난 시간초"
   ]
  },
  {
   "cell_type": "code",
   "execution_count": 56,
   "metadata": {},
   "outputs": [
    {
     "name": "stdout",
     "output_type": "stream",
     "text": [
      "time.struct_time(tm_year=2022, tm_mon=6, tm_mday=10, tm_hour=17, tm_min=26, tm_sec=36, tm_wday=4, tm_yday=161, tm_isdst=0)\n"
     ]
    }
   ],
   "source": [
    "print(time.localtime(time.time())) #time.localtime은 time.time()이 돌려준 실수 값을 사용해서 연도, 월, 일, 시, 분, 초, ... 의 형태로 바꾸어 주는 함수이다."
   ]
  },
  {
   "cell_type": "code",
   "execution_count": 57,
   "metadata": {},
   "outputs": [
    {
     "data": {
      "text/plain": [
       "'Fri Jun 10 17:26:47 2022'"
      ]
     },
     "execution_count": 57,
     "metadata": {},
     "output_type": "execute_result"
    }
   ],
   "source": [
    "time.asctime(time.localtime(time.time())) #위 로컬 타임에 의해서 반환된 튜플 형태 값을 돌려주는 함수"
   ]
  },
  {
   "cell_type": "code",
   "execution_count": 59,
   "metadata": {},
   "outputs": [
    {
     "data": {
      "text/plain": [
       "'Fri Jun 10 17:28:41 2022'"
      ]
     },
     "execution_count": 59,
     "metadata": {},
     "output_type": "execute_result"
    }
   ],
   "source": [
    "time.ctime() #위랑 다르게 현재시각만 나타낸다"
   ]
  },
  {
   "cell_type": "code",
   "execution_count": 63,
   "metadata": {},
   "outputs": [
    {
     "name": "stdout",
     "output_type": "stream",
     "text": [
      "0\n",
      "1\n",
      "2\n",
      "3\n",
      "4\n"
     ]
    }
   ],
   "source": [
    "import time\n",
    "for i in range(5):\n",
    "  print(i)\n",
    "  time.sleep(1) #실행 할떄 텀을 줘야할 떄"
   ]
  },
  {
   "cell_type": "code",
   "execution_count": 72,
   "metadata": {},
   "outputs": [
    {
     "name": "stdout",
     "output_type": "stream",
     "text": [
      "[9, 21, 24, 25, 37, 42]\n"
     ]
    }
   ],
   "source": [
    "import random\n",
    "lotto = sorted(random.sample(range(1,46,),6))\n",
    "print(lotto)"
   ]
  },
  {
   "cell_type": "code",
   "execution_count": 73,
   "metadata": {},
   "outputs": [
    {
     "data": {
      "text/plain": [
       "True"
      ]
     },
     "execution_count": 73,
     "metadata": {},
     "output_type": "execute_result"
    }
   ],
   "source": [
    "import webbrowser\n",
    "webbrowser.open('http://naver.com')"
   ]
  },
  {
   "cell_type": "markdown",
   "metadata": {},
   "source": [
    "# 정리하기"
   ]
  }
 ],
 "metadata": {
  "interpreter": {
   "hash": "cf2895c1b3a18e0def21936cd98875861a3ee719675c3d36eca611e8cdcb3203"
  },
  "kernelspec": {
   "display_name": "Python 3.10.4 64-bit",
   "language": "python",
   "name": "python3"
  },
  "language_info": {
   "codemirror_mode": {
    "name": "ipython",
    "version": 3
   },
   "file_extension": ".py",
   "mimetype": "text/x-python",
   "name": "python",
   "nbconvert_exporter": "python",
   "pygments_lexer": "ipython3",
   "version": "3.10.4"
  },
  "orig_nbformat": 4
 },
 "nbformat": 4,
 "nbformat_minor": 2
}
