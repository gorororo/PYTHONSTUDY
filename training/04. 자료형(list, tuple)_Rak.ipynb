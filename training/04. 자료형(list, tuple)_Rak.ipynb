{
 "cells": [
  {
   "cell_type": "markdown",
   "id": "fa00de76",
   "metadata": {},
   "source": [
    "**연속형 데이터 (Sequential Data Types)**"
   ]
  },
  {
   "cell_type": "markdown",
   "id": "9e1d2b5c",
   "metadata": {},
   "source": [
    "**Q. 숫자 100개를 한번에 다루려고 한다. <=> 하나의 변수에 숫자 100개를 저장하고 싶다. 어떻게 해야할까?**   \n",
    "*A. 연속형 데이터 타입을 사용하자!*"
   ]
  },
  {
   "cell_type": "markdown",
   "id": "81a77a86",
   "metadata": {},
   "source": [
    "-  연속형 데이터란, 하나의 변수가 하나의 데이터를 가지고 있던 숫자형 데이터와 달리, 여러개의 데이터를 하나의 변수에 가지고 있는 데이터 타입이다.\n",
    "- 연속형 데이터 타입에는 list, tuple, set, dict(dictionary), str(string)이 있다. (문자열을 문자들의 나열로 인식하기 때문에, 연속형 데이터이다.)\n",
    "- 연속형 데이터의 크기 제한은 없다. 하지만, 사용하는 컴퓨터의 가용 메모리 용량을 인지하며 사용해야 한다.\n",
    "- 각 연속형 데이터 타입마다 특징이 다르다. 그 특징을 파악하여 용도에 맞는 데이터 타입을 사용하는 것이 중요하다."
   ]
  },
  {
   "cell_type": "markdown",
   "id": "83a1e59c",
   "metadata": {},
   "source": [
    "# 리스트(list)\n",
    "\n",
    "\n",
    "- 가장 많이 사용되는 연속형 데이터 타입이자, 굉장히 유연한 구조를 가지고 있어 대부분의 데이터를 편하게 다룰 수 있다.\n",
    "- 파이썬에서 <kbd>[</kbd> 와 <kbd>]</kbd>를 이용하여 표현한다. a = [1, 2, 3]\n",
    "- 리스트의 원소는 쉼표로 구분되며, 리스트의 원소(요소, 값..)는 아무 데이터 타입이나 가능하다. 리스트조차 가능하다.\n",
    "- 리스트를 이용하면 파이썬에서 다루는 대부분의 데이터는 아무 무리없이 다룰 수 있다. 하지만 수정이 자유롭기 때문에 수정을 하면 안되는 경우에는 사용하면 안된다."
   ]
  },
  {
   "cell_type": "markdown",
   "id": "238b03b5",
   "metadata": {},
   "source": [
    "## 리스트를 만드는 방법"
   ]
  },
  {
   "cell_type": "code",
   "execution_count": 3,
   "id": "fd2c1da6",
   "metadata": {},
   "outputs": [
    {
     "data": {
      "text/plain": [
       "(list, [1, 2, 3, 4, 5])"
      ]
     },
     "execution_count": 3,
     "metadata": {},
     "output_type": "execute_result"
    }
   ],
   "source": [
    "# 정수 1, 2, 3, 4, 5를 원소로 가지는 리스트를 만듭니다.\n",
    "list_a = [1,2,3,4,5]\n",
    "type(list_a), list_a"
   ]
  },
  {
   "cell_type": "code",
   "execution_count": 4,
   "id": "758feaf6",
   "metadata": {},
   "outputs": [
    {
     "data": {
      "text/plain": [
       "(list, [])"
      ]
     },
     "execution_count": 4,
     "metadata": {},
     "output_type": "execute_result"
    }
   ],
   "source": [
    "# 빈 리스트를 만드는 방법\n",
    "list_a = []\n",
    "type(list_a), list_a"
   ]
  },
  {
   "cell_type": "code",
   "execution_count": 5,
   "id": "a3726e09",
   "metadata": {},
   "outputs": [
    {
     "data": {
      "text/plain": [
       "(list, [])"
      ]
     },
     "execution_count": 5,
     "metadata": {},
     "output_type": "execute_result"
    }
   ],
   "source": [
    "# 빈 리스트를 만드는 같은 방법\n",
    "list_a2 = list()\n",
    "type(list_a), list_a2"
   ]
  },
  {
   "cell_type": "code",
   "execution_count": 6,
   "id": "5e2da7fc",
   "metadata": {},
   "outputs": [
    {
     "data": {
      "text/plain": [
       "[1, 'Hello', 3.14, [1, 2, 3]]"
      ]
     },
     "execution_count": 6,
     "metadata": {},
     "output_type": "execute_result"
    }
   ],
   "source": [
    "# 리스트에는 다양한 타입의 원소를 다 포함할 수 있다. 심지어 리스트도.\n",
    "list_a3 = [1, 'Hello', 3.14, [1, 2, 3]] \n",
    "list_a3"
   ]
  },
  {
   "cell_type": "code",
   "execution_count": 7,
   "id": "8287ce00",
   "metadata": {},
   "outputs": [
    {
     "data": {
      "text/plain": [
       "[[1, 2], [3, 4]]"
      ]
     },
     "execution_count": 7,
     "metadata": {},
     "output_type": "execute_result"
    }
   ],
   "source": [
    "list_a4 = [[1, 2],\n",
    "           [3, 4]] # 2x2 행렬 표현처럼 사용할 수 있다. 이를 2차원 리스트라고 한다.\n",
    "list_a4 # 실제로는 2개의 리스트를 원소로 가지는 리스트이다."
   ]
  },
  {
   "cell_type": "markdown",
   "id": "c22bcd70",
   "metadata": {},
   "source": [
    "### Indexing"
   ]
  },
  {
   "cell_type": "markdown",
   "id": "39161307",
   "metadata": {},
   "source": [
    "- 연속형 데이터들은 하나의 변수에 여러가지 데이터를 가지기 때문에 여러 데이터를 접근하는 방법이 필요하다.\n",
    "- 이를 위해 indexing이라는 기법이 있다. 말그대로 index를 통해 접근(access)하는 방법이다.\n",
    "- 리스트의 index는 맨 앞부터 0으로 시작하며, 1씩 증가하는 정수 index를 사용한다.\n",
    "- list_a = [ 10, 20, 30, 40, 50 ] 이면 첫번째 원소는 index가 0이고, 두번째 원소는 index가 1이다.\n",
    "- 파이썬에서는 음수 index도 제공하는데, 이는 뒤쪽부터 접근할 수 있는 방법이다. \n",
    "- 뒤에서 첫번째(맨 마지막)원소는 index가 -1이고, 뒤에서 두번째 원소는 index가 -2이다.\n",
    "- index를 통해 접근하는 방법은 해당 변수이름에 [ ]를 사용하며, [ ]안에 index를 넣어서 접근할 수 있다.\n",
    "| 10 | 20 | 30 | 40 | 50 | \n",
    "| ---- | ---- | ---- | ---- | ---- |\n",
    "|  [0] |  [1] |  [2] |  [3] |  [4] | \n",
    "|  [-5] |  [-4] |  [-3] |  [-2] |  [-1] | "
   ]
  },
  {
   "cell_type": "code",
   "execution_count": 8,
   "id": "bd17d771",
   "metadata": {},
   "outputs": [
    {
     "data": {
      "text/plain": [
       "[10, 20, 30, 40, 50]"
      ]
     },
     "execution_count": 8,
     "metadata": {},
     "output_type": "execute_result"
    }
   ],
   "source": [
    "list_a = [10, 20, 30, 40, 50]\n",
    "list_a"
   ]
  },
  {
   "cell_type": "code",
   "execution_count": 10,
   "id": "577e4ed2",
   "metadata": {},
   "outputs": [
    {
     "data": {
      "text/plain": [
       "10"
      ]
     },
     "execution_count": 10,
     "metadata": {},
     "output_type": "execute_result"
    }
   ],
   "source": [
    "# list_a의 첫번째 원소\n",
    "list_a[0]  # 양수\n",
    "list_a[-len(list_a)] # 음수"
   ]
  },
  {
   "cell_type": "code",
   "execution_count": 14,
   "id": "46868b6a",
   "metadata": {},
   "outputs": [
    {
     "data": {
      "text/plain": [
       "50"
      ]
     },
     "execution_count": 14,
     "metadata": {},
     "output_type": "execute_result"
    }
   ],
   "source": [
    "# list_a의 마지막 원소\n",
    "list_a[4]\n",
    "list_a[len(list_a)-1] # 양수\n",
    "list_a[-1]   # 음수\n"
   ]
  },
  {
   "cell_type": "code",
   "execution_count": 15,
   "id": "a258472f",
   "metadata": {},
   "outputs": [
    {
     "ename": "IndexError",
     "evalue": "list index out of range",
     "output_type": "error",
     "traceback": [
      "\u001b[1;31m---------------------------------------------------------------------------\u001b[0m",
      "\u001b[1;31mIndexError\u001b[0m                                Traceback (most recent call last)",
      "Input \u001b[1;32mIn [15]\u001b[0m, in \u001b[0;36m<cell line: 2>\u001b[1;34m()\u001b[0m\n\u001b[0;32m      1\u001b[0m \u001b[38;5;66;03m# list_a에 없는 index는?\u001b[39;00m\n\u001b[1;32m----> 2\u001b[0m \u001b[43mlist_a\u001b[49m\u001b[43m[\u001b[49m\u001b[38;5;241;43m7\u001b[39;49m\u001b[43m]\u001b[49m\n",
      "\u001b[1;31mIndexError\u001b[0m: list index out of range"
     ]
    }
   ],
   "source": [
    "# list_a에 없는 index는?\n",
    "list_a[7]"
   ]
  },
  {
   "cell_type": "code",
   "execution_count": 17,
   "id": "0a786937",
   "metadata": {},
   "outputs": [
    {
     "data": {
      "text/plain": [
       "30"
      ]
     },
     "execution_count": 17,
     "metadata": {},
     "output_type": "execute_result"
    }
   ],
   "source": [
    "# indexing을 이용한 연산. list_a의 첫번째, 두번째 원소를 가져다가 더해봅니다.\n",
    "list_a[0]+list_a[1]"
   ]
  },
  {
   "cell_type": "code",
   "execution_count": 18,
   "id": "00b8c3c5",
   "metadata": {},
   "outputs": [
    {
     "data": {
      "text/plain": [
       "[10, [20, 30], 50]"
      ]
     },
     "execution_count": 18,
     "metadata": {},
     "output_type": "execute_result"
    }
   ],
   "source": [
    "list_a2 = [10, [20, 30], 50]\n",
    "list_a2"
   ]
  },
  {
   "cell_type": "code",
   "execution_count": 21,
   "id": "fe61ba14",
   "metadata": {},
   "outputs": [
    {
     "data": {
      "text/plain": [
       "20"
      ]
     },
     "execution_count": 21,
     "metadata": {},
     "output_type": "execute_result"
    }
   ],
   "source": [
    "# list_a2에서 20에 접근하기 위해 indexing을 해보자.\n",
    "list_a2[1][0]"
   ]
  },
  {
   "cell_type": "code",
   "execution_count": 23,
   "id": "d980c2cb",
   "metadata": {},
   "outputs": [
    {
     "name": "stdout",
     "output_type": "stream",
     "text": [
      "30\n"
     ]
    },
    {
     "data": {
      "text/plain": [
       "80"
      ]
     },
     "execution_count": 23,
     "metadata": {},
     "output_type": "execute_result"
    }
   ],
   "source": [
    "list_a2 = [10, [20, 30, 40], 50, [60, 70, 80]]\n",
    "\n",
    "#30\n",
    "print(list_a2[1][1])\n",
    "\n",
    "#80\n",
    "list_a2[3][2]"
   ]
  },
  {
   "cell_type": "code",
   "execution_count": 24,
   "id": "79ad7671",
   "metadata": {},
   "outputs": [
    {
     "data": {
      "text/plain": [
       "100"
      ]
     },
     "execution_count": 24,
     "metadata": {},
     "output_type": "execute_result"
    }
   ],
   "source": [
    "list_a2 = [10, [20, 30,[100,200], 40], 50, [60, 70, 80]]  \n",
    "\n",
    "#100  3차원\n",
    "list_a2[1][2][0]"
   ]
  },
  {
   "cell_type": "markdown",
   "id": "d45ce1a4",
   "metadata": {},
   "source": [
    "### Slicing"
   ]
  },
  {
   "cell_type": "markdown",
   "id": "1f5b4255",
   "metadata": {},
   "source": [
    "- 슬라이싱은 리스트의 일부분만 잘라낸다는 의미이다. (말그대로 슬라이싱)\n",
    "- 리스트의 일부만 사용하고 싶을 때 쓰는 기법\n",
    "- 리스트의 index와 <kbd>:</kbd>를 사용하여 슬라이싱을 할 수 있다.\n",
    "- 리스트[시작인덱스 : 끝인덱스+1 : 증가값)\n",
    "- list_a = [10, 20, 30, 40]일때list_a[0:2:1]는 [10, 20]이다."
   ]
  },
  {
   "cell_type": "code",
   "execution_count": 25,
   "id": "ec202b4b",
   "metadata": {},
   "outputs": [
    {
     "data": {
      "text/plain": [
       "[10, 20, 30, 40, 50]"
      ]
     },
     "execution_count": 25,
     "metadata": {},
     "output_type": "execute_result"
    }
   ],
   "source": [
    "list_a = [10, 20, 30, 40, 50]\n",
    "list_a"
   ]
  },
  {
   "cell_type": "code",
   "execution_count": 26,
   "id": "8ffab0d3",
   "metadata": {},
   "outputs": [
    {
     "data": {
      "text/plain": [
       "[10, 20]"
      ]
     },
     "execution_count": 26,
     "metadata": {},
     "output_type": "execute_result"
    }
   ],
   "source": [
    "# list_a의 첫번째부터 index 2 까지 자르기\n",
    "list_a[0:2:1]"
   ]
  },
  {
   "cell_type": "code",
   "execution_count": 29,
   "id": "aab94e15",
   "metadata": {},
   "outputs": [
    {
     "data": {
      "text/plain": [
       "[20, 30, 40]"
      ]
     },
     "execution_count": 29,
     "metadata": {},
     "output_type": "execute_result"
    }
   ],
   "source": [
    "list_a = [10, 20, 30, 40, 50]\n",
    "# list_a의 두번째부터 index 4 까지 자르기\n",
    "list_a[1:4:1]\n",
    "list_a[1:4]"
   ]
  },
  {
   "cell_type": "code",
   "execution_count": 31,
   "id": "5d62416b",
   "metadata": {},
   "outputs": [
    {
     "data": {
      "text/plain": [
       "[10, 20]"
      ]
     },
     "execution_count": 31,
     "metadata": {},
     "output_type": "execute_result"
    }
   ],
   "source": [
    "# 시작 index를 생략하면, 자동으로 index는 0이 된다. (맨 처음)\n",
    "list_a[0:2:1]\n",
    "list_a[:2]"
   ]
  },
  {
   "cell_type": "code",
   "execution_count": 33,
   "id": "65281f94",
   "metadata": {},
   "outputs": [
    {
     "data": {
      "text/plain": [
       "[20, 30, 40, 50]"
      ]
     },
     "execution_count": 33,
     "metadata": {},
     "output_type": "execute_result"
    }
   ],
   "source": [
    "list_a[1:]"
   ]
  },
  {
   "cell_type": "code",
   "execution_count": 37,
   "id": "01fa6d54",
   "metadata": {},
   "outputs": [
    {
     "name": "stdout",
     "output_type": "stream",
     "text": [
      "[10, 20, 30, 40, 50] [10, 20, 30, 40, 50]\n"
     ]
    }
   ],
   "source": [
    "print(list_a[::] , list_a[:])"
   ]
  },
  {
   "cell_type": "markdown",
   "id": "26ecc1a6",
   "metadata": {},
   "source": [
    "## 리스트 연산하기 "
   ]
  },
  {
   "cell_type": "markdown",
   "id": "e659996e",
   "metadata": {},
   "source": [
    "> 문자열때와 마찬가지로, 리스트도 더하기, 곱하기 연산이 존재한다."
   ]
  },
  {
   "cell_type": "markdown",
   "id": "a665b1f9",
   "metadata": {},
   "source": [
    "### +  :  연결"
   ]
  },
  {
   "cell_type": "code",
   "execution_count": 38,
   "id": "215373a7",
   "metadata": {},
   "outputs": [
    {
     "data": {
      "text/plain": [
       "[10, 20, 30, 40, 50]"
      ]
     },
     "execution_count": 38,
     "metadata": {},
     "output_type": "execute_result"
    }
   ],
   "source": [
    "list_a1 = [10,20,30]\n",
    "list_a2 = [40,50]\n",
    "list_a1+list_a2"
   ]
  },
  {
   "cell_type": "markdown",
   "id": "c989db98",
   "metadata": {},
   "source": [
    "- 리스트명.extend(추가할 리스트)"
   ]
  },
  {
   "cell_type": "code",
   "execution_count": 40,
   "id": "58fb82db",
   "metadata": {},
   "outputs": [
    {
     "data": {
      "text/plain": [
       "[10, 20, 30, 40, 50]"
      ]
     },
     "execution_count": 40,
     "metadata": {},
     "output_type": "execute_result"
    }
   ],
   "source": [
    "list_a1 = [10, 20, 30]\n",
    "list_a1.extend(list_a2)\n",
    "list_a1"
   ]
  },
  {
   "cell_type": "markdown",
   "id": "5b77b29a",
   "metadata": {},
   "source": [
    "### * : 반복"
   ]
  },
  {
   "cell_type": "code",
   "execution_count": 41,
   "id": "a74edd07",
   "metadata": {},
   "outputs": [
    {
     "data": {
      "text/plain": [
       "[1, 2, 3, 1, 2, 3, 1, 2, 3]"
      ]
     },
     "execution_count": 41,
     "metadata": {},
     "output_type": "execute_result"
    }
   ],
   "source": [
    "list_a = [1, 2, 3]\n",
    "list_a*3"
   ]
  },
  {
   "cell_type": "markdown",
   "id": "d4549afc",
   "metadata": {},
   "source": [
    "## 리스트 수정"
   ]
  },
  {
   "cell_type": "code",
   "execution_count": 43,
   "id": "7cc301ab",
   "metadata": {},
   "outputs": [
    {
     "data": {
      "text/plain": [
       "[10, 20, 50, 40, 50]"
      ]
     },
     "execution_count": 43,
     "metadata": {},
     "output_type": "execute_result"
    }
   ],
   "source": [
    "list_a= [10,20,30,40,50]\n",
    "list_a[2]= 50\n",
    "list_a"
   ]
  },
  {
   "cell_type": "markdown",
   "id": "3f30f4ad",
   "metadata": {},
   "source": [
    "## 리스트 관련 함수"
   ]
  },
  {
   "cell_type": "markdown",
   "id": "20339ff1",
   "metadata": {},
   "source": [
    "### 리스트에 원소 추가하기 : \n",
    "- 리스트명.append(값)\n",
    "- 리스트명.insert(인덱스, 값)"
   ]
  },
  {
   "cell_type": "code",
   "execution_count": 48,
   "id": "cd77ca7e",
   "metadata": {},
   "outputs": [
    {
     "data": {
      "text/plain": [
       "[10, 20, 30, 40, 50]"
      ]
     },
     "execution_count": 48,
     "metadata": {},
     "output_type": "execute_result"
    }
   ],
   "source": [
    "list_a= []\n",
    "list_a.append(10)\n",
    "list_a.append(20)\n",
    "list_a.append(30)\n",
    "list_a.append(40)\n",
    "list_a.append(50)\n",
    "list_a"
   ]
  },
  {
   "cell_type": "code",
   "execution_count": 49,
   "id": "824114ee",
   "metadata": {},
   "outputs": [
    {
     "data": {
      "text/plain": [
       "[10, 20, 30, 70, 40, 50]"
      ]
     },
     "execution_count": 49,
     "metadata": {},
     "output_type": "execute_result"
    }
   ],
   "source": [
    "list_a.insert(3,70)\n",
    "list_a"
   ]
  },
  {
   "cell_type": "markdown",
   "id": "458b51f3",
   "metadata": {},
   "source": [
    "### 리스트에 원소 삭제하기 \n",
    "\n",
    "- 리스트명.remove(값)\n",
    "- del(리스트명[인덱스])\n",
    "- 리스트명.pop(인덱스), 리스트명.pop()\n",
    "- 리스트.clear() : 모두 제거"
   ]
  },
  {
   "cell_type": "code",
   "execution_count": 52,
   "id": "f5f7e89f",
   "metadata": {},
   "outputs": [
    {
     "name": "stdout",
     "output_type": "stream",
     "text": [
      "[10, 20, 30, 40, 50, 60, 70, 80, 90]\n"
     ]
    },
    {
     "data": {
      "text/plain": [
       "[10, 20, 30, 50, 60, 70, 80, 90]"
      ]
     },
     "execution_count": 52,
     "metadata": {},
     "output_type": "execute_result"
    }
   ],
   "source": [
    "list_c = [10, 20, 30, 40, 50, 60, 70, 80, 90]\n",
    "print(list_c)\n",
    "list_c.remove(40)\n",
    "list_c"
   ]
  },
  {
   "cell_type": "code",
   "execution_count": 53,
   "id": "7850070c",
   "metadata": {},
   "outputs": [
    {
     "data": {
      "text/plain": [
       "[10, 20, 30, 60, 70, 80, 90]"
      ]
     },
     "execution_count": 53,
     "metadata": {},
     "output_type": "execute_result"
    }
   ],
   "source": [
    "del(list_c[3])\n",
    "list_c"
   ]
  },
  {
   "cell_type": "code",
   "execution_count": 54,
   "id": "7965926f",
   "metadata": {},
   "outputs": [
    {
     "data": {
      "text/plain": [
       "[10, 20, 60, 70, 80, 90]"
      ]
     },
     "execution_count": 54,
     "metadata": {},
     "output_type": "execute_result"
    }
   ],
   "source": [
    "list_c.pop(2)\n",
    "list_c"
   ]
  },
  {
   "cell_type": "code",
   "execution_count": 55,
   "id": "f3e81d2f",
   "metadata": {},
   "outputs": [
    {
     "data": {
      "text/plain": [
       "90"
      ]
     },
     "execution_count": 55,
     "metadata": {},
     "output_type": "execute_result"
    }
   ],
   "source": [
    "list_c.pop()"
   ]
  },
  {
   "cell_type": "code",
   "execution_count": 57,
   "id": "fa7d83f0",
   "metadata": {},
   "outputs": [
    {
     "data": {
      "text/plain": [
       "[]"
      ]
     },
     "execution_count": 57,
     "metadata": {},
     "output_type": "execute_result"
    }
   ],
   "source": [
    "list_c.clear()\n",
    "list_c"
   ]
  },
  {
   "cell_type": "markdown",
   "id": "53e0e975",
   "metadata": {},
   "source": [
    "### 리스트 원소 정렬하기\n",
    "- 오름차순 :  리스트명.sort()\n",
    "- 내림차순 :  리스트명.sort(reverse=True)"
   ]
  },
  {
   "cell_type": "code",
   "execution_count": 58,
   "id": "345bac53",
   "metadata": {},
   "outputs": [
    {
     "data": {
      "text/plain": [
       "[10, 20, 30, 40, 50]"
      ]
     },
     "execution_count": 58,
     "metadata": {},
     "output_type": "execute_result"
    }
   ],
   "source": [
    "# 오름차순\n",
    "list_d = [10, 30, 50, 20, 40]\n",
    "list_d.sort()\n",
    "list_d"
   ]
  },
  {
   "cell_type": "code",
   "execution_count": 59,
   "id": "7f25bb19",
   "metadata": {},
   "outputs": [
    {
     "data": {
      "text/plain": [
       "[50, 40, 30, 20, 10]"
      ]
     },
     "execution_count": 59,
     "metadata": {},
     "output_type": "execute_result"
    }
   ],
   "source": [
    "# 내림차순\n",
    "list_d = [10, 30, 50, 20, 40]\n",
    "list_d.sort(reverse=True)\n",
    "list_d"
   ]
  },
  {
   "cell_type": "code",
   "execution_count": 63,
   "id": "b470948e",
   "metadata": {},
   "outputs": [
    {
     "name": "stdout",
     "output_type": "stream",
     "text": [
      "1번째 수 :6\n",
      "2번째 수 :1\n",
      "3번째 수 :8\n",
      "4번째 수 :4\n",
      "5번째 수 :9\n",
      "입력받은 데이터 : [6, 1, 8, 4, 9]\n",
      "정렬결과 :  [1, 4, 6, 8, 9]\n"
     ]
    }
   ],
   "source": [
    "# 5개의 숫자를 입력받아서 오름차순으로 정렬하기\n",
    "\n",
    "a = []\n",
    "for i in range(1,6,1):\n",
    "    a.append(int(input(f'{i}번째 수 :')))\n",
    "    \n",
    "print(f'입력받은 데이터 : {a}')\n",
    "a.sort()\n",
    "print('정렬결과 : ', a)"
   ]
  },
  {
   "cell_type": "markdown",
   "id": "0175fad6",
   "metadata": {},
   "source": [
    "### 리스트 뒤집기 reverse()"
   ]
  },
  {
   "cell_type": "code",
   "execution_count": 65,
   "id": "39ec0857",
   "metadata": {},
   "outputs": [
    {
     "data": {
      "text/plain": [
       "[40, 20, 50, 30, 10]"
      ]
     },
     "execution_count": 65,
     "metadata": {},
     "output_type": "execute_result"
    }
   ],
   "source": [
    "list_d = [10, 30, 50, 20, 40]\n",
    "list_d.reverse()\n",
    "list_d"
   ]
  },
  {
   "cell_type": "markdown",
   "id": "391e8dd7",
   "metadata": {},
   "source": [
    "### 리스트 위치반환 index()"
   ]
  },
  {
   "cell_type": "code",
   "execution_count": 67,
   "id": "dd248af9",
   "metadata": {},
   "outputs": [
    {
     "name": "stdout",
     "output_type": "stream",
     "text": [
      "2\n"
     ]
    },
    {
     "ename": "ValueError",
     "evalue": "0 is not in list",
     "output_type": "error",
     "traceback": [
      "\u001b[1;31m---------------------------------------------------------------------------\u001b[0m",
      "\u001b[1;31mValueError\u001b[0m                                Traceback (most recent call last)",
      "Input \u001b[1;32mIn [67]\u001b[0m, in \u001b[0;36m<cell line: 3>\u001b[1;34m()\u001b[0m\n\u001b[0;32m      1\u001b[0m list_a \u001b[38;5;241m=\u001b[39m [\u001b[38;5;241m10\u001b[39m,\u001b[38;5;241m20\u001b[39m,\u001b[38;5;241m30\u001b[39m,\u001b[38;5;241m40\u001b[39m,\u001b[38;5;241m50\u001b[39m]\n\u001b[0;32m      2\u001b[0m \u001b[38;5;28mprint\u001b[39m(list_a\u001b[38;5;241m.\u001b[39mindex(\u001b[38;5;241m30\u001b[39m))\n\u001b[1;32m----> 3\u001b[0m \u001b[38;5;28mprint\u001b[39m(\u001b[43mlist_a\u001b[49m\u001b[38;5;241;43m.\u001b[39;49m\u001b[43mindex\u001b[49m\u001b[43m(\u001b[49m\u001b[38;5;241;43m0\u001b[39;49m\u001b[43m)\u001b[49m)\n",
      "\u001b[1;31mValueError\u001b[0m: 0 is not in list"
     ]
    }
   ],
   "source": [
    "list_a = [10,20,30,40,50]\n",
    "print(list_a.index(30))\n",
    "print(list_a.index(0))\n"
   ]
  },
  {
   "cell_type": "markdown",
   "id": "1cce3347",
   "metadata": {},
   "source": [
    "# 튜플(Tuple)\n",
    "\n",
    "- tuple은 list과 거의 같다.\n",
    "- 거의 같은데, 다른 점이 딱 2가지 있다. 읽기 전용   \n",
    "    **1) 리스트는 [ ]를 사용하고, 튜플은 ( )을 사용한다.**   \n",
    "    **2) 리스트는 생성 후에 변경이 가능하고(mutable) 튜플은 생성 후에 변경이 불가능하다.(immutable)**   \n",
    "- 절때 바뀌지 않는값(바뀌면 안되는 값..)에 튜플 자료형을 쓴다. 예) 위도, 경도....\n",
    " "
   ]
  },
  {
   "cell_type": "markdown",
   "id": "36bdea2c",
   "metadata": {},
   "source": [
    "## 기본 사용법"
   ]
  },
  {
   "cell_type": "code",
   "execution_count": 68,
   "id": "026b6719",
   "metadata": {},
   "outputs": [
    {
     "data": {
      "text/plain": [
       "((), tuple)"
      ]
     },
     "execution_count": 68,
     "metadata": {},
     "output_type": "execute_result"
    }
   ],
   "source": [
    "t1 = ()\n",
    "t1, type(t1)"
   ]
  },
  {
   "cell_type": "code",
   "execution_count": 69,
   "id": "4e0a2a15",
   "metadata": {},
   "outputs": [
    {
     "name": "stdout",
     "output_type": "stream",
     "text": [
      "1 <class 'int'>\n",
      "(1,) <class 'tuple'>\n"
     ]
    }
   ],
   "source": [
    "t2 = (1)\n",
    "print(t2, type(t2))\n",
    "\n",
    "t2 = (1,)\n",
    "print(t2, type(t2))"
   ]
  },
  {
   "cell_type": "code",
   "execution_count": 70,
   "id": "a3431063",
   "metadata": {},
   "outputs": [
    {
     "data": {
      "text/plain": [
       "((1, 2, 3), tuple)"
      ]
     },
     "execution_count": 70,
     "metadata": {},
     "output_type": "execute_result"
    }
   ],
   "source": [
    "t3 = (1,2,3)\n",
    "t3, type(t3)"
   ]
  },
  {
   "cell_type": "code",
   "execution_count": 71,
   "id": "148115ff",
   "metadata": {},
   "outputs": [
    {
     "data": {
      "text/plain": [
       "((1, 2, 3), tuple)"
      ]
     },
     "execution_count": 71,
     "metadata": {},
     "output_type": "execute_result"
    }
   ],
   "source": [
    "t4 = 1,2,3\n",
    "t4, type(t4)"
   ]
  },
  {
   "cell_type": "code",
   "execution_count": 72,
   "id": "8d52fc4c",
   "metadata": {},
   "outputs": [
    {
     "data": {
      "text/plain": [
       "(('a', 'b', ('hello', 3.5)), tuple)"
      ]
     },
     "execution_count": 72,
     "metadata": {},
     "output_type": "execute_result"
    }
   ],
   "source": [
    "t5 = ('a', 'b', ('hello',3.5))\n",
    "t5, type(t5)"
   ]
  },
  {
   "cell_type": "code",
   "execution_count": 73,
   "id": "79207050",
   "metadata": {},
   "outputs": [
    {
     "data": {
      "text/plain": [
       "'a'"
      ]
     },
     "execution_count": 73,
     "metadata": {},
     "output_type": "execute_result"
    }
   ],
   "source": [
    "# 인덱스로 접근가능\n",
    "t5[0]"
   ]
  },
  {
   "cell_type": "code",
   "execution_count": 74,
   "id": "cb393081",
   "metadata": {},
   "outputs": [
    {
     "data": {
      "text/plain": [
       "('hello', 3.5)"
      ]
     },
     "execution_count": 74,
     "metadata": {},
     "output_type": "execute_result"
    }
   ],
   "source": [
    "t5[-1]"
   ]
  },
  {
   "cell_type": "code",
   "execution_count": 75,
   "id": "3175650c",
   "metadata": {},
   "outputs": [
    {
     "ename": "TypeError",
     "evalue": "'tuple' object does not support item assignment",
     "output_type": "error",
     "traceback": [
      "\u001b[1;31m---------------------------------------------------------------------------\u001b[0m",
      "\u001b[1;31mTypeError\u001b[0m                                 Traceback (most recent call last)",
      "Input \u001b[1;32mIn [75]\u001b[0m, in \u001b[0;36m<cell line: 1>\u001b[1;34m()\u001b[0m\n\u001b[1;32m----> 1\u001b[0m t5[\u001b[38;5;241m0\u001b[39m] \u001b[38;5;241m=\u001b[39m \u001b[38;5;241m3\u001b[39m\n",
      "\u001b[1;31mTypeError\u001b[0m: 'tuple' object does not support item assignment"
     ]
    }
   ],
   "source": [
    "t5[0] = 3 "
   ]
  },
  {
   "cell_type": "code",
   "execution_count": 76,
   "id": "4200be1a",
   "metadata": {},
   "outputs": [
    {
     "ename": "AttributeError",
     "evalue": "'tuple' object has no attribute 'append'",
     "output_type": "error",
     "traceback": [
      "\u001b[1;31m---------------------------------------------------------------------------\u001b[0m",
      "\u001b[1;31mAttributeError\u001b[0m                            Traceback (most recent call last)",
      "Input \u001b[1;32mIn [76]\u001b[0m, in \u001b[0;36m<cell line: 1>\u001b[1;34m()\u001b[0m\n\u001b[1;32m----> 1\u001b[0m \u001b[43mt4\u001b[49m\u001b[38;5;241;43m.\u001b[39;49m\u001b[43mappend\u001b[49m(\u001b[38;5;241m1\u001b[39m)\n\u001b[0;32m      2\u001b[0m t4\u001b[38;5;241m.\u001b[39mremove(\u001b[38;5;241m1\u001b[39m)\n",
      "\u001b[1;31mAttributeError\u001b[0m: 'tuple' object has no attribute 'append'"
     ]
    }
   ],
   "source": [
    "t4.append(1)\n",
    "t4.remove(1)"
   ]
  },
  {
   "cell_type": "markdown",
   "id": "c9e91a56",
   "metadata": {},
   "source": [
    "## 튜플연산(+, *)"
   ]
  },
  {
   "cell_type": "code",
   "execution_count": 77,
   "id": "a4f1f5d0",
   "metadata": {},
   "outputs": [
    {
     "data": {
      "text/plain": [
       "(1, 2, 3, 4)"
      ]
     },
     "execution_count": 77,
     "metadata": {},
     "output_type": "execute_result"
    }
   ],
   "source": [
    "t1 = (1, 2)\n",
    "t2 = (3, 4)\n",
    "t1+t2"
   ]
  },
  {
   "cell_type": "code",
   "execution_count": 78,
   "id": "4d5550a0",
   "metadata": {},
   "outputs": [
    {
     "data": {
      "text/plain": [
       "(1, 2, 1, 2, 1, 2)"
      ]
     },
     "execution_count": 78,
     "metadata": {},
     "output_type": "execute_result"
    }
   ],
   "source": [
    "t1*3"
   ]
  },
  {
   "cell_type": "code",
   "execution_count": null,
   "id": "431d8cf3",
   "metadata": {},
   "outputs": [],
   "source": []
  },
  {
   "cell_type": "markdown",
   "id": "d3fd7170",
   "metadata": {},
   "source": [
    "## 튜플 언패킹\n",
    "- 튜플을 이용하여 변수를 한꺼번에 할당"
   ]
  },
  {
   "cell_type": "code",
   "execution_count": 81,
   "id": "e3f92cfa",
   "metadata": {},
   "outputs": [
    {
     "name": "stdout",
     "output_type": "stream",
     "text": [
      "100 200 hello\n",
      "<class 'int'> <class 'int'> <class 'str'>\n",
      "300 400 world\n",
      "<class 'int'> <class 'int'> <class 'str'>\n"
     ]
    }
   ],
   "source": [
    "a, b, c = (100, 200, 'hello')\n",
    "print(a, b, c)\n",
    "print(type(a), type(b), type(c))\n",
    "\n",
    "a, b, c = 300, 400, 'world'\n",
    "print(a, b, c)\n",
    "print(type(a), type(b), type(c))"
   ]
  },
  {
   "cell_type": "markdown",
   "id": "3df98898",
   "metadata": {},
   "source": [
    "## 기타"
   ]
  },
  {
   "cell_type": "code",
   "execution_count": 82,
   "id": "43cea0cc",
   "metadata": {
    "scrolled": false
   },
   "outputs": [
    {
     "name": "stdout",
     "output_type": "stream",
     "text": [
      "<class 'tuple'>\n",
      "<class 'list'>\n",
      "<class 'tuple'>\n"
     ]
    }
   ],
   "source": [
    "# 튜플<->list\n",
    "\n",
    "a = 1, 2, 3,4\n",
    "print(type(a))\n",
    "\n",
    "b = list(a)\n",
    "print(type(b))\n",
    "\n",
    "c = tuple(b)\n",
    "print(type(c))\n",
    "\n"
   ]
  },
  {
   "cell_type": "markdown",
   "id": "449bfebe",
   "metadata": {},
   "source": [
    "# 연습문제\n",
    " - 문제를 해결하면서 리스트의 개념을 정리해 봅니다.\n",
    " - 결과물은 **print()**를 이용해서 출력합니다."
   ]
  },
  {
   "cell_type": "markdown",
   "id": "4c9af52c",
   "metadata": {},
   "source": [
    "## 아래 문제를 읽고 적절한 코드를 프로그래밍 합니다.\n",
    "- 2021년 5월 첫째주 영화 예매 순위 기준 top3는 다음과 같습니다. \n",
    "\n",
    "### 영화 제목을 movie_rank 이름의 리스트에 저장합니다.(순위 정보는 저장하지 않습니다.)\n",
    "\n",
    "| 순위 | 영화제목 |\n",
    "| ---- | :---- | \n",
    "|  1 |  크루즈 패밀리 |  \n",
    "|  2 |  더 스파이 | \n",
    "|  3 |  미나리 | "
   ]
  },
  {
   "cell_type": "code",
   "execution_count": 1,
   "id": "bc3d8dc5",
   "metadata": {},
   "outputs": [
    {
     "name": "stdout",
     "output_type": "stream",
     "text": [
      "['크루즈 패밀리', '더 스파이', '미나리']\n"
     ]
    }
   ],
   "source": [
    "movie_rank= ['크루즈 패밀리', '더 스파이', '미나리']\n",
    "print(movie_rank)"
   ]
  },
  {
   "cell_type": "markdown",
   "id": "94ca0f8f",
   "metadata": {},
   "source": [
    "### movie_rank에 '비와 당신의 이야기'를 추가합니다."
   ]
  },
  {
   "cell_type": "code",
   "execution_count": 2,
   "id": "c2a07bfe",
   "metadata": {},
   "outputs": [
    {
     "name": "stdout",
     "output_type": "stream",
     "text": [
      "['크루즈 패밀리', '더 스파이', '미나리', '비와 당신의 이야기']\n"
     ]
    }
   ],
   "source": [
    "movie_rank.append('비와 당신의 이야기')\n",
    "print(movie_rank)"
   ]
  },
  {
   "cell_type": "markdown",
   "id": "a3ec09f5",
   "metadata": {},
   "source": [
    "### \"명탐정 코난\"을 \"더 스파이\"와 \"미나리\" 사이에 추가합니다."
   ]
  },
  {
   "cell_type": "code",
   "execution_count": 3,
   "id": "25d60c50",
   "metadata": {},
   "outputs": [
    {
     "name": "stdout",
     "output_type": "stream",
     "text": [
      "['크루즈 패밀리', '더 스파이', '명탐정 코난', '미나리', '비와 당신의 이야기']\n"
     ]
    }
   ],
   "source": [
    "movie_rank.insert(2,'명탐정 코난')\n",
    "print(movie_rank)"
   ]
  },
  {
   "cell_type": "markdown",
   "id": "525a40ab",
   "metadata": {},
   "source": [
    "### movie_rank 리스트에서 '크루즈 패밀리'를 삭제합니다."
   ]
  },
  {
   "cell_type": "code",
   "execution_count": 5,
   "id": "0903a531",
   "metadata": {},
   "outputs": [
    {
     "name": "stdout",
     "output_type": "stream",
     "text": [
      "['더 스파이', '명탐정 코난', '미나리']\n"
     ]
    }
   ],
   "source": [
    "movie_rank = ['크루즈 패밀리', '더 스파이', '명탐정 코난', '미나리']\n",
    "# remove()\n",
    "movie_rank.remove('크루즈 패밀리')\n",
    "print(movie_rank)"
   ]
  },
  {
   "cell_type": "code",
   "execution_count": 6,
   "id": "7ac1ede1",
   "metadata": {},
   "outputs": [
    {
     "name": "stdout",
     "output_type": "stream",
     "text": [
      "['더 스파이', '명탐정 코난', '미나리']\n"
     ]
    }
   ],
   "source": [
    "movie_rank = ['크루즈 패밀리', '더 스파이', '명탐정 코난', '미나리']\n",
    "# del\n",
    "del(movie_rank[0])\n",
    "print(movie_rank)"
   ]
  },
  {
   "cell_type": "markdown",
   "id": "71e19b96",
   "metadata": {},
   "source": [
    "### movie_rank에서 '미나리'를 삭제합니다."
   ]
  },
  {
   "cell_type": "code",
   "execution_count": 7,
   "id": "5c087359",
   "metadata": {},
   "outputs": [
    {
     "name": "stdout",
     "output_type": "stream",
     "text": [
      "['크루즈 패밀리', '더 스파이', '명탐정 코난']\n"
     ]
    }
   ],
   "source": [
    "movie_rank = ['크루즈 패밀리', '더 스파이', '명탐정 코난', '미나리']\n",
    "movie_rank.pop()\n",
    "print(movie_rank)"
   ]
  },
  {
   "cell_type": "markdown",
   "id": "18ae6d5b",
   "metadata": {},
   "source": [
    "##  다음의 조건을 만족하는 list_c를 생성합니다.\n",
    "- list_a = [1, 2, 3, 4], list_b = [5, 6, 7, 8] \n",
    "- list_c 는 list_a 와 list_b 값을 모두 가지고 있다.(list_a와 list_b를 연결)"
   ]
  },
  {
   "cell_type": "code",
   "execution_count": 9,
   "id": "a9c87f4f",
   "metadata": {},
   "outputs": [
    {
     "name": "stdout",
     "output_type": "stream",
     "text": [
      "[1, 2, 3, 4, 5, 6, 7, 8]\n"
     ]
    }
   ],
   "source": [
    "list_a, list_b = [1, 2, 3, 4], [5, 6, 7, 8]\n",
    "list_c = list_a+list_b\n",
    "print(list_c)"
   ]
  },
  {
   "cell_type": "markdown",
   "id": "0e30e391",
   "metadata": {},
   "source": [
    "## menu 리스트에 저장된 요소 개수를 화면에 출력하시오.\n",
    "- menu = [\"피자\", \"김밥\", \"만두\", \"양념치킨\", \"족발\", \"피자\", \"김치만두\", \"쫄면\", \"쏘세지\", \"라면\", \"팥빙수\", \"김치전\"]"
   ]
  },
  {
   "cell_type": "code",
   "execution_count": 10,
   "id": "97b567c0",
   "metadata": {},
   "outputs": [
    {
     "name": "stdout",
     "output_type": "stream",
     "text": [
      "12\n"
     ]
    }
   ],
   "source": [
    "menu = [\"피자\", \"김밥\", \"만두\", \"양념치킨\", \"족발\", \"피자\", \n",
    "        \"김치만두\", \"쫄면\", \"쏘세지\", \"라면\", \"팥빙수\", \"김치전\"]\n",
    "print(len(menu))"
   ]
  },
  {
   "cell_type": "markdown",
   "id": "ce011130",
   "metadata": {},
   "source": [
    "## a = [1, 2, 3, 4, 5, 6, 7, 8, 9, 10] 일때 아래 질문에 답하시오."
   ]
  },
  {
   "cell_type": "markdown",
   "id": "6124cf82",
   "metadata": {},
   "source": [
    "### 홀수만 추출하세요.(슬라이싱 사용)"
   ]
  },
  {
   "cell_type": "code",
   "execution_count": 11,
   "id": "e6612a2b",
   "metadata": {},
   "outputs": [
    {
     "name": "stdout",
     "output_type": "stream",
     "text": [
      "[1, 3, 5, 7, 9]\n"
     ]
    }
   ],
   "source": [
    "a = [1, 2, 3, 4, 5, 6, 7, 8, 9, 10]\n",
    "print(a[::2])"
   ]
  },
  {
   "cell_type": "markdown",
   "id": "ce805e0e",
   "metadata": {},
   "source": [
    "### 짝수만 추출하세요.(슬라이싱 사용)"
   ]
  },
  {
   "cell_type": "code",
   "execution_count": 12,
   "id": "6cabf740",
   "metadata": {},
   "outputs": [
    {
     "name": "stdout",
     "output_type": "stream",
     "text": [
      "[2, 4, 6, 8, 10]\n"
     ]
    }
   ],
   "source": [
    "print(a[1::2])"
   ]
  },
  {
   "cell_type": "markdown",
   "id": "9940e972",
   "metadata": {},
   "source": [
    "### 리스트를 거꾸로 출력하시오.(슬라이싱 사용)"
   ]
  },
  {
   "cell_type": "code",
   "execution_count": 18,
   "id": "3a85ee75",
   "metadata": {},
   "outputs": [
    {
     "name": "stdout",
     "output_type": "stream",
     "text": [
      "[10, 9, 8, 7, 6, 5, 4, 3, 2, 1]\n"
     ]
    },
    {
     "data": {
      "text/plain": [
       "[1, 2, 3, 4, 5, 6, 7, 8, 9, 10]"
      ]
     },
     "execution_count": 18,
     "metadata": {},
     "output_type": "execute_result"
    }
   ],
   "source": [
    "a = [1, 2, 3, 4, 5, 6, 7, 8, 9, 10]\n",
    "print(a[::-1])\n",
    "a"
   ]
  },
  {
   "cell_type": "markdown",
   "id": "12d02fd2",
   "metadata": {},
   "source": [
    "### 리스트를 거꾸로 출력하시오.(reverse() 사용)"
   ]
  },
  {
   "cell_type": "code",
   "execution_count": 16,
   "id": "ab4025b2",
   "metadata": {
    "scrolled": true
   },
   "outputs": [
    {
     "name": "stdout",
     "output_type": "stream",
     "text": [
      "[10, 9, 8, 7, 6, 5, 4, 3, 2, 1]\n"
     ]
    }
   ],
   "source": [
    "a.reverse()\n",
    "print(a)"
   ]
  },
  {
   "cell_type": "markdown",
   "id": "a4c9b128",
   "metadata": {},
   "source": [
    "## list_a를 내림차순으로 정렬합니다."
   ]
  },
  {
   "cell_type": "code",
   "execution_count": 19,
   "id": "1e1ae6b7",
   "metadata": {
    "scrolled": true
   },
   "outputs": [
    {
     "name": "stdout",
     "output_type": "stream",
     "text": [
      "정렬 전 : [45, 65, 35, 100, 20]\n",
      "정렬 후 : [100, 65, 45, 35, 20]\n"
     ]
    }
   ],
   "source": [
    "list_a = [45, 65, 35, 100, 20]\n",
    "print(f'정렬 전 : {list_a}')\n",
    "\n",
    "list_a.sort(reverse=True)\n",
    "print(f'정렬 후 : {list_a}')"
   ]
  },
  {
   "cell_type": "markdown",
   "id": "5d141e63",
   "metadata": {},
   "source": [
    "## 변수 company 가 아래와 같을 때 적절한 코드를 프로그래밍 하세요.\n",
    "- company = 'Samsung/Naver/LG/Kakao/SK'"
   ]
  },
  {
   "cell_type": "markdown",
   "id": "2c9a46e3",
   "metadata": {},
   "source": [
    "### company = ['Samsung', 'Naver', 'LG', 'Kakao', 'SK'] 의 형태로 출력하시오.(str함수이용)"
   ]
  },
  {
   "cell_type": "code",
   "execution_count": 20,
   "id": "3039225e",
   "metadata": {},
   "outputs": [
    {
     "name": "stdout",
     "output_type": "stream",
     "text": [
      "['Samsung', 'Naver', 'LG', 'Kakao', 'SK']\n"
     ]
    }
   ],
   "source": [
    "company = 'Samsung/Naver/LG/Kakao/SK'\n",
    "company= company.split('/')\n",
    "print(company)"
   ]
  },
  {
   "cell_type": "markdown",
   "id": "83a182dd",
   "metadata": {},
   "source": [
    "### company = ['Samsung', 'Naver', 'LG', 'Kakao', 'SK'] 를 company = 'Samsung%Naver%LG%Kakao%SK' 형태로 출력하시오."
   ]
  },
  {
   "cell_type": "code",
   "execution_count": 21,
   "id": "0d55a25d",
   "metadata": {},
   "outputs": [
    {
     "name": "stdout",
     "output_type": "stream",
     "text": [
      "Samsung%Naver%LG%Kakao%SK\n"
     ]
    }
   ],
   "source": [
    "company = ['Samsung', 'Naver', 'LG', 'Kakao', 'SK']\n",
    "company = '%'.join(company)\n",
    "print(company)"
   ]
  },
  {
   "cell_type": "markdown",
   "id": "15001ed5",
   "metadata": {},
   "source": [
    "## 다음 문제을 읽고 답을 완성하세요.\n",
    "### 숫자 1이 저장된 튜플 t를 생성합니다."
   ]
  },
  {
   "cell_type": "code",
   "execution_count": 22,
   "id": "5ea6aaf7",
   "metadata": {},
   "outputs": [
    {
     "data": {
      "text/plain": [
       "(1,)"
      ]
     },
     "execution_count": 22,
     "metadata": {},
     "output_type": "execute_result"
    }
   ],
   "source": [
    "t=1,\n",
    "t = (1,)\n",
    "t"
   ]
  },
  {
   "cell_type": "markdown",
   "id": "5a587862",
   "metadata": {},
   "source": [
    "### 다음코드를 실행해보고 오류가 발행하는 원인을 설명하세요\n",
    "- 오류원인 : 튜플은 변경불가능한 자료형이기 때문"
   ]
  },
  {
   "cell_type": "code",
   "execution_count": 23,
   "id": "dc7b00e6",
   "metadata": {},
   "outputs": [
    {
     "ename": "TypeError",
     "evalue": "'tuple' object does not support item assignment",
     "output_type": "error",
     "traceback": [
      "\u001b[1;31m---------------------------------------------------------------------------\u001b[0m",
      "\u001b[1;31mTypeError\u001b[0m                                 Traceback (most recent call last)",
      "Input \u001b[1;32mIn [23]\u001b[0m, in \u001b[0;36m<cell line: 2>\u001b[1;34m()\u001b[0m\n\u001b[0;32m      1\u001b[0m t \u001b[38;5;241m=\u001b[39m (\u001b[38;5;241m1\u001b[39m, \u001b[38;5;241m2\u001b[39m, \u001b[38;5;241m3\u001b[39m)\n\u001b[1;32m----> 2\u001b[0m t[\u001b[38;5;241m0\u001b[39m] \u001b[38;5;241m=\u001b[39m \u001b[38;5;124m'\u001b[39m\u001b[38;5;124ma\u001b[39m\u001b[38;5;124m'\u001b[39m\n",
      "\u001b[1;31mTypeError\u001b[0m: 'tuple' object does not support item assignment"
     ]
    }
   ],
   "source": [
    "t = (1, 2, 3)\n",
    "t[0] = 'a'"
   ]
  },
  {
   "cell_type": "markdown",
   "id": "5b38842a",
   "metadata": {},
   "source": [
    "### 아래 변수 t의 자료형은?\n",
    "- 답변 : tuple"
   ]
  },
  {
   "cell_type": "code",
   "execution_count": 24,
   "id": "94068a00",
   "metadata": {},
   "outputs": [],
   "source": [
    "t = 1, 2, 3, 4\n"
   ]
  },
  {
   "cell_type": "markdown",
   "id": "20bc387e",
   "metadata": {},
   "source": [
    "### 다음 리스트를 튜플로 변경합니다.. (company 자체를 변경해도 되고, 새로운 변수를 만들어도 됩니다)"
   ]
  },
  {
   "cell_type": "code",
   "execution_count": 26,
   "id": "f5959aba",
   "metadata": {
    "scrolled": true
   },
   "outputs": [
    {
     "name": "stdout",
     "output_type": "stream",
     "text": [
      "<class 'list'>\n",
      "<class 'tuple'>\n"
     ]
    }
   ],
   "source": [
    "company = ['삼성', '애플', '샤오미']\n",
    "print(type(company))\n",
    "company=tuple(company)\n",
    "print(type(company))"
   ]
  },
  {
   "cell_type": "code",
   "execution_count": null,
   "id": "4be65ce1",
   "metadata": {},
   "outputs": [],
   "source": []
  }
 ],
 "metadata": {
  "kernelspec": {
   "display_name": "Python 3.9.12 ('base')",
   "language": "python",
   "name": "python3"
  },
  "language_info": {
   "codemirror_mode": {
    "name": "ipython",
    "version": 3
   },
   "file_extension": ".py",
   "mimetype": "text/x-python",
   "name": "python",
   "nbconvert_exporter": "python",
   "pygments_lexer": "ipython3",
   "version": "3.9.12"
  },
  "toc": {
   "base_numbering": 1,
   "nav_menu": {},
   "number_sections": true,
   "sideBar": true,
   "skip_h1_title": false,
   "title_cell": "Table of Contents",
   "title_sidebar": "Contents",
   "toc_cell": false,
   "toc_position": {
    "height": "calc(100% - 180px)",
    "left": "10px",
    "top": "150px",
    "width": "264.735px"
   },
   "toc_section_display": true,
   "toc_window_display": true
  },
  "vscode": {
   "interpreter": {
    "hash": "9e030b06df8535e05113b5fce651d4155290bdf1b2777b3d701a1501abf85227"
   }
  }
 },
 "nbformat": 4,
 "nbformat_minor": 5
}
