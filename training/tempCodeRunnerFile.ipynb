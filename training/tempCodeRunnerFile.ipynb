for i in range(15):
    btnSym.append(Button(win, text=sym[i],command=partial(opNum,sym[i])))
    print(i)