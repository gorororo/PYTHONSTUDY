{
 "cells": [
  {
   "cell_type": "markdown",
   "metadata": {},
   "source": [
    "###  문장을 입력받으면 문장의 단어 갯수를 출력하는 프로그램을 작성하시오."
   ]
  },
  {
   "cell_type": "code",
   "execution_count": 34,
   "metadata": {
    "scrolled": true
   },
   "outputs": [
    {
     "name": "stdout",
     "output_type": "stream",
     "text": [
      " 공백 기준으로Hello world python\n",
      "3\n"
     ]
    }
   ],
   "source": [
    "a= input(' 공백 기준으로')\n",
    "\n",
    "print(len(a.split(' ')))\n"
   ]
  },
  {
   "cell_type": "markdown",
   "metadata": {},
   "source": [
    "###  '20220706Sunny' 문자열을 슬라이스 해서 아래와 같은 모양으로 화면에 출력하시오.\n",
    "- a = '20220706Sunny'"
   ]
  },
  {
   "cell_type": "code",
   "execution_count": 6,
   "metadata": {
    "scrolled": true
   },
   "outputs": [
    {
     "name": "stdout",
     "output_type": "stream",
     "text": [
      "2022 년 07 월 06 일 Sunny\n"
     ]
    }
   ],
   "source": [
    "a = '20220706Sunny'\n",
    "\n",
    "year = a[:4]\n",
    "month = a[4:6]\n",
    "day = a[6:8]\n",
    "weather = a[8:]\n",
    "\n",
    "print(year,'년',month,'월',day,'일',weather)\n"
   ]
  },
  {
   "cell_type": "markdown",
   "metadata": {},
   "source": [
    "### 양의 정수 n을 입력 받아서 아래 그림과 같은 직각삼각형을  출력하는 프로그램을 작성하시오."
   ]
  },
  {
   "cell_type": "code",
   "execution_count": 4,
   "metadata": {
    "scrolled": false
   },
   "outputs": [
    {
     "name": "stdout",
     "output_type": "stream",
     "text": [
      "양의 정수 입력 : 6\n",
      "★\n",
      "★★\n",
      "★★★\n",
      "★★★★\n",
      "★★★★★\n",
      "★★★★★★\n"
     ]
    }
   ],
   "source": [
    "i = 1\n",
    "n = int(input('양의 정수 입력 : '))\n",
    "\n",
    "while i<n+1:\n",
    "    print('\\u2605'*i)\n",
    "    i+= 1"
   ]
  },
  {
   "cell_type": "markdown",
   "metadata": {},
   "source": [
    "### 1~9사이의 정수 n을 입력 받아서 아래와 같은 곱하기 결과를 출력하시오.\n"
   ]
  },
  {
   "cell_type": "code",
   "execution_count": 20,
   "metadata": {},
   "outputs": [
    {
     "name": "stdout",
     "output_type": "stream",
     "text": [
      "1~9사이의 정수 :6\n",
      "6X9=54\t6X8=48\t6X7=42\t6X6=36\t6X5=30\t6X4=24\t6X3=18\t6X2=12\t6X1=6\t"
     ]
    }
   ],
   "source": [
    "n = int(input('1~9사이의 정수 :'))\n",
    "\n",
    "for i in range(9, 0, -1):\n",
    "    print(f'{n}X{i}={i*n}', end='\\t')"
   ]
  },
  {
   "cell_type": "markdown",
   "metadata": {},
   "source": [
    "### 아래 조건을 만족하는 프로그램을 작성하고 화면에  출력하시오.\n",
    "- referee = ['이승엽','박찬호','김태균','윤석민', '이종범', '이상훈', '홍성흔' ]"
   ]
  },
  {
   "cell_type": "code",
   "execution_count": 1,
   "metadata": {},
   "outputs": [
    {
     "name": "stdout",
     "output_type": "stream",
     "text": [
      "1경기 : 이승엽\n",
      "2경기 : 김태균\n",
      "3경기 : 박찬호\n",
      "4경기 : 홍성흔\n",
      "5경기 : 이종범\n"
     ]
    }
   ],
   "source": [
    "import random \n",
    "\n",
    "referee = ['이승엽','박찬호','김태균','윤석민', '이종범', '이상훈', '홍성흔' ]\n",
    "referee2 = random.sample(referee,k = 5)\n",
    "\n",
    "for i in range(1,6):\n",
    "    print(f'{i}경기 : {referee2[i-1]}')\n"
   ]
  },
  {
   "cell_type": "code",
   "execution_count": 2,
   "metadata": {},
   "outputs": [
    {
     "name": "stdout",
     "output_type": "stream",
     "text": [
      "1경기 : 이승엽\n",
      "2경기 : 김태균\n",
      "3경기 : 박찬호\n",
      "4경기 : 홍성흔\n",
      "5경기 : 이종범\n"
     ]
    }
   ],
   "source": [
    "for idx, val in enumerate(referee2):\n",
    "    print(f'{idx+1}경기 : {val}')"
   ]
  },
  {
   "cell_type": "markdown",
   "metadata": {},
   "source": [
    "### 아래 조건을 만족하는 코드를 완성하시오."
   ]
  },
  {
   "cell_type": "code",
   "execution_count": 9,
   "metadata": {},
   "outputs": [
    {
     "name": "stdout",
     "output_type": "stream",
     "text": [
      "[0, 1, 2, 3, 4, 25, 6, 7, 8, 9, 100, 11, 12, 13, 14, 225, 16, 17, 18, 19, 400, 21, 22, 23, 24, 625, 26, 27, 28, 29, 900, 31, 32, 33, 34, 1225, 36, 37, 38, 39, 1600, 41, 42, 43, 44, 2025, 46, 47, 48, 49, 2500, 51, 52, 53, 54, 3025, 56, 57, 58, 59, 3600, 61, 62, 63, 64, 4225, 66, 67, 68, 69, 4900, 71, 72, 73, 74, 5625, 76, 77, 78, 79, 6400, 81, 82, 83, 84, 7225, 86, 87, 88, 89, 8100, 91, 92, 93, 94, 9025, 96, 97, 98, 99, 10000]\n"
     ]
    }
   ],
   "source": [
    "def get_sqrt(n):\n",
    "    return n*n\n",
    "\n",
    "num_list = list(range(101))\n",
    "\n",
    "for i in num_list:\n",
    "    if i % 5 == 0 : num_list[i] =get_sqrt(i)\n",
    "        \n",
    "print(num_list)"
   ]
  },
  {
   "cell_type": "markdown",
   "metadata": {},
   "source": [
    "### 파일 입출력\n",
    "- korean_national1.txt ~ korean_national4.txt 파일에는 애국가 1절~ 4절의 가사가 각각 있습니다. 이 파일들을 읽어 out.txt 파일에 다음과 같이 저장하는 프로그램을 작성하시요.\n"
   ]
  },
  {
   "cell_type": "code",
   "execution_count": 5,
   "metadata": {},
   "outputs": [],
   "source": [
    "song = ''\n",
    "with open('test/out.txt','w', encoding='utf8') as outfile:\n",
    "    outfile.write('')\n",
    "\n",
    "for i in range(1,5) :\n",
    "    file_path = f'test/korean_national{i}.txt'\n",
    "    \n",
    "    with open(file_path,'r', encoding='utf8') as infile:\n",
    "        song = infile.read()\n",
    "        \n",
    "    with open('test/out.txt','a', encoding='utf8') as outfile:\n",
    "        outfile.write(file_path+'\\n')\n",
    "        outfile.write('-'*40+'\\n')\n",
    "        outfile.write(song+'\\n')\n",
    "#print(song)    "
   ]
  }
 ],
 "metadata": {
  "kernelspec": {
   "display_name": "Python 3.9.12 ('base')",
   "language": "python",
   "name": "python3"
  },
  "language_info": {
   "codemirror_mode": {
    "name": "ipython",
    "version": 3
   },
   "file_extension": ".py",
   "mimetype": "text/x-python",
   "name": "python",
   "nbconvert_exporter": "python",
   "pygments_lexer": "ipython3",
   "version": "3.9.12"
  },
  "toc": {
   "base_numbering": 1,
   "nav_menu": {},
   "number_sections": true,
   "sideBar": true,
   "skip_h1_title": false,
   "title_cell": "Table of Contents",
   "title_sidebar": "Contents",
   "toc_cell": false,
   "toc_position": {
    "height": "calc(100% - 180px)",
    "left": "10px",
    "top": "150px",
    "width": "232.727px"
   },
   "toc_section_display": true,
   "toc_window_display": false
  },
  "vscode": {
   "interpreter": {
    "hash": "9e030b06df8535e05113b5fce651d4155290bdf1b2777b3d701a1501abf85227"
   }
  }
 },
 "nbformat": 4,
 "nbformat_minor": 4
}
