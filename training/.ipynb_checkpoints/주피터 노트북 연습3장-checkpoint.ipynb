{
 "cells": [
  {
   "cell_type": "markdown",
   "metadata": {},
   "source": [
    "# 3장 프로그램의 구조를 쌓는 제어문\n",
    "if , whele for 를 다루어보는 연습"
   ]
  },
  {
   "cell_type": "markdown",
   "metadata": {},
   "source": [
    "### 조건문 if"
   ]
  },
  {
   "cell_type": "code",
   "execution_count": 8,
   "metadata": {},
   "outputs": [
    {
     "name": "stdout",
     "output_type": "stream",
     "text": [
      "택시를 타고 가라\n",
      "걸어 가라\n"
     ]
    }
   ],
   "source": [
    "money = True #True False\n",
    "if True:\n",
    "  print('택시를 타고 가라')\n",
    "else:\n",
    "  print('걸어 가라')\n",
    "\n",
    "money = False\n",
    "if money:\n",
    "  print('택시를 타고 가라')\n",
    "else:\n",
    "  print('걸어 가라')"
   ]
  },
  {
   "cell_type": "code",
   "execution_count": 10,
   "metadata": {},
   "outputs": [
    {
     "name": "stdout",
     "output_type": "stream",
     "text": [
      "택시를 타고 가라\n",
      "빙고\n"
     ]
    }
   ],
   "source": [
    "money = True\n",
    "if money:\n",
    "  print('택시를 타고 가라')\n",
    "  print('빙고') #파이썬은 들여쓰기가 중요하다 \n",
    "else:\n",
    "  print('걸어 가라')\n"
   ]
  },
  {
   "cell_type": "markdown",
   "metadata": {},
   "source": [
    "비교 연산자\n",
    "- x<y     <kbd>x가 y보다 작다</kbd>\n",
    "- x>y      <kbd>x가 y보다 크다</kbd>\n",
    "- x==y     <kbd>x가 y와 같다</kbd>\n",
    "- x!=y     <kbd>x가 y와 같지 않다</kbd>\n",
    "- x>=y     <kbd>x가 y보다 크거나 같다</kbd>\n",
    "- x<=y     <kbd>x가 y보다 작거나 같다</kbd>"
   ]
  },
  {
   "cell_type": "markdown",
   "metadata": {},
   "source": [
    "* [조건문 다음에 콜론(:)을 잊지 말자!] </br>\n",
    "\n",
    "kdb> if 조건문 뒤에는 반드시 콜론(:)이 붙는다. 어떤 특별한 의미가 있다기보다는 파이썬의 문법 구조이다. 왜 하필 콜론(:)인지 궁금하다면 파이썬을 만든 귀도에게 직접 물어보아야 할 것이다. 앞으로 배울 while이나 for, def, class문에도 역시 문장의 끝에 콜론(:)이 항상 들어간다. 초보자들은 이 콜론(:)을 빠뜨리는 경우가 많으니 특히 주의하자.\n",
    "\n",
    "파이썬이 다른 언어보다 보기 쉽고 소스 코드가 간결한 이유는 바로 콜론(:)을 사용하여 들여쓰기(indentation)를 하도록 만들었기 때문이다. 하지만 이는 숙련된 프로그래머들이 파이썬을 처음 접할 때 제일 혼란스러워하는 부분이기도 하다. 다른 언어에서는 if문을 { } 기호로 감싸지만 파이썬에서는 들여쓰기로 해결한다는 점을 기억하자.</kdb>"
   ]
  },
  {
   "cell_type": "code",
   "execution_count": 17,
   "metadata": {},
   "outputs": [
    {
     "name": "stdout",
     "output_type": "stream",
     "text": [
      "걸어\n"
     ]
    }
   ],
   "source": [
    "a = 1\n",
    "b = 2\n",
    "if a == b : #값이 같지 않으니 False 걸어가 출력\n",
    "  print(\"택시타\")\n",
    "else:\n",
    "  print('걸어')"
   ]
  },
  {
   "cell_type": "code",
   "execution_count": 20,
   "metadata": {},
   "outputs": [
    {
     "name": "stdout",
     "output_type": "stream",
     "text": [
      "walk\n"
     ]
    }
   ],
   "source": [
    "money = 2000\n",
    "if money >= 3000:\n",
    "  print('Taxi')\n",
    "else:\n",
    "  print('walk')"
   ]
  },
  {
   "cell_type": "code",
   "execution_count": 26,
   "metadata": {},
   "outputs": [
    {
     "name": "stdout",
     "output_type": "stream",
     "text": [
      "Taxi\n"
     ]
    }
   ],
   "source": [
    "money = 2000\n",
    "card = 1\n",
    "if money >=3000 or card : #or(|) 는 둘중에 하나라도 참이면 참이된다\n",
    "  print('Taxi')\n",
    "else:\n",
    "  print('walk')"
   ]
  },
  {
   "cell_type": "code",
   "execution_count": 34,
   "metadata": {},
   "outputs": [
    {
     "name": "stdout",
     "output_type": "stream",
     "text": [
      "Taxi\n"
     ]
    }
   ],
   "source": [
    "money = 2000\n",
    "card = 1\n",
    "if money <=3000 and card : #and(&) 는 둘다 참이여야만 참이된다\n",
    "  print('Taxi')\n",
    "else:\n",
    "  print('walk')"
   ]
  },
  {
   "cell_type": "code",
   "execution_count": 36,
   "metadata": {},
   "outputs": [
    {
     "name": "stdout",
     "output_type": "stream",
     "text": [
      "Taxi\n"
     ]
    }
   ],
   "source": [
    "money = 2000\n",
    "card = 1\n",
    "if not False : #not x 라면 x결과를 반대로 바꾼다\n",
    "  print('Taxi')\n",
    "else:\n",
    "  print('walk')"
   ]
  },
  {
   "cell_type": "code",
   "execution_count": 38,
   "metadata": {},
   "outputs": [
    {
     "name": "stdout",
     "output_type": "stream",
     "text": [
      "Taxi\n"
     ]
    }
   ],
   "source": [
    "money = 2000\n",
    "card = 1\n",
    "if 1 in [1,2,3] : #in은 리스트안에 같은 값이 있으면 트루가 된다\n",
    "  print('Taxi')\n",
    "else:\n",
    "  print('walk')"
   ]
  },
  {
   "cell_type": "code",
   "execution_count": 40,
   "metadata": {},
   "outputs": [
    {
     "name": "stdout",
     "output_type": "stream",
     "text": [
      "walk\n"
     ]
    }
   ],
   "source": [
    "money = 2000\n",
    "card = 1\n",
    "if 1 not in [1,2,3] : #not in은 리스트안에 같은 값이 있으면 펄스가 된다\n",
    "  print('Taxi')\n",
    "else:\n",
    "  print('walk')"
   ]
  },
  {
   "cell_type": "code",
   "execution_count": 42,
   "metadata": {},
   "outputs": [
    {
     "name": "stdout",
     "output_type": "stream",
     "text": [
      "walk\n"
     ]
    }
   ],
   "source": [
    "money = 2000\n",
    "card = 1\n",
    "if 1 not in [1,2,3] : \n",
    "    pass #pass 그냥 지나가라는 구문\n",
    "else:\n",
    "  print('walk')"
   ]
  },
  {
   "cell_type": "code",
   "execution_count": 44,
   "metadata": {},
   "outputs": [
    {
     "name": "stdout",
     "output_type": "stream",
     "text": [
      "taxi 타고가라\n"
     ]
    }
   ],
   "source": [
    "pocket = ['paper','cellphone']\n",
    "card = True\n",
    "if 'money' in pocket : \n",
    "    pass \n",
    "elif card:\n",
    "    print(\"taxi 타고가라\")\n",
    "else:\n",
    "  print('walk 가라')"
   ]
  },
  {
   "cell_type": "code",
   "execution_count": 51,
   "metadata": {},
   "outputs": [
    {
     "name": "stdout",
     "output_type": "stream",
     "text": [
      "copper 로 taxi 타고가라\n"
     ]
    }
   ],
   "source": [
    "pocket = ['paper','cellphone']\n",
    "card = False\n",
    "copper = True\n",
    "if 'money' in pocket : \n",
    "    pass \n",
    "elif card:\n",
    "    print(\"taxi 타고가라\")\n",
    "elif copper:\n",
    "    print(\"copper 로 taxi 타고가라\")\n",
    "else:\n",
    "  print('walk 가라')"
   ]
  },
  {
   "cell_type": "code",
   "execution_count": 57,
   "metadata": {},
   "outputs": [
    {
     "name": "stdout",
     "output_type": "stream",
     "text": [
      "success\n"
     ]
    }
   ],
   "source": [
    "score = 70\n",
    "if score >= 60:\n",
    "  message =\"success\"\n",
    "else:\n",
    "  message = \"failure\"\n",
    "\n",
    "print(message)"
   ]
  },
  {
   "cell_type": "markdown",
   "metadata": {},
   "source": [
    "#### 조건부 표현식\n",
    "- 1. 성공일떄 조건을 먼저 써준다\n",
    "- 2. 조건식을 써준다"
   ]
  },
  {
   "cell_type": "code",
   "execution_count": 55,
   "metadata": {},
   "outputs": [
    {
     "name": "stdout",
     "output_type": "stream",
     "text": [
      "success\n"
     ]
    }
   ],
   "source": [
    "score = 70\n",
    "# if score >= 60:\n",
    "#   message =\"success\"\n",
    "# else:\n",
    "#   message = \"failure\"\n",
    "message = \"success\" if score >=60 else \"failure\" \n",
    "#미리 메세지를 주고 뒤에 식을 적어도 위셀과 동일한결과 파이썬으로 줄인식\n",
    "# 다른언어 3항 연산자? 를 파이썬식으로 표현\n",
    "print(message)"
   ]
  },
  {
   "cell_type": "markdown",
   "metadata": {},
   "source": [
    "#### 반복문 while"
   ]
  },
  {
   "cell_type": "code",
   "execution_count": null,
   "metadata": {},
   "outputs": [],
   "source": [
    "treeHit = 0\n",
    "# import pdb;pdb.set_trace() #주피터노트북 디버깅 명령어\n",
    "while treeHit <10:\n",
    "  treeHit = treeHit +1\n",
    "  print(\"나무를 %d번 찍었습니다.\" % treeHit)\n",
    "  if treeHit == 10:\n",
    "    print(\"나무 넘어갑니다.\") "
   ]
  },
  {
   "cell_type": "code",
   "execution_count": null,
   "metadata": {},
   "outputs": [],
   "source": []
  }
 ],
 "metadata": {
  "interpreter": {
   "hash": "9e030b06df8535e05113b5fce651d4155290bdf1b2777b3d701a1501abf85227"
  },
  "kernelspec": {
   "display_name": "Python 3 (ipykernel)",
   "language": "python",
   "name": "python3"
  },
  "language_info": {
   "codemirror_mode": {
    "name": "ipython",
    "version": 3
   },
   "file_extension": ".py",
   "mimetype": "text/x-python",
   "name": "python",
   "nbconvert_exporter": "python",
   "pygments_lexer": "ipython3",
   "version": "3.9.12"
  },
  "toc": {
   "base_numbering": 1,
   "nav_menu": {},
   "number_sections": true,
   "sideBar": true,
   "skip_h1_title": false,
   "title_cell": "Table of Contents",
   "title_sidebar": "Contents",
   "toc_cell": false,
   "toc_position": {},
   "toc_section_display": true,
   "toc_window_display": false
  }
 },
 "nbformat": 4,
 "nbformat_minor": 2
}
