{
 "cells": [
  {
   "cell_type": "markdown",
   "id": "d4997df2",
   "metadata": {},
   "source": [
    "# class와 object 이해하기\n",
    "- 클래스 : 객체를 만들어 내기 위한 설계도. 예) 빵틀\n",
    "- 객체(object) : 설계도로부터 만들어낸 제품. 예) 빵틀에서 만들어진 빵"
   ]
  },
  {
   "cell_type": "markdown",
   "id": "9fe39aab",
   "metadata": {},
   "source": [
    "## class란?\n",
    "- 실세계의 것을 모델링하여 **속성(attribute)과 기능(method)**을 갖는 데이터 타입\n",
    "- python에서의 data type은 string, int, list, dict.. 모두가 다 클래스로 존재\n",
    "- 예1) 인간 : 속성(이름/나이/국적/키..)과 기능(먹다/자다/일하다)을 가진다.\n",
    "- 예2) 자동차 : 속성(brand/model/color..) 기능(turn_on, trun_off, drive..)\n",
    "- 다루고자 하는 데이터(변수) 와 데이터를 다루는 연산(함수)를 하나로 캡슐화(encapsulation)하여 클래스로 표현\n",
    "- 클래스는 새로운 타입을 정의하는 것."
   ]
  },
  {
   "cell_type": "markdown",
   "id": "46da6d74",
   "metadata": {},
   "source": [
    "## object 란?\n",
    "- 클래스로 생성되어 구체화된 객체(object, instance)\n",
    "- 파이썬의 모든 것(int, str, list..etc)은 객체(인스턴스)\n",
    "- 실제로 class가 인스턴스화 되어 메모리에 상주하는 상태를 의미\n",
    "- class가 빵틀이라면, object는 실제로 빵틀로 찍어낸 빵이라고 비유 가능\n",
    "- 예1) '인간'이라는 클래스, 홍길동, 아이유라는 객체\n",
    "- 예2) list 클래스, [1,2,3],['hello','world'] 객체\n",
    "- list a,b,c;"
   ]
  },
  {
   "cell_type": "code",
   "execution_count": null,
   "id": "94c5b327",
   "metadata": {
    "scrolled": true
   },
   "outputs": [],
   "source": [
    "# a는 객체, list의 인스턴스\n",
    "a = [1,2,3,4]\n",
    "a.append(5)\n",
    "print(a)"
   ]
  },
  {
   "cell_type": "markdown",
   "id": "1fb2c004",
   "metadata": {},
   "source": [
    "- 어떤 클래스의 인스턴스인지 확인하기 : **isinstance(인스턴스(객체), 클래스)**"
   ]
  },
  {
   "cell_type": "code",
   "execution_count": 4,
   "id": "042e1ff4",
   "metadata": {},
   "outputs": [
    {
     "data": {
      "text/plain": [
       "True"
      ]
     },
     "execution_count": 4,
     "metadata": {},
     "output_type": "execute_result"
    }
   ],
   "source": [
    "a = [1,2,3,4]\n",
    "isinstance(a,list)"
   ]
  },
  {
   "cell_type": "code",
   "execution_count": 5,
   "id": "f8180fae",
   "metadata": {},
   "outputs": [
    {
     "data": {
      "text/plain": [
       "False"
      ]
     },
     "execution_count": 5,
     "metadata": {},
     "output_type": "execute_result"
    }
   ],
   "source": [
    "a = [1,2,3,4]\n",
    "isinstance(a,int)"
   ]
  },
  {
   "cell_type": "markdown",
   "id": "ccdb72d1",
   "metadata": {},
   "source": [
    "# class 선언하기\n",
    "  - 객체를 생성하기 위해선 객체의 모체가 되는 class를 미리 선언해야 함 \n",
    "  - **class 클래스명 :**"
   ]
  },
  {
   "cell_type": "code",
   "execution_count": 13,
   "id": "351c909e",
   "metadata": {},
   "outputs": [],
   "source": [
    "class Person :\n",
    "    pass\n",
    "#bob은 객채,Person의 인스턴스\n"
   ]
  },
  {
   "cell_type": "code",
   "execution_count": 14,
   "id": "c35c50a0",
   "metadata": {},
   "outputs": [
    {
     "name": "stdout",
     "output_type": "stream",
     "text": [
      "<class '__main__.Person'> <class '__main__.Person'>\n",
      "<class 'list'> <class 'list'>\n"
     ]
    }
   ],
   "source": [
    "bob = Person()\n",
    "andy = Person()\n",
    "\n",
    "a = list()\n",
    "b = list()\n",
    "print(type(bob),type(andy),)\n",
    "print(type(a),type(b),)"
   ]
  },
  {
   "cell_type": "markdown",
   "id": "3693c139",
   "metadata": {},
   "source": [
    "## \\_\\_init\\_\\_(self)\n",
    " - 생성자, 클래스 인스턴스가 생성될 때 호출됨\n",
    " - 객체에 초기값을 설정\n",
    " - self인자는 항상 첫번째에 오며 자기 자신을 가리킴\n",
    " - 이름이 꼭 self일 필요는 없지만, 관례적으로 self로 사용\n",
    " - 생성자에서는 해당 클래스가 다루는 데이터를 정의, 이 데이터를 인스턴스변수(instance variable), 멤버 변수(member variable) 또는 속성(attribute)라고 함"
   ]
  },
  {
   "cell_type": "code",
   "execution_count": 16,
   "id": "d8462dbd",
   "metadata": {},
   "outputs": [
    {
     "name": "stdout",
     "output_type": "stream",
     "text": [
      "bob 10\n",
      "andy 20\n"
     ]
    }
   ],
   "source": [
    "class Person :\n",
    "  def __init__(self):\n",
    "    self.name='bob'\n",
    "    self.age=10\n",
    "\n",
    "p1 = Person()\n",
    "print(p1.name,p1.age)\n",
    "\n",
    "p1.name = 'andy'\n",
    "p1.age = 20\n",
    "print(p1.name,p1.age)"
   ]
  },
  {
   "cell_type": "code",
   "execution_count": 17,
   "id": "205f623e",
   "metadata": {},
   "outputs": [
    {
     "name": "stdout",
     "output_type": "stream",
     "text": [
      "bob 10\n",
      "andy 20\n"
     ]
    }
   ],
   "source": [
    "class Person :\n",
    "  def __init__(self,a,b):\n",
    "    self.name=a\n",
    "    self.age=b\n",
    "\n",
    "p1 = Person('bob',10)\n",
    "p2 = Person('andy',20)\n",
    "print(p1.name,p1.age)\n",
    "print(p2.name,p2.age)"
   ]
  },
  {
   "cell_type": "code",
   "execution_count": 18,
   "id": "4facc851",
   "metadata": {},
   "outputs": [
    {
     "name": "stdout",
     "output_type": "stream",
     "text": [
      "bob 10\n",
      "andy 20\n"
     ]
    }
   ],
   "source": [
    "class PersonPeople :\n",
    "  def __init__(self,name,age):\n",
    "    self.name=name\n",
    "    self.age=age\n",
    "\n",
    "p1 = PersonPeople('bob',10)\n",
    "p2 = PersonPeople('andy',20)\n",
    "print(p1.name,p1.age)\n",
    "print(p2.name,p2.age)"
   ]
  },
  {
   "cell_type": "code",
   "execution_count": null,
   "id": "0a8c5dae",
   "metadata": {},
   "outputs": [],
   "source": []
  },
  {
   "attachments": {
    "image.png": {
     "image/png": "[encoded data removed]"
    }
   },
   "cell_type": "markdown",
   "id": "185fce74",
   "metadata": {},
   "source": [
    "**연습문제1) 아래 조건에 맞는 class Student를 생성하시오.**\n",
    "- 생성자는 name, kor, math, eng를 매개변수로 가진다.\n",
    "![image.png](attachment:image.png)"
   ]
  },
  {
   "cell_type": "code",
   "execution_count": 31,
   "id": "f10fbcaf",
   "metadata": {},
   "outputs": [
    {
     "name": "stdout",
     "output_type": "stream",
     "text": [
      "이름 : tomas, 국어 : 100, 수학 : 98, 영어 : 65\n",
      "이름 : andy, 국어 : 56, 수학 : 77, 영어 : 97\n",
      "이름 : bob, 국어 : 87, 수학 : 56, 영어 : 98\n",
      "이름 : rak, 국어 : 87, 수학 : 55, 영어 : 66\n"
     ]
    }
   ],
   "source": [
    "\n",
    "class Student :\n",
    "  '''\n",
    "    학생들의 성적정보를 처리하는 class\n",
    "  '''\n",
    "  def __init__(self,name,kor,math,eng):\n",
    "    self.name=name\n",
    "    self.kor=kor\n",
    "    self.math=math\n",
    "    self.eng=eng\n",
    "\n",
    "s1 = Student('tomas',100,98,65)\n",
    "s2 = Student('andy', 56,77,97)\n",
    "s3 = Student('bob', 87,56,98)\n",
    "s4 = Student('rak', 87,55,66)\n",
    "\n",
    "print(f'이름 : {s1.name}, 국어 : {s1.kor}, 수학 : {s1.math}, 영어 : {s1.eng}')\n",
    "print(f'이름 : {s2.name}, 국어 : {s2.kor}, 수학 : {s2.math}, 영어 : {s2.eng}')\n",
    "print(f'이름 : {s3.name}, 국어 : {s3.kor}, 수학 : {s3.math}, 영어 : {s3.eng}')\n",
    "print(f'이름 : {s4.name}, 국어 : {s4.kor}, 수학 : {s4.math}, 영어 : {s4.eng}')\n"
   ]
  },
  {
   "cell_type": "markdown",
   "id": "de8a4c88",
   "metadata": {},
   "source": [
    "## self\n",
    "  - 파이썬의 method는 항상 첫번째 매개변수로 self를 전달\n",
    "  - self는 현재 해당 method가 호출되는 자신을 가리킴\n",
    "  - C++/C#,Java의 this에 해당\n",
    "  - 이름이 self일 필요는 없으나, 위치는 항상 맨 처음의 parameter이며 관례적으로 self로 사용\n"
   ]
  },
  {
   "cell_type": "code",
   "execution_count": 35,
   "id": "874f7978",
   "metadata": {},
   "outputs": [
    {
     "name": "stdout",
     "output_type": "stream",
     "text": [
      "bob 은 잠을 잡니다.\n",
      "andy 은 잠을 잡니다.\n"
     ]
    }
   ],
   "source": [
    "class Person :\n",
    "  def __init__(self,name,age):\n",
    "    self.name=name\n",
    "    self.age=age\n",
    "\n",
    "  def sleep(self):\n",
    "    print(self.name, '은 잠을 잡니다.')\n",
    "\n",
    "p1 =Person('bob' ,20)\n",
    "p2 =Person('andy' ,30)\n",
    "\n",
    "p1.sleep()\n",
    "p2.sleep()"
   ]
  },
  {
   "cell_type": "markdown",
   "id": "0b65ee3e",
   "metadata": {},
   "source": [
    "## mehtod\n",
    "- 멤버함수라고도 하며, 해당 클래스의 object에서만 호출가능\n",
    "- 메소드는 객체 레벨에서 호출되며, 해당 객체의 속성에 대한 연산을 행함\n",
    "- obj.method() 형태로 호출됨\n",
    "- 함수(function)와 메서드(method)의 차이점은 함수는 외부에 별도로 존재하고 메소드는 클래스 안에 존재"
   ]
  },
  {
   "cell_type": "code",
   "execution_count": 36,
   "id": "3766ff1a",
   "metadata": {},
   "outputs": [],
   "source": [
    "class Car:\n",
    "    def __init__(self, brand,model,color):\n",
    "        self.brand = brand\n",
    "        self.model = model\n",
    "        self.color = color        \n",
    "        print(self.brand, self.model, self.color, '출고')\n",
    "    \n",
    "    def turn_on(self):\n",
    "        print(self.model, '시동을 겁니다.')\n",
    "        \n",
    "    def turn_off(self):\n",
    "        print(self.model, '시동을 끕니다.')\n",
    "    \n",
    "    def drive(self):\n",
    "        print(self.model, '주행중입니다.')        \n",
    "        "
   ]
  },
  {
   "cell_type": "code",
   "execution_count": 37,
   "id": "b50fc5f2",
   "metadata": {},
   "outputs": [
    {
     "name": "stdout",
     "output_type": "stream",
     "text": [
      "bmw m1 화이트 출고\n",
      "르노 qm7 검정 출고\n",
      "m1 시동을 끕니다.\n",
      "qm7 시동을 겁니다.\n"
     ]
    }
   ],
   "source": [
    "car1 = Car('bmw','m1','화이트')\n",
    "car2 = Car('르노','qm7','검정')\n",
    "car1.turn_off()\n",
    "car2.turn_on()"
   ]
  },
  {
   "cell_type": "markdown",
   "id": "eca514fc",
   "metadata": {},
   "source": []
  },
  {
   "attachments": {
    "image.png": {
     "image/png": "[encoded data removed]"
    }
   },
   "cell_type": "markdown",
   "id": "06367cc5",
   "metadata": {},
   "source": [
    "**연습문제2) class Student에서 점수합계(예:tomas의 kor, math, eng의 점수합계)와 평균을 구하는 get_sum(), get_avg()를 각각 구현하시오**\n",
    "![image.png](attachment:image.png)"
   ]
  },
  {
   "cell_type": "code",
   "execution_count": 66,
   "id": "e536e3b0",
   "metadata": {},
   "outputs": [
    {
     "name": "stdout",
     "output_type": "stream",
     "text": [
      "이름 : tomas, 국어 : 100, 수학 : 98, 영어 : 65\n",
      "이름 : andy, 국어 : 56, 수학 : 77, 영어 : 97\n",
      "이름 : bob, 국어 : 87, 수학 : 56, 영어 : 98\n",
      "이름 : rak, 국어 : 87, 수학 : 55, 영어 : 66\n",
      "263\n",
      "87.67\n"
     ]
    }
   ],
   "source": [
    "class Student :\n",
    "  '''\n",
    "    학생들의 성적정보를 처리하는 class\n",
    "  '''\n",
    "  def __init__(self,name,kor,math,eng):\n",
    "    self.name=name\n",
    "    self.kor=kor\n",
    "    self.math=math\n",
    "    self.eng=eng\n",
    "    \n",
    "  def get_sum(self):\n",
    "    return self.kor+self.math+self.eng\n",
    "    \n",
    "  def get_avg(self):\n",
    "    return round(self.get_sum()/3,2)\n",
    "\n",
    "s1 = Student('tomas',100,98,65)\n",
    "s2 = Student('andy', 56,77,97)\n",
    "s3 = Student('bob', 87,56,98)\n",
    "\n",
    "print(f'이름 : {s1.name}, 국어 : {s1.kor}, 수학 : {s1.math}, 영어 : {s1.eng}')\n",
    "print(f'이름 : {s2.name}, 국어 : {s2.kor}, 수학 : {s2.math}, 영어 : {s2.eng}')\n",
    "print(f'이름 : {s3.name}, 국어 : {s3.kor}, 수학 : {s3.math}, 영어 : {s3.eng}')\n",
    "\n",
    "print(s1.get_sum())\n",
    "print(s1.get_avg())"
   ]
  },
  {
   "cell_type": "code",
   "execution_count": 67,
   "id": "e80c0224",
   "metadata": {},
   "outputs": [
    {
     "name": "stdout",
     "output_type": "stream",
     "text": [
      "63\n",
      "60\n",
      "60\n",
      "73\n",
      "86\n",
      "68.4\n"
     ]
    }
   ],
   "source": [
    "# Person이라는 클래스를 만들었다.\n",
    "class Person():\n",
    "  # 생성자에서는 name과 korean, math, english의 값을 받는다.\n",
    "  def __init__(self, name, korean, math, english):\n",
    "    self.__name = name;\n",
    "    self.__korean = korean;\n",
    "    self.__math = math;\n",
    "    self.__english = english;\n",
    "  # 평균을 구한다.\n",
    "  def calculate_average(self):\n",
    "    return int((self.__korean + self.__math + self.__english)/3);\n",
    "    \n",
    "person_list = [];\n",
    "# person_list에 Person클래스로 a, b, c, d, e의 사람을 추가하였다.\n",
    "person_list.append(Person('a', 50, 60, 80));\n",
    "person_list.append(Person('b', 40, 80, 60));\n",
    "person_list.append(Person('c', 80, 70, 30));\n",
    "person_list.append(Person('d', 80, 60, 80));\n",
    "person_list.append(Person('e', 90, 80, 90));\n",
    " \n",
    "# 각 인원의 평균을 구한다.\n",
    "for p in person_list:\n",
    "  print(p.calculate_average());\n",
    " \n",
    "# 전체의 평균을 구한다.\n",
    "sum = 0;\n",
    "for p in person_list:\n",
    "  sum += p.calculate_average();  \n",
    "print(sum / len(person_list));"
   ]
  },
  {
   "attachments": {
    "image.png": {
     "image/png": "[encoded data removed]"
    }
   },
   "cell_type": "markdown",
   "id": "28c47703",
   "metadata": {},
   "source": [
    "**연습문제3) 연습문제2에서 해당 객체의 이름 총점 평균을 출력해주는 to_string()를 추가하시오**\n",
    "![image.png](attachment:image.png)"
   ]
  },
  {
   "cell_type": "code",
   "execution_count": 79,
   "id": "b073f342",
   "metadata": {},
   "outputs": [
    {
     "name": "stdout",
     "output_type": "stream",
     "text": [
      "263\n",
      "87.67\n",
      "(' 총점: ', 'tomas : 263,87.67')\n"
     ]
    }
   ],
   "source": [
    "class Student :\n",
    "    '''\n",
    "    학생들의 성적정보를 처리하는 class\n",
    "    '''\n",
    "    def __init__(self,name,kor,math,eng):\n",
    "    \n",
    "        self.name=name\n",
    "        self.kor=kor\n",
    "        self.math=math\n",
    "        self.eng=eng\n",
    "    def get_sum(self):\n",
    "        return self.kor+self.math+self.eng\n",
    "    def get_avg(self):\n",
    "        return round(self.get_sum()/3,2)\n",
    "    def to_string(self):\n",
    "        return f'{self.name} : {self.get_sum()},{self.get_avg()}'\n",
    "\n",
    "\n",
    "s1 = Student('tomas',100,98,65)\n",
    "s2 = Student('andy', 56,77,97)\n",
    "s3 = Student('bob', 87,56,98)\n",
    "s4 = Student('rak', 87,55,66)\n",
    "\n",
    "# print(f'이름 : {s1.name}, 국어 : {s1.kor}, 수학 : {s1.math}, 영어 : {s1.eng}')\n",
    "# print(f'이름 : {s2.name}, 국어 : {s2.kor}, 수학 : {s2.math}, 영어 : {s2.eng}')\n",
    "# print(f'이름 : {s3.name}, 국어 : {s3.kor}, 수학 : {s3.math}, 영어 : {s3.eng}')\n",
    "# print(f'이름 : {s4.name}, 국어 : {s4.kor}, 수학 : {s4.math}, 영어 : {s4.eng}')\n",
    "\n",
    "print(s1.get_sum())\n",
    "print(s1.get_avg())\n",
    "f= f' 총점: ',s1.to_string()\n",
    "\n",
    "print(f)"
   ]
  },
  {
   "cell_type": "markdown",
   "id": "853e4c68",
   "metadata": {},
   "source": [
    "# 클래스 변수와 클래스 메소드\n",
    "## 클래스 변수\n",
    "- 다른 객체들에 영향을 받지 않고 클래스 안에서 독립적으로 그 값을 유지하는 변수\n",
    "- **클래스 이름.변수이름**으로 접근한다."
   ]
  },
  {
   "cell_type": "code",
   "execution_count": 74,
   "id": "cace3914",
   "metadata": {},
   "outputs": [
    {
     "name": "stdout",
     "output_type": "stream",
     "text": [
      "1\n",
      "2\n"
     ]
    }
   ],
   "source": [
    "class Person :\n",
    "    \n",
    "    count = 0 # 클래스 변수\n",
    "\n",
    "    def __init__(self,name,age):\n",
    "        self.name=name\n",
    "        self.age=age\n",
    "        Person.count +=1\n",
    "\n",
    "    def plus(self):\n",
    "        self.num +=10\n",
    "        \n",
    "\n",
    "p1 = Person(\"bob\",20)\n",
    "print(Person.count)\n",
    "\n",
    "p2 = Person('andy',10)\n",
    "print(Person.count)"
   ]
  },
  {
   "cell_type": "code",
   "execution_count": 32,
   "id": "96d1e192",
   "metadata": {},
   "outputs": [],
   "source": [
    "class Counter:\n",
    "    count = 0\n",
    "\n",
    "    def __init__(self):\n",
    "        self.num =0\n",
    "\n",
    "    def plus(self):\n",
    "        self.num +=1\n",
    "        Counter.count += 10\n",
    "\n",
    "    def reset(self):\n",
    "        self.num +=0\n",
    "        Counter.count += 0\n",
    "\n",
    "    def print_current_value(self):\n",
    "        print(f'현재값 : {self.num},{Counter.count}')\n",
    "        \n"
   ]
  },
  {
   "cell_type": "code",
   "execution_count": 62,
   "id": "84797d67",
   "metadata": {
    "scrolled": false
   },
   "outputs": [
    {
     "name": "stdout",
     "output_type": "stream",
     "text": [
      "현재값 : 0,0\n",
      "현재값 : 3,30\n",
      "count : 30\n",
      "count : 30\n",
      "현재값 : 0,30\n",
      "현재값 : 2,50\n"
     ]
    }
   ],
   "source": [
    "class Counter:\n",
    "    count = 0\n",
    "    \n",
    "    def __init__(self):\n",
    "        self.num =0\n",
    "        \n",
    "    def plus(self):\n",
    "        self.num +=1\n",
    "        Counter.count += 10\n",
    "        \n",
    "    def reset(self):\n",
    "        self.num +=0\n",
    "        Counter.count += 0\n",
    "    \n",
    "    def print_current_value(self):\n",
    "        print(f'현재값 : {self.num},{Counter.count}')       \n",
    "    @classmethod\n",
    "    def print_count(cls):\n",
    "        print(f'count : {cls.count}')\n",
    "c1 = Counter()\n",
    "c2 = Counter()\n",
    "c1.print_current_value()\n",
    "c1.plus()\n",
    "c1.plus()\n",
    "c1.plus()\n",
    "c1.print_current_value()\n",
    "\n",
    "Counter.print_count()\n",
    "c1.print_count()\n",
    "c2.print_current_value()\n",
    "c2.plus()\n",
    "c2.plus()\n",
    "c2.print_current_value()"
   ]
  },
  {
   "attachments": {
    "image.png": {
     "image/png": "[encoded data removed]"
    }
   },
   "cell_type": "markdown",
   "id": "accc472e",
   "metadata": {},
   "source": [
    "**연습문제4) class Student에서 클래스 변수 count를 생성하고 전체 학생수를 count하도록 구현하시오** \n",
    "- hint : 학생 객체가 생성될때마다 __init__에서 카운트!!\n",
    "![image.png](attachment:image.png)"
   ]
  },
  {
   "cell_type": "code",
   "execution_count": 20,
   "id": "d332c4d8",
   "metadata": {},
   "outputs": [
    {
     "name": "stdout",
     "output_type": "stream",
     "text": [
      "1번째 학생이 생성 되었습니다.\n",
      "2번째 학생이 생성 되었습니다.\n",
      "3번째 학생이 생성 되었습니다.\n"
     ]
    }
   ],
   "source": [
    "class Student :\n",
    "    '''\n",
    "    학생들의 성적정보를 처리하는 class\n",
    "    '''\n",
    "    count = 0\n",
    "\n",
    "    def __init__(self,name,kor,math,eng):\n",
    "        self.name=name\n",
    "        self.kor=kor\n",
    "        self.math=math\n",
    "        self.eng=eng\n",
    "        Student.count +=1\n",
    "        print(f'{Student.count}번째 학생이 생성 되었습니다.')\n",
    "\n",
    "    def get_sum(self):\n",
    "        return self.kor+self.math+self.eng\n",
    "\n",
    "    def get_avg(self):\n",
    "        return round(self.get_sum()/3,2)\n",
    "\n",
    "\n",
    "        \n",
    "\n",
    "\n",
    "students = [Student('tomas',100,98,65),\n",
    "            Student('andy', 56,77,97),\n",
    "            Student('bob', 87,56,98)]"
   ]
  },
  {
   "cell_type": "markdown",
   "id": "25008dd1",
   "metadata": {},
   "source": [
    "## classmethod\n",
    "- class가 가진 method. 일반적인 mehtod와 큰 차이는 없다. \n",
    "- class속성(변수)에 접근하기 위해 사용\n",
    "- 클래스를 의미하는 cls를 파라미터로 받는다.\n",
    "- **@classmethod** 라고 명시"
   ]
  },
  {
   "cell_type": "code",
   "execution_count": 28,
   "id": "bfcbcf39",
   "metadata": {},
   "outputs": [],
   "source": [
    "class Counter:\n",
    "    count = 0\n",
    "    \n",
    "    def __init__(self):\n",
    "        self.num =0\n",
    "        \n",
    "    def plus(self):\n",
    "        self.num +=1\n",
    "        Counter.count += 10\n",
    "        \n",
    "    def reset(self):\n",
    "        self.num +=0\n",
    "        Counter.count += 0\n",
    "    \n",
    "    def print_current_value(self):\n",
    "        print(f'현재값 : {self.num},{Counter.count}')       \n",
    "    @classmethod\n",
    "    def print_count(cls):\n",
    "        print(f'count : {cls.count}')"
   ]
  },
  {
   "cell_type": "code",
   "execution_count": 38,
   "id": "36f3496d",
   "metadata": {},
   "outputs": [
    {
     "name": "stdout",
     "output_type": "stream",
     "text": [
      "현재값 : 0,0\n",
      "현재값 : 3,30\n",
      "count : 30\n",
      "count : 30\n"
     ]
    }
   ],
   "source": [
    "class Counter:\n",
    "    count = 0\n",
    "    \n",
    "    def __init__(self):\n",
    "        self.num =0\n",
    "        \n",
    "    def plus(self):\n",
    "        self.num +=1\n",
    "        Counter.count += 10\n",
    "        \n",
    "    def reset(self):\n",
    "        self.num +=0\n",
    "        Counter.count += 0\n",
    "    \n",
    "    def print_current_value(self):\n",
    "        print(f'현재값 : {self.num},{Counter.count}')       \n",
    "    @classmethod\n",
    "    def print_count(cls):\n",
    "        print(f'count : {cls.count}')\n",
    "c1 = Counter()\n",
    "\n",
    "c1.print_current_value()\n",
    "c1.plus()\n",
    "c1.plus()\n",
    "c1.plus()\n",
    "c1.print_current_value()\n",
    "\n",
    "Counter.print_count()\n",
    "c1.print_count()"
   ]
  },
  {
   "attachments": {
    "image.png": {
     "image/png": "[encoded data removed]"
    }
   },
   "cell_type": "markdown",
   "id": "aabfc197",
   "metadata": {},
   "source": [
    "**연습문제5)class Student에서 총 학생수를 출력하는 클래스 메소드 print_count()를 생성하시오.**\n",
    "![image.png](attachment:image.png)"
   ]
  },
  {
   "cell_type": "code",
   "execution_count": 51,
   "id": "9f183bbe",
   "metadata": {},
   "outputs": [
    {
     "name": "stdout",
     "output_type": "stream",
     "text": [
      "1번째 학생이 생성되었습니다.\n",
      "2번째 학생이 생성되었습니다.\n",
      "3번째 학생이 생성되었습니다.\n",
      "총 학생수 :3명\n"
     ]
    }
   ],
   "source": [
    "class Student:\n",
    "    #class 변수\n",
    "    count = 0\n",
    "    \n",
    "    # 클래스 메소드\n",
    "    @classmethod\n",
    "    def print_count(cls):\n",
    "        print(f\"총 학생수 :{cls.count}명\")\n",
    "    \n",
    "    #인스턴스 메소드\n",
    "    def __init__(self, name, kor, math, eng):\n",
    "        self.name = name\n",
    "        self.kor = kor\n",
    "        self.math = math\n",
    "        self.eng = eng\n",
    "        Student.count +=1\n",
    "        print(f'{Student.count}번째 학생이 생성되었습니다.')\n",
    "    \n",
    "    def get_sum(self):\n",
    "        return self.kor+self.math+self.eng\n",
    "    \n",
    "    def get_avg(self):\n",
    "        return round(self.get_sum()/3,2)\n",
    "    \n",
    "    def to_string(self):\n",
    "        return f'{self.name} : {self.get_sum()}, {self.get_avg()}'\n",
    "        \n",
    "students = [Student('tomas',100,98,65),\n",
    "            Student('andy', 56,77,97),\n",
    "            Student('bob', 87,56,98)]\n",
    "\n",
    "Student.print_count()"
   ]
  },
  {
   "cell_type": "markdown",
   "id": "a3811b39",
   "metadata": {},
   "source": [
    "# staticmethod(정적메소드)\n",
    "- 자기 내부의 유지하는 값은 없는 속성이 없는 class(self를 받지 않는다.)\n",
    "- 내부적으로 유지하는 데이터가 없고 전달되는 데이터 값만 반환\n",
    "- @staticmethod라고 명시"
   ]
  },
  {
   "cell_type": "code",
   "execution_count": 52,
   "id": "eb4bca98",
   "metadata": {},
   "outputs": [
    {
     "data": {
      "text/plain": [
       "90"
      ]
     },
     "execution_count": 52,
     "metadata": {},
     "output_type": "execute_result"
    }
   ],
   "source": [
    "class Math :\n",
    "    def add(self, a, b):\n",
    "        return a+b\n",
    "    \n",
    "    def mul(self, a, b):\n",
    "        return a*b\n",
    "m = Math()\n",
    "m.add(40,50)"
   ]
  },
  {
   "cell_type": "code",
   "execution_count": 57,
   "id": "f30029fb",
   "metadata": {},
   "outputs": [
    {
     "data": {
      "text/plain": [
       "90"
      ]
     },
     "execution_count": 57,
     "metadata": {},
     "output_type": "execute_result"
    }
   ],
   "source": [
    "\n",
    "class Math :\n",
    "    @staticmethod\n",
    "    def add(a,b):\n",
    "        return a+b\n",
    "    @staticmethod\n",
    "    def mul(a,b):\n",
    "        return a*b\n",
    "\n",
    "Math.add(40,50)"
   ]
  },
  {
   "cell_type": "markdown",
   "id": "15cb5286",
   "metadata": {},
   "source": [
    " # Class Inheritance (상속)\n",
    "  - 기존에 정의해둔 클래스의 기능을 그대로 물려받을 수 있다.\n",
    "  - 기존 클래스에 기능 일부를 추가하거나, 변경하여 새로운 클래스를 정의한다.\n",
    "  - 코드를 재사용할 수 있게된다.\n",
    "  - 상속 받고자 하는 대상인 기존 클래스 : Parent, Super, Base class\n",
    "  - 상속 받는 새로운 클래스는 : Child, Sub, Derived class\n",
    "  - 의미적으로 is-a관계를 갖는다.\n",
    "  - **class 클래스이름(상속할 클래스):**"
   ]
  },
  {
   "cell_type": "code",
   "execution_count": 72,
   "id": "7d136412",
   "metadata": {},
   "outputs": [
    {
     "name": "stdout",
     "output_type": "stream",
     "text": [
      "bob은 bbq를 먹습니다.\n",
      "bob은 60분 동안 잡니다.\n",
      "bob은 30분 동안 활동을 합니다.\n",
      "----------------------------------------\n",
      "bob은 pizza를 먹습니다.\n",
      "bob은 90분 동안 잡니다.\n",
      "bob은 0분 동안 활동을 합니다.\n",
      "----------------------------------------\n",
      "bob은 lemon를 먹습니다.\n",
      "bob은 60분 동안 잡니다.\n",
      "bob은 90분 동안 활동을 합니다.\n",
      "----------------------------------------\n"
     ]
    }
   ],
   "source": [
    "# 부모 class\n",
    "class Person :\n",
    "    def __init__(self, name, age):\n",
    "        self.name = name\n",
    "        self.age = age\n",
    "    \n",
    "    def eat(self, food):\n",
    "        print(f'{self.name}은 {food}를 먹습니다.')\n",
    "    \n",
    "    def sleep(self, time):\n",
    "        print(f'{self.name}은 {time}분 동안 잡니다.')\n",
    "        \n",
    "    def work(self, time):\n",
    "        print(f'{self.name}은 {time}분 동안 활동을 합니다.')\n",
    "\n",
    "# 자식 class\n",
    "class Student(Person):\n",
    "    pass\n",
    "\n",
    "class Employee(Person):\n",
    "    pass\n",
    "\n",
    "bob = Person('bob',20)\n",
    "bob.eat('bbq')\n",
    "bob.sleep(60)\n",
    "bob.work(30)\n",
    "print('-'*40)\n",
    "\n",
    "andy = Student('andy',12)\n",
    "bob.eat('pizza')\n",
    "bob.sleep(90)\n",
    "bob.work(0)\n",
    "print('-'*40)\n",
    "\n",
    "terner = Employee('andy',36)\n",
    "bob.eat('lemon')\n",
    "bob.sleep(60)\n",
    "bob.work(90)\n",
    "print('-'*40)"
   ]
  },
  {
   "cell_type": "markdown",
   "id": "021b69b9",
   "metadata": {},
   "source": [
    "## method override\n",
    " - 부모 클래스의 method를 재정의(override)\n",
    " - 하위 클래스(자식 클래스) 의 인스턴스로 호출시, 재정의된 메소드가 호출됨"
   ]
  },
  {
   "cell_type": "code",
   "execution_count": 81,
   "id": "5eaa7789",
   "metadata": {},
   "outputs": [
    {
     "name": "stdout",
     "output_type": "stream",
     "text": [
      "bob은 bbq를 먹습니다.\n",
      "bob은 60분 동안 잡니다.\n",
      "bob은 30분 동안 활동을 합니다.\n",
      "----------------------------------------\n",
      "andy은 pizza를 먹습니다.\n",
      "andy은 90분 동안 잡니다.\n",
      "andy은 0분 동안 공부를 합니다.\n",
      "----------------------------------------\n",
      "terner은 lemon를 먹습니다.\n",
      "terner은 60분 동안 잡니다.\n",
      "terner은 90분 동안 업무를 합니다.\n"
     ]
    }
   ],
   "source": [
    "# 부모 class\n",
    "class Person :\n",
    "    def __init__(self, name, age):\n",
    "        self.name = name\n",
    "        self.age = age\n",
    "    \n",
    "    def eat(self, food):\n",
    "        print(f'{self.name}은 {food}를 먹습니다.')\n",
    "    \n",
    "    def sleep(self, time):\n",
    "        print(f'{self.name}은 {time}분 동안 잡니다.')\n",
    "        \n",
    "    def work(self, time):\n",
    "        print(f'{self.name}은 {time}분 동안 활동을 합니다.')\n",
    "\n",
    "# 자식 class\n",
    "class Student(Person):\n",
    "    def work(self,time):\n",
    "        print(f'{self.name}은 {time}분 동안 공부를 합니다.')\n",
    "\n",
    "class Employee(Person):\n",
    "    def work(self,time):\n",
    "        print(f'{self.name}은 {time}분 동안 업무를 합니다.')\n",
    "\n",
    "bob = Person('bob',20)\n",
    "bob.eat('bbq')\n",
    "bob.sleep(60)\n",
    "bob.work(30)\n",
    "print('-'*40)\n",
    "\n",
    "andy = Student('andy',12)\n",
    "andy.eat('pizza')\n",
    "andy.sleep(90)\n",
    "andy.work(0)\n",
    "print('-'*40)\n",
    "\n",
    "terner = Employee('terner',36)\n",
    "terner.eat('lemon')\n",
    "terner.sleep(60)\n",
    "terner.work(90)\n"
   ]
  },
  {
   "cell_type": "markdown",
   "id": "2fa9967c",
   "metadata": {},
   "source": [
    "## super\n",
    " - 하위클래스(자식 클래스)에서 부모클래스의 method를 호출할 때 사용\n",
    " - 하위 클래스에서 재정의시 부모클래스 기능 사라짐. "
   ]
  },
  {
   "cell_type": "code",
   "execution_count": 82,
   "id": "f50b566e",
   "metadata": {
    "scrolled": false
   },
   "outputs": [
    {
     "name": "stdout",
     "output_type": "stream",
     "text": [
      "bob은 bbq를 먹습니다.\n",
      "bob은 60분 동안 잡니다.\n",
      "bob은 30분 동안 활동을 합니다.\n",
      "----------------------------------------\n",
      "andy은 pizza를 먹습니다.\n",
      "andy은 90분 동안 잡니다.\n",
      "andy은 0분 동안 활동을 합니다.\n",
      "andy은 0분 동안 공부를 합니다.\n",
      "----------------------------------------\n",
      "terner은 lemon를 먹습니다.\n",
      "terner은 60분 동안 잡니다.\n",
      "terner은 90분 동안 활동을 합니다.\n",
      "terner은 90분 동안 업무를 합니다.\n"
     ]
    }
   ],
   "source": [
    "# 부모 class\n",
    "class Person :\n",
    "    def __init__(self, name, age):\n",
    "        self.name = name\n",
    "        self.age = age\n",
    "    \n",
    "    def eat(self, food):\n",
    "        print(f'{self.name}은 {food}를 먹습니다.')\n",
    "    \n",
    "    def sleep(self, time):\n",
    "        print(f'{self.name}은 {time}분 동안 잡니다.')\n",
    "        \n",
    "    def work(self, time):\n",
    "        print(f'{self.name}은 {time}분 동안 활동을 합니다.')\n",
    "\n",
    "# 자식 class\n",
    "class Student(Person):\n",
    "    def work(self,time):\n",
    "        super().work(time)\n",
    "        print(f'{self.name}은 {time}분 동안 공부를 합니다.')\n",
    "\n",
    "class Employee(Person):\n",
    "    def work(self,time):\n",
    "        super().work(time)\n",
    "        print(f'{self.name}은 {time}분 동안 업무를 합니다.')\n",
    "\n",
    "bob = Person('bob',20)\n",
    "bob.eat('bbq')\n",
    "bob.sleep(60)\n",
    "bob.work(30)\n",
    "print('-'*40)\n",
    "\n",
    "andy = Student('andy',12)\n",
    "andy.eat('pizza')\n",
    "andy.sleep(90)\n",
    "andy.work(0)\n",
    "print('-'*40)\n",
    "\n",
    "terner = Employee('terner',36)\n",
    "terner.eat('lemon')\n",
    "terner.sleep(60)\n",
    "terner.work(90)"
   ]
  },
  {
   "cell_type": "markdown",
   "id": "be57b479",
   "metadata": {},
   "source": [
    "# special method\n",
    " - **\\_\\_로 시작   \\_\\_로 끝나는 특수 함수 예) \\_\\_init\\_\\_**\n",
    " - 해당 메쏘드들을 구현하면, 커스텀 객체에 여러가지 파이썬 내장 함수나 연산자를 적용 가능\n",
    " - 클래스를 사용할 때 특수한 상황에 자동으로 호출되도록 파이썬에서 지원해 주는 기능\n",
    " - 객체가 가지는 메소드와 속성 확인 : dir(객체 or 클래스명)\n",
    " -  https://docs.python.org/3/reference/datamodel.html"
   ]
  },
  {
   "cell_type": "code",
   "execution_count": 97,
   "id": "dd25fc90",
   "metadata": {},
   "outputs": [
    {
     "data": {
      "text/plain": [
       "['__add__',\n",
       " '__class__',\n",
       " '__class_getitem__',\n",
       " '__contains__',\n",
       " '__delattr__',\n",
       " '__delitem__',\n",
       " '__dir__',\n",
       " '__doc__',\n",
       " '__eq__',\n",
       " '__format__',\n",
       " '__ge__',\n",
       " '__getattribute__',\n",
       " '__getitem__',\n",
       " '__gt__',\n",
       " '__hash__',\n",
       " '__iadd__',\n",
       " '__imul__',\n",
       " '__init__',\n",
       " '__init_subclass__',\n",
       " '__iter__',\n",
       " '__le__',\n",
       " '__len__',\n",
       " '__lt__',\n",
       " '__mul__',\n",
       " '__ne__',\n",
       " '__new__',\n",
       " '__reduce__',\n",
       " '__reduce_ex__',\n",
       " '__repr__',\n",
       " '__reversed__',\n",
       " '__rmul__',\n",
       " '__setattr__',\n",
       " '__setitem__',\n",
       " '__sizeof__',\n",
       " '__str__',\n",
       " '__subclasshook__',\n",
       " 'append',\n",
       " 'clear',\n",
       " 'copy',\n",
       " 'count',\n",
       " 'extend',\n",
       " 'index',\n",
       " 'insert',\n",
       " 'pop',\n",
       " 'remove',\n",
       " 'reverse',\n",
       " 'sort']"
      ]
     },
     "execution_count": 97,
     "metadata": {},
     "output_type": "execute_result"
    }
   ],
   "source": [
    "list_a = [1,2,3,4,5]\n",
    "dir(list_a)\n",
    "\n",
    "dir(students)"
   ]
  },
  {
   "cell_type": "markdown",
   "id": "0cdc72eb",
   "metadata": {},
   "source": [
    "## \\_\\_str\\_\\_ : 객체를 출력할때 형식을 지정"
   ]
  },
  {
   "cell_type": "code",
   "execution_count": 117,
   "id": "307c62b0",
   "metadata": {},
   "outputs": [
    {
     "name": "stdout",
     "output_type": "stream",
     "text": [
      "(3,4)\n",
      "(2,7)\n",
      "<__main__.Point object at 0x000001C38C20CE50>\n",
      "<__main__.Point object at 0x000001C38C20CE80>\n"
     ]
    }
   ],
   "source": [
    "class Point :\n",
    "    def __init__(self, x, y):\n",
    "        self.x = x\n",
    "        self.y = y\n",
    "    def print_pt(self):\n",
    "        print(f'({self.x},{self.y})')\n",
    "              \n",
    "p1 = Point(3,4)\n",
    "p2 = Point(2,7)\n",
    "              \n",
    "p1.print_pt()\n",
    "p2.print_pt()\n",
    "\n",
    "print(p1)\n",
    "print(p2)\n"
   ]
  },
  {
   "cell_type": "code",
   "execution_count": 214,
   "id": "60865067",
   "metadata": {},
   "outputs": [
    {
     "ename": "AttributeError",
     "evalue": "'Point' object has no attribute 'add'",
     "output_type": "error",
     "traceback": [
      "\u001b[1;31m---------------------------------------------------------------------------\u001b[0m",
      "\u001b[1;31mAttributeError\u001b[0m                            Traceback (most recent call last)",
      "Input \u001b[1;32mIn [214]\u001b[0m, in \u001b[0;36m<cell line: 15>\u001b[1;34m()\u001b[0m\n\u001b[0;32m     13\u001b[0m p1 \u001b[38;5;241m=\u001b[39m Point(\u001b[38;5;241m3\u001b[39m,\u001b[38;5;241m4\u001b[39m)\n\u001b[0;32m     14\u001b[0m p2 \u001b[38;5;241m=\u001b[39m Point(\u001b[38;5;241m2\u001b[39m,\u001b[38;5;241m7\u001b[39m)\n\u001b[1;32m---> 15\u001b[0m \u001b[43mp3\u001b[49m\u001b[38;5;241;43m.\u001b[39;49m\u001b[43madd\u001b[49m(p1\u001b[38;5;241m+\u001b[39mp2)\n\u001b[0;32m     17\u001b[0m \u001b[38;5;28mprint\u001b[39m(p3)\n",
      "\u001b[1;31mAttributeError\u001b[0m: 'Point' object has no attribute 'add'"
     ]
    }
   ],
   "source": [
    "class Point :\n",
    "    def __init__(self, x, y):\n",
    "        self.x = x\n",
    "        self.y = y\n",
    "    def __str__(self):\n",
    "        return (f'({self.x},{self.y})')\n",
    "\n",
    "    def add(self,pt):\n",
    "        new_x = self.x + pt.x\n",
    "        new_y = self.y + pt.y\n",
    "        return Point(new_x,new_y)\n",
    "    \n",
    "p1 = Point(3,4)\n",
    "p2 = Point(2,7)\n",
    "p3.add(p1+p2)\n",
    " \n",
    "print(p3)\n",
    "        "
   ]
  },
  {
   "cell_type": "code",
   "execution_count": 134,
   "id": "d8ad6240",
   "metadata": {},
   "outputs": [
    {
     "name": "stdout",
     "output_type": "stream",
     "text": [
      "(3,4)\n",
      "(2,7)\n"
     ]
    }
   ],
   "source": []
  },
  {
   "cell_type": "markdown",
   "id": "04d5d866",
   "metadata": {},
   "source": [
    "## \\_\\_add\\_\\_ : 객체 +연산시 수행할 작업을 지정"
   ]
  },
  {
   "cell_type": "code",
   "execution_count": 138,
   "id": "ca409820",
   "metadata": {},
   "outputs": [
    {
     "name": "stdout",
     "output_type": "stream",
     "text": [
      "(3,4)\n",
      "(2,7)\n",
      "(5,11)\n"
     ]
    }
   ],
   "source": [
    "class Point :\n",
    "    def __init__(self, x, y):\n",
    "        self.x = x\n",
    "        self.y = y\n",
    "    \n",
    "    def __str__(self):\n",
    "        return (f'({self.x},{self.y})')\n",
    "\n",
    "    def __add__(self,pt):\n",
    "        new_x = self.x + pt.x\n",
    "        new_y = self.y + pt.y\n",
    "        return Point(new_x,new_y)\n",
    "\n",
    "p1 = Point(3,4)\n",
    "p2 = Point(2,7)\n",
    "p3 = p1+p2\n",
    " \n",
    "print(p1)\n",
    "print(p2)\n",
    "print(p3)\n",
    "        "
   ]
  },
  {
   "cell_type": "code",
   "execution_count": 163,
   "id": "10a1b86b",
   "metadata": {},
   "outputs": [],
   "source": [
    "class Point :\n",
    "    def __init__(self, x, y):\n",
    "        self.x = x\n",
    "        self.y = y\n",
    "    \n",
    "    def __str__(self):\n",
    "        return (f'({self.x},{self.y})')\n",
    "\n",
    "    def __add__(self,pt):\n",
    "        new_x = self.x + pt.x\n",
    "        new_y = self.y + pt.y\n",
    "        return Point(new_x,new_y)\n",
    "    \n",
    "    def __sub__(self,pt):\n",
    "        new_x = self.x - pt.x\n",
    "        new_y = self.y - pt.y\n",
    "        return Point(new_x,new_y)\n",
    "    \n",
    "    def __mul__(self,pt):\n",
    "        new_x = self.x * pt.x\n",
    "        new_y = self.y * pt.y\n",
    "        return Point(new_x,new_y)\n",
    "    \n",
    "#     def __div__(self,pt):\n",
    "#         new_x = self.x / pt.x\n",
    "#         new_y = self.y / pt.y\n",
    "#         return Point(new_x,new_y)\n",
    "\n",
    "\n",
    "\n"
   ]
  },
  {
   "cell_type": "code",
   "execution_count": 164,
   "id": "0f9d40b1",
   "metadata": {},
   "outputs": [
    {
     "name": "stdout",
     "output_type": "stream",
     "text": [
      "(3,4)\n",
      "(2,7)\n",
      "더하기 : (5,11)\n",
      "빼기 : (1,-3)\n",
      "곱하기 : (6,28)\n"
     ]
    }
   ],
   "source": [
    "p1 = Point(3,4)\n",
    "p2 = Point(2,7)\n",
    "\n",
    " \n",
    "print(p1)\n",
    "print(p2)\n",
    "print (f'더하기 : {p1+p2}')\n",
    "print (f'빼기 : {p1-p2}')\n",
    "print (f'곱하기 : {p1*p2}')\n"
   ]
  },
  {
   "cell_type": "code",
   "execution_count": null,
   "id": "187e521c",
   "metadata": {},
   "outputs": [],
   "source": []
  },
  {
   "cell_type": "markdown",
   "id": "900a1ae5",
   "metadata": {},
   "source": [
    "**연습문제6) class Point로 더하기, 빼기, 곱하기 정의하기**\n",
    "- \\_\\_add\\_\\_ / \\_\\_sub\\_\\_ / \\_\\_mul\\_\\_"
   ]
  },
  {
   "cell_type": "code",
   "execution_count": null,
   "id": "20643cdf",
   "metadata": {
    "scrolled": true
   },
   "outputs": [],
   "source": []
  },
  {
   "attachments": {
    "image-2.png": {
     "image/png": "[encoded data removed]"
    }
   },
   "cell_type": "markdown",
   "id": "3b8bb932",
   "metadata": {},
   "source": [
    "# 연습문제\n",
    "## 두수를 입력받아서 사칙연산을 계산하는 class Calculator 를 만들어 계산기 프로그램을 작성하시오\n",
    "- 두수를 입력 받는 부분은 메인 프로그램에서 처리 합니다.\n",
    "![image-2.png](attachment:image-2.png)"
   ]
  },
  {
   "cell_type": "code",
   "execution_count": 187,
   "id": "d0d247d9",
   "metadata": {
    "scrolled": true
   },
   "outputs": [
    {
     "name": "stdout",
     "output_type": "stream",
     "text": [
      "정수 2개를 공백으로 구분하여 입력하세오 : 10 5\n",
      "15\n",
      "5\n",
      "50\n",
      "2.0\n"
     ]
    }
   ],
   "source": [
    "class Calculator:\n",
    "#     a = int(input('첫번째 숫자를 입력해주세요'))\n",
    "#     b = int(input('두번째 숫자를 입력해주세요'))\n",
    "    \n",
    "    \n",
    "    def __init__(self,first,second):\n",
    "        self.first =first\n",
    "        self.second=second\n",
    "    \n",
    "    def add(self):\n",
    "        result = self.first + self.second\n",
    "        return result\n",
    "    def mul(self):\n",
    "        result = self.first * self.second\n",
    "        return result\n",
    "    def sub(self):\n",
    "        result = self.first - self.second\n",
    "        return result\n",
    "    def div(self):\n",
    "        result = self.first / self.second\n",
    "        return result\n",
    "    \n",
    "first,second = input('정수 2개를 공백으로 구분하여 입력하세오 : ').strip().split()\n",
    "cal=Calculator(int(first),int(second))\n",
    "print(cal.add())\n",
    "print(cal.sub())\n",
    "print(cal.mul())\n",
    "print(cal.div())"
   ]
  },
  {
   "cell_type": "code",
   "execution_count": 188,
   "id": "1b26afed",
   "metadata": {
    "scrolled": true
   },
   "outputs": [
    {
     "name": "stdout",
     "output_type": "stream",
     "text": [
      "첫번째 숫자를 입력해주세요10\n",
      "두번째 숫자를 입력해주세요5\n",
      "15\n",
      "5\n",
      "50\n",
      "2.0\n"
     ]
    }
   ],
   "source": [
    "class Calculator:\n",
    "\n",
    "    \n",
    "    \n",
    "    def __init__(self,a,b):\n",
    "        self.a = a\n",
    "        self.b = b\n",
    "    \n",
    "    def add(self):\n",
    "        result = self.a + self.b\n",
    "        return result\n",
    "    def mul(self):\n",
    "        result = self.a * self.b\n",
    "        return result\n",
    "    def sub(self):\n",
    "        result = self.a - self.b\n",
    "        return result\n",
    "    def div(self):\n",
    "        result = self.a / self.b\n",
    "        return result\n",
    "\n",
    "a = int(input('첫번째 숫자를 입력해주세요'))\n",
    "b = int(input('두번째 숫자를 입력해주세요'))\n",
    "cal=Calculator(a,b)\n",
    "print(cal.add())\n",
    "print(cal.sub())\n",
    "print(cal.mul())\n",
    "print(cal.div())"
   ]
  },
  {
   "cell_type": "code",
   "execution_count": 190,
   "id": "58f4512b",
   "metadata": {},
   "outputs": [
    {
     "name": "stdout",
     "output_type": "stream",
     "text": [
      "15\n",
      "5\n",
      "50\n",
      "2\n"
     ]
    }
   ],
   "source": [
    "class Calculator:\n",
    "#     a = int(input('첫번째 숫자를 입력해주세요'))\n",
    "#     b = int(input('두번째 숫자를 입력해주세요'))\n",
    "    @staticmethod    \n",
    "    def add(a,b):\n",
    "        return a+b\n",
    "    def sub(a,b):\n",
    "        return a-b\n",
    "    def mul(a,b):\n",
    "        return a*b\n",
    "    def div(a,b):\n",
    "        return a//b\n",
    "\n",
    "\n",
    "print(Calculator.add(10,5))\n",
    "print(Calculator.sub(10,5))\n",
    "print(Calculator.mul(10,5))\n",
    "print(Calculator.div(10,5))"
   ]
  },
  {
   "attachments": {
    "image.png": {
     "image/png": "[encoded data removed]"
    }
   },
   "cell_type": "markdown",
   "id": "c207ce4c",
   "metadata": {},
   "source": [
    "## 아래 질문에 알맞은 프로그램을 작성하시오.\n",
    "### Account 클래스를 생성한 후 생성자(__init__)를 구현하시오.\n",
    "- 은행에 가서 계좌를 개설하면 은행이름, 예금주, 계좌번호, 잔액이 설정되는 class Account\n",
    "- 생성자에서는 예금주와 초기 잔액을 입력으로 받는다.\n",
    "- 은행이름은 ICT은행으로 계좌번호는 3자리-2자리-6자리 형태로 랜덤하게 생성\n",
    "![image.png](attachment:image.png)"
   ]
  },
  {
   "cell_type": "code",
   "execution_count": 211,
   "id": "330f84be",
   "metadata": {},
   "outputs": [
    {
     "name": "stdout",
     "output_type": "stream",
     "text": [
      "이름을 입력해주세요이승엽\n",
      "입금액을 입력해주세요100\n",
      "이름 :  이승엽\n",
      "잔액 :  100\n",
      "은행명 :  ICT은행\n",
      "계좌번호 :  150-96-314069\n"
     ]
    }
   ],
   "source": [
    "import random\n",
    "\n",
    "class Account:\n",
    "    def __init__(self,name,balance):\n",
    "        self.name = name\n",
    "        self.balance = balance\n",
    "        self.bank = 'ICT은행'\n",
    "        num1 = random.randint(0, 999)\n",
    "        num2 = random.randint(0, 99)\n",
    "        num3 = random.randint(0, 999999)\n",
    "\n",
    "        num1 = str(num1).zfill(3) #ex)232\n",
    "        num2 = str(num2).zfill(2) #ex)23\n",
    "        num3 = str(num3).zfill(6) #ex)232223\n",
    "        self.account_number = num1 + '-' + num2 + '-' + num3  # 001-01-000001\n",
    "        \n",
    "a= input (str(\"이름을 입력해주세요 \"))\n",
    "b= input (str(\"입금액을 입력해주세요 \"))\n",
    "lee = Account(a,b)\n",
    "print('이름 : ',lee.name)\n",
    "print('잔액 : ',lee.balance)\n",
    "print('은행명 : ',lee.bank)\n",
    "print('계좌번호 : ',lee.account_number)"
   ]
  },
  {
   "cell_type": "code",
   "execution_count": null,
   "id": "9afa4842",
   "metadata": {},
   "outputs": [],
   "source": []
  },
  {
   "attachments": {
    "image.png": {
     "image/png": "[encoded data removed]"
    }
   },
   "cell_type": "markdown",
   "id": "08374e3e",
   "metadata": {},
   "source": [
    "### 클래스 변수를 사용해서 Account 클래스로부터 생성된 계좌(Account 객체) 수를 저장하고 계좌의 개수를 출력하는 get_accont_cnt()메서드를 추가하시오\n",
    "- hint : 계좌 수를 카운트하는 클래스 변수 필요함.\n",
    "![image.png](attachment:image.png)"
   ]
  },
  {
   "cell_type": "code",
   "execution_count": 217,
   "id": "2b917b18",
   "metadata": {},
   "outputs": [
    {
     "name": "stdout",
     "output_type": "stream",
     "text": [
      "이름을 입력해주세요 이승엽\n",
      "입금액을 입력해주세요 100\n"
     ]
    },
    {
     "ename": "AttributeError",
     "evalue": "type object 'Account' has no attribute 'count'",
     "output_type": "error",
     "traceback": [
      "\u001b[1;31m---------------------------------------------------------------------------\u001b[0m",
      "\u001b[1;31mAttributeError\u001b[0m                            Traceback (most recent call last)",
      "Input \u001b[1;32mIn [217]\u001b[0m, in \u001b[0;36m<cell line: 22>\u001b[1;34m()\u001b[0m\n\u001b[0;32m     20\u001b[0m a\u001b[38;5;241m=\u001b[39m \u001b[38;5;28minput\u001b[39m (\u001b[38;5;28mstr\u001b[39m(\u001b[38;5;124m\"\u001b[39m\u001b[38;5;124m이름을 입력해주세요 \u001b[39m\u001b[38;5;124m\"\u001b[39m))\n\u001b[0;32m     21\u001b[0m b\u001b[38;5;241m=\u001b[39m \u001b[38;5;28minput\u001b[39m (\u001b[38;5;28mstr\u001b[39m(\u001b[38;5;124m\"\u001b[39m\u001b[38;5;124m입금액을 입력해주세요 \u001b[39m\u001b[38;5;124m\"\u001b[39m))\n\u001b[1;32m---> 22\u001b[0m lee \u001b[38;5;241m=\u001b[39m \u001b[43mAccount\u001b[49m\u001b[43m(\u001b[49m\u001b[43ma\u001b[49m\u001b[43m,\u001b[49m\u001b[43mb\u001b[49m\u001b[43m)\u001b[49m\n\u001b[0;32m     23\u001b[0m \u001b[38;5;28mprint\u001b[39m(\u001b[38;5;124m'\u001b[39m\u001b[38;5;124m이름 : \u001b[39m\u001b[38;5;124m'\u001b[39m,lee\u001b[38;5;241m.\u001b[39mname)\n\u001b[0;32m     24\u001b[0m \u001b[38;5;28mprint\u001b[39m(\u001b[38;5;124m'\u001b[39m\u001b[38;5;124m잔액 : \u001b[39m\u001b[38;5;124m'\u001b[39m,lee\u001b[38;5;241m.\u001b[39mbalance)\n",
      "Input \u001b[1;32mIn [217]\u001b[0m, in \u001b[0;36mAccount.__init__\u001b[1;34m(self, name, balance)\u001b[0m\n\u001b[0;32m      8\u001b[0m \u001b[38;5;28mself\u001b[39m\u001b[38;5;241m.\u001b[39mbalance \u001b[38;5;241m=\u001b[39m balance\n\u001b[0;32m      9\u001b[0m \u001b[38;5;28mself\u001b[39m\u001b[38;5;241m.\u001b[39mbank \u001b[38;5;241m=\u001b[39m \u001b[38;5;124m'\u001b[39m\u001b[38;5;124mICT은행\u001b[39m\u001b[38;5;124m'\u001b[39m\n\u001b[1;32m---> 10\u001b[0m Account\u001b[38;5;241m.\u001b[39mcount \u001b[38;5;241m+\u001b[39m\u001b[38;5;241m=\u001b[39m\u001b[38;5;241m1\u001b[39m\n\u001b[0;32m     11\u001b[0m num1 \u001b[38;5;241m=\u001b[39m random\u001b[38;5;241m.\u001b[39mrandint(\u001b[38;5;241m0\u001b[39m, \u001b[38;5;241m999\u001b[39m)\n\u001b[0;32m     12\u001b[0m num2 \u001b[38;5;241m=\u001b[39m random\u001b[38;5;241m.\u001b[39mrandint(\u001b[38;5;241m0\u001b[39m, \u001b[38;5;241m99\u001b[39m)\n",
      "\u001b[1;31mAttributeError\u001b[0m: type object 'Account' has no attribute 'count'"
     ]
    }
   ],
   "source": [
    "import random\n",
    "\n",
    "count = 0\n",
    "\n",
    "class Account:\n",
    "    def __init__(self,name,balance):\n",
    "        self.name = name\n",
    "        self.balance = balance\n",
    "        self.bank = 'ICT은행'    \n",
    "        num1 = random.randint(0, 999)\n",
    "        num2 = random.randint(0, 99)\n",
    "        num3 = random.randint(0, 999999)\n",
    "\n",
    "        num1 = str(num1).zfill(3) #ex)232\n",
    "        num2 = str(num2).zfill(2) #ex)23\n",
    "        num3 = str(num3).zfill(6) #ex)232223\n",
    "        self.account_number = num1 + '-' + num2 + '-' + num3  # 001-01-000001\n",
    "        \n",
    "    def get_account_cnt(cnt):\n",
    "        \n",
    "        \n",
    "a= input (str(\"이름을 입력해주세요 \"))\n",
    "b= input (str(\"입금액을 입력해주세요 \"))\n",
    "lee = Account(a,b)\n",
    "print('이름 : ',lee.name)\n",
    "print('잔액 : ',lee.balance)\n",
    "print('은행명 : ',lee.bank)\n",
    "print('계좌번호 : ',lee.account_number)\n",
    "Account.get_account_cnt()\n"
   ]
  },
  {
   "attachments": {
    "image.png": {
     "image/png": "[encoded data removed]"
    }
   },
   "cell_type": "markdown",
   "id": "e9b0aebe",
   "metadata": {},
   "source": [
    "### Account 클래스에 입/출금을 위한 plusminus 메서드를 추가하시오.\n",
    "- 파라미터로 1, 금액 -> 금액만큼 입금, 파라미터로 0, 금액 -> 금액만큼 출금\n",
    "![image.png](attachment:image.png)"
   ]
  },
  {
   "cell_type": "code",
   "execution_count": null,
   "id": "19abaa4b",
   "metadata": {},
   "outputs": [],
   "source": []
  },
  {
   "attachments": {
    "image.png": {
     "image/png": "[encoded data removed]"
    }
   },
   "cell_type": "markdown",
   "id": "ea4f49b8",
   "metadata": {},
   "source": [
    "### Account 인스턴스에 저장된 정보를 출력하는 display_info() 추가하시요. 잔고는 세자리마다 쉼표를 출력\n",
    "- 숫자 세자리마다 쉼표 출력 : format(12345,',')\n",
    "![image.png](attachment:image.png)"
   ]
  },
  {
   "cell_type": "code",
   "execution_count": null,
   "id": "3f9f4704",
   "metadata": {
    "scrolled": true
   },
   "outputs": [],
   "source": []
  },
  {
   "attachments": {
    "image.png": {
     "image/png": "[encoded data removed]"
    }
   },
   "cell_type": "markdown",
   "id": "d410d8a5",
   "metadata": {},
   "source": [
    "### 입금 횟수가 5회가 될 때마다 잔고를 기준으로 1%의 이자가 잔고에 추가되도록 코드를 변경하시오.\n",
    "![image.png](attachment:image.png)"
   ]
  },
  {
   "cell_type": "code",
   "execution_count": null,
   "id": "5e24c333",
   "metadata": {
    "scrolled": false
   },
   "outputs": [],
   "source": []
  },
  {
   "cell_type": "code",
   "execution_count": null,
   "id": "a533a035",
   "metadata": {},
   "outputs": [],
   "source": []
  }
 ],
 "metadata": {
  "kernelspec": {
   "display_name": "Python 3 (ipykernel)",
   "language": "python",
   "name": "python3"
  },
  "language_info": {
   "codemirror_mode": {
    "name": "ipython",
    "version": 3
   },
   "file_extension": ".py",
   "mimetype": "text/x-python",
   "name": "python",
   "nbconvert_exporter": "python",
   "pygments_lexer": "ipython3",
   "version": "3.9.12"
  },
  "toc": {
   "base_numbering": 1,
   "nav_menu": {},
   "number_sections": true,
   "sideBar": true,
   "skip_h1_title": false,
   "title_cell": "Table of Contents",
   "title_sidebar": "Contents",
   "toc_cell": false,
   "toc_position": {
    "height": "calc(100% - 180px)",
    "left": "10px",
    "top": "150px",
    "width": "307.188px"
   },
   "toc_section_display": true,
   "toc_window_display": true
  },
  "vscode": {
   "interpreter": {
    "hash": "cf2895c1b3a18e0def21936cd98875861a3ee719675c3d36eca611e8cdcb3203"
   }
  }
 },
 "nbformat": 4,
 "nbformat_minor": 5
}
