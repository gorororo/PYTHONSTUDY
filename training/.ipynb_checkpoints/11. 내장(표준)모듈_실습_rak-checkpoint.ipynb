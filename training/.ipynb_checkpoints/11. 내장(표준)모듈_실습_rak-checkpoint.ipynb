{
 "cells": [
  {
   "cell_type": "markdown",
   "id": "6ddfb642",
   "metadata": {},
   "source": [
    "**표준(내장모듈)**\n",
    "- 파이썬에 기본적으로 내장되어 있는 모듈\n"
   ]
  },
  {
   "cell_type": "markdown",
   "id": "37161731",
   "metadata": {},
   "source": [
    "# random 모듈"
   ]
  },
  {
   "cell_type": "code",
   "execution_count": 1,
   "id": "f8326424",
   "metadata": {},
   "outputs": [
    {
     "name": "stdout",
     "output_type": "stream",
     "text": [
      "random : 0.754630876383144\n",
      "randint : 66\n",
      "uniform :  3.133374504053638\n",
      "randrange1 : 5\n",
      "randrange2 : 72\n",
      "choice : 3\n",
      "shuffle : [2, 1, 4, 3, 5]\n",
      "sample :  [5, 1]\n",
      "sample :  [3, 5]\n"
     ]
    }
   ],
   "source": [
    "import random\n",
    "\n",
    "print('random :', random.random())                             # Random float:  0.0 <= x < 1.0\n",
    "print('randint :',random.randint(1,100))                        # Random int:  1 <= x <= 100\n",
    "print('uniform : ',random.uniform(2.5, 10.0))                   # Random float:  2.5 <= x <= 10.0\n",
    "print('randrange1 :',random.randrange(10))                      # Integer from 0 to 9 inclusive\n",
    "print('randrange2 :',random.randrange(0, 101, 2))               # Even integer from 0 to 100 inclusive\n",
    "a= [1,2,3,4,5]\n",
    "print('choice :',random.choice(a))              # Single random element from a sequence\n",
    "random.shuffle(a)             # Shuffle a list\n",
    "print('shuffle :',a)\n",
    "print('sample : ',random.sample(a, k=2))        # Two samples without replacementprint(random.random()) \n",
    "print('sample : ',random.choices(a, k=2))        # 중복가능"
   ]
  },
  {
   "cell_type": "markdown",
   "id": "5a7583a5",
   "metadata": {},
   "source": [
    "**연습문제1)두 사람이 주사위를 던져 큰 수가 나오면 이기는 게임**"
   ]
  },
  {
   "cell_type": "code",
   "execution_count": null,
   "id": "1203cae2",
   "metadata": {},
   "outputs": [],
   "source": []
  },
  {
   "cell_type": "markdown",
   "id": "ccb93943",
   "metadata": {},
   "source": [
    "**연습문제2)로또 생성기**\n",
    "- 1~45 사이 숫자 6개 생성\n",
    "- 중복된 숫자가 있으면 안된다"
   ]
  },
  {
   "cell_type": "code",
   "execution_count": null,
   "id": "375ee7ee",
   "metadata": {},
   "outputs": [],
   "source": []
  },
  {
   "cell_type": "markdown",
   "id": "2005a0b7",
   "metadata": {},
   "source": [
    "**연습문제3)Up and Down 숫자 맞추기 게임**\n",
    "- 1~100 사이의 임의의 난수 발생\n",
    "- 사용자가 숫자를 입력할 때마다 up & down, 알려주기"
   ]
  },
  {
   "cell_type": "code",
   "execution_count": null,
   "id": "d79aa368",
   "metadata": {},
   "outputs": [],
   "source": []
  },
  {
   "cell_type": "markdown",
   "id": "71a3fd50",
   "metadata": {},
   "source": [
    "# datetime 모듈\n",
    "- date(날짜), time(시간)과 관련된 모듈\n",
    "- 날짜형식을 만들 때 자주 사용"
   ]
  },
  {
   "cell_type": "code",
   "execution_count": null,
   "id": "6a96d9e8",
   "metadata": {},
   "outputs": [],
   "source": [
    "import datetime as dt\n",
    "\n"
   ]
  },
  {
   "cell_type": "markdown",
   "id": "52da43dd",
   "metadata": {},
   "source": [
    "**원하는 형식대로 출력 : strftime()**\n",
    "- Format Code\n",
    "\n",
    "| 포맷코드 | 설명 | 예 |\n",
    "| :----: | :---- |:----:| \n",
    "|  %a |  요일을 짧게 표시 | Sun |\n",
    "|  %A |  요일을 길게 표시 | Sunday |\n",
    "|  %w |  요일을 숫자로 일요일(0)~토요일(6) | 0 |\n",
    "|  %Y |  년도를 길게표시 | 2021 |\n",
    "|  %y |  년도를 짧게표시 | 21 |\n",
    "|  %m |  월을 숫자로 표시 | 05 |\n",
    "|  %d |  일을 숫자로 표시 | 23 |\n",
    "|  %H |  시간을 24시간 표현방식으로 표시 | 18 |\n",
    "|  %I |  시간을 12시간 표현방식으로 표시 | 6 |\n",
    "|  %p |  오전(AM), 오후(PM) 표시 | PM |\n",
    "|  %M |  분을 표시 | 25 |\n",
    "|  %S |  초를 표시 | 25 |\n",
    "\n"
   ]
  },
  {
   "cell_type": "code",
   "execution_count": null,
   "id": "67778b59",
   "metadata": {},
   "outputs": [],
   "source": []
  },
  {
   "cell_type": "markdown",
   "id": "b60b425f",
   "metadata": {},
   "source": [
    "- **시간 처리하기 : timedelta(), replace()**"
   ]
  },
  {
   "cell_type": "code",
   "execution_count": null,
   "id": "f9cdf247",
   "metadata": {},
   "outputs": [],
   "source": []
  },
  {
   "cell_type": "markdown",
   "id": "d96701ef",
   "metadata": {},
   "source": [
    "**연습문제4) datetime의 timedelta를 사용해서 오늘로 부터  5일, 4일, 3일, 2일, 1일 전의 날짜를 화면에 출력하기** "
   ]
  },
  {
   "cell_type": "code",
   "execution_count": null,
   "id": "7dce6972",
   "metadata": {},
   "outputs": [],
   "source": []
  },
  {
   "cell_type": "markdown",
   "id": "b2a68937",
   "metadata": {},
   "source": [
    "**연습문제5) 현재 시간을 구해서 시:분:초의 포맷으로 출력하기**"
   ]
  },
  {
   "cell_type": "code",
   "execution_count": null,
   "id": "62ab4426",
   "metadata": {},
   "outputs": [],
   "source": []
  },
  {
   "cell_type": "markdown",
   "id": "bea8cde0",
   "metadata": {},
   "source": [
    "# time 모듈\n",
    "- 시간과 관련된 기능을 다룰 때는 time 모듈 사용.\n",
    "- time 모듈로도 날짜와 관련된 처리를 할수 있지만 datetime모듈을 사용하는 경우가 더 많음"
   ]
  },
  {
   "cell_type": "markdown",
   "id": "71d5a4bf",
   "metadata": {},
   "source": [
    "- time.sleep() : 특정시간 동안 코드 진행을 정지할 때 사용"
   ]
  },
  {
   "cell_type": "code",
   "execution_count": null,
   "id": "72369705",
   "metadata": {},
   "outputs": [],
   "source": []
  },
  {
   "cell_type": "markdown",
   "id": "8c46c26d",
   "metadata": {},
   "source": [
    "- time.time()   \n",
    ": UTC(Universal Time Coordinated)를 사용하여 현재 시간을 실수 형태로 돌려주는 함수. 1970년 1월 1일 0시 0분 0초를 기준으로 지난 시간을 초 단위로 돌려준다."
   ]
  },
  {
   "cell_type": "code",
   "execution_count": null,
   "id": "a35017ce",
   "metadata": {
    "scrolled": true
   },
   "outputs": [],
   "source": []
  },
  {
   "cell_type": "code",
   "execution_count": null,
   "id": "caa6c570",
   "metadata": {},
   "outputs": [],
   "source": []
  },
  {
   "cell_type": "markdown",
   "id": "14d100b9",
   "metadata": {},
   "source": [
    "- time.localtime()   \n",
    ": time.time()이 돌려준 실수 값을 사용해서 현재 지역의 시간대로 년, 월,일, 시 ,분, 초....의 형태로 바꾸어 주는 함수"
   ]
  },
  {
   "cell_type": "code",
   "execution_count": null,
   "id": "32b0ee77",
   "metadata": {},
   "outputs": [],
   "source": []
  },
  {
   "cell_type": "markdown",
   "id": "55062cbd",
   "metadata": {},
   "source": [
    "- time.asctime() :time.localtime()의 결과값을 알아보기 쉬운 형태로 변환"
   ]
  },
  {
   "cell_type": "code",
   "execution_count": null,
   "id": "14ba3d04",
   "metadata": {},
   "outputs": [],
   "source": []
  },
  {
   "cell_type": "markdown",
   "id": "9c2208b6",
   "metadata": {},
   "source": [
    "# calendar 모듈\n",
    "\n"
   ]
  },
  {
   "cell_type": "code",
   "execution_count": null,
   "id": "8a6bd9b9",
   "metadata": {},
   "outputs": [],
   "source": []
  },
  {
   "cell_type": "markdown",
   "id": "fd5768e0",
   "metadata": {},
   "source": [
    "**연습문제6) 주사위 여러개 동시에 던지기**\n",
    "- 같은 숫자가 나올때 까지 주사위 6개를 동시에 무한반복해서 던진다.\n",
    "- 같은 숫자가 나올 때 까지 몇번 던졌는지 출력"
   ]
  },
  {
   "cell_type": "code",
   "execution_count": null,
   "id": "6252b391",
   "metadata": {},
   "outputs": [],
   "source": []
  },
  {
   "cell_type": "markdown",
   "id": "4397ad99",
   "metadata": {},
   "source": [
    "**연습문제7) 속으로 20초를 세어 맞히는 프로그램**\n",
    "- input('엔터를 누르고 20초를 셉니다'), input('20초 후에 다시 엔터를 누릅니다.') 두 문장을 이용하여 속으로 20초를 세어서 실제 시간과의 차이를 구하는 프로그램을 작성하시오."
   ]
  },
  {
   "cell_type": "code",
   "execution_count": null,
   "id": "3214237b",
   "metadata": {},
   "outputs": [],
   "source": []
  },
  {
   "cell_type": "markdown",
   "id": "5a236a78",
   "metadata": {},
   "source": [
    "**연습문제8) 아래 요구사항에 맞게 프로그래밍 하시오.**   \n",
    "당신은 최근에 코딩 스터디 모임을 새로 만들었습니다.\n",
    "월 4회 스터디를 하는데 3번은 온라인으로 하고 1번은 오프라인으로 하기로 했습니다.\n",
    "아래 조건에 맞는 오프라인 모임 날짜를 정해주는 프로그램을 작성하시오.\n",
    "\n",
    "- 조건1 : 랜덤으로 날짜를 뽑아야 함.\n",
    "- 조건 2 : 월별 날짜는 다름을 감안하여 최소 일수인 28이내로 정함.\n",
    "- 조건 3 : 매월 1~3일은 스터디 준비를 해야하므로 제외\n",
    "\n",
    "<출력결과>\n",
    "\n",
    "**오프라인 스터디 모임 날짜는 매월 x 일로 선정되었습니다.**"
   ]
  },
  {
   "cell_type": "code",
   "execution_count": null,
   "id": "74e3e7a8",
   "metadata": {
    "scrolled": true
   },
   "outputs": [],
   "source": []
  },
  {
   "cell_type": "code",
   "execution_count": null,
   "id": "58458ef5",
   "metadata": {},
   "outputs": [],
   "source": []
  }
 ],
 "metadata": {
  "kernelspec": {
   "display_name": "Python 3 (ipykernel)",
   "language": "python",
   "name": "python3"
  },
  "language_info": {
   "codemirror_mode": {
    "name": "ipython",
    "version": 3
   },
   "file_extension": ".py",
   "mimetype": "text/x-python",
   "name": "python",
   "nbconvert_exporter": "python",
   "pygments_lexer": "ipython3",
   "version": "3.9.12"
  },
  "toc": {
   "base_numbering": 1,
   "nav_menu": {},
   "number_sections": true,
   "sideBar": true,
   "skip_h1_title": false,
   "title_cell": "Table of Contents",
   "title_sidebar": "Contents",
   "toc_cell": false,
   "toc_position": {},
   "toc_section_display": true,
   "toc_window_display": true
  }
 },
 "nbformat": 4,
 "nbformat_minor": 5
}
