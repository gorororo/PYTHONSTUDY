{
 "cells": [
  {
   "cell_type": "markdown",
   "metadata": {},
   "source": [
    "### 변수 a가 아래와 같을 때 변수 a에서 홀수만 출력하시오.\n",
    "- a = [1, 2, 3, 4, 5, 6, 7, 8, 9, 10] \n",
    "- hint : a[시작인덱스 :끝인덱스:증가값] \n",
    "- a에서 [처음부터 :끝까지 :3씩 증가]하고 싶다면? a[0:-1:3]"
   ]
  },
  {
   "cell_type": "code",
   "execution_count": 1,
   "metadata": {},
   "outputs": [
    {
     "name": "stdout",
     "output_type": "stream",
     "text": [
      "[1, 3, 5, 7, 9]\n"
     ]
    }
   ],
   "source": [
    "a = [1, 2, 3, 4, 5, 6, 7, 8, 9, 10]\n",
    "print(a[0::2])"
   ]
  },
  {
   "cell_type": "markdown",
   "metadata": {},
   "source": [
    "### tomas의 학점을 구하시오.\n",
    "- tomas는 1학기 학점을 알고싶다.\n",
    "- tomas가 1학기에 수강한 과목과 학점은 다음과 같다.\n",
    "| 기초통계(3) | 프로그래밍(3) | 자료구조(2) | 데이터분석(3) |\n",
    "| :---: | :---: | :---: | :---: |\n",
    "| A+ | C | B+ | A |\n",
    "\n",
    "\n",
    "- 과목이름 옆 괄호에 있는 숫자는 학점 수이고, 4.5만점 기준으로 성적이 계산된다.\n",
    "> e.g. <b>A+ : 4.5,   A : 4.0,   B+ : 3.5,   B : 3.0,   C+ : 2.5,   C : 2.0, D+ : 1.5, D : 1.0,   F : 0"
   ]
  },
  {
   "cell_type": "code",
   "execution_count": 21,
   "metadata": {
    "scrolled": true
   },
   "outputs": [
    {
     "name": "stdout",
     "output_type": "stream",
     "text": [
      "tomas의 1학기 평균 학점은 3.5입니다.\n"
     ]
    }
   ],
   "source": [
    "Ap = 4.5\n",
    "A = 4.0\n",
    "Bp = 3.5\n",
    "C = 2.0\n",
    "tomas = (3*Ap+3*C+2*Bp+3*A) / (3+3+2+3)\n",
    "print(f'tomas의 1학기 평균 학점은 {tomas}입니다.')"
   ]
  },
  {
   "attachments": {
    "image-2.png": {
     "image/png": "[encoded data removed]"
    }
   },
   "cell_type": "markdown",
   "metadata": {},
   "source": [
    "### 사용자가 입력한 수만큼 하트를 출력하시오.\n",
    "- 사용자가 여러개의 숫자를 입력하면 입력한 숫자 만큼 ♥('\\u2665')출력하기   \n",
    "<예시>\n",
    "![image-2.png](attachment:image-2.png)"
   ]
  },
  {
   "cell_type": "code",
   "execution_count": 7,
   "metadata": {
    "scrolled": false
   },
   "outputs": [
    {
     "name": "stdout",
     "output_type": "stream",
     "text": [
      "숫자를 여러개 입력하세요5432\n",
      "♥♥♥♥♥\n",
      "♥♥♥♥\n",
      "♥♥♥\n",
      "♥♥\n"
     ]
    }
   ],
   "source": [
    "nums = input('숫자를 여러개 입력하세요')\n",
    "\n",
    "for num in nums : \n",
    "    heart = '\\u2665'*int(num)\n",
    "    print(heart)"
   ]
  },
  {
   "cell_type": "markdown",
   "metadata": {},
   "source": [
    "### 1~100까지 자연수에서 4의 배수, 7의 배수를 각각 구하고, 4또는 7의 배수에 해당하는 수들의 총 합계를 구하시오.\n",
    "- 주의: 4과 7의 공배수(예:28)를 중복으로 더하지 않도록 주의한다."
   ]
  },
  {
   "cell_type": "code",
   "execution_count": 19,
   "metadata": {},
   "outputs": [
    {
     "name": "stdout",
     "output_type": "stream",
     "text": [
      "1~100 사이에서 4의 배수 : 4, 8, 12, 16, 20, 24, 28, 32, 36, 40, 44, 48, 52, 56, 60, 64, 68, 72, 76, 80, 84, 88, 92, 96, 100\n",
      "1~100 사이에서 7의 배수 : 7, 14, 21, 28, 35, 42, 49, 56, 63, 70, 77, 84, 91, 98\n",
      "1~100 사이에서 4 또는 7의 배수의 합계 : 1867\n"
     ]
    }
   ],
   "source": [
    "num4 = []\n",
    "num7 = []\n",
    "result=0\n",
    "\n",
    "for i in range(1,101):\n",
    "    if  i % 4 == 0 or i % 7 == 0: \n",
    "        result += i\n",
    "        if i % 4 == 0 : num4.append(i)\n",
    "        if i % 7 == 0 : num7.append(i)\n",
    "print(f'1~100 사이에서 4의 배수 : {str(num4)[1:-1]}')\n",
    "print(f'1~100 사이에서 7의 배수 : {str(num7)[1:-1]}')\n",
    "print(f'1~100 사이에서 4 또는 7의 배수의 합계 : {result}')   "
   ]
  },
  {
   "cell_type": "code",
   "execution_count": 14,
   "metadata": {},
   "outputs": [
    {
     "name": "stdout",
     "output_type": "stream",
     "text": [
      "1~100사이의 4의 배수 : 0, 4, 8, 12, 16, 20, 24, 28, 32, 36, 40, 44, 48, 52, 56, 60, 64, 68, 72, 76, 80, 84, 88, 92, 96, 100\n",
      "1~100사이의 7의 배수 : 0, 7, 14, 21, 28, 35, 42, 49, 56, 63, 70, 77, 84, 91, 98\n",
      "총합계는 : 1867\n"
     ]
    }
   ],
   "source": [
    "def multiple(n):\n",
    "    result = []\n",
    "    i = 0 \n",
    "    while n*i <101:\n",
    "        result.append( n *i)\n",
    "        i += 1\n",
    "    return result\n",
    "\n",
    "a = multiple(4)+multiple(7)\n",
    "b = set(a)\n",
    "\n",
    "print(f'1~100사이의 4의 배수 : {str(multiple(4))[1:-1]}')\n",
    "print(f'1~100사이의 7의 배수 : {str(multiple(7))[1:-1]}')\n",
    "print(f'총합계는 : {sum(b)}')"
   ]
  },
  {
   "cell_type": "markdown",
   "metadata": {},
   "source": [
    "\n",
    "### andy는 스타트업 회사인 ICT games에서 100일의 인턴기간을 거쳐서 오늘부터 드디어 정직원으로 출근하게 되었다. datetime 모듈을 이용하여 andy의 입사일을 구하시오."
   ]
  },
  {
   "cell_type": "code",
   "execution_count": 25,
   "metadata": {
    "scrolled": true
   },
   "outputs": [
    {
     "name": "stdout",
     "output_type": "stream",
     "text": [
      "오늘날짜 : 2022년07월18일\n",
      "입사일 : 2022년04월09일\n"
     ]
    }
   ],
   "source": [
    "import datetime as dt\n",
    "\n",
    "now = dt.datetime.now()\n",
    "date = now-dt.timedelta(days=100)\n",
    "\n",
    "print(f\"오늘날짜 : {now.strftime('%Y년%m월%d일')}\")\n",
    "print(f\"입사일 : {date.strftime('%Y년%m월%d일')}\")"
   ]
  },
  {
   "cell_type": "markdown",
   "metadata": {},
   "source": [
    "### 주사위 여러개 동시에 던지기\n",
    "- 같은 숫자가 나올때 까지 주사위 3개를 동시에 **무한반복**해서 던진다.\n",
    "- 3개의 주사위에서 같은 숫자가 나오면 그 숫자와 주사위를 던짓 횟수를 출력하고 프로그램을 종료한다."
   ]
  },
  {
   "cell_type": "code",
   "execution_count": 50,
   "metadata": {},
   "outputs": [
    {
     "name": "stdout",
     "output_type": "stream",
     "text": [
      "동일한 숫자 : 2\n",
      "3개의 주사위가 동일한 숫자가 나올 떄 까지 던진 횟수 :16회\n",
      "[2, 2, 2]\n"
     ]
    }
   ],
   "source": [
    "import random\n",
    "\n",
    "# 변수선언\n",
    "dice = [0,0,0]\n",
    "count = 1\n",
    "\n",
    "while True :\n",
    "    for i in range(3):\n",
    "        dice[i] = random.randrange(1,4)\n",
    "        \n",
    "    if dice[0]==dice[1]==dice[2]:\n",
    "        print('동일한 숫자 :' ,dice[0])\n",
    "        print(f'3개의 주사위가 동일한 숫자가 나올 떄 까지 던진 횟수 :{count}회')\n",
    "        break\n",
    "    count += 1\n",
    "    \n",
    "print(dice)"
   ]
  },
  {
   "cell_type": "code",
   "execution_count": null,
   "metadata": {},
   "outputs": [],
   "source": []
  },
  {
   "cell_type": "markdown",
   "metadata": {},
   "source": [
    "### 커피 판매시스템\n",
    "- 갓 볶은 원두로 항상 대기 손님이 있는 맛있는 커피전문점이 있습니다. 제조시간이 많이 걸려서 하루 10잔만 판매하는 '오늘의 커피'는 대기하는 동안 자동 주문 시스템을 통해 주문 가능합니다. 아래 조건에 맞는 시스템을 구축하시오.\n",
    "\n",
    "[ 조건 ]\n",
    " 1. 커피 주문은 키보드 입력으로 받을 것.\n",
    " 2. 대기 손님이 주문할 수 있는 총 오늘의 커피는 10잔으로 재료 소진시\n",
    "     - 재고가 0이면(10잔 모든 주문이 된 경우) :‘오늘의 커피가 매진되었습니다.' 메시지 출력후 프로그램 종료.  \n",
    "     - 재고수량보다 많은 량이 주문되면 : '주문하신 수량보다 남아있는 재고가 부족합니다' 메시지 출력\n",
    " 3. 주문 수량에 1보다 작거나 숫자가 아닌 입력값이 들어올때는 ValueError로 처리(ValueError 메시지 : '잘못된 값을 입력하였습니다.')\n",
    " 4. 커피 유니코드 ☕(\\u2615)로 화면 출력"
   ]
  },
  {
   "cell_type": "code",
   "execution_count": 57,
   "metadata": {
    "scrolled": false
   },
   "outputs": [
    {
     "name": "stdout",
     "output_type": "stream",
     "text": [
      "[남은 커피:10]\n",
      "오늘의 커피 몇 잔 주문하시겠습니까?한잔\n",
      "잘못된 값이 입력되었습니다\n",
      "[남은 커피:10]\n",
      "오늘의 커피 몇 잔 주문하시겠습니까?0\n",
      "잘못된 값이 입력되었습니다\n",
      "[남은 커피:10]\n",
      "오늘의 커피 몇 잔 주문하시겠습니까?-6\n",
      "잘못된 값이 입력되었습니다\n",
      "[남은 커피:10]\n",
      "오늘의 커피 몇 잔 주문하시겠습니까?5\n",
      "[대기번호1] 5오늘의 커피  ☕☕☕☕☕ 주문이 완료 되었습니다.\n",
      "[남은 커피:5]\n",
      "오늘의 커피 몇 잔 주문하시겠습니까?6\n",
      "남은 수량이 부족합니다\n",
      "[남은 커피:5]\n",
      "오늘의 커피 몇 잔 주문하시겠습니까?3\n",
      "[대기번호1] 3오늘의 커피  ☕☕☕ 주문이 완료 되었습니다.\n",
      "[남은 커피:2]\n",
      "오늘의 커피 몇 잔 주문하시겠습니까?2\n",
      "[대기번호1] 2오늘의 커피  ☕☕ 주문이 완료 되었습니다.\n",
      "오늘의 커피가 매진되었습니다.\n"
     ]
    }
   ],
   "source": [
    "class SoldOutError(Exception):\n",
    "    pass\n",
    "\n",
    "coffee = 10\n",
    "waiting = 1\n",
    "\n",
    "while True :\n",
    "    try :             \n",
    "        print(f'[남은 커피:{coffee}]')       \n",
    "        order = int(input('오늘의 커피 몇 잔 주문하시겠습니까?'))        \n",
    "        if order > coffee : print('남은 수량이 부족합니다')\n",
    "            \n",
    "        elif order <= 0 : raise ValueError\n",
    "            \n",
    "        \n",
    "        else :\n",
    "            print(f\"[대기번호{waiting}] {order}오늘의 커피 \", end=' ')\n",
    "            print('\\u2615'*order,'주문이 완료 되었습니다.')\n",
    "            coffee -= order\n",
    "            \n",
    "        if coffee == 0 : raise SoldOutError\n",
    "            \n",
    "    except ValueError :\n",
    "        print('잘못된 값이 입력되었습니다')\n",
    "        \n",
    "    except SoldOutError as err :\n",
    "        print('오늘의 커피가 매진되었습니다.')\n",
    "        break"
   ]
  },
  {
   "cell_type": "code",
   "execution_count": null,
   "metadata": {},
   "outputs": [],
   "source": []
  }
 ],
 "metadata": {
  "kernelspec": {
   "display_name": "Python 3 (ipykernel)",
   "language": "python",
   "name": "python3"
  },
  "language_info": {
   "codemirror_mode": {
    "name": "ipython",
    "version": 3
   },
   "file_extension": ".py",
   "mimetype": "text/x-python",
   "name": "python",
   "nbconvert_exporter": "python",
   "pygments_lexer": "ipython3",
   "version": "3.9.12"
  },
  "toc": {
   "base_numbering": 1,
   "nav_menu": {},
   "number_sections": true,
   "sideBar": true,
   "skip_h1_title": false,
   "title_cell": "Table of Contents",
   "title_sidebar": "Contents",
   "toc_cell": false,
   "toc_position": {
    "height": "calc(100% - 180px)",
    "left": "10px",
    "top": "150px",
    "width": "169.719px"
   },
   "toc_section_display": true,
   "toc_window_display": false
  }
 },
 "nbformat": 4,
 "nbformat_minor": 4
}
