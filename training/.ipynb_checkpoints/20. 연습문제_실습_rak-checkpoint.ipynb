{
 "cells": [
  {
   "attachments": {
    "image.png": {
     "image/png": "[encoded data removed]"
    }
   },
   "cell_type": "markdown",
   "id": "c025f922",
   "metadata": {},
   "source": [
    "### 문장이 입력되면 거꾸로 출력하는 프로그램을 만들어 봅시다.\n",
    "![image.png](attachment:image.png)"
   ]
  },
  {
   "cell_type": "code",
   "execution_count": 274,
   "id": "c92a235f",
   "metadata": {},
   "outputs": [
    {
     "name": "stdout",
     "output_type": "stream",
     "text": [
      "문장을 입력하세요 : 거꾸로\n",
      " 로꾸거\n"
     ]
    }
   ],
   "source": [
    "name= input ('문장을 입력하세요 : ')\n",
    "\n",
    "name1 = name[::-1]\n",
    "print(f' {name1}')\n",
    "\n"
   ]
  },
  {
   "cell_type": "code",
   "execution_count": 275,
   "id": "a6b4f137",
   "metadata": {},
   "outputs": [
    {
     "name": "stdout",
     "output_type": "stream",
     "text": [
      "문장을 입력하세요 : 거꾸로\n",
      "로꾸거\n"
     ]
    }
   ],
   "source": [
    "a = input('문장을 입력하세요 : ')\n",
    "print(a[::-1])"
   ]
  },
  {
   "attachments": {
    "image.png": {
     "image/png": "[encoded data removed]"
    }
   },
   "cell_type": "markdown",
   "id": "47994ade",
   "metadata": {},
   "source": [
    "### 사용자 입력함수(input( ))로 문자열 입력 받으면 문자의 개수를 출력하는 프로그램을 작성하시오.\n",
    "- 단어 사이의 공백은 문자로 처리한다.\n",
    "- 문자열 앞, 뒤의 공백은 문자로 처리하지 않는다.\n",
    "- 출력화면 예시\n",
    "![image.png](attachment:image.png)"
   ]
  },
  {
   "cell_type": "code",
   "execution_count": 276,
   "id": "00fa3b73",
   "metadata": {},
   "outputs": [
    {
     "name": "stdout",
     "output_type": "stream",
     "text": [
      "문자열을 입력하세요 ==>무궁화 꽃이 피었습니다,\n",
      "13\n"
     ]
    }
   ],
   "source": [
    "a= input ('문자열을 입력하세요 ==>')\n",
    "count=0\n",
    "for i in a :\n",
    "    count=count+1\n",
    "print(count)\n"
   ]
  },
  {
   "cell_type": "code",
   "execution_count": 282,
   "id": "7311b671",
   "metadata": {},
   "outputs": [
    {
     "name": "stdout",
     "output_type": "stream",
     "text": [
      "문자열을 입력해주세요 ==>무궁화 꽃이 피었습니다.\n",
      "<class 'str'>\n",
      "13\n"
     ]
    }
   ],
   "source": [
    "s = input('문자열을 입력해주세요 ==>').strip()\n",
    "print (type(s))\n",
    "print (len(s))"
   ]
  },
  {
   "attachments": {
    "image-2.png": {
     "image/png": "[encoded data removed]"
    }
   },
   "cell_type": "markdown",
   "id": "d34498cc",
   "metadata": {},
   "source": [
    "### datetime 모듈을 이용하여 오늘 날짜를 출력하시오.\n",
    "- 출력화면(2022년 7월 3일 기준)\n",
    "![image-2.png](attachment:image-2.png)"
   ]
  },
  {
   "cell_type": "code",
   "execution_count": 24,
   "id": "5419318d",
   "metadata": {},
   "outputs": [
    {
     "name": "stdout",
     "output_type": "stream",
     "text": [
      "오늘은 2022년 07월 04일 입니다.\n"
     ]
    }
   ],
   "source": [
    "import datetime as dt\n",
    "now=dt.datetime.now()\n",
    "# print(now)\n",
    "\n",
    "print(now.strftime('오늘은 %Y년 %m월 %d일 입니다.'))"
   ]
  },
  {
   "attachments": {
    "image-3.png": {
     "image/png": "[encoded data removed]"
    }
   },
   "cell_type": "markdown",
   "id": "81b5e1f8",
   "metadata": {},
   "source": [
    "### print()의 sep, end 를  활용하여 아래와 같이 출력하시오.\n",
    "![image-3.png](attachment:image-3.png)"
   ]
  },
  {
   "cell_type": "code",
   "execution_count": 31,
   "id": "3118ddac",
   "metadata": {},
   "outputs": [
    {
     "name": "stdout",
     "output_type": "stream",
     "text": [
      "2022/07/02 11:35:19\n"
     ]
    }
   ],
   "source": [
    "year = '2022'\n",
    "month = '07'\n",
    "day = '02'\n",
    "hour = '11'\n",
    "minute = '35'\n",
    "second = '19'\n",
    "\n",
    "print(year,month,day,sep='/',end=' ')\n",
    "print(hour, minute, second,sep=':')"
   ]
  },
  {
   "attachments": {
    "image.png": {
     "image/png": "[encoded data removed]"
    }
   },
   "cell_type": "markdown",
   "id": "c16f8d32",
   "metadata": {},
   "source": [
    "### 양의 정수 n을 입력 받아서 아래 그림과 같은 직각삼각형을  출력하는 프로그램을 작성하시오.\n",
    "- ★ : \\u2605\n",
    "![image.png](attachment:image.png)"
   ]
  },
  {
   "cell_type": "code",
   "execution_count": 69,
   "id": "1db2df6c",
   "metadata": {},
   "outputs": [
    {
     "name": "stdout",
     "output_type": "stream",
     "text": [
      "5\n",
      "    ★\n",
      "   ★★\n",
      "  ★★★\n",
      " ★★★★\n",
      "★★★★★\n"
     ]
    }
   ],
   "source": [
    "n = int(input())\n",
    "for i in range(1, n+1):\n",
    "    print(\" \"*(n-i)+\"\\u2605\"*i)"
   ]
  },
  {
   "cell_type": "code",
   "execution_count": 283,
   "id": "5992ea72",
   "metadata": {},
   "outputs": [
    {
     "name": "stdout",
     "output_type": "stream",
     "text": [
      "양의 정수 입력 : 5\n",
      "        ★\n",
      "      ★★\n",
      "    ★★★\n",
      "  ★★★★\n",
      "★★★★★\n"
     ]
    }
   ],
   "source": [
    "n = int(input('양의 정수 입력 : '))\n",
    "\n",
    "i=1\n",
    "while i < n+1 :\n",
    "    print('  '*(n-i)+'\\u2605'*i)\n",
    "    i += 1"
   ]
  },
  {
   "attachments": {
    "image-2.png": {
     "image/png": "[encoded data removed]"
    }
   },
   "cell_type": "markdown",
   "id": "5d34001c",
   "metadata": {},
   "source": [
    "### 반복문을 이용하여 구구단을 아래 그림과 같이 출력하시오.\n",
    "![image-2.png](attachment:image-2.png)"
   ]
  },
  {
   "cell_type": "code",
   "execution_count": 63,
   "id": "11878661",
   "metadata": {},
   "outputs": [
    {
     "name": "stdout",
     "output_type": "stream",
     "text": [
      "  9단\t  8단\t  7단\t  6단\t  5단\t  4단\t  3단\t  2단\t\n",
      "9*9=81\t8*9=72\t7*9=63\t6*9=54\t5*9=45\t4*9=36\t3*9=27\t2*9=18\t\n",
      "9*8=72\t8*8=64\t7*8=56\t6*8=48\t5*8=40\t4*8=32\t3*8=24\t2*8=16\t\n",
      "9*7=63\t8*7=56\t7*7=49\t6*7=42\t5*7=35\t4*7=28\t3*7=21\t2*7=14\t\n",
      "9*6=54\t8*6=48\t7*6=42\t6*6=36\t5*6=30\t4*6=24\t3*6=18\t2*6=12\t\n",
      "9*5=45\t8*5=40\t7*5=35\t6*5=30\t5*5=25\t4*5=20\t3*5=15\t2*5=10\t\n",
      "9*4=36\t8*4=32\t7*4=28\t6*4=24\t5*4=20\t4*4=16\t3*4=12\t2*4= 8\t\n",
      "9*3=27\t8*3=24\t7*3=21\t6*3=18\t5*3=15\t4*3=12\t3*3= 9\t2*3= 6\t\n",
      "9*2=18\t8*2=16\t7*2=14\t6*2=12\t5*2=10\t4*2= 8\t3*2= 6\t2*2= 4\t\n",
      "9*1= 9\t8*1= 8\t7*1= 7\t6*1= 6\t5*1= 5\t4*1= 4\t3*1= 3\t2*1= 2\t\n"
     ]
    }
   ],
   "source": [
    "for i in range(9,1,-1): #9에서 시작 1까지 증가값 -1\n",
    "    print(f'{i:>3}단',end='\\t')  \n",
    "print()\n",
    "\n",
    "for i in range(9,0,-1):\n",
    "    for j in range(9,1,-1):\n",
    "        print(f'{j}*{i}={i*j:>2}',end=\"\\t\")\n",
    "    print()"
   ]
  },
  {
   "attachments": {
    "image-2.png": {
     "image/png": "[encoded data removed]"
    }
   },
   "cell_type": "markdown",
   "id": "b7c5e593",
   "metadata": {},
   "source": [
    "### 아래 조건을 만족하는 코드를 완성하시오.\n",
    "- 정수가 들어오면 제곱한 값을 돌려주는 get_sqrt()를 생성하시오.\n",
    "- 사용자로 부터 정수 n을 입력 받으면 get_sqrt(n)을 호출하여 제곱한 값을 돌려주는 프로그램을 작성하시오.\n",
    "- 무한반복하다가 0이 입력되면 프로그램은 종료합니다.\n",
    "- 숫자가 아닌 값이 입력되었을 경우는 '숫자를 입력하세요'라는 메시지를 출력합니다.   \n",
    "<출력화면>\n",
    "![image-2.png](attachment:image-2.png)"
   ]
  },
  {
   "cell_type": "code",
   "execution_count": 284,
   "id": "12c6e8be",
   "metadata": {},
   "outputs": [],
   "source": [
    "def sqrt(n):\n",
    "    return n*n"
   ]
  },
  {
   "cell_type": "code",
   "execution_count": 286,
   "id": "de4aef69",
   "metadata": {
    "scrolled": false
   },
   "outputs": [
    {
     "name": "stdout",
     "output_type": "stream",
     "text": [
      "t숫자를 입력하세요(종료 : 0) : 5\n",
      "5의 제곱 값은 25입니다.\n",
      "t숫자를 입력하세요(종료 : 0) : 8\n",
      "8의 제곱 값은 64입니다.\n",
      "t숫자를 입력하세요(종료 : 0) : 9\n",
      "9의 제곱 값은 81입니다.\n",
      "t숫자를 입력하세요(종료 : 0) : 0\n",
      "프로그램을 종료합니다.\n"
     ]
    }
   ],
   "source": [
    "while True:\n",
    "    try :\n",
    "        n = int(input('t숫자를 입력하세요(종료 : 0) : '))\n",
    "        if n == 0 :\n",
    "            print('프로그램을 종료합니다.')\n",
    "            break\n",
    "        else :\n",
    "            print(f'{n}의 제곱 값은 {sqrt(n)}입니다.')\n",
    "    except ValueError :\n",
    "        print('숫자를 입력하세요')"
   ]
  },
  {
   "cell_type": "markdown",
   "id": "d8831f9e",
   "metadata": {},
   "source": [
    "### andy와 tomas는 둘만의 우정을 기념하기 위해 서로에게 메시지를 담은 쪽지를 타임캡슐에 묻기로 하였다. 오늘부터 1000일 후 타임캡슐을 개봉하기로 하였다.  타임캡슐 개봉일을 출력하시오."
   ]
  },
  {
   "cell_type": "code",
   "execution_count": 288,
   "id": "883261aa",
   "metadata": {},
   "outputs": [
    {
     "name": "stdout",
     "output_type": "stream",
     "text": [
      "1000일 후 는 : 2025-03-30 13:42:42.115210 입니다.\n",
      "오늘 날짜인 2022년 07월 04일부터 1000일 후인 타임캡슐의 개봉일은 2025년 03월 30일입니다\n"
     ]
    }
   ],
   "source": [
    "from datetime import datetime, timedelta\n",
    "\n",
    "afterday = now + timedelta(days=1000)\n",
    "print(\"1000일 후 는 :\", afterday,\"입니다.\")\n",
    "\n",
    "\n",
    "print(f\"오늘 날짜인 {now.strftime('%Y년 %m월 %d일')}부터 1000일 후인 타임캡슐의 개봉일은 {afterday.strftime('%Y년 %m월 %d일')}입니다\")"
   ]
  },
  {
   "attachments": {
    "image.png": {
     "image/png": "[encoded data removed]"
    }
   },
   "cell_type": "markdown",
   "id": "a70578b2",
   "metadata": {},
   "source": [
    "### 아래 조건에 만족하는 프로그램을 구현하시오.\n",
    "- ICT 수학 학원에서는 월말평가 1위~3위 학생에게 문화상품권을 선물로 주고 있다.  \n",
    "- 학생들의  점수가 입력되면 이번달 문화상품권을 받을 학생을 구하는 프로그램을 작성하시오.\n",
    "- 학생들의 점수는 공백으로 구분하여 입력 받는다. 예) 97 86 74 66 55 97 85 97 97 95\n",
    "- 1~3위 학생은 여러명일 수 있고 동점자까지 모두 지급하기로 하였다.\n",
    "![image.png](attachment:image.png)"
   ]
  },
  {
   "cell_type": "code",
   "execution_count": 290,
   "id": "657821bc",
   "metadata": {},
   "outputs": [
    {
     "name": "stdout",
     "output_type": "stream",
     "text": [
      "97 86 74 66 55 97 85 97 97 95\n",
      "이번달 문화상품권을 받을 학생은 6명 입니다.\n"
     ]
    }
   ],
   "source": [
    "data = input().split()\n",
    "data = [int(i) for i in data]\n",
    "count = 0\n",
    "\n",
    "if len(set(data)) <= 3:\n",
    "    count = len(data)\n",
    "else:\n",
    "    break_point = sorted(list(set(data)), reverse=True)[3]\n",
    "    data_sorted = sorted(data, reverse=True)\n",
    "    for i in data_sorted:\n",
    "        if break_point == i:\n",
    "            break\n",
    "        else :\n",
    "            count += 1\n",
    "\n",
    "print(f'이번달 문화상품권을 받을 학생은 {count}명 입니다.')"
   ]
  },
  {
   "attachments": {
    "image.png": {
     "image/png": "[encoded data removed]"
    }
   },
   "cell_type": "markdown",
   "id": "bec082f7",
   "metadata": {},
   "source": [
    "### 아래  조건에 만족하는 프로그램을 구현하시오.\n",
    "- 정수 n을 입력받아서 0부터 n까지 1의 개수를 세는 프로그램을 만드시오.\n",
    "- 예) 0~20의 1의 개수 : 1, 10, 11, 12, 13, 14, 15, 16, 17, 18, 19 => 12개\n",
    "- ![image.png](attachment:image.png)"
   ]
  },
  {
   "cell_type": "code",
   "execution_count": 294,
   "id": "b357b8d6",
   "metadata": {},
   "outputs": [
    {
     "name": "stdout",
     "output_type": "stream",
     "text": [
      "0보다 큰 정수를 입력하세요 : 1000\n",
      "0~1000사이에 1의 개수는 301개 입니다.\n"
     ]
    }
   ],
   "source": [
    "n = int(input('0보다 큰 정수를 입력하세요 : '))\n",
    "countN =str(list(range(n+1))).count('1')\n",
    "print(f'0~{n}사이에 1의 개수는 {countN}개 입니다.')"
   ]
  },
  {
   "cell_type": "markdown",
   "id": "f0c1620c",
   "metadata": {},
   "source": [
    "###  문자열을 입력받고 연속되는 문자열을 압축해서 표현하는 프로그램을 작성하시오\n",
    "- 입력 : aaabbbbcdddd\n",
    "- 출력 : a3b4c1d4"
   ]
  },
  {
   "cell_type": "code",
   "execution_count": 316,
   "id": "87ec3c88",
   "metadata": {
    "scrolled": true
   },
   "outputs": [
    {
     "name": "stdout",
     "output_type": "stream",
     "text": [
      "aaaaaabbbbbbaaaaccccccaaaabbbccc\n",
      "a6b6a4c6a4b3c3\n"
     ]
    }
   ],
   "source": [
    "a= input()\n",
    "\n",
    "result = a[0]\n",
    "count = 0 \n",
    "\n",
    "for aa in a:\n",
    "    if aa == result[-1]:\n",
    "        count+=1\n",
    "    else:\n",
    "        result += str(count) + aa\n",
    "        count = 1\n",
    "        \n",
    "result += str(count)\n",
    "\n",
    "print(result)"
   ]
  },
  {
   "cell_type": "code",
   "execution_count": null,
   "id": "a66eb7fb",
   "metadata": {},
   "outputs": [],
   "source": [
    "user_input = input()\n",
    "s=''\n",
    "storeString = user_input[0]\n",
    "count = 0\n",
    "\n",
    "for i in user_input:\n",
    "    if i == storeString : count +=1\n",
    "    else :\n",
    "        s += storeString+str(count)\n",
    "        storeString = i\n",
    "        count = 1\n",
    "s += storeString+str(count)\n",
    "print(s)"
   ]
  },
  {
   "cell_type": "code",
   "execution_count": 330,
   "id": "9eabe1a5",
   "metadata": {},
   "outputs": [
    {
     "name": "stdout",
     "output_type": "stream",
     "text": [
      "asdsadafsadfsadfsafd\n",
      "{'a': 6, 's': 5, 'd': 5, 'f': 4}\n",
      "a는6개 :s는5개 :d는5개 :f는4개 :"
     ]
    }
   ],
   "source": [
    "#연속되지 않은 문자의 갯수 구하기\n",
    "user_input = input()\n",
    "wordDict = dict()\n",
    "\n",
    "for word in user_input:\n",
    "    wordDict[word] = wordDict.get(word,0)+1\n",
    "print(wordDict)\n",
    "\n",
    "\n",
    "for key,value in wordDict.items():\n",
    "    print(f'{key}는{value}개 : ',sep=\"\",end=\"\")"
   ]
  },
  {
   "cell_type": "code",
   "execution_count": 340,
   "id": "764c9238",
   "metadata": {},
   "outputs": [
    {
     "name": "stdout",
     "output_type": "stream",
     "text": [
      "['a', 'd', 'f', 's']\n"
     ]
    },
    {
     "ename": "AttributeError",
     "evalue": "'str' object has no attribute 'wordDict'",
     "output_type": "error",
     "traceback": [
      "\u001b[1;31m---------------------------------------------------------------------------\u001b[0m",
      "\u001b[1;31mAttributeError\u001b[0m                            Traceback (most recent call last)",
      "Input \u001b[1;32mIn [340]\u001b[0m, in \u001b[0;36m<cell line: 13>\u001b[1;34m()\u001b[0m\n\u001b[0;32m     10\u001b[0m \u001b[38;5;28mprint\u001b[39m(sortWord)\n\u001b[0;32m     13\u001b[0m \u001b[38;5;28;01mfor\u001b[39;00m i \u001b[38;5;129;01min\u001b[39;00m sortWord:\n\u001b[1;32m---> 14\u001b[0m     \u001b[38;5;28mprint\u001b[39m(\u001b[38;5;28mstr\u001b[39m(\u001b[43mi\u001b[49m\u001b[38;5;241;43m.\u001b[39;49m\u001b[43mwordDict\u001b[49m[i],sep\u001b[38;5;241m=\u001b[39m\u001b[38;5;124m\"\u001b[39m\u001b[38;5;124m\"\u001b[39m,end\u001b[38;5;241m=\u001b[39m\u001b[38;5;124m\"\u001b[39m\u001b[38;5;124m\"\u001b[39m))\n",
      "\u001b[1;31mAttributeError\u001b[0m: 'str' object has no attribute 'wordDict'"
     ]
    }
   ],
   "source": [
    "#연속되지 않은 무자의 개수 알파벳순으로 만들기\n",
    "user_input = 'asdsadafsadfsadfsafd'\n",
    "# user_input = input()\n",
    "wordDict = dict()\n",
    "\n",
    "for word in user_input:\n",
    "    wordDict[word] = wordDict.get(word,0)+1\n",
    "\n",
    "sortWord = sorted(wordDict.keys())\n",
    "print(sortWord)\n",
    "    \n",
    "    \n",
    "for i in sortWord:\n",
    "    print(i.wordDict[i],sep=\"\",end=\"\")"
   ]
  },
  {
   "attachments": {
    "image-3.png": {
     "image/png": "[encoded data removed]"
    }
   },
   "cell_type": "markdown",
   "id": "44a65a1f",
   "metadata": {},
   "source": [
    "### 사용자가 입력한 수만큼 하트를 출력하시오.\n",
    "- 사용자가 여러개의 숫자를 입력하면 입력한 숫자 만큼 ★ : \\u2605 출력하기   \n",
    "<예시>\n",
    "![image-3.png](attachment:image-3.png)"
   ]
  },
  {
   "cell_type": "code",
   "execution_count": 298,
   "id": "9e81f478",
   "metadata": {
    "scrolled": true
   },
   "outputs": [
    {
     "name": "stdout",
     "output_type": "stream",
     "text": [
      "숫자를 여러 개 입력하세요 : 123454321\n",
      "★\n",
      "★★\n",
      "★★★\n",
      "★★★★\n",
      "★★★★★\n",
      "★★★★\n",
      "★★★\n",
      "★★\n",
      "★\n"
     ]
    }
   ],
   "source": [
    "#반복 연산자\n",
    "nums = input('숫자를 여러 개 입력하세요 : ')\n",
    "\n",
    "for num in nums :\n",
    "    heart = '\\u2605'*int(num)\n",
    "    print(heart)"
   ]
  },
  {
   "attachments": {
    "image-2.png": {
     "image/png": "[encoded data removed]"
    }
   },
   "cell_type": "markdown",
   "id": "5ee9fe0a",
   "metadata": {},
   "source": [
    "### 1부터 1000사이 9의 배수와 배수의 개수를 출력하시오.\n",
    "<출력예시>\n",
    "> ![image-2.png](attachment:image-2.png)"
   ]
  },
  {
   "cell_type": "code",
   "execution_count": 301,
   "id": "6918caa4",
   "metadata": {
    "scrolled": true
   },
   "outputs": [
    {
     "name": "stdout",
     "output_type": "stream",
     "text": [
      "1~1000사이의 9의 배수 : 9, 18, 27, 36, 45, 54, 63, 72, 81, 90, 99, 108, 117, 126, 135, 144, 153, 162, 171, 180, 189, 198, 207, 216, 225, 234, 243, 252, 261, 270, 279, 288, 297, 306, 315, 324, 333, 342, 351, 360, 369, 378, 387, 396, 405, 414, 423, 432, 441, 450, 459, 468, 477, 486, 495, 504, 513, 522, 531, 540, 549, 558, 567, 576, 585, 594, 603, 612, 621, 630, 639, 648, 657, 666, 675, 684, 693, 702, 711, 720, 729, 738, 747, 756, 765, 774, 783, 792, 801, 810, 819, 828, 837, 846, 855, 864, 873, 882, 891, 900, 909, 918, 927, 936, 945, 954, 963, 972, 981, 990, 999\n",
      "9의 배수 의 개수는 : 111\n"
     ]
    }
   ],
   "source": [
    "num9 = []\n",
    "# result = 0\n",
    "count = 0\n",
    "for n in range(1,1001):\n",
    "    if  n % 9 ==0:\n",
    "#         result += n\n",
    "        count += 1\n",
    "        if n %9==0 : num9.append(n)\n",
    "\n",
    "\n",
    "\n",
    "print(f'1~1000사이의 9의 배수 : {str(num9)[1:-1]}')\n",
    "print(f'9의 배수 의 개수는 : {count}')        \n",
    "# print(f'총합계 : {result}')"
   ]
  },
  {
   "attachments": {
    "image.png": {
     "image/png": "[encoded data removed]"
    }
   },
   "cell_type": "markdown",
   "id": "5a236a78",
   "metadata": {},
   "source": [
    "### 아래 요구사항에 맞게 프로그래밍 하시오.   \n",
    "- ICT방송국에서는 과거인기 예능 프로그램을 한번 더 진행하는 프로젝트를 하고 있습니다.\n",
    "- 이번 달 선정된 과거 인기예능 프로그램은 '게릴라 콘서트'입니다.\n",
    "- 모임 장소와 날짜, 시간을 무작위로 선정해서 비밀리에 진행하기로 하였습니다.\n",
    "- 조건1 : 콘서트 날짜는 5일~20일 사이에 선정 \n",
    "- 조건2 : 콘서트 시간은 14시~ 18시 사이에 선정(시작시간은 정시에 시작된다.)\n",
    "- 조건3 : 장소는 ['서울시청 광장', '한강공원', ' 행담도 휴게소', '광교 호수공원', '양재 시민의 숲'] 중에서 무작위로 선정\n",
    "\n",
    "<출력결과>\n",
    "\n",
    "![image.png](attachment:image.png)**오프라인 스터디 모임 날짜는 매월 x 일로 선정되었습니다.**"
   ]
  },
  {
   "cell_type": "code",
   "execution_count": 313,
   "id": "74e3e7a8",
   "metadata": {
    "scrolled": false
   },
   "outputs": [
    {
     "name": "stdout",
     "output_type": "stream",
     "text": [
      "이번달 게릴라 콘서트는 5일 17시 광교 호수공원에서 개최됩니다.\n"
     ]
    }
   ],
   "source": [
    "import random\n",
    "\n",
    "place_list = ['서울시청 광장', '한강공원', ' 행담도 휴게소', '광교 호수공원', '양재 시민의 숲']\n",
    "date = random.randint(5,20)\n",
    "time = random.randint(14,18)\n",
    "place = random.choice(place_list)\n",
    "print(f'이번달 게릴라 콘서트는 {str(date)}일 {str(time)}시 {place}에서 개최됩니다.')"
   ]
  },
  {
   "cell_type": "code",
   "execution_count": null,
   "id": "cd698f5b",
   "metadata": {},
   "outputs": [],
   "source": []
  }
 ],
 "metadata": {
  "kernelspec": {
   "display_name": "Python 3 (ipykernel)",
   "language": "python",
   "name": "python3"
  },
  "language_info": {
   "codemirror_mode": {
    "name": "ipython",
    "version": 3
   },
   "file_extension": ".py",
   "mimetype": "text/x-python",
   "name": "python",
   "nbconvert_exporter": "python",
   "pygments_lexer": "ipython3",
   "version": "3.9.12"
  },
  "toc": {
   "base_numbering": 1,
   "nav_menu": {},
   "number_sections": true,
   "sideBar": true,
   "skip_h1_title": false,
   "title_cell": "Table of Contents",
   "title_sidebar": "Contents",
   "toc_cell": false,
   "toc_position": {},
   "toc_section_display": true,
   "toc_window_display": false
  }
 },
 "nbformat": 4,
 "nbformat_minor": 5
}
