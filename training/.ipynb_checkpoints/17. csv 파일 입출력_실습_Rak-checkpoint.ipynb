{
 "cells": [
  {
   "cell_type": "markdown",
   "id": "2b5bc7f7",
   "metadata": {},
   "source": [
    "## CSV(comma-separated values)\n",
    "- 데이터가 콤마(,)로 구분되어 있는 파일형식\n",
    "- 테이블 형태의 데이터(스프레드시트...)의 데이터를 처리하기 위한 양식"
   ]
  },
  {
   "cell_type": "markdown",
   "id": "5e158eee",
   "metadata": {},
   "source": [
    "### csv 파일 쓰기\n",
    "- import csv\n",
    "\n",
    "- 파일객체 = open('파일경로','모드', newline='')   \n",
    "- **csv.writer(파일객체)**\n",
    "- 파일객체.close()"
   ]
  },
  {
   "cell_type": "code",
   "execution_count": 2,
   "id": "84f6700f",
   "metadata": {},
   "outputs": [],
   "source": [
    "import csv\n",
    "\n",
    "datas = [['이름', '반','번호'],\n",
    "       ['andy',1,20],\n",
    "       ['bob', 3, 23],\n",
    "       ['toams',2,10],]\n",
    "\n",
    "file = open('data/student.csv','w',encoding='utf-8',newline='')\n",
    "writer = csv.writer(file)\n",
    "writer.writerows(datas)\n",
    "file.close()\n"
   ]
  },
  {
   "cell_type": "code",
   "execution_count": null,
   "id": "cda6594a",
   "metadata": {},
   "outputs": [],
   "source": []
  },
  {
   "cell_type": "code",
   "execution_count": null,
   "id": "11d50617",
   "metadata": {},
   "outputs": [],
   "source": []
  },
  {
   "cell_type": "markdown",
   "id": "936c5bb4",
   "metadata": {},
   "source": [
    "### csv 파일읽기\n",
    "- csv.reader(파일객체)"
   ]
  },
  {
   "cell_type": "code",
   "execution_count": null,
   "id": "479c3ef8",
   "metadata": {},
   "outputs": [],
   "source": []
  },
  {
   "cell_type": "code",
   "execution_count": null,
   "id": "f8303a99",
   "metadata": {},
   "outputs": [],
   "source": []
  }
 ],
 "metadata": {
  "kernelspec": {
   "display_name": "Python 3 (ipykernel)",
   "language": "python",
   "name": "python3"
  },
  "language_info": {
   "codemirror_mode": {
    "name": "ipython",
    "version": 3
   },
   "file_extension": ".py",
   "mimetype": "text/x-python",
   "name": "python",
   "nbconvert_exporter": "python",
   "pygments_lexer": "ipython3",
   "version": "3.9.12"
  },
  "toc": {
   "base_numbering": 1,
   "nav_menu": {},
   "number_sections": true,
   "sideBar": true,
   "skip_h1_title": false,
   "title_cell": "Table of Contents",
   "title_sidebar": "Contents",
   "toc_cell": false,
   "toc_position": {},
   "toc_section_display": true,
   "toc_window_display": false
  }
 },
 "nbformat": 4,
 "nbformat_minor": 5
}
