{
 "cells": [
  {
   "cell_type": "markdown",
   "id": "2a4cd669",
   "metadata": {},
   "source": [
    "# 파이썬 실행방법\n",
    "## 파이썬 대화형 인터프리터\n",
    "- Ctrl + z -> Enter / exit() / sys.exit()\n",
    "- 지난시간 배운내용\n",
    "- 마지막 결과는 무조건 print 로 보여진다"
   ]
  },
  {
   "cell_type": "code",
   "execution_count": 4,
   "id": "9c7d3a76",
   "metadata": {},
   "outputs": [
    {
     "data": {
      "text/plain": [
       "1.0"
      ]
     },
     "execution_count": 4,
     "metadata": {},
     "output_type": "execute_result"
    }
   ],
   "source": [
    "10 + 10\n",
    "10 - 10\n",
    "10 * 10\n",
    "10 / 10"
   ]
  },
  {
   "cell_type": "code",
   "execution_count": 6,
   "id": "73672c5e",
   "metadata": {},
   "outputs": [
    {
     "name": "stdout",
     "output_type": "stream",
     "text": [
      "20\n",
      "0\n",
      "100\n",
      "1.0\n"
     ]
    }
   ],
   "source": [
    "print(10+10)\n",
    "print(10-10)\n",
    "print(10*10)\n",
    "print(10/10)"
   ]
  },
  {
   "cell_type": "code",
   "execution_count": 7,
   "id": "2c4ef990",
   "metadata": {},
   "outputs": [
    {
     "name": "stdout",
     "output_type": "stream",
     "text": [
      "Hello World\n"
     ]
    }
   ],
   "source": [
    "print('Hello World')"
   ]
  },
  {
   "cell_type": "markdown",
   "id": "0d2a6053",
   "metadata": {},
   "source": [
    "## 파이썬 IDLE\n",
    "- IDLE(Integrated Development and Learning Environment) : 파이썬 프로그램 작성을 도와주는 통합 개발 환경\n",
    "- 새파일 열기\n",
    "- 줄번호 옵션 : [Options]-> [Show Line Numbers] \n",
    "- 저장 : [File] -> [Save] or Ctrl + S\n",
    "- 실행 : [Run]->[Run Module] or F5\n",
    "- 옵션 창에서 사이즈 조절"
   ]
  },
  {
   "cell_type": "code",
   "execution_count": 8,
   "id": "6dc83380",
   "metadata": {},
   "outputs": [
    {
     "data": {
      "text/plain": [
       "20"
      ]
     },
     "execution_count": 8,
     "metadata": {},
     "output_type": "execute_result"
    }
   ],
   "source": [
    "# 인터렉티브 셀\n",
    "10 + 10"
   ]
  },
  {
   "cell_type": "code",
   "execution_count": 9,
   "id": "b439e3ac",
   "metadata": {},
   "outputs": [
    {
     "name": "stdout",
     "output_type": "stream",
     "text": [
      "IDLE에서 파이썬 코드를\n",
      "작성해서 출력해보는\n",
      "예제\n"
     ]
    }
   ],
   "source": [
    "print('IDLE에서 파이썬 코드를')\n",
    "print('작성해서 출력해보는')\n",
    "print('예제')"
   ]
  },
  {
   "cell_type": "markdown",
   "id": "a278e818",
   "metadata": {},
   "source": [
    "# 출력하기\n",
    "- **print()** : 각종 자료를 출력해주는 함수\n",
    "- print() 구문 사이에 값을 넣으면, 바로 값이 출력 예) print(3)\n",
    "- print() 구문 사이에 변수이름을 넣으면, 변수 값이 출력"
   ]
  },
  {
   "cell_type": "markdown",
   "id": "befd3e4c",
   "metadata": {},
   "source": [
    "## 기본 출력\n",
    "* print(value1, value2, ..., )"
   ]
  },
  {
   "cell_type": "code",
   "execution_count": 10,
   "id": "28b939a6",
   "metadata": {
    "scrolled": false
   },
   "outputs": [
    {
     "name": "stdout",
     "output_type": "stream",
     "text": [
      "hello\n",
      "hello\n"
     ]
    }
   ],
   "source": [
    "# hello 출력하기\n",
    "print('hello')\n",
    "print(\"hello\")"
   ]
  },
  {
   "cell_type": "code",
   "execution_count": 11,
   "id": "1ab54b4c",
   "metadata": {
    "scrolled": true
   },
   "outputs": [
    {
     "name": "stdout",
     "output_type": "stream",
     "text": [
      "hello python\n"
     ]
    }
   ],
   "source": [
    "# hello, python 출력하기\n",
    "print('hello','python')"
   ]
  },
  {
   "cell_type": "code",
   "execution_count": 12,
   "id": "4d7c345d",
   "metadata": {
    "scrolled": false
   },
   "outputs": [
    {
     "name": "stdout",
     "output_type": "stream",
     "text": [
      "1+1= 2\n"
     ]
    }
   ],
   "source": [
    "# 계산식 출력하기 (1+1=2)\n",
    "print('1+1=',1+1)"
   ]
  },
  {
   "cell_type": "markdown",
   "id": "9b3f18a5",
   "metadata": {},
   "source": [
    "## 구분자 지정\n",
    "* print(value1, value2, ..., sep='구분자')"
   ]
  },
  {
   "cell_type": "code",
   "execution_count": 1,
   "id": "f2ea27d7",
   "metadata": {
    "scrolled": true
   },
   "outputs": [
    {
     "name": "stdout",
     "output_type": "stream",
     "text": [
      "hello.python\n"
     ]
    }
   ],
   "source": [
    "# ,로 구분 (hello,python)\n",
    "print('hello','python', sep='.')"
   ]
  },
  {
   "cell_type": "code",
   "execution_count": 4,
   "id": "559d303f",
   "metadata": {},
   "outputs": [
    {
     "name": "stdout",
     "output_type": "stream",
     "text": [
      "1 + 1 = 2\n"
     ]
    }
   ],
   "source": [
    "# 공백없이 붙여서 출력 (1+1=2)\n",
    "print('1 + 1 =',1+1,sep=' ')"
   ]
  },
  {
   "cell_type": "code",
   "execution_count": 20,
   "id": "c856bd31",
   "metadata": {},
   "outputs": [
    {
     "name": "stdout",
     "output_type": "stream",
     "text": [
      "hello******python\n"
     ]
    }
   ],
   "source": [
    "print('hello','python', sep='******')"
   ]
  },
  {
   "cell_type": "markdown",
   "id": "d10cb4b0",
   "metadata": {},
   "source": [
    "## 끝문자 지정\n",
    "* print(value1, value2, ..., end='끝문자')"
   ]
  },
  {
   "cell_type": "code",
   "execution_count": 25,
   "id": "73802f50",
   "metadata": {},
   "outputs": [
    {
     "name": "stdout",
     "output_type": "stream",
     "text": [
      "안녕하세요 반갑습니다\n"
     ]
    }
   ],
   "source": [
    "# 공백으로 끝내기 (안녕하세요 반갑습니다)\n",
    "print('안녕하세요', end=' ')\n",
    "print('반갑습니다')\n"
   ]
  },
  {
   "cell_type": "code",
   "execution_count": 1,
   "id": "27b5e0d3",
   "metadata": {
    "scrolled": true
   },
   "outputs": [
    {
     "name": "stdout",
     "output_type": "stream",
     "text": [
      "안녕하세요!!반갑습니다!!"
     ]
    }
   ],
   "source": [
    "# !!로 끝내기(안녕하세요!!반갑습니다!!)\n",
    "print('안녕하세요', end='!!')\n",
    "print('반갑습니다', end='!!')"
   ]
  },
  {
   "cell_type": "markdown",
   "id": "3e78b839",
   "metadata": {},
   "source": [
    "\n",
    "## 미니계산기만들기"
   ]
  },
  {
   "cell_type": "code",
   "execution_count": 26,
   "id": "9b567a68",
   "metadata": {},
   "outputs": [
    {
     "name": "stdout",
     "output_type": "stream",
     "text": [
      "100 + 50 = 150\n",
      "100 - 50 = 50\n",
      "100 * 50 = 5000\n",
      "100 / 50 = 2.0\n"
     ]
    }
   ],
   "source": [
    "# 미니계산기 0516_cal.py\n",
    "\n",
    "a = 100\n",
    "b = 50\n",
    "\n",
    "print(a, '+', b, '=', a+b)\n",
    "print(a, '-', b, '=', a-b)\n",
    "print(a, '*', b, '=', a*b)\n",
    "print(a, '/', b, '=', a/b)"
   ]
  },
  {
   "cell_type": "code",
   "execution_count": 31,
   "id": "d79985a7",
   "metadata": {},
   "outputs": [
    {
     "name": "stdout",
     "output_type": "stream",
     "text": [
      "첫번째 숫자 : 25\n",
      "두번째 숫자 : 45\n",
      "25 + 45 = 70\n",
      "25 - 45 = -20\n",
      "25 * 45 = 1125\n",
      "25 / 45 = 0.5555555555555556\n"
     ]
    }
   ],
   "source": [
    "# 미니계산기 0516_cal.py\n",
    "# 사용자 입력으로 받는법 \n",
    "a=int(input('첫번째 숫자 : ')) \n",
    "b=int(input('두번째 숫자 : '))\n",
    "\n",
    "print(a, '+', b, '=', a+b)\n",
    "print(a, '-', b, '=', a-b)\n",
    "print(a, '*', b, '=', a*b)\n",
    "print(a, '/', b, '=', a/b)"
   ]
  },
  {
   "cell_type": "markdown",
   "id": "5f474d34",
   "metadata": {},
   "source": [
    "## 여러 줄 한번에 출력하기\n",
    "\n",
    "* 홑따옴표 세개(''') 혹은 쌍따옴표 세개(\"\"\")로 묶는다.\n"
   ]
  },
  {
   "cell_type": "code",
   "execution_count": 32,
   "id": "9c14c538",
   "metadata": {
    "scrolled": true
   },
   "outputs": [
    {
     "name": "stdout",
     "output_type": "stream",
     "text": [
      "자세히 보아야 예쁘다.\n",
      "오래 보아야 사랑스럽다.\n",
      "너도 그렇다.\n"
     ]
    }
   ],
   "source": [
    "print('자세히 보아야 예쁘다.')\n",
    "print('오래 보아야 사랑스럽다.')\n",
    "print('너도 그렇다.')"
   ]
  },
  {
   "cell_type": "code",
   "execution_count": 33,
   "id": "9ae244f2",
   "metadata": {},
   "outputs": [
    {
     "name": "stdout",
     "output_type": "stream",
     "text": [
      "자세히 보아야 예쁘다.\n",
      "오래 보아야 사랑스럽다.\n",
      "너도 그렇다.\n"
     ]
    }
   ],
   "source": [
    "print('''자세히 보아야 예쁘다.\n",
    "오래 보아야 사랑스럽다.\n",
    "너도 그렇다.''')\n"
   ]
  },
  {
   "cell_type": "code",
   "execution_count": 35,
   "id": "7ad41ad9",
   "metadata": {},
   "outputs": [
    {
     "name": "stdout",
     "output_type": "stream",
     "text": [
      "자세히 보아야 예쁘다.\n",
      "오래 보아야 사랑스럽다.\n",
      "너도 그렇다.\n"
     ]
    }
   ],
   "source": [
    "print('자세히 보아야 예쁘다.\\n오래 보아야 사랑스럽다.\\n너도 그렇다.')\n"
   ]
  },
  {
   "cell_type": "markdown",
   "id": "ea7e2118",
   "metadata": {},
   "source": [
    "# 입력처리\n",
    "## input()\n",
    "- 사용자 입력값을 받을 수 있다. 입력 받는 값은 문자열(str)이다.\n",
    "- input으로 입력받은 값은 무조건 str. 정수로 사용하고 싶다면 int()사용\n",
    "- int(intput())"
   ]
  },
  {
   "cell_type": "code",
   "execution_count": 38,
   "id": "799e7275",
   "metadata": {},
   "outputs": [
    {
     "name": "stdout",
     "output_type": "stream",
     "text": [
      "\n",
      " <class 'str'>\n"
     ]
    }
   ],
   "source": [
    "a = input()\n",
    "print(a, type(a))"
   ]
  },
  {
   "cell_type": "code",
   "execution_count": 39,
   "id": "ffe1f494",
   "metadata": {},
   "outputs": [
    {
     "name": "stdout",
     "output_type": "stream",
     "text": [
      "이름 : rak\n",
      "나이 : 36\n",
      "이름은 rak 이고 나이는 36 세 입니다.\n"
     ]
    }
   ],
   "source": [
    "# 이름과 나이를 출력하는 프로그램 input() 0516_input.py\n",
    "\n",
    "name = input('이름 : ')\n",
    "age = input('나이 : ') # 숫자로 받고 싶으면 int()\n",
    "print('이름은',name,'이고 나이는', age, '세 입니다.')\n"
   ]
  },
  {
   "cell_type": "code",
   "execution_count": 41,
   "id": "2092bbbf",
   "metadata": {},
   "outputs": [
    {
     "name": "stdout",
     "output_type": "stream",
     "text": [
      "국어점수 : 11\n",
      "영어점수 : 11\n",
      "수학점수 : 11\n",
      "총점 :  33\n",
      "평균 :  11.0\n"
     ]
    }
   ],
   "source": [
    "# 시험성적 구하기\n",
    "kor = int(input('국어점수 : '))\n",
    "eng = int(input('영어점수 : '))\n",
    "math = int(input('수학점수 : '))\n",
    "\n",
    "total = kor + eng + math\n",
    "mean = total/3\n",
    "\n",
    "print('총점 : ', total)\n",
    "print('평균 : ', mean)"
   ]
  },
  {
   "cell_type": "markdown",
   "id": "b6ac1109",
   "metadata": {},
   "source": [
    "## 미니 계산기2"
   ]
  },
  {
   "cell_type": "code",
   "execution_count": 2,
   "id": "82ea0814",
   "metadata": {},
   "outputs": [
    {
     "name": "stdout",
     "output_type": "stream",
     "text": [
      "*******사칙연산 결과 입니다.*******\n",
      "50 + 60 = 110\n",
      "50 - 60 = -10\n",
      "50 * 60 = 3000\n",
      "50 / 60 = 몫 :  0 나머지 :  50\n"
     ]
    }
   ],
   "source": [
    "a = int(input('첫 번째 숫자 : '))\n",
    "b = int(input('두번째 숫자 : '))\n",
    "\n",
    "print('*******사칙연산 결과 입니다.*******')\n",
    "print(a, '+', b, '=', a+b)\n",
    "print(a, '-', b, '=', a-b)\n",
    "print(a, '*', b, '=', a*b)\n",
    "print(a, '/', b, '=', '몫 : ', a//b, '나머지 : ', a%b) "
   ]
  },
  {
   "cell_type": "markdown",
   "id": "aae556a5",
   "metadata": {},
   "source": [
    "# Comment(주석)\n",
    "- 코드에서 #으로 시작하는 뒷 부분은 실행되지 않음  \n",
    "- python이 소스코드를 실행하면서 #를 만나면 무시\n",
    "- 개발자(사람)가 보기 위한 용도로 사용"
   ]
  },
  {
   "cell_type": "code",
   "execution_count": null,
   "id": "7e1ae2bb",
   "metadata": {
    "scrolled": true
   },
   "outputs": [],
   "source": [
    "## 주석에 대한 코드입니다##\n",
    "print(1) # 주석\n",
    "#print(2)  \n",
    "print(3)"
   ]
  },
  {
   "cell_type": "code",
   "execution_count": 46,
   "id": "f0ca03c0",
   "metadata": {},
   "outputs": [],
   "source": [
    "#간단한 계산기 프로그램\n",
    "# a = 10\n",
    "# b = 20\n",
    "# print(a, '+', b, '=', a+b)\n",
    "# print(a, '-', b, '=', a-b)\n",
    "# print(a, '*', b, '=', a*b)\n",
    "# print(a, '/', b, '=', a/b)"
   ]
  },
  {
   "cell_type": "markdown",
   "id": "a23859bb",
   "metadata": {},
   "source": [
    "# indent(들여쓰기)\n",
    "- 파이썬에서는 들여쓰기 자체가 문법\n",
    "- 파이썬 들여쓰기 방법은 공백2칸, 공백4칸 등 여러가지 방법이 있지만 보통 공백 4칸을 사용\n",
    "- indent(들여쓰기)는 파이썬에서 굉장히 중요!! 단순히, 코드를 깔끔히 정리하기 위해서 들여쓰기를 하는 것은 아니다.\n",
    "- 본인이 맞게 코드를 짰다고 한다면, indent는 자동으로 적용.\n",
    "- [tab]키를 한 번 누르면 indent가 1번 한 효과."
   ]
  },
  {
   "cell_type": "code",
   "execution_count": 8,
   "id": "b0ee5746",
   "metadata": {
    "scrolled": true
   },
   "outputs": [
    {
     "name": "stdout",
     "output_type": "stream",
     "text": [
      "hello1\n",
      "hello2\n"
     ]
    }
   ],
   "source": [
    "print('hello1')\n",
    "print('hello2')"
   ]
  },
  {
   "cell_type": "code",
   "execution_count": 10,
   "id": "0716d931",
   "metadata": {},
   "outputs": [],
   "source": [
    "a = 3\n",
    "b =2"
   ]
  },
  {
   "cell_type": "markdown",
   "id": "21e8ad64",
   "metadata": {},
   "source": [
    "## 홀짝 프로그램"
   ]
  },
  {
   "cell_type": "code",
   "execution_count": 13,
   "id": "a7c0b063",
   "metadata": {},
   "outputs": [
    {
     "name": "stdout",
     "output_type": "stream",
     "text": [
      "4 은 짝수 입니다.\n",
      "파이썬은 들여쓰기가 중요합니다.\n"
     ]
    }
   ],
   "source": [
    "num = 4\n",
    "\n",
    "if num % 2 == 1 :\n",
    "    print(num, '은 홀수 입니다.')\n",
    "else : \n",
    "    print(num, '은 짝수 입니다.') \n",
    "    \n",
    "print('파이썬은 들여쓰기가 중요합니다.')\n"
   ]
  },
  {
   "cell_type": "markdown",
   "id": "a865ff27",
   "metadata": {},
   "source": [
    "# 오류 해석하기"
   ]
  },
  {
   "cell_type": "markdown",
   "id": "93954768",
   "metadata": {},
   "source": [
    "## 파이썬에서는 대소문자를 구분한다."
   ]
  },
  {
   "cell_type": "code",
   "execution_count": 3,
   "id": "f85d5dce",
   "metadata": {
    "scrolled": false
   },
   "outputs": [
    {
     "name": "stdout",
     "output_type": "stream",
     "text": [
      "hello\n"
     ]
    }
   ],
   "source": [
    "# Print('hello')\n",
    "print('hello')"
   ]
  },
  {
   "cell_type": "markdown",
   "id": "042086d2",
   "metadata": {},
   "source": [
    "## 따옴표의 짝이 맞아야 한다."
   ]
  },
  {
   "cell_type": "code",
   "execution_count": 4,
   "id": "ebd3fcf4",
   "metadata": {},
   "outputs": [
    {
     "name": "stdout",
     "output_type": "stream",
     "text": [
      "hello\n"
     ]
    }
   ],
   "source": [
    "# print('hello'')\n",
    "print('hello')"
   ]
  },
  {
   "cell_type": "markdown",
   "id": "40331128",
   "metadata": {},
   "source": [
    "## 괄호의 짝이 맞아야 한다."
   ]
  },
  {
   "cell_type": "code",
   "execution_count": 6,
   "id": "2dbe3b9d",
   "metadata": {
    "scrolled": true
   },
   "outputs": [
    {
     "name": "stdout",
     "output_type": "stream",
     "text": [
      "hello\n"
     ]
    }
   ],
   "source": [
    "# print('hello'}\n",
    "print('hello')"
   ]
  },
  {
   "cell_type": "markdown",
   "id": "1872b969",
   "metadata": {},
   "source": [
    "# 변수\n",
    "\n",
    "- 값이 변하는 수를 저장하는 그릇. 모든 프로그래밍 언어가 데이터를 다루기 위해 필요한 약속.\n",
    "\n",
    "- 프로그래밍 언어마다 조금씩 다르며, 어떤 프로그래밍 언어에 대해 배울 때 제일 먼저 익혀야 하는 필수 관문.\n",
    "\n",
    "- 변수라는 그릇에 정수를 담을 수도 있고, 긴 글을 담을 수도 있고, file을 담을 수도 있다. 우리가 재사용 하기 쉽게 **별명**을 지어준 것.\n",
    "\n",
    "- 변수에 데이터를 저장할 때는 <kbd>=</kbd>를 사용한다."
   ]
  },
  {
   "cell_type": "markdown",
   "id": "cebe1af8",
   "metadata": {},
   "source": [
    "## 변수에 값 할당하기\n",
    "* 변수명 = 변수값\n",
    "* 변수에 값이 할당될 때 변수값의 자료형에 따라 변수의 자료형이 결정된다."
   ]
  },
  {
   "cell_type": "code",
   "execution_count": 21,
   "id": "19694345",
   "metadata": {},
   "outputs": [
    {
     "name": "stdout",
     "output_type": "stream",
     "text": [
      "james <class 'str'>\n",
      "20 <class 'int'>\n",
      "175.0 <class 'float'>\n",
      "False <class 'bool'>\n"
     ]
    }
   ],
   "source": [
    "name = 'james'\n",
    "age = 20\n",
    "height = 175.0\n",
    "ischild = age<20\n",
    "print(name, type(name))\n",
    "print(age, type(age))\n",
    "print(height, type(height))\n",
    "print(ischild, type(ischild))"
   ]
  },
  {
   "cell_type": "markdown",
   "id": "9876e77e",
   "metadata": {},
   "source": [
    "## 변수 만들기\n",
    "- 변수의 이름 : 알파벳(대소문자), 한글도 가능"
   ]
  },
  {
   "cell_type": "code",
   "execution_count": null,
   "id": "bbfe47d3",
   "metadata": {},
   "outputs": [],
   "source": [
    "a = 'real'"
   ]
  },
  {
   "cell_type": "code",
   "execution_count": null,
   "id": "fbf75d49",
   "metadata": {},
   "outputs": [],
   "source": [
    "b = int(3)"
   ]
  },
  {
   "cell_type": "code",
   "execution_count": null,
   "id": "32eb29f6",
   "metadata": {},
   "outputs": [],
   "source": [
    "c = str('num')"
   ]
  },
  {
   "cell_type": "markdown",
   "id": "08535104",
   "metadata": {},
   "source": [
    "- 알파벳 + 숫자 (가능)"
   ]
  },
  {
   "cell_type": "code",
   "execution_count": null,
   "id": "6067d95d",
   "metadata": {},
   "outputs": [],
   "source": [
    "a1 = 'a1'"
   ]
  },
  {
   "cell_type": "markdown",
   "id": "942aed1e",
   "metadata": {},
   "source": [
    "- 알파벳 + 언더바_(가능)"
   ]
  },
  {
   "cell_type": "code",
   "execution_count": null,
   "id": "884d6e41",
   "metadata": {},
   "outputs": [],
   "source": [
    "a_ = 'a_'"
   ]
  },
  {
   "cell_type": "markdown",
   "id": "b9706685",
   "metadata": {},
   "source": [
    "- 언더바_ + 알파벳 (가능)  "
   ]
  },
  {
   "cell_type": "code",
   "execution_count": null,
   "id": "2f966c6a",
   "metadata": {},
   "outputs": [],
   "source": [
    "_a = '_a'"
   ]
  },
  {
   "cell_type": "markdown",
   "id": "eabfde93",
   "metadata": {},
   "source": [
    "- 숫자 + 알파벳 (불가능)"
   ]
  },
  {
   "cell_type": "code",
   "execution_count": null,
   "id": "54ecafaf",
   "metadata": {},
   "outputs": [],
   "source": [
    "# 1a = '1a' 안된다"
   ]
  },
  {
   "cell_type": "markdown",
   "id": "0af5598c",
   "metadata": {},
   "source": [
    "- 언더바를 제외한 특수문자(불가능)"
   ]
  },
  {
   "cell_type": "code",
   "execution_count": null,
   "id": "217fa6ba",
   "metadata": {},
   "outputs": [],
   "source": [
    "# %a = %a 안됨"
   ]
  },
  {
   "cell_type": "markdown",
   "id": "37f6c3c2",
   "metadata": {},
   "source": [
    "-  변수 이름 사이에 공백 (불가능)"
   ]
  },
  {
   "cell_type": "code",
   "execution_count": null,
   "id": "b956b74b",
   "metadata": {},
   "outputs": [],
   "source": [
    "# a b = 'a b' 안됨"
   ]
  },
  {
   "cell_type": "markdown",
   "id": "24621377",
   "metadata": {},
   "source": [
    "- 주로 변수는 **소문자 알파벳으로 생성**하고, 필요시에 숫자를 붙히는 방식이 일반적"
   ]
  },
  {
   "cell_type": "code",
   "execution_count": 1,
   "id": "3711efdb",
   "metadata": {},
   "outputs": [
    {
     "name": "stdout",
     "output_type": "stream",
     "text": [
      "30\n",
      "Hello\n"
     ]
    }
   ],
   "source": [
    "test = 10\n",
    "test01 = 20\n",
    "print(test+test01)\n",
    "\n",
    "test = 'Hello'\n",
    "print(test)\n"
   ]
  },
  {
   "cell_type": "markdown",
   "id": "2ef34159",
   "metadata": {},
   "source": [
    "## 변수 값, 자료형 출력하기\n",
    "- 변수값 출력 : print(변수명)\n",
    "- 변수자료형 출력 : print(type(변수명))"
   ]
  },
  {
   "cell_type": "code",
   "execution_count": null,
   "id": "460ae4e9",
   "metadata": {},
   "outputs": [],
   "source": [
    "print(name)\n",
    "print(type(name))"
   ]
  },
  {
   "cell_type": "code",
   "execution_count": 11,
   "id": "967a54a3",
   "metadata": {},
   "outputs": [
    {
     "name": "stdout",
     "output_type": "stream",
     "text": [
      "<class 'int'>\n",
      "1\n"
     ]
    }
   ],
   "source": [
    "num = 1\n",
    "print (type(num))\n",
    "print (num)\n"
   ]
  },
  {
   "cell_type": "markdown",
   "id": "b5b7b454",
   "metadata": {},
   "source": [
    "# 조건문(if~else)\n",
    "- 들여쓰기!!\n",
    "- if <조건식 : "
   ]
  },
  {
   "cell_type": "code",
   "execution_count": 2,
   "id": "6728670b",
   "metadata": {},
   "outputs": [
    {
     "name": "stdout",
     "output_type": "stream",
     "text": [
      "99 는 100 보다 작습니다.\n"
     ]
    }
   ],
   "source": [
    "a = 99\n",
    "\n",
    "if a < 100 :\n",
    "    print(a, '는 100 보다 작습니다.')\n",
    "else :\n",
    "    print(a, '는 100보다 같거다 큽니다.')"
   ]
  },
  {
   "cell_type": "code",
   "execution_count": 3,
   "id": "ef14e121",
   "metadata": {},
   "outputs": [
    {
     "name": "stdout",
     "output_type": "stream",
     "text": [
      "숫자를 입력하세요 : 5\n",
      "5 은 홀수 입니다.\n"
     ]
    }
   ],
   "source": [
    "#  홀짝 프로그램\n",
    "num = int(input('숫자를 입력하세요 : '))\n",
    "\n",
    "if num % 2 == 1 :\n",
    "    print(num, '은 홀수 입니다.')\n",
    "else : \n",
    "    print(num, '은 짝수 입니다.')"
   ]
  },
  {
   "cell_type": "code",
   "execution_count": 24,
   "id": "8b050385",
   "metadata": {},
   "outputs": [
    {
     "name": "stdout",
     "output_type": "stream",
     "text": [
      "점수를 입력하세요 :89\n",
      "B 학점입니다\n"
     ]
    }
   ],
   "source": [
    "# 점수에 따라 학점 출력하기\n",
    "# 90 >= : A, 80 >= : B, 70>= : C, 60 >= : D, 60 < :F\n",
    "\n",
    "jumsu = int(input('점수를 입력하세요 :')) \n",
    "grade = ''\n",
    "\n",
    "if jumsu >=90 :\n",
    "    grade = 'A'\n",
    "elif jumsu >=80 :\n",
    "    grade = 'B'\n",
    "elif jumsu >=70 :\n",
    "    grade = 'C'\n",
    "elif jumsu >=60 :\n",
    "    grade = 'D'\n",
    "else : \n",
    "    grade = 'F'\n",
    "    \n",
    "print(grade,'학점입니다')"
   ]
  },
  {
   "cell_type": "markdown",
   "id": "cd5eac2f",
   "metadata": {},
   "source": [
    "# 반복문 for\n",
    "- for 변수 in range(시작값, 반복횟수+1, 증가값) :\n"
   ]
  },
  {
   "cell_type": "code",
   "execution_count": null,
   "id": "8003b4e2",
   "metadata": {},
   "outputs": [],
   "source": [
    "# 1부터 10 합 구하기\n",
    "sum = 0\n",
    "\n",
    "for i in range (1, 10+1, 1) : \n",
    "        sum = sum + i\n",
    "\n",
    "print(sum)"
   ]
  },
  {
   "cell_type": "code",
   "execution_count": 28,
   "id": "96bdb8e5",
   "metadata": {},
   "outputs": [
    {
     "name": "stdout",
     "output_type": "stream",
     "text": [
      "2500\n"
     ]
    }
   ],
   "source": [
    "# 1부터 100까지 홀수의 합\n",
    "sum = 0\n",
    "\n",
    "for i in range (1, 100+1, 2) : \n",
    "        sum = sum + i\n",
    "\n",
    "print(sum)"
   ]
  },
  {
   "cell_type": "code",
   "execution_count": 36,
   "id": "0b4d2162",
   "metadata": {},
   "outputs": [
    {
     "name": "stdout",
     "output_type": "stream",
     "text": [
      "************************\n",
      "2 단\n",
      "2 * 1 = 2\n",
      "2 * 2 = 4\n",
      "2 * 3 = 6\n",
      "2 * 4 = 8\n",
      "2 * 5 = 10\n",
      "2 * 6 = 12\n",
      "2 * 7 = 14\n",
      "2 * 8 = 16\n",
      "2 * 9 = 18\n",
      "************************\n",
      "3 단\n",
      "3 * 1 = 3\n",
      "3 * 2 = 6\n",
      "3 * 3 = 9\n",
      "3 * 4 = 12\n",
      "3 * 5 = 15\n",
      "3 * 6 = 18\n",
      "3 * 7 = 21\n",
      "3 * 8 = 24\n",
      "3 * 9 = 27\n",
      "************************\n",
      "4 단\n",
      "4 * 1 = 4\n",
      "4 * 2 = 8\n",
      "4 * 3 = 12\n",
      "4 * 4 = 16\n",
      "4 * 5 = 20\n",
      "4 * 6 = 24\n",
      "4 * 7 = 28\n",
      "4 * 8 = 32\n",
      "4 * 9 = 36\n",
      "************************\n",
      "5 단\n",
      "5 * 1 = 5\n",
      "5 * 2 = 10\n",
      "5 * 3 = 15\n",
      "5 * 4 = 20\n",
      "5 * 5 = 25\n",
      "5 * 6 = 30\n",
      "5 * 7 = 35\n",
      "5 * 8 = 40\n",
      "5 * 9 = 45\n",
      "************************\n",
      "6 단\n",
      "6 * 1 = 6\n",
      "6 * 2 = 12\n",
      "6 * 3 = 18\n",
      "6 * 4 = 24\n",
      "6 * 5 = 30\n",
      "6 * 6 = 36\n",
      "6 * 7 = 42\n",
      "6 * 8 = 48\n",
      "6 * 9 = 54\n",
      "************************\n",
      "7 단\n",
      "7 * 1 = 7\n",
      "7 * 2 = 14\n",
      "7 * 3 = 21\n",
      "7 * 4 = 28\n",
      "7 * 5 = 35\n",
      "7 * 6 = 42\n",
      "7 * 7 = 49\n",
      "7 * 8 = 56\n",
      "7 * 9 = 63\n",
      "************************\n",
      "8 단\n",
      "8 * 1 = 8\n",
      "8 * 2 = 16\n",
      "8 * 3 = 24\n",
      "8 * 4 = 32\n",
      "8 * 5 = 40\n",
      "8 * 6 = 48\n",
      "8 * 7 = 56\n",
      "8 * 8 = 64\n",
      "8 * 9 = 72\n",
      "************************\n",
      "9 단\n",
      "9 * 1 = 9\n",
      "9 * 2 = 18\n",
      "9 * 3 = 27\n",
      "9 * 4 = 36\n",
      "9 * 5 = 45\n",
      "9 * 6 = 54\n",
      "9 * 7 = 63\n",
      "9 * 8 = 72\n",
      "9 * 9 = 81\n"
     ]
    }
   ],
   "source": [
    "# 구구단(i*j)\n",
    "# i=2~9단\n",
    "# j=1~9\n",
    "for i in range (2, 10, 1) :\n",
    "    print('************************')\n",
    "    print(i,'단')\n",
    "    for j in range (1,10, 1) :\n",
    "        print(i,'*',j,'=', i*j)"
   ]
  },
  {
   "cell_type": "code",
   "execution_count": 47,
   "id": "23ae71a2",
   "metadata": {
    "scrolled": true
   },
   "outputs": [
    {
     "name": "stdout",
     "output_type": "stream",
     "text": [
      "************************\n",
      "9 단\n",
      "9 * 9 = 81\n",
      "9 * 8 = 72\n",
      "9 * 7 = 63\n",
      "9 * 6 = 54\n",
      "9 * 5 = 45\n",
      "9 * 4 = 36\n",
      "9 * 3 = 27\n",
      "9 * 2 = 18\n",
      "9 * 1 = 9\n",
      "************************\n",
      "8 단\n",
      "8 * 9 = 72\n",
      "8 * 8 = 64\n",
      "8 * 7 = 56\n",
      "8 * 6 = 48\n",
      "8 * 5 = 40\n",
      "8 * 4 = 32\n",
      "8 * 3 = 24\n",
      "8 * 2 = 16\n",
      "8 * 1 = 8\n",
      "************************\n",
      "7 단\n",
      "7 * 9 = 63\n",
      "7 * 8 = 56\n",
      "7 * 7 = 49\n",
      "7 * 6 = 42\n",
      "7 * 5 = 35\n",
      "7 * 4 = 28\n",
      "7 * 3 = 21\n",
      "7 * 2 = 14\n",
      "7 * 1 = 7\n",
      "************************\n",
      "6 단\n",
      "6 * 9 = 54\n",
      "6 * 8 = 48\n",
      "6 * 7 = 42\n",
      "6 * 6 = 36\n",
      "6 * 5 = 30\n",
      "6 * 4 = 24\n",
      "6 * 3 = 18\n",
      "6 * 2 = 12\n",
      "6 * 1 = 6\n",
      "************************\n",
      "5 단\n",
      "5 * 9 = 45\n",
      "5 * 8 = 40\n",
      "5 * 7 = 35\n",
      "5 * 6 = 30\n",
      "5 * 5 = 25\n",
      "5 * 4 = 20\n",
      "5 * 3 = 15\n",
      "5 * 2 = 10\n",
      "5 * 1 = 5\n",
      "************************\n",
      "4 단\n",
      "4 * 9 = 36\n",
      "4 * 8 = 32\n",
      "4 * 7 = 28\n",
      "4 * 6 = 24\n",
      "4 * 5 = 20\n",
      "4 * 4 = 16\n",
      "4 * 3 = 12\n",
      "4 * 2 = 8\n",
      "4 * 1 = 4\n",
      "************************\n",
      "3 단\n",
      "3 * 9 = 27\n",
      "3 * 8 = 24\n",
      "3 * 7 = 21\n",
      "3 * 6 = 18\n",
      "3 * 5 = 15\n",
      "3 * 4 = 12\n",
      "3 * 3 = 9\n",
      "3 * 2 = 6\n",
      "3 * 1 = 3\n",
      "************************\n",
      "2 단\n",
      "2 * 9 = 18\n",
      "2 * 8 = 16\n",
      "2 * 7 = 14\n",
      "2 * 6 = 12\n",
      "2 * 5 = 10\n",
      "2 * 4 = 8\n",
      "2 * 3 = 6\n",
      "2 * 2 = 4\n",
      "2 * 1 = 2\n"
     ]
    }
   ],
   "source": [
    "# 구구단2 : 구구단을 거꾸로 출력하기\n",
    "# i=2~9단\n",
    "# j=1~9\n",
    "for i in range (9 ,1,-1) :\n",
    "    print('************************')\n",
    "    print(i,'단')\n",
    "    for j in range (9,0,-1) :\n",
    "        print(i,'*',j,'=', i*j)"
   ]
  }
 ],
 "metadata": {
  "interpreter": {
   "hash": "cf2895c1b3a18e0def21936cd98875861a3ee719675c3d36eca611e8cdcb3203"
  },
  "kernelspec": {
   "display_name": "Python 3.10.4 64-bit",
   "language": "python",
   "name": "python3"
  },
  "language_info": {
   "codemirror_mode": {
    "name": "ipython",
    "version": 3
   },
   "file_extension": ".py",
   "mimetype": "text/x-python",
   "name": "python",
   "nbconvert_exporter": "python",
   "pygments_lexer": "ipython3",
   "version": "3.10.4"
  },
  "toc": {
   "base_numbering": 1,
   "nav_menu": {},
   "number_sections": true,
   "sideBar": true,
   "skip_h1_title": false,
   "title_cell": "Table of Contents",
   "title_sidebar": "Contents",
   "toc_cell": false,
   "toc_position": {
    "height": "calc(100% - 180px)",
    "left": "10px",
    "top": "150px",
    "width": "283px"
   },
   "toc_section_display": true,
   "toc_window_display": true
  }
 },
 "nbformat": 4,
 "nbformat_minor": 5
}
