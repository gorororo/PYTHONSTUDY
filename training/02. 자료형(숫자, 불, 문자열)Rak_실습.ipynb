{
 "cells": [
  {
   "cell_type": "markdown",
   "id": "5e3f9b41",
   "metadata": {},
   "source": [
    "**Data type(자료형) 이란**"
   ]
  },
  {
   "cell_type": "markdown",
   "id": "b592c49d",
   "metadata": {},
   "source": [
    "- 모든 프로그래밍 언어가 데이터를 다루기 위해 필요한 약속.\n",
    "- 프로그래밍 언어마다 조금씩 다르며, 어떤 프로그래밍 언어에 대해 배울 때 제일 먼저 익혀야 하는 필수 관문.\n",
    "- 프로그래밍 언어에서는 변수(Variable)에서 데이터를 저장/관리 하며 변수에 대한 개념을 통해 데이터를 사용할 수 있다.\n",
    "- type() 함수를 통해 데이터의 타입을 알수 있다."
   ]
  },
  {
   "cell_type": "markdown",
   "id": "6b4b43e7",
   "metadata": {},
   "source": [
    "# 숫자 데이터 (Numeric Data Types)"
   ]
  },
  {
   "cell_type": "markdown",
   "id": "e51fdac6",
   "metadata": {},
   "source": [
    "- 숫자형 데이터란, 정수/실수/복소수/2진수/8진수/16진수를 포함하며 가장 많이 사용하는 데이터 타입중에 하나다.\n",
    "- 숫자 데이터는 우리가 알고 있는 대부분의 연산을 그대로 지원한다. 사칙연산, 나머지 구하기, 몫 구하기, 거듭제곱 등"
   ]
  },
  {
   "cell_type": "markdown",
   "id": "921b37b8",
   "metadata": {},
   "source": [
    "## 정수형 (Int) "
   ]
  },
  {
   "cell_type": "code",
   "execution_count": 1,
   "id": "89cf53b9",
   "metadata": {},
   "outputs": [
    {
     "data": {
      "text/plain": [
       "2"
      ]
     },
     "execution_count": 1,
     "metadata": {},
     "output_type": "execute_result"
    }
   ],
   "source": [
    "1+1"
   ]
  },
  {
   "cell_type": "code",
   "execution_count": 2,
   "id": "3c650e78",
   "metadata": {},
   "outputs": [
    {
     "data": {
      "text/plain": [
       "int"
      ]
     },
     "execution_count": 2,
     "metadata": {},
     "output_type": "execute_result"
    }
   ],
   "source": [
    "a = 10\n",
    "b = 6\n",
    "\n",
    "a+b\n",
    "type(a)"
   ]
  },
  {
   "cell_type": "code",
   "execution_count": 10,
   "id": "947b53bb",
   "metadata": {},
   "outputs": [
    {
     "name": "stdout",
     "output_type": "stream",
     "text": [
      "asms 거짓\n"
     ]
    }
   ],
   "source": [
    "# 1 은 참, 0은 거짓으로 취급\n",
    "a = 0\n",
    "if a  :\n",
    "    print('a는 참')\n",
    "else :\n",
    "    print('asms 거짓')\n"
   ]
  },
  {
   "cell_type": "markdown",
   "id": "6317bdbd",
   "metadata": {},
   "source": [
    "## 실수형 (float)"
   ]
  },
  {
   "cell_type": "code",
   "execution_count": 11,
   "id": "482a84cf",
   "metadata": {},
   "outputs": [
    {
     "data": {
      "text/plain": [
       "float"
      ]
     },
     "execution_count": 11,
     "metadata": {},
     "output_type": "execute_result"
    }
   ],
   "source": [
    "c = 3.14\n",
    "c\n",
    "type(c)"
   ]
  },
  {
   "cell_type": "code",
   "execution_count": 12,
   "id": "0b9afe20",
   "metadata": {},
   "outputs": [
    {
     "data": {
      "text/plain": [
       "6.28"
      ]
     },
     "execution_count": 12,
     "metadata": {},
     "output_type": "execute_result"
    }
   ],
   "source": [
    "c + 3.14"
   ]
  },
  {
   "cell_type": "code",
   "execution_count": 13,
   "id": "78d14d3f",
   "metadata": {},
   "outputs": [
    {
     "data": {
      "text/plain": [
       "-0.8599999999999999"
      ]
     },
     "execution_count": 13,
     "metadata": {},
     "output_type": "execute_result"
    }
   ],
   "source": [
    "d = 4\n",
    "c - d"
   ]
  },
  {
   "cell_type": "code",
   "execution_count": 28,
   "id": "cce40bd1",
   "metadata": {
    "scrolled": true
   },
   "outputs": [],
   "source": [
    "pi = 3.14 #원주율\n",
    "r = 10   #반지름\n",
    "\n",
    "# 원의 둘래 :2*pi*r\n",
    "# 원의 반지름 : pi*r*r\n",
    "# 원주율, 반지름, 원의 둘레 , 원의 넓이\n"
   ]
  },
  {
   "cell_type": "markdown",
   "id": "122b1e7f",
   "metadata": {},
   "source": [
    "# 불형(bool)\n",
    "- 참(True)이나 거짓(False)만 저장, 논리형이라고 한다."
   ]
  },
  {
   "cell_type": "code",
   "execution_count": 31,
   "id": "7f94cc73",
   "metadata": {},
   "outputs": [
    {
     "data": {
      "text/plain": [
       "bool"
      ]
     },
     "execution_count": 31,
     "metadata": {},
     "output_type": "execute_result"
    }
   ],
   "source": [
    "a = True\n",
    "type(a)"
   ]
  },
  {
   "cell_type": "code",
   "execution_count": 30,
   "id": "3a511726",
   "metadata": {},
   "outputs": [
    {
     "data": {
      "text/plain": [
       "True"
      ]
     },
     "execution_count": 30,
     "metadata": {},
     "output_type": "execute_result"
    }
   ],
   "source": [
    "0 == False"
   ]
  },
  {
   "cell_type": "code",
   "execution_count": 29,
   "id": "0fda507e",
   "metadata": {},
   "outputs": [
    {
     "data": {
      "text/plain": [
       "True"
      ]
     },
     "execution_count": 29,
     "metadata": {},
     "output_type": "execute_result"
    }
   ],
   "source": [
    "2>1"
   ]
  },
  {
   "cell_type": "markdown",
   "id": "52391ffe",
   "metadata": {},
   "source": [
    "# 문자열(str)"
   ]
  },
  {
   "cell_type": "markdown",
   "id": "129c8e9c",
   "metadata": {},
   "source": [
    "- 문자열 데이터란, 문자(character)의 나열을 의미한다. e.g. \"Hello world\"\n",
    "- <kbd>'</kbd>와 <kbd>\"</kbd> 두 가지의 기호를 통해 문자열을 나타낸다. 즉 ' 부터 ' 까지 또는 \" 부터 \" 까지 하나의 문자열이다."
   ]
  },
  {
   "cell_type": "markdown",
   "id": "0cdccb41",
   "metadata": {},
   "source": [
    "## 특수 문자 표현 (escape code) \n",
    "- 프로그래밍 할 때 사용할 수 있도록 미리 정의해 둔 '문자조합'\n",
    "- 주로 출력물을 보기 좋게 정렬하는 용도로 사용\n",
    "\n",
    "| 코드 | <center>설명</center>|\n",
    "| --- | :--- |\n",
    "| \\n | 문자열 안에서 줄을 바꿀 때 사용 |\n",
    "| \\t | 문자열 안에서 탭 간격을 줄 때 사용 |\n",
    "| \\\\', \\\\\" | 작은 따옴표('), 큰 따옴표(\")를 그대로 표현할 때 사용 |\n",
    "| \\\\\\ | 문자 \\를 그대로 표현할때 사용 |\n",
    "| \\b | 백스페이스 |"
   ]
  },
  {
   "cell_type": "code",
   "execution_count": 37,
   "id": "72eaaf8f",
   "metadata": {},
   "outputs": [
    {
     "name": "stdout",
     "output_type": "stream",
     "text": [
      "hellow\"tworld\n"
     ]
    }
   ],
   "source": [
    "print('hellow\\\"tworld')"
   ]
  },
  {
   "cell_type": "code",
   "execution_count": 40,
   "id": "a7ee79ae",
   "metadata": {},
   "outputs": [
    {
     "name": "stdout",
     "output_type": "stream",
     "text": [
      " 동해물과 백두산이 마르고 닳도록 \n",
      " 하느님이 보우하사 우리나라 만세 \n",
      " 무궁화 삼천리 화려강산 \n",
      " 대한사람 대한으로 길이 보전하세\n"
     ]
    }
   ],
   "source": [
    "print(\" 동해물과 백두산이 마르고 닳도록 \\n 하느님이 보우하사 우리나라 만세 \\n 무궁화 삼천리 화려강산 \\n 대한사람 대한으로 길이 보전하세\")"
   ]
  },
  {
   "cell_type": "code",
   "execution_count": 43,
   "id": "efb56506",
   "metadata": {},
   "outputs": [
    {
     "name": "stdout",
     "output_type": "stream",
     "text": [
      " 동해물과 백두산이 마르고 닳도록 \n",
      " 하느님이 보우하사 우리나라 만세 \n",
      " 무궁화 삼천리 화려강산 \n",
      " 대한사람 대한으로 길이 보전하세\n"
     ]
    }
   ],
   "source": [
    "print(''' 동해물과 백두산이 마르고 닳도록 \n",
    " 하느님이 보우하사 우리나라 만세 \n",
    " 무궁화 삼천리 화려강산 \n",
    " 대한사람 대한으로 길이 보전하세''')"
   ]
  },
  {
   "cell_type": "code",
   "execution_count": 56,
   "id": "b1b1165f",
   "metadata": {},
   "outputs": [
    {
     "name": "stdout",
     "output_type": "stream",
     "text": [
      "'안녕하세요'라고 말했습니다.\n",
      "\"배가 고픕니다\"라고 생각했습니다.\n"
     ]
    }
   ],
   "source": [
    "#'안녕하세요'라고 말했습니다.\n",
    "# \"배가 고픕니다\"라고 생각했습니다.\n",
    "print('\\'안녕하세요\\'라고 말했습니다.')\n",
    "print('\\\"배가 고픕니다\\\"라고 생각했습니다.')\n"
   ]
  },
  {
   "cell_type": "code",
   "execution_count": 52,
   "id": "f7cbed95",
   "metadata": {},
   "outputs": [
    {
     "name": "stdout",
     "output_type": "stream",
     "text": [
      "'안녕하세요'라고 말했습니다.\n",
      "\"배가 고픕니다\"라고 생각했습니다.\n"
     ]
    }
   ],
   "source": [
    "s1=(\"'안녕하세요'라고 말했습니다.\")\n",
    "s2=('\"배가 고픕니다\"라고 생각했습니다.')\n",
    "print(s1)\n",
    "print(s2)"
   ]
  },
  {
   "cell_type": "code",
   "execution_count": 57,
   "id": "b62d52d8",
   "metadata": {},
   "outputs": [
    {
     "name": "stdout",
     "output_type": "stream",
     "text": [
      "I'm a boy.\n",
      "\"Python is very easy.\" he says.\n"
     ]
    }
   ],
   "source": [
    "# 아래 s3와 s4를 문자열로 만들어서 출력해봅시다.\n",
    "s3 = \"I'm a boy.\"\n",
    "s4 = '\"Python is very easy.\" he says.'\n",
    "print(s3)\n",
    "print(s4)"
   ]
  },
  {
   "cell_type": "code",
   "execution_count": null,
   "id": "9b95edd3",
   "metadata": {},
   "outputs": [],
   "source": [
    "# 아래 s3와 s4를 문자열로 만들어서 출력해봅시다.\n"
   ]
  },
  {
   "cell_type": "markdown",
   "id": "7ef14523",
   "metadata": {},
   "source": [
    "## 문자열 연산\n",
    "- 문자열 연결 연산자 : +\n",
    "- 문자열 반복 연산자 : *"
   ]
  },
  {
   "cell_type": "code",
   "execution_count": 62,
   "id": "97d2a107",
   "metadata": {},
   "outputs": [
    {
     "data": {
      "text/plain": [
       "'Hello World'"
      ]
     },
     "execution_count": 62,
     "metadata": {},
     "output_type": "execute_result"
    }
   ],
   "source": [
    "s1 = \"Hello\"\n",
    "s2 = \"World\"\n",
    "se3 = s1 +' '+ s2 # 가운데 빈 칸을 넣고 싶을 땐 어떻게 해야할까?\n",
    "se3\n",
    "\n"
   ]
  },
  {
   "cell_type": "code",
   "execution_count": 67,
   "id": "5172f569",
   "metadata": {
    "scrolled": true
   },
   "outputs": [
    {
     "name": "stdout",
     "output_type": "stream",
     "text": [
      "==============================\n",
      "Life is short\n",
      "Life is shortYou need python\n",
      "==============================\n"
     ]
    }
   ],
   "source": [
    "s2 = \"=\"\n",
    "print(s2*30)\n",
    "print(\"Life is short\")\n",
    "print(\"Life is short\"+\"You need python\")\n",
    "print(s2*30)"
   ]
  },
  {
   "cell_type": "markdown",
   "id": "65d703b1",
   "metadata": {},
   "source": [
    "## 문자열 인덱싱\n",
    "\n",
    "\n",
    "| H | e | l | l | o |   | W | o | r | l | d |\n",
    "| ---- | ---- | ---- | ---- | ---- | ---- | ---- | ---- |---- | ---- | ---- |\n",
    "|  [0] |  [1] |  [2] |  [3] |  [4] |  [5] |  [6] |  [7] | [8] |  [9] | [10] |\n",
    "|  [-11] |  [-10] |  [-9] |  [-8] |  [-7] |  [-6] |  [-5] |  [-4] | [-3] |  [-2] | [-1] |"
   ]
  },
  {
   "cell_type": "code",
   "execution_count": 74,
   "id": "a12689d5",
   "metadata": {
    "scrolled": true
   },
   "outputs": [
    {
     "name": "stdout",
     "output_type": "stream",
     "text": [
      "H l o\n"
     ]
    },
    {
     "data": {
      "text/plain": [
       "11"
      ]
     },
     "execution_count": 74,
     "metadata": {},
     "output_type": "execute_result"
    }
   ],
   "source": [
    "s3 = 'Hello World'\n",
    "print(s3[0], s3[3], s3[7])\n",
    "len(s3)"
   ]
  },
  {
   "cell_type": "code",
   "execution_count": 80,
   "id": "509daaf6",
   "metadata": {},
   "outputs": [
    {
     "name": "stdout",
     "output_type": "stream",
     "text": [
      "d H l\n"
     ]
    }
   ],
   "source": [
    "print(s3[-1], s3[-11], s3[-2])"
   ]
  },
  {
   "cell_type": "markdown",
   "id": "304bb09f",
   "metadata": {},
   "source": [
    "* 범위 밖의 인덱스를 사용하면?"
   ]
  },
  {
   "cell_type": "code",
   "execution_count": 78,
   "id": "eb1c23b8",
   "metadata": {
    "scrolled": true
   },
   "outputs": [],
   "source": [
    "a = 'Hello World'"
   ]
  },
  {
   "cell_type": "code",
   "execution_count": null,
   "id": "356fb8cb",
   "metadata": {},
   "outputs": [],
   "source": []
  },
  {
   "cell_type": "markdown",
   "id": "f9df4bce",
   "metadata": {},
   "source": [
    "**연습문제1) 문자열을 입력 받아서 거꾸로 출력하는 프로그램**"
   ]
  },
  {
   "cell_type": "code",
   "execution_count": 90,
   "id": "c68e61b5",
   "metadata": {},
   "outputs": [
    {
     "name": "stdout",
     "output_type": "stream",
     "text": [
      "\n",
      "dlrow olleh"
     ]
    }
   ],
   "source": [
    "# 문자열을 입력 받아서 거꾸로 출력하는 프로그램\n",
    "# 입력 : 문자열\n",
    "# 처리 : for(문자[-1],-len(문자),-1) \n",
    "# 출력 : 문자열을 거꾸로 출력\n",
    "# a='hello world'\n",
    "# b=len(a)\n",
    "# for i in range (-1,-(b+1),-1):\n",
    "#     print(a[i])\n",
    "\n",
    "#양수 인덱스\n",
    "a = 'hello world'\n",
    "b = len(a)\n",
    "\n",
    "print()\n",
    "for i in range(b-1,-1,-1):\n",
    "            print(a[i], end='')"
   ]
  },
  {
   "cell_type": "markdown",
   "id": "205b6001",
   "metadata": {},
   "source": [
    "## 문자열 슬라이싱\n",
    "- 원하는 문자만 자를 수 있는 기능\n",
    "- 문자열[시작인덱스:끝나는 인덱스:증가값]"
   ]
  },
  {
   "cell_type": "markdown",
   "id": "eebe3471",
   "metadata": {},
   "source": [
    "### 양수 인덱스로 슬라이싱"
   ]
  },
  {
   "cell_type": "code",
   "execution_count": 93,
   "id": "d20f58a1",
   "metadata": {},
   "outputs": [
    {
     "name": "stdout",
     "output_type": "stream",
     "text": [
      "Hello World\n",
      "Hello\n",
      "HloWr\n"
     ]
    }
   ],
   "source": [
    "a = 'Hello World'\n",
    "print(a)\n",
    "print(a[0:5:1])\n",
    "print(a[0:10:2])"
   ]
  },
  {
   "cell_type": "markdown",
   "id": "7ad9fdac",
   "metadata": {},
   "source": [
    "### 음수 인덱스로 슬라이싱"
   ]
  },
  {
   "cell_type": "code",
   "execution_count": 96,
   "id": "f2d9144f",
   "metadata": {},
   "outputs": [
    {
     "data": {
      "text/plain": [
       "'Hello'"
      ]
     },
     "execution_count": 96,
     "metadata": {},
     "output_type": "execute_result"
    }
   ],
   "source": [
    "a = 'Hello World'\n",
    "a[-11:-6]\n"
   ]
  },
  {
   "cell_type": "markdown",
   "id": "6542c7e3",
   "metadata": {},
   "source": [
    "### 다양한 문자열 슬라이싱"
   ]
  },
  {
   "cell_type": "markdown",
   "id": "21902e74",
   "metadata": {},
   "source": [
    "- 첫번째와 마지막 인덱스는 생략 가능"
   ]
  },
  {
   "cell_type": "code",
   "execution_count": 99,
   "id": "ae3e48c2",
   "metadata": {},
   "outputs": [
    {
     "name": "stdout",
     "output_type": "stream",
     "text": [
      "Hello\n",
      "World\n"
     ]
    }
   ],
   "source": [
    "a = 'Hello World'\n",
    "\n",
    "# 'Hello'\n",
    "print(a[:5])\n",
    "\n",
    "# 'World'\n",
    "print(a[6:])\n",
    "\n",
    "# 'Hello World'\n"
   ]
  },
  {
   "cell_type": "markdown",
   "id": "2d001b44",
   "metadata": {},
   "source": [
    "- 한 문자씩 건너띄어 출력하기"
   ]
  },
  {
   "cell_type": "code",
   "execution_count": 102,
   "id": "3397a151",
   "metadata": {
    "scrolled": false
   },
   "outputs": [
    {
     "name": "stdout",
     "output_type": "stream",
     "text": [
      "HloWrd\n"
     ]
    }
   ],
   "source": [
    "a = 'Hello World'\n",
    "print(a[::2])\n"
   ]
  },
  {
   "cell_type": "markdown",
   "id": "d850ee19",
   "metadata": {},
   "source": [
    "- 역순으로 출력하기 : 간격을 마이너스(-)로 하면 역순으로 출력된다."
   ]
  },
  {
   "cell_type": "code",
   "execution_count": 105,
   "id": "ad8bb624",
   "metadata": {},
   "outputs": [
    {
     "data": {
      "text/plain": [
       "'dlroW olleH'"
      ]
     },
     "execution_count": 105,
     "metadata": {},
     "output_type": "execute_result"
    }
   ],
   "source": [
    "a = 'Hello World'\n",
    "a[::-1]\n"
   ]
  },
  {
   "cell_type": "markdown",
   "id": "6183c326",
   "metadata": {},
   "source": [
    "**연습문제2) '20220518Rainy' 문자열을 슬라이스 해서 `2022 년 05 월 18 일 Rainy` 의 형태로 출력하시오.**"
   ]
  },
  {
   "cell_type": "code",
   "execution_count": 5,
   "id": "4e207822",
   "metadata": {},
   "outputs": [
    {
     "name": "stdout",
     "output_type": "stream",
     "text": [
      "2022 년 05 월 18 일 Rainy\n"
     ]
    }
   ],
   "source": [
    "a = '20220518Rainy'\n",
    "# a[:4]+' 년'+' '+a[4:6]+' 월'+' '+a[6:8]+' 일'+' '+ a[8:13:]\n",
    "\n",
    "year = a[:4]\n",
    "month = a[4:6]\n",
    "day = a[6:8]\n",
    "weather = a[8:]\n",
    "\n",
    "print(year,'년',month,'월',day,'일',weather)"
   ]
  },
  {
   "cell_type": "markdown",
   "id": "0e58ac64",
   "metadata": {},
   "source": [
    "**연습문제3) 주민등록번호 뒤 6 가리기**\n",
    "- 주민등록번호가 하나 주어집니다.\n",
    "- 뒤에 6자리를 *로 만들어서 소중한 정보를 지키세요"
   ]
  },
  {
   "cell_type": "code",
   "execution_count": 7,
   "id": "fc5937e1",
   "metadata": {},
   "outputs": [
    {
     "name": "stdout",
     "output_type": "stream",
     "text": [
      "\n",
      "911210-*******\n",
      "900101-*******\n",
      "200112-*******\n",
      "200112-*******\n",
      "\n"
     ]
    }
   ],
   "source": [
    "# test용 주민번호, 4가지 다 넣어서 테스트 해보세요.\n",
    "data=\"\"\"\n",
    "id1 911210-1234567\n",
    "id2 900101-2111111\n",
    "id3 200112-3111111\n",
    "id4 200112-4123987\n",
    "\"\"\"\n",
    "\n",
    "result=[]\n",
    "for line in data.split(\"\\n\"):\n",
    "    word_res=[]\n",
    "    for word in line.split(\" \"):\n",
    "        if len(word)==14 and word[:6].isdigit() and word[7:].isdigit():\n",
    "            w=word[0:6]+\"-\"+\"*******\"\n",
    "            word_res.append(w)\n",
    "    result.append(\" \".join(word_res))  \n",
    "print(\"\\n\".join(result))\n",
    "\n",
    "\n"
   ]
  },
  {
   "cell_type": "markdown",
   "id": "c1064856",
   "metadata": {},
   "source": [
    "**연습문제4) 아래 조건에 맞는 코드를 작성하시오**\n",
    "- 숫자 하나를 입력 받는다.(숫자는 무조건 두 자리 이상의 자연수를 입력한다)\n",
    "- 입력받은 숫자의 십의 자리수를 출력한다.\n",
    "- hint : str인덱스를 이용하여 구하는 방법, 숫자 연산을 통해 구하는 방법"
   ]
  },
  {
   "cell_type": "code",
   "execution_count": 13,
   "id": "afeb9ca2",
   "metadata": {},
   "outputs": [
    {
     "name": "stdout",
     "output_type": "stream",
     "text": [
      "2\n",
      "2\n"
     ]
    }
   ],
   "source": [
    "# number = (input(\"숫자를 입력해주세요 : \"))\n",
    "number = '123123123'\n",
    "# str으로 하는 방법\n",
    "tens = number[-2]\n",
    "print(tens)\n",
    "# 숫자 연산을 통한 방법\n",
    "tens = int(number) %100 //10\n",
    "print(tens)"
   ]
  },
  {
   "cell_type": "markdown",
   "id": "4ebbc574",
   "metadata": {},
   "source": [
    "## 문자열 Formatting "
   ]
  },
  {
   "cell_type": "markdown",
   "id": "963ab723",
   "metadata": {},
   "source": [
    "- \"현재 온도는 18도 입니다.\"\n",
    "- \"현재 온도는 20도 입니다.\"\n",
    "- \"현재 온도는 21도 입니다.\"\n",
    "- 위와 같이 문자열의 특정한 값만 바꾸어 주는 기법"
   ]
  },
  {
   "cell_type": "markdown",
   "id": "efb55333",
   "metadata": {},
   "source": [
    "### 문자열 포매팅\n",
    "#### 문자열 포맷코드\n",
    "| 코드 | <center>설명</center> | 코드 | <center>설명</center> |\n",
    "|----|:----|----|:----|\n",
    "| %s | 문자열(String) | %d | 정수(Integer)|\n",
    "| %c | 문자 1개(Character)| %f | 부동소수(Floateing-point)| "
   ]
  },
  {
   "cell_type": "markdown",
   "id": "6f8acc07",
   "metadata": {},
   "source": [
    "**- 숫자 바로 대입**\n",
    "- 문자열 안에서 숫자를 넣고 싶은 자리에 %d를 넣고 삽입할 숫자는 뒤에 있는 % 다음에 넣는다.   \n",
    "- 여깃에서 **%d**를 문자열 포맷코드라 부른다"
   ]
  },
  {
   "cell_type": "code",
   "execution_count": 15,
   "id": "d947290f",
   "metadata": {},
   "outputs": [
    {
     "data": {
      "text/plain": [
       "'i eat 3 apples.'"
      ]
     },
     "execution_count": 15,
     "metadata": {},
     "output_type": "execute_result"
    }
   ],
   "source": [
    "'i eat %d apples.' %3"
   ]
  },
  {
   "cell_type": "markdown",
   "id": "d404325e",
   "metadata": {},
   "source": [
    "**- 문자열 바로 대입**"
   ]
  },
  {
   "cell_type": "code",
   "execution_count": 16,
   "id": "82891148",
   "metadata": {},
   "outputs": [
    {
     "data": {
      "text/plain": [
       "'i eat five apples.'"
      ]
     },
     "execution_count": 16,
     "metadata": {},
     "output_type": "execute_result"
    }
   ],
   "source": [
    "'i eat %s apples.' %'five'"
   ]
  },
  {
   "cell_type": "markdown",
   "id": "5d82b4ef",
   "metadata": {},
   "source": [
    "**- 변수를 사용하여 대입**"
   ]
  },
  {
   "cell_type": "code",
   "execution_count": 17,
   "id": "b426eab5",
   "metadata": {
    "scrolled": true
   },
   "outputs": [
    {
     "data": {
      "text/plain": [
       "'i eat 3 apples.'"
      ]
     },
     "execution_count": 17,
     "metadata": {},
     "output_type": "execute_result"
    }
   ],
   "source": [
    "apple = 3\n",
    "'i eat %d apples.' % apple"
   ]
  },
  {
   "cell_type": "markdown",
   "id": "6155b3a0",
   "metadata": {},
   "source": [
    "**- 2개 이상의 값 넣기**"
   ]
  },
  {
   "cell_type": "code",
   "execution_count": 20,
   "id": "f739849c",
   "metadata": {
    "scrolled": true
   },
   "outputs": [
    {
     "name": "stdout",
     "output_type": "stream",
     "text": [
      "사과는 4 개 있다.\n"
     ]
    }
   ],
   "source": [
    "#1 사과는 개 있다.\n",
    "fruit = '사과'\n",
    "count =4\n",
    "\n",
    "print('%s는 %d 개 있다.'%(fruit, count))"
   ]
  },
  {
   "cell_type": "code",
   "execution_count": 23,
   "id": "fa759b86",
   "metadata": {
    "scrolled": true
   },
   "outputs": [
    {
     "name": "stdout",
     "output_type": "stream",
     "text": [
      "원숭이 엉덩이 는 빨개\n"
     ]
    }
   ],
   "source": [
    "# 원숭이 엉덩이는 빨개\n",
    "monkey = '원숭이'\n",
    "hip = '엉덩이'\n",
    "color='빨개'\n",
    "\n",
    "print('%s %s 는 %s' %(monkey,hip,color))"
   ]
  },
  {
   "cell_type": "markdown",
   "id": "4a31eab2",
   "metadata": {},
   "source": [
    "**- %s 는 어떤 형태의 값이든 문자열로 변환한다**"
   ]
  },
  {
   "cell_type": "code",
   "execution_count": 25,
   "id": "276d9879",
   "metadata": {
    "scrolled": true
   },
   "outputs": [
    {
     "data": {
      "text/plain": [
       "'i eat 3 apples.'"
      ]
     },
     "execution_count": 25,
     "metadata": {},
     "output_type": "execute_result"
    }
   ],
   "source": [
    "'i eat %s apples.' % 3"
   ]
  },
  {
   "cell_type": "markdown",
   "id": "9adabd67",
   "metadata": {},
   "source": [
    "#### 포맷코드와 숫자 함께 사용하기"
   ]
  },
  {
   "cell_type": "markdown",
   "id": "eb8f2797",
   "metadata": {},
   "source": [
    "**- 정렬과 공백**"
   ]
  },
  {
   "cell_type": "code",
   "execution_count": 27,
   "id": "7318b815",
   "metadata": {},
   "outputs": [
    {
     "data": {
      "text/plain": [
       "'        hi'"
      ]
     },
     "execution_count": 27,
     "metadata": {},
     "output_type": "execute_result"
    }
   ],
   "source": [
    "\"%10s\"%\"hi\""
   ]
  },
  {
   "cell_type": "code",
   "execution_count": 29,
   "id": "36b860e6",
   "metadata": {},
   "outputs": [
    {
     "name": "stdout",
     "output_type": "stream",
     "text": [
      "hi        \n",
      "hi        jane\n"
     ]
    }
   ],
   "source": [
    "print(\"%-10s\" %\"hi\")\n",
    "print(\"%-10sjane\" %\"hi\")\n"
   ]
  },
  {
   "cell_type": "markdown",
   "id": "b76e81ad",
   "metadata": {},
   "source": [
    "**- 소수점 표현하기**"
   ]
  },
  {
   "cell_type": "code",
   "execution_count": 39,
   "id": "edcdb31b",
   "metadata": {},
   "outputs": [
    {
     "name": "stdout",
     "output_type": "stream",
     "text": [
      "3.142321\n",
      "3.1423\n",
      "    3.1423\n",
      "3.1423\n"
     ]
    }
   ],
   "source": [
    "print(\"%f\"%3.142321313153)\n",
    "print(\"%0.4f\"%3.142321313153)\n",
    "print(\"%10.4f\"%3.142321313153)\n",
    "print(\"%1.4f\"%3.142321313153)"
   ]
  },
  {
   "cell_type": "markdown",
   "id": "96d4a0d9",
   "metadata": {},
   "source": [
    "**- 기호 표현하기**"
   ]
  },
  {
   "cell_type": "code",
   "execution_count": 43,
   "id": "0b5fabc5",
   "metadata": {},
   "outputs": [
    {
     "name": "stdout",
     "output_type": "stream",
     "text": [
      "+4\n",
      "-4\n",
      "        -4\n"
     ]
    }
   ],
   "source": [
    "print('%+d'%4)\n",
    "print('%+d'%-4)\n",
    "print('%+10d'%-4)"
   ]
  },
  {
   "cell_type": "markdown",
   "id": "a80c69aa",
   "metadata": {},
   "source": [
    "### format()를 사용한 포매팅\n",
    "- 문자열의 format()를 사용하면 좀 더 발전된 스타일로 문자열의 포맷을 지정할 수 있다."
   ]
  },
  {
   "cell_type": "markdown",
   "id": "68b06156",
   "metadata": {},
   "source": [
    "**- 숫자 바로 대입**"
   ]
  },
  {
   "cell_type": "code",
   "execution_count": 46,
   "id": "7bcea722",
   "metadata": {},
   "outputs": [
    {
     "data": {
      "text/plain": [
       "'i eat 3 apples.'"
      ]
     },
     "execution_count": 46,
     "metadata": {},
     "output_type": "execute_result"
    }
   ],
   "source": [
    "'i eat {0} apples.'.format(3)"
   ]
  },
  {
   "cell_type": "markdown",
   "id": "fe7794e9",
   "metadata": {},
   "source": [
    "**- 문자열 바로 대입**"
   ]
  },
  {
   "cell_type": "code",
   "execution_count": 47,
   "id": "ff1de88d",
   "metadata": {},
   "outputs": [
    {
     "data": {
      "text/plain": [
       "'i eat five apples.'"
      ]
     },
     "execution_count": 47,
     "metadata": {},
     "output_type": "execute_result"
    }
   ],
   "source": [
    "'i eat {0} apples.'.format(\"five\")"
   ]
  },
  {
   "cell_type": "markdown",
   "id": "d73dd056",
   "metadata": {},
   "source": [
    "**- 숫자 값을 다진 변수로 대입하기**"
   ]
  },
  {
   "cell_type": "code",
   "execution_count": 48,
   "id": "bfc787fe",
   "metadata": {},
   "outputs": [
    {
     "data": {
      "text/plain": [
       "'i eat 3 apples.'"
      ]
     },
     "execution_count": 48,
     "metadata": {},
     "output_type": "execute_result"
    }
   ],
   "source": [
    "apple = 3\n",
    "'i eat {0} apples.'.format(apple)\n"
   ]
  },
  {
   "cell_type": "markdown",
   "id": "7202217a",
   "metadata": {},
   "source": [
    "**- 2개 이상의 값 넣기**"
   ]
  },
  {
   "cell_type": "code",
   "execution_count": 55,
   "id": "d97b7080",
   "metadata": {},
   "outputs": [
    {
     "name": "stdout",
     "output_type": "stream",
     "text": [
      "사과는 4개 있다\n"
     ]
    }
   ],
   "source": [
    "#1 사과는 개 있다.\n",
    "fruit = \"사과\"\n",
    "count = 4\n",
    "print('{0}는 {1}개 있다'.format(fruit,count))"
   ]
  },
  {
   "cell_type": "markdown",
   "id": "5754a680",
   "metadata": {},
   "source": [
    "**- 이름으로 넣기**"
   ]
  },
  {
   "cell_type": "code",
   "execution_count": 56,
   "id": "d24b56bd",
   "metadata": {},
   "outputs": [
    {
     "name": "stdout",
     "output_type": "stream",
     "text": [
      "orage는 10개 있다\n"
     ]
    }
   ],
   "source": [
    "print('{fruit}는 {count}개 있다'.format(fruit='orage',count=10))"
   ]
  },
  {
   "cell_type": "markdown",
   "id": "b5d9d6ff",
   "metadata": {},
   "source": [
    "**-인덱스와 이름을 혼용해서 넣기**"
   ]
  },
  {
   "cell_type": "code",
   "execution_count": 57,
   "id": "4443fed7",
   "metadata": {},
   "outputs": [
    {
     "data": {
      "text/plain": [
       "'사과는 5개 있다.'"
      ]
     },
     "execution_count": 57,
     "metadata": {},
     "output_type": "execute_result"
    }
   ],
   "source": [
    "'{}는 {count}개 있다.'.format(fruit,count=5)"
   ]
  },
  {
   "cell_type": "markdown",
   "id": "ae69e372",
   "metadata": {},
   "source": [
    "**- 왼쪽/오른쪽/가운데 정렬**"
   ]
  },
  {
   "cell_type": "code",
   "execution_count": 60,
   "id": "1e6f1395",
   "metadata": {},
   "outputs": [
    {
     "data": {
      "text/plain": [
       "'hi        '"
      ]
     },
     "execution_count": 60,
     "metadata": {},
     "output_type": "execute_result"
    }
   ],
   "source": [
    "'{0:<10}'.format('hi')"
   ]
  },
  {
   "cell_type": "code",
   "execution_count": 62,
   "id": "204777fb",
   "metadata": {},
   "outputs": [
    {
     "data": {
      "text/plain": [
       "'        hi'"
      ]
     },
     "execution_count": 62,
     "metadata": {},
     "output_type": "execute_result"
    }
   ],
   "source": [
    "'{0:>10}'.format('hi')"
   ]
  },
  {
   "cell_type": "code",
   "execution_count": 66,
   "id": "0460959d",
   "metadata": {},
   "outputs": [
    {
     "data": {
      "text/plain": [
       "'    hi    '"
      ]
     },
     "execution_count": 66,
     "metadata": {},
     "output_type": "execute_result"
    }
   ],
   "source": [
    "'{0:^10}'.format('hi')"
   ]
  },
  {
   "cell_type": "markdown",
   "id": "8e16f163",
   "metadata": {},
   "source": [
    "**- 공백채우기**"
   ]
  },
  {
   "cell_type": "code",
   "execution_count": 67,
   "id": "8c8cc157",
   "metadata": {},
   "outputs": [
    {
     "data": {
      "text/plain": [
       "'====hi===='"
      ]
     },
     "execution_count": 67,
     "metadata": {},
     "output_type": "execute_result"
    }
   ],
   "source": [
    "'{0:=^10}'.format('hi')"
   ]
  },
  {
   "cell_type": "markdown",
   "id": "9107fa4f",
   "metadata": {},
   "source": [
    "**- 소수점 표현하기**"
   ]
  },
  {
   "cell_type": "code",
   "execution_count": 69,
   "id": "799f72fe",
   "metadata": {},
   "outputs": [
    {
     "name": "stdout",
     "output_type": "stream",
     "text": [
      "3.2342\n",
      "    3.2342\n"
     ]
    }
   ],
   "source": [
    "y = 3.23423423\n",
    "print('{0:0.4f}'.format(y))\n",
    "print('{0:10.4f}'.format(y))"
   ]
  },
  {
   "cell_type": "code",
   "execution_count": 73,
   "id": "aa64bbac",
   "metadata": {
    "scrolled": true
   },
   "outputs": [
    {
     "name": "stdout",
     "output_type": "stream",
     "text": [
      "+3.2342\n",
      "+3.2342   \n",
      "00003.2342\n",
      "+0003.2342\n"
     ]
    }
   ],
   "source": [
    "y = 3.23423423\n",
    "print('{0:+0.4f}'.format(y))\n",
    "print('{0:<+10.4f}'.format(y))\n",
    "print('{0:010.4f}'.format(y))\n",
    "print('{0:+010.4f}'.format(y))"
   ]
  },
  {
   "cell_type": "markdown",
   "id": "0a82de2a",
   "metadata": {},
   "source": [
    "**연습문제5) 돈(예 : 7777777)을 입력하면 5만원, 1만원, 5천원, 천원 지폐로 교환하는 프로그램을 format()를 사용하여 만들기**"
   ]
  },
  {
   "cell_type": "code",
   "execution_count": 96,
   "id": "99d3072a",
   "metadata": {},
   "outputs": [
    {
     "name": "stdout",
     "output_type": "stream",
     "text": [
      "지폐로 바꿀 금액을 입력하세요 : 12312313123\n",
      "5만원 : 246246개\n",
      "1만원 : 1개\n",
      "5천원 : 0개\n",
      "1천원 : 3개\n",
      "500원 : 0개\n",
      "100원 : 1개\n",
      "50원 : 0개\n",
      "10원 : 2개\n",
      "1원동전 : 3개\n"
     ]
    }
   ],
   "source": [
    "money = int(input(\"지폐로 바꿀 금액을 입력하세요 : \"))\n",
    "\n",
    "coin50000 = money // 50000\n",
    "money %= 50000\n",
    "coin10000 = money // 10000\n",
    "money %= 10000\n",
    "coin5000 = money // 5000\n",
    "money %= 5000\n",
    "coin1000 = money // 1000\n",
    "money %= 1000\n",
    "coin500 = money // 500\n",
    "money %= 500\n",
    "coin100 = money // 100\n",
    "money %= 100\n",
    "coin50 = money // 50\n",
    "money %= 50\n",
    "coin10 = money // 10\n",
    "money %= 10\n",
    "\n",
    "print('5만원 : {}개'.format(coin50000))\n",
    "print('1만원 : {}개'.format(coin10000))\n",
    "print('5천원 : {}개'.format(coin5000))\n",
    "print('1천원 : {}개'.format(coin1000))\n",
    "print('500원 : {}개'.format(coin500))\n",
    "print('100원 : {}개'.format(coin100))\n",
    "print('50원 : {}개'.format(coin50))\n",
    "print('10원 : {}개'.format(coin10))\n",
    "print('1원동전 : {}개'.format(money))\n"
   ]
  },
  {
   "cell_type": "markdown",
   "id": "b382c73a",
   "metadata": {},
   "source": [
    "### f string 포매팅"
   ]
  },
  {
   "cell_type": "code",
   "execution_count": 1,
   "id": "693c66e3",
   "metadata": {},
   "outputs": [
    {
     "data": {
      "text/plain": [
       "'i eat 3 apples.'"
      ]
     },
     "execution_count": 1,
     "metadata": {},
     "output_type": "execute_result"
    }
   ],
   "source": [
    "f'i eat {3} apples.'"
   ]
  },
  {
   "cell_type": "code",
   "execution_count": 3,
   "id": "855a28f4",
   "metadata": {},
   "outputs": [
    {
     "data": {
      "text/plain": [
       "'나의 이름은 홍길동 나이는 30 입니다'"
      ]
     },
     "execution_count": 3,
     "metadata": {},
     "output_type": "execute_result"
    }
   ],
   "source": [
    "name='홍길동'\n",
    "age=30\n",
    "f'나의 이름은 {name} 나이는 {age} 입니다'"
   ]
  },
  {
   "cell_type": "code",
   "execution_count": null,
   "id": "de282b81",
   "metadata": {},
   "outputs": [],
   "source": []
  },
  {
   "cell_type": "code",
   "execution_count": null,
   "id": "3d70d5b0",
   "metadata": {},
   "outputs": [],
   "source": []
  },
  {
   "cell_type": "markdown",
   "id": "a9e4d2d7",
   "metadata": {},
   "source": [
    "**연습문제6) 다음의 문장을 문자열 포맷팅, format(), fstring을 이용하여 출력하시오**\n",
    "- 사과는 4개 있다.\n",
    "- 원숭이 엉덩이는 빨개"
   ]
  },
  {
   "cell_type": "code",
   "execution_count": null,
   "id": "24dd2fbc",
   "metadata": {},
   "outputs": [],
   "source": [
    "fruit= '사과'\n",
    "count=4"
   ]
  },
  {
   "cell_type": "code",
   "execution_count": 116,
   "id": "03e14c6d",
   "metadata": {},
   "outputs": [
    {
     "name": "stdout",
     "output_type": "stream",
     "text": [
      "사과 는 4개 있다.\n",
      "사과 는 4개 있다.\n",
      "사과 는 4개 있다.\n"
     ]
    }
   ],
   "source": [
    "fruit= '사과'\n",
    "count=4\n",
    "print(f'{fruit} 는 {count}개 있다.')\n",
    "print('{0} 는 {1}개 있다.'.format(fruit,count))\n",
    "print('%s 는 %d개 있다.'% (fruit,count))"
   ]
  },
  {
   "cell_type": "code",
   "execution_count": 22,
   "id": "531e50bc",
   "metadata": {
    "scrolled": true
   },
   "outputs": [
    {
     "name": "stdout",
     "output_type": "stream",
     "text": [
      "원숭이 엉덩이 는 빨개\n",
      "원숭이 엉덩이 는 빨개 \n",
      "원숭이 엉덩이 는 빨개\n"
     ]
    }
   ],
   "source": [
    "print('%s %s 는 %s'%('원숭이','엉덩이','빨개'))\n",
    "print('{} {} 는 {} '.format('원숭이','엉덩이','빨개'))\n",
    "print(f'{\"원숭이\"} {\"엉덩이\"} 는 {\"빨개\"}')"
   ]
  },
  {
   "cell_type": "markdown",
   "id": "210134cb",
   "metadata": {},
   "source": [
    "**연습문제7) 다음에 조건을 만족하는 코드를 완성하시오.**\n",
    "- 개인정보를 사용자로부터 입력받아, 주민등록등본을 출력해주는 프로그램을 제작하려고 한다. 입력받은 이름을 name이라는 변수에, 주민번호를 num라는 변수에 입력받는다.\n",
    "- 출력은 이름 : 홍길동, 주민등록번호 : 900101-3****** "
   ]
  },
  {
   "cell_type": "code",
   "execution_count": 46,
   "id": "acfcf3d8",
   "metadata": {
    "scrolled": true
   },
   "outputs": [
    {
     "name": "stdout",
     "output_type": "stream",
     "text": [
      " 이름 : 홍길동, 주민등록번호 : (850212-*******)\n"
     ]
    }
   ],
   "source": [
    "#input 으로 하는법 질문하기\n",
    "name = '홍길동'\n",
    "num = '8502121-1251112'\n",
    "print(f' 이름 : {name}, 주민등록번호 : ({num[:6]}-*******)')"
   ]
  },
  {
   "cell_type": "markdown",
   "id": "3bfc5e68",
   "metadata": {},
   "source": [
    "## 문자열 관련 함수들  \n",
    "- 문자열 자료형은 자체적으로 함수를 가지고 있다. 다른말로 **문자열 내장함수**라 한다.\n",
    "- 문자열 이름뒤에 .을 붙인 다음에 함수이름을 써주면 된다."
   ]
  },
  {
   "cell_type": "markdown",
   "id": "4889bcc7",
   "metadata": {},
   "source": [
    "### 문자 개수 세기 count()\n"
   ]
  },
  {
   "cell_type": "code",
   "execution_count": 55,
   "id": "8e66b7d5",
   "metadata": {},
   "outputs": [
    {
     "data": {
      "text/plain": [
       "2"
      ]
     },
     "execution_count": 55,
     "metadata": {},
     "output_type": "execute_result"
    }
   ],
   "source": [
    "# 문자열 중 b의 개수를 돌려준다.\n",
    "a = 'hobby'\n",
    "a.count('b')"
   ]
  },
  {
   "cell_type": "markdown",
   "id": "017c0923",
   "metadata": {},
   "source": [
    "### 위치 알려주기 find()\n",
    "- 처음으로 나온 위치를 반환"
   ]
  },
  {
   "cell_type": "code",
   "execution_count": 61,
   "id": "207895bc",
   "metadata": {},
   "outputs": [
    {
     "name": "stdout",
     "output_type": "stream",
     "text": [
      "14\n",
      "2\n",
      "-1\n",
      "4\n"
     ]
    }
   ],
   "source": [
    "a= 'python is the best choice'\n",
    "print(a.find('b'))\n",
    "print(a.find('t'))\n",
    "print(a.find('z'))\n",
    "print(a.find('o'))"
   ]
  },
  {
   "cell_type": "markdown",
   "id": "9f5c52d0",
   "metadata": {},
   "source": [
    "### 위치알려주기 index()\n",
    "- 처음으로 나온 위치를 반환.\n",
    "- 존재하지 않은 문자를 찾으면 오류발생"
   ]
  },
  {
   "cell_type": "code",
   "execution_count": 122,
   "id": "0f412d4b",
   "metadata": {},
   "outputs": [
    {
     "name": "stdout",
     "output_type": "stream",
     "text": [
      "14\n",
      "2\n",
      "4\n"
     ]
    }
   ],
   "source": [
    "a= 'python is the best choice'\n",
    "print(a.index('b'))\n",
    "print(a.index('t'))\n",
    "# print(a.index('z'))\n",
    "print(a.index('o'))"
   ]
  },
  {
   "cell_type": "markdown",
   "id": "548db7ab",
   "metadata": {},
   "source": [
    "### (영어) 대소문자 바꾸기 upper(), lower()"
   ]
  },
  {
   "cell_type": "code",
   "execution_count": 66,
   "id": "b87da148",
   "metadata": {},
   "outputs": [
    {
     "data": {
      "text/plain": [
       "'HI'"
      ]
     },
     "execution_count": 66,
     "metadata": {},
     "output_type": "execute_result"
    }
   ],
   "source": [
    "s = \"hi\"\n",
    "s.upper()"
   ]
  },
  {
   "cell_type": "code",
   "execution_count": 67,
   "id": "ce3cf314",
   "metadata": {},
   "outputs": [
    {
     "data": {
      "text/plain": [
       "'hi'"
      ]
     },
     "execution_count": 67,
     "metadata": {},
     "output_type": "execute_result"
    }
   ],
   "source": [
    "s = \"Hi\"\n",
    "s.lower()"
   ]
  },
  {
   "cell_type": "markdown",
   "id": "188dd237",
   "metadata": {},
   "source": [
    "### 문자 공백 지우기 strip() / lstrip()  / rstrip()"
   ]
  },
  {
   "cell_type": "code",
   "execution_count": 71,
   "id": "212f6d13",
   "metadata": {},
   "outputs": [
    {
     "name": "stdout",
     "output_type": "stream",
     "text": [
      "hi\n",
      "hi    \n",
      "  hi\n"
     ]
    }
   ],
   "source": [
    "s = \"  hi    \"\n",
    "print(s.strip())\n",
    "print(s.lstrip())\n",
    "print(s.rstrip())"
   ]
  },
  {
   "cell_type": "markdown",
   "id": "7e8b6a74",
   "metadata": {},
   "source": [
    "### 문자열 삽입 join()"
   ]
  },
  {
   "cell_type": "code",
   "execution_count": 76,
   "id": "5dd87abf",
   "metadata": {},
   "outputs": [
    {
     "name": "stdout",
     "output_type": "stream",
     "text": [
      "a.b.c.d\n"
     ]
    }
   ],
   "source": [
    "#ex)abcd -> a.b.c.d 로 바꾸고싶다\n",
    "\n",
    "print('.'.join('abcd'))"
   ]
  },
  {
   "cell_type": "markdown",
   "id": "a9d737b7",
   "metadata": {},
   "source": [
    "### 문자열  나누기 split()"
   ]
  },
  {
   "cell_type": "code",
   "execution_count": 1,
   "id": "8102c37b",
   "metadata": {},
   "outputs": [
    {
     "data": {
      "text/plain": [
       "list"
      ]
     },
     "execution_count": 1,
     "metadata": {},
     "output_type": "execute_result"
    }
   ],
   "source": [
    "# 기사\n",
    "s = \"Life is too short.\"\n",
    "s2= s.split()\n",
    "type(s2)\n"
   ]
  },
  {
   "cell_type": "code",
   "execution_count": 93,
   "id": "c999934c",
   "metadata": {},
   "outputs": [
    {
     "name": "stdout",
     "output_type": "stream",
     "text": [
      "삼성전자/애플/샤오미\n",
      "\n",
      "['삼성전자', '애플', '샤오미']\n",
      "\n",
      "삼성전자★애플★샤오미\n"
     ]
    }
   ],
   "source": [
    "s1 = '삼성전자/애플/샤오미'\n",
    "print(s1)\n",
    "print()\n",
    "s1 = s1.split('/')\n",
    "print(s1)\n",
    "print()\n",
    "s1 = \"★\".join(s1)\n",
    "print(s1)"
   ]
  },
  {
   "cell_type": "markdown",
   "id": "837a1109",
   "metadata": {},
   "source": [
    "### 문자열 바꾸기 replace() \n",
    "★궁금한것 문자열 읽어올때 대소문자 구분해야 읽어옴"
   ]
  },
  {
   "cell_type": "code",
   "execution_count": 98,
   "id": "b61d1de8",
   "metadata": {},
   "outputs": [
    {
     "data": {
      "text/plain": [
       "'This is pencil is too short.'"
      ]
     },
     "execution_count": 98,
     "metadata": {},
     "output_type": "execute_result"
    }
   ],
   "source": [
    "s = \"Life is too short.\"\n",
    "s.replace(\"Life\",\"This is pencil\")"
   ]
  },
  {
   "cell_type": "code",
   "execution_count": 145,
   "id": "a11c1448",
   "metadata": {
    "scrolled": true
   },
   "outputs": [
    {
     "name": "stdout",
     "output_type": "stream",
     "text": [
      "hi\n",
      "hi****\n"
     ]
    }
   ],
   "source": [
    "s = \"  hi    \"\n",
    "print(s.strip())\n",
    "print(s.lstrip().replace(' ','*'))"
   ]
  },
  {
   "cell_type": "markdown",
   "id": "be9aca50",
   "metadata": {},
   "source": [
    "**연습문제8)사용자의 이름을 입력받아 성과 이름 순서를 바꾸어서 출력하는 프로그램을 작성하세요.**   \n",
    "- 성과 이름은 공백으로 구분하여 입력니다."
   ]
  },
  {
   "cell_type": "code",
   "execution_count": 136,
   "id": "ab4ddd35",
   "metadata": {},
   "outputs": [
    {
     "name": "stdout",
     "output_type": "stream",
     "text": [
      "8\n",
      "성 : CHOI, 이름: gwangrak\n",
      "성 : CHOI\n",
      "이름: gwangrak\n"
     ]
    }
   ],
   "source": [
    "# 사용자의 영문이름 입력받기 (성과 이름은 공백으로 구분)\n",
    "full_name='gwangrak CHOI'# input('영문이름(성과 이름은 공백으로 구분하세요):')\n",
    "#공백 위치 찾기\n",
    "space=full_name.find(' ')\n",
    "print(space)\n",
    "#이름\n",
    "first_name=full_name[:space]\n",
    "#성\n",
    "last_name=full_name[space+1:]\n",
    "print(f'성 : {last_name}, 이름: {first_name}')\n",
    "print(f'성 : {last_name}\\n이름: {first_name}')"
   ]
  }
 ],
 "metadata": {
  "interpreter": {
   "hash": "9e030b06df8535e05113b5fce651d4155290bdf1b2777b3d701a1501abf85227"
  },
  "kernelspec": {
   "display_name": "Python 3 (ipykernel)",
   "language": "python",
   "name": "python3"
  },
  "language_info": {
   "codemirror_mode": {
    "name": "ipython",
    "version": 3
   },
   "file_extension": ".py",
   "mimetype": "text/x-python",
   "name": "python",
   "nbconvert_exporter": "python",
   "pygments_lexer": "ipython3",
   "version": "3.9.12"
  },
  "toc": {
   "base_numbering": 1,
   "nav_menu": {},
   "number_sections": true,
   "sideBar": true,
   "skip_h1_title": false,
   "title_cell": "Table of Contents",
   "title_sidebar": "Contents",
   "toc_cell": false,
   "toc_position": {
    "height": "calc(100% - 180px)",
    "left": "10px",
    "top": "150px",
    "width": "384px"
   },
   "toc_section_display": true,
   "toc_window_display": true
  }
 },
 "nbformat": 4,
 "nbformat_minor": 5
}
