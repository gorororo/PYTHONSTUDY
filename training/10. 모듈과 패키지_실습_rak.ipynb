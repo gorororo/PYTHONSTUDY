{
 "cells": [
  {
   "cell_type": "markdown",
   "id": "fd3d3ac6",
   "metadata": {},
   "source": [
    "# 모듈\n",
    "- 함수나 변수 또는 클래스를 모아놓은 **파일**. \n",
    "- 다른 프로그램에서 불러와서 사용할 수 있게끔 만든 파이썬 파일\n",
    "- 파이썬 프로그래밍을 할때 굉장히 많은 모듈을 사용\n",
    "- 다른 사람들이 이미 만들어놓은 모듈을 사용할수도 있고 직접 만들어 사용도 가능\n",
    "- 표준모듈 : 파이썬에 기본적으로 내장되어 있는 모듈\n",
    "- 외부모듈 : 다른사람들이 만들어서 공개한 모듈\n",
    "- **import 모듈이름**"
   ]
  },
  {
   "cell_type": "markdown",
   "id": "1e532420",
   "metadata": {},
   "source": [
    "## 사용법\n",
    "### import  모듈이름"
   ]
  },
  {
   "cell_type": "code",
   "execution_count": 1,
   "id": "2ed6a6d0",
   "metadata": {},
   "outputs": [
    {
     "name": "stdout",
     "output_type": "stream",
     "text": [
      "0.8414709848078965\n",
      "0.5403023058681398\n",
      "1.5574077246549023\n"
     ]
    }
   ],
   "source": [
    "import math\n",
    "\n",
    "print(math.sin(1))\n",
    "print(math.cos(1))\n",
    "print(math.tan(1))\n"
   ]
  },
  {
   "cell_type": "markdown",
   "id": "d172e039",
   "metadata": {},
   "source": [
    "### from 구문\n",
    "- 모듈에는 많은 변수와 함수가 있다. \n",
    "- 그중에 사용하고 싶은 기능은 일부분 이고 math.sin(), math.cos(), math.tan() 처럼 앞에 math를 계속 입력해야한다.\n",
    "- **from 모듈이름 import 모듈 or 모듈함수**"
   ]
  },
  {
   "cell_type": "code",
   "execution_count": 3,
   "id": "a691fbea",
   "metadata": {},
   "outputs": [
    {
     "name": "stdout",
     "output_type": "stream",
     "text": [
      "0.8414709848078965\n",
      "0.5403023058681398\n",
      "1.5574077246549023\n"
     ]
    }
   ],
   "source": [
    "from math import sin,cos,tan\n",
    "\n",
    "print(sin(1))\n",
    "print(cos(1))\n",
    "print(tan(1))"
   ]
  },
  {
   "cell_type": "markdown",
   "id": "16f1f7b0",
   "metadata": {},
   "source": [
    "- 앞에 math를 붙히는 것은 싫고 모든 기능을 가져오고 싶다면\n",
    "- **from math import ***\n",
    "- 이 경우는 식별자 충돌이 발생할 가능성이 높다. 따라서 from 구문을 사용할 때는 최대한 필요한 것들만 가져와서 사용하는 것이 좋다."
   ]
  },
  {
   "cell_type": "code",
   "execution_count": 4,
   "id": "9ae37459",
   "metadata": {},
   "outputs": [
    {
     "name": "stdout",
     "output_type": "stream",
     "text": [
      "0.8414709848078965\n",
      "0.5403023058681398\n",
      "1.5574077246549023\n"
     ]
    }
   ],
   "source": [
    "from math import *\n",
    "\n",
    "print(sin(1))\n",
    "print(cos(1))\n",
    "print(tan(1))"
   ]
  },
  {
   "cell_type": "markdown",
   "id": "c9ce690e",
   "metadata": {},
   "source": [
    "### as 구문\n",
    "- math모듈을 쓰기는 귀찮고 * 기호를 쓰기는 위험부담이 있을때 짧게 줄여주는 구문\n",
    "- **import 모듈 as 사용하고 싶은 별명**"
   ]
  },
  {
   "cell_type": "code",
   "execution_count": 5,
   "id": "58fd629c",
   "metadata": {
    "scrolled": true
   },
   "outputs": [
    {
     "name": "stdout",
     "output_type": "stream",
     "text": [
      "0.8414709848078965\n",
      "0.5403023058681398\n",
      "1.5574077246549023\n"
     ]
    }
   ],
   "source": [
    "import math as m\n",
    "\n",
    "print(m.sin(1))\n",
    "print(m.cos(1))\n",
    "print(m.tan(1))"
   ]
  },
  {
   "cell_type": "markdown",
   "id": "9c6aada5",
   "metadata": {},
   "source": [
    "# 모듈만들기"
   ]
  },
  {
   "cell_type": "markdown",
   "id": "cf4ea1b9",
   "metadata": {},
   "source": [
    "- 텍스트 에디터를 활용하여 circleModule.py 생성 "
   ]
  },
  {
   "cell_type": "code",
   "execution_count": null,
   "id": "51f45896",
   "metadata": {},
   "outputs": [],
   "source": [
    "# # circleModule.py\n",
    "# PI = 3.14\n",
    "\n",
    "# def getCircumference(radius):\n",
    "#     return 2*PI*radius\n",
    "\n",
    "# def getCircleArea(radius):\n",
    "#     return PI*radius*radius\n",
    "\n",
    "# print('circleModule', PI)"
   ]
  },
  {
   "cell_type": "code",
   "execution_count": 9,
   "id": "aea2896b",
   "metadata": {},
   "outputs": [
    {
     "name": "stdout",
     "output_type": "stream",
     "text": [
      "반지름 5\n",
      "원의 둘레 : 31.400000000000002\n",
      "원의 넓이 : 78.5\n"
     ]
    }
   ],
   "source": [
    "import circleModule as cm\n",
    "\n",
    "radius =5 \n",
    "\n",
    "print('반지름',radius)\n",
    "print('원의 둘레 :', cm.getCircumference(radius))\n",
    "print('원의 넓이 :', cm.getCircleArea(radius))"
   ]
  },
  {
   "cell_type": "code",
   "execution_count": null,
   "id": "5c0c6c3f",
   "metadata": {},
   "outputs": [],
   "source": []
  },
  {
   "cell_type": "markdown",
   "id": "0d19189c",
   "metadata": {},
   "source": [
    "## if \\_\\_name\\_\\_ == \"\\_\\_main\\_\\_\":\n",
    " - 파일을 직접 실행했을 때만 수행\n",
    " - 직접실행 했을 때 \\_\\_name\\_\\_==\"\\_\\_main\\_\\_\"이 참이 되어 아래 구문들이 실행!!\n",
    " - circleModule.py를 직접 실행했을 때는 \\_\\_name\\_\\_에 \\_\\_main\\_\\_이 저장\n",
    " - 파일을 import하면 \\_\\_name\\_\\_ 모듈이름값 circleModule이 저장"
   ]
  },
  {
   "cell_type": "code",
   "execution_count": null,
   "id": "31021617",
   "metadata": {},
   "outputs": [],
   "source": [
    "# #circleModule.py\n",
    "# PI = 3.14\n",
    "\n",
    "# def getCircumference(radius):\n",
    "#     return 2*PI*radius\n",
    "\n",
    "# def getCircleArea(radius):\n",
    "#     return PI*radius*radius\n",
    "\n",
    "# # print('circleModule', PI)\n",
    "\n",
    "# if __name__==\"__main__\":\n",
    "#     print('main_circleModule', PI)"
   ]
  },
  {
   "cell_type": "code",
   "execution_count": 8,
   "id": "5ff6e615",
   "metadata": {},
   "outputs": [
    {
     "name": "stdout",
     "output_type": "stream",
     "text": [
      "circleModule\n",
      "반지름 5\n",
      "원의 둘레 : 31.400000000000002\n",
      "원의 넓이 : 78.5\n"
     ]
    }
   ],
   "source": [
    "import circleModule as cm\n",
    "\n",
    "radius =5 \n",
    "print(cm.__name__)\n",
    "print('반지름',radius)\n",
    "print('원의 둘레 :', cm.getCircumference(radius))\n",
    "print('원의 넓이 :', cm.getCircleArea(radius))"
   ]
  },
  {
   "cell_type": "markdown",
   "id": "3cd663fe",
   "metadata": {},
   "source": [
    "**연습문제1) 아래와 같은 사칙연산을 하는 calModule.py를 만들고 사용하는 프로그램을 작성하시오.**"
   ]
  },
  {
   "cell_type": "code",
   "execution_count": null,
   "id": "4f72c477",
   "metadata": {},
   "outputs": [],
   "source": [
    "# calModule.py\n",
    "\n",
    "def add(a, b): return a+b\n",
    "\n",
    "def sub(a, b): return a-b\n",
    "\n",
    "def mul(a, b): return a*b\n",
    "\n",
    "def div(a, b):\n",
    "    if b == 0:\n",
    "        return 0\n",
    "    return a / b\n",
    "\n",
    "print('calModule')\n",
    "\n",
    "if __name__ == \"__main__\" :\n",
    "    print(\"main_calModule\")\n"
   ]
  },
  {
   "cell_type": "code",
   "execution_count": null,
   "id": "2d253fd8",
   "metadata": {
    "scrolled": true
   },
   "outputs": [],
   "source": []
  },
  {
   "attachments": {
    "image-2.png": {
     "image/png": "[encoded data removed]"
    }
   },
   "cell_type": "markdown",
   "id": "27fa6983",
   "metadata": {},
   "source": [
    "# 패키지\n",
    "- 모듈(함수,class의 집합) < 패키지(모듈을 모아놓은 폴더) < 라이브러리(패키지의 집합)\n",
    "- 용어를 혼용해서 사용!!\n",
    "- 도트(.)를 사용하여 파이썬 모듈을 계층적(디렉토리)으로 관리할 수 있게 해준다.\n",
    "![image-2.png](attachment:image-2.png)"
   ]
  },
  {
   "cell_type": "code",
   "execution_count": null,
   "id": "58458ef5",
   "metadata": {},
   "outputs": [],
   "source": [
    "#echo.py\n",
    "def echo_test():\n",
    "    print(\"echo\")\n",
    "    \n",
    "#wav.py\n",
    "def wav_test():\n",
    "    print(\"wav\")"
   ]
  },
  {
   "cell_type": "markdown",
   "id": "bc7a5549",
   "metadata": {},
   "source": [
    "- import로 접근"
   ]
  },
  {
   "cell_type": "code",
   "execution_count": null,
   "id": "f6f8eabe",
   "metadata": {},
   "outputs": [],
   "source": []
  },
  {
   "cell_type": "markdown",
   "id": "8bd526a5",
   "metadata": {},
   "source": [
    "- from ... import로 접근"
   ]
  },
  {
   "cell_type": "code",
   "execution_count": null,
   "id": "ec4d9efc",
   "metadata": {},
   "outputs": [],
   "source": []
  },
  {
   "cell_type": "markdown",
   "id": "c170acc3",
   "metadata": {},
   "source": [
    "- eccho_test() 직접 import"
   ]
  },
  {
   "cell_type": "code",
   "execution_count": null,
   "id": "4fcc3cf7",
   "metadata": {},
   "outputs": [],
   "source": []
  },
  {
   "cell_type": "code",
   "execution_count": null,
   "id": "8a29eede",
   "metadata": {},
   "outputs": [],
   "source": []
  },
  {
   "cell_type": "code",
   "execution_count": null,
   "id": "efb9e4aa",
   "metadata": {},
   "outputs": [],
   "source": []
  },
  {
   "cell_type": "code",
   "execution_count": null,
   "id": "0de437fa",
   "metadata": {},
   "outputs": [],
   "source": []
  },
  {
   "cell_type": "code",
   "execution_count": null,
   "id": "9e839b7f",
   "metadata": {},
   "outputs": [],
   "source": []
  }
 ],
 "metadata": {
  "kernelspec": {
   "display_name": "Python 3 (ipykernel)",
   "language": "python",
   "name": "python3"
  },
  "language_info": {
   "codemirror_mode": {
    "name": "ipython",
    "version": 3
   },
   "file_extension": ".py",
   "mimetype": "text/x-python",
   "name": "python",
   "nbconvert_exporter": "python",
   "pygments_lexer": "ipython3",
   "version": "3.9.12"
  },
  "toc": {
   "base_numbering": 1,
   "nav_menu": {},
   "number_sections": true,
   "sideBar": true,
   "skip_h1_title": false,
   "title_cell": "Table of Contents",
   "title_sidebar": "Contents",
   "toc_cell": false,
   "toc_position": {
    "height": "calc(100% - 180px)",
    "left": "10px",
    "top": "150px",
    "width": "307.2px"
   },
   "toc_section_display": true,
   "toc_window_display": true
  }
 },
 "nbformat": 4,
 "nbformat_minor": 5
}
