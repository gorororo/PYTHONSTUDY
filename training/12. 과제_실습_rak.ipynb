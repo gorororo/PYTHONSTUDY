{
 "cells": [
  {
   "cell_type": "markdown",
   "id": "c3a64edc",
   "metadata": {},
   "source": [
    "**<과제공지>**\n",
    "- 아래 문제를 해결한 뒤 12.과제-자기이름.ipynb 을 claracoding@naver.com 으로 파일 첨부하여 메일 발송  \n",
    "- 예)12.과제-홍길동.ipynb\n",
    "- 마감 : 2022년 6월 25일(토)까지"
   ]
  },
  {
   "attachments": {
    "image.png": {
     "image/png": "[encoded data removed]"
    }
   },
   "cell_type": "markdown",
   "id": "aa37b6be",
   "metadata": {},
   "source": [
    "### 아래 질문에 알맞은 코드를 작성하시오,\n",
    "#### input()을 이용하여 입력된 정수를  print()를 이용하여 출력하시오\n",
    "![image.png](attachment:image.png)"
   ]
  },
  {
   "cell_type": "code",
   "execution_count": 118,
   "id": "c0330a87",
   "metadata": {
    "scrolled": true
   },
   "outputs": [
    {
     "name": "stdout",
     "output_type": "stream",
     "text": [
      "정수를 입력하세요 : 5\n",
      "입력된 정수 : 5\n",
      "<class 'int'>\n"
     ]
    }
   ],
   "source": [
    "a = int(input('정수를 입력하세요 : '))\n",
    "print(f'입력된 정수 : {a}')\n",
    "# print(type(a))\n"
   ]
  },
  {
   "attachments": {
    "image.png": {
     "image/png": "[encoded data removed]"
    }
   },
   "cell_type": "markdown",
   "id": "e5b9e9ac",
   "metadata": {},
   "source": [
    "####  input()을 이용하여 입력된 정수를 곱하기 5한 결과를print()를 이용하여 출력하시오.\n",
    "![image.png](attachment:image.png)"
   ]
  },
  {
   "cell_type": "code",
   "execution_count": 117,
   "id": "65d8e99c",
   "metadata": {
    "scrolled": true
   },
   "outputs": [
    {
     "name": "stdout",
     "output_type": "stream",
     "text": [
      "정수를 입력하세요 : 7\n",
      "곱해진 정수는 7*5 = 35\n"
     ]
    }
   ],
   "source": [
    "a = int(input('정수를 입력하세요 : '))\n",
    "b = 5\n",
    "c = (a*b)\n",
    "print(f'곱해진 정수는 {a}*{b} = {c}')\n",
    "# print(type(a))\n"
   ]
  },
  {
   "cell_type": "code",
   "execution_count": null,
   "id": "ee10e4bb",
   "metadata": {},
   "outputs": [],
   "source": []
  },
  {
   "cell_type": "markdown",
   "id": "fa6486f3",
   "metadata": {},
   "source": [
    "### 다음 리스트에서 40, 50을 삭제하는 코드를 입력하세요\n"
   ]
  },
  {
   "cell_type": "code",
   "execution_count": 75,
   "id": "4d4a8cac",
   "metadata": {},
   "outputs": [
    {
     "name": "stdout",
     "output_type": "stream",
     "text": [
      "[10, 20, 30]\n"
     ]
    }
   ],
   "source": [
    "nums = [10,20,30,40,50]\n",
    "# nums.pop(-2)\n",
    "# nums.pop(-1)\n",
    "# nums.remove(40)\n",
    "# nums.remove(50)\n",
    "del nums[3:5]\n",
    "print(nums)"
   ]
  },
  {
   "attachments": {
    "image.png": {
     "image/png": "[encoded data removed]"
    }
   },
   "cell_type": "markdown",
   "id": "127d18c2",
   "metadata": {},
   "source": [
    "###  \\<pass> 부분에 리스트 insert()를 이용하여 코드를 입력하고 다음과 같이 출력되게 하세요.\n",
    "![image.png](attachment:image.png)"
   ]
  },
  {
   "cell_type": "code",
   "execution_count": 28,
   "id": "10fc66b0",
   "metadata": {},
   "outputs": [
    {
     "name": "stdout",
     "output_type": "stream",
     "text": [
      "[200, 100, 10000, 300]\n"
     ]
    }
   ],
   "source": [
    "list_a = [200, 100, 300]\n",
    "list_a.insert(2,10000)\n",
    "print(list_a)\n"
   ]
  },
  {
   "cell_type": "code",
   "execution_count": null,
   "id": "aa8305b3",
   "metadata": {},
   "outputs": [],
   "source": []
  },
  {
   "cell_type": "markdown",
   "id": "dc303eb6",
   "metadata": {},
   "source": [
    "###  몇 번째 행성인가요?\n",
    "- 우리 태양계를 이루고 있는 행성은 수성, 금성, 지구, 화성, 목성, 토성, 천왕성, 해왕성으로 총 8개입니다. \n",
    "- 입력으로 행성의 순서를 나타는 숫자 n이 입력되면 해당하는 행성을 출력합니다. 예) 입력 1 -> 수성"
   ]
  },
  {
   "cell_type": "code",
   "execution_count": 152,
   "id": "378d8d9d",
   "metadata": {},
   "outputs": [
    {
     "name": "stdout",
     "output_type": "stream",
     "text": [
      "3\n",
      "지구\n"
     ]
    }
   ],
   "source": [
    "planets = ['수성', '금성', '지구', '화성', '목성', '토성', '천왕성', '해왕성']\n",
    "\n",
    "user_input = int(input())\n",
    "print(planets[user_input-1])\n",
    "# i=1\n",
    "# for name in range (planets):\n",
    "#     print(i,name)\n",
    "\n",
    "    \n",
    "# b= int input('')\n",
    "\n",
    "# for i in range(0,len(planets)):\n",
    "#     print(i)\n",
    "    \n",
    "#     input(planets[i])\n",
    "#     print(planets)\n",
    "\n",
    "# enumList = list(enumerate(planets))\n",
    "\n",
    "# print(enumList)\n",
    "\n",
    "\n"
   ]
  },
  {
   "attachments": {
    "image.png": {
     "image/png": "[encoded data removed]"
    }
   },
   "cell_type": "markdown",
   "id": "ba0ca4d8",
   "metadata": {},
   "source": [
    "### 행성의 한글이름을 입력하면 영어 이름으로 반환하는 프로그램을 만드시오.\n",
    "- 영어이름 : Mercury, Venus, Earth, Mars, Jupiter, Saturn, Uranus, Neptune \n",
    "- 예) 입력 : 목성 -> 출력 : Jupiter\n",
    "![image.png](attachment:image.png)"
   ]
  },
  {
   "cell_type": "code",
   "execution_count": 100,
   "id": "1254a59d",
   "metadata": {},
   "outputs": [
    {
     "name": "stdout",
     "output_type": "stream",
     "text": [
      "행성을 선택하세요화성\n",
      "화성 : Mars\n"
     ]
    }
   ],
   "source": [
    "dicplanets = {'목성' : 'Jupiter', \n",
    "              '수성' : 'Mercury', \n",
    "              '지구' : 'Earth' , \n",
    "              '화성' : 'Mars' , \n",
    "              '토성' : 'Seturn', \n",
    "              '천왕성' : 'Uranus' , \n",
    "              '해왕성' : 'Neptune'}\n",
    "# print (dicplanets['목성'])\n",
    "\n",
    "# dic_input = input(\"행성 이름 입력\")\n",
    "\n",
    "# if dic_input in dicplanets.values():\n",
    "#     for key,val in dic.items():\n",
    "#         if val == dic_input:\n",
    "#             print(key)\n",
    "# else:\n",
    "#     print('그런 행성은 없습니다.')\n",
    "\n",
    "user_input = input('행성을 선택하세요')\n",
    "\n",
    "if user_input in dicplanets:\n",
    "    print(f'{user_input} : {dicplanets[user_input]}')\n",
    "    "
   ]
  },
  {
   "attachments": {
    "image-2.png": {
     "image/png": "[encoded data removed]"
    }
   },
   "cell_type": "markdown",
   "id": "3f911a08",
   "metadata": {},
   "source": [
    "### 입력으로 문자열이 주어지면 2-gram으로 출력하는 프로그램을 작성하시오.\n",
    "- 2-gram이란 문자열에서 2개의 연속된 요소를 출력하는 방법\n",
    "![image-2.png](attachment:image-2.png)"
   ]
  },
  {
   "cell_type": "code",
   "execution_count": 1,
   "id": "488beb56",
   "metadata": {},
   "outputs": [
    {
     "name": "stdout",
     "output_type": "stream",
     "text": [
      "py\n",
      "yt\n",
      "th\n",
      "ho\n",
      "on\n"
     ]
    }
   ],
   "source": [
    "user_input = str (input('나누고 싶은 문자를 입력하세요'))\n",
    "\n",
    "for i in range(len(user_input) -1):\n",
    "    print(user_input[i],user_input[i+1],sep='')"
   ]
  },
  {
   "cell_type": "markdown",
   "id": "e4bb4b17",
   "metadata": {},
   "source": [
    "###  문장이 입력되면 모든 q를 e로 바꾸는 프로그램을 작성하시오.\n",
    "- tomas는 문서를 작성하면서 모든 문장의 e를 q로 잘못 입력한 것을 발견했다. 파이썬으로 재빠르게 q를 e로 바꾸는 프로그램을 작성하려고 한다.\n",
    "- 입력 : querty    / 출력 : euerty\n",
    "- 입력 : La viq qn rosq / 출력 : La vie en rose"
   ]
  },
  {
   "cell_type": "code",
   "execution_count": 153,
   "id": "82ad80de",
   "metadata": {},
   "outputs": [
    {
     "name": "stdout",
     "output_type": "stream",
     "text": [
      "querty La viq qn rosq\n",
      "euerty La vie en rose\n"
     ]
    }
   ],
   "source": [
    "txt = 'querty La viq qn rosq'\n",
    "print(txt)\n",
    "\n",
    "txt = txt.replace('q','e')\n",
    "print(txt)"
   ]
  },
  {
   "cell_type": "markdown",
   "id": "a93b0ffc",
   "metadata": {},
   "source": [
    "### 숫자가 주어지면 소수인지 아닌지 판별하는 프로그램을 작성하시오.\n",
    "- 소수 : 1과 자기자신으로만 나누어 떨어지는 1보다 큰 양의 정수\n",
    "- 입력 : 11 / 출력 : YES\n",
    "- 입력 : 6 / 출력 : No"
   ]
  },
  {
   "cell_type": "code",
   "execution_count": 54,
   "id": "c26eddd6",
   "metadata": {},
   "outputs": [
    {
     "name": "stdout",
     "output_type": "stream",
     "text": [
      "숫자를 입력하세요 입력숫자 : 11\n",
      "YES\n"
     ]
    }
   ],
   "source": [
    "num = int(input(\"숫자를 입력하세요 입력숫자 : \"))\n",
    "result = 0\n",
    "\n",
    "for i in range(2,num):\n",
    "    if num%i==0:\n",
    "        result=1\n",
    "        \n",
    "if result==0:\n",
    "    print ('YES') #1과 자기자신만 약수로 있는 자연수\n",
    "else:\n",
    "    print('NO') #약수의 개수가 3개이상인 합성수\n"
   ]
  },
  {
   "cell_type": "code",
   "execution_count": null,
   "id": "4541dbb5",
   "metadata": {},
   "outputs": [],
   "source": [
    "\n",
    "        "
   ]
  },
  {
   "cell_type": "code",
   "execution_count": null,
   "id": "ae803fc4",
   "metadata": {},
   "outputs": [],
   "source": []
  },
  {
   "cell_type": "markdown",
   "id": "f2239ce2",
   "metadata": {},
   "source": [
    "###  str 자료형의 응용\n",
    "- 1~100까지의(100포함) 모든 숫자를 일렬로 놓고 모든 자릿수의 총 합을 구하시오\n",
    "- 예) 10~15 사이의 모든 숫자를 일렬로 놓으면 101112131415이고 각 자리의 숫자를 더하면 21이다."
   ]
  },
  {
   "cell_type": "code",
   "execution_count": 160,
   "id": "4f664513",
   "metadata": {},
   "outputs": [
    {
     "name": "stdout",
     "output_type": "stream",
     "text": [
      "1~100까지의 총합은 : 5050\n"
     ]
    }
   ],
   "source": [
    "#내가한거\n",
    "result = 0\n",
    "for i in range(1,101):\n",
    "    result += i\n",
    "print(f'1~100까지의 총합은 : {result}')"
   ]
  },
  {
   "cell_type": "code",
   "execution_count": 163,
   "id": "133cae40",
   "metadata": {},
   "outputs": [
    {
     "name": "stdout",
     "output_type": "stream",
     "text": [
      "1~100까지의 총합은 :  5050\n"
     ]
    }
   ],
   "source": [
    "#웨일문 구글링\n",
    "lcnt = 1\n",
    "sum=0\n",
    "while(lcnt<=100):\n",
    "    sum+=lcnt\n",
    "    lcnt+=1\n",
    "print(\"1~100까지의 총합은 : \",sum)"
   ]
  },
  {
   "cell_type": "code",
   "execution_count": 1,
   "id": "ed521088",
   "metadata": {},
   "outputs": [],
   "source": [
    "#나중에 뜯어볼것\n",
    "# def sum_for_divide_conquer(N):\n",
    "#     def generate(n):\n",
    "#         if n == 1:\n",
    "#             return 1\n",
    "#         elif n % 2 == 1:\n",
    "#             return n + generate(n-1)\n",
    "#         else:\n",
    "#             return generate(n // 2) * 2 + (n ** 2) // 4\n",
    "#     return generate(N)\n",
    "\n",
    "\n",
    "# print(sum_for_divide_conquer(100))\n",
    "# print(sum_for_divide_conquer(1000))\n"
   ]
  },
  {
   "cell_type": "code",
   "execution_count": 2,
   "id": "944aee5b",
   "metadata": {},
   "outputs": [
    {
     "name": "stdout",
     "output_type": "stream",
     "text": [
      "0123456789101112131415161718192021222324252627282930313233343536373839404142434445464748495051525354555657585960616263646566676869707172737475767778798081828384858687888990919293949596979899100\n",
      "1~100 모든 자리 수의 합은 901\n"
     ]
    }
   ],
   "source": [
    "#정답\n",
    "s = ''\n",
    "result = 0\n",
    "\n",
    "for i in range(101):\n",
    "    s += str(i)\n",
    "print(s)\n",
    "\n",
    "for i in s :\n",
    "    result +=int(i)\n",
    "\n",
    "print('1~100 모든 자리 수의 합은',result)"
   ]
  },
  {
   "attachments": {
    "image.png": {
     "image/png": "[encoded data removed]"
    }
   },
   "cell_type": "markdown",
   "id": "56d4644d",
   "metadata": {},
   "source": [
    "### 아래 요구사항에 맞는 프로그램을 작성하시오.\n",
    "- 새학기 되어 이름을 가나다 순서대로 배정하고 번호를 매기려고 한다. \n",
    "- studetns 변수를 활용하여 아래와 같이 출력하시오.\n",
    "![image.png](attachment:image.png)"
   ]
  },
  {
   "cell_type": "code",
   "execution_count": 40,
   "id": "72273808",
   "metadata": {
    "scrolled": true
   },
   "outputs": [
    {
     "name": "stdout",
     "output_type": "stream",
     "text": [
      "번호 : 1, 이름 : 강은지 \n",
      "번호 : 2, 이름 : 강채연 \n",
      "번호 : 3, 이름 : 권윤일 \n",
      "번호 : 4, 이름 : 김민호 \n",
      "번호 : 5, 이름 : 김유정 \n",
      "번호 : 6, 이름 : 김진이 \n",
      "번호 : 7, 이름 : 김채리 \n",
      "번호 : 8, 이름 : 박지호 \n",
      "번호 : 9, 이름 : 박현서 \n",
      "번호 : 10, 이름 : 최성훈 \n",
      "번호 : 11, 이름 : 한지호 \n",
      "번호 : 12, 이름 : 홍유진 \n"
     ]
    }
   ],
   "source": [
    "students = ['강은지', '김유정','박현서', '최성훈','홍유진','박지호','권윤일','김채리','한지호','김진이','김민호','강채연']\n",
    "students.sort()\n",
    "count = 0\n",
    "for i in students :\n",
    "    count += 1\n",
    "    print(f'번호 : {count}, 이름 : {i} ')\n"
   ]
  },
  {
   "cell_type": "code",
   "execution_count": 7,
   "id": "864c0c4a",
   "metadata": {},
   "outputs": [
    {
     "name": "stdout",
     "output_type": "stream",
     "text": [
      "['강은지', '강채연', '권윤일', '김민호', '김유정', '김진이', '김채리', '박지호', '박현서', '최성훈', '한지호', '홍유진']\n",
      "번호 : 1, 이름 : 강은지\n",
      "번호 : 2, 이름 : 강채연\n",
      "번호 : 3, 이름 : 권윤일\n",
      "번호 : 4, 이름 : 김민호\n",
      "번호 : 5, 이름 : 김유정\n",
      "번호 : 6, 이름 : 김진이\n",
      "번호 : 7, 이름 : 김채리\n",
      "번호 : 8, 이름 : 박지호\n",
      "번호 : 9, 이름 : 박현서\n",
      "번호 : 10, 이름 : 최성훈\n",
      "번호 : 11, 이름 : 한지호\n",
      "번호 : 12, 이름 : 홍유진\n"
     ]
    }
   ],
   "source": [
    "students = ['강은지', '김유정','박현서', '최성훈','홍유진','박지호','권윤일','김채리','한지호','김진이','김민호','강채연']\n",
    "students2 = sorted(students)\n",
    "print(students2)\n",
    "\n",
    "for idx, val in enumerate(students2):\n",
    "    print(f'번호 : {idx+1}, 이름 : {val}')"
   ]
  },
  {
   "attachments": {
    "image.png": {
     "image/png": "[encoded data removed]"
    }
   },
   "cell_type": "markdown",
   "id": "b389e154",
   "metadata": {},
   "source": [
    "### 아래 질문에 알맞은 프로그램을 작성하시오.\n",
    "- 아빠는 딸과 친과 친해지기 위해 줄임말을 배우기로 했습니다. \n",
    "- 딸은 '복잡한 세상 편하게 살자'라는 문장을 '복세편살'로 줄여 말합니다.\n",
    "- 아빠가 줄임말을 배우기 위해 아래와 같이 어떤 입력이 주어지면 앞 글자만 줄어 출력되도록 프로그래밍 하시오.\n",
    "![image.png](attachment:image.png)"
   ]
  },
  {
   "cell_type": "code",
   "execution_count": null,
   "id": "33398bc5",
   "metadata": {},
   "outputs": [],
   "source": [
    "# a=\"\"\n",
    "# print(\"문장을 입력해주세요. 'q' 입력시 종료합니다.\")\n",
    "# while a!='q':\n",
    "#     a=input(\"\")\n",
    "#     if a[0]!='q':\n",
    "#         print(a[0])\n",
    "#     for i in range(len(a)):\n",
    "#         if a[i]==\" \":\n",
    "#             print(a[i+1])"
   ]
  },
  {
   "cell_type": "code",
   "execution_count": 61,
   "id": "3f647c64",
   "metadata": {},
   "outputs": [
    {
     "name": "stdout",
     "output_type": "stream",
     "text": [
      "복잡한 세상 편하게 살자\n",
      "줄임말 : 복세편살\n"
     ]
    }
   ],
   "source": [
    "a = []\n",
    "b = input(\"문장을 입력하세요 :\").split()\n",
    "r = b[0][0]\n",
    "\n",
    "for i in range(1,len(b)):\n",
    "    if b[i] in a:\n",
    "        continue\n",
    "    r += b[i][0]\n",
    "print(f'줄임말 : {r}')\n"
   ]
  },
  {
   "attachments": {
    "image.png": {
     "image/png": "[encoded data removed]"
    }
   },
   "cell_type": "markdown",
   "id": "0a9b6209",
   "metadata": {},
   "source": [
    "### 문자열을 입력받아 각 문자들로 구성된 리스트로 반환하는 make_list() 정의하고 호출하시오\n",
    "![image.png](attachment:image.png)"
   ]
  },
  {
   "cell_type": "code",
   "execution_count": 9,
   "id": "c73b8c9a",
   "metadata": {
    "scrolled": false
   },
   "outputs": [
    {
     "name": "stdout",
     "output_type": "stream",
     "text": [
      "['H', 'e', 'l', 'l', 'o']\n"
     ]
    }
   ],
   "source": [
    "def make_list(string):\n",
    "    my_list = []\n",
    "    for i in string:\n",
    "        my_list.append(i)\n",
    "    return my_list\n",
    "\n",
    "print(make_list(\"Hello\"))"
   ]
  },
  {
   "cell_type": "code",
   "execution_count": 8,
   "id": "553e1bb4",
   "metadata": {},
   "outputs": [
    {
     "name": "stdout",
     "output_type": "stream",
     "text": [
      "['H', 'e', 'l', 'l', 'o']\n"
     ]
    }
   ],
   "source": [
    "def make_list (string) :\n",
    "    return list(string)\n",
    "\n",
    "print(make_list(\"Hello\"))"
   ]
  },
  {
   "cell_type": "markdown",
   "id": "a1da78a7",
   "metadata": {},
   "source": [
    "### 하나의 리스트를 입력받아 짝수만 돌려주는 even() 를 정의하고 호출하시오."
   ]
  },
  {
   "cell_type": "code",
   "execution_count": 187,
   "id": "006ef2f3",
   "metadata": {
    "scrolled": true
   },
   "outputs": [
    {
     "data": {
      "text/plain": [
       "[4, 6, 8]"
      ]
     },
     "execution_count": 187,
     "metadata": {},
     "output_type": "execute_result"
    }
   ],
   "source": [
    "# def Even(items):\n",
    "#     result = []\n",
    "#     for item in items:\n",
    "#         if item % 2 == 0:\n",
    "#             result.append(item)\n",
    "#     return result\n",
    "\n",
    "# Even([3, 4, 5, 6, 7, 8])"
   ]
  },
  {
   "cell_type": "code",
   "execution_count": 11,
   "id": "cd0db876",
   "metadata": {},
   "outputs": [
    {
     "name": "stdout",
     "output_type": "stream",
     "text": [
      "2\n",
      "10\n",
      "12\n",
      "14\n",
      "24\n"
     ]
    }
   ],
   "source": [
    "def even (my_list) :\n",
    "    for i in my_list :\n",
    "        if i % 2 == 0 :\n",
    "            print(i)\n",
    "even([1, 3, 2, 10, 12, 11, 13, 14, 15 ,24])"
   ]
  },
  {
   "cell_type": "code",
   "execution_count": 12,
   "id": "52fd3d53",
   "metadata": {},
   "outputs": [
    {
     "data": {
      "text/plain": [
       "[2, 10, 12]"
      ]
     },
     "execution_count": 12,
     "metadata": {},
     "output_type": "execute_result"
    }
   ],
   "source": [
    "def even(list_x) :\n",
    "    result = []\n",
    "    for i in list_x :\n",
    "        if i % 2 == 0 : result.append(i)\n",
    "    return result\n",
    "\n",
    "list_a = [1, 3, 2, 10, 12, 11, 15]\n",
    "even(list_a)"
   ]
  },
  {
   "cell_type": "code",
   "execution_count": 10,
   "id": "3ec02501",
   "metadata": {},
   "outputs": [
    {
     "name": "stdout",
     "output_type": "stream",
     "text": [
      "[2, 10, 12]\n"
     ]
    }
   ],
   "source": [
    "list_a = [1, 3, 2, 10, 12, 11, 15]\n",
    "def even(a):\n",
    "    return a %2 == 0\n",
    "\n",
    "print(list(filter(even,list_a)))"
   ]
  }
 ],
 "metadata": {
  "kernelspec": {
   "display_name": "Python 3.10.5 64-bit",
   "language": "python",
   "name": "python3"
  },
  "language_info": {
   "codemirror_mode": {
    "name": "ipython",
    "version": 3
   },
   "file_extension": ".py",
   "mimetype": "text/x-python",
   "name": "python",
   "nbconvert_exporter": "python",
   "pygments_lexer": "ipython3",
   "version": "3.10.5"
  },
  "toc": {
   "base_numbering": 1,
   "nav_menu": {},
   "number_sections": true,
   "sideBar": true,
   "skip_h1_title": false,
   "title_cell": "Table of Contents",
   "title_sidebar": "Contents",
   "toc_cell": false,
   "toc_position": {},
   "toc_section_display": true,
   "toc_window_display": false
  },
  "vscode": {
   "interpreter": {
    "hash": "041d1bf15cd7204c11d27e64d7e3f888abac55cd4faa8256afeeb4489e7f0daf"
   }
  }
 },
 "nbformat": 4,
 "nbformat_minor": 5
}
