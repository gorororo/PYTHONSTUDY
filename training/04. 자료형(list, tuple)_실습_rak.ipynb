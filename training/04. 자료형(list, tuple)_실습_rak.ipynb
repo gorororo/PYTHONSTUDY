{
 "cells": [
  {
   "cell_type": "markdown",
   "id": "fa00de76",
   "metadata": {},
   "source": [
    "**연속형 데이터 (Sequential Data Types)**"
   ]
  },
  {
   "cell_type": "markdown",
   "id": "9e1d2b5c",
   "metadata": {},
   "source": [
    "**Q. 숫자 100개를 한번에 다루려고 한다. <=> 하나의 변수에 숫자 100개를 저장하고 싶다. 어떻게 해야할까?**   \n",
    "*A. 연속형 데이터 타입을 사용하자!*"
   ]
  },
  {
   "cell_type": "markdown",
   "id": "81a77a86",
   "metadata": {},
   "source": [
    "-  연속형 데이터란, 하나의 변수가 하나의 데이터를 가지고 있던 숫자형 데이터와 달리, 여러개의 데이터를 하나의 변수에 가지고 있는 데이터 타입이다.\n",
    "- 연속형 데이터 타입에는 list, tuple, set, dict(dictionary), str(string)이 있다. (문자열을 문자들의 나열로 인식하기 때문에, 연속형 데이터이다.)\n",
    "- 연속형 데이터의 크기 제한은 없다. 하지만, 사용하는 컴퓨터의 가용 메모리 용량을 인지하며 사용해야 한다.\n",
    "- 각 연속형 데이터 타입마다 특징이 다르다. 그 특징을 파악하여 용도에 맞는 데이터 타입을 사용하는 것이 중요하다."
   ]
  },
  {
   "cell_type": "markdown",
   "id": "83a1e59c",
   "metadata": {},
   "source": [
    "# 리스트(list)\n",
    "\n",
    "\n",
    "- 가장 많이 사용되는 연속형 데이터 타입이자, 굉장히 유연한 구조를 가지고 있어 대부분의 데이터를 편하게 다룰 수 있다.\n",
    "- 파이썬에서 <kbd>[</kbd> 와 <kbd>]</kbd>를 이용하여 표현한다. a = [1, 2, 3]\n",
    "- 리스트의 원소는 쉼표로 구분되며, 리스트의 원소(요소, 값..)는 아무 데이터 타입이나 가능하다. 리스트조차 가능하다.\n",
    "- 리스트를 이용하면 파이썬에서 다루는 대부분의 데이터는 아무 무리없이 다룰 수 있다. 하지만 수정이 자유롭기 때문에 수정을 하면 안되는 경우에는 사용하면 안된다."
   ]
  },
  {
   "cell_type": "markdown",
   "id": "238b03b5",
   "metadata": {},
   "source": [
    "## 리스트를 만드는 방법"
   ]
  },
  {
   "cell_type": "code",
   "execution_count": 11,
   "id": "fd2c1da6",
   "metadata": {},
   "outputs": [],
   "source": [
    "# 정수 1, 2, 3, 4, 5를 원소로 가지는 리스트를 만듭니다.\n",
    "list_a =[1,2,3,4,5]\n",
    "print (type(list_a))\n",
    "print (list_a)"
   ]
  },
  {
   "cell_type": "code",
   "execution_count": 13,
   "id": "758feaf6",
   "metadata": {},
   "outputs": [
    {
     "data": {
      "text/plain": [
       "list"
      ]
     },
     "execution_count": 13,
     "metadata": {},
     "output_type": "execute_result"
    }
   ],
   "source": [
    "# 빈 리스트를 만드는 방법\n",
    "list_a=[]\n",
    "print (type(list_a))\n",
    "print (list_a)"
   ]
  },
  {
   "cell_type": "code",
   "execution_count": 84,
   "id": "a3726e09",
   "metadata": {},
   "outputs": [
    {
     "name": "stdout",
     "output_type": "stream",
     "text": [
      "<class 'list'>\n",
      "[]\n"
     ]
    }
   ],
   "source": [
    "# 빈 리스트를 만드는 같은 방법\n",
    "list_a2 = list()\n",
    "print (type(list_a2))\n",
    "print(list_a2)"
   ]
  },
  {
   "cell_type": "code",
   "execution_count": 15,
   "id": "5e2da7fc",
   "metadata": {},
   "outputs": [
    {
     "data": {
      "text/plain": [
       "[1, 'Hello', 3.14, [1, 2, 3]]"
      ]
     },
     "execution_count": 15,
     "metadata": {},
     "output_type": "execute_result"
    }
   ],
   "source": [
    "# 리스트에는 다양한 타입의 원소를 다 포함할 수 있다. 심지어 리스트도.\n",
    "list_a3 = [1, 'Hello', 3.14, [1, 2, 3]] \n"
   ]
  },
  {
   "cell_type": "code",
   "execution_count": 30,
   "id": "8287ce00",
   "metadata": {},
   "outputs": [
    {
     "data": {
      "text/plain": [
       "[[1, 2], [3, 4]]"
      ]
     },
     "execution_count": 30,
     "metadata": {},
     "output_type": "execute_result"
    }
   ],
   "source": [
    "list_a4 = [[1, 2],[3, 4]] # 2x2 행렬 표현처럼 사용할 수 있다. 이를 2차원 리스트라고 한다.\n",
    "list_a4 # 실제로는 2개의 리스트를 원소로 가지는 리스트이다."
   ]
  },
  {
   "cell_type": "markdown",
   "id": "c22bcd70",
   "metadata": {},
   "source": [
    "### Indexing"
   ]
  },
  {
   "cell_type": "markdown",
   "id": "39161307",
   "metadata": {},
   "source": [
    "- 연속형 데이터들은 하나의 변수에 여러가지 데이터를 가지기 때문에 여러 데이터를 접근하는 방법이 필요하다.\n",
    "- 이를 위해 indexing이라는 기법이 있다. 말그대로 index를 통해 접근(access)하는 방법이다.\n",
    "- 리스트의 index는 맨 앞부터 0으로 시작하며, 1씩 증가하는 정수 index를 사용한다.\n",
    "- list_a = [ 10, 20, 30, 40, 50 ] 이면 첫번째 원소는 index가 0이고, 두번째 원소는 index가 1이다.\n",
    "- 파이썬에서는 음수 index도 제공하는데, 이는 뒤쪽부터 접근할 수 있는 방법이다. \n",
    "- 뒤에서 첫번째(맨 마지막)원소는 index가 -1이고, 뒤에서 두번째 원소는 index가 -2이다.\n",
    "- index를 통해 접근하는 방법은 해당 변수이름에 [ ]를 사용하며, [ ]안에 index를 넣어서 접근할 수 있다.\n",
    "| 10 | 20 | 30 | 40 | 50 | \n",
    "| ---- | ---- | ---- | ---- | ---- |\n",
    "|  [0] |  [1] |  [2] |  [3] |  [4] | \n",
    "|  [-5] |  [-4] |  [-3] |  [-2] |  [-1] | "
   ]
  },
  {
   "cell_type": "code",
   "execution_count": 88,
   "id": "bd17d771",
   "metadata": {},
   "outputs": [
    {
     "data": {
      "text/plain": [
       "[10, 20, 30, 40, 50]"
      ]
     },
     "execution_count": 88,
     "metadata": {},
     "output_type": "execute_result"
    }
   ],
   "source": [
    "list_a = [10, 20, 30, 40, 50]\n",
    "list_a"
   ]
  },
  {
   "cell_type": "code",
   "execution_count": 18,
   "id": "577e4ed2",
   "metadata": {},
   "outputs": [
    {
     "data": {
      "text/plain": [
       "10"
      ]
     },
     "execution_count": 18,
     "metadata": {},
     "output_type": "execute_result"
    }
   ],
   "source": [
    "# list_a의 첫번째 원소\n",
    "list_a = [10, 20, 30, 40, 50]\n",
    "list_a[0]\n",
    "list_a[-len(list_a)]"
   ]
  },
  {
   "cell_type": "code",
   "execution_count": 21,
   "id": "46868b6a",
   "metadata": {},
   "outputs": [
    {
     "data": {
      "text/plain": [
       "50"
      ]
     },
     "execution_count": 21,
     "metadata": {},
     "output_type": "execute_result"
    }
   ],
   "source": [
    "# list_a의 마지막 원소\n",
    "list_a = [10, 20, 30, 40, 50]\n",
    "list_a[-1]\n",
    "list_a[len(list_a)-1]"
   ]
  },
  {
   "cell_type": "code",
   "execution_count": 22,
   "id": "a258472f",
   "metadata": {},
   "outputs": [
    {
     "ename": "IndexError",
     "evalue": "list index out of range",
     "output_type": "error",
     "traceback": [
      "\u001b[1;31m---------------------------------------------------------------------------\u001b[0m",
      "\u001b[1;31mIndexError\u001b[0m                                Traceback (most recent call last)",
      "\u001b[1;32md:\\gorororo\\PYTHONSTUDY\\python training\\04. 자료형(list, tuple)_실습.ipynb Cell 16'\u001b[0m in \u001b[0;36m<cell line: 3>\u001b[1;34m()\u001b[0m\n\u001b[0;32m      <a href='vscode-notebook-cell:/d%3A/gorororo/PYTHONSTUDY/python%20training/04.%20%EC%9E%90%EB%A3%8C%ED%98%95%28list%2C%20tuple%29_%EC%8B%A4%EC%8A%B5.ipynb#ch0000015?line=0'>1</a>\u001b[0m \u001b[39m# list_a에 없는 index는?\u001b[39;00m\n\u001b[0;32m      <a href='vscode-notebook-cell:/d%3A/gorororo/PYTHONSTUDY/python%20training/04.%20%EC%9E%90%EB%A3%8C%ED%98%95%28list%2C%20tuple%29_%EC%8B%A4%EC%8A%B5.ipynb#ch0000015?line=1'>2</a>\u001b[0m list_a \u001b[39m=\u001b[39m [\u001b[39m10\u001b[39m, \u001b[39m20\u001b[39m, \u001b[39m30\u001b[39m, \u001b[39m40\u001b[39m, \u001b[39m50\u001b[39m]\n\u001b[1;32m----> <a href='vscode-notebook-cell:/d%3A/gorororo/PYTHONSTUDY/python%20training/04.%20%EC%9E%90%EB%A3%8C%ED%98%95%28list%2C%20tuple%29_%EC%8B%A4%EC%8A%B5.ipynb#ch0000015?line=2'>3</a>\u001b[0m list_a[\u001b[39m5\u001b[39;49m]\n",
      "\u001b[1;31mIndexError\u001b[0m: list index out of range"
     ]
    }
   ],
   "source": [
    "# list_a에 없는 index는? 에러가난다\n",
    "list_a = [10, 20, 30, 40, 50]\n",
    "list_a[5]"
   ]
  },
  {
   "cell_type": "code",
   "execution_count": 23,
   "id": "10ce0ec5",
   "metadata": {},
   "outputs": [
    {
     "data": {
      "text/plain": [
       "50"
      ]
     },
     "execution_count": 23,
     "metadata": {},
     "output_type": "execute_result"
    }
   ],
   "source": [
    "# list_a의 마지막 원소dd\n",
    "list_a = [10, 20, 30, 40, 50]\n",
    "list_a[len(list_a)-1]dd"
   ]
  },
  {
   "cell_type": "code",
   "execution_count": 80,
   "id": "0a786937",
   "metadata": {},
   "outputs": [
    {
     "name": "stdout",
     "output_type": "stream",
     "text": [
      "30\n"
     ]
    }
   ],
   "source": [
    "# indexing을 이용한 연산. list_a의 첫번째, 두번째 원소를 가져다가 더해봅니다.\n",
    "print (list_a[0]+list_a[1])\n"
   ]
  },
  {
   "cell_type": "code",
   "execution_count": 82,
   "id": "00b8c3c5",
   "metadata": {},
   "outputs": [
    {
     "name": "stdout",
     "output_type": "stream",
     "text": [
      "30\n"
     ]
    }
   ],
   "source": [
    "list_a2 = [10, [20, 30], 50]\n",
    "print (list_a2[0]+list_a2[1][0])\n"
   ]
  },
  {
   "cell_type": "code",
   "execution_count": 28,
   "id": "fe61ba14",
   "metadata": {},
   "outputs": [
    {
     "data": {
      "text/plain": [
       "([20, 30], [0])"
      ]
     },
     "execution_count": 28,
     "metadata": {},
     "output_type": "execute_result"
    }
   ],
   "source": [
    "# list_a2에서 20에 접근하기 위해 indexing을 해보자.\n",
    "list_a2[1],[0]"
   ]
  },
  {
   "cell_type": "code",
   "execution_count": 38,
   "id": "d980c2cb",
   "metadata": {},
   "outputs": [
    {
     "name": "stdout",
     "output_type": "stream",
     "text": [
      "30\n",
      "80\n"
     ]
    }
   ],
   "source": [
    "list_a2 = [10, [20, 30, 40], 50, [60, 70, 80]]\n",
    "\n",
    "#30\n",
    "print (list_a2[1][1])\n",
    "\n",
    "#80\n",
    "print (list_a2[3][2])"
   ]
  },
  {
   "cell_type": "code",
   "execution_count": 46,
   "id": "79ad7671",
   "metadata": {},
   "outputs": [
    {
     "name": "stdout",
     "output_type": "stream",
     "text": [
      "100\n"
     ]
    }
   ],
   "source": [
    "list_a2 = [10, [20, 30,[100,200], 40], 50, [60, 70, 80]]  \n",
    "\n",
    "#100  3차원\n",
    "print (list_a2[1][2][0])"
   ]
  },
  {
   "cell_type": "markdown",
   "id": "d45ce1a4",
   "metadata": {},
   "source": [
    "### Slicing"
   ]
  },
  {
   "cell_type": "markdown",
   "id": "1f5b4255",
   "metadata": {},
   "source": [
    "- 슬라이싱은 리스트의 일부분만 잘라낸다는 의미이다. (말그대로 슬라이싱)\n",
    "- 리스트의 일부만 사용하고 싶을 때 쓰는 기법\n",
    "- 리스트의 index와 <kbd>:</kbd>를 사용하여 슬라이싱을 할 수 있다.\n",
    "- 리스트[시작인덱스 : 끝인덱스+1 : 증가값)\n",
    "- list_a = [10, 20, 30, 40]일때list_a[0:2:1]는 [10, 20]이다."
   ]
  },
  {
   "cell_type": "code",
   "execution_count": 5,
   "id": "ec202b4b",
   "metadata": {},
   "outputs": [
    {
     "data": {
      "text/plain": [
       "[10, 20, 30, 40, 50]"
      ]
     },
     "execution_count": 5,
     "metadata": {},
     "output_type": "execute_result"
    }
   ],
   "source": [
    "list_a = [10, 20, 30, 40, 50]\n",
    "list_a"
   ]
  },
  {
   "cell_type": "code",
   "execution_count": 62,
   "id": "8ffab0d3",
   "metadata": {},
   "outputs": [
    {
     "name": "stdout",
     "output_type": "stream",
     "text": [
      "[10, 20]\n"
     ]
    }
   ],
   "source": [
    "# list_a의 첫번째부터 index 2 까지 자르기\n",
    "print (list_a [0:2:1])"
   ]
  },
  {
   "cell_type": "code",
   "execution_count": 63,
   "id": "aab94e15",
   "metadata": {},
   "outputs": [
    {
     "name": "stdout",
     "output_type": "stream",
     "text": [
      "[20, 30, 40]\n"
     ]
    }
   ],
   "source": [
    "# list_a의 두번째부터 index 4 까지 자르기\n",
    "print (list_a [1:4:1])"
   ]
  },
  {
   "cell_type": "code",
   "execution_count": 64,
   "id": "5d62416b",
   "metadata": {},
   "outputs": [
    {
     "name": "stdout",
     "output_type": "stream",
     "text": [
      "[10, 20]\n"
     ]
    }
   ],
   "source": [
    "# 시작 index를 생략하면, 자동으로 index는 0이 된다. (맨 처음)\n",
    "list_a = [10, 20, 30, 40, 50]\n",
    "print (list_a [:2])"
   ]
  },
  {
   "cell_type": "code",
   "execution_count": 68,
   "id": "65281f94",
   "metadata": {},
   "outputs": [
    {
     "data": {
      "text/plain": [
       "[20, 30, 40, 50]"
      ]
     },
     "execution_count": 68,
     "metadata": {},
     "output_type": "execute_result"
    }
   ],
   "source": [
    "list_a[1:] #인덱스 2번째 부터 끝까지"
   ]
  },
  {
   "cell_type": "code",
   "execution_count": 71,
   "id": "9193ea50",
   "metadata": {},
   "outputs": [
    {
     "name": "stdout",
     "output_type": "stream",
     "text": [
      "[10, 20, 30, 40, 50] [10, 20, 30, 40, 50]\n"
     ]
    }
   ],
   "source": [
    "print (list_a[::],list_a[:]) #맨 끝 증가값은 생략 가능하다\n"
   ]
  },
  {
   "cell_type": "markdown",
   "id": "26ecc1a6",
   "metadata": {},
   "source": [
    "## 리스트 연산하기 "
   ]
  },
  {
   "cell_type": "markdown",
   "id": "e659996e",
   "metadata": {},
   "source": [
    "> 문자열때와 마찬가지로, 리스트도 더하기, 곱하기 연산이 존재한다."
   ]
  },
  {
   "cell_type": "markdown",
   "id": "a665b1f9",
   "metadata": {},
   "source": [
    "### +  :  연결"
   ]
  },
  {
   "cell_type": "code",
   "execution_count": 87,
   "id": "215373a7",
   "metadata": {},
   "outputs": [
    {
     "data": {
      "text/plain": [
       "[10, 20, 30, 40, 50]"
      ]
     },
     "execution_count": 87,
     "metadata": {},
     "output_type": "execute_result"
    }
   ],
   "source": [
    "list_a=[10,20,30] # 그냥 합쳐서 보여준것일뿐 리스트 안에 값이 변한건 없다\n",
    "list_a2=[40,50]\n",
    "list_a+list_a2"
   ]
  },
  {
   "cell_type": "markdown",
   "id": "c989db98",
   "metadata": {},
   "source": [
    "- 리스트명.extend(추가할 리스트)"
   ]
  },
  {
   "cell_type": "code",
   "execution_count": 88,
   "id": "58fb82db",
   "metadata": {},
   "outputs": [
    {
     "data": {
      "text/plain": [
       "[10, 20, 30, 40, 50]"
      ]
     },
     "execution_count": 88,
     "metadata": {},
     "output_type": "execute_result"
    }
   ],
   "source": [
    "list_a1 = [10, 20, 30] #추가 시켜서 리스트 자체에 포함된다\n",
    "list_a1.extend(list_a2)\n",
    "list_a1"
   ]
  },
  {
   "cell_type": "markdown",
   "id": "5b77b29a",
   "metadata": {},
   "source": [
    "### * : 반복"
   ]
  },
  {
   "cell_type": "code",
   "execution_count": 89,
   "id": "a74edd07",
   "metadata": {},
   "outputs": [
    {
     "data": {
      "text/plain": [
       "[1, 2, 3, 1, 2, 3, 1, 2, 3]"
      ]
     },
     "execution_count": 89,
     "metadata": {},
     "output_type": "execute_result"
    }
   ],
   "source": [
    "list_a = [1, 2, 3] # *는 반복\n",
    "list_a * 3"
   ]
  },
  {
   "cell_type": "markdown",
   "id": "d4549afc",
   "metadata": {},
   "source": [
    "## 리스트 수정"
   ]
  },
  {
   "cell_type": "code",
   "execution_count": 91,
   "id": "7cc301ab",
   "metadata": {},
   "outputs": [
    {
     "name": "stdout",
     "output_type": "stream",
     "text": [
      "[10, 20, 50, 40, 50]\n"
     ]
    }
   ],
   "source": [
    "list_a= [10,20,30,40,50]\n",
    "list_a[2] = 50 #인덱스에 추가하고 싶을떄\n",
    "print (list_a)"
   ]
  },
  {
   "cell_type": "markdown",
   "id": "3f30f4ad",
   "metadata": {},
   "source": [
    "## 리스트 관련 함수"
   ]
  },
  {
   "cell_type": "markdown",
   "id": "20339ff1",
   "metadata": {},
   "source": [
    "### 리스트에 원소 추가하기 : \n",
    "- 리스트명.append(값)\n",
    "- 리스트명.insert(인덱스, 값)"
   ]
  },
  {
   "cell_type": "code",
   "execution_count": 94,
   "id": "cd77ca7e",
   "metadata": {},
   "outputs": [
    {
     "name": "stdout",
     "output_type": "stream",
     "text": [
      "[10, 20, 30, 40, 50]\n"
     ]
    }
   ],
   "source": [
    "list_a = []\n",
    "list_a.append (10)\n",
    "list_a.append (20)\n",
    "list_a.append (30)\n",
    "list_a.append (40)\n",
    "list_a.append (50)\n",
    "print (list_a)"
   ]
  },
  {
   "cell_type": "code",
   "execution_count": 109,
   "id": "824114ee",
   "metadata": {},
   "outputs": [
    {
     "name": "stdout",
     "output_type": "stream",
     "text": [
      "[10, 20, 30, 70, 70, 70, 70, 70, 70, 70, 70, 70, 70, 70, 70, 40, 50]\n"
     ]
    }
   ],
   "source": [
    "list_a.insert (3,70) #d인덱스4번째 에  70 추가\n",
    "print(list_a)\n"
   ]
  },
  {
   "cell_type": "markdown",
   "id": "458b51f3",
   "metadata": {},
   "source": [
    "### 리스트에 원소 삭제하기 \n",
    "\n",
    "- 리스트명.remove(값)\n",
    "- del(리스트명[인덱스])\n",
    "- 리스트명.pop(인덱스), 리스트명.pop()\n",
    "- 리스트.clear() : 모두 제거"
   ]
  },
  {
   "cell_type": "code",
   "execution_count": 111,
   "id": "f5f7e89f",
   "metadata": {},
   "outputs": [
    {
     "name": "stdout",
     "output_type": "stream",
     "text": [
      "[10, 20, 30, 40, 50, 60, 70, 80, 90]\n",
      "[10, 20, 30, 50, 60, 70, 80, 90]\n"
     ]
    }
   ],
   "source": [
    "list_c = [10, 20, 30, 40, 50, 60, 70, 80, 90]\n",
    "print(list_c)\n",
    "list_c.remove(40)\n",
    "print(list_c)"
   ]
  },
  {
   "cell_type": "code",
   "execution_count": 113,
   "id": "7850070c",
   "metadata": {},
   "outputs": [
    {
     "name": "stdout",
     "output_type": "stream",
     "text": [
      "[10, 20, 30, 50, 80, 90]\n"
     ]
    }
   ],
   "source": [
    "del(list_c[4])\n",
    "print(list_c)"
   ]
  },
  {
   "cell_type": "code",
   "execution_count": 114,
   "id": "7965926f",
   "metadata": {},
   "outputs": [
    {
     "name": "stdout",
     "output_type": "stream",
     "text": [
      "[20, 30, 50, 80, 90]\n"
     ]
    }
   ],
   "source": [
    "list_c.pop(0)\n",
    "print(list_c)"
   ]
  },
  {
   "cell_type": "code",
   "execution_count": 118,
   "id": "f3e81d2f",
   "metadata": {},
   "outputs": [
    {
     "name": "stdout",
     "output_type": "stream",
     "text": [
      "[10, 20, 30, 40, 50, 60, 70, 80]\n"
     ]
    }
   ],
   "source": [
    "list_c = [10, 20, 30, 40, 50, 60, 70, 80, 90]\n",
    "list_c.pop() #비워두면 끝에껄 빼낸다 단 빼낸값은 없어지지않고 들고 있는다 라스트인 퍼스트 아웃 last in first out\n",
    "print(list_c)"
   ]
  },
  {
   "cell_type": "code",
   "execution_count": 119,
   "id": "fa7d83f0",
   "metadata": {},
   "outputs": [
    {
     "name": "stdout",
     "output_type": "stream",
     "text": [
      "[]\n"
     ]
    }
   ],
   "source": [
    "list_c.clear()\n",
    "print(list_c)"
   ]
  },
  {
   "cell_type": "markdown",
   "id": "53e0e975",
   "metadata": {},
   "source": [
    "### 리스트 원소 정렬하기\n",
    "- 오름차순 :  리스트명.sort()\n",
    "- 내림차순 :  리스트명.sort(reverse=True)"
   ]
  },
  {
   "cell_type": "code",
   "execution_count": 121,
   "id": "345bac53",
   "metadata": {},
   "outputs": [
    {
     "data": {
      "text/plain": [
       "[10, 20, 30, 40, 50]"
      ]
     },
     "execution_count": 121,
     "metadata": {},
     "output_type": "execute_result"
    }
   ],
   "source": [
    "# 오름차순\n",
    "list_d = [10, 30, 50, 20, 40]\n",
    "list_d.sort()\n",
    "list_d"
   ]
  },
  {
   "cell_type": "code",
   "execution_count": 122,
   "id": "7f25bb19",
   "metadata": {},
   "outputs": [
    {
     "data": {
      "text/plain": [
       "[50, 40, 30, 20, 10]"
      ]
     },
     "execution_count": 122,
     "metadata": {},
     "output_type": "execute_result"
    }
   ],
   "source": [
    "# 내림차순\n",
    "list_d = [10, 30, 50, 20, 40]\n",
    "list_d.sort(reverse=True)\n",
    "list_d\n"
   ]
  },
  {
   "cell_type": "code",
   "execution_count": 133,
   "id": "b470948e",
   "metadata": {},
   "outputs": [
    {
     "name": "stdout",
     "output_type": "stream",
     "text": [
      "입력받은 데이터 : [54, 12, 3, 46, 123]\n",
      "정렬결과 : [3, 12, 46, 54, 123]\n"
     ]
    }
   ],
   "source": [
    "# 5개의 숫자를 입력받아서 오름차순으로 정렬하기\n",
    "\n",
    "list_a = []\n",
    "for i in range(1,6,1):\n",
    "    list_a.append (int(input( f'{i}번째 수 :')))\n",
    "    \n",
    "print(f'입력받은 데이터 : {list_a}')\n",
    "list_a.sort()\n",
    "print('정렬결과 :',list_a)"
   ]
  },
  {
   "cell_type": "markdown",
   "id": "0175fad6",
   "metadata": {},
   "source": [
    "### 리스트 뒤집기 reverse()"
   ]
  },
  {
   "cell_type": "code",
   "execution_count": 134,
   "id": "39ec0857",
   "metadata": {},
   "outputs": [
    {
     "name": "stdout",
     "output_type": "stream",
     "text": [
      "입력받은 데이터 : [10, 30, 50, 20, 40, 1231352, 12313, 1215, 5645, 135]\n",
      "정렬결과 : [135, 5645, 1215, 12313, 1231352, 40, 20, 50, 30, 10]\n"
     ]
    }
   ],
   "source": [
    "list_d = [10, 30, 50, 20, 40]\n",
    "for i in range(1,6,1):\n",
    "    list_d.append (int(input( f'{i}번째 수 :')))\n",
    "    \n",
    "print(f'입력받은 데이터 : {list_d}')\n",
    "list_d.reverse()\n",
    "print('정렬결과 :',list_d)"
   ]
  },
  {
   "cell_type": "markdown",
   "id": "391e8dd7",
   "metadata": {},
   "source": [
    "### 리스트 위치반환 index()"
   ]
  },
  {
   "cell_type": "code",
   "execution_count": 140,
   "id": "dd248af9",
   "metadata": {},
   "outputs": [
    {
     "name": "stdout",
     "output_type": "stream",
     "text": [
      "2\n",
      "5\n",
      "[10, 20, 30, 40, 50, 0]\n"
     ]
    }
   ],
   "source": [
    "list_a = [10,20,30,40,50]\n",
    "a = list_a.index(30)\n",
    "list_a.append(0)\n",
    "b= list_a.index(0)\n",
    "print(a)\n",
    "print(b)\n",
    "print(list_a)"
   ]
  },
  {
   "cell_type": "markdown",
   "id": "1cce3347",
   "metadata": {},
   "source": [
    "# 튜플(Tuple)\n",
    "\n",
    "- tuple은 list과 거의 같다.\n",
    "- 거의 같은데, 다른 점이 딱 2가지 있다. 읽기 전용   \n",
    "  **1) 리스트는 [ ]를 사용하고, 튜플은 ( )을 사용한다.**    \n",
    "  **2) 리스트는 생성 후에 변경이 가능하고(mutable) 튜플은 생성 후에 변경이 불가능하다.(immutable)**   \n",
    "- 절때 바뀌지 않는값(바뀌면 안되는 값..)에 튜플 자료형을 쓴다. 예) 위도, 경도....\n",
    " "
   ]
  },
  {
   "cell_type": "markdown",
   "id": "36bdea2c",
   "metadata": {},
   "source": [
    "## 기본 사용법"
   ]
  },
  {
   "cell_type": "code",
   "execution_count": 141,
   "id": "026b6719",
   "metadata": {},
   "outputs": [
    {
     "data": {
      "text/plain": [
       "((), tuple)"
      ]
     },
     "execution_count": 141,
     "metadata": {},
     "output_type": "execute_result"
    }
   ],
   "source": [
    "t1 = ()\n",
    "t1, type(t1)"
   ]
  },
  {
   "cell_type": "code",
   "execution_count": 144,
   "id": "4e0a2a15",
   "metadata": {},
   "outputs": [
    {
     "name": "stdout",
     "output_type": "stream",
     "text": [
      "1 <class 'int'>\n",
      "(1,) <class 'tuple'>\n"
     ]
    }
   ],
   "source": [
    "t2 = (1) #이렇게 하면 튜플로 인식 안하고 그냥 숫자로 인식\n",
    "print(t2, type(t2))\n",
    "\n",
    "t2 = (1,) #하나만 있는 튜플을 만들때는 쉼표를 넣어줘야한다\n",
    "print(t2, type(t2))"
   ]
  },
  {
   "cell_type": "code",
   "execution_count": 57,
   "id": "a3431063",
   "metadata": {},
   "outputs": [
    {
     "data": {
      "text/plain": [
       "((1, 2, 3), tuple)"
      ]
     },
     "execution_count": 57,
     "metadata": {},
     "output_type": "execute_result"
    }
   ],
   "source": [
    "t3 = (1,2,3)\n",
    "t3, type(t3)"
   ]
  },
  {
   "cell_type": "code",
   "execution_count": 145,
   "id": "148115ff",
   "metadata": {},
   "outputs": [
    {
     "data": {
      "text/plain": [
       "((1, 2, 3), tuple)"
      ]
     },
     "execution_count": 145,
     "metadata": {},
     "output_type": "execute_result"
    }
   ],
   "source": [
    "t4 = 1,2,3 #가로가 생략 가능하다 그래도 타입은 튜플형임\n",
    "t4, type(t4)"
   ]
  },
  {
   "cell_type": "code",
   "execution_count": 65,
   "id": "8d52fc4c",
   "metadata": {},
   "outputs": [
    {
     "data": {
      "text/plain": [
       "(('a', 'b', ('hello', 3.5)), tuple)"
      ]
     },
     "execution_count": 65,
     "metadata": {},
     "output_type": "execute_result"
    }
   ],
   "source": [
    "t5 = ('a', 'b', ('hello',3.5))\n",
    "t5, type(t5)"
   ]
  },
  {
   "cell_type": "code",
   "execution_count": 66,
   "id": "79207050",
   "metadata": {},
   "outputs": [
    {
     "data": {
      "text/plain": [
       "'a'"
      ]
     },
     "execution_count": 66,
     "metadata": {},
     "output_type": "execute_result"
    }
   ],
   "source": [
    "# 인덱스로 접근가능\n",
    "t5[0]"
   ]
  },
  {
   "cell_type": "code",
   "execution_count": 148,
   "id": "cb393081",
   "metadata": {},
   "outputs": [
    {
     "data": {
      "text/plain": [
       "('hello', 3.5)"
      ]
     },
     "execution_count": 148,
     "metadata": {},
     "output_type": "execute_result"
    }
   ],
   "source": [
    "t5 = ('a', 'b', ('hello',3.5))\n",
    "t5[-1] "
   ]
  },
  {
   "cell_type": "code",
   "execution_count": 68,
   "id": "3175650c",
   "metadata": {},
   "outputs": [
    {
     "ename": "TypeError",
     "evalue": "'tuple' object does not support item assignment",
     "output_type": "error",
     "traceback": [
      "\u001b[1;31m---------------------------------------------------------------------------\u001b[0m",
      "\u001b[1;31mTypeError\u001b[0m                                 Traceback (most recent call last)",
      "Input \u001b[1;32mIn [68]\u001b[0m, in \u001b[0;36m<cell line: 1>\u001b[1;34m()\u001b[0m\n\u001b[1;32m----> 1\u001b[0m t5[\u001b[38;5;241m0\u001b[39m] \u001b[38;5;241m=\u001b[39m \u001b[38;5;241m3\u001b[39m\n",
      "\u001b[1;31mTypeError\u001b[0m: 'tuple' object does not support item assignment"
     ]
    }
   ],
   "source": [
    "t5[0] = 3 #튜플은 값을 수정하려면 에러가난다"
   ]
  },
  {
   "cell_type": "code",
   "execution_count": 69,
   "id": "4200be1a",
   "metadata": {},
   "outputs": [
    {
     "ename": "AttributeError",
     "evalue": "'tuple' object has no attribute 'append'",
     "output_type": "error",
     "traceback": [
      "\u001b[1;31m---------------------------------------------------------------------------\u001b[0m",
      "\u001b[1;31mAttributeError\u001b[0m                            Traceback (most recent call last)",
      "Input \u001b[1;32mIn [69]\u001b[0m, in \u001b[0;36m<cell line: 1>\u001b[1;34m()\u001b[0m\n\u001b[1;32m----> 1\u001b[0m \u001b[43mt4\u001b[49m\u001b[38;5;241;43m.\u001b[39;49m\u001b[43mappend\u001b[49m(\u001b[38;5;241m1\u001b[39m)\n\u001b[0;32m      2\u001b[0m t4\u001b[38;5;241m.\u001b[39mremove(\u001b[38;5;241m1\u001b[39m)\n",
      "\u001b[1;31mAttributeError\u001b[0m: 'tuple' object has no attribute 'append'"
     ]
    }
   ],
   "source": [
    "t4.append(1) #수정하기 못하기 때문에 어펜드 리무브는 없다\n",
    "t4.remove(1)"
   ]
  },
  {
   "cell_type": "markdown",
   "id": "c9e91a56",
   "metadata": {},
   "source": [
    "## 튜플연산(+, *)"
   ]
  },
  {
   "cell_type": "code",
   "execution_count": 149,
   "id": "a4f1f5d0",
   "metadata": {},
   "outputs": [
    {
     "data": {
      "text/plain": [
       "(1, 2, 3, 4)"
      ]
     },
     "execution_count": 149,
     "metadata": {},
     "output_type": "execute_result"
    }
   ],
   "source": [
    "t1 = (1, 2)\n",
    "t2 = (3, 4)\n",
    "t1+t2"
   ]
  },
  {
   "cell_type": "code",
   "execution_count": 150,
   "id": "4d5550a0",
   "metadata": {},
   "outputs": [
    {
     "data": {
      "text/plain": [
       "(1, 2, 1, 2, 1, 2)"
      ]
     },
     "execution_count": 150,
     "metadata": {},
     "output_type": "execute_result"
    }
   ],
   "source": [
    "t1*3"
   ]
  },
  {
   "cell_type": "code",
   "execution_count": null,
   "id": "431d8cf3",
   "metadata": {},
   "outputs": [],
   "source": []
  },
  {
   "cell_type": "markdown",
   "id": "d3fd7170",
   "metadata": {},
   "source": [
    "## 튜플 언패킹\n",
    "- 튜플을 이용하여 변수를 한꺼번에 할당"
   ]
  },
  {
   "cell_type": "code",
   "execution_count": 155,
   "id": "e3f92cfa",
   "metadata": {},
   "outputs": [
    {
     "name": "stdout",
     "output_type": "stream",
     "text": [
      "100 200 hello\n",
      "<class 'int'> <class 'int'> <class 'str'>\n",
      "100 200 world\n",
      "<class 'int'> <class 'int'> <class 'str'>\n"
     ]
    }
   ],
   "source": [
    "a, b, c = (100, 200, 'hello')\n",
    "print(a, b, c)\n",
    "print(type(a), type(b), type(c))\n",
    "\n",
    "a, b, c = 100, 200, 'world'\n",
    "print(a, b, c)\n",
    "print(type(a), type(b), type(c))\n"
   ]
  },
  {
   "cell_type": "markdown",
   "id": "3df98898",
   "metadata": {},
   "source": [
    "## 기타"
   ]
  },
  {
   "cell_type": "code",
   "execution_count": 43,
   "id": "43cea0cc",
   "metadata": {
    "scrolled": false
   },
   "outputs": [
    {
     "name": "stdout",
     "output_type": "stream",
     "text": [
      "<class 'tuple'>\n",
      "<class 'list'>\n",
      "<class 'tuple'>\n"
     ]
    }
   ],
   "source": [
    "# 튜플<->list 자유롭게 변환가능\n",
    "\n",
    "a = 1, 2, 3,4\n",
    "print(type(a))\n",
    "\n",
    "b = list(a)\n",
    "print(type(b))\n",
    "\n",
    "c = tuple(b)\n",
    "print(type(c))\n",
    "\n"
   ]
  },
  {
   "cell_type": "markdown",
   "id": "449bfebe",
   "metadata": {},
   "source": [
    "# 연습문제\n",
    " - 문제를 해결하면서 리스트의 개념을 정리해 봅니다.\n",
    " - 결과물은 **print()**를 이용해서 출력합니다."
   ]
  },
  {
   "cell_type": "markdown",
   "id": "4c9af52c",
   "metadata": {},
   "source": [
    "## 아래 문제를 읽고 적절한 코드를 프로그래밍 합니다.\n",
    "- 2021년 5월 첫째주 영화 예매 순위 기준 top3는 다음과 같습니다. \n",
    "\n",
    "### 영화 제목을 movie_rank 이름의 리스트에 저장합니다.(순위 정보는 저장하지 않습니다.)\n",
    "\n",
    "| 순위 | 영화제목 |\n",
    "| ---- | :---- | \n",
    "|  1 |  크루즈 패밀리 |  \n",
    "|  2 |  더 스파이 | \n",
    "|  3 |  미나리 | "
   ]
  },
  {
   "cell_type": "code",
   "execution_count": 157,
   "id": "bc3d8dc5",
   "metadata": {},
   "outputs": [
    {
     "data": {
      "text/plain": [
       "['크루즈 패밀리', '더 스파이', '미나리']"
      ]
     },
     "execution_count": 157,
     "metadata": {},
     "output_type": "execute_result"
    }
   ],
   "source": [
    "movie_rank = ['크루즈 패밀리','더 스파이','미나리']\n",
    "print (movie_rank)"
   ]
  },
  {
   "cell_type": "markdown",
   "id": "94ca0f8f",
   "metadata": {},
   "source": [
    "### movie_rank에 '비와 당신의 이야기'를 추가합니다."
   ]
  },
  {
   "cell_type": "code",
   "execution_count": 158,
   "id": "c2a07bfe",
   "metadata": {},
   "outputs": [
    {
     "data": {
      "text/plain": [
       "['크루즈 패밀리', '더 스파이', '미나리', '비와 당산의 이야기']"
      ]
     },
     "execution_count": 158,
     "metadata": {},
     "output_type": "execute_result"
    }
   ],
   "source": [
    "movie_rank.append('비와 당산의 이야기')\n",
    "print (movie_rank)"
   ]
  },
  {
   "cell_type": "markdown",
   "id": "a3ec09f5",
   "metadata": {},
   "source": [
    "### \"명탐정 코난\"을 \"더 스파이\"와 \"미나리\" 사이에 추가합니다."
   ]
  },
  {
   "cell_type": "code",
   "execution_count": 163,
   "id": "25d60c50",
   "metadata": {},
   "outputs": [
    {
     "data": {
      "text/plain": [
       "['크루즈 패밀리', '더 스파이', '명탐정 코난', '미나리', '비와 당산의 이야기']"
      ]
     },
     "execution_count": 163,
     "metadata": {},
     "output_type": "execute_result"
    }
   ],
   "source": [
    "movie_rank.insert (2,'명탐정 코난')\n",
    "print (movie_rank)"
   ]
  },
  {
   "cell_type": "markdown",
   "id": "525a40ab",
   "metadata": {},
   "source": [
    "### movie_rank 리스트에서 '크루즈 패밀리'를 삭제합니다."
   ]
  },
  {
   "cell_type": "code",
   "execution_count": 111,
   "id": "0903a531",
   "metadata": {},
   "outputs": [
    {
     "name": "stdout",
     "output_type": "stream",
     "text": [
      "['더 스파이', '명탐정 코난', '미나리']\n"
     ]
    }
   ],
   "source": [
    "movie_rank = ['크루즈 패밀리', '더 스파이', '명탐정 코난', '미나리']\n",
    "movie_rank.remove('크루즈 패밀리')\n",
    "print (movie_rank)"
   ]
  },
  {
   "cell_type": "code",
   "execution_count": 114,
   "id": "7ac1ede1",
   "metadata": {},
   "outputs": [
    {
     "name": "stdout",
     "output_type": "stream",
     "text": [
      "['더 스파이', '명탐정 코난', '미나리']\n"
     ]
    }
   ],
   "source": [
    "movie_rank = ['크루즈 패밀리', '더 스파이', '명탐정 코난', '미나리']\n",
    "del (movie_rank[0])\n",
    "print (movie_rank)"
   ]
  },
  {
   "cell_type": "markdown",
   "id": "71e19b96",
   "metadata": {},
   "source": [
    "### movie_rank에서 '미나리'를 삭제합니다."
   ]
  },
  {
   "cell_type": "code",
   "execution_count": 167,
   "id": "5c087359",
   "metadata": {},
   "outputs": [
    {
     "data": {
      "text/plain": [
       "['크루즈 패밀리', '더 스파이', '명탐정 코난']"
      ]
     },
     "execution_count": 167,
     "metadata": {},
     "output_type": "execute_result"
    }
   ],
   "source": [
    "movie_rank = ['크루즈 패밀리', '더 스파이', '명탐정 코난', '미나리']\n",
    "movie_rank.pop()\n",
    "print(movie_rank)"
   ]
  },
  {
   "cell_type": "markdown",
   "id": "18ae6d5b",
   "metadata": {},
   "source": [
    "##  다음의 조건을 만족하는 list_c를 생성합니다.\n",
    "- list_a = [1, 2, 3, 4], list_b = [5, 6, 7, 8] \n",
    "- list_c 는 list_a 와 list_b 값을 모두 가지고 있다.(list_a와 list_b를 연결)"
   ]
  },
  {
   "cell_type": "code",
   "execution_count": 115,
   "id": "a9c87f4f",
   "metadata": {},
   "outputs": [
    {
     "name": "stdout",
     "output_type": "stream",
     "text": [
      "[1, 2, 3, 4, 5, 6, 7, 8]\n"
     ]
    }
   ],
   "source": [
    "list_a,list_b = [1,2,3,4],[5,6,7,8]\n",
    "list_c = list_a + list_b\n",
    "print (list_c)"
   ]
  },
  {
   "cell_type": "markdown",
   "id": "0e30e391",
   "metadata": {},
   "source": [
    "## menu 리스트에 저장된 요소 개수를 화면에 출력하시오.\n",
    "- menu = [\"피자\", \"김밥\", \"만두\", \"양념치킨\", \"족발\", \"피자\", \"김치만두\", \"쫄면\", \"쏘세지\", \"라면\", \"팥빙수\", \"김치전\"]"
   ]
  },
  {
   "cell_type": "code",
   "execution_count": 116,
   "id": "97b567c0",
   "metadata": {},
   "outputs": [
    {
     "name": "stdout",
     "output_type": "stream",
     "text": [
      "12\n"
     ]
    }
   ],
   "source": [
    "menu = [\"피자\", \"김밥\", \"만두\", \"양념치킨\", \"족발\", \"피자\", \"김치만두\", \"쫄면\", \"쏘세지\", \"라면\", \"팥빙수\", \"김치전\"]\n",
    "print (len(menu))"
   ]
  },
  {
   "cell_type": "markdown",
   "id": "ce011130",
   "metadata": {},
   "source": [
    "## a = [1, 2, 3, 4, 5, 6, 7, 8, 9, 10] 일때 아래 질문에 답하시오."
   ]
  },
  {
   "cell_type": "markdown",
   "id": "6124cf82",
   "metadata": {},
   "source": [
    "### 홀수만 추출하세요.(슬라이싱 사용)"
   ]
  },
  {
   "cell_type": "code",
   "execution_count": 118,
   "id": "e6612a2b",
   "metadata": {},
   "outputs": [
    {
     "name": "stdout",
     "output_type": "stream",
     "text": [
      "[1, 3, 5, 7, 9]\n"
     ]
    }
   ],
   "source": [
    "a = [1, 2, 3, 4, 5, 6, 7, 8, 9, 10]\n",
    "print (a[::2])"
   ]
  },
  {
   "cell_type": "markdown",
   "id": "ce805e0e",
   "metadata": {},
   "source": [
    "### 짝수만 추출하세요.(슬라이싱 사용)"
   ]
  },
  {
   "cell_type": "code",
   "execution_count": 119,
   "id": "6cabf740",
   "metadata": {},
   "outputs": [
    {
     "name": "stdout",
     "output_type": "stream",
     "text": [
      "[2, 4, 6, 8, 10]\n"
     ]
    }
   ],
   "source": [
    "a = [1, 2, 3, 4, 5, 6, 7, 8, 9, 10]\n",
    "print (a[1::2])"
   ]
  },
  {
   "cell_type": "markdown",
   "id": "9940e972",
   "metadata": {},
   "source": [
    "### 리스트를 거꾸로 출력하시오.(슬라이싱 사용)"
   ]
  },
  {
   "cell_type": "code",
   "execution_count": 123,
   "id": "3a85ee75",
   "metadata": {},
   "outputs": [
    {
     "name": "stdout",
     "output_type": "stream",
     "text": [
      "[10, 9, 8, 7, 6, 5, 4, 3, 2, 1]\n"
     ]
    }
   ],
   "source": [
    "a = [1, 2, 3, 4, 5, 6, 7, 8, 9, 10]\n",
    "b = a[::-1]\n",
    "print (b)"
   ]
  },
  {
   "cell_type": "markdown",
   "id": "12d02fd2",
   "metadata": {},
   "source": [
    "### 리스트를 거꾸로 출력하시오.(reverse() 사용)"
   ]
  },
  {
   "cell_type": "code",
   "execution_count": 122,
   "id": "ab4025b2",
   "metadata": {
    "scrolled": true
   },
   "outputs": [
    {
     "name": "stdout",
     "output_type": "stream",
     "text": [
      "[10, 9, 8, 7, 6, 5, 4, 3, 2, 1]\n"
     ]
    }
   ],
   "source": [
    "a = [1, 2, 3, 4, 5, 6, 7, 8, 9, 10]\n",
    "a.reverse()\n",
    "print (a)"
   ]
  },
  {
   "cell_type": "markdown",
   "id": "a4c9b128",
   "metadata": {},
   "source": [
    "## list_a를 내림차순으로 정렬합니다."
   ]
  },
  {
   "cell_type": "code",
   "execution_count": 129,
   "id": "1e1ae6b7",
   "metadata": {
    "scrolled": true
   },
   "outputs": [
    {
     "name": "stdout",
     "output_type": "stream",
     "text": [
      "정렬전 :[45, 65, 35, 100, 20]\n",
      "정렬후 :[100, 65, 45, 35, 20]\n"
     ]
    }
   ],
   "source": [
    "list_a = [45, 65, 35, 100, 20]\n",
    "print (f'정렬전 :{list_a}')\n",
    "list_a.sort(reverse=True)\n",
    "print (f'정렬후 :{list_a}')"
   ]
  },
  {
   "cell_type": "code",
   "execution_count": 125,
   "id": "29e31f61",
   "metadata": {},
   "outputs": [
    {
     "data": {
      "text/plain": [
       "[20, 35, 45, 65, 100]"
      ]
     },
     "execution_count": 125,
     "metadata": {},
     "output_type": "execute_result"
    }
   ],
   "source": [
    "list_a = [45, 65, 35, 100, 20]\n",
    "list_a.sort()\n",
    "list_a"
   ]
  },
  {
   "cell_type": "markdown",
   "id": "5d141e63",
   "metadata": {},
   "source": [
    "## 변수 company 가 아래와 같을 때 적절한 코드를 프로그래밍 하세요.\n",
    "- company = 'Samsung/Naver/LG/Kakao/SK'"
   ]
  },
  {
   "cell_type": "markdown",
   "id": "2c9a46e3",
   "metadata": {},
   "source": [
    "### company = ['Samsung', 'Naver', 'LG', 'Kakao', 'SK'] 의 형태로 출력하시오.(str함수이용)"
   ]
  },
  {
   "cell_type": "code",
   "execution_count": 130,
   "id": "3039225e",
   "metadata": {},
   "outputs": [
    {
     "name": "stdout",
     "output_type": "stream",
     "text": [
      "['Samsung', 'Naver', 'LG', 'Kakao', 'SK']\n"
     ]
    }
   ],
   "source": [
    "company = 'Samsung/Naver/LG/Kakao/SK'\n",
    "company = company.split('/')\n",
    "print(company)\n",
    "\n"
   ]
  },
  {
   "cell_type": "code",
   "execution_count": 96,
   "id": "1666bc9e",
   "metadata": {},
   "outputs": [
    {
     "name": "stdout",
     "output_type": "stream",
     "text": [
      "삼성전자/애플/샤오미\n",
      "\n",
      "['삼성전자', '애플', '샤오미']\n",
      "\n",
      "삼성전자★애플★샤오미\n"
     ]
    }
   ],
   "source": [
    "# s1 = '삼성전자/애플/샤오미'\n",
    "# print(s1)\n",
    "# print()\n",
    "# s1 = s1.split('/')\n",
    "# print(s1)\n",
    "# print()\n",
    "# s1 = \"★\".join(s1)\n",
    "# print(s1)"
   ]
  },
  {
   "cell_type": "markdown",
   "id": "83a182dd",
   "metadata": {},
   "source": [
    "### company = ['Samsung', 'Naver', 'LG', 'Kakao', 'SK'] 를 company = 'Samsung%Naver%LG%Kakao%SK' 형태로 출력하시오."
   ]
  },
  {
   "cell_type": "code",
   "execution_count": 135,
   "id": "0d55a25d",
   "metadata": {},
   "outputs": [
    {
     "name": "stdout",
     "output_type": "stream",
     "text": [
      "Samsung%Naver%LG%Kakao%SK\n"
     ]
    }
   ],
   "source": [
    "company = ['Samsung', 'Naver', 'LG', 'Kakao', 'SK']\n",
    "company = '%'.join(company)\n",
    "print(company)"
   ]
  },
  {
   "cell_type": "markdown",
   "id": "15001ed5",
   "metadata": {},
   "source": [
    "## 다음 문제을 읽고 답을 완성하세요.\n",
    "### 숫자 1이 저장된 튜플 t를 생성합니다."
   ]
  },
  {
   "cell_type": "code",
   "execution_count": 137,
   "id": "5ea6aaf7",
   "metadata": {},
   "outputs": [
    {
     "data": {
      "text/plain": [
       "(1,)"
      ]
     },
     "execution_count": 137,
     "metadata": {},
     "output_type": "execute_result"
    }
   ],
   "source": [
    "t=(1,)\n",
    "t"
   ]
  },
  {
   "cell_type": "code",
   "execution_count": 138,
   "id": "fef66b18",
   "metadata": {},
   "outputs": [
    {
     "data": {
      "text/plain": [
       "(1,)"
      ]
     },
     "execution_count": 138,
     "metadata": {},
     "output_type": "execute_result"
    }
   ],
   "source": [
    "t=1,\n",
    "t"
   ]
  },
  {
   "cell_type": "markdown",
   "id": "5a587862",
   "metadata": {},
   "source": [
    "### 다음코드를 실행해보고 오류가 발행하는 원인을 설명하세요\n",
    "- 오류원인 : 변경 불가능한 자료형이기 떄문이다"
   ]
  },
  {
   "cell_type": "code",
   "execution_count": 139,
   "id": "88f7dd8c",
   "metadata": {},
   "outputs": [
    {
     "ename": "TypeError",
     "evalue": "'tuple' object does not support item assignment",
     "output_type": "error",
     "traceback": [
      "\u001b[1;31m---------------------------------------------------------------------------\u001b[0m",
      "\u001b[1;31mTypeError\u001b[0m                                 Traceback (most recent call last)",
      "\u001b[1;32md:\\gorororo\\PYTHONSTUDY\\python training\\04. 자료형(list, tuple)_실습_rak.ipynb Cell 116'\u001b[0m in \u001b[0;36m<cell line: 2>\u001b[1;34m()\u001b[0m\n\u001b[0;32m      <a href='vscode-notebook-cell:/d%3A/gorororo/PYTHONSTUDY/python%20training/04.%20%EC%9E%90%EB%A3%8C%ED%98%95%28list%2C%20tuple%29_%EC%8B%A4%EC%8A%B5_rak.ipynb#ch0000112?line=0'>1</a>\u001b[0m t \u001b[39m=\u001b[39m (\u001b[39m1\u001b[39m, \u001b[39m2\u001b[39m, \u001b[39m3\u001b[39m)\n\u001b[1;32m----> <a href='vscode-notebook-cell:/d%3A/gorororo/PYTHONSTUDY/python%20training/04.%20%EC%9E%90%EB%A3%8C%ED%98%95%28list%2C%20tuple%29_%EC%8B%A4%EC%8A%B5_rak.ipynb#ch0000112?line=1'>2</a>\u001b[0m t[\u001b[39m0\u001b[39m] \u001b[39m=\u001b[39m \u001b[39m'\u001b[39m\u001b[39ma\u001b[39m\u001b[39m'\u001b[39m\n",
      "\u001b[1;31mTypeError\u001b[0m: 'tuple' object does not support item assignment"
     ]
    }
   ],
   "source": [
    "t = (1, 2, 3)\n",
    "t[0] = 'a'\n",
    "\n",
    "\n",
    "#튜플 은 안에 내용을 변경할수 없어서 에러가 난다"
   ]
  },
  {
   "cell_type": "markdown",
   "id": "5b38842a",
   "metadata": {},
   "source": [
    "### 아래 변수 t의 자료형은?\n",
    "- 답변 : "
   ]
  },
  {
   "cell_type": "code",
   "execution_count": 184,
   "id": "94068a00",
   "metadata": {},
   "outputs": [
    {
     "name": "stdout",
     "output_type": "stream",
     "text": [
      "<class 'tuple'>\n"
     ]
    }
   ],
   "source": [
    "t = 1, 2, 3, 4\n",
    "print(type(t))"
   ]
  },
  {
   "cell_type": "markdown",
   "id": "20bc387e",
   "metadata": {},
   "source": [
    "### 다음 리스트를 튜플로 변경합니다.. (company 자체를 변경해도 되고, 새로운 변수를 만들어도 됩니다)"
   ]
  },
  {
   "cell_type": "code",
   "execution_count": 183,
   "id": "f5959aba",
   "metadata": {
    "scrolled": true
   },
   "outputs": [
    {
     "name": "stdout",
     "output_type": "stream",
     "text": [
      "<class 'tuple'>\n"
     ]
    }
   ],
   "source": [
    "company = ['삼성', '애플', '샤오미']\n",
    "c= tuple(company)\n",
    "print(type(c))\n"
   ]
  }
 ],
 "metadata": {
  "interpreter": {
   "hash": "9e030b06df8535e05113b5fce651d4155290bdf1b2777b3d701a1501abf85227"
  },
  "kernelspec": {
   "display_name": "Python 3.9.12 ('base')",
   "language": "python",
   "name": "python3"
  },
  "language_info": {
   "codemirror_mode": {
    "name": "ipython",
    "version": 3
   },
   "file_extension": ".py",
   "mimetype": "text/x-python",
   "name": "python",
   "nbconvert_exporter": "python",
   "pygments_lexer": "ipython3",
   "version": "3.9.12"
  },
  "toc": {
   "base_numbering": 1,
   "nav_menu": {},
   "number_sections": true,
   "sideBar": true,
   "skip_h1_title": false,
   "title_cell": "Table of Contents",
   "title_sidebar": "Contents",
   "toc_cell": false,
   "toc_position": {},
   "toc_section_display": true,
   "toc_window_display": true
  }
 },
 "nbformat": 4,
 "nbformat_minor": 5
}
